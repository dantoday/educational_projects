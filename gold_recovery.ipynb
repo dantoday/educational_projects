{
 "cells": [
  {
   "cell_type": "markdown",
   "metadata": {},
   "source": [
    "# Восстановление золота из руды"
   ]
  },
  {
   "cell_type": "markdown",
   "metadata": {},
   "source": [
    "Необходимо подготовить прототип модели машинного обучения для компании, разрабатывающей решения для эффективной работы промышленных предприятий.\n",
    "\n",
    "Модель должна предсказать коэффициент восстановления золота из золотосодержащей руды. Мы будем использовать данные с параметрами добычи и очистки. \n",
    "\n",
    "Модель поможет оптимизировать производство, чтобы не запускать предприятие с убыточными характеристиками.\n",
    "\n",
    "Нам нужно:\n",
    "\n",
    "1. Подготовить данные;\n",
    "2. Провести исследовательский анализ данных;\n",
    "3. Построить и обучить модель.\n",
    "\n",
    "\n",
    "**Описание данных**\n",
    "```\n",
    "Технологический процесс\n",
    "\n",
    "Rougher feed — исходное сырье\n",
    "Rougher additions (или reagent additions) — флотационные реагенты: Xanthate, Sulphate, Depressant\n",
    "Xanthate **— ксантогенат (промотер, или активатор флотации);\n",
    "Sulphate — сульфат (на данном производстве сульфид натрия);\n",
    "Depressant — депрессант (силикат натрия).\n",
    "Rougher process (англ. «грубый процесс») — флотация\n",
    "Rougher tails — отвальные хвосты\n",
    "Float banks — флотационная установка\n",
    "Cleaner process — очистка\n",
    "Rougher Au — черновой концентрат золота\n",
    "Final Au — финальный концентрат золота\n",
    "Параметры этапов\n",
    "air amount — объём воздуха\n",
    "fluid levels — уровень жидкости\n",
    "feed size — размер гранул сырья\n",
    "feed rate — скорость подачи\n",
    "```\n",
    "**Наименование признаков**\n",
    "```\n",
    "Наименование признаков должно быть такое:\n",
    "[этап].[тип_параметра].[название_параметра]\n",
    "Пример: rougher.input.feed_ag\n",
    "\n",
    "Возможные значения для блока [этап]:\n",
    "rougher — флотация\n",
    "primary_cleaner — первичная очистка\n",
    "secondary_cleaner — вторичная очистка\n",
    "final — финальные характеристики\n",
    "Возможные значения для блока [тип_параметра]:\n",
    "input — параметры сырья\n",
    "output — параметры продукта\n",
    "state — параметры, характеризующие текущее состояние этапа\n",
    "calculation — расчётные характеристики\n",
    "\n",
    "```"
   ]
  },
  {
   "cell_type": "markdown",
   "metadata": {},
   "source": [
    "## Подготовка данных"
   ]
  },
  {
   "cell_type": "markdown",
   "metadata": {},
   "source": [
    "Импортируем необходимые библиотеки:"
   ]
  },
  {
   "cell_type": "code",
   "execution_count": 1,
   "metadata": {},
   "outputs": [],
   "source": [
    "import pandas as pd\n",
    "import numpy as np\n",
    "\n",
    "import matplotlib.pyplot as plt\n",
    "\n",
    "from scipy import stats as st\n",
    "\n",
    "from sklearn.metrics import mean_absolute_error, make_scorer\n",
    "from sklearn.model_selection import cross_val_score, GridSearchCV\n",
    "from sklearn.linear_model import LinearRegression\n",
    "from sklearn.tree import DecisionTreeRegressor\n",
    "from sklearn.ensemble import RandomForestRegressor\n",
    "from sklearn.preprocessing import StandardScaler\n",
    "from sklearn.dummy import DummyRegressor"
   ]
  },
  {
   "cell_type": "markdown",
   "metadata": {},
   "source": [
    "### Откроем файлы и изучим их"
   ]
  },
  {
   "cell_type": "markdown",
   "metadata": {},
   "source": [
    "Загрузим базы данных:"
   ]
  },
  {
   "cell_type": "code",
   "execution_count": 2,
   "metadata": {},
   "outputs": [],
   "source": [
    "data_train = pd.read_csv('/datasets/gold_recovery_train_new.csv')\n",
    "data_test = pd.read_csv('/datasets/gold_recovery_test_new.csv')\n",
    "data_full = pd.read_csv('/datasets/gold_recovery_full_new.csv')"
   ]
  },
  {
   "cell_type": "markdown",
   "metadata": {},
   "source": [
    "Изучим с помощью метода `info`:"
   ]
  },
  {
   "cell_type": "code",
   "execution_count": 3,
   "metadata": {
    "scrolled": true
   },
   "outputs": [
    {
     "name": "stdout",
     "output_type": "stream",
     "text": [
      "<class 'pandas.core.frame.DataFrame'>\n",
      "RangeIndex: 14149 entries, 0 to 14148\n",
      "Data columns (total 87 columns):\n",
      " #   Column                                              Non-Null Count  Dtype  \n",
      "---  ------                                              --------------  -----  \n",
      " 0   date                                                14149 non-null  object \n",
      " 1   final.output.concentrate_ag                         14148 non-null  float64\n",
      " 2   final.output.concentrate_pb                         14148 non-null  float64\n",
      " 3   final.output.concentrate_sol                        13938 non-null  float64\n",
      " 4   final.output.concentrate_au                         14149 non-null  float64\n",
      " 5   final.output.recovery                               14149 non-null  float64\n",
      " 6   final.output.tail_ag                                14149 non-null  float64\n",
      " 7   final.output.tail_pb                                14049 non-null  float64\n",
      " 8   final.output.tail_sol                               14144 non-null  float64\n",
      " 9   final.output.tail_au                                14149 non-null  float64\n",
      " 10  primary_cleaner.input.sulfate                       14129 non-null  float64\n",
      " 11  primary_cleaner.input.depressant                    14117 non-null  float64\n",
      " 12  primary_cleaner.input.feed_size                     14149 non-null  float64\n",
      " 13  primary_cleaner.input.xanthate                      14049 non-null  float64\n",
      " 14  primary_cleaner.output.concentrate_ag               14149 non-null  float64\n",
      " 15  primary_cleaner.output.concentrate_pb               14063 non-null  float64\n",
      " 16  primary_cleaner.output.concentrate_sol              13863 non-null  float64\n",
      " 17  primary_cleaner.output.concentrate_au               14149 non-null  float64\n",
      " 18  primary_cleaner.output.tail_ag                      14148 non-null  float64\n",
      " 19  primary_cleaner.output.tail_pb                      14134 non-null  float64\n",
      " 20  primary_cleaner.output.tail_sol                     14103 non-null  float64\n",
      " 21  primary_cleaner.output.tail_au                      14149 non-null  float64\n",
      " 22  primary_cleaner.state.floatbank8_a_air              14145 non-null  float64\n",
      " 23  primary_cleaner.state.floatbank8_a_level            14148 non-null  float64\n",
      " 24  primary_cleaner.state.floatbank8_b_air              14145 non-null  float64\n",
      " 25  primary_cleaner.state.floatbank8_b_level            14148 non-null  float64\n",
      " 26  primary_cleaner.state.floatbank8_c_air              14147 non-null  float64\n",
      " 27  primary_cleaner.state.floatbank8_c_level            14148 non-null  float64\n",
      " 28  primary_cleaner.state.floatbank8_d_air              14146 non-null  float64\n",
      " 29  primary_cleaner.state.floatbank8_d_level            14148 non-null  float64\n",
      " 30  rougher.calculation.sulfate_to_au_concentrate       14148 non-null  float64\n",
      " 31  rougher.calculation.floatbank10_sulfate_to_au_feed  14148 non-null  float64\n",
      " 32  rougher.calculation.floatbank11_sulfate_to_au_feed  14148 non-null  float64\n",
      " 33  rougher.calculation.au_pb_ratio                     14149 non-null  float64\n",
      " 34  rougher.input.feed_ag                               14149 non-null  float64\n",
      " 35  rougher.input.feed_pb                               14049 non-null  float64\n",
      " 36  rougher.input.feed_rate                             14141 non-null  float64\n",
      " 37  rougher.input.feed_size                             14005 non-null  float64\n",
      " 38  rougher.input.feed_sol                              14071 non-null  float64\n",
      " 39  rougher.input.feed_au                               14149 non-null  float64\n",
      " 40  rougher.input.floatbank10_sulfate                   14120 non-null  float64\n",
      " 41  rougher.input.floatbank10_xanthate                  14141 non-null  float64\n",
      " 42  rougher.input.floatbank11_sulfate                   14113 non-null  float64\n",
      " 43  rougher.input.floatbank11_xanthate                  13721 non-null  float64\n",
      " 44  rougher.output.concentrate_ag                       14149 non-null  float64\n",
      " 45  rougher.output.concentrate_pb                       14149 non-null  float64\n",
      " 46  rougher.output.concentrate_sol                      14127 non-null  float64\n",
      " 47  rougher.output.concentrate_au                       14149 non-null  float64\n",
      " 48  rougher.output.recovery                             14149 non-null  float64\n",
      " 49  rougher.output.tail_ag                              14148 non-null  float64\n",
      " 50  rougher.output.tail_pb                              14149 non-null  float64\n",
      " 51  rougher.output.tail_sol                             14149 non-null  float64\n",
      " 52  rougher.output.tail_au                              14149 non-null  float64\n",
      " 53  rougher.state.floatbank10_a_air                     14148 non-null  float64\n",
      " 54  rougher.state.floatbank10_a_level                   14148 non-null  float64\n",
      " 55  rougher.state.floatbank10_b_air                     14148 non-null  float64\n",
      " 56  rougher.state.floatbank10_b_level                   14148 non-null  float64\n",
      " 57  rougher.state.floatbank10_c_air                     14148 non-null  float64\n",
      " 58  rougher.state.floatbank10_c_level                   14148 non-null  float64\n",
      " 59  rougher.state.floatbank10_d_air                     14149 non-null  float64\n",
      " 60  rougher.state.floatbank10_d_level                   14149 non-null  float64\n",
      " 61  rougher.state.floatbank10_e_air                     13713 non-null  float64\n",
      " 62  rougher.state.floatbank10_e_level                   14149 non-null  float64\n",
      " 63  rougher.state.floatbank10_f_air                     14149 non-null  float64\n",
      " 64  rougher.state.floatbank10_f_level                   14149 non-null  float64\n",
      " 65  secondary_cleaner.output.tail_ag                    14147 non-null  float64\n",
      " 66  secondary_cleaner.output.tail_pb                    14139 non-null  float64\n",
      " 67  secondary_cleaner.output.tail_sol                   12544 non-null  float64\n",
      " 68  secondary_cleaner.output.tail_au                    14149 non-null  float64\n",
      " 69  secondary_cleaner.state.floatbank2_a_air            13932 non-null  float64\n",
      " 70  secondary_cleaner.state.floatbank2_a_level          14148 non-null  float64\n",
      " 71  secondary_cleaner.state.floatbank2_b_air            14128 non-null  float64\n",
      " 72  secondary_cleaner.state.floatbank2_b_level          14148 non-null  float64\n",
      " 73  secondary_cleaner.state.floatbank3_a_air            14145 non-null  float64\n",
      " 74  secondary_cleaner.state.floatbank3_a_level          14148 non-null  float64\n",
      " 75  secondary_cleaner.state.floatbank3_b_air            14148 non-null  float64\n",
      " 76  secondary_cleaner.state.floatbank3_b_level          14148 non-null  float64\n",
      " 77  secondary_cleaner.state.floatbank4_a_air            14143 non-null  float64\n",
      " 78  secondary_cleaner.state.floatbank4_a_level          14148 non-null  float64\n",
      " 79  secondary_cleaner.state.floatbank4_b_air            14148 non-null  float64\n",
      " 80  secondary_cleaner.state.floatbank4_b_level          14148 non-null  float64\n",
      " 81  secondary_cleaner.state.floatbank5_a_air            14148 non-null  float64\n",
      " 82  secondary_cleaner.state.floatbank5_a_level          14148 non-null  float64\n",
      " 83  secondary_cleaner.state.floatbank5_b_air            14148 non-null  float64\n",
      " 84  secondary_cleaner.state.floatbank5_b_level          14148 non-null  float64\n",
      " 85  secondary_cleaner.state.floatbank6_a_air            14147 non-null  float64\n",
      " 86  secondary_cleaner.state.floatbank6_a_level          14148 non-null  float64\n",
      "dtypes: float64(86), object(1)\n",
      "memory usage: 9.4+ MB\n"
     ]
    }
   ],
   "source": [
    "data_train.info()"
   ]
  },
  {
   "cell_type": "code",
   "execution_count": 4,
   "metadata": {
    "scrolled": true
   },
   "outputs": [
    {
     "name": "stdout",
     "output_type": "stream",
     "text": [
      "<class 'pandas.core.frame.DataFrame'>\n",
      "RangeIndex: 5290 entries, 0 to 5289\n",
      "Data columns (total 53 columns):\n",
      " #   Column                                      Non-Null Count  Dtype  \n",
      "---  ------                                      --------------  -----  \n",
      " 0   date                                        5290 non-null   object \n",
      " 1   primary_cleaner.input.sulfate               5286 non-null   float64\n",
      " 2   primary_cleaner.input.depressant            5285 non-null   float64\n",
      " 3   primary_cleaner.input.feed_size             5290 non-null   float64\n",
      " 4   primary_cleaner.input.xanthate              5286 non-null   float64\n",
      " 5   primary_cleaner.state.floatbank8_a_air      5290 non-null   float64\n",
      " 6   primary_cleaner.state.floatbank8_a_level    5290 non-null   float64\n",
      " 7   primary_cleaner.state.floatbank8_b_air      5290 non-null   float64\n",
      " 8   primary_cleaner.state.floatbank8_b_level    5290 non-null   float64\n",
      " 9   primary_cleaner.state.floatbank8_c_air      5290 non-null   float64\n",
      " 10  primary_cleaner.state.floatbank8_c_level    5290 non-null   float64\n",
      " 11  primary_cleaner.state.floatbank8_d_air      5290 non-null   float64\n",
      " 12  primary_cleaner.state.floatbank8_d_level    5290 non-null   float64\n",
      " 13  rougher.input.feed_ag                       5290 non-null   float64\n",
      " 14  rougher.input.feed_pb                       5290 non-null   float64\n",
      " 15  rougher.input.feed_rate                     5287 non-null   float64\n",
      " 16  rougher.input.feed_size                     5289 non-null   float64\n",
      " 17  rougher.input.feed_sol                      5269 non-null   float64\n",
      " 18  rougher.input.feed_au                       5290 non-null   float64\n",
      " 19  rougher.input.floatbank10_sulfate           5285 non-null   float64\n",
      " 20  rougher.input.floatbank10_xanthate          5290 non-null   float64\n",
      " 21  rougher.input.floatbank11_sulfate           5282 non-null   float64\n",
      " 22  rougher.input.floatbank11_xanthate          5265 non-null   float64\n",
      " 23  rougher.state.floatbank10_a_air             5290 non-null   float64\n",
      " 24  rougher.state.floatbank10_a_level           5290 non-null   float64\n",
      " 25  rougher.state.floatbank10_b_air             5290 non-null   float64\n",
      " 26  rougher.state.floatbank10_b_level           5290 non-null   float64\n",
      " 27  rougher.state.floatbank10_c_air             5290 non-null   float64\n",
      " 28  rougher.state.floatbank10_c_level           5290 non-null   float64\n",
      " 29  rougher.state.floatbank10_d_air             5290 non-null   float64\n",
      " 30  rougher.state.floatbank10_d_level           5290 non-null   float64\n",
      " 31  rougher.state.floatbank10_e_air             5290 non-null   float64\n",
      " 32  rougher.state.floatbank10_e_level           5290 non-null   float64\n",
      " 33  rougher.state.floatbank10_f_air             5290 non-null   float64\n",
      " 34  rougher.state.floatbank10_f_level           5290 non-null   float64\n",
      " 35  secondary_cleaner.state.floatbank2_a_air    5287 non-null   float64\n",
      " 36  secondary_cleaner.state.floatbank2_a_level  5290 non-null   float64\n",
      " 37  secondary_cleaner.state.floatbank2_b_air    5288 non-null   float64\n",
      " 38  secondary_cleaner.state.floatbank2_b_level  5290 non-null   float64\n",
      " 39  secondary_cleaner.state.floatbank3_a_air    5281 non-null   float64\n",
      " 40  secondary_cleaner.state.floatbank3_a_level  5290 non-null   float64\n",
      " 41  secondary_cleaner.state.floatbank3_b_air    5290 non-null   float64\n",
      " 42  secondary_cleaner.state.floatbank3_b_level  5290 non-null   float64\n",
      " 43  secondary_cleaner.state.floatbank4_a_air    5290 non-null   float64\n",
      " 44  secondary_cleaner.state.floatbank4_a_level  5290 non-null   float64\n",
      " 45  secondary_cleaner.state.floatbank4_b_air    5290 non-null   float64\n",
      " 46  secondary_cleaner.state.floatbank4_b_level  5290 non-null   float64\n",
      " 47  secondary_cleaner.state.floatbank5_a_air    5290 non-null   float64\n",
      " 48  secondary_cleaner.state.floatbank5_a_level  5290 non-null   float64\n",
      " 49  secondary_cleaner.state.floatbank5_b_air    5290 non-null   float64\n",
      " 50  secondary_cleaner.state.floatbank5_b_level  5290 non-null   float64\n",
      " 51  secondary_cleaner.state.floatbank6_a_air    5290 non-null   float64\n",
      " 52  secondary_cleaner.state.floatbank6_a_level  5290 non-null   float64\n",
      "dtypes: float64(52), object(1)\n",
      "memory usage: 2.1+ MB\n"
     ]
    }
   ],
   "source": [
    "data_test.info()"
   ]
  },
  {
   "cell_type": "code",
   "execution_count": 5,
   "metadata": {
    "scrolled": true
   },
   "outputs": [
    {
     "name": "stdout",
     "output_type": "stream",
     "text": [
      "<class 'pandas.core.frame.DataFrame'>\n",
      "RangeIndex: 19439 entries, 0 to 19438\n",
      "Data columns (total 87 columns):\n",
      " #   Column                                              Non-Null Count  Dtype  \n",
      "---  ------                                              --------------  -----  \n",
      " 0   date                                                19439 non-null  object \n",
      " 1   final.output.concentrate_ag                         19438 non-null  float64\n",
      " 2   final.output.concentrate_pb                         19438 non-null  float64\n",
      " 3   final.output.concentrate_sol                        19228 non-null  float64\n",
      " 4   final.output.concentrate_au                         19439 non-null  float64\n",
      " 5   final.output.recovery                               19439 non-null  float64\n",
      " 6   final.output.tail_ag                                19438 non-null  float64\n",
      " 7   final.output.tail_pb                                19338 non-null  float64\n",
      " 8   final.output.tail_sol                               19433 non-null  float64\n",
      " 9   final.output.tail_au                                19439 non-null  float64\n",
      " 10  primary_cleaner.input.sulfate                       19415 non-null  float64\n",
      " 11  primary_cleaner.input.depressant                    19402 non-null  float64\n",
      " 12  primary_cleaner.input.feed_size                     19439 non-null  float64\n",
      " 13  primary_cleaner.input.xanthate                      19335 non-null  float64\n",
      " 14  primary_cleaner.output.concentrate_ag               19439 non-null  float64\n",
      " 15  primary_cleaner.output.concentrate_pb               19323 non-null  float64\n",
      " 16  primary_cleaner.output.concentrate_sol              19069 non-null  float64\n",
      " 17  primary_cleaner.output.concentrate_au               19439 non-null  float64\n",
      " 18  primary_cleaner.output.tail_ag                      19435 non-null  float64\n",
      " 19  primary_cleaner.output.tail_pb                      19418 non-null  float64\n",
      " 20  primary_cleaner.output.tail_sol                     19377 non-null  float64\n",
      " 21  primary_cleaner.output.tail_au                      19439 non-null  float64\n",
      " 22  primary_cleaner.state.floatbank8_a_air              19435 non-null  float64\n",
      " 23  primary_cleaner.state.floatbank8_a_level            19438 non-null  float64\n",
      " 24  primary_cleaner.state.floatbank8_b_air              19435 non-null  float64\n",
      " 25  primary_cleaner.state.floatbank8_b_level            19438 non-null  float64\n",
      " 26  primary_cleaner.state.floatbank8_c_air              19437 non-null  float64\n",
      " 27  primary_cleaner.state.floatbank8_c_level            19438 non-null  float64\n",
      " 28  primary_cleaner.state.floatbank8_d_air              19436 non-null  float64\n",
      " 29  primary_cleaner.state.floatbank8_d_level            19438 non-null  float64\n",
      " 30  rougher.calculation.sulfate_to_au_concentrate       19437 non-null  float64\n",
      " 31  rougher.calculation.floatbank10_sulfate_to_au_feed  19437 non-null  float64\n",
      " 32  rougher.calculation.floatbank11_sulfate_to_au_feed  19437 non-null  float64\n",
      " 33  rougher.calculation.au_pb_ratio                     19439 non-null  float64\n",
      " 34  rougher.input.feed_ag                               19439 non-null  float64\n",
      " 35  rougher.input.feed_pb                               19339 non-null  float64\n",
      " 36  rougher.input.feed_rate                             19428 non-null  float64\n",
      " 37  rougher.input.feed_size                             19294 non-null  float64\n",
      " 38  rougher.input.feed_sol                              19340 non-null  float64\n",
      " 39  rougher.input.feed_au                               19439 non-null  float64\n",
      " 40  rougher.input.floatbank10_sulfate                   19405 non-null  float64\n",
      " 41  rougher.input.floatbank10_xanthate                  19431 non-null  float64\n",
      " 42  rougher.input.floatbank11_sulfate                   19395 non-null  float64\n",
      " 43  rougher.input.floatbank11_xanthate                  18986 non-null  float64\n",
      " 44  rougher.output.concentrate_ag                       19439 non-null  float64\n",
      " 45  rougher.output.concentrate_pb                       19439 non-null  float64\n",
      " 46  rougher.output.concentrate_sol                      19416 non-null  float64\n",
      " 47  rougher.output.concentrate_au                       19439 non-null  float64\n",
      " 48  rougher.output.recovery                             19439 non-null  float64\n",
      " 49  rougher.output.tail_ag                              19438 non-null  float64\n",
      " 50  rougher.output.tail_pb                              19439 non-null  float64\n",
      " 51  rougher.output.tail_sol                             19439 non-null  float64\n",
      " 52  rougher.output.tail_au                              19439 non-null  float64\n",
      " 53  rougher.state.floatbank10_a_air                     19438 non-null  float64\n",
      " 54  rougher.state.floatbank10_a_level                   19438 non-null  float64\n",
      " 55  rougher.state.floatbank10_b_air                     19438 non-null  float64\n",
      " 56  rougher.state.floatbank10_b_level                   19438 non-null  float64\n",
      " 57  rougher.state.floatbank10_c_air                     19438 non-null  float64\n",
      " 58  rougher.state.floatbank10_c_level                   19438 non-null  float64\n",
      " 59  rougher.state.floatbank10_d_air                     19439 non-null  float64\n",
      " 60  rougher.state.floatbank10_d_level                   19439 non-null  float64\n",
      " 61  rougher.state.floatbank10_e_air                     19003 non-null  float64\n",
      " 62  rougher.state.floatbank10_e_level                   19439 non-null  float64\n",
      " 63  rougher.state.floatbank10_f_air                     19439 non-null  float64\n",
      " 64  rougher.state.floatbank10_f_level                   19439 non-null  float64\n",
      " 65  secondary_cleaner.output.tail_ag                    19437 non-null  float64\n",
      " 66  secondary_cleaner.output.tail_pb                    19427 non-null  float64\n",
      " 67  secondary_cleaner.output.tail_sol                   17691 non-null  float64\n",
      " 68  secondary_cleaner.output.tail_au                    19439 non-null  float64\n",
      " 69  secondary_cleaner.state.floatbank2_a_air            19219 non-null  float64\n",
      " 70  secondary_cleaner.state.floatbank2_a_level          19438 non-null  float64\n",
      " 71  secondary_cleaner.state.floatbank2_b_air            19416 non-null  float64\n",
      " 72  secondary_cleaner.state.floatbank2_b_level          19438 non-null  float64\n",
      " 73  secondary_cleaner.state.floatbank3_a_air            19426 non-null  float64\n",
      " 74  secondary_cleaner.state.floatbank3_a_level          19438 non-null  float64\n",
      " 75  secondary_cleaner.state.floatbank3_b_air            19438 non-null  float64\n",
      " 76  secondary_cleaner.state.floatbank3_b_level          19438 non-null  float64\n",
      " 77  secondary_cleaner.state.floatbank4_a_air            19433 non-null  float64\n",
      " 78  secondary_cleaner.state.floatbank4_a_level          19438 non-null  float64\n",
      " 79  secondary_cleaner.state.floatbank4_b_air            19438 non-null  float64\n",
      " 80  secondary_cleaner.state.floatbank4_b_level          19438 non-null  float64\n",
      " 81  secondary_cleaner.state.floatbank5_a_air            19438 non-null  float64\n",
      " 82  secondary_cleaner.state.floatbank5_a_level          19438 non-null  float64\n",
      " 83  secondary_cleaner.state.floatbank5_b_air            19438 non-null  float64\n",
      " 84  secondary_cleaner.state.floatbank5_b_level          19438 non-null  float64\n",
      " 85  secondary_cleaner.state.floatbank6_a_air            19437 non-null  float64\n",
      " 86  secondary_cleaner.state.floatbank6_a_level          19438 non-null  float64\n",
      "dtypes: float64(86), object(1)\n",
      "memory usage: 12.9+ MB\n"
     ]
    }
   ],
   "source": [
    "data_full.info()"
   ]
  },
  {
   "cell_type": "markdown",
   "metadata": {},
   "source": [
    "И еще ознакомимся с первыми рядами таблицы `data_train`:"
   ]
  },
  {
   "cell_type": "code",
   "execution_count": 6,
   "metadata": {
    "scrolled": true
   },
   "outputs": [
    {
     "data": {
      "text/html": [
       "<div>\n",
       "<style scoped>\n",
       "    .dataframe tbody tr th:only-of-type {\n",
       "        vertical-align: middle;\n",
       "    }\n",
       "\n",
       "    .dataframe tbody tr th {\n",
       "        vertical-align: top;\n",
       "    }\n",
       "\n",
       "    .dataframe thead th {\n",
       "        text-align: right;\n",
       "    }\n",
       "</style>\n",
       "<table border=\"1\" class=\"dataframe\">\n",
       "  <thead>\n",
       "    <tr style=\"text-align: right;\">\n",
       "      <th></th>\n",
       "      <th>0</th>\n",
       "      <th>1</th>\n",
       "      <th>2</th>\n",
       "      <th>3</th>\n",
       "    </tr>\n",
       "  </thead>\n",
       "  <tbody>\n",
       "    <tr>\n",
       "      <th>date</th>\n",
       "      <td>2016-01-15 00:00:00</td>\n",
       "      <td>2016-01-15 01:00:00</td>\n",
       "      <td>2016-01-15 02:00:00</td>\n",
       "      <td>2016-01-15 03:00:00</td>\n",
       "    </tr>\n",
       "    <tr>\n",
       "      <th>final.output.concentrate_ag</th>\n",
       "      <td>6.055403</td>\n",
       "      <td>6.029369</td>\n",
       "      <td>6.055926</td>\n",
       "      <td>6.047977</td>\n",
       "    </tr>\n",
       "    <tr>\n",
       "      <th>final.output.concentrate_pb</th>\n",
       "      <td>9.889648</td>\n",
       "      <td>9.968944</td>\n",
       "      <td>10.213995</td>\n",
       "      <td>9.977019</td>\n",
       "    </tr>\n",
       "    <tr>\n",
       "      <th>final.output.concentrate_sol</th>\n",
       "      <td>5.507324</td>\n",
       "      <td>5.257781</td>\n",
       "      <td>5.383759</td>\n",
       "      <td>4.858634</td>\n",
       "    </tr>\n",
       "    <tr>\n",
       "      <th>final.output.concentrate_au</th>\n",
       "      <td>42.19202</td>\n",
       "      <td>42.701629</td>\n",
       "      <td>42.657501</td>\n",
       "      <td>42.689819</td>\n",
       "    </tr>\n",
       "    <tr>\n",
       "      <th>final.output.recovery</th>\n",
       "      <td>70.541216</td>\n",
       "      <td>69.266198</td>\n",
       "      <td>68.116445</td>\n",
       "      <td>68.347543</td>\n",
       "    </tr>\n",
       "    <tr>\n",
       "      <th>final.output.tail_ag</th>\n",
       "      <td>10.411962</td>\n",
       "      <td>10.462676</td>\n",
       "      <td>10.507046</td>\n",
       "      <td>10.422762</td>\n",
       "    </tr>\n",
       "    <tr>\n",
       "      <th>final.output.tail_pb</th>\n",
       "      <td>0.895447</td>\n",
       "      <td>0.927452</td>\n",
       "      <td>0.953716</td>\n",
       "      <td>0.883763</td>\n",
       "    </tr>\n",
       "    <tr>\n",
       "      <th>final.output.tail_sol</th>\n",
       "      <td>16.904297</td>\n",
       "      <td>16.634514</td>\n",
       "      <td>16.208849</td>\n",
       "      <td>16.532835</td>\n",
       "    </tr>\n",
       "    <tr>\n",
       "      <th>final.output.tail_au</th>\n",
       "      <td>2.143149</td>\n",
       "      <td>2.22493</td>\n",
       "      <td>2.257889</td>\n",
       "      <td>2.146849</td>\n",
       "    </tr>\n",
       "    <tr>\n",
       "      <th>primary_cleaner.input.sulfate</th>\n",
       "      <td>127.092003</td>\n",
       "      <td>125.629232</td>\n",
       "      <td>123.819808</td>\n",
       "      <td>122.270188</td>\n",
       "    </tr>\n",
       "    <tr>\n",
       "      <th>primary_cleaner.input.depressant</th>\n",
       "      <td>10.128295</td>\n",
       "      <td>10.296251</td>\n",
       "      <td>11.31628</td>\n",
       "      <td>11.32214</td>\n",
       "    </tr>\n",
       "    <tr>\n",
       "      <th>primary_cleaner.input.feed_size</th>\n",
       "      <td>7.25</td>\n",
       "      <td>7.25</td>\n",
       "      <td>7.25</td>\n",
       "      <td>7.25</td>\n",
       "    </tr>\n",
       "    <tr>\n",
       "      <th>primary_cleaner.input.xanthate</th>\n",
       "      <td>0.988759</td>\n",
       "      <td>1.002663</td>\n",
       "      <td>0.991265</td>\n",
       "      <td>0.996739</td>\n",
       "    </tr>\n",
       "    <tr>\n",
       "      <th>primary_cleaner.output.concentrate_ag</th>\n",
       "      <td>8.547551</td>\n",
       "      <td>8.558743</td>\n",
       "      <td>8.603505</td>\n",
       "      <td>7.221879</td>\n",
       "    </tr>\n",
       "    <tr>\n",
       "      <th>primary_cleaner.output.concentrate_pb</th>\n",
       "      <td>10.389648</td>\n",
       "      <td>10.497069</td>\n",
       "      <td>10.354494</td>\n",
       "      <td>8.496563</td>\n",
       "    </tr>\n",
       "    <tr>\n",
       "      <th>primary_cleaner.output.concentrate_sol</th>\n",
       "      <td>19.529297</td>\n",
       "      <td>19.369147</td>\n",
       "      <td>19.167579</td>\n",
       "      <td>15.978538</td>\n",
       "    </tr>\n",
       "    <tr>\n",
       "      <th>primary_cleaner.output.concentrate_au</th>\n",
       "      <td>34.174427</td>\n",
       "      <td>34.118526</td>\n",
       "      <td>33.969464</td>\n",
       "      <td>28.260743</td>\n",
       "    </tr>\n",
       "    <tr>\n",
       "      <th>primary_cleaner.output.tail_ag</th>\n",
       "      <td>14.936526</td>\n",
       "      <td>16.250511</td>\n",
       "      <td>16.491823</td>\n",
       "      <td>16.024359</td>\n",
       "    </tr>\n",
       "    <tr>\n",
       "      <th>primary_cleaner.output.tail_pb</th>\n",
       "      <td>2.534912</td>\n",
       "      <td>3.049646</td>\n",
       "      <td>3.124664</td>\n",
       "      <td>2.960362</td>\n",
       "    </tr>\n",
       "    <tr>\n",
       "      <th>primary_cleaner.output.tail_sol</th>\n",
       "      <td>7.476074</td>\n",
       "      <td>6.733907</td>\n",
       "      <td>6.471768</td>\n",
       "      <td>6.843791</td>\n",
       "    </tr>\n",
       "    <tr>\n",
       "      <th>primary_cleaner.output.tail_au</th>\n",
       "      <td>2.106679</td>\n",
       "      <td>2.353017</td>\n",
       "      <td>2.4168</td>\n",
       "      <td>2.262051</td>\n",
       "    </tr>\n",
       "    <tr>\n",
       "      <th>primary_cleaner.state.floatbank8_a_air</th>\n",
       "      <td>1549.775757</td>\n",
       "      <td>1576.166671</td>\n",
       "      <td>1601.556163</td>\n",
       "      <td>1599.96872</td>\n",
       "    </tr>\n",
       "    <tr>\n",
       "      <th>primary_cleaner.state.floatbank8_a_level</th>\n",
       "      <td>-498.91214</td>\n",
       "      <td>-500.904965</td>\n",
       "      <td>-499.997791</td>\n",
       "      <td>-500.951778</td>\n",
       "    </tr>\n",
       "    <tr>\n",
       "      <th>primary_cleaner.state.floatbank8_b_air</th>\n",
       "      <td>1551.434204</td>\n",
       "      <td>1575.950626</td>\n",
       "      <td>1600.386685</td>\n",
       "      <td>1600.659236</td>\n",
       "    </tr>\n",
       "    <tr>\n",
       "      <th>primary_cleaner.state.floatbank8_b_level</th>\n",
       "      <td>-516.403442</td>\n",
       "      <td>-499.865889</td>\n",
       "      <td>-500.607762</td>\n",
       "      <td>-499.677094</td>\n",
       "    </tr>\n",
       "    <tr>\n",
       "      <th>primary_cleaner.state.floatbank8_c_air</th>\n",
       "      <td>1549.873901</td>\n",
       "      <td>1575.994189</td>\n",
       "      <td>1602.003542</td>\n",
       "      <td>1600.304144</td>\n",
       "    </tr>\n",
       "    <tr>\n",
       "      <th>primary_cleaner.state.floatbank8_c_level</th>\n",
       "      <td>-498.666595</td>\n",
       "      <td>-499.315107</td>\n",
       "      <td>-500.870069</td>\n",
       "      <td>-500.727997</td>\n",
       "    </tr>\n",
       "    <tr>\n",
       "      <th>primary_cleaner.state.floatbank8_d_air</th>\n",
       "      <td>1554.367432</td>\n",
       "      <td>1574.479259</td>\n",
       "      <td>1599.541515</td>\n",
       "      <td>1600.44952</td>\n",
       "    </tr>\n",
       "    <tr>\n",
       "      <th>primary_cleaner.state.floatbank8_d_level</th>\n",
       "      <td>-493.428131</td>\n",
       "      <td>-498.931665</td>\n",
       "      <td>-499.827444</td>\n",
       "      <td>-500.052575</td>\n",
       "    </tr>\n",
       "    <tr>\n",
       "      <th>rougher.calculation.sulfate_to_au_concentrate</th>\n",
       "      <td>41885.707031</td>\n",
       "      <td>42050.861809</td>\n",
       "      <td>42018.101184</td>\n",
       "      <td>42029.447991</td>\n",
       "    </tr>\n",
       "    <tr>\n",
       "      <th>rougher.calculation.floatbank10_sulfate_to_au_feed</th>\n",
       "      <td>3481.779053</td>\n",
       "      <td>3498.370979</td>\n",
       "      <td>3495.34891</td>\n",
       "      <td>3498.578313</td>\n",
       "    </tr>\n",
       "    <tr>\n",
       "      <th>rougher.calculation.floatbank11_sulfate_to_au_feed</th>\n",
       "      <td>3520.337158</td>\n",
       "      <td>3489.981857</td>\n",
       "      <td>3502.359819</td>\n",
       "      <td>3499.162912</td>\n",
       "    </tr>\n",
       "    <tr>\n",
       "      <th>rougher.calculation.au_pb_ratio</th>\n",
       "      <td>2.838687</td>\n",
       "      <td>2.858998</td>\n",
       "      <td>2.945989</td>\n",
       "      <td>3.00234</td>\n",
       "    </tr>\n",
       "    <tr>\n",
       "      <th>rougher.input.feed_ag</th>\n",
       "      <td>6.100378</td>\n",
       "      <td>6.161113</td>\n",
       "      <td>6.116455</td>\n",
       "      <td>6.043309</td>\n",
       "    </tr>\n",
       "    <tr>\n",
       "      <th>rougher.input.feed_pb</th>\n",
       "      <td>2.284912</td>\n",
       "      <td>2.266033</td>\n",
       "      <td>2.159622</td>\n",
       "      <td>2.037807</td>\n",
       "    </tr>\n",
       "    <tr>\n",
       "      <th>rougher.input.feed_rate</th>\n",
       "      <td>523.546326</td>\n",
       "      <td>525.290581</td>\n",
       "      <td>530.02661</td>\n",
       "      <td>542.59039</td>\n",
       "    </tr>\n",
       "    <tr>\n",
       "      <th>rougher.input.feed_size</th>\n",
       "      <td>55.486599</td>\n",
       "      <td>57.278666</td>\n",
       "      <td>57.510649</td>\n",
       "      <td>57.792734</td>\n",
       "    </tr>\n",
       "    <tr>\n",
       "      <th>rougher.input.feed_sol</th>\n",
       "      <td>36.808594</td>\n",
       "      <td>35.753385</td>\n",
       "      <td>35.97163</td>\n",
       "      <td>36.862241</td>\n",
       "    </tr>\n",
       "    <tr>\n",
       "      <th>rougher.input.feed_au</th>\n",
       "      <td>6.48615</td>\n",
       "      <td>6.478583</td>\n",
       "      <td>6.362222</td>\n",
       "      <td>6.118189</td>\n",
       "    </tr>\n",
       "    <tr>\n",
       "      <th>rougher.input.floatbank10_sulfate</th>\n",
       "      <td>11.986616</td>\n",
       "      <td>11.971193</td>\n",
       "      <td>11.920603</td>\n",
       "      <td>11.630094</td>\n",
       "    </tr>\n",
       "    <tr>\n",
       "      <th>rougher.input.floatbank10_xanthate</th>\n",
       "      <td>6.00799</td>\n",
       "      <td>6.005766</td>\n",
       "      <td>6.197377</td>\n",
       "      <td>6.203177</td>\n",
       "    </tr>\n",
       "    <tr>\n",
       "      <th>rougher.input.floatbank11_sulfate</th>\n",
       "      <td>11.836743</td>\n",
       "      <td>11.996163</td>\n",
       "      <td>11.920305</td>\n",
       "      <td>11.69245</td>\n",
       "    </tr>\n",
       "    <tr>\n",
       "      <th>rougher.input.floatbank11_xanthate</th>\n",
       "      <td>6.005818</td>\n",
       "      <td>6.012594</td>\n",
       "      <td>6.204633</td>\n",
       "      <td>6.196578</td>\n",
       "    </tr>\n",
       "    <tr>\n",
       "      <th>rougher.output.concentrate_ag</th>\n",
       "      <td>11.500771</td>\n",
       "      <td>11.615865</td>\n",
       "      <td>11.695753</td>\n",
       "      <td>11.915047</td>\n",
       "    </tr>\n",
       "    <tr>\n",
       "      <th>rougher.output.concentrate_pb</th>\n",
       "      <td>7.101074</td>\n",
       "      <td>7.278807</td>\n",
       "      <td>7.216833</td>\n",
       "      <td>7.175616</td>\n",
       "    </tr>\n",
       "    <tr>\n",
       "      <th>rougher.output.concentrate_sol</th>\n",
       "      <td>28.029297</td>\n",
       "      <td>28.067063</td>\n",
       "      <td>27.454037</td>\n",
       "      <td>27.341277</td>\n",
       "    </tr>\n",
       "    <tr>\n",
       "      <th>rougher.output.concentrate_au</th>\n",
       "      <td>19.793808</td>\n",
       "      <td>20.050975</td>\n",
       "      <td>19.73717</td>\n",
       "      <td>19.32081</td>\n",
       "    </tr>\n",
       "    <tr>\n",
       "      <th>rougher.output.recovery</th>\n",
       "      <td>87.107763</td>\n",
       "      <td>86.843261</td>\n",
       "      <td>86.842308</td>\n",
       "      <td>87.22643</td>\n",
       "    </tr>\n",
       "    <tr>\n",
       "      <th>rougher.output.tail_ag</th>\n",
       "      <td>5.008018</td>\n",
       "      <td>4.955378</td>\n",
       "      <td>4.84346</td>\n",
       "      <td>4.655288</td>\n",
       "    </tr>\n",
       "    <tr>\n",
       "      <th>rougher.output.tail_pb</th>\n",
       "      <td>0.508728</td>\n",
       "      <td>0.536689</td>\n",
       "      <td>0.546416</td>\n",
       "      <td>0.542525</td>\n",
       "    </tr>\n",
       "    <tr>\n",
       "      <th>rougher.output.tail_sol</th>\n",
       "      <td>19.154297</td>\n",
       "      <td>18.965234</td>\n",
       "      <td>18.808533</td>\n",
       "      <td>19.3302</td>\n",
       "    </tr>\n",
       "    <tr>\n",
       "      <th>rougher.output.tail_au</th>\n",
       "      <td>1.170244</td>\n",
       "      <td>1.184827</td>\n",
       "      <td>1.162562</td>\n",
       "      <td>1.079755</td>\n",
       "    </tr>\n",
       "    <tr>\n",
       "      <th>rougher.state.floatbank10_a_air</th>\n",
       "      <td>999.706909</td>\n",
       "      <td>1000.286398</td>\n",
       "      <td>999.719565</td>\n",
       "      <td>999.81477</td>\n",
       "    </tr>\n",
       "    <tr>\n",
       "      <th>rougher.state.floatbank10_a_level</th>\n",
       "      <td>-404.066986</td>\n",
       "      <td>-400.065196</td>\n",
       "      <td>-400.074028</td>\n",
       "      <td>-400.200179</td>\n",
       "    </tr>\n",
       "    <tr>\n",
       "      <th>rougher.state.floatbank10_b_air</th>\n",
       "      <td>1603.011353</td>\n",
       "      <td>1600.754587</td>\n",
       "      <td>1599.33733</td>\n",
       "      <td>1600.059442</td>\n",
       "    </tr>\n",
       "    <tr>\n",
       "      <th>rougher.state.floatbank10_b_level</th>\n",
       "      <td>-434.715027</td>\n",
       "      <td>-449.953435</td>\n",
       "      <td>-450.00853</td>\n",
       "      <td>-450.619948</td>\n",
       "    </tr>\n",
       "    <tr>\n",
       "      <th>rougher.state.floatbank10_c_air</th>\n",
       "      <td>1602.375</td>\n",
       "      <td>1600.47958</td>\n",
       "      <td>1599.672797</td>\n",
       "      <td>1600.012842</td>\n",
       "    </tr>\n",
       "    <tr>\n",
       "      <th>rougher.state.floatbank10_c_level</th>\n",
       "      <td>-442.204468</td>\n",
       "      <td>-449.830646</td>\n",
       "      <td>-449.954491</td>\n",
       "      <td>-449.910497</td>\n",
       "    </tr>\n",
       "    <tr>\n",
       "      <th>rougher.state.floatbank10_d_air</th>\n",
       "      <td>1598.937256</td>\n",
       "      <td>1600.527589</td>\n",
       "      <td>1599.849325</td>\n",
       "      <td>1597.725177</td>\n",
       "    </tr>\n",
       "    <tr>\n",
       "      <th>rougher.state.floatbank10_d_level</th>\n",
       "      <td>-451.294128</td>\n",
       "      <td>-449.953649</td>\n",
       "      <td>-449.954185</td>\n",
       "      <td>-450.130127</td>\n",
       "    </tr>\n",
       "    <tr>\n",
       "      <th>rougher.state.floatbank10_e_air</th>\n",
       "      <td>1404.472046</td>\n",
       "      <td>1399.227084</td>\n",
       "      <td>1399.180945</td>\n",
       "      <td>1400.943157</td>\n",
       "    </tr>\n",
       "    <tr>\n",
       "      <th>rougher.state.floatbank10_e_level</th>\n",
       "      <td>-455.462982</td>\n",
       "      <td>-450.869848</td>\n",
       "      <td>-449.937588</td>\n",
       "      <td>-450.030142</td>\n",
       "    </tr>\n",
       "    <tr>\n",
       "      <th>rougher.state.floatbank10_f_air</th>\n",
       "      <td>1416.35498</td>\n",
       "      <td>1399.719514</td>\n",
       "      <td>1400.316682</td>\n",
       "      <td>1400.234743</td>\n",
       "    </tr>\n",
       "    <tr>\n",
       "      <th>rougher.state.floatbank10_f_level</th>\n",
       "      <td>-451.939636</td>\n",
       "      <td>-450.119001</td>\n",
       "      <td>-450.527147</td>\n",
       "      <td>-449.790835</td>\n",
       "    </tr>\n",
       "    <tr>\n",
       "      <th>secondary_cleaner.output.tail_ag</th>\n",
       "      <td>14.500184</td>\n",
       "      <td>14.265474</td>\n",
       "      <td>14.115662</td>\n",
       "      <td>13.732071</td>\n",
       "    </tr>\n",
       "    <tr>\n",
       "      <th>secondary_cleaner.output.tail_pb</th>\n",
       "      <td>4.694824</td>\n",
       "      <td>4.592547</td>\n",
       "      <td>4.624775</td>\n",
       "      <td>4.482453</td>\n",
       "    </tr>\n",
       "    <tr>\n",
       "      <th>secondary_cleaner.output.tail_sol</th>\n",
       "      <td>8.764648</td>\n",
       "      <td>9.001494</td>\n",
       "      <td>8.842896</td>\n",
       "      <td>9.122857</td>\n",
       "    </tr>\n",
       "    <tr>\n",
       "      <th>secondary_cleaner.output.tail_au</th>\n",
       "      <td>2.606185</td>\n",
       "      <td>2.488248</td>\n",
       "      <td>2.458187</td>\n",
       "      <td>2.322062</td>\n",
       "    </tr>\n",
       "    <tr>\n",
       "      <th>secondary_cleaner.state.floatbank2_a_air</th>\n",
       "      <td>25.853109</td>\n",
       "      <td>25.880539</td>\n",
       "      <td>26.005245</td>\n",
       "      <td>25.942508</td>\n",
       "    </tr>\n",
       "    <tr>\n",
       "      <th>secondary_cleaner.state.floatbank2_a_level</th>\n",
       "      <td>-498.526489</td>\n",
       "      <td>-499.989656</td>\n",
       "      <td>-499.929616</td>\n",
       "      <td>-499.176749</td>\n",
       "    </tr>\n",
       "    <tr>\n",
       "      <th>secondary_cleaner.state.floatbank2_b_air</th>\n",
       "      <td>23.89366</td>\n",
       "      <td>23.88953</td>\n",
       "      <td>23.886657</td>\n",
       "      <td>23.955516</td>\n",
       "    </tr>\n",
       "    <tr>\n",
       "      <th>secondary_cleaner.state.floatbank2_b_level</th>\n",
       "      <td>-501.406281</td>\n",
       "      <td>-500.372428</td>\n",
       "      <td>-499.951928</td>\n",
       "      <td>-499.848796</td>\n",
       "    </tr>\n",
       "    <tr>\n",
       "      <th>secondary_cleaner.state.floatbank3_a_air</th>\n",
       "      <td>23.961798</td>\n",
       "      <td>23.97055</td>\n",
       "      <td>23.913535</td>\n",
       "      <td>23.966838</td>\n",
       "    </tr>\n",
       "    <tr>\n",
       "      <th>secondary_cleaner.state.floatbank3_a_level</th>\n",
       "      <td>-495.262817</td>\n",
       "      <td>-500.085473</td>\n",
       "      <td>-499.442343</td>\n",
       "      <td>-500.008812</td>\n",
       "    </tr>\n",
       "    <tr>\n",
       "      <th>secondary_cleaner.state.floatbank3_b_air</th>\n",
       "      <td>21.940409</td>\n",
       "      <td>22.085714</td>\n",
       "      <td>23.957717</td>\n",
       "      <td>23.954443</td>\n",
       "    </tr>\n",
       "    <tr>\n",
       "      <th>secondary_cleaner.state.floatbank3_b_level</th>\n",
       "      <td>-499.340973</td>\n",
       "      <td>-499.446897</td>\n",
       "      <td>-499.901982</td>\n",
       "      <td>-499.94471</td>\n",
       "    </tr>\n",
       "    <tr>\n",
       "      <th>secondary_cleaner.state.floatbank4_a_air</th>\n",
       "      <td>14.016835</td>\n",
       "      <td>13.992281</td>\n",
       "      <td>14.015015</td>\n",
       "      <td>14.03651</td>\n",
       "    </tr>\n",
       "    <tr>\n",
       "      <th>secondary_cleaner.state.floatbank4_a_level</th>\n",
       "      <td>-502.488007</td>\n",
       "      <td>-505.503262</td>\n",
       "      <td>-502.520901</td>\n",
       "      <td>-500.857308</td>\n",
       "    </tr>\n",
       "    <tr>\n",
       "      <th>secondary_cleaner.state.floatbank4_b_air</th>\n",
       "      <td>12.099931</td>\n",
       "      <td>11.950531</td>\n",
       "      <td>11.912783</td>\n",
       "      <td>11.99955</td>\n",
       "    </tr>\n",
       "    <tr>\n",
       "      <th>secondary_cleaner.state.floatbank4_b_level</th>\n",
       "      <td>-504.715942</td>\n",
       "      <td>-501.331529</td>\n",
       "      <td>-501.133383</td>\n",
       "      <td>-501.193686</td>\n",
       "    </tr>\n",
       "    <tr>\n",
       "      <th>secondary_cleaner.state.floatbank5_a_air</th>\n",
       "      <td>9.925633</td>\n",
       "      <td>10.039245</td>\n",
       "      <td>10.070913</td>\n",
       "      <td>9.970366</td>\n",
       "    </tr>\n",
       "    <tr>\n",
       "      <th>secondary_cleaner.state.floatbank5_a_level</th>\n",
       "      <td>-498.310211</td>\n",
       "      <td>-500.169983</td>\n",
       "      <td>-500.129135</td>\n",
       "      <td>-499.20164</td>\n",
       "    </tr>\n",
       "    <tr>\n",
       "      <th>secondary_cleaner.state.floatbank5_b_air</th>\n",
       "      <td>8.079666</td>\n",
       "      <td>7.984757</td>\n",
       "      <td>8.013877</td>\n",
       "      <td>7.977324</td>\n",
       "    </tr>\n",
       "    <tr>\n",
       "      <th>secondary_cleaner.state.floatbank5_b_level</th>\n",
       "      <td>-500.470978</td>\n",
       "      <td>-500.582168</td>\n",
       "      <td>-500.517572</td>\n",
       "      <td>-500.255908</td>\n",
       "    </tr>\n",
       "    <tr>\n",
       "      <th>secondary_cleaner.state.floatbank6_a_air</th>\n",
       "      <td>14.151341</td>\n",
       "      <td>13.998353</td>\n",
       "      <td>14.028663</td>\n",
       "      <td>14.005551</td>\n",
       "    </tr>\n",
       "    <tr>\n",
       "      <th>secondary_cleaner.state.floatbank6_a_level</th>\n",
       "      <td>-605.84198</td>\n",
       "      <td>-599.787184</td>\n",
       "      <td>-601.427363</td>\n",
       "      <td>-599.996129</td>\n",
       "    </tr>\n",
       "  </tbody>\n",
       "</table>\n",
       "</div>"
      ],
      "text/plain": [
       "                                                                      0  \\\n",
       "date                                                2016-01-15 00:00:00   \n",
       "final.output.concentrate_ag                                    6.055403   \n",
       "final.output.concentrate_pb                                    9.889648   \n",
       "final.output.concentrate_sol                                   5.507324   \n",
       "final.output.concentrate_au                                    42.19202   \n",
       "final.output.recovery                                         70.541216   \n",
       "final.output.tail_ag                                          10.411962   \n",
       "final.output.tail_pb                                           0.895447   \n",
       "final.output.tail_sol                                         16.904297   \n",
       "final.output.tail_au                                           2.143149   \n",
       "primary_cleaner.input.sulfate                                127.092003   \n",
       "primary_cleaner.input.depressant                              10.128295   \n",
       "primary_cleaner.input.feed_size                                    7.25   \n",
       "primary_cleaner.input.xanthate                                 0.988759   \n",
       "primary_cleaner.output.concentrate_ag                          8.547551   \n",
       "primary_cleaner.output.concentrate_pb                         10.389648   \n",
       "primary_cleaner.output.concentrate_sol                        19.529297   \n",
       "primary_cleaner.output.concentrate_au                         34.174427   \n",
       "primary_cleaner.output.tail_ag                                14.936526   \n",
       "primary_cleaner.output.tail_pb                                 2.534912   \n",
       "primary_cleaner.output.tail_sol                                7.476074   \n",
       "primary_cleaner.output.tail_au                                 2.106679   \n",
       "primary_cleaner.state.floatbank8_a_air                      1549.775757   \n",
       "primary_cleaner.state.floatbank8_a_level                     -498.91214   \n",
       "primary_cleaner.state.floatbank8_b_air                      1551.434204   \n",
       "primary_cleaner.state.floatbank8_b_level                    -516.403442   \n",
       "primary_cleaner.state.floatbank8_c_air                      1549.873901   \n",
       "primary_cleaner.state.floatbank8_c_level                    -498.666595   \n",
       "primary_cleaner.state.floatbank8_d_air                      1554.367432   \n",
       "primary_cleaner.state.floatbank8_d_level                    -493.428131   \n",
       "rougher.calculation.sulfate_to_au_concentrate              41885.707031   \n",
       "rougher.calculation.floatbank10_sulfate_to_au_feed          3481.779053   \n",
       "rougher.calculation.floatbank11_sulfate_to_au_feed          3520.337158   \n",
       "rougher.calculation.au_pb_ratio                                2.838687   \n",
       "rougher.input.feed_ag                                          6.100378   \n",
       "rougher.input.feed_pb                                          2.284912   \n",
       "rougher.input.feed_rate                                      523.546326   \n",
       "rougher.input.feed_size                                       55.486599   \n",
       "rougher.input.feed_sol                                        36.808594   \n",
       "rougher.input.feed_au                                           6.48615   \n",
       "rougher.input.floatbank10_sulfate                             11.986616   \n",
       "rougher.input.floatbank10_xanthate                              6.00799   \n",
       "rougher.input.floatbank11_sulfate                             11.836743   \n",
       "rougher.input.floatbank11_xanthate                             6.005818   \n",
       "rougher.output.concentrate_ag                                 11.500771   \n",
       "rougher.output.concentrate_pb                                  7.101074   \n",
       "rougher.output.concentrate_sol                                28.029297   \n",
       "rougher.output.concentrate_au                                 19.793808   \n",
       "rougher.output.recovery                                       87.107763   \n",
       "rougher.output.tail_ag                                         5.008018   \n",
       "rougher.output.tail_pb                                         0.508728   \n",
       "rougher.output.tail_sol                                       19.154297   \n",
       "rougher.output.tail_au                                         1.170244   \n",
       "rougher.state.floatbank10_a_air                              999.706909   \n",
       "rougher.state.floatbank10_a_level                           -404.066986   \n",
       "rougher.state.floatbank10_b_air                             1603.011353   \n",
       "rougher.state.floatbank10_b_level                           -434.715027   \n",
       "rougher.state.floatbank10_c_air                                1602.375   \n",
       "rougher.state.floatbank10_c_level                           -442.204468   \n",
       "rougher.state.floatbank10_d_air                             1598.937256   \n",
       "rougher.state.floatbank10_d_level                           -451.294128   \n",
       "rougher.state.floatbank10_e_air                             1404.472046   \n",
       "rougher.state.floatbank10_e_level                           -455.462982   \n",
       "rougher.state.floatbank10_f_air                              1416.35498   \n",
       "rougher.state.floatbank10_f_level                           -451.939636   \n",
       "secondary_cleaner.output.tail_ag                              14.500184   \n",
       "secondary_cleaner.output.tail_pb                               4.694824   \n",
       "secondary_cleaner.output.tail_sol                              8.764648   \n",
       "secondary_cleaner.output.tail_au                               2.606185   \n",
       "secondary_cleaner.state.floatbank2_a_air                      25.853109   \n",
       "secondary_cleaner.state.floatbank2_a_level                  -498.526489   \n",
       "secondary_cleaner.state.floatbank2_b_air                       23.89366   \n",
       "secondary_cleaner.state.floatbank2_b_level                  -501.406281   \n",
       "secondary_cleaner.state.floatbank3_a_air                      23.961798   \n",
       "secondary_cleaner.state.floatbank3_a_level                  -495.262817   \n",
       "secondary_cleaner.state.floatbank3_b_air                      21.940409   \n",
       "secondary_cleaner.state.floatbank3_b_level                  -499.340973   \n",
       "secondary_cleaner.state.floatbank4_a_air                      14.016835   \n",
       "secondary_cleaner.state.floatbank4_a_level                  -502.488007   \n",
       "secondary_cleaner.state.floatbank4_b_air                      12.099931   \n",
       "secondary_cleaner.state.floatbank4_b_level                  -504.715942   \n",
       "secondary_cleaner.state.floatbank5_a_air                       9.925633   \n",
       "secondary_cleaner.state.floatbank5_a_level                  -498.310211   \n",
       "secondary_cleaner.state.floatbank5_b_air                       8.079666   \n",
       "secondary_cleaner.state.floatbank5_b_level                  -500.470978   \n",
       "secondary_cleaner.state.floatbank6_a_air                      14.151341   \n",
       "secondary_cleaner.state.floatbank6_a_level                   -605.84198   \n",
       "\n",
       "                                                                      1  \\\n",
       "date                                                2016-01-15 01:00:00   \n",
       "final.output.concentrate_ag                                    6.029369   \n",
       "final.output.concentrate_pb                                    9.968944   \n",
       "final.output.concentrate_sol                                   5.257781   \n",
       "final.output.concentrate_au                                   42.701629   \n",
       "final.output.recovery                                         69.266198   \n",
       "final.output.tail_ag                                          10.462676   \n",
       "final.output.tail_pb                                           0.927452   \n",
       "final.output.tail_sol                                         16.634514   \n",
       "final.output.tail_au                                            2.22493   \n",
       "primary_cleaner.input.sulfate                                125.629232   \n",
       "primary_cleaner.input.depressant                              10.296251   \n",
       "primary_cleaner.input.feed_size                                    7.25   \n",
       "primary_cleaner.input.xanthate                                 1.002663   \n",
       "primary_cleaner.output.concentrate_ag                          8.558743   \n",
       "primary_cleaner.output.concentrate_pb                         10.497069   \n",
       "primary_cleaner.output.concentrate_sol                        19.369147   \n",
       "primary_cleaner.output.concentrate_au                         34.118526   \n",
       "primary_cleaner.output.tail_ag                                16.250511   \n",
       "primary_cleaner.output.tail_pb                                 3.049646   \n",
       "primary_cleaner.output.tail_sol                                6.733907   \n",
       "primary_cleaner.output.tail_au                                 2.353017   \n",
       "primary_cleaner.state.floatbank8_a_air                      1576.166671   \n",
       "primary_cleaner.state.floatbank8_a_level                    -500.904965   \n",
       "primary_cleaner.state.floatbank8_b_air                      1575.950626   \n",
       "primary_cleaner.state.floatbank8_b_level                    -499.865889   \n",
       "primary_cleaner.state.floatbank8_c_air                      1575.994189   \n",
       "primary_cleaner.state.floatbank8_c_level                    -499.315107   \n",
       "primary_cleaner.state.floatbank8_d_air                      1574.479259   \n",
       "primary_cleaner.state.floatbank8_d_level                    -498.931665   \n",
       "rougher.calculation.sulfate_to_au_concentrate              42050.861809   \n",
       "rougher.calculation.floatbank10_sulfate_to_au_feed          3498.370979   \n",
       "rougher.calculation.floatbank11_sulfate_to_au_feed          3489.981857   \n",
       "rougher.calculation.au_pb_ratio                                2.858998   \n",
       "rougher.input.feed_ag                                          6.161113   \n",
       "rougher.input.feed_pb                                          2.266033   \n",
       "rougher.input.feed_rate                                      525.290581   \n",
       "rougher.input.feed_size                                       57.278666   \n",
       "rougher.input.feed_sol                                        35.753385   \n",
       "rougher.input.feed_au                                          6.478583   \n",
       "rougher.input.floatbank10_sulfate                             11.971193   \n",
       "rougher.input.floatbank10_xanthate                             6.005766   \n",
       "rougher.input.floatbank11_sulfate                             11.996163   \n",
       "rougher.input.floatbank11_xanthate                             6.012594   \n",
       "rougher.output.concentrate_ag                                 11.615865   \n",
       "rougher.output.concentrate_pb                                  7.278807   \n",
       "rougher.output.concentrate_sol                                28.067063   \n",
       "rougher.output.concentrate_au                                 20.050975   \n",
       "rougher.output.recovery                                       86.843261   \n",
       "rougher.output.tail_ag                                         4.955378   \n",
       "rougher.output.tail_pb                                         0.536689   \n",
       "rougher.output.tail_sol                                       18.965234   \n",
       "rougher.output.tail_au                                         1.184827   \n",
       "rougher.state.floatbank10_a_air                             1000.286398   \n",
       "rougher.state.floatbank10_a_level                           -400.065196   \n",
       "rougher.state.floatbank10_b_air                             1600.754587   \n",
       "rougher.state.floatbank10_b_level                           -449.953435   \n",
       "rougher.state.floatbank10_c_air                              1600.47958   \n",
       "rougher.state.floatbank10_c_level                           -449.830646   \n",
       "rougher.state.floatbank10_d_air                             1600.527589   \n",
       "rougher.state.floatbank10_d_level                           -449.953649   \n",
       "rougher.state.floatbank10_e_air                             1399.227084   \n",
       "rougher.state.floatbank10_e_level                           -450.869848   \n",
       "rougher.state.floatbank10_f_air                             1399.719514   \n",
       "rougher.state.floatbank10_f_level                           -450.119001   \n",
       "secondary_cleaner.output.tail_ag                              14.265474   \n",
       "secondary_cleaner.output.tail_pb                               4.592547   \n",
       "secondary_cleaner.output.tail_sol                              9.001494   \n",
       "secondary_cleaner.output.tail_au                               2.488248   \n",
       "secondary_cleaner.state.floatbank2_a_air                      25.880539   \n",
       "secondary_cleaner.state.floatbank2_a_level                  -499.989656   \n",
       "secondary_cleaner.state.floatbank2_b_air                       23.88953   \n",
       "secondary_cleaner.state.floatbank2_b_level                  -500.372428   \n",
       "secondary_cleaner.state.floatbank3_a_air                       23.97055   \n",
       "secondary_cleaner.state.floatbank3_a_level                  -500.085473   \n",
       "secondary_cleaner.state.floatbank3_b_air                      22.085714   \n",
       "secondary_cleaner.state.floatbank3_b_level                  -499.446897   \n",
       "secondary_cleaner.state.floatbank4_a_air                      13.992281   \n",
       "secondary_cleaner.state.floatbank4_a_level                  -505.503262   \n",
       "secondary_cleaner.state.floatbank4_b_air                      11.950531   \n",
       "secondary_cleaner.state.floatbank4_b_level                  -501.331529   \n",
       "secondary_cleaner.state.floatbank5_a_air                      10.039245   \n",
       "secondary_cleaner.state.floatbank5_a_level                  -500.169983   \n",
       "secondary_cleaner.state.floatbank5_b_air                       7.984757   \n",
       "secondary_cleaner.state.floatbank5_b_level                  -500.582168   \n",
       "secondary_cleaner.state.floatbank6_a_air                      13.998353   \n",
       "secondary_cleaner.state.floatbank6_a_level                  -599.787184   \n",
       "\n",
       "                                                                      2  \\\n",
       "date                                                2016-01-15 02:00:00   \n",
       "final.output.concentrate_ag                                    6.055926   \n",
       "final.output.concentrate_pb                                   10.213995   \n",
       "final.output.concentrate_sol                                   5.383759   \n",
       "final.output.concentrate_au                                   42.657501   \n",
       "final.output.recovery                                         68.116445   \n",
       "final.output.tail_ag                                          10.507046   \n",
       "final.output.tail_pb                                           0.953716   \n",
       "final.output.tail_sol                                         16.208849   \n",
       "final.output.tail_au                                           2.257889   \n",
       "primary_cleaner.input.sulfate                                123.819808   \n",
       "primary_cleaner.input.depressant                               11.31628   \n",
       "primary_cleaner.input.feed_size                                    7.25   \n",
       "primary_cleaner.input.xanthate                                 0.991265   \n",
       "primary_cleaner.output.concentrate_ag                          8.603505   \n",
       "primary_cleaner.output.concentrate_pb                         10.354494   \n",
       "primary_cleaner.output.concentrate_sol                        19.167579   \n",
       "primary_cleaner.output.concentrate_au                         33.969464   \n",
       "primary_cleaner.output.tail_ag                                16.491823   \n",
       "primary_cleaner.output.tail_pb                                 3.124664   \n",
       "primary_cleaner.output.tail_sol                                6.471768   \n",
       "primary_cleaner.output.tail_au                                   2.4168   \n",
       "primary_cleaner.state.floatbank8_a_air                      1601.556163   \n",
       "primary_cleaner.state.floatbank8_a_level                    -499.997791   \n",
       "primary_cleaner.state.floatbank8_b_air                      1600.386685   \n",
       "primary_cleaner.state.floatbank8_b_level                    -500.607762   \n",
       "primary_cleaner.state.floatbank8_c_air                      1602.003542   \n",
       "primary_cleaner.state.floatbank8_c_level                    -500.870069   \n",
       "primary_cleaner.state.floatbank8_d_air                      1599.541515   \n",
       "primary_cleaner.state.floatbank8_d_level                    -499.827444   \n",
       "rougher.calculation.sulfate_to_au_concentrate              42018.101184   \n",
       "rougher.calculation.floatbank10_sulfate_to_au_feed           3495.34891   \n",
       "rougher.calculation.floatbank11_sulfate_to_au_feed          3502.359819   \n",
       "rougher.calculation.au_pb_ratio                                2.945989   \n",
       "rougher.input.feed_ag                                          6.116455   \n",
       "rougher.input.feed_pb                                          2.159622   \n",
       "rougher.input.feed_rate                                       530.02661   \n",
       "rougher.input.feed_size                                       57.510649   \n",
       "rougher.input.feed_sol                                         35.97163   \n",
       "rougher.input.feed_au                                          6.362222   \n",
       "rougher.input.floatbank10_sulfate                             11.920603   \n",
       "rougher.input.floatbank10_xanthate                             6.197377   \n",
       "rougher.input.floatbank11_sulfate                             11.920305   \n",
       "rougher.input.floatbank11_xanthate                             6.204633   \n",
       "rougher.output.concentrate_ag                                 11.695753   \n",
       "rougher.output.concentrate_pb                                  7.216833   \n",
       "rougher.output.concentrate_sol                                27.454037   \n",
       "rougher.output.concentrate_au                                  19.73717   \n",
       "rougher.output.recovery                                       86.842308   \n",
       "rougher.output.tail_ag                                          4.84346   \n",
       "rougher.output.tail_pb                                         0.546416   \n",
       "rougher.output.tail_sol                                       18.808533   \n",
       "rougher.output.tail_au                                         1.162562   \n",
       "rougher.state.floatbank10_a_air                              999.719565   \n",
       "rougher.state.floatbank10_a_level                           -400.074028   \n",
       "rougher.state.floatbank10_b_air                              1599.33733   \n",
       "rougher.state.floatbank10_b_level                            -450.00853   \n",
       "rougher.state.floatbank10_c_air                             1599.672797   \n",
       "rougher.state.floatbank10_c_level                           -449.954491   \n",
       "rougher.state.floatbank10_d_air                             1599.849325   \n",
       "rougher.state.floatbank10_d_level                           -449.954185   \n",
       "rougher.state.floatbank10_e_air                             1399.180945   \n",
       "rougher.state.floatbank10_e_level                           -449.937588   \n",
       "rougher.state.floatbank10_f_air                             1400.316682   \n",
       "rougher.state.floatbank10_f_level                           -450.527147   \n",
       "secondary_cleaner.output.tail_ag                              14.115662   \n",
       "secondary_cleaner.output.tail_pb                               4.624775   \n",
       "secondary_cleaner.output.tail_sol                              8.842896   \n",
       "secondary_cleaner.output.tail_au                               2.458187   \n",
       "secondary_cleaner.state.floatbank2_a_air                      26.005245   \n",
       "secondary_cleaner.state.floatbank2_a_level                  -499.929616   \n",
       "secondary_cleaner.state.floatbank2_b_air                      23.886657   \n",
       "secondary_cleaner.state.floatbank2_b_level                  -499.951928   \n",
       "secondary_cleaner.state.floatbank3_a_air                      23.913535   \n",
       "secondary_cleaner.state.floatbank3_a_level                  -499.442343   \n",
       "secondary_cleaner.state.floatbank3_b_air                      23.957717   \n",
       "secondary_cleaner.state.floatbank3_b_level                  -499.901982   \n",
       "secondary_cleaner.state.floatbank4_a_air                      14.015015   \n",
       "secondary_cleaner.state.floatbank4_a_level                  -502.520901   \n",
       "secondary_cleaner.state.floatbank4_b_air                      11.912783   \n",
       "secondary_cleaner.state.floatbank4_b_level                  -501.133383   \n",
       "secondary_cleaner.state.floatbank5_a_air                      10.070913   \n",
       "secondary_cleaner.state.floatbank5_a_level                  -500.129135   \n",
       "secondary_cleaner.state.floatbank5_b_air                       8.013877   \n",
       "secondary_cleaner.state.floatbank5_b_level                  -500.517572   \n",
       "secondary_cleaner.state.floatbank6_a_air                      14.028663   \n",
       "secondary_cleaner.state.floatbank6_a_level                  -601.427363   \n",
       "\n",
       "                                                                      3  \n",
       "date                                                2016-01-15 03:00:00  \n",
       "final.output.concentrate_ag                                    6.047977  \n",
       "final.output.concentrate_pb                                    9.977019  \n",
       "final.output.concentrate_sol                                   4.858634  \n",
       "final.output.concentrate_au                                   42.689819  \n",
       "final.output.recovery                                         68.347543  \n",
       "final.output.tail_ag                                          10.422762  \n",
       "final.output.tail_pb                                           0.883763  \n",
       "final.output.tail_sol                                         16.532835  \n",
       "final.output.tail_au                                           2.146849  \n",
       "primary_cleaner.input.sulfate                                122.270188  \n",
       "primary_cleaner.input.depressant                               11.32214  \n",
       "primary_cleaner.input.feed_size                                    7.25  \n",
       "primary_cleaner.input.xanthate                                 0.996739  \n",
       "primary_cleaner.output.concentrate_ag                          7.221879  \n",
       "primary_cleaner.output.concentrate_pb                          8.496563  \n",
       "primary_cleaner.output.concentrate_sol                        15.978538  \n",
       "primary_cleaner.output.concentrate_au                         28.260743  \n",
       "primary_cleaner.output.tail_ag                                16.024359  \n",
       "primary_cleaner.output.tail_pb                                 2.960362  \n",
       "primary_cleaner.output.tail_sol                                6.843791  \n",
       "primary_cleaner.output.tail_au                                 2.262051  \n",
       "primary_cleaner.state.floatbank8_a_air                       1599.96872  \n",
       "primary_cleaner.state.floatbank8_a_level                    -500.951778  \n",
       "primary_cleaner.state.floatbank8_b_air                      1600.659236  \n",
       "primary_cleaner.state.floatbank8_b_level                    -499.677094  \n",
       "primary_cleaner.state.floatbank8_c_air                      1600.304144  \n",
       "primary_cleaner.state.floatbank8_c_level                    -500.727997  \n",
       "primary_cleaner.state.floatbank8_d_air                       1600.44952  \n",
       "primary_cleaner.state.floatbank8_d_level                    -500.052575  \n",
       "rougher.calculation.sulfate_to_au_concentrate              42029.447991  \n",
       "rougher.calculation.floatbank10_sulfate_to_au_feed          3498.578313  \n",
       "rougher.calculation.floatbank11_sulfate_to_au_feed          3499.162912  \n",
       "rougher.calculation.au_pb_ratio                                 3.00234  \n",
       "rougher.input.feed_ag                                          6.043309  \n",
       "rougher.input.feed_pb                                          2.037807  \n",
       "rougher.input.feed_rate                                       542.59039  \n",
       "rougher.input.feed_size                                       57.792734  \n",
       "rougher.input.feed_sol                                        36.862241  \n",
       "rougher.input.feed_au                                          6.118189  \n",
       "rougher.input.floatbank10_sulfate                             11.630094  \n",
       "rougher.input.floatbank10_xanthate                             6.203177  \n",
       "rougher.input.floatbank11_sulfate                              11.69245  \n",
       "rougher.input.floatbank11_xanthate                             6.196578  \n",
       "rougher.output.concentrate_ag                                 11.915047  \n",
       "rougher.output.concentrate_pb                                  7.175616  \n",
       "rougher.output.concentrate_sol                                27.341277  \n",
       "rougher.output.concentrate_au                                  19.32081  \n",
       "rougher.output.recovery                                        87.22643  \n",
       "rougher.output.tail_ag                                         4.655288  \n",
       "rougher.output.tail_pb                                         0.542525  \n",
       "rougher.output.tail_sol                                         19.3302  \n",
       "rougher.output.tail_au                                         1.079755  \n",
       "rougher.state.floatbank10_a_air                               999.81477  \n",
       "rougher.state.floatbank10_a_level                           -400.200179  \n",
       "rougher.state.floatbank10_b_air                             1600.059442  \n",
       "rougher.state.floatbank10_b_level                           -450.619948  \n",
       "rougher.state.floatbank10_c_air                             1600.012842  \n",
       "rougher.state.floatbank10_c_level                           -449.910497  \n",
       "rougher.state.floatbank10_d_air                             1597.725177  \n",
       "rougher.state.floatbank10_d_level                           -450.130127  \n",
       "rougher.state.floatbank10_e_air                             1400.943157  \n",
       "rougher.state.floatbank10_e_level                           -450.030142  \n",
       "rougher.state.floatbank10_f_air                             1400.234743  \n",
       "rougher.state.floatbank10_f_level                           -449.790835  \n",
       "secondary_cleaner.output.tail_ag                              13.732071  \n",
       "secondary_cleaner.output.tail_pb                               4.482453  \n",
       "secondary_cleaner.output.tail_sol                              9.122857  \n",
       "secondary_cleaner.output.tail_au                               2.322062  \n",
       "secondary_cleaner.state.floatbank2_a_air                      25.942508  \n",
       "secondary_cleaner.state.floatbank2_a_level                  -499.176749  \n",
       "secondary_cleaner.state.floatbank2_b_air                      23.955516  \n",
       "secondary_cleaner.state.floatbank2_b_level                  -499.848796  \n",
       "secondary_cleaner.state.floatbank3_a_air                      23.966838  \n",
       "secondary_cleaner.state.floatbank3_a_level                  -500.008812  \n",
       "secondary_cleaner.state.floatbank3_b_air                      23.954443  \n",
       "secondary_cleaner.state.floatbank3_b_level                   -499.94471  \n",
       "secondary_cleaner.state.floatbank4_a_air                       14.03651  \n",
       "secondary_cleaner.state.floatbank4_a_level                  -500.857308  \n",
       "secondary_cleaner.state.floatbank4_b_air                       11.99955  \n",
       "secondary_cleaner.state.floatbank4_b_level                  -501.193686  \n",
       "secondary_cleaner.state.floatbank5_a_air                       9.970366  \n",
       "secondary_cleaner.state.floatbank5_a_level                   -499.20164  \n",
       "secondary_cleaner.state.floatbank5_b_air                       7.977324  \n",
       "secondary_cleaner.state.floatbank5_b_level                  -500.255908  \n",
       "secondary_cleaner.state.floatbank6_a_air                      14.005551  \n",
       "secondary_cleaner.state.floatbank6_a_level                  -599.996129  "
      ]
     },
     "execution_count": 6,
     "metadata": {},
     "output_type": "execute_result"
    }
   ],
   "source": [
    "pd.options.display.max_rows = None\n",
    "data_train[:4].transpose()"
   ]
  },
  {
   "cell_type": "markdown",
   "metadata": {},
   "source": [
    "Метод `info` подсказал, что в выборках есть пропуски, посчитает их:"
   ]
  },
  {
   "cell_type": "code",
   "execution_count": 7,
   "metadata": {
    "scrolled": false
   },
   "outputs": [
    {
     "name": "stdout",
     "output_type": "stream",
     "text": [
      "Пропуски в обучающей выборке: \n",
      "final.output.concentrate_ag                              1\n",
      "final.output.concentrate_pb                              1\n",
      "final.output.concentrate_sol                           211\n",
      "final.output.tail_pb                                   100\n",
      "final.output.tail_sol                                    5\n",
      "primary_cleaner.input.sulfate                           20\n",
      "primary_cleaner.input.depressant                        32\n",
      "primary_cleaner.input.xanthate                         100\n",
      "primary_cleaner.output.concentrate_pb                   86\n",
      "primary_cleaner.output.concentrate_sol                 286\n",
      "primary_cleaner.output.tail_ag                           1\n",
      "primary_cleaner.output.tail_pb                          15\n",
      "primary_cleaner.output.tail_sol                         46\n",
      "primary_cleaner.state.floatbank8_a_air                   4\n",
      "primary_cleaner.state.floatbank8_a_level                 1\n",
      "primary_cleaner.state.floatbank8_b_air                   4\n",
      "primary_cleaner.state.floatbank8_b_level                 1\n",
      "primary_cleaner.state.floatbank8_c_air                   2\n",
      "primary_cleaner.state.floatbank8_c_level                 1\n",
      "primary_cleaner.state.floatbank8_d_air                   3\n",
      "primary_cleaner.state.floatbank8_d_level                 1\n",
      "rougher.calculation.sulfate_to_au_concentrate            1\n",
      "rougher.calculation.floatbank10_sulfate_to_au_feed       1\n",
      "rougher.calculation.floatbank11_sulfate_to_au_feed       1\n",
      "rougher.input.feed_pb                                  100\n",
      "rougher.input.feed_rate                                  8\n",
      "rougher.input.feed_size                                144\n",
      "rougher.input.feed_sol                                  78\n",
      "rougher.input.floatbank10_sulfate                       29\n",
      "rougher.input.floatbank10_xanthate                       8\n",
      "rougher.input.floatbank11_sulfate                       36\n",
      "rougher.input.floatbank11_xanthate                     428\n",
      "rougher.output.concentrate_sol                          22\n",
      "rougher.output.tail_ag                                   1\n",
      "rougher.state.floatbank10_a_air                          1\n",
      "rougher.state.floatbank10_a_level                        1\n",
      "rougher.state.floatbank10_b_air                          1\n",
      "rougher.state.floatbank10_b_level                        1\n",
      "rougher.state.floatbank10_c_air                          1\n",
      "rougher.state.floatbank10_c_level                        1\n",
      "rougher.state.floatbank10_e_air                        436\n",
      "secondary_cleaner.output.tail_ag                         2\n",
      "secondary_cleaner.output.tail_pb                        10\n",
      "secondary_cleaner.output.tail_sol                     1605\n",
      "secondary_cleaner.state.floatbank2_a_air               217\n",
      "secondary_cleaner.state.floatbank2_a_level               1\n",
      "secondary_cleaner.state.floatbank2_b_air                21\n",
      "secondary_cleaner.state.floatbank2_b_level               1\n",
      "secondary_cleaner.state.floatbank3_a_air                 4\n",
      "secondary_cleaner.state.floatbank3_a_level               1\n",
      "secondary_cleaner.state.floatbank3_b_air                 1\n",
      "secondary_cleaner.state.floatbank3_b_level               1\n",
      "secondary_cleaner.state.floatbank4_a_air                 6\n",
      "secondary_cleaner.state.floatbank4_a_level               1\n",
      "secondary_cleaner.state.floatbank4_b_air                 1\n",
      "secondary_cleaner.state.floatbank4_b_level               1\n",
      "secondary_cleaner.state.floatbank5_a_air                 1\n",
      "secondary_cleaner.state.floatbank5_a_level               1\n",
      "secondary_cleaner.state.floatbank5_b_air                 1\n",
      "secondary_cleaner.state.floatbank5_b_level               1\n",
      "secondary_cleaner.state.floatbank6_a_air                 2\n",
      "secondary_cleaner.state.floatbank6_a_level               1\n",
      "dtype: int64\n",
      "\n",
      "Пропуски в тестовой выборке: \n",
      "primary_cleaner.input.sulfate                4\n",
      "primary_cleaner.input.depressant             5\n",
      "primary_cleaner.input.xanthate               4\n",
      "rougher.input.feed_rate                      3\n",
      "rougher.input.feed_size                      1\n",
      "rougher.input.feed_sol                      21\n",
      "rougher.input.floatbank10_sulfate            5\n",
      "rougher.input.floatbank11_sulfate            8\n",
      "rougher.input.floatbank11_xanthate          25\n",
      "secondary_cleaner.state.floatbank2_a_air     3\n",
      "secondary_cleaner.state.floatbank2_b_air     2\n",
      "secondary_cleaner.state.floatbank3_a_air     9\n",
      "dtype: int64\n",
      "\n",
      "Пропуски в исходной выборке: \n",
      "final.output.concentrate_ag                              1\n",
      "final.output.concentrate_pb                              1\n",
      "final.output.concentrate_sol                           211\n",
      "final.output.tail_ag                                     1\n",
      "final.output.tail_pb                                   101\n",
      "final.output.tail_sol                                    6\n",
      "primary_cleaner.input.sulfate                           24\n",
      "primary_cleaner.input.depressant                        37\n",
      "primary_cleaner.input.xanthate                         104\n",
      "primary_cleaner.output.concentrate_pb                  116\n",
      "primary_cleaner.output.concentrate_sol                 370\n",
      "primary_cleaner.output.tail_ag                           4\n",
      "primary_cleaner.output.tail_pb                          21\n",
      "primary_cleaner.output.tail_sol                         62\n",
      "primary_cleaner.state.floatbank8_a_air                   4\n",
      "primary_cleaner.state.floatbank8_a_level                 1\n",
      "primary_cleaner.state.floatbank8_b_air                   4\n",
      "primary_cleaner.state.floatbank8_b_level                 1\n",
      "primary_cleaner.state.floatbank8_c_air                   2\n",
      "primary_cleaner.state.floatbank8_c_level                 1\n",
      "primary_cleaner.state.floatbank8_d_air                   3\n",
      "primary_cleaner.state.floatbank8_d_level                 1\n",
      "rougher.calculation.sulfate_to_au_concentrate            2\n",
      "rougher.calculation.floatbank10_sulfate_to_au_feed       2\n",
      "rougher.calculation.floatbank11_sulfate_to_au_feed       2\n",
      "rougher.input.feed_pb                                  100\n",
      "rougher.input.feed_rate                                 11\n",
      "rougher.input.feed_size                                145\n",
      "rougher.input.feed_sol                                  99\n",
      "rougher.input.floatbank10_sulfate                       34\n",
      "rougher.input.floatbank10_xanthate                       8\n",
      "rougher.input.floatbank11_sulfate                       44\n",
      "rougher.input.floatbank11_xanthate                     453\n",
      "rougher.output.concentrate_sol                          23\n",
      "rougher.output.tail_ag                                   1\n",
      "rougher.state.floatbank10_a_air                          1\n",
      "rougher.state.floatbank10_a_level                        1\n",
      "rougher.state.floatbank10_b_air                          1\n",
      "rougher.state.floatbank10_b_level                        1\n",
      "rougher.state.floatbank10_c_air                          1\n",
      "rougher.state.floatbank10_c_level                        1\n",
      "rougher.state.floatbank10_e_air                        436\n",
      "secondary_cleaner.output.tail_ag                         2\n",
      "secondary_cleaner.output.tail_pb                        12\n",
      "secondary_cleaner.output.tail_sol                     1748\n",
      "secondary_cleaner.state.floatbank2_a_air               220\n",
      "secondary_cleaner.state.floatbank2_a_level               1\n",
      "secondary_cleaner.state.floatbank2_b_air                23\n",
      "secondary_cleaner.state.floatbank2_b_level               1\n",
      "secondary_cleaner.state.floatbank3_a_air                13\n",
      "secondary_cleaner.state.floatbank3_a_level               1\n",
      "secondary_cleaner.state.floatbank3_b_air                 1\n",
      "secondary_cleaner.state.floatbank3_b_level               1\n",
      "secondary_cleaner.state.floatbank4_a_air                 6\n",
      "secondary_cleaner.state.floatbank4_a_level               1\n",
      "secondary_cleaner.state.floatbank4_b_air                 1\n",
      "secondary_cleaner.state.floatbank4_b_level               1\n",
      "secondary_cleaner.state.floatbank5_a_air                 1\n",
      "secondary_cleaner.state.floatbank5_a_level               1\n",
      "secondary_cleaner.state.floatbank5_b_air                 1\n",
      "secondary_cleaner.state.floatbank5_b_level               1\n",
      "secondary_cleaner.state.floatbank6_a_air                 2\n",
      "secondary_cleaner.state.floatbank6_a_level               1\n",
      "dtype: int64\n",
      "\n"
     ]
    }
   ],
   "source": [
    "print('Пропуски в обучающей выборке: \\n', data_train.isna().sum().loc[data_train.isna().sum()>0],'\\n', sep=\"\")\n",
    "print('Пропуски в тестовой выборке: \\n', data_test.isna().sum().loc[data_test.isna().sum()>0],'\\n', sep=\"\")\n",
    "print('Пропуски в исходной выборке: \\n', data_full.isna().sum().loc[data_full.isna().sum()>0],'\\n', sep=\"\")"
   ]
  },
  {
   "cell_type": "markdown",
   "metadata": {},
   "source": [
    "Пропусков довольно много, чуть позже уберем их."
   ]
  },
  {
   "cell_type": "markdown",
   "metadata": {},
   "source": [
    "Проверим на дубликаты:"
   ]
  },
  {
   "cell_type": "code",
   "execution_count": 8,
   "metadata": {},
   "outputs": [
    {
     "data": {
      "text/plain": [
       "0"
      ]
     },
     "metadata": {},
     "output_type": "display_data"
    },
    {
     "data": {
      "text/plain": [
       "0"
      ]
     },
     "metadata": {},
     "output_type": "display_data"
    },
    {
     "data": {
      "text/plain": [
       "0"
      ]
     },
     "metadata": {},
     "output_type": "display_data"
    }
   ],
   "source": [
    "display(data_train.duplicated().sum(), data_test.duplicated().sum(), data_full.duplicated().sum())"
   ]
  },
  {
   "cell_type": "markdown",
   "metadata": {},
   "source": [
    "Дубликатов нет."
   ]
  },
  {
   "cell_type": "markdown",
   "metadata": {},
   "source": [
    "У нас есть три выборки, одна из которых частично состоих из двух других. В них нет дубликатов, есть пропуски. В общей выборке 19439 строк, в учебной - 14149, в тестовой - 5290."
   ]
  },
  {
   "cell_type": "markdown",
   "metadata": {},
   "source": [
    "### Проверим правильность рассчета эффективностио богащения"
   ]
  },
  {
   "cell_type": "markdown",
   "metadata": {},
   "source": [
    "В целях проекта проверить корректность рассчета эффективности обогащения `recovery`."
   ]
  },
  {
   "cell_type": "markdown",
   "metadata": {},
   "source": [
    "Сначала найдем все колонки связанные с золотом, чтобы было проще подобрать значения для формулы:"
   ]
  },
  {
   "cell_type": "code",
   "execution_count": 9,
   "metadata": {},
   "outputs": [
    {
     "data": {
      "text/html": [
       "<div>\n",
       "<style scoped>\n",
       "    .dataframe tbody tr th:only-of-type {\n",
       "        vertical-align: middle;\n",
       "    }\n",
       "\n",
       "    .dataframe tbody tr th {\n",
       "        vertical-align: top;\n",
       "    }\n",
       "\n",
       "    .dataframe thead th {\n",
       "        text-align: right;\n",
       "    }\n",
       "</style>\n",
       "<table border=\"1\" class=\"dataframe\">\n",
       "  <thead>\n",
       "    <tr style=\"text-align: right;\">\n",
       "      <th></th>\n",
       "      <th>0</th>\n",
       "      <th>1</th>\n",
       "      <th>2</th>\n",
       "      <th>3</th>\n",
       "    </tr>\n",
       "  </thead>\n",
       "  <tbody>\n",
       "    <tr>\n",
       "      <th>final.output.concentrate_au</th>\n",
       "      <td>42.192020</td>\n",
       "      <td>42.701629</td>\n",
       "      <td>42.657501</td>\n",
       "      <td>42.689819</td>\n",
       "    </tr>\n",
       "    <tr>\n",
       "      <th>final.output.tail_au</th>\n",
       "      <td>2.143149</td>\n",
       "      <td>2.224930</td>\n",
       "      <td>2.257889</td>\n",
       "      <td>2.146849</td>\n",
       "    </tr>\n",
       "    <tr>\n",
       "      <th>primary_cleaner.output.concentrate_au</th>\n",
       "      <td>34.174427</td>\n",
       "      <td>34.118526</td>\n",
       "      <td>33.969464</td>\n",
       "      <td>28.260743</td>\n",
       "    </tr>\n",
       "    <tr>\n",
       "      <th>primary_cleaner.output.tail_au</th>\n",
       "      <td>2.106679</td>\n",
       "      <td>2.353017</td>\n",
       "      <td>2.416800</td>\n",
       "      <td>2.262051</td>\n",
       "    </tr>\n",
       "    <tr>\n",
       "      <th>rougher.calculation.sulfate_to_au_concentrate</th>\n",
       "      <td>41885.707031</td>\n",
       "      <td>42050.861809</td>\n",
       "      <td>42018.101184</td>\n",
       "      <td>42029.447991</td>\n",
       "    </tr>\n",
       "    <tr>\n",
       "      <th>rougher.calculation.floatbank10_sulfate_to_au_feed</th>\n",
       "      <td>3481.779053</td>\n",
       "      <td>3498.370979</td>\n",
       "      <td>3495.348910</td>\n",
       "      <td>3498.578313</td>\n",
       "    </tr>\n",
       "    <tr>\n",
       "      <th>rougher.calculation.floatbank11_sulfate_to_au_feed</th>\n",
       "      <td>3520.337158</td>\n",
       "      <td>3489.981857</td>\n",
       "      <td>3502.359819</td>\n",
       "      <td>3499.162912</td>\n",
       "    </tr>\n",
       "    <tr>\n",
       "      <th>rougher.calculation.au_pb_ratio</th>\n",
       "      <td>2.838687</td>\n",
       "      <td>2.858998</td>\n",
       "      <td>2.945989</td>\n",
       "      <td>3.002340</td>\n",
       "    </tr>\n",
       "    <tr>\n",
       "      <th>rougher.input.feed_au</th>\n",
       "      <td>6.486150</td>\n",
       "      <td>6.478583</td>\n",
       "      <td>6.362222</td>\n",
       "      <td>6.118189</td>\n",
       "    </tr>\n",
       "    <tr>\n",
       "      <th>rougher.output.concentrate_au</th>\n",
       "      <td>19.793808</td>\n",
       "      <td>20.050975</td>\n",
       "      <td>19.737170</td>\n",
       "      <td>19.320810</td>\n",
       "    </tr>\n",
       "    <tr>\n",
       "      <th>rougher.output.tail_au</th>\n",
       "      <td>1.170244</td>\n",
       "      <td>1.184827</td>\n",
       "      <td>1.162562</td>\n",
       "      <td>1.079755</td>\n",
       "    </tr>\n",
       "    <tr>\n",
       "      <th>secondary_cleaner.output.tail_au</th>\n",
       "      <td>2.606185</td>\n",
       "      <td>2.488248</td>\n",
       "      <td>2.458187</td>\n",
       "      <td>2.322062</td>\n",
       "    </tr>\n",
       "  </tbody>\n",
       "</table>\n",
       "</div>"
      ],
      "text/plain": [
       "                                                               0  \\\n",
       "final.output.concentrate_au                            42.192020   \n",
       "final.output.tail_au                                    2.143149   \n",
       "primary_cleaner.output.concentrate_au                  34.174427   \n",
       "primary_cleaner.output.tail_au                          2.106679   \n",
       "rougher.calculation.sulfate_to_au_concentrate       41885.707031   \n",
       "rougher.calculation.floatbank10_sulfate_to_au_feed   3481.779053   \n",
       "rougher.calculation.floatbank11_sulfate_to_au_feed   3520.337158   \n",
       "rougher.calculation.au_pb_ratio                         2.838687   \n",
       "rougher.input.feed_au                                   6.486150   \n",
       "rougher.output.concentrate_au                          19.793808   \n",
       "rougher.output.tail_au                                  1.170244   \n",
       "secondary_cleaner.output.tail_au                        2.606185   \n",
       "\n",
       "                                                               1  \\\n",
       "final.output.concentrate_au                            42.701629   \n",
       "final.output.tail_au                                    2.224930   \n",
       "primary_cleaner.output.concentrate_au                  34.118526   \n",
       "primary_cleaner.output.tail_au                          2.353017   \n",
       "rougher.calculation.sulfate_to_au_concentrate       42050.861809   \n",
       "rougher.calculation.floatbank10_sulfate_to_au_feed   3498.370979   \n",
       "rougher.calculation.floatbank11_sulfate_to_au_feed   3489.981857   \n",
       "rougher.calculation.au_pb_ratio                         2.858998   \n",
       "rougher.input.feed_au                                   6.478583   \n",
       "rougher.output.concentrate_au                          20.050975   \n",
       "rougher.output.tail_au                                  1.184827   \n",
       "secondary_cleaner.output.tail_au                        2.488248   \n",
       "\n",
       "                                                               2             3  \n",
       "final.output.concentrate_au                            42.657501     42.689819  \n",
       "final.output.tail_au                                    2.257889      2.146849  \n",
       "primary_cleaner.output.concentrate_au                  33.969464     28.260743  \n",
       "primary_cleaner.output.tail_au                          2.416800      2.262051  \n",
       "rougher.calculation.sulfate_to_au_concentrate       42018.101184  42029.447991  \n",
       "rougher.calculation.floatbank10_sulfate_to_au_feed   3495.348910   3498.578313  \n",
       "rougher.calculation.floatbank11_sulfate_to_au_feed   3502.359819   3499.162912  \n",
       "rougher.calculation.au_pb_ratio                         2.945989      3.002340  \n",
       "rougher.input.feed_au                                   6.362222      6.118189  \n",
       "rougher.output.concentrate_au                          19.737170     19.320810  \n",
       "rougher.output.tail_au                                  1.162562      1.079755  \n",
       "secondary_cleaner.output.tail_au                        2.458187      2.322062  "
      ]
     },
     "execution_count": 9,
     "metadata": {},
     "output_type": "execute_result"
    }
   ],
   "source": [
    "data_train_au = data_train.filter(regex='au')\n",
    "data_train_au[:4].transpose()"
   ]
  },
  {
   "cell_type": "markdown",
   "metadata": {},
   "source": [
    "Формула для рассчета эффективности:\n",
    "\n",
    "![recovery](https://pictures.s3.yandex.net/resources/Recovery_1576238822.jpg \"recovery\")\n",
    "```\n",
    "где:\n",
    "C — доля золота в концентрате после флотации/очистки;\n",
    "F — доля золота в сырье/концентрате до флотации/очистки;\n",
    "T — доля золота в отвальных хвостах после флотации/очистки.\n",
    "\n",
    "```\n",
    "\n",
    "Ввведем переменные из датасета и посчитаем по формуле эффективность:"
   ]
  },
  {
   "cell_type": "code",
   "execution_count": 10,
   "metadata": {
    "scrolled": false
   },
   "outputs": [],
   "source": [
    "C = data_train['rougher.output.concentrate_au']\n",
    "F = data_train['rougher.input.feed_au']\n",
    "T =  data_train['rougher.output.tail_au']\n",
    "\n",
    "rougher_output_recovery_calculated = (C * (F - T)) / (F * (C - T)) * 100"
   ]
  },
  {
   "cell_type": "markdown",
   "metadata": {},
   "source": [
    "Посчитаем MAE для эффективности очистки расчетной и фактической:"
   ]
  },
  {
   "cell_type": "code",
   "execution_count": 11,
   "metadata": {
    "scrolled": true
   },
   "outputs": [
    {
     "name": "stdout",
     "output_type": "stream",
     "text": [
      "Среднее абсолютное отклонение для признака эффективности очистки после флотации: 9.73512347450521e-15\n"
     ]
    }
   ],
   "source": [
    "print('Среднее абсолютное отклонение для признака эффективности очистки после флотации:'\n",
    "      , mean_absolute_error(rougher_output_recovery_calculated, data_train['rougher.output.recovery']))"
   ]
  },
  {
   "cell_type": "markdown",
   "metadata": {},
   "source": [
    "Значение MAE ничтожно мало, что означает, что значения эффективности в датасете рассчитаны корректно."
   ]
  },
  {
   "cell_type": "markdown",
   "metadata": {},
   "source": [
    "### Проанализируем признаки, недоступные в тестовой выборке"
   ]
  },
  {
   "cell_type": "markdown",
   "metadata": {},
   "source": [
    "Найдем признаки отсутствующие в тестовой выборке:"
   ]
  },
  {
   "cell_type": "code",
   "execution_count": 12,
   "metadata": {
    "scrolled": false
   },
   "outputs": [
    {
     "data": {
      "text/plain": [
       "['final.output.concentrate_ag',\n",
       " 'final.output.concentrate_au',\n",
       " 'final.output.concentrate_pb',\n",
       " 'final.output.concentrate_sol',\n",
       " 'final.output.recovery',\n",
       " 'final.output.tail_ag',\n",
       " 'final.output.tail_au',\n",
       " 'final.output.tail_pb',\n",
       " 'final.output.tail_sol',\n",
       " 'primary_cleaner.output.concentrate_ag',\n",
       " 'primary_cleaner.output.concentrate_au',\n",
       " 'primary_cleaner.output.concentrate_pb',\n",
       " 'primary_cleaner.output.concentrate_sol',\n",
       " 'primary_cleaner.output.tail_ag',\n",
       " 'primary_cleaner.output.tail_au',\n",
       " 'primary_cleaner.output.tail_pb',\n",
       " 'primary_cleaner.output.tail_sol',\n",
       " 'rougher.calculation.au_pb_ratio',\n",
       " 'rougher.calculation.floatbank10_sulfate_to_au_feed',\n",
       " 'rougher.calculation.floatbank11_sulfate_to_au_feed',\n",
       " 'rougher.calculation.sulfate_to_au_concentrate',\n",
       " 'rougher.output.concentrate_ag',\n",
       " 'rougher.output.concentrate_au',\n",
       " 'rougher.output.concentrate_pb',\n",
       " 'rougher.output.concentrate_sol',\n",
       " 'rougher.output.recovery',\n",
       " 'rougher.output.tail_ag',\n",
       " 'rougher.output.tail_au',\n",
       " 'rougher.output.tail_pb',\n",
       " 'rougher.output.tail_sol',\n",
       " 'secondary_cleaner.output.tail_ag',\n",
       " 'secondary_cleaner.output.tail_au',\n",
       " 'secondary_cleaner.output.tail_pb',\n",
       " 'secondary_cleaner.output.tail_sol']"
      ]
     },
     "execution_count": 12,
     "metadata": {},
     "output_type": "execute_result"
    }
   ],
   "source": [
    "different_cols = data_full.columns.difference(data_test.columns)\n",
    "different_cols.to_list()"
   ]
  },
  {
   "cell_type": "markdown",
   "metadata": {},
   "source": [
    "Столбцы, которые отсутствуют в тестовой выборке в своем значении на втором месте, включают слово `output`, обозначающий целевые признаки с параметрами готового продукта после различных стадий, а также признак `calculation`, который рассчитывается на основании этих параметров. Таким образом, можно заключить, что в тестовой выборке отсутствуют данные, полученные после каждой стадии обработки. Запомним эти столбцы, как целевые, они пригодятся нам в дальнейшем."
   ]
  },
  {
   "cell_type": "markdown",
   "metadata": {},
   "source": [
    "\n",
    "### Проведем предобработку данных"
   ]
  },
  {
   "cell_type": "markdown",
   "metadata": {},
   "source": [
    "Нужно разабраться с пропусками в данных. Запомним пропуски используя возможности `fillna` с методом `ffill`:"
   ]
  },
  {
   "cell_type": "code",
   "execution_count": 14,
   "metadata": {},
   "outputs": [],
   "source": [
    "data_train = data_train.fillna(method='ffill')\n",
    "\n",
    "data_full = data_full.fillna(method='ffill')\n",
    "\n",
    "data_test = data_test.fillna(method='ffill')"
   ]
  },
  {
   "cell_type": "markdown",
   "metadata": {},
   "source": [
    "Предобработка данных завершена:\n",
    "\n",
    "- Мы открылы и изучили данные: установили отсутствие дубликатов и заполнили пропуски\n",
    "- Проверили данные на корректность, в частности, что эффективность обогащения соответствует расчетной\n",
    "- Установили какие целевые признаки отсутствуют в тестовой выборке, выделили их в отдельную переменную"
   ]
  },
  {
   "cell_type": "markdown",
   "metadata": {},
   "source": [
    "## Анализ данных"
   ]
  },
  {
   "cell_type": "markdown",
   "metadata": {},
   "source": [
    "### Изменение концентрации металлов на различных этапах очистки"
   ]
  },
  {
   "cell_type": "markdown",
   "metadata": {},
   "source": [
    "Изучим, как меняется концентрация металлов (Au, Ag, Pb) на различных этапах очистки:"
   ]
  },
  {
   "cell_type": "markdown",
   "metadata": {},
   "source": [
    "Сделаем три отдельные выборки для каждого металла:"
   ]
  },
  {
   "cell_type": "code",
   "execution_count": 15,
   "metadata": {},
   "outputs": [],
   "source": [
    "data_ag_conc = data_full.filter(regex='(concentrate_ag|feed_ag)')\n",
    "data_ag_conc.columns = data_ag_conc.columns.str.rstrip('_ag')\n",
    "data_pb_conc = data_full.filter(regex='(concentrate_pb|feed_pb)')\n",
    "data_pb_conc.columns = data_pb_conc.columns.str.rstrip('_pb')\n",
    "data_au_conc = data_full.filter(regex='(concentrate_au|feed_au)')\n",
    "data_au_conc.columns = data_au_conc.columns.str.rstrip('_au')"
   ]
  },
  {
   "cell_type": "markdown",
   "metadata": {},
   "source": [
    "Создадим функцию, чтобы переименовать колонки и привести данные к общему виду:"
   ]
  },
  {
   "cell_type": "code",
   "execution_count": 16,
   "metadata": {
    "scrolled": false
   },
   "outputs": [],
   "source": [
    "pd.set_option('mode.chained_assignment', None)\n",
    "\n",
    "def rename_func(table):\n",
    "    table.rename(columns={'rougher.input.feed': '01 Начальная концентрация', \n",
    "                          'rougher.output.concentrate': '02 Концентрация после флотации', \n",
    "                          'primary_cleaner.output.concentrate': '03 Концентрация после очистки', \n",
    "                          'final.output.concentrate': '04 Финальная концентрация'}, inplace=True)\n",
    "    table.sort_index(axis=1, inplace=True)\n",
    "    \n",
    "    return table\n",
    "\n",
    "for m in (data_ag_conc, data_pb_conc, data_au_conc):\n",
    "    rename_func(m)"
   ]
  },
  {
   "cell_type": "markdown",
   "metadata": {},
   "source": [
    "Создадим функцию, которая нарисует график для каждой выборки:"
   ]
  },
  {
   "cell_type": "code",
   "execution_count": 17,
   "metadata": {},
   "outputs": [],
   "source": [
    "def conc_func(table1, metal):\n",
    "    plt.figure(figsize=(15,7))\n",
    "    graf = plt.hist(table1,\n",
    "    bins=100,\n",
    "    color=['red', 'orange', 'green','blue'],\n",
    "    rwidth=0.85,                \n",
    "    alpha=0.5);\n",
    "    plt.grid(axis='y', alpha=0.7)\n",
    "    plt.legend(table1, fontsize=15)\n",
    "    plt.xlabel('Концентрация', fontsize=15)\n",
    "    plt.ylabel('Частота', fontsize=15)\n",
    "    plt.title('График распределение концентрации {} в зависимости от стадии обработки:'.format(metal), fontsize=15)\n",
    "    print('Распределение концентрации {}  в зависимости от стадии обработки:'.format(metal))\n",
    "    print('Среднее значение концентраций: \\n', table1.mean(axis=0), sep='')"
   ]
  },
  {
   "cell_type": "markdown",
   "metadata": {},
   "source": [
    "Теперь применим ее для каждого металла:"
   ]
  },
  {
   "cell_type": "code",
   "execution_count": 18,
   "metadata": {
    "scrolled": false
   },
   "outputs": [
    {
     "name": "stdout",
     "output_type": "stream",
     "text": [
      "Распределение концентрации свинца  в зависимости от стадии обработки:\n",
      "Среднее значение концентраций: \n",
      "01 Начальная концентрация         3.585096\n",
      "02 Концентрация после флотации    7.606272\n",
      "03 Концентрация после очистки     9.810317\n",
      "04 Финальная концентрация         9.978821\n",
      "dtype: float64\n"
     ]
    },
    {
     "data": {
      "image/png": "[encoded data removed]",
      "text/plain": [
       "<Figure size 1080x504 with 1 Axes>"
      ]
     },
     "metadata": {
      "needs_background": "light"
     },
     "output_type": "display_data"
    }
   ],
   "source": [
    "conc_func(data_pb_conc, 'свинца');"
   ]
  },
  {
   "cell_type": "code",
   "execution_count": 19,
   "metadata": {},
   "outputs": [
    {
     "name": "stdout",
     "output_type": "stream",
     "text": [
      "Распределение концентрации серебра  в зависимости от стадии обработки:\n",
      "Среднее значение концентраций: \n",
      "01 Начальная концентрация          8.794927\n",
      "02 Концентрация после флотации    11.994759\n",
      "03 Концентрация после очистки      8.442408\n",
      "04 Финальная концентрация          5.168387\n",
      "dtype: float64\n"
     ]
    },
    {
     "data": {
      "image/png": "[encoded data removed]",
      "text/plain": [
       "<Figure size 1080x504 with 1 Axes>"
      ]
     },
     "metadata": {
      "needs_background": "light"
     },
     "output_type": "display_data"
    }
   ],
   "source": [
    "conc_func(data_ag_conc, 'серебра');"
   ]
  },
  {
   "cell_type": "code",
   "execution_count": 20,
   "metadata": {},
   "outputs": [
    {
     "name": "stdout",
     "output_type": "stream",
     "text": [
      "Распределение концентрации золота  в зависимости от стадии обработки:\n",
      "Среднее значение концентраций: \n",
      "01 Начальная концентрация          8.266097\n",
      "02 Концентрация после флотации    19.772000\n",
      "03 Концентрация после очистки     32.119400\n",
      "04 Финальная концентрация         44.076513\n",
      "dtype: float64\n"
     ]
    },
    {
     "data": {
      "image/png": "[encoded data removed]",
      "text/plain": [
       "<Figure size 1080x504 with 1 Axes>"
      ]
     },
     "metadata": {
      "needs_background": "light"
     },
     "output_type": "display_data"
    }
   ],
   "source": [
    "conc_func(data_au_conc, 'золота');"
   ]
  },
  {
   "cell_type": "markdown",
   "metadata": {},
   "source": [
    "Дополнительно изучим изменение средних значений концентраций для каждого металла на каждом этапе очистки:"
   ]
  },
  {
   "cell_type": "code",
   "execution_count": 21,
   "metadata": {},
   "outputs": [
    {
     "data": {
      "image/png": "[encoded data removed]",
      "text/plain": [
       "<Figure size 1080x504 with 1 Axes>"
      ]
     },
     "metadata": {
      "needs_background": "light"
     },
     "output_type": "display_data"
    }
   ],
   "source": [
    "plt.figure(figsize=(15,7))\n",
    "plt.plot(data_ag_conc.mean(), label='Серебро')\n",
    "plt.plot(data_pb_conc.mean(), label='Свинец')\n",
    "plt.plot(data_au_conc.mean(), label='Золото')\n",
    "plt.legend(fontsize=15)\n",
    "plt.title('plt.step(where=...)')\n",
    "plt.show()"
   ]
  },
  {
   "cell_type": "markdown",
   "metadata": {},
   "source": [
    "После расмотрения полученных графиков можно сказать, что после каждого этапа очистки растет концентрация золота `au` в сырье. Оно увеличивается с 8 до 44. Тоже растет концентрация, но слабее свинца `pb`, с 3 до 10. Содержание же серебра `ag` повышается с 10 до максимального 12 после процесса флотации, а потом падает до 5."
   ]
  },
  {
   "cell_type": "markdown",
   "metadata": {},
   "source": [
    "### Проанализируем распределения размеров гранул на обучающей и тестовой выборках"
   ]
  },
  {
   "cell_type": "markdown",
   "metadata": {},
   "source": [
    "Теперь проведем анализ распределения размера гранул на обучающей и тестовых выборках. Если распределения сильно отличаются друг от друга, оценка модели будет неправильной.\n",
    "\n",
    "Для этого будем изучать колонки `rougher.input.feed_size` в обоих выборках:"
   ]
  },
  {
   "cell_type": "code",
   "execution_count": 22,
   "metadata": {
    "scrolled": false
   },
   "outputs": [],
   "source": [
    "data_feed_size_rougher = pd.concat([data_train['rougher.input.feed_size'], data_test['rougher.input.feed_size']], axis=1)\n",
    "data_feed_size_rougher.columns = ['Train Feed Size', 'Test Feed Size'] "
   ]
  },
  {
   "cell_type": "code",
   "execution_count": 23,
   "metadata": {},
   "outputs": [],
   "source": [
    "data_feed_size_cleaner = pd.concat([data_train['primary_cleaner.input.feed_size'], data_test['primary_cleaner.input.feed_size']], axis=1)\n",
    "data_feed_size_cleaner.columns = ['Train Feed Size', 'Test Feed Size']  "
   ]
  },
  {
   "cell_type": "markdown",
   "metadata": {},
   "source": [
    "Изучать мы будем через гистограмму плотности.\n",
    "Напишем функцию, для отображения графика:"
   ]
  },
  {
   "cell_type": "code",
   "execution_count": 24,
   "metadata": {},
   "outputs": [],
   "source": [
    "def conc_distr(table2):\n",
    "    plt.figure(figsize=(15,7))\n",
    "    graf = plt.hist(table2,\n",
    "    bins='auto',\n",
    "    color=['green', 'red'],\n",
    "    rwidth=0.85,                \n",
    "    alpha=0.5,                \n",
    "    density=True);\n",
    "    plt.grid(axis='y', alpha=0.7)\n",
    "    plt.legend(table2, fontsize=15)\n",
    "    plt.xlabel('Концентрация', fontsize=15)\n",
    "    plt.ylabel('Плотность', fontsize=15)\n",
    "    plt.title('Распределение размера гранул в обучающей и тестовой выборках:', fontsize=15)"
   ]
  },
  {
   "cell_type": "code",
   "execution_count": 25,
   "metadata": {},
   "outputs": [
    {
     "name": "stdout",
     "output_type": "stream",
     "text": [
      "Распределение размера гранул при процессе флотации:\n"
     ]
    },
    {
     "data": {
      "image/png": "[encoded data removed]",
      "text/plain": [
       "<Figure size 1080x504 with 1 Axes>"
      ]
     },
     "metadata": {
      "needs_background": "light"
     },
     "output_type": "display_data"
    }
   ],
   "source": [
    "print('Распределение размера гранул при процессе флотации:')\n",
    "conc_distr(data_feed_size_rougher)"
   ]
  },
  {
   "cell_type": "code",
   "execution_count": 26,
   "metadata": {},
   "outputs": [
    {
     "name": "stdout",
     "output_type": "stream",
     "text": [
      "Распределение размера гранул при процессе очистки:\n"
     ]
    },
    {
     "data": {
      "image/png": "[encoded data removed]",
      "text/plain": [
       "<Figure size 1080x504 with 1 Axes>"
      ]
     },
     "metadata": {
      "needs_background": "light"
     },
     "output_type": "display_data"
    }
   ],
   "source": [
    "print('Распределение размера гранул при процессе очистки:')\n",
    "conc_distr(data_feed_size_cleaner)"
   ]
  },
  {
   "cell_type": "markdown",
   "metadata": {},
   "source": [
    "Как можно заметить на графиках распределения для размера гранул в обучающих и тестовых выборках как на стадии флотации так и на стадии очисти совпадает, значит на работу модели это не повлияет.\n"
   ]
  },
  {
   "cell_type": "markdown",
   "metadata": {},
   "source": [
    "### Исследование суммарной концентрации всех веществ на разных стадиях"
   ]
  },
  {
   "cell_type": "markdown",
   "metadata": {},
   "source": [
    "Исследуем суммарную концентрацию всех веществ на разных стадиях: в сырье, в черновом и финальном концентратах. \n",
    "Выведем небольшую шпаргалку, чтобы выбрать правильные столбики:"
   ]
  },
  {
   "cell_type": "code",
   "execution_count": 27,
   "metadata": {
    "scrolled": false
   },
   "outputs": [
    {
     "data": {
      "text/html": [
       "<div>\n",
       "<style scoped>\n",
       "    .dataframe tbody tr th:only-of-type {\n",
       "        vertical-align: middle;\n",
       "    }\n",
       "\n",
       "    .dataframe tbody tr th {\n",
       "        vertical-align: top;\n",
       "    }\n",
       "\n",
       "    .dataframe thead th {\n",
       "        text-align: right;\n",
       "    }\n",
       "</style>\n",
       "<table border=\"1\" class=\"dataframe\">\n",
       "  <thead>\n",
       "    <tr style=\"text-align: right;\">\n",
       "      <th></th>\n",
       "      <th>0</th>\n",
       "      <th>1</th>\n",
       "      <th>2</th>\n",
       "      <th>3</th>\n",
       "    </tr>\n",
       "  </thead>\n",
       "  <tbody>\n",
       "    <tr>\n",
       "      <th>final.output.concentrate_ag</th>\n",
       "      <td>6.055403</td>\n",
       "      <td>6.029369</td>\n",
       "      <td>6.055926</td>\n",
       "      <td>6.047977</td>\n",
       "    </tr>\n",
       "    <tr>\n",
       "      <th>final.output.concentrate_pb</th>\n",
       "      <td>9.889648</td>\n",
       "      <td>9.968944</td>\n",
       "      <td>10.213995</td>\n",
       "      <td>9.977019</td>\n",
       "    </tr>\n",
       "    <tr>\n",
       "      <th>final.output.concentrate_sol</th>\n",
       "      <td>5.507324</td>\n",
       "      <td>5.257781</td>\n",
       "      <td>5.383759</td>\n",
       "      <td>4.858634</td>\n",
       "    </tr>\n",
       "    <tr>\n",
       "      <th>final.output.concentrate_au</th>\n",
       "      <td>42.192020</td>\n",
       "      <td>42.701629</td>\n",
       "      <td>42.657501</td>\n",
       "      <td>42.689819</td>\n",
       "    </tr>\n",
       "    <tr>\n",
       "      <th>primary_cleaner.input.feed_size</th>\n",
       "      <td>7.250000</td>\n",
       "      <td>7.250000</td>\n",
       "      <td>7.250000</td>\n",
       "      <td>7.250000</td>\n",
       "    </tr>\n",
       "    <tr>\n",
       "      <th>primary_cleaner.output.concentrate_ag</th>\n",
       "      <td>8.547551</td>\n",
       "      <td>8.558743</td>\n",
       "      <td>8.603505</td>\n",
       "      <td>7.221879</td>\n",
       "    </tr>\n",
       "    <tr>\n",
       "      <th>primary_cleaner.output.concentrate_pb</th>\n",
       "      <td>10.389648</td>\n",
       "      <td>10.497069</td>\n",
       "      <td>10.354494</td>\n",
       "      <td>8.496563</td>\n",
       "    </tr>\n",
       "    <tr>\n",
       "      <th>primary_cleaner.output.concentrate_sol</th>\n",
       "      <td>19.529297</td>\n",
       "      <td>19.369147</td>\n",
       "      <td>19.167579</td>\n",
       "      <td>15.978538</td>\n",
       "    </tr>\n",
       "    <tr>\n",
       "      <th>primary_cleaner.output.concentrate_au</th>\n",
       "      <td>34.174427</td>\n",
       "      <td>34.118526</td>\n",
       "      <td>33.969464</td>\n",
       "      <td>28.260743</td>\n",
       "    </tr>\n",
       "    <tr>\n",
       "      <th>rougher.calculation.sulfate_to_au_concentrate</th>\n",
       "      <td>41885.707031</td>\n",
       "      <td>42050.861809</td>\n",
       "      <td>42018.101184</td>\n",
       "      <td>42029.447991</td>\n",
       "    </tr>\n",
       "    <tr>\n",
       "      <th>rougher.calculation.floatbank10_sulfate_to_au_feed</th>\n",
       "      <td>3481.779053</td>\n",
       "      <td>3498.370979</td>\n",
       "      <td>3495.348910</td>\n",
       "      <td>3498.578313</td>\n",
       "    </tr>\n",
       "    <tr>\n",
       "      <th>rougher.calculation.floatbank11_sulfate_to_au_feed</th>\n",
       "      <td>3520.337158</td>\n",
       "      <td>3489.981857</td>\n",
       "      <td>3502.359819</td>\n",
       "      <td>3499.162912</td>\n",
       "    </tr>\n",
       "    <tr>\n",
       "      <th>rougher.input.feed_ag</th>\n",
       "      <td>6.100378</td>\n",
       "      <td>6.161113</td>\n",
       "      <td>6.116455</td>\n",
       "      <td>6.043309</td>\n",
       "    </tr>\n",
       "    <tr>\n",
       "      <th>rougher.input.feed_pb</th>\n",
       "      <td>2.284912</td>\n",
       "      <td>2.266033</td>\n",
       "      <td>2.159622</td>\n",
       "      <td>2.037807</td>\n",
       "    </tr>\n",
       "    <tr>\n",
       "      <th>rougher.input.feed_rate</th>\n",
       "      <td>523.546326</td>\n",
       "      <td>525.290581</td>\n",
       "      <td>530.026610</td>\n",
       "      <td>542.590390</td>\n",
       "    </tr>\n",
       "    <tr>\n",
       "      <th>rougher.input.feed_size</th>\n",
       "      <td>55.486599</td>\n",
       "      <td>57.278666</td>\n",
       "      <td>57.510649</td>\n",
       "      <td>57.792734</td>\n",
       "    </tr>\n",
       "    <tr>\n",
       "      <th>rougher.input.feed_sol</th>\n",
       "      <td>36.808594</td>\n",
       "      <td>35.753385</td>\n",
       "      <td>35.971630</td>\n",
       "      <td>36.862241</td>\n",
       "    </tr>\n",
       "    <tr>\n",
       "      <th>rougher.input.feed_au</th>\n",
       "      <td>6.486150</td>\n",
       "      <td>6.478583</td>\n",
       "      <td>6.362222</td>\n",
       "      <td>6.118189</td>\n",
       "    </tr>\n",
       "    <tr>\n",
       "      <th>rougher.output.concentrate_ag</th>\n",
       "      <td>11.500771</td>\n",
       "      <td>11.615865</td>\n",
       "      <td>11.695753</td>\n",
       "      <td>11.915047</td>\n",
       "    </tr>\n",
       "    <tr>\n",
       "      <th>rougher.output.concentrate_pb</th>\n",
       "      <td>7.101074</td>\n",
       "      <td>7.278807</td>\n",
       "      <td>7.216833</td>\n",
       "      <td>7.175616</td>\n",
       "    </tr>\n",
       "    <tr>\n",
       "      <th>rougher.output.concentrate_sol</th>\n",
       "      <td>28.029297</td>\n",
       "      <td>28.067063</td>\n",
       "      <td>27.454037</td>\n",
       "      <td>27.341277</td>\n",
       "    </tr>\n",
       "    <tr>\n",
       "      <th>rougher.output.concentrate_au</th>\n",
       "      <td>19.793808</td>\n",
       "      <td>20.050975</td>\n",
       "      <td>19.737170</td>\n",
       "      <td>19.320810</td>\n",
       "    </tr>\n",
       "  </tbody>\n",
       "</table>\n",
       "</div>"
      ],
      "text/plain": [
       "                                                               0  \\\n",
       "final.output.concentrate_ag                             6.055403   \n",
       "final.output.concentrate_pb                             9.889648   \n",
       "final.output.concentrate_sol                            5.507324   \n",
       "final.output.concentrate_au                            42.192020   \n",
       "primary_cleaner.input.feed_size                         7.250000   \n",
       "primary_cleaner.output.concentrate_ag                   8.547551   \n",
       "primary_cleaner.output.concentrate_pb                  10.389648   \n",
       "primary_cleaner.output.concentrate_sol                 19.529297   \n",
       "primary_cleaner.output.concentrate_au                  34.174427   \n",
       "rougher.calculation.sulfate_to_au_concentrate       41885.707031   \n",
       "rougher.calculation.floatbank10_sulfate_to_au_feed   3481.779053   \n",
       "rougher.calculation.floatbank11_sulfate_to_au_feed   3520.337158   \n",
       "rougher.input.feed_ag                                   6.100378   \n",
       "rougher.input.feed_pb                                   2.284912   \n",
       "rougher.input.feed_rate                               523.546326   \n",
       "rougher.input.feed_size                                55.486599   \n",
       "rougher.input.feed_sol                                 36.808594   \n",
       "rougher.input.feed_au                                   6.486150   \n",
       "rougher.output.concentrate_ag                          11.500771   \n",
       "rougher.output.concentrate_pb                           7.101074   \n",
       "rougher.output.concentrate_sol                         28.029297   \n",
       "rougher.output.concentrate_au                          19.793808   \n",
       "\n",
       "                                                               1  \\\n",
       "final.output.concentrate_ag                             6.029369   \n",
       "final.output.concentrate_pb                             9.968944   \n",
       "final.output.concentrate_sol                            5.257781   \n",
       "final.output.concentrate_au                            42.701629   \n",
       "primary_cleaner.input.feed_size                         7.250000   \n",
       "primary_cleaner.output.concentrate_ag                   8.558743   \n",
       "primary_cleaner.output.concentrate_pb                  10.497069   \n",
       "primary_cleaner.output.concentrate_sol                 19.369147   \n",
       "primary_cleaner.output.concentrate_au                  34.118526   \n",
       "rougher.calculation.sulfate_to_au_concentrate       42050.861809   \n",
       "rougher.calculation.floatbank10_sulfate_to_au_feed   3498.370979   \n",
       "rougher.calculation.floatbank11_sulfate_to_au_feed   3489.981857   \n",
       "rougher.input.feed_ag                                   6.161113   \n",
       "rougher.input.feed_pb                                   2.266033   \n",
       "rougher.input.feed_rate                               525.290581   \n",
       "rougher.input.feed_size                                57.278666   \n",
       "rougher.input.feed_sol                                 35.753385   \n",
       "rougher.input.feed_au                                   6.478583   \n",
       "rougher.output.concentrate_ag                          11.615865   \n",
       "rougher.output.concentrate_pb                           7.278807   \n",
       "rougher.output.concentrate_sol                         28.067063   \n",
       "rougher.output.concentrate_au                          20.050975   \n",
       "\n",
       "                                                               2             3  \n",
       "final.output.concentrate_ag                             6.055926      6.047977  \n",
       "final.output.concentrate_pb                            10.213995      9.977019  \n",
       "final.output.concentrate_sol                            5.383759      4.858634  \n",
       "final.output.concentrate_au                            42.657501     42.689819  \n",
       "primary_cleaner.input.feed_size                         7.250000      7.250000  \n",
       "primary_cleaner.output.concentrate_ag                   8.603505      7.221879  \n",
       "primary_cleaner.output.concentrate_pb                  10.354494      8.496563  \n",
       "primary_cleaner.output.concentrate_sol                 19.167579     15.978538  \n",
       "primary_cleaner.output.concentrate_au                  33.969464     28.260743  \n",
       "rougher.calculation.sulfate_to_au_concentrate       42018.101184  42029.447991  \n",
       "rougher.calculation.floatbank10_sulfate_to_au_feed   3495.348910   3498.578313  \n",
       "rougher.calculation.floatbank11_sulfate_to_au_feed   3502.359819   3499.162912  \n",
       "rougher.input.feed_ag                                   6.116455      6.043309  \n",
       "rougher.input.feed_pb                                   2.159622      2.037807  \n",
       "rougher.input.feed_rate                               530.026610    542.590390  \n",
       "rougher.input.feed_size                                57.510649     57.792734  \n",
       "rougher.input.feed_sol                                 35.971630     36.862241  \n",
       "rougher.input.feed_au                                   6.362222      6.118189  \n",
       "rougher.output.concentrate_ag                          11.695753     11.915047  \n",
       "rougher.output.concentrate_pb                           7.216833      7.175616  \n",
       "rougher.output.concentrate_sol                         27.454037     27.341277  \n",
       "rougher.output.concentrate_au                          19.737170     19.320810  "
      ]
     },
     "execution_count": 27,
     "metadata": {},
     "output_type": "execute_result"
    }
   ],
   "source": [
    "data_сoncentrate_raw = data_full.filter(regex='(concentrate|feed)')\n",
    "data_сoncentrate_raw[:4].transpose()"
   ]
  },
  {
   "cell_type": "markdown",
   "metadata": {},
   "source": [
    "Создадим отдельный датафрейм где сведем суммарную информацию о концинтрации веществ:"
   ]
  },
  {
   "cell_type": "code",
   "execution_count": 28,
   "metadata": {
    "scrolled": false
   },
   "outputs": [],
   "source": [
    "data_сoncentrate_full = pd.DataFrame()\n",
    "\n",
    "data_сoncentrate_full['01 Концентрация в сырье'] = (data_full['rougher.input.feed_ag']\n",
    "    + data_full['rougher.input.feed_pb']\n",
    "    + data_full['rougher.input.feed_au']\n",
    "    + data_full['rougher.input.feed_sol'])\n",
    "\n",
    "data_сoncentrate_full['02 Концентрация в черновом'] = (data_full['rougher.output.concentrate_ag'] \n",
    "    + data_full['rougher.output.concentrate_pb']\n",
    "    + data_full['rougher.output.concentrate_au']\n",
    "    + data_full['rougher.output.concentrate_sol'])\n",
    "\n",
    "data_сoncentrate_full['03 Финальная концентрация'] = (data_full['final.output.concentrate_ag'] \n",
    "    + data_full['final.output.concentrate_pb']\n",
    "    + data_full['final.output.concentrate_au']\n",
    "    + data_full['final.output.concentrate_sol'])\n",
    "\n",
    "#data_сoncentrate_full[:4].transpose()"
   ]
  },
  {
   "cell_type": "code",
   "execution_count": 29,
   "metadata": {},
   "outputs": [
    {
     "data": {
      "image/png": "[encoded data removed]",
      "text/plain": [
       "<Figure size 1080x504 with 1 Axes>"
      ]
     },
     "metadata": {
      "needs_background": "light"
     },
     "output_type": "display_data"
    }
   ],
   "source": [
    "plt.figure(figsize=(15,7))\n",
    "\n",
    "plt.hist(data_сoncentrate_full, bins=100, color=['red', 'orange', 'blue'], rwidth=0.85, alpha=0.5);\n",
    "\n",
    "plt.grid(axis='y', alpha=0.7)\n",
    "plt.legend(data_сoncentrate_full, fontsize=15)\n",
    "plt.xlabel('Концентрация', fontsize=15)\n",
    "plt.ylabel('Частота', fontsize=15)\n",
    "plt.title('График распределение концентрации вещества в зависимости от стадии обработки:', fontsize=15);"
   ]
  },
  {
   "cell_type": "markdown",
   "metadata": {},
   "source": [
    "По графику видно, как растет (сдвигается вправо) концентрация после черновой обработки по сравнению со стадией необработанного сырья: среднее в районе 70 против 60. Дальнейшая обработка держится на этом же уровне, только увеличивая частоту элементов с высокой концентрацией и поэтому пирамида финальной концентрации становится уже. Так же на этом графике заметно, что в данных существуют выбросы в районе 0 значений. Нужно их убрать:"
   ]
  },
  {
   "cell_type": "code",
   "execution_count": 30,
   "metadata": {},
   "outputs": [],
   "source": [
    "for col in different_cols:\n",
    "    data_train_clean = data_train[data_train[col]>0]"
   ]
  },
  {
   "cell_type": "markdown",
   "metadata": {},
   "source": [
    "После проведенного анализа данных можно сделать следующие выводы:\n",
    "- Установили, что каждый этап очистки увеличивает концентрацию золота, его концентрация увеличивается в 5 раз с 8 до 40 \n",
    "- Мы подтвердили, что в учебной и тестовой выборках распределение размеров гранул совпадает и значит можно обучать и проверять модели\n",
    "- Каждая стадия обработки влияет на концентрацию веществ, сначала увеличивая ее, а потом уменьша разброс"
   ]
  },
  {
   "cell_type": "markdown",
   "metadata": {},
   "source": [
    "## Модель"
   ]
  },
  {
   "cell_type": "markdown",
   "metadata": {},
   "source": [
    "### Напишем функцию для вычисления итоговой sMAPE"
   ]
  },
  {
   "cell_type": "markdown",
   "metadata": {},
   "source": [
    "Прежде чем обучить модель необходимо создать функцию для расчета симметричного среднего абсолютного процентного отклонения( sMAPE): "
   ]
  },
  {
   "cell_type": "markdown",
   "metadata": {},
   "source": [
    "Формула для рассчета SMAPE:\n",
    "\n",
    "![smape](https://pictures.s3.yandex.net/resources/smape_1576239058.jpg \"smape\")\n",
    "![smape_final](https://pictures.s3.yandex.net/resources/_smape_1576239054.jpg \"smape_final\")"
   ]
  },
  {
   "cell_type": "markdown",
   "metadata": {},
   "source": [
    "Так как формула должна затрагивать сразу два показателя, то в теле общей функции мы создадим функцию сначала для `rougher`, затем для `final`, а после объединим в одну:"
   ]
  },
  {
   "cell_type": "code",
   "execution_count": 31,
   "metadata": {},
   "outputs": [],
   "source": [
    "def smape(t, p):\n",
    "    \n",
    "    t = t.to_numpy()\n",
    "\n",
    "    t_rougher = t[:, 0]\n",
    "    p_rougher = p[:, 0]\n",
    "    \n",
    "    \n",
    "    smape_rougher = np.mean(\n",
    "            np.abs(p_rougher - t_rougher) / \n",
    "            ((np.abs(p_rougher) + np.abs(t_rougher))/2)\n",
    "        )*100\n",
    "\n",
    "    t_final = t[:, 1]\n",
    "    p_final = p[:, 1]\n",
    "\n",
    "    smape_final = np.mean(\n",
    "            np.abs(p_final - t_final) / \n",
    "            ((np.abs(p_final) + np.abs(t_final))/2)\n",
    "        )*100\n",
    "    \n",
    "    smape = smape_rougher * 0.25 + smape_final * 0.75\n",
    "    \n",
    "    return smape"
   ]
  },
  {
   "cell_type": "markdown",
   "metadata": {},
   "source": [
    "Теперь с помощью `make_scorer` сделаем нашу функцию SMAPE пригодной к использованию при обучении модели:"
   ]
  },
  {
   "cell_type": "code",
   "execution_count": 32,
   "metadata": {},
   "outputs": [],
   "source": [
    "smape_scorer = make_scorer(smape, greater_is_better=False)"
   ]
  },
  {
   "cell_type": "markdown",
   "metadata": {},
   "source": [
    "### Подготовка выборок"
   ]
  },
  {
   "cell_type": "markdown",
   "metadata": {},
   "source": [
    "Разделим данные на признаки и целевые признаки:"
   ]
  },
  {
   "cell_type": "markdown",
   "metadata": {},
   "source": [
    "Тестовая выборка уже готова, чтобы быть `data_test_features`: "
   ]
  },
  {
   "cell_type": "code",
   "execution_count": 33,
   "metadata": {
    "scrolled": true
   },
   "outputs": [],
   "source": [
    "data_test_features = data_test"
   ]
  },
  {
   "cell_type": "markdown",
   "metadata": {},
   "source": [
    "Осталось сделать соответствующую выборку с целевыми признаками. Для этого выведем необходимые столбцы из `data_full` с помощью функции `merge`:"
   ]
  },
  {
   "cell_type": "code",
   "execution_count": 34,
   "metadata": {
    "scrolled": true
   },
   "outputs": [],
   "source": [
    "data_test_target = (\n",
    "data_test[['date']].merge(data_full[['rougher.output.recovery','final.output.recovery', 'date']],\n",
    "on='date', how='inner', copy='False')\n",
    ")"
   ]
  },
  {
   "cell_type": "markdown",
   "metadata": {},
   "source": [
    "Проверим корректность с помощью функции `shape`, чтобы совпадало количество строк:"
   ]
  },
  {
   "cell_type": "code",
   "execution_count": 35,
   "metadata": {},
   "outputs": [
    {
     "data": {
      "text/plain": [
       "(5290, 3)"
      ]
     },
     "metadata": {},
     "output_type": "display_data"
    },
    {
     "data": {
      "text/plain": [
       "(5290, 53)"
      ]
     },
     "metadata": {},
     "output_type": "display_data"
    }
   ],
   "source": [
    "display(data_test_target.shape, data_test_features.shape)"
   ]
  },
  {
   "cell_type": "markdown",
   "metadata": {},
   "source": [
    "Теперь для дальнейшей работы разобьем обучающую выборку - исключим из нее целевые признаки и выделем в отдельный датасет. Удалим и колонку `date` так как она не понадобится для обучения модели:"
   ]
  },
  {
   "cell_type": "code",
   "execution_count": 36,
   "metadata": {},
   "outputs": [],
   "source": [
    "data_train_features = data_train_clean.drop(different_cols.union(['date']), axis=1)\n",
    "data_train_target = data_train_clean[['rougher.output.recovery','final.output.recovery']]"
   ]
  },
  {
   "cell_type": "markdown",
   "metadata": {},
   "source": [
    "Удалим столбец `date` и из тестовой выборки:"
   ]
  },
  {
   "cell_type": "code",
   "execution_count": 37,
   "metadata": {},
   "outputs": [],
   "source": [
    "data_test_features = data_test_features.drop('date', axis=1)\n",
    "data_test_target = data_test_target.drop('date', axis=1)"
   ]
  },
  {
   "cell_type": "markdown",
   "metadata": {},
   "source": [
    "Теперь масштабируем признаки в обучающей и тестовой выборках:"
   ]
  },
  {
   "cell_type": "code",
   "execution_count": 38,
   "metadata": {},
   "outputs": [],
   "source": [
    "scaler = StandardScaler()\n",
    "scaler.fit(data_train_features) \n",
    "data_train_features = scaler.transform(data_train_features)\n",
    "data_test_features = scaler.transform(data_test_features)"
   ]
  },
  {
   "cell_type": "markdown",
   "metadata": {},
   "source": [
    "### Обучим модели"
   ]
  },
  {
   "cell_type": "markdown",
   "metadata": {},
   "source": [
    "Начнем изучение моделей с линейной регресси:"
   ]
  },
  {
   "cell_type": "code",
   "execution_count": 39,
   "metadata": {},
   "outputs": [
    {
     "name": "stdout",
     "output_type": "stream",
     "text": [
      "Показатель SMAPE: 13.84338261011988\n"
     ]
    }
   ],
   "source": [
    "model = LinearRegression()\n",
    "model.fit(data_train_features, data_train_target)\n",
    "smape_mean = cross_val_score(model, data_train_features, data_train_target, cv=3, scoring=smape_scorer).mean()\n",
    "print('Показатель SMAPE:', -smape_mean)"
   ]
  },
  {
   "cell_type": "markdown",
   "metadata": {},
   "source": [
    "Следующей проверим модель дерева решений:"
   ]
  },
  {
   "cell_type": "code",
   "execution_count": 40,
   "metadata": {
    "scrolled": true
   },
   "outputs": [
    {
     "name": "stdout",
     "output_type": "stream",
     "text": [
      "Fitting 3 folds for each of 10 candidates, totalling 30 fits\n",
      "[CV 1/3; 1/10] START max_depth=1................................................\n",
      "[CV 1/3; 1/10] END ..............................max_depth=1; total time=   0.1s\n",
      "[CV 2/3; 1/10] START max_depth=1................................................\n",
      "[CV 2/3; 1/10] END ..............................max_depth=1; total time=   0.1s\n",
      "[CV 3/3; 1/10] START max_depth=1................................................\n",
      "[CV 3/3; 1/10] END ..............................max_depth=1; total time=   0.1s\n",
      "[CV 1/3; 2/10] START max_depth=2................................................\n",
      "[CV 1/3; 2/10] END ..............................max_depth=2; total time=   0.1s\n",
      "[CV 2/3; 2/10] START max_depth=2................................................\n",
      "[CV 2/3; 2/10] END ..............................max_depth=2; total time=   0.1s\n",
      "[CV 3/3; 2/10] START max_depth=2................................................\n",
      "[CV 3/3; 2/10] END ..............................max_depth=2; total time=   0.1s\n",
      "[CV 1/3; 3/10] START max_depth=3................................................\n",
      "[CV 1/3; 3/10] END ..............................max_depth=3; total time=   0.2s\n",
      "[CV 2/3; 3/10] START max_depth=3................................................\n",
      "[CV 2/3; 3/10] END ..............................max_depth=3; total time=   0.2s\n",
      "[CV 3/3; 3/10] START max_depth=3................................................\n",
      "[CV 3/3; 3/10] END ..............................max_depth=3; total time=   0.2s\n",
      "[CV 1/3; 4/10] START max_depth=4................................................\n",
      "[CV 1/3; 4/10] END ..............................max_depth=4; total time=   0.2s\n",
      "[CV 2/3; 4/10] START max_depth=4................................................\n",
      "[CV 2/3; 4/10] END ..............................max_depth=4; total time=   0.2s\n",
      "[CV 3/3; 4/10] START max_depth=4................................................\n",
      "[CV 3/3; 4/10] END ..............................max_depth=4; total time=   0.2s\n",
      "[CV 1/3; 5/10] START max_depth=5................................................\n",
      "[CV 1/3; 5/10] END ..............................max_depth=5; total time=   0.2s\n",
      "[CV 2/3; 5/10] START max_depth=5................................................\n",
      "[CV 2/3; 5/10] END ..............................max_depth=5; total time=   0.2s\n",
      "[CV 3/3; 5/10] START max_depth=5................................................\n"
     ]
    },
    {
     "name": "stderr",
     "output_type": "stream",
     "text": [
      "/tmp/ipykernel_1228/894555044.py:10: RuntimeWarning: invalid value encountered in true_divide\n",
      "  np.abs(p_rougher - t_rougher) /\n"
     ]
    },
    {
     "name": "stdout",
     "output_type": "stream",
     "text": [
      "[CV 3/3; 5/10] END ..............................max_depth=5; total time=   0.2s\n",
      "[CV 1/3; 6/10] START max_depth=6................................................\n",
      "[CV 1/3; 6/10] END ..............................max_depth=6; total time=   0.3s\n",
      "[CV 2/3; 6/10] START max_depth=6................................................\n",
      "[CV 2/3; 6/10] END ..............................max_depth=6; total time=   0.3s\n",
      "[CV 3/3; 6/10] START max_depth=6................................................\n"
     ]
    },
    {
     "name": "stderr",
     "output_type": "stream",
     "text": [
      "/tmp/ipykernel_1228/894555044.py:10: RuntimeWarning: invalid value encountered in true_divide\n",
      "  np.abs(p_rougher - t_rougher) /\n"
     ]
    },
    {
     "name": "stdout",
     "output_type": "stream",
     "text": [
      "[CV 3/3; 6/10] END ..............................max_depth=6; total time=   0.3s\n",
      "[CV 1/3; 7/10] START max_depth=7................................................\n"
     ]
    },
    {
     "name": "stderr",
     "output_type": "stream",
     "text": [
      "/tmp/ipykernel_1228/894555044.py:10: RuntimeWarning: invalid value encountered in true_divide\n",
      "  np.abs(p_rougher - t_rougher) /\n"
     ]
    },
    {
     "name": "stdout",
     "output_type": "stream",
     "text": [
      "[CV 1/3; 7/10] END ..............................max_depth=7; total time=   0.3s\n",
      "[CV 2/3; 7/10] START max_depth=7................................................\n",
      "[CV 2/3; 7/10] END ..............................max_depth=7; total time=   0.3s\n",
      "[CV 3/3; 7/10] START max_depth=7................................................\n"
     ]
    },
    {
     "name": "stderr",
     "output_type": "stream",
     "text": [
      "/tmp/ipykernel_1228/894555044.py:10: RuntimeWarning: invalid value encountered in true_divide\n",
      "  np.abs(p_rougher - t_rougher) /\n"
     ]
    },
    {
     "name": "stdout",
     "output_type": "stream",
     "text": [
      "[CV 3/3; 7/10] END ..............................max_depth=7; total time=   0.3s\n",
      "[CV 1/3; 8/10] START max_depth=8................................................\n"
     ]
    },
    {
     "name": "stderr",
     "output_type": "stream",
     "text": [
      "/tmp/ipykernel_1228/894555044.py:10: RuntimeWarning: invalid value encountered in true_divide\n",
      "  np.abs(p_rougher - t_rougher) /\n"
     ]
    },
    {
     "name": "stdout",
     "output_type": "stream",
     "text": [
      "[CV 1/3; 8/10] END ..............................max_depth=8; total time=   0.4s\n",
      "[CV 2/3; 8/10] START max_depth=8................................................\n"
     ]
    },
    {
     "name": "stderr",
     "output_type": "stream",
     "text": [
      "/tmp/ipykernel_1228/894555044.py:18: RuntimeWarning: invalid value encountered in true_divide\n",
      "  np.abs(p_final - t_final) /\n"
     ]
    },
    {
     "name": "stdout",
     "output_type": "stream",
     "text": [
      "[CV 2/3; 8/10] END ..............................max_depth=8; total time=   0.4s\n",
      "[CV 3/3; 8/10] START max_depth=8................................................\n"
     ]
    },
    {
     "name": "stderr",
     "output_type": "stream",
     "text": [
      "/tmp/ipykernel_1228/894555044.py:10: RuntimeWarning: invalid value encountered in true_divide\n",
      "  np.abs(p_rougher - t_rougher) /\n"
     ]
    },
    {
     "name": "stdout",
     "output_type": "stream",
     "text": [
      "[CV 3/3; 8/10] END ..............................max_depth=8; total time=   0.4s\n",
      "[CV 1/3; 9/10] START max_depth=9................................................\n",
      "[CV 1/3; 9/10] END ..............................max_depth=9; total time=   0.4s\n",
      "[CV 2/3; 9/10] START max_depth=9................................................\n"
     ]
    },
    {
     "name": "stderr",
     "output_type": "stream",
     "text": [
      "/tmp/ipykernel_1228/894555044.py:18: RuntimeWarning: invalid value encountered in true_divide\n",
      "  np.abs(p_final - t_final) /\n"
     ]
    },
    {
     "name": "stdout",
     "output_type": "stream",
     "text": [
      "[CV 2/3; 9/10] END ..............................max_depth=9; total time=   0.4s\n",
      "[CV 3/3; 9/10] START max_depth=9................................................\n"
     ]
    },
    {
     "name": "stderr",
     "output_type": "stream",
     "text": [
      "/tmp/ipykernel_1228/894555044.py:10: RuntimeWarning: invalid value encountered in true_divide\n",
      "  np.abs(p_rougher - t_rougher) /\n"
     ]
    },
    {
     "name": "stdout",
     "output_type": "stream",
     "text": [
      "[CV 3/3; 9/10] END ..............................max_depth=9; total time=   0.5s\n",
      "[CV 1/3; 10/10] START max_depth=10..............................................\n",
      "[CV 1/3; 10/10] END ............................max_depth=10; total time=   0.4s\n",
      "[CV 2/3; 10/10] START max_depth=10..............................................\n",
      "[CV 2/3; 10/10] END ............................max_depth=10; total time=   0.4s\n",
      "[CV 3/3; 10/10] START max_depth=10..............................................\n"
     ]
    },
    {
     "name": "stderr",
     "output_type": "stream",
     "text": [
      "/tmp/ipykernel_1228/894555044.py:10: RuntimeWarning: invalid value encountered in true_divide\n",
      "  np.abs(p_rougher - t_rougher) /\n",
      "/opt/conda/lib/python3.9/site-packages/sklearn/model_selection/_search.py:918: UserWarning: One or more of the test scores are non-finite: [-11.89601842 -11.79278576 -12.28090621 -11.69444809          nan\n",
      "          nan          nan          nan          nan          nan]\n",
      "  warnings.warn(\n"
     ]
    },
    {
     "name": "stdout",
     "output_type": "stream",
     "text": [
      "[CV 3/3; 10/10] END ............................max_depth=10; total time=   0.4s\n",
      " Лучший показатель SMAPE: 11.694448094777464 \n",
      " При максимальной глубине: {'max_depth': 4}\n"
     ]
    }
   ],
   "source": [
    "param_grid = {'max_depth': range(1, 11)}\n",
    "\n",
    "model = DecisionTreeRegressor(random_state=12345)\n",
    "gsearch = GridSearchCV(model, param_grid, cv=3, scoring=smape_scorer, n_jobs=-1, verbose=10)\n",
    "gsearch.fit(data_train_features, data_train_target)\n",
    "print(' Лучший показатель SMAPE:', -gsearch.best_score_,'\\n При максимальной глубине:', gsearch.best_params_)"
   ]
  },
  {
   "cell_type": "markdown",
   "metadata": {},
   "source": [
    "И последней оценим модель случайного леса:"
   ]
  },
  {
   "cell_type": "code",
   "execution_count": 41,
   "metadata": {
    "scrolled": true
   },
   "outputs": [
    {
     "name": "stdout",
     "output_type": "stream",
     "text": [
      "Fitting 3 folds for each of 3 candidates, totalling 9 fits\n",
      "[CV 1/3; 1/3] START max_depth=3, n_estimators=96................................\n",
      "[CV 1/3; 1/3] END ..............max_depth=3, n_estimators=96; total time=   9.0s\n",
      "[CV 2/3; 1/3] START max_depth=3, n_estimators=96................................\n",
      "[CV 2/3; 1/3] END ..............max_depth=3, n_estimators=96; total time=   8.8s\n",
      "[CV 3/3; 1/3] START max_depth=3, n_estimators=96................................\n",
      "[CV 3/3; 1/3] END ..............max_depth=3, n_estimators=96; total time=   8.9s\n",
      "[CV 1/3; 2/3] START max_depth=4, n_estimators=96................................\n",
      "[CV 1/3; 2/3] END ..............max_depth=4, n_estimators=96; total time=  11.7s\n",
      "[CV 2/3; 2/3] START max_depth=4, n_estimators=96................................\n",
      "[CV 2/3; 2/3] END ..............max_depth=4, n_estimators=96; total time=  11.3s\n",
      "[CV 3/3; 2/3] START max_depth=4, n_estimators=96................................\n",
      "[CV 3/3; 2/3] END ..............max_depth=4, n_estimators=96; total time=  11.7s\n",
      "[CV 1/3; 3/3] START max_depth=5, n_estimators=96................................\n",
      "[CV 1/3; 3/3] END ..............max_depth=5, n_estimators=96; total time=  13.3s\n",
      "[CV 2/3; 3/3] START max_depth=5, n_estimators=96................................\n",
      "[CV 2/3; 3/3] END ..............max_depth=5, n_estimators=96; total time=  13.4s\n",
      "[CV 3/3; 3/3] START max_depth=5, n_estimators=96................................\n",
      "[CV 3/3; 3/3] END ..............max_depth=5, n_estimators=96; total time=  14.2s\n",
      " Лучший показатель SMAPE: 11.104518633641725 \n",
      " При глубине и количестве деревьев: {'max_depth': 5, 'n_estimators': 96}\n"
     ]
    }
   ],
   "source": [
    "param_grid = {'n_estimators': range(96, 97), 'max_depth': range(3,6)}\n",
    "\n",
    "model = RandomForestRegressor(random_state=12345, n_estimators = 96)\n",
    "gsearch = GridSearchCV(model, param_grid, cv=3, scoring=smape_scorer, n_jobs=-1, verbose=10)\n",
    "gsearch.fit(data_train_features, data_train_target)\n",
    "print(' Лучший показатель SMAPE:', -gsearch.best_score_\n",
    "      ,'\\n При глубине и количестве деревьев:', gsearch.best_params_)\n",
    "\n",
    "# , max_depth = 2 "
   ]
  },
  {
   "cell_type": "markdown",
   "metadata": {},
   "source": [
    "После обучения и настройки различных моделей мы можем сказать, что лучше всего с результатом SMAPE в 9,07 себя показала **модель случайного леса с параметрами: максимальная глубина = 5, количество деревьев = 96**."
   ]
  },
  {
   "cell_type": "markdown",
   "metadata": {},
   "source": [
    "### Проверка качества модели на тестовой выборке"
   ]
  },
  {
   "cell_type": "markdown",
   "metadata": {},
   "source": [
    "Теперь проверим лучшую модель на тестовой выборке. Снова зададим ей подходящие параметры и обучим ее на учебной выборке, а затем проверим на тестовой:"
   ]
  },
  {
   "cell_type": "code",
   "execution_count": 42,
   "metadata": {},
   "outputs": [
    {
     "name": "stdout",
     "output_type": "stream",
     "text": [
      "Показатель SMAPE на тестовой выборке: 9.45291224075223\n"
     ]
    }
   ],
   "source": [
    "best_model = RandomForestRegressor(max_depth=5, n_estimators = 96, random_state=12345)\n",
    "best_model.fit(data_train_features, data_train_target)\n",
    "prediction = best_model.predict(data_test_features)\n",
    "\n",
    "print('Показатель SMAPE на тестовой выборке:', smape(data_test_target, prediction))"
   ]
  },
  {
   "cell_type": "markdown",
   "metadata": {},
   "source": [
    "**Показатель SMAPE оказался лучше, чем был на учебной и равен 9,45. Можно уверенно сказать, что модель нам подходит**."
   ]
  },
  {
   "cell_type": "markdown",
   "metadata": {},
   "source": [
    "Теперь осталось проверить нашу модель на адекватность:"
   ]
  },
  {
   "cell_type": "code",
   "execution_count": 43,
   "metadata": {},
   "outputs": [
    {
     "data": {
      "text/plain": [
       "10.334160970246636"
      ]
     },
     "execution_count": 43,
     "metadata": {},
     "output_type": "execute_result"
    }
   ],
   "source": [
    "dummy_model = DummyRegressor(strategy=\"mean\")\n",
    "dummy_model.fit(data_train_features, data_train_target)\n",
    "dummy_prediction = dummy_model.predict(data_test_features)\n",
    "smape(data_test_target, dummy_prediction)"
   ]
  },
  {
   "cell_type": "markdown",
   "metadata": {},
   "source": [
    "Предсказание dummy-модели хуже, а значит, что наша модель прошла проверку на адекватность."
   ]
  },
  {
   "cell_type": "markdown",
   "metadata": {},
   "source": [
    "**Итог проекта:**\n",
    "\n",
    "- После подготовки и предобработки данных мы обучили подходящую модель для предсказания конентрации золота: это модель случайного леса (RandomForestRegressor), ее гиперпараметры: глубина 4, количество деревьев 96.\n",
    "\n",
    "- Показатели метрики SMAPE для этой модели при кросс-валидацинной проверке на учебной выборке составил: 11.10\n",
    "\n",
    "- Показатели метрики SMAPE для этой модели при проверке на тестовой выборке составил: 9.45\n",
    "\n",
    "- Модель прошла проверку на адекватность, для dummy-модели метрика SMAPE равна: 10.33\n",
    "\n",
    "- Модель показала хороший результат и может использоваться в дальнейшем"
   ]
  }
 ],
 "metadata": {
  "ExecuteTimeLog": [
   {
    "duration": 57,
    "start_time": "2023-02-21T14:48:07.769Z"
   },
   {
    "duration": 450,
    "start_time": "2023-02-21T14:48:10.331Z"
   },
   {
    "duration": 77,
    "start_time": "2023-02-21T14:48:10.836Z"
   },
   {
    "duration": 51,
    "start_time": "2023-02-21T14:48:31.137Z"
   },
   {
    "duration": 1084,
    "start_time": "2023-02-21T14:48:42.181Z"
   },
   {
    "duration": 75,
    "start_time": "2023-02-21T14:49:01.056Z"
   },
   {
    "duration": 76,
    "start_time": "2023-02-21T14:49:05.011Z"
   },
   {
    "duration": 69,
    "start_time": "2023-02-21T14:49:10.520Z"
   },
   {
    "duration": 2,
    "start_time": "2023-02-21T14:49:18.261Z"
   },
   {
    "duration": 2599,
    "start_time": "2023-02-21T14:49:18.750Z"
   },
   {
    "duration": 43,
    "start_time": "2023-02-21T14:49:34.941Z"
   },
   {
    "duration": 35,
    "start_time": "2023-02-21T14:49:36.630Z"
   },
   {
    "duration": 36,
    "start_time": "2023-02-21T14:49:38.168Z"
   },
   {
    "duration": 35,
    "start_time": "2023-02-21T14:49:52.535Z"
   },
   {
    "duration": 23,
    "start_time": "2023-02-21T14:49:56.020Z"
   },
   {
    "duration": 21,
    "start_time": "2023-02-21T14:49:58.780Z"
   },
   {
    "duration": 22,
    "start_time": "2023-02-21T14:50:05.306Z"
   },
   {
    "duration": 20,
    "start_time": "2023-02-21T14:50:08.380Z"
   },
   {
    "duration": 463,
    "start_time": "2023-02-21T14:50:13.912Z"
   },
   {
    "duration": 745,
    "start_time": "2023-02-21T14:50:14.378Z"
   },
   {
    "duration": 32,
    "start_time": "2023-02-21T14:50:15.125Z"
   },
   {
    "duration": 21,
    "start_time": "2023-02-21T14:50:15.159Z"
   },
   {
    "duration": 25,
    "start_time": "2023-02-21T14:50:15.181Z"
   },
   {
    "duration": 18,
    "start_time": "2023-02-21T15:17:53.276Z"
   },
   {
    "duration": 18,
    "start_time": "2023-02-21T15:17:56.447Z"
   },
   {
    "duration": 13,
    "start_time": "2023-02-21T15:18:10.182Z"
   },
   {
    "duration": 19,
    "start_time": "2023-02-21T15:18:12.298Z"
   },
   {
    "duration": 1226,
    "start_time": "2023-02-21T15:19:37.206Z"
   },
   {
    "duration": 1193,
    "start_time": "2023-02-21T15:19:45.078Z"
   },
   {
    "duration": 18,
    "start_time": "2023-02-21T15:19:58.299Z"
   },
   {
    "duration": 23,
    "start_time": "2023-02-21T15:20:03.224Z"
   },
   {
    "duration": 543,
    "start_time": "2023-02-21T15:22:18.739Z"
   },
   {
    "duration": 21,
    "start_time": "2023-02-21T15:22:25.356Z"
   },
   {
    "duration": 9,
    "start_time": "2023-02-21T15:23:20.619Z"
   },
   {
    "duration": 10,
    "start_time": "2023-02-21T15:23:24.671Z"
   },
   {
    "duration": 9,
    "start_time": "2023-02-21T15:29:20.691Z"
   },
   {
    "duration": 12,
    "start_time": "2023-02-21T15:29:28.164Z"
   },
   {
    "duration": 73,
    "start_time": "2023-02-22T03:52:50.116Z"
   },
   {
    "duration": 45,
    "start_time": "2023-02-22T03:52:54.545Z"
   },
   {
    "duration": 430,
    "start_time": "2023-02-22T03:53:04.779Z"
   },
   {
    "duration": 2974,
    "start_time": "2023-02-22T03:53:05.211Z"
   },
   {
    "duration": 17,
    "start_time": "2023-02-22T03:53:08.186Z"
   },
   {
    "duration": 12,
    "start_time": "2023-02-22T03:53:08.205Z"
   },
   {
    "duration": 16,
    "start_time": "2023-02-22T03:53:08.219Z"
   },
   {
    "duration": 84,
    "start_time": "2023-02-22T03:53:08.237Z"
   },
   {
    "duration": 10,
    "start_time": "2023-02-22T03:53:30.819Z"
   },
   {
    "duration": 10,
    "start_time": "2023-02-22T03:53:41.352Z"
   },
   {
    "duration": 17,
    "start_time": "2023-02-22T03:53:46.728Z"
   },
   {
    "duration": 14,
    "start_time": "2023-02-22T03:53:51.463Z"
   },
   {
    "duration": 14,
    "start_time": "2023-02-22T03:53:57.130Z"
   },
   {
    "duration": 16,
    "start_time": "2023-02-22T03:54:10.671Z"
   },
   {
    "duration": 13,
    "start_time": "2023-02-22T03:54:51.671Z"
   },
   {
    "duration": 2153,
    "start_time": "2023-02-22T03:55:46.080Z"
   },
   {
    "duration": 8,
    "start_time": "2023-02-22T03:55:58.041Z"
   },
   {
    "duration": 10,
    "start_time": "2023-02-22T03:56:28.759Z"
   },
   {
    "duration": 25,
    "start_time": "2023-02-22T03:56:55.898Z"
   },
   {
    "duration": 8,
    "start_time": "2023-02-22T04:09:54.648Z"
   },
   {
    "duration": 18,
    "start_time": "2023-02-22T04:10:09.929Z"
   },
   {
    "duration": 8,
    "start_time": "2023-02-22T04:16:09.937Z"
   },
   {
    "duration": 7,
    "start_time": "2023-02-22T04:16:53.821Z"
   },
   {
    "duration": 415,
    "start_time": "2023-02-22T04:17:02.877Z"
   },
   {
    "duration": 630,
    "start_time": "2023-02-22T04:17:03.294Z"
   },
   {
    "duration": 16,
    "start_time": "2023-02-22T04:17:03.926Z"
   },
   {
    "duration": 13,
    "start_time": "2023-02-22T04:17:03.944Z"
   },
   {
    "duration": 34,
    "start_time": "2023-02-22T04:17:03.959Z"
   },
   {
    "duration": 23,
    "start_time": "2023-02-22T04:17:03.995Z"
   },
   {
    "duration": 13,
    "start_time": "2023-02-22T04:17:04.020Z"
   },
   {
    "duration": 19,
    "start_time": "2023-02-22T04:17:04.034Z"
   },
   {
    "duration": 89,
    "start_time": "2023-02-22T04:17:04.055Z"
   },
   {
    "duration": 17,
    "start_time": "2023-02-22T04:17:47.982Z"
   },
   {
    "duration": 23,
    "start_time": "2023-02-22T04:18:05.710Z"
   },
   {
    "duration": 75,
    "start_time": "2023-02-22T04:18:40.879Z"
   },
   {
    "duration": 16,
    "start_time": "2023-02-22T04:18:45.270Z"
   },
   {
    "duration": 16,
    "start_time": "2023-02-22T04:18:51.409Z"
   },
   {
    "duration": 17,
    "start_time": "2023-02-22T04:18:59.367Z"
   },
   {
    "duration": 23,
    "start_time": "2023-02-22T04:19:04.273Z"
   },
   {
    "duration": 19,
    "start_time": "2023-02-22T04:19:32.956Z"
   },
   {
    "duration": 16,
    "start_time": "2023-02-22T04:20:32.679Z"
   },
   {
    "duration": 13,
    "start_time": "2023-02-22T04:20:51.816Z"
   },
   {
    "duration": 17,
    "start_time": "2023-02-22T04:21:01.700Z"
   },
   {
    "duration": 2223,
    "start_time": "2023-02-22T04:25:31.923Z"
   },
   {
    "duration": 2201,
    "start_time": "2023-02-22T04:25:46.204Z"
   },
   {
    "duration": 7,
    "start_time": "2023-02-22T04:26:12.959Z"
   },
   {
    "duration": 12,
    "start_time": "2023-02-22T04:26:33.403Z"
   },
   {
    "duration": 5,
    "start_time": "2023-02-22T04:31:31.417Z"
   },
   {
    "duration": 21,
    "start_time": "2023-02-22T04:31:49.926Z"
   },
   {
    "duration": 7,
    "start_time": "2023-02-22T04:32:13.632Z"
   },
   {
    "duration": 5,
    "start_time": "2023-02-22T04:32:27.933Z"
   },
   {
    "duration": 7,
    "start_time": "2023-02-22T04:34:15.231Z"
   },
   {
    "duration": 5,
    "start_time": "2023-02-22T04:34:23.271Z"
   },
   {
    "duration": 5,
    "start_time": "2023-02-22T04:34:34.277Z"
   },
   {
    "duration": 5,
    "start_time": "2023-02-22T04:35:16.336Z"
   },
   {
    "duration": 5,
    "start_time": "2023-02-22T04:35:40.533Z"
   },
   {
    "duration": 3,
    "start_time": "2023-02-22T04:45:06.375Z"
   },
   {
    "duration": 2,
    "start_time": "2023-02-22T04:45:23.652Z"
   },
   {
    "duration": 3,
    "start_time": "2023-02-22T04:45:28.900Z"
   },
   {
    "duration": 3,
    "start_time": "2023-02-22T04:45:39.092Z"
   },
   {
    "duration": 101,
    "start_time": "2023-02-22T04:46:54.855Z"
   },
   {
    "duration": 4,
    "start_time": "2023-02-22T04:46:59.149Z"
   },
   {
    "duration": 5,
    "start_time": "2023-02-22T04:47:02.861Z"
   },
   {
    "duration": 374,
    "start_time": "2023-02-22T04:47:22.154Z"
   },
   {
    "duration": 632,
    "start_time": "2023-02-22T04:47:22.531Z"
   },
   {
    "duration": 28,
    "start_time": "2023-02-22T04:47:23.164Z"
   },
   {
    "duration": 13,
    "start_time": "2023-02-22T04:47:23.194Z"
   },
   {
    "duration": 42,
    "start_time": "2023-02-22T04:47:23.209Z"
   },
   {
    "duration": 26,
    "start_time": "2023-02-22T04:47:23.253Z"
   },
   {
    "duration": 4,
    "start_time": "2023-02-22T04:47:23.281Z"
   },
   {
    "duration": 11,
    "start_time": "2023-02-22T04:47:23.286Z"
   },
   {
    "duration": 17,
    "start_time": "2023-02-22T04:47:23.298Z"
   },
   {
    "duration": 15,
    "start_time": "2023-02-22T04:47:23.316Z"
   },
   {
    "duration": 62,
    "start_time": "2023-02-22T04:47:23.332Z"
   },
   {
    "duration": 0,
    "start_time": "2023-02-22T04:47:23.396Z"
   },
   {
    "duration": 0,
    "start_time": "2023-02-22T04:47:23.397Z"
   },
   {
    "duration": 4,
    "start_time": "2023-02-22T04:47:37.196Z"
   },
   {
    "duration": 3873,
    "start_time": "2023-02-22T04:47:37.552Z"
   },
   {
    "duration": 69,
    "start_time": "2023-02-22T04:48:30.108Z"
   },
   {
    "duration": 72,
    "start_time": "2023-02-22T04:48:37.108Z"
   },
   {
    "duration": 13,
    "start_time": "2023-02-22T04:48:43.383Z"
   },
   {
    "duration": 11,
    "start_time": "2023-02-22T04:49:22.481Z"
   },
   {
    "duration": 11,
    "start_time": "2023-02-22T04:59:53.335Z"
   },
   {
    "duration": 1156,
    "start_time": "2023-02-22T05:01:37.237Z"
   },
   {
    "duration": 9,
    "start_time": "2023-02-22T05:01:47.176Z"
   },
   {
    "duration": 8,
    "start_time": "2023-02-22T05:01:59.917Z"
   },
   {
    "duration": 6,
    "start_time": "2023-02-22T05:02:09.075Z"
   },
   {
    "duration": 142,
    "start_time": "2023-02-22T05:02:17.735Z"
   },
   {
    "duration": 6,
    "start_time": "2023-02-22T05:12:39.225Z"
   },
   {
    "duration": 777,
    "start_time": "2023-02-22T05:13:25.619Z"
   },
   {
    "duration": 41,
    "start_time": "2023-02-22T05:14:19.428Z"
   },
   {
    "duration": 5,
    "start_time": "2023-02-22T05:14:44.193Z"
   },
   {
    "duration": 5,
    "start_time": "2023-02-22T05:14:47.497Z"
   },
   {
    "duration": 10,
    "start_time": "2023-02-22T05:15:00.857Z"
   },
   {
    "duration": 8,
    "start_time": "2023-02-22T05:15:14.229Z"
   },
   {
    "duration": 4,
    "start_time": "2023-02-22T05:15:23.748Z"
   },
   {
    "duration": 7,
    "start_time": "2023-02-22T05:15:26.703Z"
   },
   {
    "duration": 6,
    "start_time": "2023-02-22T05:15:27.302Z"
   },
   {
    "duration": 12,
    "start_time": "2023-02-22T05:15:45.165Z"
   },
   {
    "duration": 8,
    "start_time": "2023-02-22T05:15:51.865Z"
   },
   {
    "duration": 3,
    "start_time": "2023-02-22T05:16:04.978Z"
   },
   {
    "duration": 6,
    "start_time": "2023-02-22T05:16:05.429Z"
   },
   {
    "duration": 6,
    "start_time": "2023-02-22T05:16:07.841Z"
   },
   {
    "duration": 4,
    "start_time": "2023-02-22T05:16:08.411Z"
   },
   {
    "duration": 4,
    "start_time": "2023-02-22T05:16:08.638Z"
   },
   {
    "duration": 70,
    "start_time": "2023-02-22T05:16:21.058Z"
   },
   {
    "duration": 5,
    "start_time": "2023-02-22T05:16:31.123Z"
   },
   {
    "duration": 6,
    "start_time": "2023-02-22T05:16:33.332Z"
   },
   {
    "duration": 4,
    "start_time": "2023-02-22T05:16:33.875Z"
   },
   {
    "duration": 5,
    "start_time": "2023-02-22T05:16:34.071Z"
   },
   {
    "duration": 6,
    "start_time": "2023-02-22T05:18:27.035Z"
   },
   {
    "duration": 4,
    "start_time": "2023-02-22T05:18:27.822Z"
   },
   {
    "duration": 5,
    "start_time": "2023-02-22T05:18:28.311Z"
   },
   {
    "duration": 8,
    "start_time": "2023-02-22T05:18:31.450Z"
   },
   {
    "duration": 4,
    "start_time": "2023-02-22T05:18:31.925Z"
   },
   {
    "duration": 4,
    "start_time": "2023-02-22T05:18:32.188Z"
   },
   {
    "duration": 12,
    "start_time": "2023-02-22T05:20:19.260Z"
   },
   {
    "duration": 5,
    "start_time": "2023-02-22T05:20:20.068Z"
   },
   {
    "duration": 8,
    "start_time": "2023-02-22T05:20:20.308Z"
   },
   {
    "duration": 11,
    "start_time": "2023-02-22T05:20:32.362Z"
   },
   {
    "duration": 9,
    "start_time": "2023-02-22T05:20:33.353Z"
   },
   {
    "duration": 12,
    "start_time": "2023-02-22T05:20:37.638Z"
   },
   {
    "duration": 5,
    "start_time": "2023-02-22T05:20:49.508Z"
   },
   {
    "duration": 10,
    "start_time": "2023-02-22T05:20:50.393Z"
   },
   {
    "duration": 5,
    "start_time": "2023-02-22T05:20:57.536Z"
   },
   {
    "duration": 4,
    "start_time": "2023-02-22T05:20:58.458Z"
   },
   {
    "duration": 5,
    "start_time": "2023-02-22T05:23:42.902Z"
   },
   {
    "duration": 5,
    "start_time": "2023-02-22T05:23:52.072Z"
   },
   {
    "duration": 6,
    "start_time": "2023-02-22T05:23:55.362Z"
   },
   {
    "duration": 4,
    "start_time": "2023-02-22T05:23:59.816Z"
   },
   {
    "duration": 7,
    "start_time": "2023-02-22T05:26:51.213Z"
   },
   {
    "duration": 4,
    "start_time": "2023-02-22T05:28:24.418Z"
   },
   {
    "duration": 4,
    "start_time": "2023-02-22T05:29:08.561Z"
   },
   {
    "duration": 6,
    "start_time": "2023-02-22T05:35:31.914Z"
   },
   {
    "duration": 9,
    "start_time": "2023-02-22T05:36:10.647Z"
   },
   {
    "duration": 9,
    "start_time": "2023-02-22T05:36:13.412Z"
   },
   {
    "duration": 4,
    "start_time": "2023-02-22T05:37:05.812Z"
   },
   {
    "duration": 5,
    "start_time": "2023-02-22T06:00:02.150Z"
   },
   {
    "duration": 20,
    "start_time": "2023-02-22T06:02:05.152Z"
   },
   {
    "duration": 15,
    "start_time": "2023-02-22T06:04:57.394Z"
   },
   {
    "duration": 17,
    "start_time": "2023-02-22T06:05:00.883Z"
   },
   {
    "duration": 4,
    "start_time": "2023-02-22T06:05:01.128Z"
   },
   {
    "duration": 17,
    "start_time": "2023-02-22T06:05:01.455Z"
   },
   {
    "duration": 4,
    "start_time": "2023-02-22T06:06:43.369Z"
   },
   {
    "duration": 18,
    "start_time": "2023-02-22T06:06:47.411Z"
   },
   {
    "duration": 4,
    "start_time": "2023-02-22T06:06:47.727Z"
   },
   {
    "duration": 12,
    "start_time": "2023-02-22T06:06:48.224Z"
   },
   {
    "duration": 9,
    "start_time": "2023-02-22T06:08:05.236Z"
   },
   {
    "duration": 9,
    "start_time": "2023-02-22T06:12:08.820Z"
   },
   {
    "duration": 10,
    "start_time": "2023-02-22T06:12:21.821Z"
   },
   {
    "duration": 7,
    "start_time": "2023-02-22T06:12:34.265Z"
   },
   {
    "duration": 8,
    "start_time": "2023-02-22T06:12:42.383Z"
   },
   {
    "duration": 9,
    "start_time": "2023-02-22T06:12:44.770Z"
   },
   {
    "duration": 7,
    "start_time": "2023-02-22T06:12:49.167Z"
   },
   {
    "duration": 15,
    "start_time": "2023-02-22T06:13:25.714Z"
   },
   {
    "duration": 97,
    "start_time": "2023-02-22T06:13:39.943Z"
   },
   {
    "duration": 11,
    "start_time": "2023-02-22T06:13:49.344Z"
   },
   {
    "duration": 8,
    "start_time": "2023-02-22T06:15:51.023Z"
   },
   {
    "duration": 15,
    "start_time": "2023-02-22T06:17:58.534Z"
   },
   {
    "duration": 8,
    "start_time": "2023-02-22T06:18:12.931Z"
   },
   {
    "duration": 8,
    "start_time": "2023-02-22T06:18:33.050Z"
   },
   {
    "duration": 10,
    "start_time": "2023-02-22T06:18:42.645Z"
   },
   {
    "duration": 14,
    "start_time": "2023-02-22T06:18:49.917Z"
   },
   {
    "duration": 29,
    "start_time": "2023-02-22T06:19:14.318Z"
   },
   {
    "duration": 12,
    "start_time": "2023-02-22T06:19:21.172Z"
   },
   {
    "duration": 3845,
    "start_time": "2023-02-22T06:19:29.433Z"
   },
   {
    "duration": 3665,
    "start_time": "2023-02-22T06:19:44.433Z"
   },
   {
    "duration": 49,
    "start_time": "2023-02-22T06:20:10.406Z"
   },
   {
    "duration": 23,
    "start_time": "2023-02-22T06:20:18.933Z"
   },
   {
    "duration": 7,
    "start_time": "2023-02-22T06:23:07.837Z"
   },
   {
    "duration": 27,
    "start_time": "2023-02-22T06:25:44.080Z"
   },
   {
    "duration": 21,
    "start_time": "2023-02-22T06:25:58.685Z"
   },
   {
    "duration": 14,
    "start_time": "2023-02-22T06:26:07.610Z"
   },
   {
    "duration": 84,
    "start_time": "2023-02-22T06:26:16.862Z"
   },
   {
    "duration": 27,
    "start_time": "2023-02-22T06:26:21.614Z"
   },
   {
    "duration": 12,
    "start_time": "2023-02-22T06:26:26.161Z"
   },
   {
    "duration": 14,
    "start_time": "2023-02-22T06:26:42.567Z"
   },
   {
    "duration": 33,
    "start_time": "2023-02-22T06:26:45.379Z"
   },
   {
    "duration": 11,
    "start_time": "2023-02-22T06:26:49.017Z"
   },
   {
    "duration": 11,
    "start_time": "2023-02-22T06:26:52.177Z"
   },
   {
    "duration": 12,
    "start_time": "2023-02-22T06:26:57.319Z"
   },
   {
    "duration": 36,
    "start_time": "2023-02-22T06:27:00.611Z"
   },
   {
    "duration": 27,
    "start_time": "2023-02-22T06:27:05.389Z"
   },
   {
    "duration": 23,
    "start_time": "2023-02-22T06:27:09.561Z"
   },
   {
    "duration": 22,
    "start_time": "2023-02-22T06:27:12.261Z"
   },
   {
    "duration": 14,
    "start_time": "2023-02-22T06:30:09.369Z"
   },
   {
    "duration": 85,
    "start_time": "2023-02-22T06:30:46.833Z"
   },
   {
    "duration": 97,
    "start_time": "2023-02-22T06:30:58.761Z"
   },
   {
    "duration": 18,
    "start_time": "2023-02-22T06:31:05.533Z"
   },
   {
    "duration": 17,
    "start_time": "2023-02-22T06:31:12.144Z"
   },
   {
    "duration": 83,
    "start_time": "2023-02-22T06:31:48.961Z"
   },
   {
    "duration": 94,
    "start_time": "2023-02-22T06:32:52.536Z"
   },
   {
    "duration": 89,
    "start_time": "2023-02-22T06:32:56.634Z"
   },
   {
    "duration": 83,
    "start_time": "2023-02-22T06:33:05.759Z"
   },
   {
    "duration": 18,
    "start_time": "2023-02-22T06:33:11.697Z"
   },
   {
    "duration": 12,
    "start_time": "2023-02-22T06:34:27.991Z"
   },
   {
    "duration": 25,
    "start_time": "2023-02-22T06:35:38.356Z"
   },
   {
    "duration": 26,
    "start_time": "2023-02-22T06:36:10.874Z"
   },
   {
    "duration": 26,
    "start_time": "2023-02-22T06:37:13.324Z"
   },
   {
    "duration": 10,
    "start_time": "2023-02-22T06:39:27.962Z"
   },
   {
    "duration": 9,
    "start_time": "2023-02-22T06:39:32.039Z"
   },
   {
    "duration": 121,
    "start_time": "2023-02-22T06:39:37.653Z"
   },
   {
    "duration": 221,
    "start_time": "2023-02-22T06:39:51.677Z"
   },
   {
    "duration": 291,
    "start_time": "2023-02-22T06:40:08.954Z"
   },
   {
    "duration": 228,
    "start_time": "2023-02-22T06:40:17.965Z"
   },
   {
    "duration": 209,
    "start_time": "2023-02-22T06:40:20.553Z"
   },
   {
    "duration": 215,
    "start_time": "2023-02-22T06:40:28.323Z"
   },
   {
    "duration": 13,
    "start_time": "2023-02-22T06:44:40.251Z"
   },
   {
    "duration": 1146,
    "start_time": "2023-02-22T06:49:26.011Z"
   },
   {
    "duration": 672,
    "start_time": "2023-02-22T06:49:27.159Z"
   },
   {
    "duration": 20,
    "start_time": "2023-02-22T06:49:27.833Z"
   },
   {
    "duration": 14,
    "start_time": "2023-02-22T06:49:27.856Z"
   },
   {
    "duration": 18,
    "start_time": "2023-02-22T06:49:27.892Z"
   },
   {
    "duration": 22,
    "start_time": "2023-02-22T06:49:27.912Z"
   },
   {
    "duration": 3,
    "start_time": "2023-02-22T06:49:27.936Z"
   },
   {
    "duration": 58,
    "start_time": "2023-02-22T06:49:27.941Z"
   },
   {
    "duration": 272,
    "start_time": "2023-02-22T06:49:28.001Z"
   },
   {
    "duration": 21,
    "start_time": "2023-02-22T06:49:28.276Z"
   },
   {
    "duration": 7,
    "start_time": "2023-02-22T06:49:28.299Z"
   },
   {
    "duration": 6,
    "start_time": "2023-02-22T06:49:28.308Z"
   },
   {
    "duration": 9,
    "start_time": "2023-02-22T06:49:28.316Z"
   },
   {
    "duration": 23,
    "start_time": "2023-02-22T06:49:28.327Z"
   },
   {
    "duration": 9,
    "start_time": "2023-02-22T06:49:28.351Z"
   },
   {
    "duration": 11,
    "start_time": "2023-02-22T06:49:28.361Z"
   },
   {
    "duration": 100,
    "start_time": "2023-02-22T06:57:05.657Z"
   },
   {
    "duration": 1078,
    "start_time": "2023-02-22T06:57:30.149Z"
   },
   {
    "duration": 742,
    "start_time": "2023-02-22T06:57:31.229Z"
   },
   {
    "duration": 29,
    "start_time": "2023-02-22T06:57:31.973Z"
   },
   {
    "duration": 15,
    "start_time": "2023-02-22T06:57:32.004Z"
   },
   {
    "duration": 36,
    "start_time": "2023-02-22T06:57:32.021Z"
   },
   {
    "duration": 34,
    "start_time": "2023-02-22T06:57:32.059Z"
   },
   {
    "duration": 4,
    "start_time": "2023-02-22T06:57:32.096Z"
   },
   {
    "duration": 36,
    "start_time": "2023-02-22T06:57:32.102Z"
   },
   {
    "duration": 260,
    "start_time": "2023-02-22T06:57:32.140Z"
   },
   {
    "duration": 12,
    "start_time": "2023-02-22T06:57:32.401Z"
   },
   {
    "duration": 6,
    "start_time": "2023-02-22T06:57:32.415Z"
   },
   {
    "duration": 5,
    "start_time": "2023-02-22T06:57:32.423Z"
   },
   {
    "duration": 6,
    "start_time": "2023-02-22T06:57:32.430Z"
   },
   {
    "duration": 29,
    "start_time": "2023-02-22T06:57:32.438Z"
   },
   {
    "duration": 115,
    "start_time": "2023-02-22T06:57:32.491Z"
   },
   {
    "duration": 1047,
    "start_time": "2023-02-22T07:03:46.430Z"
   },
   {
    "duration": 683,
    "start_time": "2023-02-22T07:03:47.479Z"
   },
   {
    "duration": 20,
    "start_time": "2023-02-22T07:03:48.163Z"
   },
   {
    "duration": 46,
    "start_time": "2023-02-22T07:03:48.194Z"
   },
   {
    "duration": 26,
    "start_time": "2023-02-22T07:03:48.242Z"
   },
   {
    "duration": 24,
    "start_time": "2023-02-22T07:03:48.269Z"
   },
   {
    "duration": 3,
    "start_time": "2023-02-22T07:03:48.294Z"
   },
   {
    "duration": 49,
    "start_time": "2023-02-22T07:03:48.300Z"
   },
   {
    "duration": 261,
    "start_time": "2023-02-22T07:03:48.350Z"
   },
   {
    "duration": 13,
    "start_time": "2023-02-22T07:03:48.613Z"
   },
   {
    "duration": 10,
    "start_time": "2023-02-22T07:03:48.628Z"
   },
   {
    "duration": 16,
    "start_time": "2023-02-22T07:03:48.639Z"
   },
   {
    "duration": 9,
    "start_time": "2023-02-22T07:03:48.656Z"
   },
   {
    "duration": 46,
    "start_time": "2023-02-22T07:03:48.666Z"
   },
   {
    "duration": 2,
    "start_time": "2023-02-22T07:03:48.714Z"
   },
   {
    "duration": 2910,
    "start_time": "2023-02-22T07:04:05.327Z"
   },
   {
    "duration": 5,
    "start_time": "2023-02-22T07:04:44.128Z"
   },
   {
    "duration": 4,
    "start_time": "2023-02-22T07:04:57.569Z"
   },
   {
    "duration": 5,
    "start_time": "2023-02-22T07:05:15.858Z"
   },
   {
    "duration": 20,
    "start_time": "2023-02-22T07:06:41.704Z"
   },
   {
    "duration": 6,
    "start_time": "2023-02-22T07:06:42.860Z"
   },
   {
    "duration": 4,
    "start_time": "2023-02-22T07:06:43.436Z"
   },
   {
    "duration": 5,
    "start_time": "2023-02-22T07:06:43.978Z"
   },
   {
    "duration": 20,
    "start_time": "2023-02-22T07:06:48.430Z"
   },
   {
    "duration": 4,
    "start_time": "2023-02-22T07:06:48.687Z"
   },
   {
    "duration": 5,
    "start_time": "2023-02-22T07:06:48.966Z"
   },
   {
    "duration": 5,
    "start_time": "2023-02-22T07:06:49.438Z"
   },
   {
    "duration": 81,
    "start_time": "2023-02-22T07:45:13.096Z"
   },
   {
    "duration": 4,
    "start_time": "2023-02-22T07:45:14.421Z"
   },
   {
    "duration": 5,
    "start_time": "2023-02-22T07:45:14.945Z"
   },
   {
    "duration": 4,
    "start_time": "2023-02-22T07:45:15.364Z"
   },
   {
    "duration": 81,
    "start_time": "2023-02-22T07:45:19.874Z"
   },
   {
    "duration": 3,
    "start_time": "2023-02-22T07:45:20.236Z"
   },
   {
    "duration": 4,
    "start_time": "2023-02-22T07:45:20.672Z"
   },
   {
    "duration": 4,
    "start_time": "2023-02-22T07:45:20.978Z"
   },
   {
    "duration": 25,
    "start_time": "2023-02-22T07:52:31.355Z"
   },
   {
    "duration": 4,
    "start_time": "2023-02-22T07:52:31.739Z"
   },
   {
    "duration": 4,
    "start_time": "2023-02-22T07:52:32.031Z"
   },
   {
    "duration": 4,
    "start_time": "2023-02-22T07:52:32.276Z"
   },
   {
    "duration": 23,
    "start_time": "2023-02-22T07:52:35.340Z"
   },
   {
    "duration": 4,
    "start_time": "2023-02-22T07:52:35.602Z"
   },
   {
    "duration": 3,
    "start_time": "2023-02-22T07:52:35.875Z"
   },
   {
    "duration": 7,
    "start_time": "2023-02-22T07:52:36.138Z"
   },
   {
    "duration": 20,
    "start_time": "2023-02-22T07:54:05.164Z"
   },
   {
    "duration": 4,
    "start_time": "2023-02-22T07:54:05.549Z"
   },
   {
    "duration": 4,
    "start_time": "2023-02-22T07:54:05.830Z"
   },
   {
    "duration": 5,
    "start_time": "2023-02-22T07:54:06.099Z"
   },
   {
    "duration": 5,
    "start_time": "2023-02-22T08:01:20.462Z"
   },
   {
    "duration": 12,
    "start_time": "2023-02-22T08:01:30.202Z"
   },
   {
    "duration": 5,
    "start_time": "2023-02-22T08:01:46.461Z"
   },
   {
    "duration": 5,
    "start_time": "2023-02-22T08:01:51.250Z"
   },
   {
    "duration": 7,
    "start_time": "2023-02-22T08:01:56.677Z"
   },
   {
    "duration": 100,
    "start_time": "2023-02-22T08:03:04.509Z"
   },
   {
    "duration": 1039,
    "start_time": "2023-02-22T08:03:12.736Z"
   },
   {
    "duration": 681,
    "start_time": "2023-02-22T08:03:13.778Z"
   },
   {
    "duration": 19,
    "start_time": "2023-02-22T08:03:14.461Z"
   },
   {
    "duration": 15,
    "start_time": "2023-02-22T08:03:14.491Z"
   },
   {
    "duration": 18,
    "start_time": "2023-02-22T08:03:14.508Z"
   },
   {
    "duration": 28,
    "start_time": "2023-02-22T08:03:14.529Z"
   },
   {
    "duration": 34,
    "start_time": "2023-02-22T08:03:14.558Z"
   },
   {
    "duration": 40,
    "start_time": "2023-02-22T08:03:14.594Z"
   },
   {
    "duration": 236,
    "start_time": "2023-02-22T08:03:14.636Z"
   },
   {
    "duration": 19,
    "start_time": "2023-02-22T08:03:14.874Z"
   },
   {
    "duration": 10,
    "start_time": "2023-02-22T08:03:14.894Z"
   },
   {
    "duration": 12,
    "start_time": "2023-02-22T08:03:14.906Z"
   },
   {
    "duration": 13,
    "start_time": "2023-02-22T08:03:14.920Z"
   },
   {
    "duration": 115,
    "start_time": "2023-02-22T08:03:14.935Z"
   },
   {
    "duration": 0,
    "start_time": "2023-02-22T08:03:15.052Z"
   },
   {
    "duration": 0,
    "start_time": "2023-02-22T08:03:15.053Z"
   },
   {
    "duration": 0,
    "start_time": "2023-02-22T08:03:15.054Z"
   },
   {
    "duration": 0,
    "start_time": "2023-02-22T08:03:15.055Z"
   },
   {
    "duration": 574,
    "start_time": "2023-02-22T08:03:56.504Z"
   },
   {
    "duration": 10,
    "start_time": "2023-02-22T08:07:48.901Z"
   },
   {
    "duration": 4,
    "start_time": "2023-02-22T08:07:49.135Z"
   },
   {
    "duration": 3,
    "start_time": "2023-02-22T08:07:49.477Z"
   },
   {
    "duration": 9,
    "start_time": "2023-02-22T08:07:52.863Z"
   },
   {
    "duration": 4,
    "start_time": "2023-02-22T08:07:53.187Z"
   },
   {
    "duration": 4,
    "start_time": "2023-02-22T08:07:53.488Z"
   },
   {
    "duration": 9,
    "start_time": "2023-02-22T08:08:20.333Z"
   },
   {
    "duration": 4,
    "start_time": "2023-02-22T08:08:20.681Z"
   },
   {
    "duration": 10,
    "start_time": "2023-02-22T08:08:34.345Z"
   },
   {
    "duration": 4,
    "start_time": "2023-02-22T08:08:34.651Z"
   },
   {
    "duration": 4,
    "start_time": "2023-02-22T08:08:34.900Z"
   },
   {
    "duration": 9,
    "start_time": "2023-02-22T08:10:27.422Z"
   },
   {
    "duration": 5,
    "start_time": "2023-02-22T08:10:48.453Z"
   },
   {
    "duration": 3,
    "start_time": "2023-02-22T08:11:18.649Z"
   },
   {
    "duration": 10,
    "start_time": "2023-02-22T08:11:23.058Z"
   },
   {
    "duration": 10,
    "start_time": "2023-02-22T08:11:26.704Z"
   },
   {
    "duration": 5,
    "start_time": "2023-02-22T08:11:33.450Z"
   },
   {
    "duration": 24,
    "start_time": "2023-02-22T08:13:28.745Z"
   },
   {
    "duration": 14,
    "start_time": "2023-02-22T08:13:38.868Z"
   },
   {
    "duration": 4,
    "start_time": "2023-02-22T08:13:43.393Z"
   },
   {
    "duration": 11,
    "start_time": "2023-02-22T08:13:43.956Z"
   },
   {
    "duration": 20,
    "start_time": "2023-02-22T08:14:11.632Z"
   },
   {
    "duration": 11,
    "start_time": "2023-02-22T08:14:17.688Z"
   },
   {
    "duration": 18,
    "start_time": "2023-02-22T08:14:23.387Z"
   },
   {
    "duration": 6,
    "start_time": "2023-02-22T08:14:37.834Z"
   },
   {
    "duration": 8,
    "start_time": "2023-02-22T08:14:48.704Z"
   },
   {
    "duration": 5,
    "start_time": "2023-02-22T08:14:56.470Z"
   },
   {
    "duration": 11,
    "start_time": "2023-02-22T08:14:56.754Z"
   },
   {
    "duration": 10,
    "start_time": "2023-02-22T08:15:02.535Z"
   },
   {
    "duration": 21,
    "start_time": "2023-02-22T08:15:10.489Z"
   },
   {
    "duration": 15,
    "start_time": "2023-02-22T08:15:11.161Z"
   },
   {
    "duration": 4,
    "start_time": "2023-02-22T08:15:11.895Z"
   },
   {
    "duration": 3,
    "start_time": "2023-02-22T08:15:12.329Z"
   },
   {
    "duration": 4,
    "start_time": "2023-02-22T08:15:12.656Z"
   },
   {
    "duration": 4,
    "start_time": "2023-02-22T08:15:39.893Z"
   },
   {
    "duration": 22,
    "start_time": "2023-02-22T08:15:47.394Z"
   },
   {
    "duration": 18,
    "start_time": "2023-02-22T08:15:47.645Z"
   },
   {
    "duration": 6,
    "start_time": "2023-02-22T08:15:47.893Z"
   },
   {
    "duration": 5,
    "start_time": "2023-02-22T08:15:48.092Z"
   },
   {
    "duration": 14,
    "start_time": "2023-02-22T08:16:23.937Z"
   },
   {
    "duration": 5,
    "start_time": "2023-02-22T08:16:24.457Z"
   },
   {
    "duration": 4,
    "start_time": "2023-02-22T08:16:24.888Z"
   },
   {
    "duration": 19,
    "start_time": "2023-02-22T08:16:41.506Z"
   },
   {
    "duration": 5,
    "start_time": "2023-02-22T08:16:41.859Z"
   },
   {
    "duration": 4,
    "start_time": "2023-02-22T08:16:42.090Z"
   },
   {
    "duration": 22,
    "start_time": "2023-02-22T08:16:47.749Z"
   },
   {
    "duration": 5,
    "start_time": "2023-02-22T08:16:48.023Z"
   },
   {
    "duration": 4,
    "start_time": "2023-02-22T08:16:48.258Z"
   },
   {
    "duration": 17,
    "start_time": "2023-02-22T08:16:54.295Z"
   },
   {
    "duration": 5,
    "start_time": "2023-02-22T08:16:54.632Z"
   },
   {
    "duration": 3,
    "start_time": "2023-02-22T08:16:54.862Z"
   },
   {
    "duration": 6,
    "start_time": "2023-02-22T08:17:10.408Z"
   },
   {
    "duration": 1089,
    "start_time": "2023-02-22T08:17:14.611Z"
   },
   {
    "duration": 737,
    "start_time": "2023-02-22T08:17:15.702Z"
   },
   {
    "duration": 34,
    "start_time": "2023-02-22T08:17:16.441Z"
   },
   {
    "duration": 26,
    "start_time": "2023-02-22T08:17:16.478Z"
   },
   {
    "duration": 18,
    "start_time": "2023-02-22T08:17:16.506Z"
   },
   {
    "duration": 23,
    "start_time": "2023-02-22T08:17:16.526Z"
   },
   {
    "duration": 2,
    "start_time": "2023-02-22T08:17:16.551Z"
   },
   {
    "duration": 61,
    "start_time": "2023-02-22T08:17:16.554Z"
   },
   {
    "duration": 249,
    "start_time": "2023-02-22T08:17:16.616Z"
   },
   {
    "duration": 23,
    "start_time": "2023-02-22T08:17:16.868Z"
   },
   {
    "duration": 5,
    "start_time": "2023-02-22T08:17:16.893Z"
   },
   {
    "duration": 11,
    "start_time": "2023-02-22T08:17:16.900Z"
   },
   {
    "duration": 10,
    "start_time": "2023-02-22T08:17:16.912Z"
   },
   {
    "duration": 8,
    "start_time": "2023-02-22T08:17:16.924Z"
   },
   {
    "duration": 10,
    "start_time": "2023-02-22T08:17:16.934Z"
   },
   {
    "duration": 21,
    "start_time": "2023-02-22T08:17:16.946Z"
   },
   {
    "duration": 5,
    "start_time": "2023-02-22T08:17:16.969Z"
   },
   {
    "duration": 4,
    "start_time": "2023-02-22T08:17:16.993Z"
   },
   {
    "duration": 15,
    "start_time": "2023-02-22T08:17:16.999Z"
   },
   {
    "duration": 5,
    "start_time": "2023-02-22T08:18:38.526Z"
   },
   {
    "duration": 9,
    "start_time": "2023-02-22T08:18:38.808Z"
   },
   {
    "duration": 18,
    "start_time": "2023-02-22T08:18:39.249Z"
   },
   {
    "duration": 6,
    "start_time": "2023-02-22T08:18:39.492Z"
   },
   {
    "duration": 4,
    "start_time": "2023-02-22T08:18:39.814Z"
   },
   {
    "duration": 14,
    "start_time": "2023-02-22T08:18:52.636Z"
   },
   {
    "duration": 5,
    "start_time": "2023-02-22T08:18:52.959Z"
   },
   {
    "duration": 4,
    "start_time": "2023-02-22T08:18:53.250Z"
   },
   {
    "duration": 27,
    "start_time": "2023-02-22T08:19:00.386Z"
   },
   {
    "duration": 5,
    "start_time": "2023-02-22T08:19:00.638Z"
   },
   {
    "duration": 4,
    "start_time": "2023-02-22T08:19:00.881Z"
   },
   {
    "duration": 17,
    "start_time": "2023-02-22T08:19:05.387Z"
   },
   {
    "duration": 6,
    "start_time": "2023-02-22T08:19:05.736Z"
   },
   {
    "duration": 4,
    "start_time": "2023-02-22T08:19:07.612Z"
   },
   {
    "duration": 7,
    "start_time": "2023-02-22T08:19:07.832Z"
   },
   {
    "duration": 16,
    "start_time": "2023-02-22T08:19:08.051Z"
   },
   {
    "duration": 4,
    "start_time": "2023-02-22T08:19:08.386Z"
   },
   {
    "duration": 4,
    "start_time": "2023-02-22T08:19:08.588Z"
   },
   {
    "duration": 19,
    "start_time": "2023-02-22T08:19:34.042Z"
   },
   {
    "duration": 14,
    "start_time": "2023-02-22T08:19:48.531Z"
   },
   {
    "duration": 6,
    "start_time": "2023-02-22T08:21:09.759Z"
   },
   {
    "duration": 5,
    "start_time": "2023-02-22T08:21:10.013Z"
   },
   {
    "duration": 27,
    "start_time": "2023-02-22T08:21:10.224Z"
   },
   {
    "duration": 12,
    "start_time": "2023-02-22T08:21:44.002Z"
   },
   {
    "duration": 11,
    "start_time": "2023-02-22T08:24:09.271Z"
   },
   {
    "duration": 99,
    "start_time": "2023-02-22T08:24:52.962Z"
   },
   {
    "duration": 14,
    "start_time": "2023-02-22T08:25:15.368Z"
   },
   {
    "duration": 12,
    "start_time": "2023-02-22T08:25:18.459Z"
   },
   {
    "duration": 15,
    "start_time": "2023-02-22T08:25:27.768Z"
   },
   {
    "duration": 10,
    "start_time": "2023-02-22T08:25:32.676Z"
   },
   {
    "duration": 12,
    "start_time": "2023-02-22T08:25:39.928Z"
   },
   {
    "duration": 11,
    "start_time": "2023-02-22T08:26:04.606Z"
   },
   {
    "duration": 8,
    "start_time": "2023-02-22T08:26:05.106Z"
   },
   {
    "duration": 18,
    "start_time": "2023-02-22T08:26:20.028Z"
   },
   {
    "duration": 1137,
    "start_time": "2023-02-22T08:26:26.050Z"
   },
   {
    "duration": 689,
    "start_time": "2023-02-22T08:26:27.189Z"
   },
   {
    "duration": 28,
    "start_time": "2023-02-22T08:26:27.879Z"
   },
   {
    "duration": 15,
    "start_time": "2023-02-22T08:26:27.909Z"
   },
   {
    "duration": 18,
    "start_time": "2023-02-22T08:26:27.926Z"
   },
   {
    "duration": 48,
    "start_time": "2023-02-22T08:26:27.946Z"
   },
   {
    "duration": 3,
    "start_time": "2023-02-22T08:26:27.996Z"
   },
   {
    "duration": 43,
    "start_time": "2023-02-22T08:26:28.001Z"
   },
   {
    "duration": 253,
    "start_time": "2023-02-22T08:26:28.045Z"
   },
   {
    "duration": 12,
    "start_time": "2023-02-22T08:26:28.301Z"
   },
   {
    "duration": 9,
    "start_time": "2023-02-22T08:26:28.314Z"
   },
   {
    "duration": 10,
    "start_time": "2023-02-22T08:26:28.325Z"
   },
   {
    "duration": 5,
    "start_time": "2023-02-22T08:26:28.337Z"
   },
   {
    "duration": 14,
    "start_time": "2023-02-22T08:26:28.344Z"
   },
   {
    "duration": 32,
    "start_time": "2023-02-22T08:26:28.360Z"
   },
   {
    "duration": 19,
    "start_time": "2023-02-22T08:26:28.393Z"
   },
   {
    "duration": 6,
    "start_time": "2023-02-22T08:26:28.415Z"
   },
   {
    "duration": 10,
    "start_time": "2023-02-22T08:26:28.422Z"
   },
   {
    "duration": 21,
    "start_time": "2023-02-22T08:26:28.434Z"
   },
   {
    "duration": 39,
    "start_time": "2023-02-22T08:26:28.457Z"
   },
   {
    "duration": 21,
    "start_time": "2023-02-22T08:26:28.499Z"
   },
   {
    "duration": 12,
    "start_time": "2023-02-22T08:26:28.522Z"
   },
   {
    "duration": 4,
    "start_time": "2023-02-22T08:42:31.071Z"
   },
   {
    "duration": 4,
    "start_time": "2023-02-22T08:42:37.977Z"
   },
   {
    "duration": 2046,
    "start_time": "2023-02-22T08:42:41.835Z"
   },
   {
    "duration": 11,
    "start_time": "2023-02-22T08:43:10.427Z"
   },
   {
    "duration": 15,
    "start_time": "2023-02-22T08:43:25.887Z"
   },
   {
    "duration": 18,
    "start_time": "2023-02-22T08:43:41.648Z"
   },
   {
    "duration": 1039,
    "start_time": "2023-02-22T08:43:57.748Z"
   },
   {
    "duration": 737,
    "start_time": "2023-02-22T08:43:58.789Z"
   },
   {
    "duration": 20,
    "start_time": "2023-02-22T08:43:59.528Z"
   },
   {
    "duration": 15,
    "start_time": "2023-02-22T08:43:59.550Z"
   },
   {
    "duration": 40,
    "start_time": "2023-02-22T08:43:59.566Z"
   },
   {
    "duration": 23,
    "start_time": "2023-02-22T08:43:59.608Z"
   },
   {
    "duration": 2,
    "start_time": "2023-02-22T08:43:59.633Z"
   },
   {
    "duration": 55,
    "start_time": "2023-02-22T08:43:59.637Z"
   },
   {
    "duration": 244,
    "start_time": "2023-02-22T08:43:59.693Z"
   },
   {
    "duration": 12,
    "start_time": "2023-02-22T08:43:59.941Z"
   },
   {
    "duration": 10,
    "start_time": "2023-02-22T08:43:59.954Z"
   },
   {
    "duration": 7,
    "start_time": "2023-02-22T08:43:59.965Z"
   },
   {
    "duration": 22,
    "start_time": "2023-02-22T08:43:59.974Z"
   },
   {
    "duration": 9,
    "start_time": "2023-02-22T08:43:59.998Z"
   },
   {
    "duration": 25,
    "start_time": "2023-02-22T08:44:00.009Z"
   },
   {
    "duration": 31,
    "start_time": "2023-02-22T08:44:00.036Z"
   },
   {
    "duration": 6,
    "start_time": "2023-02-22T08:44:00.069Z"
   },
   {
    "duration": 16,
    "start_time": "2023-02-22T08:44:00.077Z"
   },
   {
    "duration": 22,
    "start_time": "2023-02-22T08:44:00.096Z"
   },
   {
    "duration": 31,
    "start_time": "2023-02-22T08:44:00.120Z"
   },
   {
    "duration": 28,
    "start_time": "2023-02-22T08:44:00.153Z"
   },
   {
    "duration": 23,
    "start_time": "2023-02-22T08:44:00.183Z"
   },
   {
    "duration": 35,
    "start_time": "2023-02-22T08:44:00.209Z"
   },
   {
    "duration": 23,
    "start_time": "2023-02-22T08:44:00.245Z"
   },
   {
    "duration": 18,
    "start_time": "2023-02-22T08:46:47.894Z"
   },
   {
    "duration": 6,
    "start_time": "2023-02-22T08:46:48.358Z"
   },
   {
    "duration": 18,
    "start_time": "2023-02-22T08:47:12.753Z"
   },
   {
    "duration": 4,
    "start_time": "2023-02-22T08:47:13.126Z"
   },
   {
    "duration": 29,
    "start_time": "2023-02-22T08:52:17.285Z"
   },
   {
    "duration": 4,
    "start_time": "2023-02-22T09:02:57.257Z"
   },
   {
    "duration": 127,
    "start_time": "2023-02-22T09:03:25.510Z"
   },
   {
    "duration": 450,
    "start_time": "2023-02-22T09:05:27.648Z"
   },
   {
    "duration": 5,
    "start_time": "2023-02-22T09:05:34.218Z"
   },
   {
    "duration": 23,
    "start_time": "2023-02-22T09:05:34.566Z"
   },
   {
    "duration": 3,
    "start_time": "2023-02-22T09:05:43.778Z"
   },
   {
    "duration": 3,
    "start_time": "2023-02-22T09:05:49.800Z"
   },
   {
    "duration": 13,
    "start_time": "2023-02-22T09:05:50.168Z"
   },
   {
    "duration": 3,
    "start_time": "2023-02-22T09:07:22.060Z"
   },
   {
    "duration": 204,
    "start_time": "2023-02-22T09:07:22.617Z"
   },
   {
    "duration": 4,
    "start_time": "2023-02-22T09:07:34.398Z"
   },
   {
    "duration": 163,
    "start_time": "2023-02-22T09:07:44.942Z"
   },
   {
    "duration": 3,
    "start_time": "2023-02-22T09:13:27.636Z"
   },
   {
    "duration": 3,
    "start_time": "2023-02-22T09:13:41.648Z"
   },
   {
    "duration": 113,
    "start_time": "2023-02-22T09:13:47.486Z"
   },
   {
    "duration": 3,
    "start_time": "2023-02-22T09:14:01.680Z"
   },
   {
    "duration": 561,
    "start_time": "2023-02-22T09:14:03.486Z"
   },
   {
    "duration": 4,
    "start_time": "2023-02-22T09:16:10.831Z"
   },
   {
    "duration": 13,
    "start_time": "2023-02-22T09:16:11.248Z"
   },
   {
    "duration": 3,
    "start_time": "2023-02-22T09:16:26.630Z"
   },
   {
    "duration": 12,
    "start_time": "2023-02-22T09:16:27.734Z"
   },
   {
    "duration": 184,
    "start_time": "2023-02-22T09:23:22.071Z"
   },
   {
    "duration": 17,
    "start_time": "2023-02-22T09:23:22.451Z"
   },
   {
    "duration": 206,
    "start_time": "2023-02-22T09:28:32.873Z"
   },
   {
    "duration": 17,
    "start_time": "2023-02-22T09:28:33.803Z"
   },
   {
    "duration": 16,
    "start_time": "2023-02-22T09:28:37.838Z"
   },
   {
    "duration": 76,
    "start_time": "2023-02-22T09:28:45.137Z"
   },
   {
    "duration": 12,
    "start_time": "2023-02-22T09:28:45.770Z"
   },
   {
    "duration": 12,
    "start_time": "2023-02-22T09:28:48.672Z"
   },
   {
    "duration": 82,
    "start_time": "2023-02-22T09:28:51.238Z"
   },
   {
    "duration": 12,
    "start_time": "2023-02-22T09:28:53.242Z"
   },
   {
    "duration": 1275,
    "start_time": "2023-02-22T09:29:22.246Z"
   },
   {
    "duration": 670,
    "start_time": "2023-02-22T09:29:23.523Z"
   },
   {
    "duration": 17,
    "start_time": "2023-02-22T09:29:24.197Z"
   },
   {
    "duration": 12,
    "start_time": "2023-02-22T09:29:24.217Z"
   },
   {
    "duration": 18,
    "start_time": "2023-02-22T09:29:24.231Z"
   },
   {
    "duration": 51,
    "start_time": "2023-02-22T09:29:24.251Z"
   },
   {
    "duration": 3,
    "start_time": "2023-02-22T09:29:24.304Z"
   },
   {
    "duration": 44,
    "start_time": "2023-02-22T09:29:24.308Z"
   },
   {
    "duration": 252,
    "start_time": "2023-02-22T09:29:24.354Z"
   },
   {
    "duration": 12,
    "start_time": "2023-02-22T09:29:24.607Z"
   },
   {
    "duration": 9,
    "start_time": "2023-02-22T09:29:24.621Z"
   },
   {
    "duration": 8,
    "start_time": "2023-02-22T09:29:24.632Z"
   },
   {
    "duration": 5,
    "start_time": "2023-02-22T09:29:24.643Z"
   },
   {
    "duration": 8,
    "start_time": "2023-02-22T09:29:24.649Z"
   },
   {
    "duration": 37,
    "start_time": "2023-02-22T09:29:24.659Z"
   },
   {
    "duration": 21,
    "start_time": "2023-02-22T09:29:24.698Z"
   },
   {
    "duration": 5,
    "start_time": "2023-02-22T09:29:24.720Z"
   },
   {
    "duration": 9,
    "start_time": "2023-02-22T09:29:24.727Z"
   },
   {
    "duration": 22,
    "start_time": "2023-02-22T09:29:24.738Z"
   },
   {
    "duration": 34,
    "start_time": "2023-02-22T09:29:24.761Z"
   },
   {
    "duration": 18,
    "start_time": "2023-02-22T09:29:24.796Z"
   },
   {
    "duration": 10,
    "start_time": "2023-02-22T09:29:24.816Z"
   },
   {
    "duration": 35,
    "start_time": "2023-02-22T09:29:24.828Z"
   },
   {
    "duration": 78,
    "start_time": "2023-02-22T09:29:24.864Z"
   },
   {
    "duration": 0,
    "start_time": "2023-02-22T09:29:24.944Z"
   },
   {
    "duration": 3,
    "start_time": "2023-02-22T09:29:36.866Z"
   },
   {
    "duration": 588,
    "start_time": "2023-02-22T09:29:38.366Z"
   },
   {
    "duration": 76,
    "start_time": "2023-02-22T09:29:58.383Z"
   },
   {
    "duration": 505,
    "start_time": "2023-02-22T09:30:02.304Z"
   },
   {
    "duration": 562,
    "start_time": "2023-02-22T09:30:03.971Z"
   },
   {
    "duration": 1374,
    "start_time": "2023-02-22T09:30:12.278Z"
   },
   {
    "duration": 687,
    "start_time": "2023-02-22T09:30:13.654Z"
   },
   {
    "duration": 19,
    "start_time": "2023-02-22T09:30:14.343Z"
   },
   {
    "duration": 28,
    "start_time": "2023-02-22T09:30:14.364Z"
   },
   {
    "duration": 17,
    "start_time": "2023-02-22T09:30:14.395Z"
   },
   {
    "duration": 18,
    "start_time": "2023-02-22T09:30:14.414Z"
   },
   {
    "duration": 3,
    "start_time": "2023-02-22T09:30:14.434Z"
   },
   {
    "duration": 63,
    "start_time": "2023-02-22T09:30:14.438Z"
   },
   {
    "duration": 231,
    "start_time": "2023-02-22T09:30:14.503Z"
   },
   {
    "duration": 12,
    "start_time": "2023-02-22T09:30:14.735Z"
   },
   {
    "duration": 6,
    "start_time": "2023-02-22T09:30:14.749Z"
   },
   {
    "duration": 4,
    "start_time": "2023-02-22T09:30:14.757Z"
   },
   {
    "duration": 30,
    "start_time": "2023-02-22T09:30:14.762Z"
   },
   {
    "duration": 4,
    "start_time": "2023-02-22T09:30:14.795Z"
   },
   {
    "duration": 10,
    "start_time": "2023-02-22T09:30:14.801Z"
   },
   {
    "duration": 25,
    "start_time": "2023-02-22T09:30:14.812Z"
   },
   {
    "duration": 4,
    "start_time": "2023-02-22T09:30:14.839Z"
   },
   {
    "duration": 6,
    "start_time": "2023-02-22T09:30:14.845Z"
   },
   {
    "duration": 46,
    "start_time": "2023-02-22T09:30:14.852Z"
   },
   {
    "duration": 19,
    "start_time": "2023-02-22T09:30:14.900Z"
   },
   {
    "duration": 19,
    "start_time": "2023-02-22T09:30:14.921Z"
   },
   {
    "duration": 10,
    "start_time": "2023-02-22T09:30:14.942Z"
   },
   {
    "duration": 45,
    "start_time": "2023-02-22T09:30:14.954Z"
   },
   {
    "duration": 96,
    "start_time": "2023-02-22T09:30:15.001Z"
   },
   {
    "duration": 0,
    "start_time": "2023-02-22T09:30:15.099Z"
   },
   {
    "duration": 89,
    "start_time": "2023-02-22T09:31:10.942Z"
   },
   {
    "duration": 3,
    "start_time": "2023-02-22T09:31:19.867Z"
   },
   {
    "duration": 570,
    "start_time": "2023-02-22T09:31:21.446Z"
   },
   {
    "duration": 4,
    "start_time": "2023-02-22T09:31:32.282Z"
   },
   {
    "duration": 571,
    "start_time": "2023-02-22T09:31:32.669Z"
   },
   {
    "duration": 480,
    "start_time": "2023-02-22T09:31:38.736Z"
   },
   {
    "duration": 3,
    "start_time": "2023-02-22T09:31:55.646Z"
   },
   {
    "duration": 551,
    "start_time": "2023-02-22T09:31:56.144Z"
   },
   {
    "duration": 609,
    "start_time": "2023-02-22T09:33:11.786Z"
   },
   {
    "duration": 3,
    "start_time": "2023-02-22T09:34:22.631Z"
   },
   {
    "duration": 445,
    "start_time": "2023-02-22T09:34:23.077Z"
   },
   {
    "duration": 4,
    "start_time": "2023-02-22T09:40:53.340Z"
   },
   {
    "duration": 358,
    "start_time": "2023-02-22T09:40:53.796Z"
   },
   {
    "duration": 4,
    "start_time": "2023-02-22T09:42:18.587Z"
   },
   {
    "duration": 474,
    "start_time": "2023-02-22T09:42:18.969Z"
   },
   {
    "duration": 3,
    "start_time": "2023-02-22T09:42:24.016Z"
   },
   {
    "duration": 432,
    "start_time": "2023-02-22T09:42:24.399Z"
   },
   {
    "duration": 4,
    "start_time": "2023-02-22T09:42:30.395Z"
   },
   {
    "duration": 377,
    "start_time": "2023-02-22T09:42:33.329Z"
   },
   {
    "duration": 4,
    "start_time": "2023-02-22T09:42:37.618Z"
   },
   {
    "duration": 361,
    "start_time": "2023-02-22T09:42:37.890Z"
   },
   {
    "duration": 5,
    "start_time": "2023-02-22T09:42:47.217Z"
   },
   {
    "duration": 503,
    "start_time": "2023-02-22T09:42:47.489Z"
   },
   {
    "duration": 3,
    "start_time": "2023-02-22T09:42:57.751Z"
   },
   {
    "duration": 340,
    "start_time": "2023-02-22T09:42:58.016Z"
   },
   {
    "duration": 4,
    "start_time": "2023-02-22T09:43:06.691Z"
   },
   {
    "duration": 371,
    "start_time": "2023-02-22T09:43:06.913Z"
   },
   {
    "duration": 3,
    "start_time": "2023-02-22T09:43:53.982Z"
   },
   {
    "duration": 591,
    "start_time": "2023-02-22T09:43:54.335Z"
   },
   {
    "duration": 3,
    "start_time": "2023-02-22T09:46:31.616Z"
   },
   {
    "duration": 413,
    "start_time": "2023-02-22T09:46:32.012Z"
   },
   {
    "duration": 4,
    "start_time": "2023-02-22T09:47:06.299Z"
   },
   {
    "duration": 363,
    "start_time": "2023-02-22T09:47:06.726Z"
   },
   {
    "duration": 4,
    "start_time": "2023-02-22T09:51:31.078Z"
   },
   {
    "duration": 4,
    "start_time": "2023-02-22T09:51:43.229Z"
   },
   {
    "duration": 602,
    "start_time": "2023-02-22T09:51:43.699Z"
   },
   {
    "duration": 86,
    "start_time": "2023-02-22T09:52:00.467Z"
   },
   {
    "duration": 674,
    "start_time": "2023-02-22T09:52:01.959Z"
   },
   {
    "duration": 91,
    "start_time": "2023-02-22T09:52:45.742Z"
   },
   {
    "duration": 486,
    "start_time": "2023-02-22T09:52:46.820Z"
   },
   {
    "duration": 4,
    "start_time": "2023-02-22T09:52:53.930Z"
   },
   {
    "duration": 4,
    "start_time": "2023-02-22T09:54:15.488Z"
   },
   {
    "duration": 381,
    "start_time": "2023-02-22T09:54:16.550Z"
   },
   {
    "duration": 4,
    "start_time": "2023-02-22T09:54:38.339Z"
   },
   {
    "duration": 401,
    "start_time": "2023-02-22T09:54:39.002Z"
   },
   {
    "duration": 4,
    "start_time": "2023-02-22T09:54:43.426Z"
   },
   {
    "duration": 556,
    "start_time": "2023-02-22T09:54:43.720Z"
   },
   {
    "duration": 4,
    "start_time": "2023-02-22T09:56:12.167Z"
   },
   {
    "duration": 382,
    "start_time": "2023-02-22T09:56:12.601Z"
   },
   {
    "duration": 4,
    "start_time": "2023-02-22T09:56:20.872Z"
   },
   {
    "duration": 425,
    "start_time": "2023-02-22T09:56:21.286Z"
   },
   {
    "duration": 3,
    "start_time": "2023-02-22T09:56:26.522Z"
   },
   {
    "duration": 551,
    "start_time": "2023-02-22T09:56:26.904Z"
   },
   {
    "duration": 3,
    "start_time": "2023-02-22T09:56:30.326Z"
   },
   {
    "duration": 389,
    "start_time": "2023-02-22T09:56:30.684Z"
   },
   {
    "duration": 19,
    "start_time": "2023-02-22T10:00:25.809Z"
   },
   {
    "duration": 19,
    "start_time": "2023-02-22T10:00:30.517Z"
   },
   {
    "duration": 6,
    "start_time": "2023-02-22T10:00:31.573Z"
   },
   {
    "duration": 422,
    "start_time": "2023-02-22T10:00:32.145Z"
   },
   {
    "duration": 1335,
    "start_time": "2023-02-22T10:00:39.107Z"
   },
   {
    "duration": 712,
    "start_time": "2023-02-22T10:00:40.444Z"
   },
   {
    "duration": 19,
    "start_time": "2023-02-22T10:00:41.158Z"
   },
   {
    "duration": 26,
    "start_time": "2023-02-22T10:00:41.178Z"
   },
   {
    "duration": 22,
    "start_time": "2023-02-22T10:00:41.207Z"
   },
   {
    "duration": 23,
    "start_time": "2023-02-22T10:00:41.231Z"
   },
   {
    "duration": 37,
    "start_time": "2023-02-22T10:00:41.256Z"
   },
   {
    "duration": 32,
    "start_time": "2023-02-22T10:00:41.294Z"
   },
   {
    "duration": 252,
    "start_time": "2023-02-22T10:00:41.327Z"
   },
   {
    "duration": 18,
    "start_time": "2023-02-22T10:00:41.581Z"
   },
   {
    "duration": 6,
    "start_time": "2023-02-22T10:00:41.602Z"
   },
   {
    "duration": 15,
    "start_time": "2023-02-22T10:00:41.610Z"
   },
   {
    "duration": 13,
    "start_time": "2023-02-22T10:00:41.628Z"
   },
   {
    "duration": 14,
    "start_time": "2023-02-22T10:00:41.643Z"
   },
   {
    "duration": 13,
    "start_time": "2023-02-22T10:00:41.659Z"
   },
   {
    "duration": 29,
    "start_time": "2023-02-22T10:00:41.674Z"
   },
   {
    "duration": 8,
    "start_time": "2023-02-22T10:00:41.705Z"
   },
   {
    "duration": 17,
    "start_time": "2023-02-22T10:00:41.715Z"
   },
   {
    "duration": 19,
    "start_time": "2023-02-22T10:00:41.734Z"
   },
   {
    "duration": 20,
    "start_time": "2023-02-22T10:00:41.755Z"
   },
   {
    "duration": 25,
    "start_time": "2023-02-22T10:00:41.777Z"
   },
   {
    "duration": 11,
    "start_time": "2023-02-22T10:00:41.804Z"
   },
   {
    "duration": 22,
    "start_time": "2023-02-22T10:00:41.816Z"
   },
   {
    "duration": 3,
    "start_time": "2023-02-22T10:00:41.840Z"
   },
   {
    "duration": 126,
    "start_time": "2023-02-22T10:00:41.844Z"
   },
   {
    "duration": 177,
    "start_time": "2023-02-22T10:00:46.416Z"
   },
   {
    "duration": 22,
    "start_time": "2023-02-22T10:01:16.063Z"
   },
   {
    "duration": 4,
    "start_time": "2023-02-22T10:01:17.336Z"
   },
   {
    "duration": 1323,
    "start_time": "2023-02-22T10:01:23.043Z"
   },
   {
    "duration": 743,
    "start_time": "2023-02-22T10:01:24.369Z"
   },
   {
    "duration": 21,
    "start_time": "2023-02-22T10:01:25.113Z"
   },
   {
    "duration": 15,
    "start_time": "2023-02-22T10:01:25.137Z"
   },
   {
    "duration": 44,
    "start_time": "2023-02-22T10:01:25.154Z"
   },
   {
    "duration": 22,
    "start_time": "2023-02-22T10:01:25.200Z"
   },
   {
    "duration": 6,
    "start_time": "2023-02-22T10:01:25.224Z"
   },
   {
    "duration": 60,
    "start_time": "2023-02-22T10:01:25.232Z"
   },
   {
    "duration": 242,
    "start_time": "2023-02-22T10:01:25.294Z"
   },
   {
    "duration": 14,
    "start_time": "2023-02-22T10:01:25.539Z"
   },
   {
    "duration": 6,
    "start_time": "2023-02-22T10:01:25.555Z"
   },
   {
    "duration": 30,
    "start_time": "2023-02-22T10:01:25.563Z"
   },
   {
    "duration": 6,
    "start_time": "2023-02-22T10:01:25.595Z"
   },
   {
    "duration": 10,
    "start_time": "2023-02-22T10:01:25.602Z"
   },
   {
    "duration": 11,
    "start_time": "2023-02-22T10:01:25.614Z"
   },
   {
    "duration": 24,
    "start_time": "2023-02-22T10:01:25.626Z"
   },
   {
    "duration": 6,
    "start_time": "2023-02-22T10:01:25.651Z"
   },
   {
    "duration": 34,
    "start_time": "2023-02-22T10:01:25.659Z"
   },
   {
    "duration": 18,
    "start_time": "2023-02-22T10:01:25.695Z"
   },
   {
    "duration": 12,
    "start_time": "2023-02-22T10:01:25.715Z"
   },
   {
    "duration": 21,
    "start_time": "2023-02-22T10:01:25.729Z"
   },
   {
    "duration": 42,
    "start_time": "2023-02-22T10:01:25.752Z"
   },
   {
    "duration": 20,
    "start_time": "2023-02-22T10:01:25.795Z"
   },
   {
    "duration": 5,
    "start_time": "2023-02-22T10:01:25.817Z"
   },
   {
    "duration": 376,
    "start_time": "2023-02-22T10:01:25.824Z"
   },
   {
    "duration": 17,
    "start_time": "2023-02-22T10:02:29.918Z"
   },
   {
    "duration": 1951,
    "start_time": "2023-02-22T10:05:05.503Z"
   },
   {
    "duration": 1341,
    "start_time": "2023-02-22T10:05:16.721Z"
   },
   {
    "duration": 700,
    "start_time": "2023-02-22T10:05:18.064Z"
   },
   {
    "duration": 27,
    "start_time": "2023-02-22T10:05:18.766Z"
   },
   {
    "duration": 13,
    "start_time": "2023-02-22T10:05:18.795Z"
   },
   {
    "duration": 20,
    "start_time": "2023-02-22T10:05:18.810Z"
   },
   {
    "duration": 21,
    "start_time": "2023-02-22T10:05:18.832Z"
   },
   {
    "duration": 6,
    "start_time": "2023-02-22T10:05:18.855Z"
   },
   {
    "duration": 32,
    "start_time": "2023-02-22T10:05:18.893Z"
   },
   {
    "duration": 252,
    "start_time": "2023-02-22T10:05:18.926Z"
   },
   {
    "duration": 20,
    "start_time": "2023-02-22T10:05:19.180Z"
   },
   {
    "duration": 27,
    "start_time": "2023-02-22T10:05:19.202Z"
   },
   {
    "duration": 7,
    "start_time": "2023-02-22T10:05:19.231Z"
   },
   {
    "duration": 9,
    "start_time": "2023-02-22T10:05:19.240Z"
   },
   {
    "duration": 12,
    "start_time": "2023-02-22T10:05:19.252Z"
   },
   {
    "duration": 9,
    "start_time": "2023-02-22T10:05:19.266Z"
   },
   {
    "duration": 26,
    "start_time": "2023-02-22T10:05:19.278Z"
   },
   {
    "duration": 5,
    "start_time": "2023-02-22T10:05:19.305Z"
   },
   {
    "duration": 10,
    "start_time": "2023-02-22T10:05:19.312Z"
   },
   {
    "duration": 31,
    "start_time": "2023-02-22T10:05:19.324Z"
   },
   {
    "duration": 21,
    "start_time": "2023-02-22T10:05:19.357Z"
   },
   {
    "duration": 36,
    "start_time": "2023-02-22T10:05:19.379Z"
   },
   {
    "duration": 12,
    "start_time": "2023-02-22T10:05:19.417Z"
   },
   {
    "duration": 1390,
    "start_time": "2023-02-22T10:05:19.431Z"
   },
   {
    "duration": 0,
    "start_time": "2023-02-22T10:05:20.822Z"
   },
   {
    "duration": 0,
    "start_time": "2023-02-22T10:05:20.824Z"
   },
   {
    "duration": 0,
    "start_time": "2023-02-22T10:05:20.825Z"
   },
   {
    "duration": 28,
    "start_time": "2023-02-22T10:05:34.159Z"
   },
   {
    "duration": 31,
    "start_time": "2023-02-22T10:06:17.166Z"
   },
   {
    "duration": 5,
    "start_time": "2023-02-22T10:06:18.035Z"
   },
   {
    "duration": 4,
    "start_time": "2023-02-22T10:06:18.512Z"
   },
   {
    "duration": 18,
    "start_time": "2023-02-22T10:06:19.116Z"
   },
   {
    "duration": 16,
    "start_time": "2023-02-22T10:06:19.910Z"
   },
   {
    "duration": 16,
    "start_time": "2023-02-22T10:06:20.868Z"
   },
   {
    "duration": 25,
    "start_time": "2023-02-22T10:06:21.417Z"
   },
   {
    "duration": 1399,
    "start_time": "2023-02-22T10:06:40.614Z"
   },
   {
    "duration": 710,
    "start_time": "2023-02-22T10:06:42.015Z"
   },
   {
    "duration": 19,
    "start_time": "2023-02-22T10:06:42.727Z"
   },
   {
    "duration": 14,
    "start_time": "2023-02-22T10:06:42.748Z"
   },
   {
    "duration": 41,
    "start_time": "2023-02-22T10:06:42.765Z"
   },
   {
    "duration": 21,
    "start_time": "2023-02-22T10:06:42.808Z"
   },
   {
    "duration": 3,
    "start_time": "2023-02-22T10:06:42.830Z"
   },
   {
    "duration": 38,
    "start_time": "2023-02-22T10:06:42.834Z"
   },
   {
    "duration": 262,
    "start_time": "2023-02-22T10:06:42.874Z"
   },
   {
    "duration": 13,
    "start_time": "2023-02-22T10:06:43.138Z"
   },
   {
    "duration": 16,
    "start_time": "2023-02-22T10:06:43.153Z"
   },
   {
    "duration": 12,
    "start_time": "2023-02-22T10:06:43.170Z"
   },
   {
    "duration": 5,
    "start_time": "2023-02-22T10:06:43.192Z"
   },
   {
    "duration": 15,
    "start_time": "2023-02-22T10:06:43.201Z"
   },
   {
    "duration": 18,
    "start_time": "2023-02-22T10:06:43.218Z"
   },
   {
    "duration": 34,
    "start_time": "2023-02-22T10:06:43.238Z"
   },
   {
    "duration": 5,
    "start_time": "2023-02-22T10:06:43.274Z"
   },
   {
    "duration": 12,
    "start_time": "2023-02-22T10:06:43.281Z"
   },
   {
    "duration": 18,
    "start_time": "2023-02-22T10:06:43.295Z"
   },
   {
    "duration": 12,
    "start_time": "2023-02-22T10:06:43.315Z"
   },
   {
    "duration": 19,
    "start_time": "2023-02-22T10:06:43.328Z"
   },
   {
    "duration": 9,
    "start_time": "2023-02-22T10:06:43.348Z"
   },
   {
    "duration": 22,
    "start_time": "2023-02-22T10:06:43.391Z"
   },
   {
    "duration": 18,
    "start_time": "2023-02-22T10:06:43.415Z"
   },
   {
    "duration": 3,
    "start_time": "2023-02-22T10:06:43.435Z"
   },
   {
    "duration": 282,
    "start_time": "2023-02-22T10:06:43.440Z"
   },
   {
    "duration": 17,
    "start_time": "2023-02-22T10:09:43.947Z"
   },
   {
    "duration": 5,
    "start_time": "2023-02-22T10:09:44.395Z"
   },
   {
    "duration": 4,
    "start_time": "2023-02-22T10:09:44.798Z"
   },
   {
    "duration": 26,
    "start_time": "2023-02-22T10:09:45.106Z"
   },
   {
    "duration": 1326,
    "start_time": "2023-02-22T10:10:07.821Z"
   },
   {
    "duration": 713,
    "start_time": "2023-02-22T10:10:09.149Z"
   },
   {
    "duration": 28,
    "start_time": "2023-02-22T10:10:09.864Z"
   },
   {
    "duration": 15,
    "start_time": "2023-02-22T10:10:09.894Z"
   },
   {
    "duration": 43,
    "start_time": "2023-02-22T10:10:09.912Z"
   },
   {
    "duration": 22,
    "start_time": "2023-02-22T10:10:09.958Z"
   },
   {
    "duration": 10,
    "start_time": "2023-02-22T10:10:09.982Z"
   },
   {
    "duration": 35,
    "start_time": "2023-02-22T10:10:09.994Z"
   },
   {
    "duration": 267,
    "start_time": "2023-02-22T10:10:10.030Z"
   },
   {
    "duration": 15,
    "start_time": "2023-02-22T10:10:10.299Z"
   },
   {
    "duration": 18,
    "start_time": "2023-02-22T10:10:10.315Z"
   },
   {
    "duration": 18,
    "start_time": "2023-02-22T10:10:10.335Z"
   },
   {
    "duration": 10,
    "start_time": "2023-02-22T10:10:10.355Z"
   },
   {
    "duration": 6,
    "start_time": "2023-02-22T10:10:16.095Z"
   },
   {
    "duration": 6,
    "start_time": "2023-02-22T10:10:17.140Z"
   },
   {
    "duration": 20,
    "start_time": "2023-02-22T10:10:20.492Z"
   },
   {
    "duration": 6,
    "start_time": "2023-02-22T10:10:21.589Z"
   },
   {
    "duration": 4,
    "start_time": "2023-02-22T10:10:23.138Z"
   },
   {
    "duration": 18,
    "start_time": "2023-02-22T10:10:23.589Z"
   },
   {
    "duration": 14,
    "start_time": "2023-02-22T10:10:24.024Z"
   },
   {
    "duration": 22,
    "start_time": "2023-02-22T10:11:02.368Z"
   },
   {
    "duration": 107,
    "start_time": "2023-02-22T10:13:00.798Z"
   },
   {
    "duration": 1391,
    "start_time": "2023-02-22T10:13:07.798Z"
   },
   {
    "duration": 691,
    "start_time": "2023-02-22T10:13:09.190Z"
   },
   {
    "duration": 24,
    "start_time": "2023-02-22T10:13:09.883Z"
   },
   {
    "duration": 12,
    "start_time": "2023-02-22T10:13:09.909Z"
   },
   {
    "duration": 19,
    "start_time": "2023-02-22T10:13:09.923Z"
   },
   {
    "duration": 19,
    "start_time": "2023-02-22T10:13:09.943Z"
   },
   {
    "duration": 28,
    "start_time": "2023-02-22T10:13:09.964Z"
   },
   {
    "duration": 34,
    "start_time": "2023-02-22T10:13:09.994Z"
   },
   {
    "duration": 263,
    "start_time": "2023-02-22T10:13:10.030Z"
   },
   {
    "duration": 12,
    "start_time": "2023-02-22T10:13:10.296Z"
   },
   {
    "duration": 6,
    "start_time": "2023-02-22T10:13:10.310Z"
   },
   {
    "duration": 6,
    "start_time": "2023-02-22T10:13:10.318Z"
   },
   {
    "duration": 11,
    "start_time": "2023-02-22T10:13:10.326Z"
   },
   {
    "duration": 11,
    "start_time": "2023-02-22T10:13:10.339Z"
   },
   {
    "duration": 16,
    "start_time": "2023-02-22T10:13:10.352Z"
   },
   {
    "duration": 34,
    "start_time": "2023-02-22T10:13:10.370Z"
   },
   {
    "duration": 6,
    "start_time": "2023-02-22T10:13:10.406Z"
   },
   {
    "duration": 9,
    "start_time": "2023-02-22T10:13:10.414Z"
   },
   {
    "duration": 28,
    "start_time": "2023-02-22T10:13:10.425Z"
   },
   {
    "duration": 43,
    "start_time": "2023-02-22T10:13:10.455Z"
   },
   {
    "duration": 28,
    "start_time": "2023-02-22T10:13:10.500Z"
   },
   {
    "duration": 26,
    "start_time": "2023-02-22T10:13:10.530Z"
   },
   {
    "duration": 10,
    "start_time": "2023-02-22T10:13:10.558Z"
   },
   {
    "duration": 37,
    "start_time": "2023-02-22T10:13:10.570Z"
   },
   {
    "duration": 29,
    "start_time": "2023-02-22T10:13:10.609Z"
   },
   {
    "duration": 4,
    "start_time": "2023-02-22T10:13:10.639Z"
   },
   {
    "duration": 343,
    "start_time": "2023-02-22T10:13:10.644Z"
   },
   {
    "duration": 4,
    "start_time": "2023-02-22T10:17:13.275Z"
   },
   {
    "duration": 4,
    "start_time": "2023-02-22T10:17:17.012Z"
   },
   {
    "duration": 364,
    "start_time": "2023-02-22T10:17:17.339Z"
   },
   {
    "duration": 4,
    "start_time": "2023-02-22T10:17:35.871Z"
   },
   {
    "duration": 402,
    "start_time": "2023-02-22T10:17:36.390Z"
   },
   {
    "duration": 5,
    "start_time": "2023-02-22T10:18:56.121Z"
   },
   {
    "duration": 691,
    "start_time": "2023-02-22T10:18:59.073Z"
   },
   {
    "duration": 4,
    "start_time": "2023-02-22T10:22:22.540Z"
   },
   {
    "duration": 408,
    "start_time": "2023-02-22T10:22:24.519Z"
   },
   {
    "duration": 5,
    "start_time": "2023-02-22T10:22:32.154Z"
   },
   {
    "duration": 412,
    "start_time": "2023-02-22T10:22:32.384Z"
   },
   {
    "duration": 5,
    "start_time": "2023-02-22T10:23:02.218Z"
   },
   {
    "duration": 424,
    "start_time": "2023-02-22T10:23:02.759Z"
   },
   {
    "duration": 4,
    "start_time": "2023-02-22T10:23:16.058Z"
   },
   {
    "duration": 471,
    "start_time": "2023-02-22T10:23:19.156Z"
   },
   {
    "duration": 6,
    "start_time": "2023-02-22T10:23:30.118Z"
   },
   {
    "duration": 524,
    "start_time": "2023-02-22T10:23:30.354Z"
   },
   {
    "duration": 1379,
    "start_time": "2023-02-22T10:26:02.121Z"
   },
   {
    "duration": 705,
    "start_time": "2023-02-22T10:26:03.502Z"
   },
   {
    "duration": 17,
    "start_time": "2023-02-22T10:26:04.209Z"
   },
   {
    "duration": 14,
    "start_time": "2023-02-22T10:26:04.228Z"
   },
   {
    "duration": 18,
    "start_time": "2023-02-22T10:26:04.243Z"
   },
   {
    "duration": 53,
    "start_time": "2023-02-22T10:26:04.262Z"
   },
   {
    "duration": 15,
    "start_time": "2023-02-22T10:26:04.318Z"
   },
   {
    "duration": 49,
    "start_time": "2023-02-22T10:26:04.335Z"
   },
   {
    "duration": 229,
    "start_time": "2023-02-22T10:26:04.385Z"
   },
   {
    "duration": 16,
    "start_time": "2023-02-22T10:26:04.618Z"
   },
   {
    "duration": 31,
    "start_time": "2023-02-22T10:26:04.637Z"
   },
   {
    "duration": 36,
    "start_time": "2023-02-22T10:26:04.670Z"
   },
   {
    "duration": 10,
    "start_time": "2023-02-22T10:26:04.708Z"
   },
   {
    "duration": 27,
    "start_time": "2023-02-22T10:26:04.720Z"
   },
   {
    "duration": 14,
    "start_time": "2023-02-22T10:26:04.748Z"
   },
   {
    "duration": 53,
    "start_time": "2023-02-22T10:26:04.763Z"
   },
   {
    "duration": 5,
    "start_time": "2023-02-22T10:26:04.818Z"
   },
   {
    "duration": 41,
    "start_time": "2023-02-22T10:26:04.825Z"
   },
   {
    "duration": 32,
    "start_time": "2023-02-22T10:26:04.868Z"
   },
   {
    "duration": 24,
    "start_time": "2023-02-22T10:26:04.903Z"
   },
   {
    "duration": 41,
    "start_time": "2023-02-22T10:26:04.929Z"
   },
   {
    "duration": 37,
    "start_time": "2023-02-22T10:26:04.972Z"
   },
   {
    "duration": 10,
    "start_time": "2023-02-22T10:26:05.010Z"
   },
   {
    "duration": 33,
    "start_time": "2023-02-22T10:26:05.021Z"
   },
   {
    "duration": 122,
    "start_time": "2023-02-22T10:26:05.055Z"
   },
   {
    "duration": 0,
    "start_time": "2023-02-22T10:26:05.179Z"
   },
   {
    "duration": 0,
    "start_time": "2023-02-22T10:26:05.181Z"
   },
   {
    "duration": 1386,
    "start_time": "2023-02-22T10:26:23.478Z"
   },
   {
    "duration": 776,
    "start_time": "2023-02-22T10:26:24.866Z"
   },
   {
    "duration": 19,
    "start_time": "2023-02-22T10:26:25.644Z"
   },
   {
    "duration": 41,
    "start_time": "2023-02-22T10:26:25.665Z"
   },
   {
    "duration": 17,
    "start_time": "2023-02-22T10:26:25.710Z"
   },
   {
    "duration": 31,
    "start_time": "2023-02-22T10:26:25.729Z"
   },
   {
    "duration": 8,
    "start_time": "2023-02-22T10:26:25.762Z"
   },
   {
    "duration": 65,
    "start_time": "2023-02-22T10:26:25.771Z"
   },
   {
    "duration": 233,
    "start_time": "2023-02-22T10:26:25.839Z"
   },
   {
    "duration": 27,
    "start_time": "2023-02-22T10:26:26.074Z"
   },
   {
    "duration": 33,
    "start_time": "2023-02-22T10:26:26.105Z"
   },
   {
    "duration": 5,
    "start_time": "2023-02-22T10:26:26.140Z"
   },
   {
    "duration": 38,
    "start_time": "2023-02-22T10:26:26.146Z"
   },
   {
    "duration": 37,
    "start_time": "2023-02-22T10:26:26.187Z"
   },
   {
    "duration": 22,
    "start_time": "2023-02-22T10:26:26.226Z"
   },
   {
    "duration": 44,
    "start_time": "2023-02-22T10:26:26.250Z"
   },
   {
    "duration": 11,
    "start_time": "2023-02-22T10:26:26.303Z"
   },
   {
    "duration": 14,
    "start_time": "2023-02-22T10:26:26.316Z"
   },
   {
    "duration": 38,
    "start_time": "2023-02-22T10:26:26.332Z"
   },
   {
    "duration": 69,
    "start_time": "2023-02-22T10:26:26.372Z"
   },
   {
    "duration": 33,
    "start_time": "2023-02-22T10:26:26.443Z"
   },
   {
    "duration": 29,
    "start_time": "2023-02-22T10:26:26.478Z"
   },
   {
    "duration": 40,
    "start_time": "2023-02-22T10:26:26.508Z"
   },
   {
    "duration": 28,
    "start_time": "2023-02-22T10:26:26.550Z"
   },
   {
    "duration": 44,
    "start_time": "2023-02-22T10:26:26.580Z"
   },
   {
    "duration": 4,
    "start_time": "2023-02-22T10:26:26.627Z"
   },
   {
    "duration": 118,
    "start_time": "2023-02-22T10:26:26.632Z"
   },
   {
    "duration": 530,
    "start_time": "2023-02-22T10:26:49.404Z"
   },
   {
    "duration": 4,
    "start_time": "2023-02-22T10:32:56.914Z"
   },
   {
    "duration": 3881,
    "start_time": "2023-02-22T10:33:00.877Z"
   },
   {
    "duration": 12,
    "start_time": "2023-02-22T10:33:14.580Z"
   },
   {
    "duration": 731,
    "start_time": "2023-02-22T10:47:41.303Z"
   },
   {
    "duration": 5,
    "start_time": "2023-02-22T10:52:14.354Z"
   },
   {
    "duration": 390,
    "start_time": "2023-02-22T10:52:14.822Z"
   },
   {
    "duration": 5,
    "start_time": "2023-02-22T10:53:55.462Z"
   },
   {
    "duration": 16,
    "start_time": "2023-02-22T10:53:56.060Z"
   },
   {
    "duration": 5,
    "start_time": "2023-02-22T10:53:58.722Z"
   },
   {
    "duration": 23,
    "start_time": "2023-02-22T10:53:59.036Z"
   },
   {
    "duration": 62,
    "start_time": "2023-02-22T10:55:55.789Z"
   },
   {
    "duration": 4,
    "start_time": "2023-02-22T10:56:10.638Z"
   },
   {
    "duration": 45,
    "start_time": "2023-02-22T10:56:11.158Z"
   },
   {
    "duration": 4,
    "start_time": "2023-02-22T10:56:38.772Z"
   },
   {
    "duration": 23,
    "start_time": "2023-02-22T10:56:41.323Z"
   },
   {
    "duration": 4,
    "start_time": "2023-02-22T10:58:32.025Z"
   },
   {
    "duration": 20,
    "start_time": "2023-02-22T10:58:33.653Z"
   },
   {
    "duration": 3,
    "start_time": "2023-02-22T10:58:46.934Z"
   },
   {
    "duration": 20,
    "start_time": "2023-02-22T10:58:47.467Z"
   },
   {
    "duration": 4,
    "start_time": "2023-02-22T10:58:55.330Z"
   },
   {
    "duration": 20,
    "start_time": "2023-02-22T10:58:55.862Z"
   },
   {
    "duration": 3,
    "start_time": "2023-02-22T10:58:57.700Z"
   },
   {
    "duration": 21,
    "start_time": "2023-02-22T10:58:59.057Z"
   },
   {
    "duration": 4,
    "start_time": "2023-02-22T11:04:55.839Z"
   },
   {
    "duration": 771,
    "start_time": "2023-02-22T11:04:56.600Z"
   },
   {
    "duration": 3,
    "start_time": "2023-02-22T11:06:11.482Z"
   },
   {
    "duration": 669,
    "start_time": "2023-02-22T11:06:11.808Z"
   },
   {
    "duration": 5,
    "start_time": "2023-02-22T11:06:46.736Z"
   },
   {
    "duration": 697,
    "start_time": "2023-02-22T11:06:47.335Z"
   },
   {
    "duration": 776,
    "start_time": "2023-02-22T11:07:04.488Z"
   },
   {
    "duration": 386,
    "start_time": "2023-02-22T11:07:37.589Z"
   },
   {
    "duration": 23,
    "start_time": "2023-02-22T11:09:18.324Z"
   },
   {
    "duration": 22,
    "start_time": "2023-02-22T11:09:51.476Z"
   },
   {
    "duration": 23,
    "start_time": "2023-02-22T11:09:53.336Z"
   },
   {
    "duration": 23,
    "start_time": "2023-02-22T11:10:01.302Z"
   },
   {
    "duration": 30,
    "start_time": "2023-02-22T11:10:08.569Z"
   },
   {
    "duration": 26,
    "start_time": "2023-02-22T11:10:28.039Z"
   },
   {
    "duration": 10,
    "start_time": "2023-02-22T11:10:38.520Z"
   },
   {
    "duration": 26,
    "start_time": "2023-02-22T11:10:44.564Z"
   },
   {
    "duration": 26,
    "start_time": "2023-02-22T11:10:58.463Z"
   },
   {
    "duration": 26,
    "start_time": "2023-02-22T11:11:02.097Z"
   },
   {
    "duration": 27,
    "start_time": "2023-02-22T11:12:00.286Z"
   },
   {
    "duration": 24,
    "start_time": "2023-02-22T11:12:23.002Z"
   },
   {
    "duration": 100,
    "start_time": "2023-02-22T11:13:50.058Z"
   },
   {
    "duration": 11,
    "start_time": "2023-02-22T11:14:58.037Z"
   },
   {
    "duration": 10,
    "start_time": "2023-02-22T11:15:03.666Z"
   },
   {
    "duration": 24,
    "start_time": "2023-02-22T11:16:52.335Z"
   },
   {
    "duration": 21,
    "start_time": "2023-02-22T11:16:59.152Z"
   },
   {
    "duration": 29,
    "start_time": "2023-02-22T11:17:08.475Z"
   },
   {
    "duration": 22,
    "start_time": "2023-02-22T11:17:10.532Z"
   },
   {
    "duration": 23,
    "start_time": "2023-02-22T11:17:14.948Z"
   },
   {
    "duration": 25,
    "start_time": "2023-02-22T11:17:26.676Z"
   },
   {
    "duration": 26,
    "start_time": "2023-02-22T11:24:21.670Z"
   },
   {
    "duration": 21,
    "start_time": "2023-02-22T11:25:09.618Z"
   },
   {
    "duration": 10,
    "start_time": "2023-02-22T11:27:48.033Z"
   },
   {
    "duration": 14,
    "start_time": "2023-02-22T11:33:01.937Z"
   },
   {
    "duration": 13,
    "start_time": "2023-02-22T11:33:06.763Z"
   },
   {
    "duration": 30,
    "start_time": "2023-02-22T11:33:12.177Z"
   },
   {
    "duration": 26,
    "start_time": "2023-02-22T11:33:20.161Z"
   },
   {
    "duration": 22,
    "start_time": "2023-02-22T11:33:24.941Z"
   },
   {
    "duration": 28,
    "start_time": "2023-02-22T11:33:33.194Z"
   },
   {
    "duration": 28,
    "start_time": "2023-02-22T11:33:49.377Z"
   },
   {
    "duration": 25,
    "start_time": "2023-02-22T11:33:53.872Z"
   },
   {
    "duration": 26,
    "start_time": "2023-02-22T11:34:10.060Z"
   },
   {
    "duration": 67,
    "start_time": "2023-02-22T11:34:17.281Z"
   },
   {
    "duration": 82,
    "start_time": "2023-02-22T11:35:05.251Z"
   },
   {
    "duration": 27,
    "start_time": "2023-02-22T11:35:11.615Z"
   },
   {
    "duration": 26,
    "start_time": "2023-02-22T11:35:43.362Z"
   },
   {
    "duration": 33,
    "start_time": "2023-02-22T11:36:05.552Z"
   },
   {
    "duration": 29,
    "start_time": "2023-02-22T11:36:09.684Z"
   },
   {
    "duration": 25,
    "start_time": "2023-02-22T11:37:07.567Z"
   },
   {
    "duration": 11,
    "start_time": "2023-02-22T11:37:12.523Z"
   },
   {
    "duration": 27,
    "start_time": "2023-02-22T11:37:23.066Z"
   },
   {
    "duration": 29,
    "start_time": "2023-02-22T11:37:50.352Z"
   },
   {
    "duration": 5,
    "start_time": "2023-02-22T11:38:24.968Z"
   },
   {
    "duration": 623,
    "start_time": "2023-02-22T11:38:25.677Z"
   },
   {
    "duration": 929,
    "start_time": "2023-02-22T11:38:26.909Z"
   },
   {
    "duration": 436,
    "start_time": "2023-02-22T11:38:27.839Z"
   },
   {
    "duration": 29,
    "start_time": "2023-02-22T11:38:28.276Z"
   },
   {
    "duration": 4,
    "start_time": "2023-02-22T11:40:45.630Z"
   },
   {
    "duration": 1659,
    "start_time": "2023-02-22T11:40:47.184Z"
   },
   {
    "duration": 1693,
    "start_time": "2023-02-22T11:40:48.845Z"
   },
   {
    "duration": 1719,
    "start_time": "2023-02-22T11:40:50.541Z"
   },
   {
    "duration": 5,
    "start_time": "2023-02-22T11:41:06.641Z"
   },
   {
    "duration": 633,
    "start_time": "2023-02-22T11:41:07.090Z"
   },
   {
    "duration": 903,
    "start_time": "2023-02-22T11:41:07.725Z"
   },
   {
    "duration": 629,
    "start_time": "2023-02-22T11:41:23.224Z"
   },
   {
    "duration": 932,
    "start_time": "2023-02-22T11:41:23.856Z"
   },
   {
    "duration": 465,
    "start_time": "2023-02-22T11:41:24.792Z"
   },
   {
    "duration": 4,
    "start_time": "2023-02-22T11:43:55.583Z"
   },
   {
    "duration": 895,
    "start_time": "2023-02-22T11:43:55.930Z"
   },
   {
    "duration": 915,
    "start_time": "2023-02-22T11:43:56.827Z"
   },
   {
    "duration": 835,
    "start_time": "2023-02-22T11:43:57.744Z"
   },
   {
    "duration": 1158,
    "start_time": "2023-02-22T11:45:14.889Z"
   },
   {
    "duration": 1248,
    "start_time": "2023-02-22T11:45:36.460Z"
   },
   {
    "duration": 200,
    "start_time": "2023-02-22T11:46:29.129Z"
   },
   {
    "duration": 186,
    "start_time": "2023-02-22T11:46:35.625Z"
   },
   {
    "duration": 13,
    "start_time": "2023-02-22T11:49:24.368Z"
   },
   {
    "duration": 13,
    "start_time": "2023-02-22T11:49:29.860Z"
   },
   {
    "duration": 23,
    "start_time": "2023-02-22T11:49:33.742Z"
   },
   {
    "duration": 26,
    "start_time": "2023-02-22T11:49:41.013Z"
   },
   {
    "duration": 24,
    "start_time": "2023-02-22T11:49:44.562Z"
   },
   {
    "duration": 24,
    "start_time": "2023-02-22T11:52:07.740Z"
   },
   {
    "duration": 28,
    "start_time": "2023-02-22T11:52:12.756Z"
   },
   {
    "duration": 13,
    "start_time": "2023-02-22T11:52:20.334Z"
   },
   {
    "duration": 32,
    "start_time": "2023-02-22T11:52:27.024Z"
   },
   {
    "duration": 24,
    "start_time": "2023-02-22T11:53:09.729Z"
   },
   {
    "duration": 25,
    "start_time": "2023-02-22T11:53:39.123Z"
   },
   {
    "duration": 30,
    "start_time": "2023-02-22T11:54:11.302Z"
   },
   {
    "duration": 4,
    "start_time": "2023-02-22T11:54:11.927Z"
   },
   {
    "duration": 979,
    "start_time": "2023-02-22T11:54:12.337Z"
   },
   {
    "duration": 839,
    "start_time": "2023-02-22T11:54:13.318Z"
   },
   {
    "duration": 987,
    "start_time": "2023-02-22T11:54:14.159Z"
   },
   {
    "duration": 203,
    "start_time": "2023-02-22T11:54:15.149Z"
   },
   {
    "duration": 186,
    "start_time": "2023-02-22T11:54:20.301Z"
   },
   {
    "duration": 35,
    "start_time": "2023-02-22T11:54:57.668Z"
   },
   {
    "duration": 5,
    "start_time": "2023-02-22T11:54:58.207Z"
   },
   {
    "duration": 853,
    "start_time": "2023-02-22T11:54:58.455Z"
   },
   {
    "duration": 973,
    "start_time": "2023-02-22T11:54:59.310Z"
   },
   {
    "duration": 1024,
    "start_time": "2023-02-22T11:55:00.284Z"
   },
   {
    "duration": 193,
    "start_time": "2023-02-22T11:55:01.311Z"
   },
   {
    "duration": 210,
    "start_time": "2023-02-22T11:59:58.730Z"
   },
   {
    "duration": 247,
    "start_time": "2023-02-22T12:00:29.064Z"
   },
   {
    "duration": 220,
    "start_time": "2023-02-22T12:00:39.420Z"
   },
   {
    "duration": 225,
    "start_time": "2023-02-22T12:00:50.609Z"
   },
   {
    "duration": 295,
    "start_time": "2023-02-22T12:00:56.176Z"
   },
   {
    "duration": 222,
    "start_time": "2023-02-22T12:03:51.986Z"
   },
   {
    "duration": 220,
    "start_time": "2023-02-22T12:04:05.483Z"
   },
   {
    "duration": 190,
    "start_time": "2023-02-22T12:04:35.517Z"
   },
   {
    "duration": 233,
    "start_time": "2023-02-22T12:04:47.736Z"
   },
   {
    "duration": 178,
    "start_time": "2023-02-22T12:05:17.370Z"
   },
   {
    "duration": 338,
    "start_time": "2023-02-22T12:05:26.073Z"
   },
   {
    "duration": 161,
    "start_time": "2023-02-22T12:06:51.768Z"
   },
   {
    "duration": 188,
    "start_time": "2023-02-22T12:08:55.385Z"
   },
   {
    "duration": 6,
    "start_time": "2023-02-22T12:10:59.630Z"
   },
   {
    "duration": 703,
    "start_time": "2023-02-22T12:11:00.471Z"
   },
   {
    "duration": 5,
    "start_time": "2023-02-22T12:11:11.637Z"
   },
   {
    "duration": 930,
    "start_time": "2023-02-22T12:11:12.068Z"
   },
   {
    "duration": 4,
    "start_time": "2023-02-22T12:11:44.283Z"
   },
   {
    "duration": 964,
    "start_time": "2023-02-22T12:11:45.809Z"
   },
   {
    "duration": 5,
    "start_time": "2023-02-22T12:12:47.547Z"
   },
   {
    "duration": 1026,
    "start_time": "2023-02-22T12:12:48.619Z"
   },
   {
    "duration": 5,
    "start_time": "2023-02-22T12:13:43.019Z"
   },
   {
    "duration": 914,
    "start_time": "2023-02-22T12:13:43.219Z"
   },
   {
    "duration": 23,
    "start_time": "2023-02-22T12:20:26.896Z"
   },
   {
    "duration": 29,
    "start_time": "2023-02-22T12:20:41.253Z"
   },
   {
    "duration": 30,
    "start_time": "2023-02-22T12:21:04.231Z"
   },
   {
    "duration": 30,
    "start_time": "2023-02-22T12:21:35.368Z"
   },
   {
    "duration": 29,
    "start_time": "2023-02-22T12:21:49.960Z"
   },
   {
    "duration": 34,
    "start_time": "2023-02-22T12:22:11.772Z"
   },
   {
    "duration": 40,
    "start_time": "2023-02-22T12:22:28.264Z"
   },
   {
    "duration": 3,
    "start_time": "2023-02-22T12:22:28.662Z"
   },
   {
    "duration": 5,
    "start_time": "2023-02-22T12:22:29.056Z"
   },
   {
    "duration": 1062,
    "start_time": "2023-02-22T12:22:29.650Z"
   },
   {
    "duration": 887,
    "start_time": "2023-02-22T12:22:32.585Z"
   },
   {
    "duration": 978,
    "start_time": "2023-02-22T12:22:33.474Z"
   },
   {
    "duration": 986,
    "start_time": "2023-02-22T12:23:33.601Z"
   },
   {
    "duration": 259,
    "start_time": "2023-02-22T12:24:11.220Z"
   },
   {
    "duration": 257,
    "start_time": "2023-02-22T12:24:14.700Z"
   },
   {
    "duration": 664,
    "start_time": "2023-02-22T12:24:41.394Z"
   },
   {
    "duration": 281,
    "start_time": "2023-02-22T12:25:13.368Z"
   },
   {
    "duration": 832,
    "start_time": "2023-02-22T12:25:44.676Z"
   },
   {
    "duration": 148,
    "start_time": "2023-02-22T12:25:51.595Z"
   },
   {
    "duration": 160,
    "start_time": "2023-02-22T12:26:06.071Z"
   },
   {
    "duration": 117,
    "start_time": "2023-02-22T12:26:10.935Z"
   },
   {
    "duration": 124,
    "start_time": "2023-02-22T12:26:12.968Z"
   },
   {
    "duration": 335,
    "start_time": "2023-02-22T12:26:52.987Z"
   },
   {
    "duration": 25,
    "start_time": "2023-02-22T12:29:49.508Z"
   },
   {
    "duration": 27,
    "start_time": "2023-02-22T12:29:52.833Z"
   },
   {
    "duration": 4,
    "start_time": "2023-02-22T12:29:53.267Z"
   },
   {
    "duration": 4,
    "start_time": "2023-02-22T12:29:53.684Z"
   },
   {
    "duration": 826,
    "start_time": "2023-02-22T12:29:53.998Z"
   },
   {
    "duration": 4,
    "start_time": "2023-02-22T12:35:57.580Z"
   },
   {
    "duration": 3352,
    "start_time": "2023-02-22T12:37:22.532Z"
   },
   {
    "duration": 27,
    "start_time": "2023-02-22T12:37:47.662Z"
   },
   {
    "duration": 24,
    "start_time": "2023-02-22T12:37:51.882Z"
   },
   {
    "duration": 27,
    "start_time": "2023-02-22T12:37:52.339Z"
   },
   {
    "duration": 5,
    "start_time": "2023-02-22T12:37:53.121Z"
   },
   {
    "duration": 16,
    "start_time": "2023-02-22T12:38:10.657Z"
   },
   {
    "duration": 5,
    "start_time": "2023-02-22T12:38:11.281Z"
   },
   {
    "duration": 27,
    "start_time": "2023-02-22T12:38:15.423Z"
   },
   {
    "duration": 21,
    "start_time": "2023-02-22T12:38:16.061Z"
   },
   {
    "duration": 15,
    "start_time": "2023-02-22T12:38:52.603Z"
   },
   {
    "duration": 28,
    "start_time": "2023-02-22T12:39:09.257Z"
   },
   {
    "duration": 25,
    "start_time": "2023-02-22T12:39:27.596Z"
   },
   {
    "duration": 26,
    "start_time": "2023-02-22T12:39:27.969Z"
   },
   {
    "duration": 6,
    "start_time": "2023-02-22T12:39:28.336Z"
   },
   {
    "duration": 17,
    "start_time": "2023-02-22T12:40:13.238Z"
   },
   {
    "duration": 5,
    "start_time": "2023-02-22T12:40:13.928Z"
   },
   {
    "duration": 25,
    "start_time": "2023-02-22T12:40:22.159Z"
   },
   {
    "duration": 32,
    "start_time": "2023-02-22T12:40:26.101Z"
   },
   {
    "duration": 32,
    "start_time": "2023-02-22T12:40:26.469Z"
   },
   {
    "duration": 4,
    "start_time": "2023-02-22T12:40:29.263Z"
   },
   {
    "duration": 1060,
    "start_time": "2023-02-22T12:40:29.762Z"
   },
   {
    "duration": 879,
    "start_time": "2023-02-22T12:40:30.959Z"
   },
   {
    "duration": 984,
    "start_time": "2023-02-22T12:40:31.840Z"
   },
   {
    "duration": 1355,
    "start_time": "2023-02-22T12:41:01.587Z"
   },
   {
    "duration": 689,
    "start_time": "2023-02-22T12:41:02.944Z"
   },
   {
    "duration": 18,
    "start_time": "2023-02-22T12:41:03.635Z"
   },
   {
    "duration": 13,
    "start_time": "2023-02-22T12:41:03.655Z"
   },
   {
    "duration": 39,
    "start_time": "2023-02-22T12:41:03.670Z"
   },
   {
    "duration": 19,
    "start_time": "2023-02-22T12:41:03.711Z"
   },
   {
    "duration": 2,
    "start_time": "2023-02-22T12:41:03.732Z"
   },
   {
    "duration": 40,
    "start_time": "2023-02-22T12:41:03.737Z"
   },
   {
    "duration": 238,
    "start_time": "2023-02-22T12:41:03.792Z"
   },
   {
    "duration": 12,
    "start_time": "2023-02-22T12:41:04.032Z"
   },
   {
    "duration": 28,
    "start_time": "2023-02-22T12:41:04.046Z"
   },
   {
    "duration": 30,
    "start_time": "2023-02-22T12:41:04.075Z"
   },
   {
    "duration": 16,
    "start_time": "2023-02-22T12:41:04.107Z"
   },
   {
    "duration": 17,
    "start_time": "2023-02-22T12:41:04.125Z"
   },
   {
    "duration": 15,
    "start_time": "2023-02-22T12:41:04.144Z"
   },
   {
    "duration": 23,
    "start_time": "2023-02-22T12:41:04.161Z"
   },
   {
    "duration": 5,
    "start_time": "2023-02-22T12:41:04.186Z"
   },
   {
    "duration": 17,
    "start_time": "2023-02-22T12:41:04.193Z"
   },
   {
    "duration": 29,
    "start_time": "2023-02-22T12:41:04.212Z"
   },
   {
    "duration": 43,
    "start_time": "2023-02-22T12:41:04.243Z"
   },
   {
    "duration": 20,
    "start_time": "2023-02-22T12:41:04.288Z"
   },
   {
    "duration": 19,
    "start_time": "2023-02-22T12:41:04.310Z"
   },
   {
    "duration": 8,
    "start_time": "2023-02-22T12:41:04.331Z"
   },
   {
    "duration": 44,
    "start_time": "2023-02-22T12:41:04.341Z"
   },
   {
    "duration": 23,
    "start_time": "2023-02-22T12:41:04.391Z"
   },
   {
    "duration": 5,
    "start_time": "2023-02-22T12:41:04.415Z"
   },
   {
    "duration": 973,
    "start_time": "2023-02-22T12:41:04.421Z"
   },
   {
    "duration": 902,
    "start_time": "2023-02-22T12:41:05.397Z"
   },
   {
    "duration": 1007,
    "start_time": "2023-02-22T12:41:06.302Z"
   },
   {
    "duration": 25,
    "start_time": "2023-02-22T12:42:07.946Z"
   },
   {
    "duration": 4,
    "start_time": "2023-02-22T12:42:08.388Z"
   },
   {
    "duration": 886,
    "start_time": "2023-02-22T12:42:09.259Z"
   },
   {
    "duration": 1005,
    "start_time": "2023-02-22T12:42:10.147Z"
   },
   {
    "duration": 837,
    "start_time": "2023-02-22T12:42:11.155Z"
   },
   {
    "duration": 1315,
    "start_time": "2023-02-22T12:42:23.235Z"
   },
   {
    "duration": 710,
    "start_time": "2023-02-22T12:42:24.552Z"
   },
   {
    "duration": 29,
    "start_time": "2023-02-22T12:42:25.264Z"
   },
   {
    "duration": 13,
    "start_time": "2023-02-22T12:42:25.295Z"
   },
   {
    "duration": 24,
    "start_time": "2023-02-22T12:42:25.310Z"
   },
   {
    "duration": 22,
    "start_time": "2023-02-22T12:42:25.335Z"
   },
   {
    "duration": 3,
    "start_time": "2023-02-22T12:42:25.359Z"
   },
   {
    "duration": 30,
    "start_time": "2023-02-22T12:42:25.392Z"
   },
   {
    "duration": 244,
    "start_time": "2023-02-22T12:42:25.424Z"
   },
   {
    "duration": 24,
    "start_time": "2023-02-22T12:42:25.671Z"
   },
   {
    "duration": 11,
    "start_time": "2023-02-22T12:42:25.697Z"
   },
   {
    "duration": 19,
    "start_time": "2023-02-22T12:42:25.710Z"
   },
   {
    "duration": 8,
    "start_time": "2023-02-22T12:42:25.731Z"
   },
   {
    "duration": 7,
    "start_time": "2023-02-22T12:42:25.740Z"
   },
   {
    "duration": 10,
    "start_time": "2023-02-22T12:42:25.748Z"
   },
   {
    "duration": 21,
    "start_time": "2023-02-22T12:42:25.760Z"
   },
   {
    "duration": 12,
    "start_time": "2023-02-22T12:42:25.783Z"
   },
   {
    "duration": 4,
    "start_time": "2023-02-22T12:42:25.797Z"
   },
   {
    "duration": 20,
    "start_time": "2023-02-22T12:42:25.802Z"
   },
   {
    "duration": 19,
    "start_time": "2023-02-22T12:42:25.825Z"
   },
   {
    "duration": 49,
    "start_time": "2023-02-22T12:42:25.845Z"
   },
   {
    "duration": 19,
    "start_time": "2023-02-22T12:42:25.896Z"
   },
   {
    "duration": 11,
    "start_time": "2023-02-22T12:42:25.917Z"
   },
   {
    "duration": 63,
    "start_time": "2023-02-22T12:42:25.930Z"
   },
   {
    "duration": 32,
    "start_time": "2023-02-22T12:42:25.995Z"
   },
   {
    "duration": 5,
    "start_time": "2023-02-22T12:42:26.030Z"
   },
   {
    "duration": 1008,
    "start_time": "2023-02-22T12:42:26.038Z"
   },
   {
    "duration": 817,
    "start_time": "2023-02-22T12:42:27.049Z"
   },
   {
    "duration": 914,
    "start_time": "2023-02-22T12:42:27.868Z"
   },
   {
    "duration": 7,
    "start_time": "2023-02-22T12:44:07.429Z"
   },
   {
    "duration": 26,
    "start_time": "2023-02-22T12:44:18.363Z"
   },
   {
    "duration": 34,
    "start_time": "2023-02-22T12:44:21.264Z"
   },
   {
    "duration": 24,
    "start_time": "2023-02-22T12:45:27.934Z"
   },
   {
    "duration": 4,
    "start_time": "2023-02-22T12:45:29.823Z"
   },
   {
    "duration": 1418,
    "start_time": "2023-02-22T12:45:40.158Z"
   },
   {
    "duration": 746,
    "start_time": "2023-02-22T12:45:41.578Z"
   },
   {
    "duration": 18,
    "start_time": "2023-02-22T12:45:42.326Z"
   },
   {
    "duration": 16,
    "start_time": "2023-02-22T12:45:42.346Z"
   },
   {
    "duration": 29,
    "start_time": "2023-02-22T12:45:42.365Z"
   },
   {
    "duration": 20,
    "start_time": "2023-02-22T12:45:42.395Z"
   },
   {
    "duration": 2,
    "start_time": "2023-02-22T12:45:42.417Z"
   },
   {
    "duration": 41,
    "start_time": "2023-02-22T12:45:42.421Z"
   },
   {
    "duration": 273,
    "start_time": "2023-02-22T12:45:42.464Z"
   },
   {
    "duration": 13,
    "start_time": "2023-02-22T12:45:42.739Z"
   },
   {
    "duration": 25,
    "start_time": "2023-02-22T12:45:42.754Z"
   },
   {
    "duration": 5,
    "start_time": "2023-02-22T12:45:42.781Z"
   },
   {
    "duration": 5,
    "start_time": "2023-02-22T12:45:42.791Z"
   },
   {
    "duration": 9,
    "start_time": "2023-02-22T12:45:42.799Z"
   },
   {
    "duration": 9,
    "start_time": "2023-02-22T12:45:42.810Z"
   },
   {
    "duration": 22,
    "start_time": "2023-02-22T12:45:42.820Z"
   },
   {
    "duration": 5,
    "start_time": "2023-02-22T12:45:42.843Z"
   },
   {
    "duration": 8,
    "start_time": "2023-02-22T12:45:42.849Z"
   },
   {
    "duration": 54,
    "start_time": "2023-02-22T12:45:42.859Z"
   },
   {
    "duration": 16,
    "start_time": "2023-02-22T12:45:42.914Z"
   },
   {
    "duration": 20,
    "start_time": "2023-02-22T12:45:42.931Z"
   },
   {
    "duration": 43,
    "start_time": "2023-02-22T12:45:42.953Z"
   },
   {
    "duration": 8,
    "start_time": "2023-02-22T12:45:42.998Z"
   },
   {
    "duration": 25,
    "start_time": "2023-02-22T12:45:43.008Z"
   },
   {
    "duration": 59,
    "start_time": "2023-02-22T12:45:43.035Z"
   },
   {
    "duration": 4,
    "start_time": "2023-02-22T12:45:43.096Z"
   },
   {
    "duration": 1006,
    "start_time": "2023-02-22T12:45:43.102Z"
   },
   {
    "duration": 886,
    "start_time": "2023-02-22T12:45:44.110Z"
   },
   {
    "duration": 977,
    "start_time": "2023-02-22T12:45:44.998Z"
   },
   {
    "duration": 26,
    "start_time": "2023-02-22T12:48:48.442Z"
   },
   {
    "duration": 4,
    "start_time": "2023-02-22T12:48:49.033Z"
   },
   {
    "duration": 134,
    "start_time": "2023-02-22T12:50:16.665Z"
   },
   {
    "duration": 34,
    "start_time": "2023-02-22T12:50:24.102Z"
   },
   {
    "duration": 5,
    "start_time": "2023-02-22T12:50:25.960Z"
   },
   {
    "duration": 27,
    "start_time": "2023-02-22T12:50:46.663Z"
   },
   {
    "duration": 5,
    "start_time": "2023-02-22T12:50:47.393Z"
   },
   {
    "duration": 879,
    "start_time": "2023-02-22T12:50:48.129Z"
   },
   {
    "duration": 26,
    "start_time": "2023-02-22T12:51:02.463Z"
   },
   {
    "duration": 5,
    "start_time": "2023-02-22T12:51:03.012Z"
   },
   {
    "duration": 31,
    "start_time": "2023-02-22T12:51:49.472Z"
   },
   {
    "duration": 5,
    "start_time": "2023-02-22T12:51:50.708Z"
   },
   {
    "duration": 26,
    "start_time": "2023-02-22T12:52:13.975Z"
   },
   {
    "duration": 5,
    "start_time": "2023-02-22T12:52:14.566Z"
   },
   {
    "duration": 26,
    "start_time": "2023-02-22T12:52:19.500Z"
   },
   {
    "duration": 5,
    "start_time": "2023-02-22T12:52:19.750Z"
   },
   {
    "duration": 24,
    "start_time": "2023-02-22T12:52:28.278Z"
   },
   {
    "duration": 6,
    "start_time": "2023-02-22T12:52:28.763Z"
   },
   {
    "duration": 1061,
    "start_time": "2023-02-22T12:52:29.180Z"
   },
   {
    "duration": 30,
    "start_time": "2023-02-22T12:53:04.860Z"
   },
   {
    "duration": 1382,
    "start_time": "2023-02-22T12:57:11.687Z"
   },
   {
    "duration": 687,
    "start_time": "2023-02-22T12:57:13.071Z"
   },
   {
    "duration": 18,
    "start_time": "2023-02-22T12:57:13.760Z"
   },
   {
    "duration": 23,
    "start_time": "2023-02-22T12:57:13.780Z"
   },
   {
    "duration": 17,
    "start_time": "2023-02-22T12:57:13.805Z"
   },
   {
    "duration": 20,
    "start_time": "2023-02-22T12:57:13.824Z"
   },
   {
    "duration": 3,
    "start_time": "2023-02-22T12:57:13.845Z"
   },
   {
    "duration": 69,
    "start_time": "2023-02-22T12:57:13.849Z"
   },
   {
    "duration": 242,
    "start_time": "2023-02-22T12:57:13.920Z"
   },
   {
    "duration": 12,
    "start_time": "2023-02-22T12:57:14.164Z"
   },
   {
    "duration": 17,
    "start_time": "2023-02-22T12:57:14.177Z"
   },
   {
    "duration": 11,
    "start_time": "2023-02-22T12:57:14.195Z"
   },
   {
    "duration": 10,
    "start_time": "2023-02-22T12:57:14.209Z"
   },
   {
    "duration": 7,
    "start_time": "2023-02-22T12:57:14.221Z"
   },
   {
    "duration": 15,
    "start_time": "2023-02-22T12:57:14.229Z"
   },
   {
    "duration": 23,
    "start_time": "2023-02-22T12:57:14.246Z"
   },
   {
    "duration": 7,
    "start_time": "2023-02-22T12:57:14.271Z"
   },
   {
    "duration": 4,
    "start_time": "2023-02-22T12:57:14.292Z"
   },
   {
    "duration": 18,
    "start_time": "2023-02-22T12:57:14.297Z"
   },
   {
    "duration": 15,
    "start_time": "2023-02-22T12:57:14.316Z"
   },
   {
    "duration": 19,
    "start_time": "2023-02-22T12:57:14.333Z"
   },
   {
    "duration": 44,
    "start_time": "2023-02-22T12:57:14.354Z"
   },
   {
    "duration": 9,
    "start_time": "2023-02-22T12:57:14.399Z"
   },
   {
    "duration": 24,
    "start_time": "2023-02-22T12:57:14.410Z"
   },
   {
    "duration": 63,
    "start_time": "2023-02-22T12:57:14.436Z"
   },
   {
    "duration": 6,
    "start_time": "2023-02-22T12:57:14.501Z"
   },
   {
    "duration": 1003,
    "start_time": "2023-02-22T12:57:14.509Z"
   },
   {
    "duration": 990,
    "start_time": "2023-02-22T12:57:15.516Z"
   },
   {
    "duration": 1005,
    "start_time": "2023-02-22T12:57:16.508Z"
   },
   {
    "duration": 27,
    "start_time": "2023-02-22T12:59:17.906Z"
   },
   {
    "duration": 6,
    "start_time": "2023-02-22T12:59:18.349Z"
   },
   {
    "duration": 925,
    "start_time": "2023-02-22T12:59:19.196Z"
   },
   {
    "duration": 10,
    "start_time": "2023-02-22T12:59:37.827Z"
   },
   {
    "duration": 38,
    "start_time": "2023-02-22T12:59:40.023Z"
   },
   {
    "duration": 151,
    "start_time": "2023-02-22T13:01:03.466Z"
   },
   {
    "duration": 115,
    "start_time": "2023-02-22T13:01:09.128Z"
   },
   {
    "duration": 112,
    "start_time": "2023-02-22T13:01:23.386Z"
   },
   {
    "duration": 283,
    "start_time": "2023-02-22T13:01:36.093Z"
   },
   {
    "duration": 136,
    "start_time": "2023-02-22T13:01:51.456Z"
   },
   {
    "duration": 148,
    "start_time": "2023-02-22T13:02:20.368Z"
   },
   {
    "duration": 139,
    "start_time": "2023-02-22T13:02:33.236Z"
   },
   {
    "duration": 140,
    "start_time": "2023-02-22T13:02:48.971Z"
   },
   {
    "duration": 158,
    "start_time": "2023-02-22T13:03:19.779Z"
   },
   {
    "duration": 229,
    "start_time": "2023-02-22T13:03:58.541Z"
   },
   {
    "duration": 12,
    "start_time": "2023-02-22T13:05:59.723Z"
   },
   {
    "duration": 11,
    "start_time": "2023-02-22T13:06:08.295Z"
   },
   {
    "duration": 164,
    "start_time": "2023-02-22T13:06:33.763Z"
   },
   {
    "duration": 181,
    "start_time": "2023-02-22T13:06:40.024Z"
   },
   {
    "duration": 167,
    "start_time": "2023-02-22T13:06:54.535Z"
   },
   {
    "duration": 1424,
    "start_time": "2023-02-22T13:08:16.327Z"
   },
   {
    "duration": 734,
    "start_time": "2023-02-22T13:08:17.753Z"
   },
   {
    "duration": 19,
    "start_time": "2023-02-22T13:08:18.489Z"
   },
   {
    "duration": 12,
    "start_time": "2023-02-22T13:08:18.511Z"
   },
   {
    "duration": 29,
    "start_time": "2023-02-22T13:08:18.524Z"
   },
   {
    "duration": 58,
    "start_time": "2023-02-22T13:08:18.555Z"
   },
   {
    "duration": 3,
    "start_time": "2023-02-22T13:08:18.615Z"
   },
   {
    "duration": 49,
    "start_time": "2023-02-22T13:08:18.620Z"
   },
   {
    "duration": 246,
    "start_time": "2023-02-22T13:08:18.672Z"
   },
   {
    "duration": 13,
    "start_time": "2023-02-22T13:08:18.920Z"
   },
   {
    "duration": 9,
    "start_time": "2023-02-22T13:08:18.934Z"
   },
   {
    "duration": 6,
    "start_time": "2023-02-22T13:08:18.945Z"
   },
   {
    "duration": 8,
    "start_time": "2023-02-22T13:08:18.952Z"
   },
   {
    "duration": 31,
    "start_time": "2023-02-22T13:08:18.962Z"
   },
   {
    "duration": 9,
    "start_time": "2023-02-22T13:08:18.995Z"
   },
   {
    "duration": 22,
    "start_time": "2023-02-22T13:08:19.006Z"
   },
   {
    "duration": 5,
    "start_time": "2023-02-22T13:08:19.030Z"
   },
   {
    "duration": 5,
    "start_time": "2023-02-22T13:08:19.037Z"
   },
   {
    "duration": 52,
    "start_time": "2023-02-22T13:08:19.044Z"
   },
   {
    "duration": 16,
    "start_time": "2023-02-22T13:08:19.098Z"
   },
   {
    "duration": 24,
    "start_time": "2023-02-22T13:08:19.116Z"
   },
   {
    "duration": 54,
    "start_time": "2023-02-22T13:08:19.142Z"
   },
   {
    "duration": 11,
    "start_time": "2023-02-22T13:08:19.198Z"
   },
   {
    "duration": 9,
    "start_time": "2023-02-22T13:08:19.212Z"
   },
   {
    "duration": 47,
    "start_time": "2023-02-22T13:08:19.223Z"
   },
   {
    "duration": 22,
    "start_time": "2023-02-22T13:08:19.272Z"
   },
   {
    "duration": 988,
    "start_time": "2023-02-22T13:08:19.295Z"
   },
   {
    "duration": 878,
    "start_time": "2023-02-22T13:08:20.287Z"
   },
   {
    "duration": 1029,
    "start_time": "2023-02-22T13:08:21.167Z"
   },
   {
    "duration": 194,
    "start_time": "2023-02-22T13:08:22.198Z"
   },
   {
    "duration": 166,
    "start_time": "2023-02-22T13:13:07.435Z"
   },
   {
    "duration": 177,
    "start_time": "2023-02-22T13:17:23.605Z"
   },
   {
    "duration": 198,
    "start_time": "2023-02-22T13:17:44.344Z"
   },
   {
    "duration": 7,
    "start_time": "2023-02-22T13:19:01.956Z"
   },
   {
    "duration": 24,
    "start_time": "2023-02-22T13:19:40.822Z"
   },
   {
    "duration": 24,
    "start_time": "2023-02-22T13:20:12.637Z"
   },
   {
    "duration": 23,
    "start_time": "2023-02-22T13:20:19.628Z"
   },
   {
    "duration": 5,
    "start_time": "2023-02-22T13:20:39.202Z"
   },
   {
    "duration": 5,
    "start_time": "2023-02-22T13:21:28.252Z"
   },
   {
    "duration": 960,
    "start_time": "2023-02-22T13:21:54.726Z"
   },
   {
    "duration": 187,
    "start_time": "2023-02-22T13:23:25.305Z"
   },
   {
    "duration": 5,
    "start_time": "2023-02-22T13:30:19.380Z"
   },
   {
    "duration": 5,
    "start_time": "2023-02-22T13:30:50.185Z"
   },
   {
    "duration": 18,
    "start_time": "2023-02-22T13:30:53.205Z"
   },
   {
    "duration": 19,
    "start_time": "2023-02-22T13:31:03.036Z"
   },
   {
    "duration": 54,
    "start_time": "2023-02-22T13:31:47.251Z"
   },
   {
    "duration": 54,
    "start_time": "2023-02-22T13:32:25.241Z"
   },
   {
    "duration": 111,
    "start_time": "2023-02-22T13:37:38.104Z"
   },
   {
    "duration": 145,
    "start_time": "2023-02-22T13:38:14.772Z"
   },
   {
    "duration": 88,
    "start_time": "2023-02-22T13:38:19.739Z"
   },
   {
    "duration": 105,
    "start_time": "2023-02-22T13:38:45.555Z"
   },
   {
    "duration": 100,
    "start_time": "2023-02-22T13:39:07.542Z"
   },
   {
    "duration": 96,
    "start_time": "2023-02-22T13:39:13.704Z"
   },
   {
    "duration": 70,
    "start_time": "2023-02-22T13:39:19.448Z"
   },
   {
    "duration": 93,
    "start_time": "2023-02-22T13:39:27.553Z"
   },
   {
    "duration": 102,
    "start_time": "2023-02-22T13:41:41.506Z"
   },
   {
    "duration": 97,
    "start_time": "2023-02-22T13:41:50.205Z"
   },
   {
    "duration": 112,
    "start_time": "2023-02-22T13:42:02.900Z"
   },
   {
    "duration": 96,
    "start_time": "2023-02-22T13:42:10.354Z"
   },
   {
    "duration": 221,
    "start_time": "2023-02-22T13:42:52.590Z"
   },
   {
    "duration": 75,
    "start_time": "2023-02-22T13:43:15.107Z"
   },
   {
    "duration": 128,
    "start_time": "2023-02-22T13:43:17.389Z"
   },
   {
    "duration": 122,
    "start_time": "2023-02-22T13:43:34.690Z"
   },
   {
    "duration": 144,
    "start_time": "2023-02-22T13:44:12.906Z"
   },
   {
    "duration": 5,
    "start_time": "2023-02-22T13:49:13.460Z"
   },
   {
    "duration": 120,
    "start_time": "2023-02-22T13:49:24.532Z"
   },
   {
    "duration": 139,
    "start_time": "2023-02-22T13:51:14.342Z"
   },
   {
    "duration": 141,
    "start_time": "2023-02-22T13:51:19.068Z"
   },
   {
    "duration": 122,
    "start_time": "2023-02-22T13:52:17.886Z"
   },
   {
    "duration": 118,
    "start_time": "2023-02-22T13:53:01.023Z"
   },
   {
    "duration": 83,
    "start_time": "2023-02-22T13:53:49.729Z"
   },
   {
    "duration": 4,
    "start_time": "2023-02-22T13:54:00.182Z"
   },
   {
    "duration": 74,
    "start_time": "2023-02-22T13:54:07.054Z"
   },
   {
    "duration": 146,
    "start_time": "2023-02-22T13:54:10.052Z"
   },
   {
    "duration": 143,
    "start_time": "2023-02-22T13:54:59.238Z"
   },
   {
    "duration": 172,
    "start_time": "2023-02-22T14:02:15.956Z"
   },
   {
    "duration": 123,
    "start_time": "2023-02-22T14:18:34.470Z"
   },
   {
    "duration": 1222,
    "start_time": "2023-02-22T14:19:11.100Z"
   },
   {
    "duration": 126,
    "start_time": "2023-02-22T14:19:26.222Z"
   },
   {
    "duration": 14,
    "start_time": "2023-02-22T14:23:23.168Z"
   },
   {
    "duration": 219,
    "start_time": "2023-02-22T14:23:29.866Z"
   },
   {
    "duration": 9,
    "start_time": "2023-02-22T14:24:18.402Z"
   },
   {
    "duration": 116,
    "start_time": "2023-02-22T14:24:25.690Z"
   },
   {
    "duration": 142,
    "start_time": "2023-02-22T14:24:51.404Z"
   },
   {
    "duration": 15,
    "start_time": "2023-02-22T14:33:37.532Z"
   },
   {
    "duration": 340,
    "start_time": "2023-02-22T14:33:58.285Z"
   },
   {
    "duration": 520,
    "start_time": "2023-02-22T14:34:08.822Z"
   },
   {
    "duration": 626,
    "start_time": "2023-02-22T14:34:34.359Z"
   },
   {
    "duration": 835,
    "start_time": "2023-02-22T14:35:37.072Z"
   },
   {
    "duration": 547,
    "start_time": "2023-02-22T14:35:44.672Z"
   },
   {
    "duration": 5,
    "start_time": "2023-02-22T14:56:23.686Z"
   },
   {
    "duration": 6,
    "start_time": "2023-02-22T14:57:13.493Z"
   },
   {
    "duration": 514,
    "start_time": "2023-02-22T14:57:13.956Z"
   },
   {
    "duration": 6,
    "start_time": "2023-02-22T14:57:31.903Z"
   },
   {
    "duration": 477,
    "start_time": "2023-02-22T14:57:32.609Z"
   },
   {
    "duration": 3,
    "start_time": "2023-02-22T14:58:22.655Z"
   },
   {
    "duration": 7,
    "start_time": "2023-02-22T14:58:30.544Z"
   },
   {
    "duration": 489,
    "start_time": "2023-02-22T14:58:31.521Z"
   },
   {
    "duration": 1602,
    "start_time": "2023-02-22T14:59:37.264Z"
   },
   {
    "duration": 716,
    "start_time": "2023-02-22T14:59:38.868Z"
   },
   {
    "duration": 21,
    "start_time": "2023-02-22T14:59:39.586Z"
   },
   {
    "duration": 12,
    "start_time": "2023-02-22T14:59:39.609Z"
   },
   {
    "duration": 16,
    "start_time": "2023-02-22T14:59:39.623Z"
   },
   {
    "duration": 50,
    "start_time": "2023-02-22T14:59:39.641Z"
   },
   {
    "duration": 2,
    "start_time": "2023-02-22T14:59:39.693Z"
   },
   {
    "duration": 30,
    "start_time": "2023-02-22T14:59:39.697Z"
   },
   {
    "duration": 236,
    "start_time": "2023-02-22T14:59:39.729Z"
   },
   {
    "duration": 14,
    "start_time": "2023-02-22T14:59:39.967Z"
   },
   {
    "duration": 44,
    "start_time": "2023-02-22T14:59:39.992Z"
   },
   {
    "duration": 31,
    "start_time": "2023-02-22T14:59:40.038Z"
   },
   {
    "duration": 23,
    "start_time": "2023-02-22T14:59:40.071Z"
   },
   {
    "duration": 8,
    "start_time": "2023-02-22T14:59:40.097Z"
   },
   {
    "duration": 9,
    "start_time": "2023-02-22T14:59:40.106Z"
   },
   {
    "duration": 30,
    "start_time": "2023-02-22T14:59:40.117Z"
   },
   {
    "duration": 6,
    "start_time": "2023-02-22T14:59:40.149Z"
   },
   {
    "duration": 14,
    "start_time": "2023-02-22T14:59:40.157Z"
   },
   {
    "duration": 45,
    "start_time": "2023-02-22T14:59:40.173Z"
   },
   {
    "duration": 30,
    "start_time": "2023-02-22T14:59:40.220Z"
   },
   {
    "duration": 24,
    "start_time": "2023-02-22T14:59:40.252Z"
   },
   {
    "duration": 21,
    "start_time": "2023-02-22T14:59:40.277Z"
   },
   {
    "duration": 8,
    "start_time": "2023-02-22T14:59:40.300Z"
   },
   {
    "duration": 10,
    "start_time": "2023-02-22T14:59:40.310Z"
   },
   {
    "duration": 9,
    "start_time": "2023-02-22T14:59:40.322Z"
   },
   {
    "duration": 7,
    "start_time": "2023-02-22T14:59:40.333Z"
   },
   {
    "duration": 962,
    "start_time": "2023-02-22T14:59:40.341Z"
   },
   {
    "duration": 827,
    "start_time": "2023-02-22T14:59:41.305Z"
   },
   {
    "duration": 978,
    "start_time": "2023-02-22T14:59:42.134Z"
   },
   {
    "duration": 202,
    "start_time": "2023-02-22T14:59:43.114Z"
   },
   {
    "duration": 6,
    "start_time": "2023-02-22T14:59:43.317Z"
   },
   {
    "duration": 156,
    "start_time": "2023-02-22T14:59:43.325Z"
   },
   {
    "duration": 531,
    "start_time": "2023-02-22T14:59:43.491Z"
   },
   {
    "duration": 6,
    "start_time": "2023-02-22T14:59:44.024Z"
   },
   {
    "duration": 525,
    "start_time": "2023-02-22T14:59:44.032Z"
   },
   {
    "duration": 75,
    "start_time": "2023-02-22T14:59:44.559Z"
   },
   {
    "duration": 105,
    "start_time": "2023-02-22T15:00:30.447Z"
   },
   {
    "duration": 89,
    "start_time": "2023-02-22T15:00:41.584Z"
   },
   {
    "duration": 5,
    "start_time": "2023-02-22T15:02:43.352Z"
   },
   {
    "duration": 711,
    "start_time": "2023-02-22T15:02:45.533Z"
   },
   {
    "duration": 6,
    "start_time": "2023-02-22T15:05:51.081Z"
   },
   {
    "duration": 1551,
    "start_time": "2023-02-22T15:05:51.799Z"
   },
   {
    "duration": 5,
    "start_time": "2023-02-22T15:06:10.359Z"
   },
   {
    "duration": 1617,
    "start_time": "2023-02-22T15:06:10.739Z"
   },
   {
    "duration": 5,
    "start_time": "2023-02-22T15:06:20.421Z"
   },
   {
    "duration": 310,
    "start_time": "2023-02-22T15:06:20.713Z"
   },
   {
    "duration": 5,
    "start_time": "2023-02-22T15:06:34.932Z"
   },
   {
    "duration": 337,
    "start_time": "2023-02-22T15:06:35.201Z"
   },
   {
    "duration": 5,
    "start_time": "2023-02-22T15:06:47.427Z"
   },
   {
    "duration": 1585,
    "start_time": "2023-02-22T15:06:50.594Z"
   },
   {
    "duration": 2,
    "start_time": "2023-02-22T15:06:58.517Z"
   },
   {
    "duration": 5,
    "start_time": "2023-02-22T15:07:27.725Z"
   },
   {
    "duration": 1624,
    "start_time": "2023-02-22T15:07:28.151Z"
   },
   {
    "duration": 1290,
    "start_time": "2023-02-22T15:11:04.131Z"
   },
   {
    "duration": 675,
    "start_time": "2023-02-22T15:11:05.423Z"
   },
   {
    "duration": 19,
    "start_time": "2023-02-22T15:11:06.099Z"
   },
   {
    "duration": 19,
    "start_time": "2023-02-22T15:11:06.121Z"
   },
   {
    "duration": 22,
    "start_time": "2023-02-22T15:11:06.142Z"
   },
   {
    "duration": 46,
    "start_time": "2023-02-22T15:11:06.166Z"
   },
   {
    "duration": 10,
    "start_time": "2023-02-22T15:11:06.214Z"
   },
   {
    "duration": 37,
    "start_time": "2023-02-22T15:11:06.225Z"
   },
   {
    "duration": 284,
    "start_time": "2023-02-22T15:11:06.264Z"
   },
   {
    "duration": 12,
    "start_time": "2023-02-22T15:11:06.550Z"
   },
   {
    "duration": 34,
    "start_time": "2023-02-22T15:11:06.564Z"
   },
   {
    "duration": 7,
    "start_time": "2023-02-22T15:11:06.600Z"
   },
   {
    "duration": 6,
    "start_time": "2023-02-22T15:11:06.609Z"
   },
   {
    "duration": 5,
    "start_time": "2023-02-22T15:11:06.617Z"
   },
   {
    "duration": 7,
    "start_time": "2023-02-22T15:11:06.624Z"
   },
   {
    "duration": 25,
    "start_time": "2023-02-22T15:11:06.633Z"
   },
   {
    "duration": 6,
    "start_time": "2023-02-22T15:11:06.660Z"
   },
   {
    "duration": 26,
    "start_time": "2023-02-22T15:11:06.667Z"
   },
   {
    "duration": 23,
    "start_time": "2023-02-22T15:11:06.695Z"
   },
   {
    "duration": 22,
    "start_time": "2023-02-22T15:11:06.719Z"
   },
   {
    "duration": 24,
    "start_time": "2023-02-22T15:11:06.743Z"
   },
   {
    "duration": 33,
    "start_time": "2023-02-22T15:11:06.769Z"
   },
   {
    "duration": 9,
    "start_time": "2023-02-22T15:11:06.803Z"
   },
   {
    "duration": 11,
    "start_time": "2023-02-22T15:11:06.814Z"
   },
   {
    "duration": 8,
    "start_time": "2023-02-22T15:11:06.826Z"
   },
   {
    "duration": 8,
    "start_time": "2023-02-22T15:11:06.836Z"
   },
   {
    "duration": 892,
    "start_time": "2023-02-22T15:11:06.845Z"
   },
   {
    "duration": 890,
    "start_time": "2023-02-22T15:11:07.743Z"
   },
   {
    "duration": 903,
    "start_time": "2023-02-22T15:11:08.635Z"
   },
   {
    "duration": 188,
    "start_time": "2023-02-22T15:11:09.539Z"
   },
   {
    "duration": 5,
    "start_time": "2023-02-22T15:11:09.729Z"
   },
   {
    "duration": 144,
    "start_time": "2023-02-22T15:11:09.735Z"
   },
   {
    "duration": 105,
    "start_time": "2023-02-22T15:11:09.880Z"
   },
   {
    "duration": 0,
    "start_time": "2023-02-22T15:11:09.987Z"
   },
   {
    "duration": 0,
    "start_time": "2023-02-22T15:11:09.992Z"
   },
   {
    "duration": 5,
    "start_time": "2023-02-22T15:11:22.762Z"
   },
   {
    "duration": 1567,
    "start_time": "2023-02-22T15:11:26.547Z"
   },
   {
    "duration": 4,
    "start_time": "2023-02-22T15:11:52.555Z"
   },
   {
    "duration": 127,
    "start_time": "2023-02-22T15:12:09.184Z"
   },
   {
    "duration": 6,
    "start_time": "2023-02-22T15:15:27.296Z"
   },
   {
    "duration": 1667,
    "start_time": "2023-02-22T15:15:29.500Z"
   },
   {
    "duration": 5,
    "start_time": "2023-02-22T15:21:47.706Z"
   },
   {
    "duration": 110,
    "start_time": "2023-02-22T15:22:16.683Z"
   },
   {
    "duration": 11,
    "start_time": "2023-02-22T15:22:40.335Z"
   },
   {
    "duration": 6,
    "start_time": "2023-02-22T15:22:46.912Z"
   },
   {
    "duration": 5,
    "start_time": "2023-02-22T15:23:54.881Z"
   },
   {
    "duration": 1563,
    "start_time": "2023-02-22T15:23:56.271Z"
   },
   {
    "duration": 8,
    "start_time": "2023-02-22T15:25:02.079Z"
   },
   {
    "duration": 1611,
    "start_time": "2023-02-22T15:25:02.571Z"
   },
   {
    "duration": 5,
    "start_time": "2023-02-22T15:36:22.069Z"
   },
   {
    "duration": 1561,
    "start_time": "2023-02-22T15:36:22.790Z"
   },
   {
    "duration": 10,
    "start_time": "2023-02-22T15:36:48.170Z"
   },
   {
    "duration": 4,
    "start_time": "2023-02-22T15:36:57.566Z"
   },
   {
    "duration": 5,
    "start_time": "2023-02-22T15:37:04.919Z"
   },
   {
    "duration": 8,
    "start_time": "2023-02-22T15:42:02.365Z"
   },
   {
    "duration": 6,
    "start_time": "2023-02-22T15:42:57.117Z"
   },
   {
    "duration": 6,
    "start_time": "2023-02-22T15:44:32.019Z"
   },
   {
    "duration": 1609,
    "start_time": "2023-02-22T15:44:32.823Z"
   },
   {
    "duration": 5,
    "start_time": "2023-02-22T15:54:21.789Z"
   },
   {
    "duration": 5,
    "start_time": "2023-02-22T15:54:25.670Z"
   },
   {
    "duration": 1648,
    "start_time": "2023-02-22T15:54:25.978Z"
   },
   {
    "duration": 4,
    "start_time": "2023-02-22T15:55:12.496Z"
   },
   {
    "duration": 1702,
    "start_time": "2023-02-22T15:55:12.842Z"
   },
   {
    "duration": 6,
    "start_time": "2023-02-22T15:56:49.870Z"
   },
   {
    "duration": 6,
    "start_time": "2023-02-22T15:56:50.233Z"
   },
   {
    "duration": 5,
    "start_time": "2023-02-22T15:56:51.135Z"
   },
   {
    "duration": 1600,
    "start_time": "2023-02-22T15:56:52.258Z"
   },
   {
    "duration": 1590,
    "start_time": "2023-02-22T15:57:03.480Z"
   },
   {
    "duration": 1640,
    "start_time": "2023-02-22T15:58:23.819Z"
   },
   {
    "duration": 1198,
    "start_time": "2023-02-22T15:59:41.172Z"
   },
   {
    "duration": 6,
    "start_time": "2023-02-22T16:01:02.938Z"
   },
   {
    "duration": 1629,
    "start_time": "2023-02-22T16:01:03.427Z"
   },
   {
    "duration": 1002,
    "start_time": "2023-02-22T16:01:06.358Z"
   },
   {
    "duration": 5,
    "start_time": "2023-02-22T16:01:16.613Z"
   },
   {
    "duration": 1715,
    "start_time": "2023-02-22T16:01:16.973Z"
   },
   {
    "duration": 1142,
    "start_time": "2023-02-22T16:01:18.693Z"
   },
   {
    "duration": 5,
    "start_time": "2023-02-22T16:02:32.738Z"
   },
   {
    "duration": 1596,
    "start_time": "2023-02-22T16:02:33.009Z"
   },
   {
    "duration": 1162,
    "start_time": "2023-02-22T16:02:34.607Z"
   },
   {
    "duration": 13,
    "start_time": "2023-02-22T16:17:13.228Z"
   },
   {
    "duration": 12,
    "start_time": "2023-02-22T16:17:15.177Z"
   },
   {
    "duration": 9,
    "start_time": "2023-02-22T16:17:17.425Z"
   },
   {
    "duration": 16,
    "start_time": "2023-02-22T16:17:19.122Z"
   },
   {
    "duration": 12,
    "start_time": "2023-02-22T16:17:19.445Z"
   },
   {
    "duration": 10,
    "start_time": "2023-02-22T16:17:19.744Z"
   },
   {
    "duration": 11,
    "start_time": "2023-02-22T16:17:31.697Z"
   },
   {
    "duration": 10,
    "start_time": "2023-02-22T16:17:33.045Z"
   },
   {
    "duration": 1277,
    "start_time": "2023-02-22T16:17:38.528Z"
   },
   {
    "duration": 714,
    "start_time": "2023-02-22T16:17:39.807Z"
   },
   {
    "duration": 17,
    "start_time": "2023-02-22T16:17:40.522Z"
   },
   {
    "duration": 14,
    "start_time": "2023-02-22T16:17:40.542Z"
   },
   {
    "duration": 45,
    "start_time": "2023-02-22T16:17:40.557Z"
   },
   {
    "duration": 21,
    "start_time": "2023-02-22T16:17:40.604Z"
   },
   {
    "duration": 2,
    "start_time": "2023-02-22T16:17:40.627Z"
   },
   {
    "duration": 33,
    "start_time": "2023-02-22T16:17:40.631Z"
   },
   {
    "duration": 253,
    "start_time": "2023-02-22T16:17:40.692Z"
   },
   {
    "duration": 12,
    "start_time": "2023-02-22T16:17:40.948Z"
   },
   {
    "duration": 8,
    "start_time": "2023-02-22T16:17:40.961Z"
   },
   {
    "duration": 22,
    "start_time": "2023-02-22T16:17:40.971Z"
   },
   {
    "duration": 9,
    "start_time": "2023-02-22T16:17:40.994Z"
   },
   {
    "duration": 8,
    "start_time": "2023-02-22T16:17:41.005Z"
   },
   {
    "duration": 11,
    "start_time": "2023-02-22T16:17:41.015Z"
   },
   {
    "duration": 23,
    "start_time": "2023-02-22T16:17:41.028Z"
   },
   {
    "duration": 6,
    "start_time": "2023-02-22T16:17:41.053Z"
   },
   {
    "duration": 34,
    "start_time": "2023-02-22T16:17:41.061Z"
   },
   {
    "duration": 19,
    "start_time": "2023-02-22T16:17:41.097Z"
   },
   {
    "duration": 17,
    "start_time": "2023-02-22T16:17:41.118Z"
   },
   {
    "duration": 22,
    "start_time": "2023-02-22T16:17:41.137Z"
   },
   {
    "duration": 20,
    "start_time": "2023-02-22T16:17:41.191Z"
   },
   {
    "duration": 10,
    "start_time": "2023-02-22T16:17:41.213Z"
   },
   {
    "duration": 13,
    "start_time": "2023-02-22T16:17:41.225Z"
   },
   {
    "duration": 10,
    "start_time": "2023-02-22T16:17:41.241Z"
   },
   {
    "duration": 8,
    "start_time": "2023-02-22T16:17:41.294Z"
   },
   {
    "duration": 9,
    "start_time": "2023-02-22T16:17:41.305Z"
   },
   {
    "duration": 884,
    "start_time": "2023-02-22T16:17:41.318Z"
   },
   {
    "duration": 927,
    "start_time": "2023-02-22T16:17:42.204Z"
   },
   {
    "duration": 992,
    "start_time": "2023-02-22T16:17:43.133Z"
   },
   {
    "duration": 197,
    "start_time": "2023-02-22T16:17:44.127Z"
   },
   {
    "duration": 7,
    "start_time": "2023-02-22T16:17:44.327Z"
   },
   {
    "duration": 9,
    "start_time": "2023-02-22T16:17:44.336Z"
   },
   {
    "duration": 8,
    "start_time": "2023-02-22T16:17:44.348Z"
   },
   {
    "duration": 1645,
    "start_time": "2023-02-22T16:17:44.358Z"
   },
   {
    "duration": 1106,
    "start_time": "2023-02-22T16:17:46.005Z"
   },
   {
    "duration": 1302,
    "start_time": "2023-02-22T16:19:13.273Z"
   },
   {
    "duration": 719,
    "start_time": "2023-02-22T16:19:14.578Z"
   },
   {
    "duration": 19,
    "start_time": "2023-02-22T16:19:15.299Z"
   },
   {
    "duration": 12,
    "start_time": "2023-02-22T16:19:15.320Z"
   },
   {
    "duration": 18,
    "start_time": "2023-02-22T16:19:15.334Z"
   },
   {
    "duration": 53,
    "start_time": "2023-02-22T16:19:15.354Z"
   },
   {
    "duration": 2,
    "start_time": "2023-02-22T16:19:15.409Z"
   },
   {
    "duration": 34,
    "start_time": "2023-02-22T16:19:15.413Z"
   },
   {
    "duration": 277,
    "start_time": "2023-02-22T16:19:15.449Z"
   },
   {
    "duration": 16,
    "start_time": "2023-02-22T16:19:15.728Z"
   },
   {
    "duration": 13,
    "start_time": "2023-02-22T16:19:15.745Z"
   },
   {
    "duration": 9,
    "start_time": "2023-02-22T16:19:15.759Z"
   },
   {
    "duration": 25,
    "start_time": "2023-02-22T16:19:15.770Z"
   },
   {
    "duration": 9,
    "start_time": "2023-02-22T16:19:15.798Z"
   },
   {
    "duration": 10,
    "start_time": "2023-02-22T16:19:15.809Z"
   },
   {
    "duration": 26,
    "start_time": "2023-02-22T16:19:15.822Z"
   },
   {
    "duration": 6,
    "start_time": "2023-02-22T16:19:15.850Z"
   },
   {
    "duration": 21,
    "start_time": "2023-02-22T16:19:15.857Z"
   },
   {
    "duration": 30,
    "start_time": "2023-02-22T16:19:15.879Z"
   },
   {
    "duration": 47,
    "start_time": "2023-02-22T16:19:15.919Z"
   },
   {
    "duration": 28,
    "start_time": "2023-02-22T16:19:15.969Z"
   },
   {
    "duration": 25,
    "start_time": "2023-02-22T16:19:15.999Z"
   },
   {
    "duration": 14,
    "start_time": "2023-02-22T16:19:16.026Z"
   },
   {
    "duration": 52,
    "start_time": "2023-02-22T16:19:16.042Z"
   },
   {
    "duration": 10,
    "start_time": "2023-02-22T16:19:16.097Z"
   },
   {
    "duration": 28,
    "start_time": "2023-02-22T16:19:16.108Z"
   },
   {
    "duration": 25,
    "start_time": "2023-02-22T16:19:16.138Z"
   },
   {
    "duration": 1442,
    "start_time": "2023-02-22T16:19:16.165Z"
   },
   {
    "duration": 1513,
    "start_time": "2023-02-22T16:19:17.609Z"
   },
   {
    "duration": 973,
    "start_time": "2023-02-22T16:19:19.124Z"
   },
   {
    "duration": 193,
    "start_time": "2023-02-22T16:19:20.099Z"
   },
   {
    "duration": 5,
    "start_time": "2023-02-22T16:19:20.293Z"
   },
   {
    "duration": 34,
    "start_time": "2023-02-22T16:19:20.300Z"
   },
   {
    "duration": 17,
    "start_time": "2023-02-22T16:19:20.336Z"
   },
   {
    "duration": 1580,
    "start_time": "2023-02-22T16:19:20.355Z"
   },
   {
    "duration": 1005,
    "start_time": "2023-02-22T16:19:21.937Z"
   },
   {
    "duration": 1333,
    "start_time": "2023-02-22T16:20:37.597Z"
   },
   {
    "duration": 733,
    "start_time": "2023-02-22T16:20:38.932Z"
   },
   {
    "duration": 31,
    "start_time": "2023-02-22T16:20:39.667Z"
   },
   {
    "duration": 57,
    "start_time": "2023-02-22T16:20:39.700Z"
   },
   {
    "duration": 18,
    "start_time": "2023-02-22T16:20:39.758Z"
   },
   {
    "duration": 19,
    "start_time": "2023-02-22T16:20:39.778Z"
   },
   {
    "duration": 3,
    "start_time": "2023-02-22T16:20:39.799Z"
   },
   {
    "duration": 40,
    "start_time": "2023-02-22T16:20:39.803Z"
   },
   {
    "duration": 248,
    "start_time": "2023-02-22T16:20:39.845Z"
   },
   {
    "duration": 12,
    "start_time": "2023-02-22T16:20:40.096Z"
   },
   {
    "duration": 14,
    "start_time": "2023-02-22T16:20:40.110Z"
   },
   {
    "duration": 7,
    "start_time": "2023-02-22T16:20:40.125Z"
   },
   {
    "duration": 10,
    "start_time": "2023-02-22T16:20:40.134Z"
   },
   {
    "duration": 9,
    "start_time": "2023-02-22T16:20:40.146Z"
   },
   {
    "duration": 12,
    "start_time": "2023-02-22T16:20:40.156Z"
   },
   {
    "duration": 49,
    "start_time": "2023-02-22T16:20:40.169Z"
   },
   {
    "duration": 5,
    "start_time": "2023-02-22T16:20:40.220Z"
   },
   {
    "duration": 14,
    "start_time": "2023-02-22T16:20:40.227Z"
   },
   {
    "duration": 30,
    "start_time": "2023-02-22T16:20:40.243Z"
   },
   {
    "duration": 38,
    "start_time": "2023-02-22T16:20:40.276Z"
   },
   {
    "duration": 21,
    "start_time": "2023-02-22T16:20:40.316Z"
   },
   {
    "duration": 19,
    "start_time": "2023-02-22T16:20:40.338Z"
   },
   {
    "duration": 40,
    "start_time": "2023-02-22T16:20:40.359Z"
   },
   {
    "duration": 21,
    "start_time": "2023-02-22T16:20:40.400Z"
   },
   {
    "duration": 8,
    "start_time": "2023-02-22T16:20:40.422Z"
   },
   {
    "duration": 11,
    "start_time": "2023-02-22T16:20:40.432Z"
   },
   {
    "duration": 6,
    "start_time": "2023-02-22T16:20:40.445Z"
   },
   {
    "duration": 938,
    "start_time": "2023-02-22T16:20:40.454Z"
   },
   {
    "duration": 958,
    "start_time": "2023-02-22T16:20:41.394Z"
   },
   {
    "duration": 1054,
    "start_time": "2023-02-22T16:20:42.354Z"
   },
   {
    "duration": 197,
    "start_time": "2023-02-22T16:20:43.410Z"
   },
   {
    "duration": 6,
    "start_time": "2023-02-22T16:20:43.609Z"
   },
   {
    "duration": 10,
    "start_time": "2023-02-22T16:20:43.616Z"
   },
   {
    "duration": 4,
    "start_time": "2023-02-22T16:20:43.628Z"
   },
   {
    "duration": 1613,
    "start_time": "2023-02-22T16:20:43.634Z"
   },
   {
    "duration": 1161,
    "start_time": "2023-02-22T16:20:45.249Z"
   },
   {
    "duration": 113,
    "start_time": "2023-02-22T16:24:53.117Z"
   },
   {
    "duration": 12,
    "start_time": "2023-02-22T16:25:09.035Z"
   },
   {
    "duration": 72,
    "start_time": "2023-02-22T16:31:40.771Z"
   },
   {
    "duration": 75,
    "start_time": "2023-02-22T16:31:47.736Z"
   },
   {
    "duration": 9,
    "start_time": "2023-02-22T16:32:43.859Z"
   },
   {
    "duration": 5322,
    "start_time": "2023-02-22T16:32:56.000Z"
   },
   {
    "duration": 15,
    "start_time": "2023-02-22T16:34:37.240Z"
   },
   {
    "duration": 174,
    "start_time": "2023-02-22T16:35:05.763Z"
   },
   {
    "duration": 14,
    "start_time": "2023-02-22T16:35:25.600Z"
   },
   {
    "duration": 7,
    "start_time": "2023-02-22T16:37:16.531Z"
   },
   {
    "duration": 1294,
    "start_time": "2023-02-22T16:38:36.104Z"
   },
   {
    "duration": 688,
    "start_time": "2023-02-22T16:38:37.400Z"
   },
   {
    "duration": 16,
    "start_time": "2023-02-22T16:38:38.092Z"
   },
   {
    "duration": 21,
    "start_time": "2023-02-22T16:38:38.110Z"
   },
   {
    "duration": 19,
    "start_time": "2023-02-22T16:38:38.133Z"
   },
   {
    "duration": 23,
    "start_time": "2023-02-22T16:38:38.153Z"
   },
   {
    "duration": 14,
    "start_time": "2023-02-22T16:38:38.178Z"
   },
   {
    "duration": 36,
    "start_time": "2023-02-22T16:38:38.193Z"
   },
   {
    "duration": 233,
    "start_time": "2023-02-22T16:38:38.231Z"
   },
   {
    "duration": 11,
    "start_time": "2023-02-22T16:38:38.467Z"
   },
   {
    "duration": 16,
    "start_time": "2023-02-22T16:38:38.480Z"
   },
   {
    "duration": 7,
    "start_time": "2023-02-22T16:38:38.497Z"
   },
   {
    "duration": 6,
    "start_time": "2023-02-22T16:38:38.506Z"
   },
   {
    "duration": 6,
    "start_time": "2023-02-22T16:38:38.513Z"
   },
   {
    "duration": 7,
    "start_time": "2023-02-22T16:38:38.520Z"
   },
   {
    "duration": 21,
    "start_time": "2023-02-22T16:38:38.528Z"
   },
   {
    "duration": 5,
    "start_time": "2023-02-22T16:38:38.551Z"
   },
   {
    "duration": 4,
    "start_time": "2023-02-22T16:38:38.592Z"
   },
   {
    "duration": 20,
    "start_time": "2023-02-22T16:38:38.597Z"
   },
   {
    "duration": 22,
    "start_time": "2023-02-22T16:38:38.619Z"
   },
   {
    "duration": 19,
    "start_time": "2023-02-22T16:38:38.643Z"
   },
   {
    "duration": 16,
    "start_time": "2023-02-22T16:38:38.691Z"
   },
   {
    "duration": 9,
    "start_time": "2023-02-22T16:38:38.709Z"
   },
   {
    "duration": 21,
    "start_time": "2023-02-22T16:38:38.719Z"
   },
   {
    "duration": 8,
    "start_time": "2023-02-22T16:38:38.742Z"
   },
   {
    "duration": 42,
    "start_time": "2023-02-22T16:38:38.751Z"
   },
   {
    "duration": 4,
    "start_time": "2023-02-22T16:38:38.795Z"
   },
   {
    "duration": 918,
    "start_time": "2023-02-22T16:38:38.802Z"
   },
   {
    "duration": 925,
    "start_time": "2023-02-22T16:38:39.722Z"
   },
   {
    "duration": 936,
    "start_time": "2023-02-22T16:38:40.649Z"
   },
   {
    "duration": 190,
    "start_time": "2023-02-22T16:38:41.586Z"
   },
   {
    "duration": 15,
    "start_time": "2023-02-22T16:38:41.777Z"
   },
   {
    "duration": 4,
    "start_time": "2023-02-22T16:38:41.793Z"
   },
   {
    "duration": 6,
    "start_time": "2023-02-22T16:38:41.799Z"
   },
   {
    "duration": 1533,
    "start_time": "2023-02-22T16:38:41.806Z"
   },
   {
    "duration": 968,
    "start_time": "2023-02-22T16:38:43.341Z"
   },
   {
    "duration": 12,
    "start_time": "2023-02-22T16:38:44.310Z"
   },
   {
    "duration": 109,
    "start_time": "2023-02-22T16:38:44.325Z"
   },
   {
    "duration": 17,
    "start_time": "2023-02-22T16:43:36.435Z"
   },
   {
    "duration": 13,
    "start_time": "2023-02-22T16:47:48.332Z"
   },
   {
    "duration": 13,
    "start_time": "2023-02-22T16:52:36.047Z"
   },
   {
    "duration": 18,
    "start_time": "2023-02-22T16:52:47.252Z"
   },
   {
    "duration": 10,
    "start_time": "2023-02-22T16:53:53.568Z"
   },
   {
    "duration": 446,
    "start_time": "2023-02-22T16:55:03.894Z"
   },
   {
    "duration": 138,
    "start_time": "2023-02-22T16:57:34.200Z"
   },
   {
    "duration": 23,
    "start_time": "2023-02-22T16:59:13.184Z"
   },
   {
    "duration": 138,
    "start_time": "2023-02-22T16:59:49.208Z"
   },
   {
    "duration": 706,
    "start_time": "2023-02-22T17:00:10.333Z"
   },
   {
    "duration": 780,
    "start_time": "2023-02-22T17:00:13.707Z"
   },
   {
    "duration": 5,
    "start_time": "2023-02-22T18:45:08.074Z"
   },
   {
    "duration": 6,
    "start_time": "2023-02-22T18:52:30.482Z"
   },
   {
    "duration": 16,
    "start_time": "2023-02-22T18:59:40.935Z"
   },
   {
    "duration": 17,
    "start_time": "2023-02-22T19:00:28.145Z"
   },
   {
    "duration": 1435,
    "start_time": "2023-02-22T19:02:25.098Z"
   },
   {
    "duration": 722,
    "start_time": "2023-02-22T19:02:26.535Z"
   },
   {
    "duration": 18,
    "start_time": "2023-02-22T19:02:27.259Z"
   },
   {
    "duration": 24,
    "start_time": "2023-02-22T19:02:27.279Z"
   },
   {
    "duration": 18,
    "start_time": "2023-02-22T19:02:27.305Z"
   },
   {
    "duration": 20,
    "start_time": "2023-02-22T19:02:27.324Z"
   },
   {
    "duration": 2,
    "start_time": "2023-02-22T19:02:27.346Z"
   },
   {
    "duration": 63,
    "start_time": "2023-02-22T19:02:27.350Z"
   },
   {
    "duration": 251,
    "start_time": "2023-02-22T19:02:27.416Z"
   },
   {
    "duration": 25,
    "start_time": "2023-02-22T19:02:27.669Z"
   },
   {
    "duration": 9,
    "start_time": "2023-02-22T19:02:27.698Z"
   },
   {
    "duration": 8,
    "start_time": "2023-02-22T19:02:27.709Z"
   },
   {
    "duration": 6,
    "start_time": "2023-02-22T19:02:27.719Z"
   },
   {
    "duration": 7,
    "start_time": "2023-02-22T19:02:27.727Z"
   },
   {
    "duration": 9,
    "start_time": "2023-02-22T19:02:27.736Z"
   },
   {
    "duration": 53,
    "start_time": "2023-02-22T19:02:27.747Z"
   },
   {
    "duration": 5,
    "start_time": "2023-02-22T19:02:27.801Z"
   },
   {
    "duration": 6,
    "start_time": "2023-02-22T19:02:27.807Z"
   },
   {
    "duration": 21,
    "start_time": "2023-02-22T19:02:27.815Z"
   },
   {
    "duration": 55,
    "start_time": "2023-02-22T19:02:27.838Z"
   },
   {
    "duration": 22,
    "start_time": "2023-02-22T19:02:27.895Z"
   },
   {
    "duration": 26,
    "start_time": "2023-02-22T19:02:27.919Z"
   },
   {
    "duration": 9,
    "start_time": "2023-02-22T19:02:27.946Z"
   },
   {
    "duration": 48,
    "start_time": "2023-02-22T19:02:27.956Z"
   },
   {
    "duration": 8,
    "start_time": "2023-02-22T19:02:28.006Z"
   },
   {
    "duration": 9,
    "start_time": "2023-02-22T19:02:28.016Z"
   },
   {
    "duration": 8,
    "start_time": "2023-02-22T19:02:28.027Z"
   },
   {
    "duration": 918,
    "start_time": "2023-02-22T19:02:28.036Z"
   },
   {
    "duration": 954,
    "start_time": "2023-02-22T19:02:28.956Z"
   },
   {
    "duration": 1183,
    "start_time": "2023-02-22T19:02:29.912Z"
   },
   {
    "duration": 211,
    "start_time": "2023-02-22T19:02:31.097Z"
   },
   {
    "duration": 6,
    "start_time": "2023-02-22T19:02:31.310Z"
   },
   {
    "duration": 57,
    "start_time": "2023-02-22T19:02:31.318Z"
   },
   {
    "duration": 29,
    "start_time": "2023-02-22T19:02:31.377Z"
   },
   {
    "duration": 1645,
    "start_time": "2023-02-22T19:02:31.408Z"
   },
   {
    "duration": 1053,
    "start_time": "2023-02-22T19:02:33.055Z"
   },
   {
    "duration": 14,
    "start_time": "2023-02-22T19:02:34.110Z"
   },
   {
    "duration": 12,
    "start_time": "2023-02-22T19:02:34.126Z"
   },
   {
    "duration": 883,
    "start_time": "2023-02-22T19:02:34.140Z"
   },
   {
    "duration": 6,
    "start_time": "2023-02-22T19:02:35.025Z"
   },
   {
    "duration": 1324,
    "start_time": "2023-02-22T19:02:35.037Z"
   },
   {
    "duration": 7,
    "start_time": "2023-02-22T19:05:20.662Z"
   },
   {
    "duration": 631,
    "start_time": "2023-02-22T19:07:57.429Z"
   },
   {
    "duration": 8,
    "start_time": "2023-02-22T19:08:56.302Z"
   },
   {
    "duration": 9,
    "start_time": "2023-02-22T19:12:45.961Z"
   },
   {
    "duration": 9,
    "start_time": "2023-02-22T19:28:29.571Z"
   },
   {
    "duration": 12,
    "start_time": "2023-02-22T21:00:00.218Z"
   },
   {
    "duration": 37,
    "start_time": "2023-02-22T21:00:23.524Z"
   },
   {
    "duration": 14,
    "start_time": "2023-02-22T21:00:28.349Z"
   },
   {
    "duration": 4136,
    "start_time": "2023-02-22T21:00:35.538Z"
   },
   {
    "duration": 4156,
    "start_time": "2023-02-22T21:06:37.006Z"
   },
   {
    "duration": 1439,
    "start_time": "2023-02-22T21:11:44.936Z"
   },
   {
    "duration": 693,
    "start_time": "2023-02-22T21:11:46.377Z"
   },
   {
    "duration": 25,
    "start_time": "2023-02-22T21:11:47.072Z"
   },
   {
    "duration": 12,
    "start_time": "2023-02-22T21:11:47.100Z"
   },
   {
    "duration": 18,
    "start_time": "2023-02-22T21:11:47.113Z"
   },
   {
    "duration": 21,
    "start_time": "2023-02-22T21:11:47.133Z"
   },
   {
    "duration": 2,
    "start_time": "2023-02-22T21:11:47.156Z"
   },
   {
    "duration": 64,
    "start_time": "2023-02-22T21:11:47.159Z"
   },
   {
    "duration": 271,
    "start_time": "2023-02-22T21:11:47.225Z"
   },
   {
    "duration": 12,
    "start_time": "2023-02-22T21:11:47.499Z"
   },
   {
    "duration": 7,
    "start_time": "2023-02-22T21:11:47.513Z"
   },
   {
    "duration": 11,
    "start_time": "2023-02-22T21:11:47.522Z"
   },
   {
    "duration": 8,
    "start_time": "2023-02-22T21:11:47.535Z"
   },
   {
    "duration": 8,
    "start_time": "2023-02-22T21:11:47.545Z"
   },
   {
    "duration": 38,
    "start_time": "2023-02-22T21:11:47.554Z"
   },
   {
    "duration": 20,
    "start_time": "2023-02-22T21:11:47.594Z"
   },
   {
    "duration": 5,
    "start_time": "2023-02-22T21:11:47.616Z"
   },
   {
    "duration": 4,
    "start_time": "2023-02-22T21:11:47.623Z"
   },
   {
    "duration": 18,
    "start_time": "2023-02-22T21:11:47.629Z"
   },
   {
    "duration": 59,
    "start_time": "2023-02-22T21:11:47.649Z"
   },
   {
    "duration": 20,
    "start_time": "2023-02-22T21:11:47.710Z"
   },
   {
    "duration": 22,
    "start_time": "2023-02-22T21:11:47.731Z"
   },
   {
    "duration": 8,
    "start_time": "2023-02-22T21:11:47.755Z"
   },
   {
    "duration": 20,
    "start_time": "2023-02-22T21:11:47.792Z"
   },
   {
    "duration": 8,
    "start_time": "2023-02-22T21:11:47.814Z"
   },
   {
    "duration": 18,
    "start_time": "2023-02-22T21:11:47.824Z"
   },
   {
    "duration": 8,
    "start_time": "2023-02-22T21:11:47.844Z"
   },
   {
    "duration": 1024,
    "start_time": "2023-02-22T21:11:47.856Z"
   },
   {
    "duration": 852,
    "start_time": "2023-02-22T21:11:48.883Z"
   },
   {
    "duration": 1026,
    "start_time": "2023-02-22T21:11:49.737Z"
   },
   {
    "duration": 191,
    "start_time": "2023-02-22T21:11:50.766Z"
   },
   {
    "duration": 5,
    "start_time": "2023-02-22T21:11:50.959Z"
   },
   {
    "duration": 10,
    "start_time": "2023-02-22T21:11:50.965Z"
   },
   {
    "duration": 6,
    "start_time": "2023-02-22T21:11:50.976Z"
   },
   {
    "duration": 1495,
    "start_time": "2023-02-22T21:11:50.992Z"
   },
   {
    "duration": 1114,
    "start_time": "2023-02-22T21:11:52.491Z"
   },
   {
    "duration": 15,
    "start_time": "2023-02-22T21:11:53.607Z"
   },
   {
    "duration": 10,
    "start_time": "2023-02-22T21:11:53.624Z"
   },
   {
    "duration": 695,
    "start_time": "2023-02-22T21:11:53.636Z"
   },
   {
    "duration": 5,
    "start_time": "2023-02-22T21:11:54.333Z"
   },
   {
    "duration": 15,
    "start_time": "2023-02-22T21:11:54.340Z"
   },
   {
    "duration": 3988,
    "start_time": "2023-02-22T21:11:54.357Z"
   },
   {
    "duration": 4,
    "start_time": "2023-02-22T21:28:21.943Z"
   },
   {
    "duration": 3,
    "start_time": "2023-02-22T21:29:19.980Z"
   },
   {
    "duration": 9,
    "start_time": "2023-02-22T21:29:30.116Z"
   },
   {
    "duration": 3966,
    "start_time": "2023-02-22T21:29:30.990Z"
   },
   {
    "duration": 6,
    "start_time": "2023-02-22T21:30:11.817Z"
   },
   {
    "duration": 3,
    "start_time": "2023-02-22T21:30:12.144Z"
   },
   {
    "duration": 8,
    "start_time": "2023-02-22T21:30:14.065Z"
   },
   {
    "duration": 8,
    "start_time": "2023-02-22T21:30:17.926Z"
   },
   {
    "duration": 3963,
    "start_time": "2023-02-22T21:30:18.605Z"
   },
   {
    "duration": 4,
    "start_time": "2023-02-22T21:33:48.220Z"
   },
   {
    "duration": 3,
    "start_time": "2023-02-22T21:33:48.665Z"
   },
   {
    "duration": 8,
    "start_time": "2023-02-22T21:33:49.276Z"
   },
   {
    "duration": 4003,
    "start_time": "2023-02-22T21:33:50.262Z"
   },
   {
    "duration": 5,
    "start_time": "2023-02-22T21:34:07.353Z"
   },
   {
    "duration": 3,
    "start_time": "2023-02-22T21:34:07.644Z"
   },
   {
    "duration": 8,
    "start_time": "2023-02-22T21:34:08.556Z"
   },
   {
    "duration": 4334,
    "start_time": "2023-02-22T21:34:09.142Z"
   },
   {
    "duration": 5,
    "start_time": "2023-02-22T21:36:34.871Z"
   },
   {
    "duration": 3,
    "start_time": "2023-02-22T21:36:35.501Z"
   },
   {
    "duration": 7,
    "start_time": "2023-02-22T21:36:36.451Z"
   },
   {
    "duration": 3938,
    "start_time": "2023-02-22T21:36:37.616Z"
   },
   {
    "duration": 4,
    "start_time": "2023-02-22T21:38:38.329Z"
   },
   {
    "duration": 3,
    "start_time": "2023-02-22T21:38:38.685Z"
   },
   {
    "duration": 8,
    "start_time": "2023-02-22T21:38:39.349Z"
   },
   {
    "duration": 4017,
    "start_time": "2023-02-22T21:38:40.145Z"
   },
   {
    "duration": 4,
    "start_time": "2023-02-22T21:56:08.684Z"
   },
   {
    "duration": 3,
    "start_time": "2023-02-22T21:56:09.479Z"
   },
   {
    "duration": 8,
    "start_time": "2023-02-22T21:56:10.738Z"
   },
   {
    "duration": 3885,
    "start_time": "2023-02-22T21:56:12.186Z"
   },
   {
    "duration": 5,
    "start_time": "2023-02-22T21:56:22.384Z"
   },
   {
    "duration": 3,
    "start_time": "2023-02-22T21:56:22.829Z"
   },
   {
    "duration": 9,
    "start_time": "2023-02-22T21:56:23.497Z"
   },
   {
    "duration": 4223,
    "start_time": "2023-02-22T21:56:24.510Z"
   },
   {
    "duration": 5406,
    "start_time": "2023-02-22T22:03:21.229Z"
   },
   {
    "duration": 944,
    "start_time": "2023-02-22T22:05:12.108Z"
   },
   {
    "duration": 1579,
    "start_time": "2023-02-22T22:05:47.236Z"
   },
   {
    "duration": 1253,
    "start_time": "2023-02-22T22:06:06.060Z"
   },
   {
    "duration": 944,
    "start_time": "2023-02-22T22:06:12.370Z"
   },
   {
    "duration": 1031,
    "start_time": "2023-02-22T22:06:15.992Z"
   },
   {
    "duration": 5,
    "start_time": "2023-02-22T22:06:59.904Z"
   },
   {
    "duration": 5227,
    "start_time": "2023-02-22T22:07:02.431Z"
   },
   {
    "duration": 5,
    "start_time": "2023-02-22T22:07:14.721Z"
   },
   {
    "duration": 3,
    "start_time": "2023-02-22T22:07:20.144Z"
   },
   {
    "duration": 995,
    "start_time": "2023-02-22T22:08:04.193Z"
   },
   {
    "duration": 6,
    "start_time": "2023-02-22T22:08:38.116Z"
   },
   {
    "duration": 3,
    "start_time": "2023-02-22T22:08:38.661Z"
   },
   {
    "duration": 4775,
    "start_time": "2023-02-22T22:08:50.823Z"
   },
   {
    "duration": 5,
    "start_time": "2023-02-22T22:08:56.492Z"
   },
   {
    "duration": 5,
    "start_time": "2023-02-22T22:08:56.823Z"
   },
   {
    "duration": 8,
    "start_time": "2023-02-22T22:08:57.423Z"
   },
   {
    "duration": 4958,
    "start_time": "2023-02-22T22:08:59.334Z"
   },
   {
    "duration": 5,
    "start_time": "2023-02-22T22:11:14.789Z"
   },
   {
    "duration": 3,
    "start_time": "2023-02-22T22:11:15.247Z"
   },
   {
    "duration": 11,
    "start_time": "2023-02-22T22:11:15.905Z"
   },
   {
    "duration": 4871,
    "start_time": "2023-02-22T22:11:16.867Z"
   },
   {
    "duration": 4,
    "start_time": "2023-02-22T22:12:21.182Z"
   },
   {
    "duration": 2,
    "start_time": "2023-02-22T22:12:21.880Z"
   },
   {
    "duration": 5,
    "start_time": "2023-02-22T22:12:22.659Z"
   },
   {
    "duration": 3,
    "start_time": "2023-02-22T22:12:23.053Z"
   },
   {
    "duration": 8,
    "start_time": "2023-02-22T22:12:23.687Z"
   },
   {
    "duration": 4881,
    "start_time": "2023-02-22T22:12:24.416Z"
   },
   {
    "duration": 6,
    "start_time": "2023-02-22T22:13:20.430Z"
   },
   {
    "duration": 3,
    "start_time": "2023-02-22T22:13:20.858Z"
   },
   {
    "duration": 10,
    "start_time": "2023-02-22T22:13:21.522Z"
   },
   {
    "duration": 5019,
    "start_time": "2023-02-22T22:13:22.246Z"
   },
   {
    "duration": 5,
    "start_time": "2023-02-22T22:23:58.150Z"
   },
   {
    "duration": 3,
    "start_time": "2023-02-22T22:23:58.676Z"
   },
   {
    "duration": 8,
    "start_time": "2023-02-22T22:23:59.341Z"
   },
   {
    "duration": 4988,
    "start_time": "2023-02-22T22:24:00.051Z"
   },
   {
    "duration": 3903,
    "start_time": "2023-02-22T22:27:54.304Z"
   },
   {
    "duration": 2,
    "start_time": "2023-02-22T22:30:00.674Z"
   },
   {
    "duration": 9,
    "start_time": "2023-02-22T22:30:01.429Z"
   },
   {
    "duration": 3978,
    "start_time": "2023-02-22T22:30:01.981Z"
   },
   {
    "duration": 1285,
    "start_time": "2023-02-22T23:08:36.925Z"
   },
   {
    "duration": 676,
    "start_time": "2023-02-22T23:08:38.212Z"
   },
   {
    "duration": 16,
    "start_time": "2023-02-22T23:08:38.892Z"
   },
   {
    "duration": 12,
    "start_time": "2023-02-22T23:08:38.910Z"
   },
   {
    "duration": 16,
    "start_time": "2023-02-22T23:08:38.924Z"
   },
   {
    "duration": 20,
    "start_time": "2023-02-22T23:08:38.942Z"
   },
   {
    "duration": 3,
    "start_time": "2023-02-22T23:08:38.991Z"
   },
   {
    "duration": 31,
    "start_time": "2023-02-22T23:08:38.996Z"
   },
   {
    "duration": 244,
    "start_time": "2023-02-22T23:08:39.028Z"
   },
   {
    "duration": 19,
    "start_time": "2023-02-22T23:08:39.276Z"
   },
   {
    "duration": 6,
    "start_time": "2023-02-22T23:08:39.297Z"
   },
   {
    "duration": 5,
    "start_time": "2023-02-22T23:08:39.305Z"
   },
   {
    "duration": 6,
    "start_time": "2023-02-22T23:08:39.312Z"
   },
   {
    "duration": 8,
    "start_time": "2023-02-22T23:08:39.319Z"
   },
   {
    "duration": 7,
    "start_time": "2023-02-22T23:08:39.328Z"
   },
   {
    "duration": 19,
    "start_time": "2023-02-22T23:08:39.337Z"
   },
   {
    "duration": 4,
    "start_time": "2023-02-22T23:08:39.358Z"
   },
   {
    "duration": 32,
    "start_time": "2023-02-22T23:08:39.363Z"
   },
   {
    "duration": 19,
    "start_time": "2023-02-22T23:08:39.396Z"
   },
   {
    "duration": 20,
    "start_time": "2023-02-22T23:08:39.417Z"
   },
   {
    "duration": 20,
    "start_time": "2023-02-22T23:08:39.438Z"
   },
   {
    "duration": 46,
    "start_time": "2023-02-22T23:08:39.459Z"
   },
   {
    "duration": 8,
    "start_time": "2023-02-22T23:08:39.507Z"
   },
   {
    "duration": 21,
    "start_time": "2023-02-22T23:08:39.516Z"
   },
   {
    "duration": 7,
    "start_time": "2023-02-22T23:08:39.538Z"
   },
   {
    "duration": 8,
    "start_time": "2023-02-22T23:08:39.547Z"
   },
   {
    "duration": 34,
    "start_time": "2023-02-22T23:08:39.557Z"
   },
   {
    "duration": 896,
    "start_time": "2023-02-22T23:08:39.595Z"
   },
   {
    "duration": 842,
    "start_time": "2023-02-22T23:08:40.493Z"
   },
   {
    "duration": 1011,
    "start_time": "2023-02-22T23:08:41.336Z"
   },
   {
    "duration": 185,
    "start_time": "2023-02-22T23:08:42.348Z"
   },
   {
    "duration": 6,
    "start_time": "2023-02-22T23:08:42.535Z"
   },
   {
    "duration": 6,
    "start_time": "2023-02-22T23:08:42.543Z"
   },
   {
    "duration": 8,
    "start_time": "2023-02-22T23:08:42.550Z"
   },
   {
    "duration": 1523,
    "start_time": "2023-02-22T23:08:42.559Z"
   },
   {
    "duration": 1084,
    "start_time": "2023-02-22T23:08:44.091Z"
   },
   {
    "duration": 21,
    "start_time": "2023-02-22T23:08:45.177Z"
   },
   {
    "duration": 13,
    "start_time": "2023-02-22T23:08:45.201Z"
   },
   {
    "duration": 653,
    "start_time": "2023-02-22T23:08:45.216Z"
   },
   {
    "duration": 4,
    "start_time": "2023-02-22T23:08:45.871Z"
   },
   {
    "duration": 9,
    "start_time": "2023-02-22T23:08:45.876Z"
   },
   {
    "duration": 12,
    "start_time": "2023-02-22T23:08:45.891Z"
   },
   {
    "duration": 3832,
    "start_time": "2023-02-22T23:08:45.906Z"
   },
   {
    "duration": 4,
    "start_time": "2023-02-22T23:12:29.849Z"
   },
   {
    "duration": 3,
    "start_time": "2023-02-22T23:12:30.370Z"
   },
   {
    "duration": 9,
    "start_time": "2023-02-22T23:12:31.462Z"
   },
   {
    "duration": 3755,
    "start_time": "2023-02-22T23:12:32.121Z"
   },
   {
    "duration": 5,
    "start_time": "2023-02-22T23:12:54.363Z"
   },
   {
    "duration": 2,
    "start_time": "2023-02-22T23:12:55.284Z"
   },
   {
    "duration": 10,
    "start_time": "2023-02-22T23:12:55.946Z"
   },
   {
    "duration": 3700,
    "start_time": "2023-02-22T23:12:56.512Z"
   },
   {
    "duration": 4,
    "start_time": "2023-02-22T23:14:24.164Z"
   },
   {
    "duration": 5,
    "start_time": "2023-02-22T23:14:30.568Z"
   },
   {
    "duration": 3,
    "start_time": "2023-02-22T23:14:30.843Z"
   },
   {
    "duration": 10,
    "start_time": "2023-02-22T23:14:31.409Z"
   },
   {
    "duration": 3886,
    "start_time": "2023-02-22T23:14:32.575Z"
   },
   {
    "duration": 4944,
    "start_time": "2023-02-22T23:15:45.180Z"
   },
   {
    "duration": 5,
    "start_time": "2023-02-22T23:16:00.127Z"
   },
   {
    "duration": 2,
    "start_time": "2023-02-22T23:16:04.493Z"
   },
   {
    "duration": 650,
    "start_time": "2023-02-22T23:16:21.049Z"
   },
   {
    "duration": 276,
    "start_time": "2023-02-22T23:16:42.197Z"
   },
   {
    "duration": 15,
    "start_time": "2023-02-22T23:17:06.157Z"
   },
   {
    "duration": 16,
    "start_time": "2023-02-22T23:17:16.049Z"
   },
   {
    "duration": 11,
    "start_time": "2023-02-22T23:17:23.458Z"
   },
   {
    "duration": 12,
    "start_time": "2023-02-22T23:17:32.649Z"
   },
   {
    "duration": 5,
    "start_time": "2023-02-22T23:20:02.239Z"
   },
   {
    "duration": 3,
    "start_time": "2023-02-22T23:20:02.742Z"
   },
   {
    "duration": 8,
    "start_time": "2023-02-22T23:20:03.945Z"
   },
   {
    "duration": 8,
    "start_time": "2023-02-22T23:20:08.357Z"
   },
   {
    "duration": 4,
    "start_time": "2023-02-22T23:20:09.005Z"
   },
   {
    "duration": 3823,
    "start_time": "2023-02-22T23:20:14.286Z"
   },
   {
    "duration": 3805,
    "start_time": "2023-02-22T23:20:52.744Z"
   },
   {
    "duration": 996,
    "start_time": "2023-02-22T23:22:14.553Z"
   },
   {
    "duration": 107,
    "start_time": "2023-02-22T23:23:14.229Z"
   },
   {
    "duration": 970,
    "start_time": "2023-02-22T23:23:19.012Z"
   },
   {
    "duration": 17,
    "start_time": "2023-02-22T23:23:19.984Z"
   },
   {
    "duration": 12,
    "start_time": "2023-02-22T23:23:41.954Z"
   },
   {
    "duration": 9,
    "start_time": "2023-02-22T23:23:45.006Z"
   },
   {
    "duration": 992,
    "start_time": "2023-02-22T23:23:45.301Z"
   },
   {
    "duration": 9,
    "start_time": "2023-02-22T23:23:46.296Z"
   },
   {
    "duration": 8,
    "start_time": "2023-02-22T23:23:51.819Z"
   },
   {
    "duration": 927,
    "start_time": "2023-02-22T23:23:52.128Z"
   },
   {
    "duration": 9,
    "start_time": "2023-02-22T23:23:53.056Z"
   },
   {
    "duration": 1497,
    "start_time": "2023-02-22T23:24:05.149Z"
   },
   {
    "duration": 704,
    "start_time": "2023-02-22T23:24:06.649Z"
   },
   {
    "duration": 17,
    "start_time": "2023-02-22T23:24:07.354Z"
   },
   {
    "duration": 24,
    "start_time": "2023-02-22T23:24:07.373Z"
   },
   {
    "duration": 18,
    "start_time": "2023-02-22T23:24:07.400Z"
   },
   {
    "duration": 20,
    "start_time": "2023-02-22T23:24:07.419Z"
   },
   {
    "duration": 2,
    "start_time": "2023-02-22T23:24:07.441Z"
   },
   {
    "duration": 59,
    "start_time": "2023-02-22T23:24:07.445Z"
   },
   {
    "duration": 217,
    "start_time": "2023-02-22T23:24:07.506Z"
   },
   {
    "duration": 11,
    "start_time": "2023-02-22T23:24:07.724Z"
   },
   {
    "duration": 7,
    "start_time": "2023-02-22T23:24:07.736Z"
   },
   {
    "duration": 7,
    "start_time": "2023-02-22T23:24:07.744Z"
   },
   {
    "duration": 7,
    "start_time": "2023-02-22T23:24:07.753Z"
   },
   {
    "duration": 30,
    "start_time": "2023-02-22T23:24:07.764Z"
   },
   {
    "duration": 9,
    "start_time": "2023-02-22T23:24:07.796Z"
   },
   {
    "duration": 20,
    "start_time": "2023-02-22T23:24:07.807Z"
   },
   {
    "duration": 6,
    "start_time": "2023-02-22T23:24:07.829Z"
   },
   {
    "duration": 7,
    "start_time": "2023-02-22T23:24:07.836Z"
   },
   {
    "duration": 50,
    "start_time": "2023-02-22T23:24:07.845Z"
   },
   {
    "duration": 25,
    "start_time": "2023-02-22T23:24:07.897Z"
   },
   {
    "duration": 31,
    "start_time": "2023-02-22T23:24:07.924Z"
   },
   {
    "duration": 40,
    "start_time": "2023-02-22T23:24:07.957Z"
   },
   {
    "duration": 11,
    "start_time": "2023-02-22T23:24:07.999Z"
   },
   {
    "duration": 23,
    "start_time": "2023-02-22T23:24:08.012Z"
   },
   {
    "duration": 8,
    "start_time": "2023-02-22T23:24:08.036Z"
   },
   {
    "duration": 8,
    "start_time": "2023-02-22T23:24:08.046Z"
   },
   {
    "duration": 37,
    "start_time": "2023-02-22T23:24:08.055Z"
   },
   {
    "duration": 915,
    "start_time": "2023-02-22T23:24:08.094Z"
   },
   {
    "duration": 832,
    "start_time": "2023-02-22T23:24:09.012Z"
   },
   {
    "duration": 1052,
    "start_time": "2023-02-22T23:24:09.845Z"
   },
   {
    "duration": 195,
    "start_time": "2023-02-22T23:24:10.899Z"
   },
   {
    "duration": 5,
    "start_time": "2023-02-22T23:24:11.096Z"
   },
   {
    "duration": 17,
    "start_time": "2023-02-22T23:24:11.102Z"
   },
   {
    "duration": 11,
    "start_time": "2023-02-22T23:24:11.120Z"
   },
   {
    "duration": 1547,
    "start_time": "2023-02-22T23:24:11.133Z"
   },
   {
    "duration": 1163,
    "start_time": "2023-02-22T23:24:12.682Z"
   },
   {
    "duration": 14,
    "start_time": "2023-02-22T23:24:13.846Z"
   },
   {
    "duration": 14,
    "start_time": "2023-02-22T23:24:13.861Z"
   },
   {
    "duration": 651,
    "start_time": "2023-02-22T23:24:13.877Z"
   },
   {
    "duration": 4,
    "start_time": "2023-02-22T23:24:14.530Z"
   },
   {
    "duration": 23,
    "start_time": "2023-02-22T23:24:14.537Z"
   },
   {
    "duration": 15,
    "start_time": "2023-02-22T23:24:14.562Z"
   },
   {
    "duration": 950,
    "start_time": "2023-02-22T23:24:14.578Z"
   },
   {
    "duration": 10,
    "start_time": "2023-02-22T23:24:15.530Z"
   },
   {
    "duration": 3903,
    "start_time": "2023-02-22T23:24:15.542Z"
   },
   {
    "duration": 5,
    "start_time": "2023-02-22T23:25:00.773Z"
   },
   {
    "duration": 2,
    "start_time": "2023-02-22T23:25:01.237Z"
   },
   {
    "duration": 8,
    "start_time": "2023-02-22T23:25:02.076Z"
   },
   {
    "duration": 923,
    "start_time": "2023-02-22T23:25:02.996Z"
   },
   {
    "duration": 10,
    "start_time": "2023-02-22T23:25:03.921Z"
   },
   {
    "duration": 5,
    "start_time": "2023-02-22T23:25:10.152Z"
   },
   {
    "duration": 3,
    "start_time": "2023-02-22T23:25:11.418Z"
   },
   {
    "duration": 8,
    "start_time": "2023-02-22T23:25:13.265Z"
   },
   {
    "duration": 929,
    "start_time": "2023-02-22T23:25:13.584Z"
   },
   {
    "duration": 10,
    "start_time": "2023-02-22T23:25:14.515Z"
   },
   {
    "duration": 3761,
    "start_time": "2023-02-22T23:25:15.509Z"
   },
   {
    "duration": 5,
    "start_time": "2023-02-22T23:28:02.143Z"
   },
   {
    "duration": 3,
    "start_time": "2023-02-22T23:28:02.576Z"
   },
   {
    "duration": 8,
    "start_time": "2023-02-22T23:28:03.398Z"
   },
   {
    "duration": 943,
    "start_time": "2023-02-22T23:28:04.068Z"
   },
   {
    "duration": 12,
    "start_time": "2023-02-22T23:28:05.374Z"
   },
   {
    "duration": 955,
    "start_time": "2023-02-22T23:28:16.331Z"
   },
   {
    "duration": 12,
    "start_time": "2023-02-22T23:28:17.291Z"
   },
   {
    "duration": 3813,
    "start_time": "2023-02-22T23:28:17.367Z"
   },
   {
    "duration": 105,
    "start_time": "2023-02-22T23:29:23.353Z"
   },
   {
    "duration": 13,
    "start_time": "2023-02-22T23:29:32.008Z"
   },
   {
    "duration": 11,
    "start_time": "2023-02-22T23:29:46.136Z"
   },
   {
    "duration": 15,
    "start_time": "2023-02-22T23:30:01.536Z"
   },
   {
    "duration": 10,
    "start_time": "2023-02-22T23:30:04.378Z"
   },
   {
    "duration": 10,
    "start_time": "2023-02-22T23:30:14.871Z"
   },
   {
    "duration": 1229,
    "start_time": "2023-02-22T23:39:12.965Z"
   },
   {
    "duration": 5,
    "start_time": "2023-02-22T23:39:26.000Z"
   },
   {
    "duration": 1236,
    "start_time": "2023-02-22T23:39:26.618Z"
   },
   {
    "duration": 1270,
    "start_time": "2023-02-22T23:39:35.361Z"
   },
   {
    "duration": 4,
    "start_time": "2023-02-22T23:39:38.515Z"
   },
   {
    "duration": 1271,
    "start_time": "2023-02-22T23:39:38.784Z"
   },
   {
    "duration": 1218,
    "start_time": "2023-02-22T23:39:57.988Z"
   },
   {
    "duration": 1253,
    "start_time": "2023-02-22T23:40:04.753Z"
   },
   {
    "duration": 4,
    "start_time": "2023-02-22T23:41:11.259Z"
   },
   {
    "duration": 1232,
    "start_time": "2023-02-22T23:41:11.534Z"
   },
   {
    "duration": 4,
    "start_time": "2023-02-22T23:43:29.378Z"
   },
   {
    "duration": 64,
    "start_time": "2023-02-22T23:43:29.810Z"
   },
   {
    "duration": 3,
    "start_time": "2023-02-22T23:43:33.318Z"
   },
   {
    "duration": 60,
    "start_time": "2023-02-22T23:43:33.666Z"
   },
   {
    "duration": 5,
    "start_time": "2023-02-22T23:44:14.896Z"
   },
   {
    "duration": 9,
    "start_time": "2023-02-22T23:44:15.577Z"
   },
   {
    "duration": 941,
    "start_time": "2023-02-22T23:44:15.907Z"
   },
   {
    "duration": 12,
    "start_time": "2023-02-22T23:44:16.850Z"
   },
   {
    "duration": 1334,
    "start_time": "2023-02-22T23:44:52.689Z"
   },
   {
    "duration": 664,
    "start_time": "2023-02-22T23:44:54.025Z"
   },
   {
    "duration": 18,
    "start_time": "2023-02-22T23:44:54.692Z"
   },
   {
    "duration": 15,
    "start_time": "2023-02-22T23:44:54.712Z"
   },
   {
    "duration": 20,
    "start_time": "2023-02-22T23:44:54.729Z"
   },
   {
    "duration": 43,
    "start_time": "2023-02-22T23:44:54.750Z"
   },
   {
    "duration": 3,
    "start_time": "2023-02-22T23:44:54.794Z"
   },
   {
    "duration": 35,
    "start_time": "2023-02-22T23:44:54.798Z"
   },
   {
    "duration": 244,
    "start_time": "2023-02-22T23:44:54.834Z"
   },
   {
    "duration": 20,
    "start_time": "2023-02-22T23:44:55.080Z"
   },
   {
    "duration": 40,
    "start_time": "2023-02-22T23:44:55.101Z"
   },
   {
    "duration": 60,
    "start_time": "2023-02-22T23:44:55.142Z"
   },
   {
    "duration": 17,
    "start_time": "2023-02-22T23:44:55.204Z"
   },
   {
    "duration": 23,
    "start_time": "2023-02-22T23:44:55.224Z"
   },
   {
    "duration": 20,
    "start_time": "2023-02-22T23:44:55.248Z"
   },
   {
    "duration": 25,
    "start_time": "2023-02-22T23:44:55.270Z"
   },
   {
    "duration": 5,
    "start_time": "2023-02-22T23:44:55.297Z"
   },
   {
    "duration": 12,
    "start_time": "2023-02-22T23:44:55.304Z"
   },
   {
    "duration": 36,
    "start_time": "2023-02-22T23:44:55.317Z"
   },
   {
    "duration": 44,
    "start_time": "2023-02-22T23:44:55.354Z"
   },
   {
    "duration": 21,
    "start_time": "2023-02-22T23:44:55.399Z"
   },
   {
    "duration": 27,
    "start_time": "2023-02-22T23:44:55.421Z"
   },
   {
    "duration": 9,
    "start_time": "2023-02-22T23:44:55.449Z"
   },
   {
    "duration": 39,
    "start_time": "2023-02-22T23:44:55.460Z"
   },
   {
    "duration": 8,
    "start_time": "2023-02-22T23:44:55.502Z"
   },
   {
    "duration": 12,
    "start_time": "2023-02-22T23:44:55.512Z"
   },
   {
    "duration": 22,
    "start_time": "2023-02-22T23:44:55.526Z"
   },
   {
    "duration": 952,
    "start_time": "2023-02-22T23:44:55.549Z"
   },
   {
    "duration": 811,
    "start_time": "2023-02-22T23:44:56.503Z"
   },
   {
    "duration": 1011,
    "start_time": "2023-02-22T23:44:57.316Z"
   },
   {
    "duration": 194,
    "start_time": "2023-02-22T23:44:58.329Z"
   },
   {
    "duration": 6,
    "start_time": "2023-02-22T23:44:58.524Z"
   },
   {
    "duration": 10,
    "start_time": "2023-02-22T23:44:58.531Z"
   },
   {
    "duration": 6,
    "start_time": "2023-02-22T23:44:58.543Z"
   },
   {
    "duration": 1541,
    "start_time": "2023-02-22T23:44:58.551Z"
   },
   {
    "duration": 1114,
    "start_time": "2023-02-22T23:45:00.094Z"
   },
   {
    "duration": 17,
    "start_time": "2023-02-22T23:45:01.209Z"
   },
   {
    "duration": 93,
    "start_time": "2023-02-22T23:45:01.228Z"
   },
   {
    "duration": 715,
    "start_time": "2023-02-22T23:45:01.323Z"
   },
   {
    "duration": 4,
    "start_time": "2023-02-22T23:45:02.040Z"
   },
   {
    "duration": 95,
    "start_time": "2023-02-22T23:45:02.047Z"
   },
   {
    "duration": 5,
    "start_time": "2023-02-22T23:45:02.144Z"
   },
   {
    "duration": 17,
    "start_time": "2023-02-22T23:45:02.150Z"
   },
   {
    "duration": 10,
    "start_time": "2023-02-22T23:45:02.169Z"
   },
   {
    "duration": 873,
    "start_time": "2023-02-22T23:45:02.180Z"
   },
   {
    "duration": 12,
    "start_time": "2023-02-22T23:45:03.054Z"
   },
   {
    "duration": 3743,
    "start_time": "2023-02-22T23:45:03.067Z"
   },
   {
    "duration": 1341,
    "start_time": "2023-02-22T23:45:58.538Z"
   },
   {
    "duration": 757,
    "start_time": "2023-02-22T23:45:59.882Z"
   },
   {
    "duration": 18,
    "start_time": "2023-02-22T23:46:00.641Z"
   },
   {
    "duration": 46,
    "start_time": "2023-02-22T23:46:00.661Z"
   },
   {
    "duration": 32,
    "start_time": "2023-02-22T23:46:00.709Z"
   },
   {
    "duration": 38,
    "start_time": "2023-02-22T23:46:00.743Z"
   },
   {
    "duration": 17,
    "start_time": "2023-02-22T23:46:00.783Z"
   },
   {
    "duration": 33,
    "start_time": "2023-02-22T23:46:00.801Z"
   },
   {
    "duration": 236,
    "start_time": "2023-02-22T23:46:00.835Z"
   },
   {
    "duration": 30,
    "start_time": "2023-02-22T23:46:01.073Z"
   },
   {
    "duration": 36,
    "start_time": "2023-02-22T23:46:01.105Z"
   },
   {
    "duration": 43,
    "start_time": "2023-02-22T23:46:01.143Z"
   },
   {
    "duration": 40,
    "start_time": "2023-02-22T23:46:01.188Z"
   },
   {
    "duration": 33,
    "start_time": "2023-02-22T23:46:01.230Z"
   },
   {
    "duration": 45,
    "start_time": "2023-02-22T23:46:01.265Z"
   },
   {
    "duration": 62,
    "start_time": "2023-02-22T23:46:01.312Z"
   },
   {
    "duration": 48,
    "start_time": "2023-02-22T23:46:01.376Z"
   },
   {
    "duration": 19,
    "start_time": "2023-02-22T23:46:01.426Z"
   },
   {
    "duration": 59,
    "start_time": "2023-02-22T23:46:01.447Z"
   },
   {
    "duration": 32,
    "start_time": "2023-02-22T23:46:01.508Z"
   },
   {
    "duration": 41,
    "start_time": "2023-02-22T23:46:01.542Z"
   },
   {
    "duration": 59,
    "start_time": "2023-02-22T23:46:01.585Z"
   },
   {
    "duration": 38,
    "start_time": "2023-02-22T23:46:01.646Z"
   },
   {
    "duration": 53,
    "start_time": "2023-02-22T23:46:01.686Z"
   },
   {
    "duration": 18,
    "start_time": "2023-02-22T23:46:01.741Z"
   },
   {
    "duration": 49,
    "start_time": "2023-02-22T23:46:01.761Z"
   },
   {
    "duration": 26,
    "start_time": "2023-02-22T23:46:01.813Z"
   },
   {
    "duration": 962,
    "start_time": "2023-02-22T23:46:01.844Z"
   },
   {
    "duration": 833,
    "start_time": "2023-02-22T23:46:02.808Z"
   },
   {
    "duration": 1065,
    "start_time": "2023-02-22T23:46:03.643Z"
   },
   {
    "duration": 197,
    "start_time": "2023-02-22T23:46:04.710Z"
   },
   {
    "duration": 6,
    "start_time": "2023-02-22T23:46:04.909Z"
   },
   {
    "duration": 21,
    "start_time": "2023-02-22T23:46:04.917Z"
   },
   {
    "duration": 41,
    "start_time": "2023-02-22T23:46:04.940Z"
   },
   {
    "duration": 1671,
    "start_time": "2023-02-22T23:46:04.983Z"
   },
   {
    "duration": 1151,
    "start_time": "2023-02-22T23:46:06.655Z"
   },
   {
    "duration": 16,
    "start_time": "2023-02-22T23:46:07.808Z"
   },
   {
    "duration": 12,
    "start_time": "2023-02-22T23:46:07.826Z"
   },
   {
    "duration": 727,
    "start_time": "2023-02-22T23:46:07.840Z"
   },
   {
    "duration": 4,
    "start_time": "2023-02-22T23:46:08.569Z"
   },
   {
    "duration": 84,
    "start_time": "2023-02-22T23:46:08.575Z"
   },
   {
    "duration": 6,
    "start_time": "2023-02-22T23:46:08.660Z"
   },
   {
    "duration": 5,
    "start_time": "2023-02-22T23:46:08.669Z"
   },
   {
    "duration": 12,
    "start_time": "2023-02-22T23:46:08.675Z"
   },
   {
    "duration": 3783,
    "start_time": "2023-02-22T23:46:08.691Z"
   },
   {
    "duration": 4,
    "start_time": "2023-02-22T23:47:50.936Z"
   },
   {
    "duration": 1247,
    "start_time": "2023-02-22T23:47:51.474Z"
   },
   {
    "duration": 3,
    "start_time": "2023-02-22T23:48:55.661Z"
   },
   {
    "duration": 104,
    "start_time": "2023-02-22T23:48:56.613Z"
   },
   {
    "duration": 4,
    "start_time": "2023-02-22T23:49:00.968Z"
   },
   {
    "duration": 105,
    "start_time": "2023-02-22T23:49:01.244Z"
   },
   {
    "duration": 5,
    "start_time": "2023-02-22T23:51:08.091Z"
   },
   {
    "duration": 10,
    "start_time": "2023-02-22T23:55:19.134Z"
   },
   {
    "duration": 11537,
    "start_time": "2023-02-22T23:55:45.816Z"
   },
   {
    "duration": 11506,
    "start_time": "2023-02-22T23:56:11.420Z"
   },
   {
    "duration": 1367,
    "start_time": "2023-02-22T23:57:54.461Z"
   },
   {
    "duration": 694,
    "start_time": "2023-02-22T23:57:55.830Z"
   },
   {
    "duration": 18,
    "start_time": "2023-02-22T23:57:56.525Z"
   },
   {
    "duration": 11,
    "start_time": "2023-02-22T23:57:56.545Z"
   },
   {
    "duration": 36,
    "start_time": "2023-02-22T23:57:56.558Z"
   },
   {
    "duration": 19,
    "start_time": "2023-02-22T23:57:56.595Z"
   },
   {
    "duration": 2,
    "start_time": "2023-02-22T23:57:56.616Z"
   },
   {
    "duration": 35,
    "start_time": "2023-02-22T23:57:56.619Z"
   },
   {
    "duration": 235,
    "start_time": "2023-02-22T23:57:56.656Z"
   },
   {
    "duration": 11,
    "start_time": "2023-02-22T23:57:56.894Z"
   },
   {
    "duration": 8,
    "start_time": "2023-02-22T23:57:56.906Z"
   },
   {
    "duration": 5,
    "start_time": "2023-02-22T23:57:56.916Z"
   },
   {
    "duration": 6,
    "start_time": "2023-02-22T23:57:56.922Z"
   },
   {
    "duration": 5,
    "start_time": "2023-02-22T23:57:56.929Z"
   },
   {
    "duration": 7,
    "start_time": "2023-02-22T23:57:56.936Z"
   },
   {
    "duration": 19,
    "start_time": "2023-02-22T23:57:56.944Z"
   },
   {
    "duration": 30,
    "start_time": "2023-02-22T23:57:56.964Z"
   },
   {
    "duration": 5,
    "start_time": "2023-02-22T23:57:56.995Z"
   },
   {
    "duration": 19,
    "start_time": "2023-02-22T23:57:57.001Z"
   },
   {
    "duration": 22,
    "start_time": "2023-02-22T23:57:57.021Z"
   },
   {
    "duration": 19,
    "start_time": "2023-02-22T23:57:57.045Z"
   },
   {
    "duration": 39,
    "start_time": "2023-02-22T23:57:57.066Z"
   },
   {
    "duration": 9,
    "start_time": "2023-02-22T23:57:57.106Z"
   },
   {
    "duration": 20,
    "start_time": "2023-02-22T23:57:57.116Z"
   },
   {
    "duration": 8,
    "start_time": "2023-02-22T23:57:57.138Z"
   },
   {
    "duration": 10,
    "start_time": "2023-02-22T23:57:57.147Z"
   },
   {
    "duration": 35,
    "start_time": "2023-02-22T23:57:57.159Z"
   },
   {
    "duration": 867,
    "start_time": "2023-02-22T23:57:57.197Z"
   },
   {
    "duration": 781,
    "start_time": "2023-02-22T23:57:58.066Z"
   },
   {
    "duration": 975,
    "start_time": "2023-02-22T23:57:58.848Z"
   },
   {
    "duration": 183,
    "start_time": "2023-02-22T23:57:59.825Z"
   },
   {
    "duration": 6,
    "start_time": "2023-02-22T23:58:00.010Z"
   },
   {
    "duration": 14,
    "start_time": "2023-02-22T23:58:00.018Z"
   },
   {
    "duration": 7,
    "start_time": "2023-02-22T23:58:00.034Z"
   },
   {
    "duration": 1493,
    "start_time": "2023-02-22T23:58:00.043Z"
   },
   {
    "duration": 1088,
    "start_time": "2023-02-22T23:58:01.538Z"
   },
   {
    "duration": 12,
    "start_time": "2023-02-22T23:58:02.628Z"
   },
   {
    "duration": 36,
    "start_time": "2023-02-22T23:58:02.642Z"
   },
   {
    "duration": 635,
    "start_time": "2023-02-22T23:58:02.680Z"
   },
   {
    "duration": 121,
    "start_time": "2023-02-22T23:58:03.317Z"
   },
   {
    "duration": 5,
    "start_time": "2023-02-22T23:58:03.440Z"
   },
   {
    "duration": 22,
    "start_time": "2023-02-22T23:58:03.447Z"
   },
   {
    "duration": 14,
    "start_time": "2023-02-22T23:58:03.470Z"
   },
   {
    "duration": 11424,
    "start_time": "2023-02-22T23:58:03.486Z"
   },
   {
    "duration": 11588,
    "start_time": "2023-02-22T23:59:52.675Z"
   },
   {
    "duration": 11294,
    "start_time": "2023-02-23T00:02:40.588Z"
   },
   {
    "duration": 11397,
    "start_time": "2023-02-23T00:03:04.703Z"
   },
   {
    "duration": 11,
    "start_time": "2023-02-23T00:05:35.632Z"
   },
   {
    "duration": 11,
    "start_time": "2023-02-23T00:06:44.457Z"
   },
   {
    "duration": 58982,
    "start_time": "2023-02-23T00:06:49.821Z"
   },
   {
    "duration": 11,
    "start_time": "2023-02-23T00:16:17.637Z"
   },
   {
    "duration": 901,
    "start_time": "2023-02-23T00:16:26.393Z"
   },
   {
    "duration": 11,
    "start_time": "2023-02-23T00:16:34.599Z"
   },
   {
    "duration": 809,
    "start_time": "2023-02-23T00:16:40.183Z"
   },
   {
    "duration": 11498,
    "start_time": "2023-02-23T00:16:41.868Z"
   },
   {
    "duration": 1266,
    "start_time": "2023-02-23T00:22:42.432Z"
   },
   {
    "duration": 647,
    "start_time": "2023-02-23T00:22:43.701Z"
   },
   {
    "duration": 17,
    "start_time": "2023-02-23T00:22:44.350Z"
   },
   {
    "duration": 29,
    "start_time": "2023-02-23T00:22:44.369Z"
   },
   {
    "duration": 17,
    "start_time": "2023-02-23T00:22:44.400Z"
   },
   {
    "duration": 18,
    "start_time": "2023-02-23T00:22:44.419Z"
   },
   {
    "duration": 2,
    "start_time": "2023-02-23T00:22:44.439Z"
   },
   {
    "duration": 57,
    "start_time": "2023-02-23T00:22:44.443Z"
   },
   {
    "duration": 222,
    "start_time": "2023-02-23T00:22:44.502Z"
   },
   {
    "duration": 11,
    "start_time": "2023-02-23T00:22:44.726Z"
   },
   {
    "duration": 6,
    "start_time": "2023-02-23T00:22:44.739Z"
   },
   {
    "duration": 5,
    "start_time": "2023-02-23T00:22:44.747Z"
   },
   {
    "duration": 5,
    "start_time": "2023-02-23T00:22:44.754Z"
   },
   {
    "duration": 3,
    "start_time": "2023-02-23T00:22:44.793Z"
   },
   {
    "duration": 17,
    "start_time": "2023-02-23T00:22:44.797Z"
   },
   {
    "duration": 27,
    "start_time": "2023-02-23T00:22:44.815Z"
   },
   {
    "duration": 4,
    "start_time": "2023-02-23T00:22:44.844Z"
   },
   {
    "duration": 5,
    "start_time": "2023-02-23T00:22:44.849Z"
   },
   {
    "duration": 17,
    "start_time": "2023-02-23T00:22:44.856Z"
   },
   {
    "duration": 37,
    "start_time": "2023-02-23T00:22:44.875Z"
   },
   {
    "duration": 20,
    "start_time": "2023-02-23T00:22:44.913Z"
   },
   {
    "duration": 18,
    "start_time": "2023-02-23T00:22:44.935Z"
   },
   {
    "duration": 37,
    "start_time": "2023-02-23T00:22:44.955Z"
   },
   {
    "duration": 21,
    "start_time": "2023-02-23T00:22:44.994Z"
   },
   {
    "duration": 9,
    "start_time": "2023-02-23T00:22:45.017Z"
   },
   {
    "duration": 23,
    "start_time": "2023-02-23T00:22:45.028Z"
   },
   {
    "duration": 9,
    "start_time": "2023-02-23T00:22:45.053Z"
   },
   {
    "duration": 908,
    "start_time": "2023-02-23T00:22:45.063Z"
   },
   {
    "duration": 806,
    "start_time": "2023-02-23T00:22:45.973Z"
   },
   {
    "duration": 979,
    "start_time": "2023-02-23T00:22:46.781Z"
   },
   {
    "duration": 183,
    "start_time": "2023-02-23T00:22:47.762Z"
   },
   {
    "duration": 5,
    "start_time": "2023-02-23T00:22:47.947Z"
   },
   {
    "duration": 9,
    "start_time": "2023-02-23T00:22:47.953Z"
   },
   {
    "duration": 5,
    "start_time": "2023-02-23T00:22:47.963Z"
   },
   {
    "duration": 1425,
    "start_time": "2023-02-23T00:22:47.969Z"
   },
   {
    "duration": 1048,
    "start_time": "2023-02-23T00:22:49.396Z"
   },
   {
    "duration": 13,
    "start_time": "2023-02-23T00:22:50.446Z"
   },
   {
    "duration": 14,
    "start_time": "2023-02-23T00:22:50.460Z"
   },
   {
    "duration": 632,
    "start_time": "2023-02-23T00:22:50.476Z"
   },
   {
    "duration": 111,
    "start_time": "2023-02-23T00:22:51.109Z"
   },
   {
    "duration": 4,
    "start_time": "2023-02-23T00:22:51.225Z"
   },
   {
    "duration": 19,
    "start_time": "2023-02-23T00:22:51.230Z"
   },
   {
    "duration": 16,
    "start_time": "2023-02-23T00:22:51.251Z"
   },
   {
    "duration": 303,
    "start_time": "2023-02-23T00:22:51.269Z"
   },
   {
    "duration": 0,
    "start_time": "2023-02-23T00:22:51.574Z"
   },
   {
    "duration": 0,
    "start_time": "2023-02-23T00:22:51.575Z"
   },
   {
    "duration": 1380,
    "start_time": "2023-02-23T00:23:16.267Z"
   },
   {
    "duration": 662,
    "start_time": "2023-02-23T00:23:17.649Z"
   },
   {
    "duration": 17,
    "start_time": "2023-02-23T00:23:18.312Z"
   },
   {
    "duration": 12,
    "start_time": "2023-02-23T00:23:18.331Z"
   },
   {
    "duration": 16,
    "start_time": "2023-02-23T00:23:18.345Z"
   },
   {
    "duration": 38,
    "start_time": "2023-02-23T00:23:18.362Z"
   },
   {
    "duration": 2,
    "start_time": "2023-02-23T00:23:18.402Z"
   },
   {
    "duration": 31,
    "start_time": "2023-02-23T00:23:18.405Z"
   },
   {
    "duration": 231,
    "start_time": "2023-02-23T00:23:18.438Z"
   },
   {
    "duration": 21,
    "start_time": "2023-02-23T00:23:18.671Z"
   },
   {
    "duration": 5,
    "start_time": "2023-02-23T00:23:18.693Z"
   },
   {
    "duration": 7,
    "start_time": "2023-02-23T00:23:18.699Z"
   },
   {
    "duration": 8,
    "start_time": "2023-02-23T00:23:18.708Z"
   },
   {
    "duration": 12,
    "start_time": "2023-02-23T00:23:18.717Z"
   },
   {
    "duration": 9,
    "start_time": "2023-02-23T00:23:18.730Z"
   },
   {
    "duration": 23,
    "start_time": "2023-02-23T00:23:18.740Z"
   },
   {
    "duration": 5,
    "start_time": "2023-02-23T00:23:18.765Z"
   },
   {
    "duration": 21,
    "start_time": "2023-02-23T00:23:18.771Z"
   },
   {
    "duration": 17,
    "start_time": "2023-02-23T00:23:18.794Z"
   },
   {
    "duration": 20,
    "start_time": "2023-02-23T00:23:18.813Z"
   },
   {
    "duration": 18,
    "start_time": "2023-02-23T00:23:18.835Z"
   },
   {
    "duration": 38,
    "start_time": "2023-02-23T00:23:18.854Z"
   },
   {
    "duration": 8,
    "start_time": "2023-02-23T00:23:18.894Z"
   },
   {
    "duration": 18,
    "start_time": "2023-02-23T00:23:18.904Z"
   },
   {
    "duration": 7,
    "start_time": "2023-02-23T00:23:18.924Z"
   },
   {
    "duration": 14,
    "start_time": "2023-02-23T00:23:18.933Z"
   },
   {
    "duration": 12,
    "start_time": "2023-02-23T00:23:18.948Z"
   },
   {
    "duration": 903,
    "start_time": "2023-02-23T00:23:18.963Z"
   },
   {
    "duration": 824,
    "start_time": "2023-02-23T00:23:19.868Z"
   },
   {
    "duration": 998,
    "start_time": "2023-02-23T00:23:20.694Z"
   },
   {
    "duration": 185,
    "start_time": "2023-02-23T00:23:21.694Z"
   },
   {
    "duration": 13,
    "start_time": "2023-02-23T00:23:21.881Z"
   },
   {
    "duration": 5,
    "start_time": "2023-02-23T00:23:21.895Z"
   },
   {
    "duration": 12,
    "start_time": "2023-02-23T00:23:21.901Z"
   },
   {
    "duration": 1422,
    "start_time": "2023-02-23T00:23:21.914Z"
   },
   {
    "duration": 1055,
    "start_time": "2023-02-23T00:23:23.338Z"
   },
   {
    "duration": 13,
    "start_time": "2023-02-23T00:23:24.394Z"
   },
   {
    "duration": 11,
    "start_time": "2023-02-23T00:23:24.408Z"
   },
   {
    "duration": 624,
    "start_time": "2023-02-23T00:23:24.421Z"
   },
   {
    "duration": 129,
    "start_time": "2023-02-23T00:23:25.047Z"
   },
   {
    "duration": 4,
    "start_time": "2023-02-23T00:23:25.178Z"
   },
   {
    "duration": 8,
    "start_time": "2023-02-23T00:23:25.184Z"
   },
   {
    "duration": 12,
    "start_time": "2023-02-23T00:23:25.194Z"
   },
   {
    "duration": 794,
    "start_time": "2023-02-23T00:23:25.208Z"
   },
   {
    "duration": 11526,
    "start_time": "2023-02-23T00:23:26.093Z"
   },
   {
    "duration": 1318,
    "start_time": "2023-02-23T00:27:26.193Z"
   },
   {
    "duration": 784,
    "start_time": "2023-02-23T00:27:27.513Z"
   },
   {
    "duration": 18,
    "start_time": "2023-02-23T00:27:28.298Z"
   },
   {
    "duration": 20,
    "start_time": "2023-02-23T00:27:28.318Z"
   },
   {
    "duration": 23,
    "start_time": "2023-02-23T00:27:28.340Z"
   },
   {
    "duration": 27,
    "start_time": "2023-02-23T00:27:28.364Z"
   },
   {
    "duration": 3,
    "start_time": "2023-02-23T00:27:28.392Z"
   },
   {
    "duration": 29,
    "start_time": "2023-02-23T00:27:28.396Z"
   },
   {
    "duration": 232,
    "start_time": "2023-02-23T00:27:28.427Z"
   },
   {
    "duration": 11,
    "start_time": "2023-02-23T00:27:28.661Z"
   },
   {
    "duration": 34,
    "start_time": "2023-02-23T00:27:28.674Z"
   },
   {
    "duration": 15,
    "start_time": "2023-02-23T00:27:28.710Z"
   },
   {
    "duration": 19,
    "start_time": "2023-02-23T00:27:28.726Z"
   },
   {
    "duration": 6,
    "start_time": "2023-02-23T00:27:28.747Z"
   },
   {
    "duration": 8,
    "start_time": "2023-02-23T00:27:28.754Z"
   },
   {
    "duration": 21,
    "start_time": "2023-02-23T00:27:28.763Z"
   },
   {
    "duration": 4,
    "start_time": "2023-02-23T00:27:28.786Z"
   },
   {
    "duration": 7,
    "start_time": "2023-02-23T00:27:28.791Z"
   },
   {
    "duration": 16,
    "start_time": "2023-02-23T00:27:28.799Z"
   },
   {
    "duration": 20,
    "start_time": "2023-02-23T00:27:28.817Z"
   },
   {
    "duration": 20,
    "start_time": "2023-02-23T00:27:28.839Z"
   },
   {
    "duration": 38,
    "start_time": "2023-02-23T00:27:28.860Z"
   },
   {
    "duration": 8,
    "start_time": "2023-02-23T00:27:28.899Z"
   },
   {
    "duration": 24,
    "start_time": "2023-02-23T00:27:28.909Z"
   },
   {
    "duration": 7,
    "start_time": "2023-02-23T00:27:28.934Z"
   },
   {
    "duration": 9,
    "start_time": "2023-02-23T00:27:28.942Z"
   },
   {
    "duration": 6,
    "start_time": "2023-02-23T00:27:28.952Z"
   },
   {
    "duration": 871,
    "start_time": "2023-02-23T00:27:28.959Z"
   },
   {
    "duration": 806,
    "start_time": "2023-02-23T00:27:29.833Z"
   },
   {
    "duration": 955,
    "start_time": "2023-02-23T00:27:30.640Z"
   },
   {
    "duration": 194,
    "start_time": "2023-02-23T00:27:31.597Z"
   },
   {
    "duration": 5,
    "start_time": "2023-02-23T00:27:31.793Z"
   },
   {
    "duration": 21,
    "start_time": "2023-02-23T00:27:31.799Z"
   },
   {
    "duration": 45,
    "start_time": "2023-02-23T00:27:31.821Z"
   },
   {
    "duration": 1517,
    "start_time": "2023-02-23T00:27:31.867Z"
   },
   {
    "duration": 1070,
    "start_time": "2023-02-23T00:27:33.392Z"
   },
   {
    "duration": 13,
    "start_time": "2023-02-23T00:27:34.463Z"
   },
   {
    "duration": 20,
    "start_time": "2023-02-23T00:27:34.477Z"
   },
   {
    "duration": 620,
    "start_time": "2023-02-23T00:27:34.498Z"
   },
   {
    "duration": 116,
    "start_time": "2023-02-23T00:27:35.120Z"
   },
   {
    "duration": 4,
    "start_time": "2023-02-23T00:27:35.239Z"
   },
   {
    "duration": 38,
    "start_time": "2023-02-23T00:27:35.245Z"
   },
   {
    "duration": 18,
    "start_time": "2023-02-23T00:27:35.284Z"
   },
   {
    "duration": 796,
    "start_time": "2023-02-23T00:27:35.304Z"
   },
   {
    "duration": 11522,
    "start_time": "2023-02-23T00:27:36.197Z"
   },
   {
    "duration": 1365,
    "start_time": "2023-02-23T00:31:13.571Z"
   },
   {
    "duration": 687,
    "start_time": "2023-02-23T00:31:14.938Z"
   },
   {
    "duration": 19,
    "start_time": "2023-02-23T00:31:15.626Z"
   },
   {
    "duration": 13,
    "start_time": "2023-02-23T00:31:15.647Z"
   },
   {
    "duration": 37,
    "start_time": "2023-02-23T00:31:15.662Z"
   },
   {
    "duration": 20,
    "start_time": "2023-02-23T00:31:15.700Z"
   },
   {
    "duration": 2,
    "start_time": "2023-02-23T00:31:15.721Z"
   },
   {
    "duration": 37,
    "start_time": "2023-02-23T00:31:15.725Z"
   },
   {
    "duration": 258,
    "start_time": "2023-02-23T00:31:15.764Z"
   },
   {
    "duration": 14,
    "start_time": "2023-02-23T00:31:16.024Z"
   },
   {
    "duration": 9,
    "start_time": "2023-02-23T00:31:16.040Z"
   },
   {
    "duration": 12,
    "start_time": "2023-02-23T00:31:16.051Z"
   },
   {
    "duration": 19,
    "start_time": "2023-02-23T00:31:16.065Z"
   },
   {
    "duration": 4,
    "start_time": "2023-02-23T00:31:16.091Z"
   },
   {
    "duration": 21,
    "start_time": "2023-02-23T00:31:16.096Z"
   },
   {
    "duration": 21,
    "start_time": "2023-02-23T00:31:16.119Z"
   },
   {
    "duration": 8,
    "start_time": "2023-02-23T00:31:16.142Z"
   },
   {
    "duration": 5,
    "start_time": "2023-02-23T00:31:16.151Z"
   },
   {
    "duration": 18,
    "start_time": "2023-02-23T00:31:16.158Z"
   },
   {
    "duration": 29,
    "start_time": "2023-02-23T00:31:16.178Z"
   },
   {
    "duration": 24,
    "start_time": "2023-02-23T00:31:16.208Z"
   },
   {
    "duration": 23,
    "start_time": "2023-02-23T00:31:16.234Z"
   },
   {
    "duration": 8,
    "start_time": "2023-02-23T00:31:16.258Z"
   },
   {
    "duration": 32,
    "start_time": "2023-02-23T00:31:16.267Z"
   },
   {
    "duration": 7,
    "start_time": "2023-02-23T00:31:16.301Z"
   },
   {
    "duration": 10,
    "start_time": "2023-02-23T00:31:16.310Z"
   },
   {
    "duration": 6,
    "start_time": "2023-02-23T00:31:16.321Z"
   },
   {
    "duration": 906,
    "start_time": "2023-02-23T00:31:16.329Z"
   },
   {
    "duration": 760,
    "start_time": "2023-02-23T00:31:17.236Z"
   },
   {
    "duration": 959,
    "start_time": "2023-02-23T00:31:17.998Z"
   },
   {
    "duration": 199,
    "start_time": "2023-02-23T00:31:18.959Z"
   },
   {
    "duration": 5,
    "start_time": "2023-02-23T00:31:19.160Z"
   },
   {
    "duration": 6,
    "start_time": "2023-02-23T00:31:19.166Z"
   },
   {
    "duration": 5,
    "start_time": "2023-02-23T00:31:19.174Z"
   },
   {
    "duration": 1488,
    "start_time": "2023-02-23T00:31:19.192Z"
   },
   {
    "duration": 1114,
    "start_time": "2023-02-23T00:31:20.682Z"
   },
   {
    "duration": 13,
    "start_time": "2023-02-23T00:31:21.797Z"
   },
   {
    "duration": 19,
    "start_time": "2023-02-23T00:31:21.811Z"
   },
   {
    "duration": 628,
    "start_time": "2023-02-23T00:31:21.832Z"
   },
   {
    "duration": 112,
    "start_time": "2023-02-23T00:31:22.462Z"
   },
   {
    "duration": 4,
    "start_time": "2023-02-23T00:31:22.579Z"
   },
   {
    "duration": 3,
    "start_time": "2023-02-23T00:31:22.591Z"
   },
   {
    "duration": 10,
    "start_time": "2023-02-23T00:31:22.596Z"
   },
   {
    "duration": 884,
    "start_time": "2023-02-23T00:31:22.607Z"
   },
   {
    "duration": 11383,
    "start_time": "2023-02-23T00:31:23.494Z"
   },
   {
    "duration": 1320,
    "start_time": "2023-02-23T00:33:09.627Z"
   },
   {
    "duration": 690,
    "start_time": "2023-02-23T00:33:10.949Z"
   },
   {
    "duration": 18,
    "start_time": "2023-02-23T00:33:11.641Z"
   },
   {
    "duration": 12,
    "start_time": "2023-02-23T00:33:11.661Z"
   },
   {
    "duration": 28,
    "start_time": "2023-02-23T00:33:11.675Z"
   },
   {
    "duration": 19,
    "start_time": "2023-02-23T00:33:11.704Z"
   },
   {
    "duration": 2,
    "start_time": "2023-02-23T00:33:11.725Z"
   },
   {
    "duration": 33,
    "start_time": "2023-02-23T00:33:11.728Z"
   },
   {
    "duration": 236,
    "start_time": "2023-02-23T00:33:11.763Z"
   },
   {
    "duration": 12,
    "start_time": "2023-02-23T00:33:12.000Z"
   },
   {
    "duration": 5,
    "start_time": "2023-02-23T00:33:12.014Z"
   },
   {
    "duration": 5,
    "start_time": "2023-02-23T00:33:12.021Z"
   },
   {
    "duration": 6,
    "start_time": "2023-02-23T00:33:12.027Z"
   },
   {
    "duration": 4,
    "start_time": "2023-02-23T00:33:12.035Z"
   },
   {
    "duration": 10,
    "start_time": "2023-02-23T00:33:12.040Z"
   },
   {
    "duration": 49,
    "start_time": "2023-02-23T00:33:12.051Z"
   },
   {
    "duration": 4,
    "start_time": "2023-02-23T00:33:12.102Z"
   },
   {
    "duration": 5,
    "start_time": "2023-02-23T00:33:12.108Z"
   },
   {
    "duration": 16,
    "start_time": "2023-02-23T00:33:12.115Z"
   },
   {
    "duration": 21,
    "start_time": "2023-02-23T00:33:12.133Z"
   },
   {
    "duration": 45,
    "start_time": "2023-02-23T00:33:12.156Z"
   },
   {
    "duration": 16,
    "start_time": "2023-02-23T00:33:12.203Z"
   },
   {
    "duration": 9,
    "start_time": "2023-02-23T00:33:12.221Z"
   },
   {
    "duration": 20,
    "start_time": "2023-02-23T00:33:12.231Z"
   },
   {
    "duration": 9,
    "start_time": "2023-02-23T00:33:12.291Z"
   },
   {
    "duration": 15,
    "start_time": "2023-02-23T00:33:12.301Z"
   },
   {
    "duration": 14,
    "start_time": "2023-02-23T00:33:12.317Z"
   },
   {
    "duration": 854,
    "start_time": "2023-02-23T00:33:12.332Z"
   },
   {
    "duration": 777,
    "start_time": "2023-02-23T00:33:13.188Z"
   },
   {
    "duration": 941,
    "start_time": "2023-02-23T00:33:13.967Z"
   },
   {
    "duration": 193,
    "start_time": "2023-02-23T00:33:14.910Z"
   },
   {
    "duration": 5,
    "start_time": "2023-02-23T00:33:15.105Z"
   },
   {
    "duration": 17,
    "start_time": "2023-02-23T00:33:15.111Z"
   },
   {
    "duration": 5,
    "start_time": "2023-02-23T00:33:15.130Z"
   },
   {
    "duration": 1561,
    "start_time": "2023-02-23T00:33:15.136Z"
   },
   {
    "duration": 1103,
    "start_time": "2023-02-23T00:33:16.699Z"
   },
   {
    "duration": 14,
    "start_time": "2023-02-23T00:33:17.803Z"
   },
   {
    "duration": 11,
    "start_time": "2023-02-23T00:33:17.819Z"
   },
   {
    "duration": 633,
    "start_time": "2023-02-23T00:33:17.832Z"
   },
   {
    "duration": 107,
    "start_time": "2023-02-23T00:33:18.467Z"
   },
   {
    "duration": 4,
    "start_time": "2023-02-23T00:33:18.577Z"
   },
   {
    "duration": 22,
    "start_time": "2023-02-23T00:33:18.582Z"
   },
   {
    "duration": 13,
    "start_time": "2023-02-23T00:33:18.606Z"
   },
   {
    "duration": 780,
    "start_time": "2023-02-23T00:33:18.620Z"
   },
   {
    "duration": 11529,
    "start_time": "2023-02-23T00:33:19.493Z"
   },
   {
    "duration": 70155,
    "start_time": "2023-02-23T00:33:31.024Z"
   },
   {
    "duration": 70292,
    "start_time": "2023-02-23T00:36:33.695Z"
   },
   {
    "duration": 953,
    "start_time": "2023-02-23T00:44:06.764Z"
   },
   {
    "duration": 961,
    "start_time": "2023-02-23T00:44:42.386Z"
   },
   {
    "duration": 37,
    "start_time": "2023-02-23T00:50:52.678Z"
   },
   {
    "duration": 1321,
    "start_time": "2023-02-23T00:50:58.198Z"
   },
   {
    "duration": 670,
    "start_time": "2023-02-23T00:50:59.522Z"
   },
   {
    "duration": 18,
    "start_time": "2023-02-23T00:51:00.193Z"
   },
   {
    "duration": 22,
    "start_time": "2023-02-23T00:51:00.213Z"
   },
   {
    "duration": 27,
    "start_time": "2023-02-23T00:51:00.237Z"
   },
   {
    "duration": 29,
    "start_time": "2023-02-23T00:51:00.266Z"
   },
   {
    "duration": 7,
    "start_time": "2023-02-23T00:51:00.297Z"
   },
   {
    "duration": 77,
    "start_time": "2023-02-23T00:51:00.306Z"
   },
   {
    "duration": 263,
    "start_time": "2023-02-23T00:51:00.385Z"
   },
   {
    "duration": 12,
    "start_time": "2023-02-23T00:51:00.650Z"
   },
   {
    "duration": 35,
    "start_time": "2023-02-23T00:51:00.664Z"
   },
   {
    "duration": 33,
    "start_time": "2023-02-23T00:51:00.701Z"
   },
   {
    "duration": 34,
    "start_time": "2023-02-23T00:51:00.736Z"
   },
   {
    "duration": 42,
    "start_time": "2023-02-23T00:51:00.773Z"
   },
   {
    "duration": 34,
    "start_time": "2023-02-23T00:51:00.817Z"
   },
   {
    "duration": 159,
    "start_time": "2023-02-23T00:51:00.852Z"
   },
   {
    "duration": 5,
    "start_time": "2023-02-23T00:51:01.013Z"
   },
   {
    "duration": 28,
    "start_time": "2023-02-23T00:51:01.020Z"
   },
   {
    "duration": 31,
    "start_time": "2023-02-23T00:51:01.050Z"
   },
   {
    "duration": 59,
    "start_time": "2023-02-23T00:51:01.084Z"
   },
   {
    "duration": 34,
    "start_time": "2023-02-23T00:51:01.145Z"
   },
   {
    "duration": 52,
    "start_time": "2023-02-23T00:51:01.181Z"
   },
   {
    "duration": 62,
    "start_time": "2023-02-23T00:51:01.235Z"
   },
   {
    "duration": 56,
    "start_time": "2023-02-23T00:51:01.298Z"
   },
   {
    "duration": 25,
    "start_time": "2023-02-23T00:51:01.356Z"
   },
   {
    "duration": 49,
    "start_time": "2023-02-23T00:51:01.382Z"
   },
   {
    "duration": 36,
    "start_time": "2023-02-23T00:51:01.433Z"
   },
   {
    "duration": 952,
    "start_time": "2023-02-23T00:51:01.471Z"
   },
   {
    "duration": 771,
    "start_time": "2023-02-23T00:51:02.425Z"
   },
   {
    "duration": 979,
    "start_time": "2023-02-23T00:51:03.197Z"
   },
   {
    "duration": 187,
    "start_time": "2023-02-23T00:51:04.177Z"
   },
   {
    "duration": 5,
    "start_time": "2023-02-23T00:51:04.366Z"
   },
   {
    "duration": 12,
    "start_time": "2023-02-23T00:51:04.372Z"
   },
   {
    "duration": 25,
    "start_time": "2023-02-23T00:51:04.385Z"
   },
   {
    "duration": 1452,
    "start_time": "2023-02-23T00:51:04.411Z"
   },
   {
    "duration": 1099,
    "start_time": "2023-02-23T00:51:05.865Z"
   },
   {
    "duration": 12,
    "start_time": "2023-02-23T00:51:06.966Z"
   },
   {
    "duration": 16,
    "start_time": "2023-02-23T00:51:06.980Z"
   },
   {
    "duration": 631,
    "start_time": "2023-02-23T00:51:06.998Z"
   },
   {
    "duration": 48,
    "start_time": "2023-02-23T00:51:07.631Z"
   },
   {
    "duration": 4,
    "start_time": "2023-02-23T00:51:07.691Z"
   },
   {
    "duration": 10,
    "start_time": "2023-02-23T00:51:07.697Z"
   },
   {
    "duration": 12,
    "start_time": "2023-02-23T00:51:07.708Z"
   },
   {
    "duration": 772,
    "start_time": "2023-02-23T00:51:07.721Z"
   },
   {
    "duration": 11307,
    "start_time": "2023-02-23T00:51:08.495Z"
   },
   {
    "duration": 70182,
    "start_time": "2023-02-23T00:51:19.804Z"
   },
   {
    "duration": 1007,
    "start_time": "2023-02-23T00:52:29.988Z"
   },
   {
    "duration": 48,
    "start_time": "2023-02-23T00:53:14.230Z"
   },
   {
    "duration": 1257,
    "start_time": "2023-02-23T00:53:18.657Z"
   },
   {
    "duration": 678,
    "start_time": "2023-02-23T00:53:19.916Z"
   },
   {
    "duration": 17,
    "start_time": "2023-02-23T00:53:20.595Z"
   },
   {
    "duration": 12,
    "start_time": "2023-02-23T00:53:20.614Z"
   },
   {
    "duration": 17,
    "start_time": "2023-02-23T00:53:20.628Z"
   },
   {
    "duration": 46,
    "start_time": "2023-02-23T00:53:20.646Z"
   },
   {
    "duration": 2,
    "start_time": "2023-02-23T00:53:20.694Z"
   },
   {
    "duration": 30,
    "start_time": "2023-02-23T00:53:20.697Z"
   },
   {
    "duration": 221,
    "start_time": "2023-02-23T00:53:20.729Z"
   },
   {
    "duration": 12,
    "start_time": "2023-02-23T00:53:20.951Z"
   },
   {
    "duration": 12,
    "start_time": "2023-02-23T00:53:20.965Z"
   },
   {
    "duration": 15,
    "start_time": "2023-02-23T00:53:20.978Z"
   },
   {
    "duration": 6,
    "start_time": "2023-02-23T00:53:20.995Z"
   },
   {
    "duration": 6,
    "start_time": "2023-02-23T00:53:21.004Z"
   },
   {
    "duration": 9,
    "start_time": "2023-02-23T00:53:21.012Z"
   },
   {
    "duration": 34,
    "start_time": "2023-02-23T00:53:21.022Z"
   },
   {
    "duration": 5,
    "start_time": "2023-02-23T00:53:21.058Z"
   },
   {
    "duration": 6,
    "start_time": "2023-02-23T00:53:21.065Z"
   },
   {
    "duration": 29,
    "start_time": "2023-02-23T00:53:21.072Z"
   },
   {
    "duration": 23,
    "start_time": "2023-02-23T00:53:21.102Z"
   },
   {
    "duration": 19,
    "start_time": "2023-02-23T00:53:21.127Z"
   },
   {
    "duration": 18,
    "start_time": "2023-02-23T00:53:21.147Z"
   },
   {
    "duration": 28,
    "start_time": "2023-02-23T00:53:21.166Z"
   },
   {
    "duration": 20,
    "start_time": "2023-02-23T00:53:21.196Z"
   },
   {
    "duration": 8,
    "start_time": "2023-02-23T00:53:21.218Z"
   },
   {
    "duration": 8,
    "start_time": "2023-02-23T00:53:21.227Z"
   },
   {
    "duration": 7,
    "start_time": "2023-02-23T00:53:21.237Z"
   },
   {
    "duration": 872,
    "start_time": "2023-02-23T00:53:21.245Z"
   },
   {
    "duration": 766,
    "start_time": "2023-02-23T00:53:22.119Z"
   },
   {
    "duration": 988,
    "start_time": "2023-02-23T00:53:22.887Z"
   },
   {
    "duration": 189,
    "start_time": "2023-02-23T00:53:23.876Z"
   },
   {
    "duration": 5,
    "start_time": "2023-02-23T00:53:24.067Z"
   },
   {
    "duration": 8,
    "start_time": "2023-02-23T00:53:24.073Z"
   },
   {
    "duration": 8,
    "start_time": "2023-02-23T00:53:24.091Z"
   },
   {
    "duration": 1568,
    "start_time": "2023-02-23T00:53:24.101Z"
   },
   {
    "duration": 1171,
    "start_time": "2023-02-23T00:53:25.671Z"
   },
   {
    "duration": 14,
    "start_time": "2023-02-23T00:53:26.844Z"
   },
   {
    "duration": 29,
    "start_time": "2023-02-23T00:53:26.860Z"
   },
   {
    "duration": 648,
    "start_time": "2023-02-23T00:53:26.890Z"
   },
   {
    "duration": 66,
    "start_time": "2023-02-23T00:53:27.540Z"
   },
   {
    "duration": 4,
    "start_time": "2023-02-23T00:53:27.610Z"
   },
   {
    "duration": 6,
    "start_time": "2023-02-23T00:53:27.616Z"
   },
   {
    "duration": 10,
    "start_time": "2023-02-23T00:53:27.624Z"
   },
   {
    "duration": 1465,
    "start_time": "2023-02-23T00:53:27.636Z"
   },
   {
    "duration": 11941,
    "start_time": "2023-02-23T00:53:29.193Z"
   },
   {
    "duration": 72922,
    "start_time": "2023-02-23T00:53:41.136Z"
   },
   {
    "duration": 1012,
    "start_time": "2023-02-23T00:54:54.060Z"
   },
   {
    "duration": 25,
    "start_time": "2023-02-23T00:55:56.280Z"
   },
   {
    "duration": 1290,
    "start_time": "2023-02-23T00:56:02.434Z"
   },
   {
    "duration": 666,
    "start_time": "2023-02-23T00:56:03.726Z"
   },
   {
    "duration": 16,
    "start_time": "2023-02-23T00:56:04.394Z"
   },
   {
    "duration": 18,
    "start_time": "2023-02-23T00:56:04.412Z"
   },
   {
    "duration": 17,
    "start_time": "2023-02-23T00:56:04.433Z"
   },
   {
    "duration": 43,
    "start_time": "2023-02-23T00:56:04.452Z"
   },
   {
    "duration": 3,
    "start_time": "2023-02-23T00:56:04.497Z"
   },
   {
    "duration": 29,
    "start_time": "2023-02-23T00:56:04.502Z"
   },
   {
    "duration": 239,
    "start_time": "2023-02-23T00:56:04.533Z"
   },
   {
    "duration": 20,
    "start_time": "2023-02-23T00:56:04.774Z"
   },
   {
    "duration": 6,
    "start_time": "2023-02-23T00:56:04.796Z"
   },
   {
    "duration": 6,
    "start_time": "2023-02-23T00:56:04.803Z"
   },
   {
    "duration": 5,
    "start_time": "2023-02-23T00:56:04.811Z"
   },
   {
    "duration": 4,
    "start_time": "2023-02-23T00:56:04.819Z"
   },
   {
    "duration": 8,
    "start_time": "2023-02-23T00:56:04.824Z"
   },
   {
    "duration": 23,
    "start_time": "2023-02-23T00:56:04.833Z"
   },
   {
    "duration": 34,
    "start_time": "2023-02-23T00:56:04.858Z"
   },
   {
    "duration": 4,
    "start_time": "2023-02-23T00:56:04.893Z"
   },
   {
    "duration": 26,
    "start_time": "2023-02-23T00:56:04.900Z"
   },
   {
    "duration": 22,
    "start_time": "2023-02-23T00:56:04.928Z"
   },
   {
    "duration": 40,
    "start_time": "2023-02-23T00:56:04.952Z"
   },
   {
    "duration": 16,
    "start_time": "2023-02-23T00:56:04.993Z"
   },
   {
    "duration": 9,
    "start_time": "2023-02-23T00:56:05.011Z"
   },
   {
    "duration": 20,
    "start_time": "2023-02-23T00:56:05.021Z"
   },
   {
    "duration": 8,
    "start_time": "2023-02-23T00:56:05.043Z"
   },
   {
    "duration": 42,
    "start_time": "2023-02-23T00:56:05.052Z"
   },
   {
    "duration": 7,
    "start_time": "2023-02-23T00:56:05.096Z"
   },
   {
    "duration": 898,
    "start_time": "2023-02-23T00:56:05.104Z"
   },
   {
    "duration": 788,
    "start_time": "2023-02-23T00:56:06.004Z"
   },
   {
    "duration": 944,
    "start_time": "2023-02-23T00:56:06.793Z"
   },
   {
    "duration": 187,
    "start_time": "2023-02-23T00:56:07.739Z"
   },
   {
    "duration": 6,
    "start_time": "2023-02-23T00:56:07.928Z"
   },
   {
    "duration": 6,
    "start_time": "2023-02-23T00:56:07.936Z"
   },
   {
    "duration": 6,
    "start_time": "2023-02-23T00:56:07.943Z"
   },
   {
    "duration": 1437,
    "start_time": "2023-02-23T00:56:07.950Z"
   },
   {
    "duration": 1072,
    "start_time": "2023-02-23T00:56:09.391Z"
   },
   {
    "duration": 12,
    "start_time": "2023-02-23T00:56:10.465Z"
   },
   {
    "duration": 22,
    "start_time": "2023-02-23T00:56:10.479Z"
   },
   {
    "duration": 629,
    "start_time": "2023-02-23T00:56:10.502Z"
   },
   {
    "duration": 29,
    "start_time": "2023-02-23T00:56:11.133Z"
   },
   {
    "duration": 4,
    "start_time": "2023-02-23T00:56:11.166Z"
   },
   {
    "duration": 20,
    "start_time": "2023-02-23T00:56:11.172Z"
   },
   {
    "duration": 11,
    "start_time": "2023-02-23T00:56:11.193Z"
   },
   {
    "duration": 796,
    "start_time": "2023-02-23T00:56:11.205Z"
   },
   {
    "duration": 11747,
    "start_time": "2023-02-23T00:56:12.093Z"
   },
   {
    "duration": 47940,
    "start_time": "2023-02-23T00:56:23.841Z"
   },
   {
    "duration": 1025,
    "start_time": "2023-02-23T00:57:11.782Z"
   },
   {
    "duration": 36,
    "start_time": "2023-02-23T01:00:24.538Z"
   },
   {
    "duration": 1295,
    "start_time": "2023-02-23T01:00:37.029Z"
   },
   {
    "duration": 681,
    "start_time": "2023-02-23T01:00:38.326Z"
   },
   {
    "duration": 17,
    "start_time": "2023-02-23T01:00:39.009Z"
   },
   {
    "duration": 16,
    "start_time": "2023-02-23T01:00:39.028Z"
   },
   {
    "duration": 15,
    "start_time": "2023-02-23T01:00:39.046Z"
   },
   {
    "duration": 38,
    "start_time": "2023-02-23T01:00:39.063Z"
   },
   {
    "duration": 2,
    "start_time": "2023-02-23T01:00:39.103Z"
   },
   {
    "duration": 31,
    "start_time": "2023-02-23T01:00:39.107Z"
   },
   {
    "duration": 240,
    "start_time": "2023-02-23T01:00:39.140Z"
   },
   {
    "duration": 11,
    "start_time": "2023-02-23T01:00:39.394Z"
   },
   {
    "duration": 6,
    "start_time": "2023-02-23T01:00:39.406Z"
   },
   {
    "duration": 4,
    "start_time": "2023-02-23T01:00:39.414Z"
   },
   {
    "duration": 5,
    "start_time": "2023-02-23T01:00:39.420Z"
   },
   {
    "duration": 5,
    "start_time": "2023-02-23T01:00:39.427Z"
   },
   {
    "duration": 7,
    "start_time": "2023-02-23T01:00:39.434Z"
   },
   {
    "duration": 54,
    "start_time": "2023-02-23T01:00:39.442Z"
   },
   {
    "duration": 5,
    "start_time": "2023-02-23T01:00:39.498Z"
   },
   {
    "duration": 5,
    "start_time": "2023-02-23T01:00:39.505Z"
   },
   {
    "duration": 17,
    "start_time": "2023-02-23T01:00:39.512Z"
   },
   {
    "duration": 22,
    "start_time": "2023-02-23T01:00:39.531Z"
   },
   {
    "duration": 46,
    "start_time": "2023-02-23T01:00:39.555Z"
   },
   {
    "duration": 18,
    "start_time": "2023-02-23T01:00:39.603Z"
   },
   {
    "duration": 9,
    "start_time": "2023-02-23T01:00:39.623Z"
   },
   {
    "duration": 20,
    "start_time": "2023-02-23T01:00:39.634Z"
   },
   {
    "duration": 8,
    "start_time": "2023-02-23T01:00:39.691Z"
   },
   {
    "duration": 10,
    "start_time": "2023-02-23T01:00:39.700Z"
   },
   {
    "duration": 9,
    "start_time": "2023-02-23T01:00:39.712Z"
   },
   {
    "duration": 931,
    "start_time": "2023-02-23T01:00:39.724Z"
   },
   {
    "duration": 810,
    "start_time": "2023-02-23T01:00:40.656Z"
   },
   {
    "duration": 982,
    "start_time": "2023-02-23T01:00:41.467Z"
   },
   {
    "duration": 185,
    "start_time": "2023-02-23T01:00:42.451Z"
   },
   {
    "duration": 6,
    "start_time": "2023-02-23T01:00:42.637Z"
   },
   {
    "duration": 28,
    "start_time": "2023-02-23T01:00:42.644Z"
   },
   {
    "duration": 5,
    "start_time": "2023-02-23T01:00:42.674Z"
   },
   {
    "duration": 1452,
    "start_time": "2023-02-23T01:00:42.680Z"
   },
   {
    "duration": 1059,
    "start_time": "2023-02-23T01:00:44.134Z"
   },
   {
    "duration": 20,
    "start_time": "2023-02-23T01:00:45.195Z"
   },
   {
    "duration": 36,
    "start_time": "2023-02-23T01:00:45.217Z"
   },
   {
    "duration": 650,
    "start_time": "2023-02-23T01:00:45.255Z"
   },
   {
    "duration": 87,
    "start_time": "2023-02-23T01:00:45.907Z"
   },
   {
    "duration": 6,
    "start_time": "2023-02-23T01:00:45.996Z"
   },
   {
    "duration": 6,
    "start_time": "2023-02-23T01:00:46.004Z"
   },
   {
    "duration": 10,
    "start_time": "2023-02-23T01:00:46.011Z"
   },
   {
    "duration": 780,
    "start_time": "2023-02-23T01:00:46.022Z"
   },
   {
    "duration": 11322,
    "start_time": "2023-02-23T01:00:46.897Z"
   },
   {
    "duration": 46426,
    "start_time": "2023-02-23T01:00:58.220Z"
   },
   {
    "duration": 1025,
    "start_time": "2023-02-23T01:01:44.647Z"
   },
   {
    "duration": 91,
    "start_time": "2023-02-23T01:04:50.889Z"
   },
   {
    "duration": 1317,
    "start_time": "2023-02-23T01:04:56.365Z"
   },
   {
    "duration": 654,
    "start_time": "2023-02-23T01:04:57.684Z"
   },
   {
    "duration": 15,
    "start_time": "2023-02-23T01:04:58.340Z"
   },
   {
    "duration": 11,
    "start_time": "2023-02-23T01:04:58.357Z"
   },
   {
    "duration": 32,
    "start_time": "2023-02-23T01:04:58.370Z"
   },
   {
    "duration": 18,
    "start_time": "2023-02-23T01:04:58.404Z"
   },
   {
    "duration": 2,
    "start_time": "2023-02-23T01:04:58.423Z"
   },
   {
    "duration": 30,
    "start_time": "2023-02-23T01:04:58.427Z"
   },
   {
    "duration": 229,
    "start_time": "2023-02-23T01:04:58.459Z"
   },
   {
    "duration": 10,
    "start_time": "2023-02-23T01:04:58.691Z"
   },
   {
    "duration": 7,
    "start_time": "2023-02-23T01:04:58.703Z"
   },
   {
    "duration": 4,
    "start_time": "2023-02-23T01:04:58.712Z"
   },
   {
    "duration": 6,
    "start_time": "2023-02-23T01:04:58.717Z"
   },
   {
    "duration": 4,
    "start_time": "2023-02-23T01:04:58.726Z"
   },
   {
    "duration": 8,
    "start_time": "2023-02-23T01:04:58.731Z"
   },
   {
    "duration": 19,
    "start_time": "2023-02-23T01:04:58.741Z"
   },
   {
    "duration": 32,
    "start_time": "2023-02-23T01:04:58.763Z"
   },
   {
    "duration": 6,
    "start_time": "2023-02-23T01:04:58.797Z"
   },
   {
    "duration": 23,
    "start_time": "2023-02-23T01:04:58.805Z"
   },
   {
    "duration": 20,
    "start_time": "2023-02-23T01:04:58.830Z"
   },
   {
    "duration": 19,
    "start_time": "2023-02-23T01:04:58.852Z"
   },
   {
    "duration": 15,
    "start_time": "2023-02-23T01:04:58.892Z"
   },
   {
    "duration": 8,
    "start_time": "2023-02-23T01:04:58.909Z"
   },
   {
    "duration": 19,
    "start_time": "2023-02-23T01:04:58.918Z"
   },
   {
    "duration": 8,
    "start_time": "2023-02-23T01:04:58.939Z"
   },
   {
    "duration": 45,
    "start_time": "2023-02-23T01:04:58.949Z"
   },
   {
    "duration": 10,
    "start_time": "2023-02-23T01:04:58.996Z"
   },
   {
    "duration": 863,
    "start_time": "2023-02-23T01:04:59.008Z"
   },
   {
    "duration": 814,
    "start_time": "2023-02-23T01:04:59.873Z"
   },
   {
    "duration": 1011,
    "start_time": "2023-02-23T01:05:00.692Z"
   },
   {
    "duration": 190,
    "start_time": "2023-02-23T01:05:01.705Z"
   },
   {
    "duration": 6,
    "start_time": "2023-02-23T01:05:01.896Z"
   },
   {
    "duration": 39,
    "start_time": "2023-02-23T01:05:01.904Z"
   },
   {
    "duration": 13,
    "start_time": "2023-02-23T01:05:01.946Z"
   },
   {
    "duration": 1431,
    "start_time": "2023-02-23T01:05:01.961Z"
   },
   {
    "duration": 1049,
    "start_time": "2023-02-23T01:05:03.393Z"
   },
   {
    "duration": 14,
    "start_time": "2023-02-23T01:05:04.444Z"
   },
   {
    "duration": 49,
    "start_time": "2023-02-23T01:05:04.459Z"
   },
   {
    "duration": 613,
    "start_time": "2023-02-23T01:05:04.510Z"
   },
   {
    "duration": 125,
    "start_time": "2023-02-23T01:05:05.125Z"
   },
   {
    "duration": 5,
    "start_time": "2023-02-23T01:05:05.254Z"
   },
   {
    "duration": 7,
    "start_time": "2023-02-23T01:05:05.261Z"
   },
   {
    "duration": 9,
    "start_time": "2023-02-23T01:05:05.270Z"
   },
   {
    "duration": 810,
    "start_time": "2023-02-23T01:05:05.291Z"
   },
   {
    "duration": 11490,
    "start_time": "2023-02-23T01:05:06.193Z"
   },
   {
    "duration": 46238,
    "start_time": "2023-02-23T01:05:17.685Z"
   },
   {
    "duration": 960,
    "start_time": "2023-02-23T01:06:03.924Z"
   },
   {
    "duration": 105,
    "start_time": "2023-02-23T01:16:58.087Z"
   },
   {
    "duration": 1339,
    "start_time": "2023-02-23T01:17:19.559Z"
   },
   {
    "duration": 660,
    "start_time": "2023-02-23T01:17:20.900Z"
   },
   {
    "duration": 18,
    "start_time": "2023-02-23T01:17:21.562Z"
   },
   {
    "duration": 12,
    "start_time": "2023-02-23T01:17:21.591Z"
   },
   {
    "duration": 26,
    "start_time": "2023-02-23T01:17:21.605Z"
   },
   {
    "duration": 24,
    "start_time": "2023-02-23T01:17:21.633Z"
   },
   {
    "duration": 40,
    "start_time": "2023-02-23T01:17:21.659Z"
   },
   {
    "duration": 218,
    "start_time": "2023-02-23T01:17:21.701Z"
   },
   {
    "duration": 11,
    "start_time": "2023-02-23T01:17:21.921Z"
   },
   {
    "duration": 6,
    "start_time": "2023-02-23T01:17:21.934Z"
   },
   {
    "duration": 5,
    "start_time": "2023-02-23T01:17:21.941Z"
   },
   {
    "duration": 11,
    "start_time": "2023-02-23T01:17:21.948Z"
   },
   {
    "duration": 8,
    "start_time": "2023-02-23T01:17:21.961Z"
   },
   {
    "duration": 19,
    "start_time": "2023-02-23T01:17:21.991Z"
   },
   {
    "duration": 5,
    "start_time": "2023-02-23T01:17:22.012Z"
   },
   {
    "duration": 10,
    "start_time": "2023-02-23T01:17:22.019Z"
   },
   {
    "duration": 30,
    "start_time": "2023-02-23T01:17:22.031Z"
   },
   {
    "duration": 32,
    "start_time": "2023-02-23T01:17:22.062Z"
   },
   {
    "duration": 37,
    "start_time": "2023-02-23T01:17:22.096Z"
   },
   {
    "duration": 22,
    "start_time": "2023-02-23T01:17:22.135Z"
   },
   {
    "duration": 9,
    "start_time": "2023-02-23T01:17:22.158Z"
   },
   {
    "duration": 34,
    "start_time": "2023-02-23T01:17:22.168Z"
   },
   {
    "duration": 20,
    "start_time": "2023-02-23T01:17:22.203Z"
   },
   {
    "duration": 12,
    "start_time": "2023-02-23T01:17:22.225Z"
   },
   {
    "duration": 11,
    "start_time": "2023-02-23T01:17:22.239Z"
   },
   {
    "duration": 888,
    "start_time": "2023-02-23T01:17:22.252Z"
   },
   {
    "duration": 778,
    "start_time": "2023-02-23T01:17:23.142Z"
   },
   {
    "duration": 932,
    "start_time": "2023-02-23T01:17:23.924Z"
   },
   {
    "duration": 203,
    "start_time": "2023-02-23T01:17:24.859Z"
   },
   {
    "duration": 7,
    "start_time": "2023-02-23T01:17:25.064Z"
   },
   {
    "duration": 21,
    "start_time": "2023-02-23T01:17:25.072Z"
   },
   {
    "duration": 4,
    "start_time": "2023-02-23T01:17:25.095Z"
   },
   {
    "duration": 1514,
    "start_time": "2023-02-23T01:17:25.101Z"
   },
   {
    "duration": 1026,
    "start_time": "2023-02-23T01:17:26.616Z"
   },
   {
    "duration": 13,
    "start_time": "2023-02-23T01:17:27.643Z"
   },
   {
    "duration": 11,
    "start_time": "2023-02-23T01:17:27.657Z"
   },
   {
    "duration": 638,
    "start_time": "2023-02-23T01:17:27.670Z"
   },
   {
    "duration": 124,
    "start_time": "2023-02-23T01:17:28.310Z"
   },
   {
    "duration": 4,
    "start_time": "2023-02-23T01:17:28.436Z"
   },
   {
    "duration": 9,
    "start_time": "2023-02-23T01:17:28.442Z"
   },
   {
    "duration": 14,
    "start_time": "2023-02-23T01:17:28.452Z"
   },
   {
    "duration": 923,
    "start_time": "2023-02-23T01:17:28.468Z"
   },
   {
    "duration": 11370,
    "start_time": "2023-02-23T01:17:29.393Z"
   },
   {
    "duration": 46087,
    "start_time": "2023-02-23T01:17:40.765Z"
   },
   {
    "duration": 943,
    "start_time": "2023-02-23T01:18:26.853Z"
   },
   {
    "duration": 970,
    "start_time": "2023-02-23T01:45:17.434Z"
   },
   {
    "duration": 1251,
    "start_time": "2023-02-23T01:52:23.641Z"
   },
   {
    "duration": 694,
    "start_time": "2023-02-23T01:52:24.893Z"
   },
   {
    "duration": 19,
    "start_time": "2023-02-23T01:52:25.588Z"
   },
   {
    "duration": 14,
    "start_time": "2023-02-23T01:52:25.609Z"
   },
   {
    "duration": 19,
    "start_time": "2023-02-23T01:52:25.626Z"
   },
   {
    "duration": 48,
    "start_time": "2023-02-23T01:52:25.647Z"
   },
   {
    "duration": 29,
    "start_time": "2023-02-23T01:52:25.697Z"
   },
   {
    "duration": 265,
    "start_time": "2023-02-23T01:52:25.728Z"
   },
   {
    "duration": 12,
    "start_time": "2023-02-23T01:52:25.994Z"
   },
   {
    "duration": 8,
    "start_time": "2023-02-23T01:52:26.007Z"
   },
   {
    "duration": 6,
    "start_time": "2023-02-23T01:52:26.016Z"
   },
   {
    "duration": 7,
    "start_time": "2023-02-23T01:52:26.024Z"
   },
   {
    "duration": 9,
    "start_time": "2023-02-23T01:52:26.032Z"
   },
   {
    "duration": 22,
    "start_time": "2023-02-23T01:52:26.044Z"
   },
   {
    "duration": 26,
    "start_time": "2023-02-23T01:52:26.068Z"
   },
   {
    "duration": 4,
    "start_time": "2023-02-23T01:52:26.095Z"
   },
   {
    "duration": 26,
    "start_time": "2023-02-23T01:52:26.101Z"
   },
   {
    "duration": 32,
    "start_time": "2023-02-23T01:52:26.129Z"
   },
   {
    "duration": 8,
    "start_time": "2023-02-23T01:52:26.162Z"
   },
   {
    "duration": 7,
    "start_time": "2023-02-23T01:52:26.192Z"
   },
   {
    "duration": 9,
    "start_time": "2023-02-23T01:52:26.201Z"
   },
   {
    "duration": 882,
    "start_time": "2023-02-23T01:52:26.211Z"
   },
   {
    "duration": 782,
    "start_time": "2023-02-23T01:52:27.094Z"
   },
   {
    "duration": 956,
    "start_time": "2023-02-23T01:52:27.877Z"
   },
   {
    "duration": 182,
    "start_time": "2023-02-23T01:52:28.834Z"
   },
   {
    "duration": 6,
    "start_time": "2023-02-23T01:52:29.018Z"
   },
   {
    "duration": 6,
    "start_time": "2023-02-23T01:52:29.025Z"
   },
   {
    "duration": 5,
    "start_time": "2023-02-23T01:52:29.033Z"
   },
   {
    "duration": 1438,
    "start_time": "2023-02-23T01:52:29.039Z"
   },
   {
    "duration": 1088,
    "start_time": "2023-02-23T01:52:30.479Z"
   },
   {
    "duration": 23,
    "start_time": "2023-02-23T01:52:31.569Z"
   },
   {
    "duration": 11,
    "start_time": "2023-02-23T01:52:31.593Z"
   },
   {
    "duration": 631,
    "start_time": "2023-02-23T01:52:31.606Z"
   },
   {
    "duration": 107,
    "start_time": "2023-02-23T01:52:32.239Z"
   },
   {
    "duration": 4,
    "start_time": "2023-02-23T01:52:32.348Z"
   },
   {
    "duration": 4,
    "start_time": "2023-02-23T01:52:32.354Z"
   },
   {
    "duration": 8,
    "start_time": "2023-02-23T01:52:32.360Z"
   },
   {
    "duration": 832,
    "start_time": "2023-02-23T01:52:32.369Z"
   },
   {
    "duration": 11222,
    "start_time": "2023-02-23T01:52:33.293Z"
   },
   {
    "duration": 46103,
    "start_time": "2023-02-23T01:52:44.517Z"
   },
   {
    "duration": 981,
    "start_time": "2023-02-23T01:53:30.624Z"
   },
   {
    "duration": 47,
    "start_time": "2023-02-24T05:28:00.666Z"
   },
   {
    "duration": 1469,
    "start_time": "2023-02-24T05:28:28.040Z"
   },
   {
    "duration": 1852,
    "start_time": "2023-02-24T05:28:29.512Z"
   },
   {
    "duration": 53,
    "start_time": "2023-02-24T05:28:31.366Z"
   },
   {
    "duration": 15,
    "start_time": "2023-02-24T05:28:31.422Z"
   },
   {
    "duration": 17,
    "start_time": "2023-02-24T05:28:31.438Z"
   },
   {
    "duration": 65,
    "start_time": "2023-02-24T05:28:31.457Z"
   },
   {
    "duration": 31,
    "start_time": "2023-02-24T05:28:31.524Z"
   },
   {
    "duration": 230,
    "start_time": "2023-02-24T05:28:31.557Z"
   },
   {
    "duration": 22,
    "start_time": "2023-02-24T05:28:31.789Z"
   },
   {
    "duration": 5,
    "start_time": "2023-02-24T05:28:31.814Z"
   },
   {
    "duration": 5,
    "start_time": "2023-02-24T05:28:31.821Z"
   },
   {
    "duration": 27,
    "start_time": "2023-02-24T05:28:31.828Z"
   },
   {
    "duration": 12,
    "start_time": "2023-02-24T05:28:31.857Z"
   },
   {
    "duration": 21,
    "start_time": "2023-02-24T05:28:31.871Z"
   },
   {
    "duration": 9,
    "start_time": "2023-02-24T05:28:31.894Z"
   },
   {
    "duration": 7,
    "start_time": "2023-02-24T05:28:31.905Z"
   },
   {
    "duration": 23,
    "start_time": "2023-02-24T05:28:31.914Z"
   },
   {
    "duration": 3,
    "start_time": "2023-02-24T05:28:31.939Z"
   },
   {
    "duration": 121,
    "start_time": "2023-02-24T05:28:31.944Z"
   },
   {
    "duration": 0,
    "start_time": "2023-02-24T05:28:32.066Z"
   },
   {
    "duration": 0,
    "start_time": "2023-02-24T05:28:32.068Z"
   },
   {
    "duration": 0,
    "start_time": "2023-02-24T05:28:32.069Z"
   },
   {
    "duration": 0,
    "start_time": "2023-02-24T05:28:32.070Z"
   },
   {
    "duration": 0,
    "start_time": "2023-02-24T05:28:32.071Z"
   },
   {
    "duration": 0,
    "start_time": "2023-02-24T05:28:32.072Z"
   },
   {
    "duration": 0,
    "start_time": "2023-02-24T05:28:32.073Z"
   },
   {
    "duration": 0,
    "start_time": "2023-02-24T05:28:32.074Z"
   },
   {
    "duration": 0,
    "start_time": "2023-02-24T05:28:32.075Z"
   },
   {
    "duration": 0,
    "start_time": "2023-02-24T05:28:32.076Z"
   },
   {
    "duration": 0,
    "start_time": "2023-02-24T05:28:32.077Z"
   },
   {
    "duration": 0,
    "start_time": "2023-02-24T05:28:32.078Z"
   },
   {
    "duration": 0,
    "start_time": "2023-02-24T05:28:32.079Z"
   },
   {
    "duration": 0,
    "start_time": "2023-02-24T05:28:32.103Z"
   },
   {
    "duration": 0,
    "start_time": "2023-02-24T05:28:32.104Z"
   },
   {
    "duration": 0,
    "start_time": "2023-02-24T05:28:32.105Z"
   },
   {
    "duration": 0,
    "start_time": "2023-02-24T05:28:32.106Z"
   },
   {
    "duration": 0,
    "start_time": "2023-02-24T05:28:32.107Z"
   },
   {
    "duration": 0,
    "start_time": "2023-02-24T05:28:32.108Z"
   },
   {
    "duration": 0,
    "start_time": "2023-02-24T05:28:32.109Z"
   },
   {
    "duration": 0,
    "start_time": "2023-02-24T05:28:32.110Z"
   },
   {
    "duration": 0,
    "start_time": "2023-02-24T05:28:32.111Z"
   },
   {
    "duration": 0,
    "start_time": "2023-02-24T05:28:32.112Z"
   },
   {
    "duration": 1464,
    "start_time": "2023-02-24T05:33:05.907Z"
   },
   {
    "duration": 685,
    "start_time": "2023-02-24T05:33:07.374Z"
   },
   {
    "duration": 23,
    "start_time": "2023-02-24T05:33:08.061Z"
   },
   {
    "duration": 28,
    "start_time": "2023-02-24T05:33:08.086Z"
   },
   {
    "duration": 24,
    "start_time": "2023-02-24T05:33:08.116Z"
   },
   {
    "duration": 29,
    "start_time": "2023-02-24T05:33:08.142Z"
   },
   {
    "duration": 56,
    "start_time": "2023-02-24T05:33:08.173Z"
   },
   {
    "duration": 228,
    "start_time": "2023-02-24T05:33:08.230Z"
   },
   {
    "duration": 13,
    "start_time": "2023-02-24T05:33:08.459Z"
   },
   {
    "duration": 10,
    "start_time": "2023-02-24T05:33:08.475Z"
   },
   {
    "duration": 19,
    "start_time": "2023-02-24T05:33:08.486Z"
   },
   {
    "duration": 6,
    "start_time": "2023-02-24T05:33:08.507Z"
   },
   {
    "duration": 11,
    "start_time": "2023-02-24T05:33:08.514Z"
   },
   {
    "duration": 23,
    "start_time": "2023-02-24T05:33:08.528Z"
   },
   {
    "duration": 6,
    "start_time": "2023-02-24T05:33:08.553Z"
   },
   {
    "duration": 7,
    "start_time": "2023-02-24T05:33:08.561Z"
   },
   {
    "duration": 49,
    "start_time": "2023-02-24T05:33:08.570Z"
   },
   {
    "duration": 3,
    "start_time": "2023-02-24T05:33:08.621Z"
   },
   {
    "duration": 24,
    "start_time": "2023-02-24T05:33:08.626Z"
   },
   {
    "duration": 9,
    "start_time": "2023-02-24T05:33:08.652Z"
   },
   {
    "duration": 14,
    "start_time": "2023-02-24T05:33:08.663Z"
   },
   {
    "duration": 6,
    "start_time": "2023-02-24T05:33:08.703Z"
   },
   {
    "duration": 1101,
    "start_time": "2023-02-24T05:33:08.710Z"
   },
   {
    "duration": 941,
    "start_time": "2023-02-24T05:33:09.813Z"
   },
   {
    "duration": 1064,
    "start_time": "2023-02-24T05:33:10.757Z"
   },
   {
    "duration": 196,
    "start_time": "2023-02-24T05:33:11.823Z"
   },
   {
    "duration": 7,
    "start_time": "2023-02-24T05:33:12.021Z"
   },
   {
    "duration": 7,
    "start_time": "2023-02-24T05:33:12.034Z"
   },
   {
    "duration": 6,
    "start_time": "2023-02-24T05:33:12.043Z"
   },
   {
    "duration": 1445,
    "start_time": "2023-02-24T05:33:12.051Z"
   },
   {
    "duration": 1203,
    "start_time": "2023-02-24T05:33:13.498Z"
   },
   {
    "duration": 16,
    "start_time": "2023-02-24T05:33:14.702Z"
   },
   {
    "duration": 13,
    "start_time": "2023-02-24T05:33:14.719Z"
   },
   {
    "duration": 751,
    "start_time": "2023-02-24T05:33:14.734Z"
   },
   {
    "duration": 139,
    "start_time": "2023-02-24T05:33:15.487Z"
   },
   {
    "duration": 4,
    "start_time": "2023-02-24T05:33:15.628Z"
   },
   {
    "duration": 7,
    "start_time": "2023-02-24T05:33:15.634Z"
   },
   {
    "duration": 15,
    "start_time": "2023-02-24T05:33:15.643Z"
   },
   {
    "duration": 2747,
    "start_time": "2023-02-24T05:33:15.659Z"
   },
   {
    "duration": 16549,
    "start_time": "2023-02-24T05:33:18.408Z"
   },
   {
    "duration": 67846,
    "start_time": "2023-02-24T05:33:34.960Z"
   },
   {
    "duration": 1268,
    "start_time": "2023-02-24T05:34:42.808Z"
   },
   {
    "duration": 6,
    "start_time": "2023-02-24T05:49:24.701Z"
   },
   {
    "duration": 7,
    "start_time": "2023-02-24T05:54:33.893Z"
   },
   {
    "duration": 115,
    "start_time": "2023-02-24T05:59:01.602Z"
   },
   {
    "duration": 7,
    "start_time": "2023-02-24T06:02:19.735Z"
   },
   {
    "duration": 5,
    "start_time": "2023-02-24T06:03:58.434Z"
   },
   {
    "duration": 977,
    "start_time": "2023-02-24T06:03:59.874Z"
   },
   {
    "duration": 6,
    "start_time": "2023-02-24T06:04:37.717Z"
   },
   {
    "duration": 810,
    "start_time": "2023-02-24T06:04:38.915Z"
   },
   {
    "duration": 46,
    "start_time": "2023-02-24T06:15:25.782Z"
   },
   {
    "duration": 910,
    "start_time": "2023-02-24T06:15:28.247Z"
   },
   {
    "duration": 44,
    "start_time": "2023-02-24T06:15:40.555Z"
   },
   {
    "duration": 834,
    "start_time": "2023-02-24T06:15:41.908Z"
   },
   {
    "duration": 49,
    "start_time": "2023-02-24T06:16:03.537Z"
   },
   {
    "duration": 973,
    "start_time": "2023-02-24T06:16:05.964Z"
   },
   {
    "duration": 56,
    "start_time": "2023-02-24T06:16:08.832Z"
   },
   {
    "duration": 829,
    "start_time": "2023-02-24T06:16:10.767Z"
   },
   {
    "duration": 5,
    "start_time": "2023-02-24T06:17:00.215Z"
   },
   {
    "duration": 1069,
    "start_time": "2023-02-24T06:17:01.510Z"
   },
   {
    "duration": 4,
    "start_time": "2023-02-24T06:17:22.265Z"
   },
   {
    "duration": 823,
    "start_time": "2023-02-24T06:17:23.172Z"
   },
   {
    "duration": 948,
    "start_time": "2023-02-24T06:17:28.566Z"
   },
   {
    "duration": 9,
    "start_time": "2023-02-24T06:17:29.516Z"
   },
   {
    "duration": 985,
    "start_time": "2023-02-24T06:18:05.988Z"
   },
   {
    "duration": 863,
    "start_time": "2023-02-24T06:18:07.290Z"
   },
   {
    "duration": 5,
    "start_time": "2023-02-24T06:18:21.554Z"
   },
   {
    "duration": 1059,
    "start_time": "2023-02-24T06:18:22.529Z"
   },
   {
    "duration": 812,
    "start_time": "2023-02-24T06:18:27.659Z"
   },
   {
    "duration": 204,
    "start_time": "2023-02-24T07:41:14.486Z"
   },
   {
    "duration": 1401,
    "start_time": "2023-02-24T07:41:33.855Z"
   },
   {
    "duration": 693,
    "start_time": "2023-02-24T07:41:35.259Z"
   },
   {
    "duration": 16,
    "start_time": "2023-02-24T07:41:35.954Z"
   },
   {
    "duration": 162,
    "start_time": "2023-02-24T07:41:35.973Z"
   },
   {
    "duration": 16,
    "start_time": "2023-02-24T07:41:36.137Z"
   },
   {
    "duration": 25,
    "start_time": "2023-02-24T07:41:36.155Z"
   },
   {
    "duration": 42,
    "start_time": "2023-02-24T07:41:36.182Z"
   },
   {
    "duration": 242,
    "start_time": "2023-02-24T07:41:36.226Z"
   },
   {
    "duration": 11,
    "start_time": "2023-02-24T07:41:36.469Z"
   },
   {
    "duration": 24,
    "start_time": "2023-02-24T07:41:36.483Z"
   },
   {
    "duration": 19,
    "start_time": "2023-02-24T07:41:36.508Z"
   },
   {
    "duration": 5,
    "start_time": "2023-02-24T07:41:36.529Z"
   },
   {
    "duration": 7,
    "start_time": "2023-02-24T07:41:36.536Z"
   },
   {
    "duration": 21,
    "start_time": "2023-02-24T07:41:36.544Z"
   },
   {
    "duration": 6,
    "start_time": "2023-02-24T07:41:36.567Z"
   },
   {
    "duration": 4,
    "start_time": "2023-02-24T07:41:36.575Z"
   },
   {
    "duration": 42,
    "start_time": "2023-02-24T07:41:36.580Z"
   },
   {
    "duration": 2,
    "start_time": "2023-02-24T07:41:36.624Z"
   },
   {
    "duration": 28,
    "start_time": "2023-02-24T07:41:36.628Z"
   },
   {
    "duration": 8,
    "start_time": "2023-02-24T07:41:36.658Z"
   },
   {
    "duration": 13,
    "start_time": "2023-02-24T07:41:36.667Z"
   },
   {
    "duration": 10,
    "start_time": "2023-02-24T07:41:36.682Z"
   },
   {
    "duration": 15,
    "start_time": "2023-02-24T07:41:36.707Z"
   },
   {
    "duration": 961,
    "start_time": "2023-02-24T07:41:36.723Z"
   },
   {
    "duration": 909,
    "start_time": "2023-02-24T07:41:37.686Z"
   },
   {
    "duration": 2058,
    "start_time": "2023-02-24T07:41:38.604Z"
   },
   {
    "duration": 229,
    "start_time": "2023-02-24T07:41:40.664Z"
   },
   {
    "duration": 9,
    "start_time": "2023-02-24T07:41:40.906Z"
   },
   {
    "duration": 9,
    "start_time": "2023-02-24T07:41:40.917Z"
   },
   {
    "duration": 4,
    "start_time": "2023-02-24T07:41:40.928Z"
   },
   {
    "duration": 1451,
    "start_time": "2023-02-24T07:41:40.934Z"
   },
   {
    "duration": 1174,
    "start_time": "2023-02-24T07:41:42.387Z"
   },
   {
    "duration": 18,
    "start_time": "2023-02-24T07:41:43.563Z"
   },
   {
    "duration": 33,
    "start_time": "2023-02-24T07:41:43.582Z"
   },
   {
    "duration": 775,
    "start_time": "2023-02-24T07:41:43.620Z"
   },
   {
    "duration": 152,
    "start_time": "2023-02-24T07:41:44.403Z"
   },
   {
    "duration": 4,
    "start_time": "2023-02-24T07:41:44.557Z"
   },
   {
    "duration": 6,
    "start_time": "2023-02-24T07:41:44.563Z"
   },
   {
    "duration": 7,
    "start_time": "2023-02-24T07:41:44.571Z"
   },
   {
    "duration": 2344,
    "start_time": "2023-02-24T07:41:44.580Z"
   },
   {
    "duration": 16949,
    "start_time": "2023-02-24T07:41:46.928Z"
   },
   {
    "duration": 67720,
    "start_time": "2023-02-24T07:42:03.878Z"
   },
   {
    "duration": 1465,
    "start_time": "2023-02-24T07:43:11.604Z"
   },
   {
    "duration": 3,
    "start_time": "2023-02-24T08:00:46.613Z"
   },
   {
    "duration": 771,
    "start_time": "2023-02-24T08:21:46.288Z"
   },
   {
    "duration": 3,
    "start_time": "2023-02-24T08:52:26.671Z"
   },
   {
    "duration": 1365,
    "start_time": "2023-02-24T08:59:08.913Z"
   },
   {
    "duration": 1885,
    "start_time": "2023-02-24T08:59:10.281Z"
   },
   {
    "duration": 18,
    "start_time": "2023-02-24T08:59:12.168Z"
   },
   {
    "duration": 14,
    "start_time": "2023-02-24T08:59:12.187Z"
   },
   {
    "duration": 22,
    "start_time": "2023-02-24T08:59:12.203Z"
   },
   {
    "duration": 21,
    "start_time": "2023-02-24T08:59:12.227Z"
   },
   {
    "duration": 56,
    "start_time": "2023-02-24T08:59:12.249Z"
   },
   {
    "duration": 243,
    "start_time": "2023-02-24T08:59:12.307Z"
   },
   {
    "duration": 12,
    "start_time": "2023-02-24T08:59:12.552Z"
   },
   {
    "duration": 6,
    "start_time": "2023-02-24T08:59:12.566Z"
   },
   {
    "duration": 40,
    "start_time": "2023-02-24T08:59:12.573Z"
   },
   {
    "duration": 12,
    "start_time": "2023-02-24T08:59:12.615Z"
   },
   {
    "duration": 9,
    "start_time": "2023-02-24T08:59:12.629Z"
   },
   {
    "duration": 21,
    "start_time": "2023-02-24T08:59:12.641Z"
   },
   {
    "duration": 4,
    "start_time": "2023-02-24T08:59:12.664Z"
   },
   {
    "duration": 8,
    "start_time": "2023-02-24T08:59:12.670Z"
   },
   {
    "duration": 40,
    "start_time": "2023-02-24T08:59:12.679Z"
   },
   {
    "duration": 5,
    "start_time": "2023-02-24T08:59:12.722Z"
   },
   {
    "duration": 25,
    "start_time": "2023-02-24T08:59:12.728Z"
   },
   {
    "duration": 2,
    "start_time": "2023-02-24T08:59:12.755Z"
   },
   {
    "duration": 11,
    "start_time": "2023-02-24T08:59:12.758Z"
   },
   {
    "duration": 9,
    "start_time": "2023-02-24T08:59:12.770Z"
   },
   {
    "duration": 6,
    "start_time": "2023-02-24T08:59:12.812Z"
   },
   {
    "duration": 1012,
    "start_time": "2023-02-24T08:59:12.821Z"
   },
   {
    "duration": 1112,
    "start_time": "2023-02-24T08:59:13.834Z"
   },
   {
    "duration": 1104,
    "start_time": "2023-02-24T08:59:14.947Z"
   },
   {
    "duration": 201,
    "start_time": "2023-02-24T08:59:16.053Z"
   },
   {
    "duration": 6,
    "start_time": "2023-02-24T08:59:16.256Z"
   },
   {
    "duration": 10,
    "start_time": "2023-02-24T08:59:16.263Z"
   },
   {
    "duration": 6,
    "start_time": "2023-02-24T08:59:16.275Z"
   },
   {
    "duration": 1514,
    "start_time": "2023-02-24T08:59:16.283Z"
   },
   {
    "duration": 1186,
    "start_time": "2023-02-24T08:59:17.799Z"
   },
   {
    "duration": 25,
    "start_time": "2023-02-24T08:59:18.987Z"
   },
   {
    "duration": 18,
    "start_time": "2023-02-24T08:59:19.013Z"
   },
   {
    "duration": 714,
    "start_time": "2023-02-24T08:59:19.033Z"
   },
   {
    "duration": 141,
    "start_time": "2023-02-24T08:59:19.749Z"
   },
   {
    "duration": 13,
    "start_time": "2023-02-24T08:59:19.892Z"
   },
   {
    "duration": 14,
    "start_time": "2023-02-24T08:59:19.909Z"
   },
   {
    "duration": 10,
    "start_time": "2023-02-24T08:59:19.925Z"
   },
   {
    "duration": 120,
    "start_time": "2023-02-24T08:59:19.936Z"
   },
   {
    "duration": 1,
    "start_time": "2023-02-24T08:59:20.057Z"
   },
   {
    "duration": 0,
    "start_time": "2023-02-24T08:59:20.059Z"
   },
   {
    "duration": 0,
    "start_time": "2023-02-24T08:59:20.060Z"
   },
   {
    "duration": 0,
    "start_time": "2023-02-24T08:59:20.062Z"
   },
   {
    "duration": 121,
    "start_time": "2023-02-24T10:23:50.714Z"
   },
   {
    "duration": 794,
    "start_time": "2023-02-24T10:39:19.508Z"
   },
   {
    "duration": 1373,
    "start_time": "2023-02-24T10:39:36.442Z"
   },
   {
    "duration": 700,
    "start_time": "2023-02-24T10:39:37.817Z"
   },
   {
    "duration": 19,
    "start_time": "2023-02-24T10:39:38.518Z"
   },
   {
    "duration": 16,
    "start_time": "2023-02-24T10:39:38.538Z"
   },
   {
    "duration": 18,
    "start_time": "2023-02-24T10:39:38.556Z"
   },
   {
    "duration": 46,
    "start_time": "2023-02-24T10:39:38.576Z"
   },
   {
    "duration": 32,
    "start_time": "2023-02-24T10:39:38.624Z"
   },
   {
    "duration": 260,
    "start_time": "2023-02-24T10:39:38.657Z"
   },
   {
    "duration": 12,
    "start_time": "2023-02-24T10:39:38.919Z"
   },
   {
    "duration": 6,
    "start_time": "2023-02-24T10:39:38.933Z"
   },
   {
    "duration": 6,
    "start_time": "2023-02-24T10:39:38.940Z"
   },
   {
    "duration": 10,
    "start_time": "2023-02-24T10:39:38.948Z"
   },
   {
    "duration": 6,
    "start_time": "2023-02-24T10:39:38.959Z"
   },
   {
    "duration": 152,
    "start_time": "2023-02-24T10:39:38.970Z"
   },
   {
    "duration": 0,
    "start_time": "2023-02-24T10:39:39.124Z"
   },
   {
    "duration": 0,
    "start_time": "2023-02-24T10:39:39.125Z"
   },
   {
    "duration": 0,
    "start_time": "2023-02-24T10:39:39.126Z"
   },
   {
    "duration": 0,
    "start_time": "2023-02-24T10:39:39.128Z"
   },
   {
    "duration": 0,
    "start_time": "2023-02-24T10:39:39.129Z"
   },
   {
    "duration": 0,
    "start_time": "2023-02-24T10:39:39.130Z"
   },
   {
    "duration": 0,
    "start_time": "2023-02-24T10:39:39.131Z"
   },
   {
    "duration": 0,
    "start_time": "2023-02-24T10:39:39.132Z"
   },
   {
    "duration": 0,
    "start_time": "2023-02-24T10:39:39.134Z"
   },
   {
    "duration": 0,
    "start_time": "2023-02-24T10:39:39.135Z"
   },
   {
    "duration": 0,
    "start_time": "2023-02-24T10:39:39.136Z"
   },
   {
    "duration": 0,
    "start_time": "2023-02-24T10:39:39.137Z"
   },
   {
    "duration": 0,
    "start_time": "2023-02-24T10:39:39.140Z"
   },
   {
    "duration": 0,
    "start_time": "2023-02-24T10:39:39.141Z"
   },
   {
    "duration": 0,
    "start_time": "2023-02-24T10:39:39.142Z"
   },
   {
    "duration": 1,
    "start_time": "2023-02-24T10:39:39.144Z"
   },
   {
    "duration": 0,
    "start_time": "2023-02-24T10:39:39.146Z"
   },
   {
    "duration": 0,
    "start_time": "2023-02-24T10:39:39.147Z"
   },
   {
    "duration": 0,
    "start_time": "2023-02-24T10:39:39.149Z"
   },
   {
    "duration": 0,
    "start_time": "2023-02-24T10:39:39.149Z"
   },
   {
    "duration": 0,
    "start_time": "2023-02-24T10:39:39.151Z"
   },
   {
    "duration": 0,
    "start_time": "2023-02-24T10:39:39.152Z"
   },
   {
    "duration": 0,
    "start_time": "2023-02-24T10:39:39.153Z"
   },
   {
    "duration": 0,
    "start_time": "2023-02-24T10:39:39.154Z"
   },
   {
    "duration": 0,
    "start_time": "2023-02-24T10:39:39.155Z"
   },
   {
    "duration": 0,
    "start_time": "2023-02-24T10:39:39.157Z"
   },
   {
    "duration": 0,
    "start_time": "2023-02-24T10:39:39.203Z"
   },
   {
    "duration": 0,
    "start_time": "2023-02-24T10:39:39.204Z"
   },
   {
    "duration": 0,
    "start_time": "2023-02-24T10:39:39.205Z"
   },
   {
    "duration": 1371,
    "start_time": "2023-02-24T10:40:36.389Z"
   },
   {
    "duration": 689,
    "start_time": "2023-02-24T10:40:37.762Z"
   },
   {
    "duration": 18,
    "start_time": "2023-02-24T10:40:38.453Z"
   },
   {
    "duration": 14,
    "start_time": "2023-02-24T10:40:38.473Z"
   },
   {
    "duration": 17,
    "start_time": "2023-02-24T10:40:38.503Z"
   },
   {
    "duration": 19,
    "start_time": "2023-02-24T10:40:38.522Z"
   },
   {
    "duration": 31,
    "start_time": "2023-02-24T10:40:38.543Z"
   },
   {
    "duration": 280,
    "start_time": "2023-02-24T10:40:38.576Z"
   },
   {
    "duration": 13,
    "start_time": "2023-02-24T10:40:38.858Z"
   },
   {
    "duration": 9,
    "start_time": "2023-02-24T10:40:38.875Z"
   },
   {
    "duration": 17,
    "start_time": "2023-02-24T10:40:38.886Z"
   },
   {
    "duration": 7,
    "start_time": "2023-02-24T10:40:38.905Z"
   },
   {
    "duration": 3,
    "start_time": "2023-02-24T10:40:38.914Z"
   },
   {
    "duration": 30,
    "start_time": "2023-02-24T10:40:38.919Z"
   },
   {
    "duration": 9,
    "start_time": "2023-02-24T10:40:38.951Z"
   },
   {
    "duration": 11,
    "start_time": "2023-02-24T10:40:38.962Z"
   },
   {
    "duration": 29,
    "start_time": "2023-02-24T10:40:38.975Z"
   },
   {
    "duration": 999,
    "start_time": "2023-02-24T10:40:39.006Z"
   },
   {
    "duration": 876,
    "start_time": "2023-02-24T10:40:40.007Z"
   },
   {
    "duration": 1104,
    "start_time": "2023-02-24T10:40:40.885Z"
   },
   {
    "duration": 209,
    "start_time": "2023-02-24T10:40:41.991Z"
   },
   {
    "duration": 10,
    "start_time": "2023-02-24T10:40:42.202Z"
   },
   {
    "duration": 12,
    "start_time": "2023-02-24T10:40:42.214Z"
   },
   {
    "duration": 4,
    "start_time": "2023-02-24T10:40:42.229Z"
   },
   {
    "duration": 1587,
    "start_time": "2023-02-24T10:40:42.235Z"
   },
   {
    "duration": 1302,
    "start_time": "2023-02-24T10:40:43.824Z"
   },
   {
    "duration": 17,
    "start_time": "2023-02-24T10:40:45.128Z"
   },
   {
    "duration": 19,
    "start_time": "2023-02-24T10:40:45.149Z"
   },
   {
    "duration": 740,
    "start_time": "2023-02-24T10:40:45.170Z"
   },
   {
    "duration": 243,
    "start_time": "2023-02-24T10:40:45.912Z"
   },
   {
    "duration": 5,
    "start_time": "2023-02-24T10:40:46.157Z"
   },
   {
    "duration": 9,
    "start_time": "2023-02-24T10:40:46.163Z"
   },
   {
    "duration": 816,
    "start_time": "2023-02-24T10:40:46.173Z"
   },
   {
    "duration": 0,
    "start_time": "2023-02-24T10:40:46.991Z"
   },
   {
    "duration": 0,
    "start_time": "2023-02-24T10:40:46.992Z"
   },
   {
    "duration": 0,
    "start_time": "2023-02-24T10:40:46.994Z"
   },
   {
    "duration": 0,
    "start_time": "2023-02-24T10:40:46.995Z"
   },
   {
    "duration": 0,
    "start_time": "2023-02-24T10:40:46.996Z"
   },
   {
    "duration": 0,
    "start_time": "2023-02-24T10:40:46.997Z"
   },
   {
    "duration": 0,
    "start_time": "2023-02-24T10:40:46.998Z"
   },
   {
    "duration": 0,
    "start_time": "2023-02-24T10:40:46.999Z"
   },
   {
    "duration": 0,
    "start_time": "2023-02-24T10:40:47.000Z"
   },
   {
    "duration": 0,
    "start_time": "2023-02-24T10:40:47.002Z"
   },
   {
    "duration": 34,
    "start_time": "2023-02-24T11:03:19.389Z"
   },
   {
    "duration": 1374,
    "start_time": "2023-02-24T11:03:26.376Z"
   },
   {
    "duration": 691,
    "start_time": "2023-02-24T11:03:27.752Z"
   },
   {
    "duration": 19,
    "start_time": "2023-02-24T11:03:28.444Z"
   },
   {
    "duration": 15,
    "start_time": "2023-02-24T11:03:28.465Z"
   },
   {
    "duration": 36,
    "start_time": "2023-02-24T11:03:28.482Z"
   },
   {
    "duration": 21,
    "start_time": "2023-02-24T11:03:28.520Z"
   },
   {
    "duration": 31,
    "start_time": "2023-02-24T11:03:28.544Z"
   },
   {
    "duration": 236,
    "start_time": "2023-02-24T11:03:28.602Z"
   },
   {
    "duration": 12,
    "start_time": "2023-02-24T11:03:28.840Z"
   },
   {
    "duration": 6,
    "start_time": "2023-02-24T11:03:28.855Z"
   },
   {
    "duration": 18,
    "start_time": "2023-02-24T11:03:28.863Z"
   },
   {
    "duration": 26,
    "start_time": "2023-02-24T11:03:28.883Z"
   },
   {
    "duration": 5,
    "start_time": "2023-02-24T11:03:28.910Z"
   },
   {
    "duration": 35,
    "start_time": "2023-02-24T11:03:28.916Z"
   },
   {
    "duration": 10,
    "start_time": "2023-02-24T11:03:28.953Z"
   },
   {
    "duration": 10,
    "start_time": "2023-02-24T11:03:28.965Z"
   },
   {
    "duration": 26,
    "start_time": "2023-02-24T11:03:28.977Z"
   },
   {
    "duration": 983,
    "start_time": "2023-02-24T11:03:29.005Z"
   },
   {
    "duration": 856,
    "start_time": "2023-02-24T11:03:29.990Z"
   },
   {
    "duration": 1121,
    "start_time": "2023-02-24T11:03:30.848Z"
   },
   {
    "duration": 216,
    "start_time": "2023-02-24T11:03:31.971Z"
   },
   {
    "duration": 14,
    "start_time": "2023-02-24T11:03:32.189Z"
   },
   {
    "duration": 7,
    "start_time": "2023-02-24T11:03:32.205Z"
   },
   {
    "duration": 10,
    "start_time": "2023-02-24T11:03:32.214Z"
   },
   {
    "duration": 1468,
    "start_time": "2023-02-24T11:03:32.227Z"
   },
   {
    "duration": 1252,
    "start_time": "2023-02-24T11:03:33.697Z"
   },
   {
    "duration": 17,
    "start_time": "2023-02-24T11:03:34.950Z"
   },
   {
    "duration": 11,
    "start_time": "2023-02-24T11:03:34.970Z"
   },
   {
    "duration": 712,
    "start_time": "2023-02-24T11:03:34.983Z"
   },
   {
    "duration": 249,
    "start_time": "2023-02-24T11:03:35.698Z"
   },
   {
    "duration": 5,
    "start_time": "2023-02-24T11:03:35.949Z"
   },
   {
    "duration": 5,
    "start_time": "2023-02-24T11:03:35.956Z"
   },
   {
    "duration": 52,
    "start_time": "2023-02-24T11:03:35.962Z"
   },
   {
    "duration": 115,
    "start_time": "2023-02-24T11:03:36.016Z"
   },
   {
    "duration": 0,
    "start_time": "2023-02-24T11:03:36.132Z"
   },
   {
    "duration": 0,
    "start_time": "2023-02-24T11:03:36.134Z"
   },
   {
    "duration": 0,
    "start_time": "2023-02-24T11:03:36.135Z"
   },
   {
    "duration": 0,
    "start_time": "2023-02-24T11:03:36.136Z"
   },
   {
    "duration": 0,
    "start_time": "2023-02-24T11:03:36.137Z"
   },
   {
    "duration": 0,
    "start_time": "2023-02-24T11:03:36.138Z"
   },
   {
    "duration": 0,
    "start_time": "2023-02-24T11:03:36.140Z"
   },
   {
    "duration": 0,
    "start_time": "2023-02-24T11:03:36.141Z"
   },
   {
    "duration": 0,
    "start_time": "2023-02-24T11:03:36.142Z"
   },
   {
    "duration": 33,
    "start_time": "2023-02-24T11:05:34.234Z"
   },
   {
    "duration": 9,
    "start_time": "2023-02-24T11:05:48.533Z"
   },
   {
    "duration": 32,
    "start_time": "2023-02-24T11:05:48.840Z"
   },
   {
    "duration": 1405,
    "start_time": "2023-02-24T11:06:02.167Z"
   },
   {
    "duration": 740,
    "start_time": "2023-02-24T11:06:03.574Z"
   },
   {
    "duration": 19,
    "start_time": "2023-02-24T11:06:04.315Z"
   },
   {
    "duration": 14,
    "start_time": "2023-02-24T11:06:04.335Z"
   },
   {
    "duration": 16,
    "start_time": "2023-02-24T11:06:04.351Z"
   },
   {
    "duration": 48,
    "start_time": "2023-02-24T11:06:04.369Z"
   },
   {
    "duration": 31,
    "start_time": "2023-02-24T11:06:04.419Z"
   },
   {
    "duration": 257,
    "start_time": "2023-02-24T11:06:04.452Z"
   },
   {
    "duration": 12,
    "start_time": "2023-02-24T11:06:04.711Z"
   },
   {
    "duration": 9,
    "start_time": "2023-02-24T11:06:04.725Z"
   },
   {
    "duration": 5,
    "start_time": "2023-02-24T11:06:04.736Z"
   },
   {
    "duration": 9,
    "start_time": "2023-02-24T11:06:04.743Z"
   },
   {
    "duration": 6,
    "start_time": "2023-02-24T11:06:04.753Z"
   },
   {
    "duration": 58,
    "start_time": "2023-02-24T11:06:04.764Z"
   },
   {
    "duration": 10,
    "start_time": "2023-02-24T11:06:04.824Z"
   },
   {
    "duration": 12,
    "start_time": "2023-02-24T11:06:04.836Z"
   },
   {
    "duration": 11,
    "start_time": "2023-02-24T11:06:04.850Z"
   },
   {
    "duration": 1006,
    "start_time": "2023-02-24T11:06:04.862Z"
   },
   {
    "duration": 911,
    "start_time": "2023-02-24T11:06:05.869Z"
   },
   {
    "duration": 1081,
    "start_time": "2023-02-24T11:06:06.782Z"
   },
   {
    "duration": 210,
    "start_time": "2023-02-24T11:06:07.864Z"
   },
   {
    "duration": 6,
    "start_time": "2023-02-24T11:06:08.075Z"
   },
   {
    "duration": 16,
    "start_time": "2023-02-24T11:06:08.082Z"
   },
   {
    "duration": 27,
    "start_time": "2023-02-24T11:06:08.100Z"
   },
   {
    "duration": 1489,
    "start_time": "2023-02-24T11:06:08.129Z"
   },
   {
    "duration": 1149,
    "start_time": "2023-02-24T11:06:09.620Z"
   },
   {
    "duration": 16,
    "start_time": "2023-02-24T11:06:10.771Z"
   },
   {
    "duration": 13,
    "start_time": "2023-02-24T11:06:10.803Z"
   },
   {
    "duration": 710,
    "start_time": "2023-02-24T11:06:10.818Z"
   },
   {
    "duration": 238,
    "start_time": "2023-02-24T11:06:11.530Z"
   },
   {
    "duration": 4,
    "start_time": "2023-02-24T11:06:11.769Z"
   },
   {
    "duration": 9,
    "start_time": "2023-02-24T11:06:11.775Z"
   },
   {
    "duration": 11,
    "start_time": "2023-02-24T11:06:11.786Z"
   },
   {
    "duration": 60,
    "start_time": "2023-02-24T11:06:11.798Z"
   },
   {
    "duration": 5,
    "start_time": "2023-02-24T11:06:11.859Z"
   },
   {
    "duration": 4,
    "start_time": "2023-02-24T11:06:11.866Z"
   },
   {
    "duration": 14,
    "start_time": "2023-02-24T11:06:11.871Z"
   },
   {
    "duration": 127,
    "start_time": "2023-02-24T11:06:11.886Z"
   },
   {
    "duration": 0,
    "start_time": "2023-02-24T11:06:12.018Z"
   },
   {
    "duration": 0,
    "start_time": "2023-02-24T11:06:12.020Z"
   },
   {
    "duration": 0,
    "start_time": "2023-02-24T11:06:12.021Z"
   },
   {
    "duration": 0,
    "start_time": "2023-02-24T11:06:12.022Z"
   },
   {
    "duration": 0,
    "start_time": "2023-02-24T11:06:12.023Z"
   },
   {
    "duration": 19,
    "start_time": "2023-02-24T11:06:47.532Z"
   },
   {
    "duration": 1295,
    "start_time": "2023-02-24T11:07:17.563Z"
   },
   {
    "duration": 663,
    "start_time": "2023-02-24T11:07:18.860Z"
   },
   {
    "duration": 19,
    "start_time": "2023-02-24T11:07:19.524Z"
   },
   {
    "duration": 14,
    "start_time": "2023-02-24T11:07:19.545Z"
   },
   {
    "duration": 18,
    "start_time": "2023-02-24T11:07:19.561Z"
   },
   {
    "duration": 42,
    "start_time": "2023-02-24T11:07:19.581Z"
   },
   {
    "duration": 32,
    "start_time": "2023-02-24T11:07:19.624Z"
   },
   {
    "duration": 262,
    "start_time": "2023-02-24T11:07:19.659Z"
   },
   {
    "duration": 13,
    "start_time": "2023-02-24T11:07:19.923Z"
   },
   {
    "duration": 6,
    "start_time": "2023-02-24T11:07:19.939Z"
   },
   {
    "duration": 5,
    "start_time": "2023-02-24T11:07:19.947Z"
   },
   {
    "duration": 6,
    "start_time": "2023-02-24T11:07:19.954Z"
   },
   {
    "duration": 42,
    "start_time": "2023-02-24T11:07:19.961Z"
   },
   {
    "duration": 27,
    "start_time": "2023-02-24T11:07:20.006Z"
   },
   {
    "duration": 9,
    "start_time": "2023-02-24T11:07:20.035Z"
   },
   {
    "duration": 10,
    "start_time": "2023-02-24T11:07:20.046Z"
   },
   {
    "duration": 9,
    "start_time": "2023-02-24T11:07:20.058Z"
   },
   {
    "duration": 955,
    "start_time": "2023-02-24T11:07:20.069Z"
   },
   {
    "duration": 848,
    "start_time": "2023-02-24T11:07:21.025Z"
   },
   {
    "duration": 1017,
    "start_time": "2023-02-24T11:07:21.875Z"
   },
   {
    "duration": 218,
    "start_time": "2023-02-24T11:07:22.894Z"
   },
   {
    "duration": 5,
    "start_time": "2023-02-24T11:07:23.114Z"
   },
   {
    "duration": 8,
    "start_time": "2023-02-24T11:07:23.121Z"
   },
   {
    "duration": 5,
    "start_time": "2023-02-24T11:07:23.131Z"
   },
   {
    "duration": 1539,
    "start_time": "2023-02-24T11:07:23.137Z"
   },
   {
    "duration": 1128,
    "start_time": "2023-02-24T11:07:24.677Z"
   },
   {
    "duration": 14,
    "start_time": "2023-02-24T11:07:25.807Z"
   },
   {
    "duration": 12,
    "start_time": "2023-02-24T11:07:25.824Z"
   },
   {
    "duration": 689,
    "start_time": "2023-02-24T11:07:25.838Z"
   },
   {
    "duration": 236,
    "start_time": "2023-02-24T11:07:26.528Z"
   },
   {
    "duration": 5,
    "start_time": "2023-02-24T11:07:26.766Z"
   },
   {
    "duration": 5,
    "start_time": "2023-02-24T11:07:26.773Z"
   },
   {
    "duration": 7,
    "start_time": "2023-02-24T11:07:26.780Z"
   },
   {
    "duration": 44,
    "start_time": "2023-02-24T11:07:26.789Z"
   },
   {
    "duration": 5,
    "start_time": "2023-02-24T11:07:26.834Z"
   },
   {
    "duration": 5,
    "start_time": "2023-02-24T11:07:26.841Z"
   },
   {
    "duration": 14,
    "start_time": "2023-02-24T11:07:26.847Z"
   },
   {
    "duration": 20,
    "start_time": "2023-02-24T11:07:26.863Z"
   },
   {
    "duration": 172,
    "start_time": "2023-02-24T11:07:26.885Z"
   },
   {
    "duration": 0,
    "start_time": "2023-02-24T11:07:27.059Z"
   },
   {
    "duration": 0,
    "start_time": "2023-02-24T11:07:27.060Z"
   },
   {
    "duration": 0,
    "start_time": "2023-02-24T11:07:27.061Z"
   },
   {
    "duration": 0,
    "start_time": "2023-02-24T11:07:27.062Z"
   },
   {
    "duration": 1303,
    "start_time": "2023-02-24T11:08:52.635Z"
   },
   {
    "duration": 721,
    "start_time": "2023-02-24T11:08:53.940Z"
   },
   {
    "duration": 19,
    "start_time": "2023-02-24T11:08:54.663Z"
   },
   {
    "duration": 30,
    "start_time": "2023-02-24T11:08:54.684Z"
   },
   {
    "duration": 19,
    "start_time": "2023-02-24T11:08:54.716Z"
   },
   {
    "duration": 20,
    "start_time": "2023-02-24T11:08:54.736Z"
   },
   {
    "duration": 53,
    "start_time": "2023-02-24T11:08:54.758Z"
   },
   {
    "duration": 240,
    "start_time": "2023-02-24T11:08:54.813Z"
   },
   {
    "duration": 12,
    "start_time": "2023-02-24T11:08:55.055Z"
   },
   {
    "duration": 7,
    "start_time": "2023-02-24T11:08:55.069Z"
   },
   {
    "duration": 26,
    "start_time": "2023-02-24T11:08:55.078Z"
   },
   {
    "duration": 11,
    "start_time": "2023-02-24T11:08:55.105Z"
   },
   {
    "duration": 5,
    "start_time": "2023-02-24T11:08:55.117Z"
   },
   {
    "duration": 26,
    "start_time": "2023-02-24T11:08:55.124Z"
   },
   {
    "duration": 8,
    "start_time": "2023-02-24T11:08:55.152Z"
   },
   {
    "duration": 10,
    "start_time": "2023-02-24T11:08:55.162Z"
   },
   {
    "duration": 8,
    "start_time": "2023-02-24T11:08:55.174Z"
   },
   {
    "duration": 925,
    "start_time": "2023-02-24T11:08:55.184Z"
   },
   {
    "duration": 852,
    "start_time": "2023-02-24T11:08:56.110Z"
   },
   {
    "duration": 1052,
    "start_time": "2023-02-24T11:08:56.965Z"
   },
   {
    "duration": 204,
    "start_time": "2023-02-24T11:08:58.020Z"
   },
   {
    "duration": 5,
    "start_time": "2023-02-24T11:08:58.226Z"
   },
   {
    "duration": 10,
    "start_time": "2023-02-24T11:08:58.233Z"
   },
   {
    "duration": 5,
    "start_time": "2023-02-24T11:08:58.245Z"
   },
   {
    "duration": 1452,
    "start_time": "2023-02-24T11:08:58.252Z"
   },
   {
    "duration": 1137,
    "start_time": "2023-02-24T11:08:59.706Z"
   },
   {
    "duration": 15,
    "start_time": "2023-02-24T11:09:00.845Z"
   },
   {
    "duration": 29,
    "start_time": "2023-02-24T11:09:00.862Z"
   },
   {
    "duration": 681,
    "start_time": "2023-02-24T11:09:00.893Z"
   },
   {
    "duration": 237,
    "start_time": "2023-02-24T11:09:01.576Z"
   },
   {
    "duration": 6,
    "start_time": "2023-02-24T11:09:01.814Z"
   },
   {
    "duration": 6,
    "start_time": "2023-02-24T11:09:01.821Z"
   },
   {
    "duration": 19,
    "start_time": "2023-02-24T11:09:01.828Z"
   },
   {
    "duration": 36,
    "start_time": "2023-02-24T11:09:01.848Z"
   },
   {
    "duration": 6,
    "start_time": "2023-02-24T11:09:01.885Z"
   },
   {
    "duration": 5,
    "start_time": "2023-02-24T11:09:01.903Z"
   },
   {
    "duration": 22,
    "start_time": "2023-02-24T11:09:01.909Z"
   },
   {
    "duration": 144,
    "start_time": "2023-02-24T11:09:01.933Z"
   },
   {
    "duration": 0,
    "start_time": "2023-02-24T11:09:02.079Z"
   },
   {
    "duration": 0,
    "start_time": "2023-02-24T11:09:02.080Z"
   },
   {
    "duration": 0,
    "start_time": "2023-02-24T11:09:02.082Z"
   },
   {
    "duration": 0,
    "start_time": "2023-02-24T11:09:02.084Z"
   },
   {
    "duration": 0,
    "start_time": "2023-02-24T11:09:02.085Z"
   },
   {
    "duration": 1378,
    "start_time": "2023-02-24T11:10:05.379Z"
   },
   {
    "duration": 2622,
    "start_time": "2023-02-24T11:10:39.481Z"
   },
   {
    "duration": 2801,
    "start_time": "2023-02-24T11:10:50.939Z"
   },
   {
    "duration": 13,
    "start_time": "2023-02-24T11:16:29.340Z"
   },
   {
    "duration": 21,
    "start_time": "2023-02-24T11:16:46.868Z"
   },
   {
    "duration": 2,
    "start_time": "2023-02-24T11:16:51.046Z"
   },
   {
    "duration": 21,
    "start_time": "2023-02-24T11:16:51.456Z"
   },
   {
    "duration": 25,
    "start_time": "2023-02-24T11:17:07.934Z"
   },
   {
    "duration": 20,
    "start_time": "2023-02-24T11:17:12.133Z"
   },
   {
    "duration": 22,
    "start_time": "2023-02-24T11:17:37.017Z"
   },
   {
    "duration": 26,
    "start_time": "2023-02-24T11:21:42.371Z"
   },
   {
    "duration": 3,
    "start_time": "2023-02-24T11:21:49.045Z"
   },
   {
    "duration": 28,
    "start_time": "2023-02-24T11:21:49.580Z"
   },
   {
    "duration": 2,
    "start_time": "2023-02-24T11:22:58.662Z"
   },
   {
    "duration": 36,
    "start_time": "2023-02-24T11:22:59.122Z"
   },
   {
    "duration": 22,
    "start_time": "2023-02-24T11:23:26.873Z"
   },
   {
    "duration": 1353,
    "start_time": "2023-02-24T11:23:36.641Z"
   },
   {
    "duration": 714,
    "start_time": "2023-02-24T11:23:37.996Z"
   },
   {
    "duration": 23,
    "start_time": "2023-02-24T11:23:38.712Z"
   },
   {
    "duration": 14,
    "start_time": "2023-02-24T11:23:38.737Z"
   },
   {
    "duration": 17,
    "start_time": "2023-02-24T11:23:38.753Z"
   },
   {
    "duration": 49,
    "start_time": "2023-02-24T11:23:38.771Z"
   },
   {
    "duration": 30,
    "start_time": "2023-02-24T11:23:38.822Z"
   },
   {
    "duration": 255,
    "start_time": "2023-02-24T11:23:38.854Z"
   },
   {
    "duration": 15,
    "start_time": "2023-02-24T11:23:39.111Z"
   },
   {
    "duration": 8,
    "start_time": "2023-02-24T11:23:39.129Z"
   },
   {
    "duration": 6,
    "start_time": "2023-02-24T11:23:39.139Z"
   },
   {
    "duration": 6,
    "start_time": "2023-02-24T11:23:39.147Z"
   },
   {
    "duration": 4,
    "start_time": "2023-02-24T11:23:39.155Z"
   },
   {
    "duration": 59,
    "start_time": "2023-02-24T11:23:39.161Z"
   },
   {
    "duration": 11,
    "start_time": "2023-02-24T11:23:39.222Z"
   },
   {
    "duration": 21,
    "start_time": "2023-02-24T11:23:39.234Z"
   },
   {
    "duration": 7,
    "start_time": "2023-02-24T11:23:39.257Z"
   },
   {
    "duration": 996,
    "start_time": "2023-02-24T11:23:39.266Z"
   },
   {
    "duration": 946,
    "start_time": "2023-02-24T11:23:40.264Z"
   },
   {
    "duration": 1081,
    "start_time": "2023-02-24T11:23:41.214Z"
   },
   {
    "duration": 193,
    "start_time": "2023-02-24T11:23:42.304Z"
   },
   {
    "duration": 21,
    "start_time": "2023-02-24T11:23:42.499Z"
   },
   {
    "duration": 5,
    "start_time": "2023-02-24T11:23:42.522Z"
   },
   {
    "duration": 29,
    "start_time": "2023-02-24T11:23:42.529Z"
   },
   {
    "duration": 1666,
    "start_time": "2023-02-24T11:23:42.560Z"
   },
   {
    "duration": 1303,
    "start_time": "2023-02-24T11:23:44.229Z"
   },
   {
    "duration": 18,
    "start_time": "2023-02-24T11:23:45.534Z"
   },
   {
    "duration": 26,
    "start_time": "2023-02-24T11:23:45.557Z"
   },
   {
    "duration": 736,
    "start_time": "2023-02-24T11:23:45.585Z"
   },
   {
    "duration": 243,
    "start_time": "2023-02-24T11:23:46.322Z"
   },
   {
    "duration": 5,
    "start_time": "2023-02-24T11:23:46.567Z"
   },
   {
    "duration": 8,
    "start_time": "2023-02-24T11:23:46.574Z"
   },
   {
    "duration": 5,
    "start_time": "2023-02-24T11:23:46.584Z"
   },
   {
    "duration": 38,
    "start_time": "2023-02-24T11:23:46.590Z"
   },
   {
    "duration": 5,
    "start_time": "2023-02-24T11:23:46.629Z"
   },
   {
    "duration": 3,
    "start_time": "2023-02-24T11:23:46.636Z"
   },
   {
    "duration": 10,
    "start_time": "2023-02-24T11:23:46.640Z"
   },
   {
    "duration": 143,
    "start_time": "2023-02-24T11:23:46.651Z"
   },
   {
    "duration": 0,
    "start_time": "2023-02-24T11:23:46.796Z"
   },
   {
    "duration": 0,
    "start_time": "2023-02-24T11:23:46.797Z"
   },
   {
    "duration": 0,
    "start_time": "2023-02-24T11:23:46.798Z"
   },
   {
    "duration": 0,
    "start_time": "2023-02-24T11:23:46.802Z"
   },
   {
    "duration": 0,
    "start_time": "2023-02-24T11:23:46.803Z"
   },
   {
    "duration": 14,
    "start_time": "2023-02-24T11:26:09.178Z"
   },
   {
    "duration": 41,
    "start_time": "2023-02-24T11:26:51.132Z"
   },
   {
    "duration": 367,
    "start_time": "2023-02-24T11:26:55.785Z"
   },
   {
    "duration": 9,
    "start_time": "2023-02-24T11:27:06.260Z"
   },
   {
    "duration": 416,
    "start_time": "2023-02-24T11:27:14.934Z"
   },
   {
    "duration": 10,
    "start_time": "2023-02-24T11:27:22.361Z"
   },
   {
    "duration": 12,
    "start_time": "2023-02-24T11:27:34.923Z"
   },
   {
    "duration": 411,
    "start_time": "2023-02-24T11:27:42.743Z"
   },
   {
    "duration": 5,
    "start_time": "2023-02-24T11:35:19.591Z"
   },
   {
    "duration": 398,
    "start_time": "2023-02-24T11:35:38.922Z"
   },
   {
    "duration": 15,
    "start_time": "2023-02-24T11:36:55.139Z"
   },
   {
    "duration": 5,
    "start_time": "2023-02-24T11:37:24.452Z"
   },
   {
    "duration": 11,
    "start_time": "2023-02-24T11:39:12.431Z"
   },
   {
    "duration": 5,
    "start_time": "2023-02-24T11:39:14.916Z"
   },
   {
    "duration": 12,
    "start_time": "2023-02-24T11:39:15.553Z"
   },
   {
    "duration": 13,
    "start_time": "2023-02-24T11:39:29.697Z"
   },
   {
    "duration": 12,
    "start_time": "2023-02-24T11:39:57.084Z"
   },
   {
    "duration": 11,
    "start_time": "2023-02-24T11:40:06.844Z"
   },
   {
    "duration": 11,
    "start_time": "2023-02-24T11:40:08.536Z"
   },
   {
    "duration": 5,
    "start_time": "2023-02-24T11:40:15.739Z"
   },
   {
    "duration": 17,
    "start_time": "2023-02-24T11:40:29.133Z"
   },
   {
    "duration": 4,
    "start_time": "2023-02-24T11:40:42.258Z"
   },
   {
    "duration": 15,
    "start_time": "2023-02-24T11:40:43.023Z"
   },
   {
    "duration": 7,
    "start_time": "2023-02-24T11:41:15.331Z"
   },
   {
    "duration": 1410,
    "start_time": "2023-02-24T11:41:29.744Z"
   },
   {
    "duration": 751,
    "start_time": "2023-02-24T11:41:31.156Z"
   },
   {
    "duration": 21,
    "start_time": "2023-02-24T11:41:31.909Z"
   },
   {
    "duration": 13,
    "start_time": "2023-02-24T11:41:31.932Z"
   },
   {
    "duration": 18,
    "start_time": "2023-02-24T11:41:31.948Z"
   },
   {
    "duration": 50,
    "start_time": "2023-02-24T11:41:31.968Z"
   },
   {
    "duration": 35,
    "start_time": "2023-02-24T11:41:32.019Z"
   },
   {
    "duration": 269,
    "start_time": "2023-02-24T11:41:32.056Z"
   },
   {
    "duration": 13,
    "start_time": "2023-02-24T11:41:32.327Z"
   },
   {
    "duration": 7,
    "start_time": "2023-02-24T11:41:32.341Z"
   },
   {
    "duration": 6,
    "start_time": "2023-02-24T11:41:32.350Z"
   },
   {
    "duration": 8,
    "start_time": "2023-02-24T11:41:32.358Z"
   },
   {
    "duration": 10,
    "start_time": "2023-02-24T11:41:32.368Z"
   },
   {
    "duration": 48,
    "start_time": "2023-02-24T11:41:32.381Z"
   },
   {
    "duration": 10,
    "start_time": "2023-02-24T11:41:32.432Z"
   },
   {
    "duration": 13,
    "start_time": "2023-02-24T11:41:32.444Z"
   },
   {
    "duration": 8,
    "start_time": "2023-02-24T11:41:32.458Z"
   },
   {
    "duration": 1063,
    "start_time": "2023-02-24T11:41:32.468Z"
   },
   {
    "duration": 1031,
    "start_time": "2023-02-24T11:41:33.533Z"
   },
   {
    "duration": 1090,
    "start_time": "2023-02-24T11:41:34.566Z"
   },
   {
    "duration": 203,
    "start_time": "2023-02-24T11:41:35.658Z"
   },
   {
    "duration": 6,
    "start_time": "2023-02-24T11:41:35.862Z"
   },
   {
    "duration": 12,
    "start_time": "2023-02-24T11:41:35.869Z"
   },
   {
    "duration": 5,
    "start_time": "2023-02-24T11:41:35.882Z"
   },
   {
    "duration": 1494,
    "start_time": "2023-02-24T11:41:35.889Z"
   },
   {
    "duration": 1193,
    "start_time": "2023-02-24T11:41:37.386Z"
   },
   {
    "duration": 35,
    "start_time": "2023-02-24T11:41:38.581Z"
   },
   {
    "duration": 12,
    "start_time": "2023-02-24T11:41:38.618Z"
   },
   {
    "duration": 714,
    "start_time": "2023-02-24T11:41:38.633Z"
   },
   {
    "duration": 268,
    "start_time": "2023-02-24T11:41:39.349Z"
   },
   {
    "duration": 6,
    "start_time": "2023-02-24T11:41:39.622Z"
   },
   {
    "duration": 7,
    "start_time": "2023-02-24T11:41:39.630Z"
   },
   {
    "duration": 12,
    "start_time": "2023-02-24T11:41:39.639Z"
   },
   {
    "duration": 31,
    "start_time": "2023-02-24T11:41:39.653Z"
   },
   {
    "duration": 31,
    "start_time": "2023-02-24T11:41:39.687Z"
   },
   {
    "duration": 27,
    "start_time": "2023-02-24T11:41:39.721Z"
   },
   {
    "duration": 8,
    "start_time": "2023-02-24T11:41:39.751Z"
   },
   {
    "duration": 17,
    "start_time": "2023-02-24T11:41:39.761Z"
   },
   {
    "duration": 13,
    "start_time": "2023-02-24T11:41:39.780Z"
   },
   {
    "duration": 46,
    "start_time": "2023-02-24T11:41:39.795Z"
   },
   {
    "duration": 2664,
    "start_time": "2023-02-24T11:41:39.846Z"
   },
   {
    "duration": 17349,
    "start_time": "2023-02-24T11:41:42.520Z"
   },
   {
    "duration": 107384,
    "start_time": "2023-02-24T11:41:59.872Z"
   },
   {
    "duration": 1583,
    "start_time": "2023-02-24T11:43:47.258Z"
   },
   {
    "duration": 2,
    "start_time": "2023-02-24T12:19:08.682Z"
   },
   {
    "duration": 22,
    "start_time": "2023-02-24T12:19:09.066Z"
   },
   {
    "duration": 5,
    "start_time": "2023-02-24T12:19:13.460Z"
   },
   {
    "duration": 1454,
    "start_time": "2023-02-24T12:19:20.418Z"
   },
   {
    "duration": 817,
    "start_time": "2023-02-24T12:19:21.874Z"
   },
   {
    "duration": 30,
    "start_time": "2023-02-24T12:19:22.692Z"
   },
   {
    "duration": 21,
    "start_time": "2023-02-24T12:19:22.728Z"
   },
   {
    "duration": 24,
    "start_time": "2023-02-24T12:19:22.751Z"
   },
   {
    "duration": 50,
    "start_time": "2023-02-24T12:19:22.777Z"
   },
   {
    "duration": 34,
    "start_time": "2023-02-24T12:19:22.829Z"
   },
   {
    "duration": 298,
    "start_time": "2023-02-24T12:19:22.865Z"
   },
   {
    "duration": 12,
    "start_time": "2023-02-24T12:19:23.164Z"
   },
   {
    "duration": 36,
    "start_time": "2023-02-24T12:19:23.179Z"
   },
   {
    "duration": 31,
    "start_time": "2023-02-24T12:19:23.221Z"
   },
   {
    "duration": 8,
    "start_time": "2023-02-24T12:19:23.254Z"
   },
   {
    "duration": 6,
    "start_time": "2023-02-24T12:19:23.263Z"
   },
   {
    "duration": 52,
    "start_time": "2023-02-24T12:19:23.271Z"
   },
   {
    "duration": 9,
    "start_time": "2023-02-24T12:19:23.331Z"
   },
   {
    "duration": 14,
    "start_time": "2023-02-24T12:19:23.342Z"
   },
   {
    "duration": 11,
    "start_time": "2023-02-24T12:19:23.358Z"
   },
   {
    "duration": 1347,
    "start_time": "2023-02-24T12:19:23.371Z"
   },
   {
    "duration": 1074,
    "start_time": "2023-02-24T12:19:24.725Z"
   },
   {
    "duration": 1369,
    "start_time": "2023-02-24T12:19:25.801Z"
   },
   {
    "duration": 247,
    "start_time": "2023-02-24T12:19:27.172Z"
   },
   {
    "duration": 7,
    "start_time": "2023-02-24T12:19:27.426Z"
   },
   {
    "duration": 19,
    "start_time": "2023-02-24T12:19:27.435Z"
   },
   {
    "duration": 10,
    "start_time": "2023-02-24T12:19:27.457Z"
   },
   {
    "duration": 1656,
    "start_time": "2023-02-24T12:19:27.469Z"
   },
   {
    "duration": 1438,
    "start_time": "2023-02-24T12:19:29.126Z"
   },
   {
    "duration": 65,
    "start_time": "2023-02-24T12:19:30.566Z"
   },
   {
    "duration": 86,
    "start_time": "2023-02-24T12:19:30.635Z"
   },
   {
    "duration": 2092,
    "start_time": "2023-02-24T12:19:30.724Z"
   },
   {
    "duration": 108,
    "start_time": "2023-02-24T12:19:32.818Z"
   },
   {
    "duration": 5,
    "start_time": "2023-02-24T12:19:32.929Z"
   },
   {
    "duration": 12,
    "start_time": "2023-02-24T12:19:32.936Z"
   },
   {
    "duration": 5,
    "start_time": "2023-02-24T12:19:32.951Z"
   },
   {
    "duration": 31,
    "start_time": "2023-02-24T12:19:32.957Z"
   },
   {
    "duration": 29,
    "start_time": "2023-02-24T12:19:32.990Z"
   },
   {
    "duration": 41,
    "start_time": "2023-02-24T12:19:33.024Z"
   },
   {
    "duration": 34,
    "start_time": "2023-02-24T12:19:33.067Z"
   },
   {
    "duration": 33,
    "start_time": "2023-02-24T12:19:33.103Z"
   },
   {
    "duration": 30,
    "start_time": "2023-02-24T12:19:33.139Z"
   },
   {
    "duration": 2949,
    "start_time": "2023-02-24T12:19:33.171Z"
   },
   {
    "duration": 17752,
    "start_time": "2023-02-24T12:19:36.128Z"
   },
   {
    "duration": 112013,
    "start_time": "2023-02-24T12:19:53.882Z"
   },
   {
    "duration": 1640,
    "start_time": "2023-02-24T12:21:45.897Z"
   },
   {
    "duration": 47,
    "start_time": "2023-02-24T12:30:37.910Z"
   },
   {
    "duration": 54,
    "start_time": "2023-02-24T12:31:16.236Z"
   },
   {
    "duration": 45,
    "start_time": "2023-02-24T12:31:21.797Z"
   },
   {
    "duration": 43,
    "start_time": "2023-02-24T12:31:26.307Z"
   },
   {
    "duration": 46,
    "start_time": "2023-02-24T12:31:30.739Z"
   },
   {
    "duration": 52,
    "start_time": "2023-02-24T12:31:35.304Z"
   },
   {
    "duration": 46,
    "start_time": "2023-02-24T12:31:59.034Z"
   },
   {
    "duration": 44,
    "start_time": "2023-02-24T12:32:27.075Z"
   },
   {
    "duration": 45,
    "start_time": "2023-02-24T12:32:35.148Z"
   },
   {
    "duration": 52,
    "start_time": "2023-02-24T12:32:40.213Z"
   },
   {
    "duration": 43,
    "start_time": "2023-02-24T12:32:49.841Z"
   },
   {
    "duration": 13,
    "start_time": "2023-02-24T12:33:07.857Z"
   },
   {
    "duration": 12,
    "start_time": "2023-02-24T12:33:17.878Z"
   },
   {
    "duration": 5,
    "start_time": "2023-02-24T12:33:19.716Z"
   },
   {
    "duration": 6,
    "start_time": "2023-02-24T12:33:33.811Z"
   },
   {
    "duration": 16,
    "start_time": "2023-02-24T12:35:43.307Z"
   },
   {
    "duration": 19,
    "start_time": "2023-02-24T12:36:48.030Z"
   },
   {
    "duration": 3,
    "start_time": "2023-02-24T12:37:32.930Z"
   },
   {
    "duration": 1550,
    "start_time": "2023-02-24T12:40:13.401Z"
   },
   {
    "duration": 750,
    "start_time": "2023-02-24T12:40:14.953Z"
   },
   {
    "duration": 28,
    "start_time": "2023-02-24T12:40:15.705Z"
   },
   {
    "duration": 15,
    "start_time": "2023-02-24T12:40:15.735Z"
   },
   {
    "duration": 18,
    "start_time": "2023-02-24T12:40:15.751Z"
   },
   {
    "duration": 44,
    "start_time": "2023-02-24T12:40:15.771Z"
   },
   {
    "duration": 31,
    "start_time": "2023-02-24T12:40:15.817Z"
   },
   {
    "duration": 274,
    "start_time": "2023-02-24T12:40:15.850Z"
   },
   {
    "duration": 13,
    "start_time": "2023-02-24T12:40:16.126Z"
   },
   {
    "duration": 5,
    "start_time": "2023-02-24T12:40:16.143Z"
   },
   {
    "duration": 7,
    "start_time": "2023-02-24T12:40:16.150Z"
   },
   {
    "duration": 6,
    "start_time": "2023-02-24T12:40:16.159Z"
   },
   {
    "duration": 37,
    "start_time": "2023-02-24T12:40:16.168Z"
   },
   {
    "duration": 44,
    "start_time": "2023-02-24T12:40:16.207Z"
   },
   {
    "duration": 8,
    "start_time": "2023-02-24T12:40:16.253Z"
   },
   {
    "duration": 11,
    "start_time": "2023-02-24T12:40:16.263Z"
   },
   {
    "duration": 8,
    "start_time": "2023-02-24T12:40:16.276Z"
   },
   {
    "duration": 1056,
    "start_time": "2023-02-24T12:40:16.286Z"
   },
   {
    "duration": 990,
    "start_time": "2023-02-24T12:40:17.344Z"
   },
   {
    "duration": 1173,
    "start_time": "2023-02-24T12:40:18.336Z"
   },
   {
    "duration": 236,
    "start_time": "2023-02-24T12:40:19.511Z"
   },
   {
    "duration": 6,
    "start_time": "2023-02-24T12:40:19.749Z"
   },
   {
    "duration": 11,
    "start_time": "2023-02-24T12:40:19.756Z"
   },
   {
    "duration": 6,
    "start_time": "2023-02-24T12:40:19.768Z"
   },
   {
    "duration": 1600,
    "start_time": "2023-02-24T12:40:19.776Z"
   },
   {
    "duration": 1257,
    "start_time": "2023-02-24T12:40:21.377Z"
   },
   {
    "duration": 18,
    "start_time": "2023-02-24T12:40:22.636Z"
   },
   {
    "duration": 11,
    "start_time": "2023-02-24T12:40:22.659Z"
   },
   {
    "duration": 762,
    "start_time": "2023-02-24T12:40:22.672Z"
   },
   {
    "duration": 117,
    "start_time": "2023-02-24T12:40:23.435Z"
   },
   {
    "duration": 4,
    "start_time": "2023-02-24T12:40:23.554Z"
   },
   {
    "duration": 5,
    "start_time": "2023-02-24T12:40:23.560Z"
   },
   {
    "duration": 7,
    "start_time": "2023-02-24T12:40:23.567Z"
   },
   {
    "duration": 28,
    "start_time": "2023-02-24T12:40:23.575Z"
   },
   {
    "duration": 10,
    "start_time": "2023-02-24T12:40:23.605Z"
   },
   {
    "duration": 11,
    "start_time": "2023-02-24T12:40:23.618Z"
   },
   {
    "duration": 9,
    "start_time": "2023-02-24T12:40:23.631Z"
   },
   {
    "duration": 26,
    "start_time": "2023-02-24T12:40:23.642Z"
   },
   {
    "duration": 1646,
    "start_time": "2023-02-24T12:40:23.670Z"
   },
   {
    "duration": 16440,
    "start_time": "2023-02-24T12:40:25.330Z"
   },
   {
    "duration": 1370,
    "start_time": "2023-02-24T12:43:41.054Z"
   },
   {
    "duration": 699,
    "start_time": "2023-02-24T12:43:42.426Z"
   },
   {
    "duration": 20,
    "start_time": "2023-02-24T12:43:43.126Z"
   },
   {
    "duration": 16,
    "start_time": "2023-02-24T12:43:43.148Z"
   },
   {
    "duration": 41,
    "start_time": "2023-02-24T12:43:43.165Z"
   },
   {
    "duration": 27,
    "start_time": "2023-02-24T12:43:43.209Z"
   },
   {
    "duration": 39,
    "start_time": "2023-02-24T12:43:43.238Z"
   },
   {
    "duration": 276,
    "start_time": "2023-02-24T12:43:43.279Z"
   },
   {
    "duration": 15,
    "start_time": "2023-02-24T12:43:43.558Z"
   },
   {
    "duration": 5,
    "start_time": "2023-02-24T12:43:43.576Z"
   },
   {
    "duration": 21,
    "start_time": "2023-02-24T12:43:43.583Z"
   },
   {
    "duration": 7,
    "start_time": "2023-02-24T12:43:43.606Z"
   },
   {
    "duration": 5,
    "start_time": "2023-02-24T12:43:43.615Z"
   },
   {
    "duration": 38,
    "start_time": "2023-02-24T12:43:43.621Z"
   },
   {
    "duration": 10,
    "start_time": "2023-02-24T12:43:43.661Z"
   },
   {
    "duration": 8,
    "start_time": "2023-02-24T12:43:43.673Z"
   },
   {
    "duration": 6,
    "start_time": "2023-02-24T12:43:43.704Z"
   },
   {
    "duration": 1071,
    "start_time": "2023-02-24T12:43:43.711Z"
   },
   {
    "duration": 899,
    "start_time": "2023-02-24T12:43:44.784Z"
   },
   {
    "duration": 1160,
    "start_time": "2023-02-24T12:43:45.685Z"
   },
   {
    "duration": 245,
    "start_time": "2023-02-24T12:43:46.847Z"
   },
   {
    "duration": 13,
    "start_time": "2023-02-24T12:43:47.094Z"
   },
   {
    "duration": 11,
    "start_time": "2023-02-24T12:43:47.109Z"
   },
   {
    "duration": 11,
    "start_time": "2023-02-24T12:43:47.122Z"
   },
   {
    "duration": 1579,
    "start_time": "2023-02-24T12:43:47.135Z"
   },
   {
    "duration": 1279,
    "start_time": "2023-02-24T12:43:48.716Z"
   },
   {
    "duration": 20,
    "start_time": "2023-02-24T12:43:49.997Z"
   },
   {
    "duration": 12,
    "start_time": "2023-02-24T12:43:50.022Z"
   },
   {
    "duration": 718,
    "start_time": "2023-02-24T12:43:50.036Z"
   },
   {
    "duration": 107,
    "start_time": "2023-02-24T12:43:50.755Z"
   },
   {
    "duration": 4,
    "start_time": "2023-02-24T12:43:50.864Z"
   },
   {
    "duration": 6,
    "start_time": "2023-02-24T12:43:50.870Z"
   },
   {
    "duration": 5,
    "start_time": "2023-02-24T12:43:50.878Z"
   },
   {
    "duration": 28,
    "start_time": "2023-02-24T12:43:50.885Z"
   },
   {
    "duration": 6,
    "start_time": "2023-02-24T12:43:50.915Z"
   },
   {
    "duration": 8,
    "start_time": "2023-02-24T12:43:50.922Z"
   },
   {
    "duration": 13,
    "start_time": "2023-02-24T12:43:50.932Z"
   },
   {
    "duration": 35,
    "start_time": "2023-02-24T12:43:50.947Z"
   },
   {
    "duration": 1930,
    "start_time": "2023-02-24T12:43:50.984Z"
   },
   {
    "duration": 15479,
    "start_time": "2023-02-24T12:43:53.003Z"
   },
   {
    "duration": 1373,
    "start_time": "2023-02-24T12:47:06.170Z"
   },
   {
    "duration": 695,
    "start_time": "2023-02-24T12:47:07.544Z"
   },
   {
    "duration": 20,
    "start_time": "2023-02-24T12:47:08.240Z"
   },
   {
    "duration": 15,
    "start_time": "2023-02-24T12:47:08.262Z"
   },
   {
    "duration": 36,
    "start_time": "2023-02-24T12:47:08.278Z"
   },
   {
    "duration": 19,
    "start_time": "2023-02-24T12:47:08.316Z"
   },
   {
    "duration": 29,
    "start_time": "2023-02-24T12:47:08.337Z"
   },
   {
    "duration": 252,
    "start_time": "2023-02-24T12:47:08.367Z"
   },
   {
    "duration": 12,
    "start_time": "2023-02-24T12:47:08.620Z"
   },
   {
    "duration": 6,
    "start_time": "2023-02-24T12:47:08.635Z"
   },
   {
    "duration": 7,
    "start_time": "2023-02-24T12:47:08.643Z"
   },
   {
    "duration": 8,
    "start_time": "2023-02-24T12:47:08.651Z"
   },
   {
    "duration": 9,
    "start_time": "2023-02-24T12:47:08.661Z"
   },
   {
    "duration": 54,
    "start_time": "2023-02-24T12:47:08.672Z"
   },
   {
    "duration": 10,
    "start_time": "2023-02-24T12:47:08.727Z"
   },
   {
    "duration": 8,
    "start_time": "2023-02-24T12:47:08.739Z"
   },
   {
    "duration": 10,
    "start_time": "2023-02-24T12:47:08.749Z"
   },
   {
    "duration": 943,
    "start_time": "2023-02-24T12:47:08.761Z"
   },
   {
    "duration": 881,
    "start_time": "2023-02-24T12:47:09.706Z"
   },
   {
    "duration": 1056,
    "start_time": "2023-02-24T12:47:10.589Z"
   },
   {
    "duration": 212,
    "start_time": "2023-02-24T12:47:11.647Z"
   },
   {
    "duration": 7,
    "start_time": "2023-02-24T12:47:11.861Z"
   },
   {
    "duration": 11,
    "start_time": "2023-02-24T12:47:11.870Z"
   },
   {
    "duration": 5,
    "start_time": "2023-02-24T12:47:11.882Z"
   },
   {
    "duration": 1535,
    "start_time": "2023-02-24T12:47:11.888Z"
   },
   {
    "duration": 1265,
    "start_time": "2023-02-24T12:47:13.425Z"
   },
   {
    "duration": 22,
    "start_time": "2023-02-24T12:47:14.691Z"
   },
   {
    "duration": 13,
    "start_time": "2023-02-24T12:47:14.717Z"
   },
   {
    "duration": 702,
    "start_time": "2023-02-24T12:47:14.732Z"
   },
   {
    "duration": 115,
    "start_time": "2023-02-24T12:47:15.436Z"
   },
   {
    "duration": 5,
    "start_time": "2023-02-24T12:47:15.553Z"
   },
   {
    "duration": 6,
    "start_time": "2023-02-24T12:47:15.559Z"
   },
   {
    "duration": 6,
    "start_time": "2023-02-24T12:47:15.567Z"
   },
   {
    "duration": 29,
    "start_time": "2023-02-24T12:47:15.574Z"
   },
   {
    "duration": 5,
    "start_time": "2023-02-24T12:47:15.605Z"
   },
   {
    "duration": 9,
    "start_time": "2023-02-24T12:47:15.611Z"
   },
   {
    "duration": 10,
    "start_time": "2023-02-24T12:47:15.621Z"
   },
   {
    "duration": 25,
    "start_time": "2023-02-24T12:47:15.632Z"
   },
   {
    "duration": 1147,
    "start_time": "2023-02-24T12:47:15.659Z"
   },
   {
    "duration": 15676,
    "start_time": "2023-02-24T12:47:16.808Z"
   },
   {
    "duration": 1351,
    "start_time": "2023-02-24T12:53:13.996Z"
   },
   {
    "duration": 687,
    "start_time": "2023-02-24T12:53:15.349Z"
   },
   {
    "duration": 18,
    "start_time": "2023-02-24T12:53:16.038Z"
   },
   {
    "duration": 14,
    "start_time": "2023-02-24T12:53:16.058Z"
   },
   {
    "duration": 36,
    "start_time": "2023-02-24T12:53:16.074Z"
   },
   {
    "duration": 20,
    "start_time": "2023-02-24T12:53:16.112Z"
   },
   {
    "duration": 29,
    "start_time": "2023-02-24T12:53:16.134Z"
   },
   {
    "duration": 265,
    "start_time": "2023-02-24T12:53:16.165Z"
   },
   {
    "duration": 12,
    "start_time": "2023-02-24T12:53:16.431Z"
   },
   {
    "duration": 5,
    "start_time": "2023-02-24T12:53:16.445Z"
   },
   {
    "duration": 6,
    "start_time": "2023-02-24T12:53:16.451Z"
   },
   {
    "duration": 10,
    "start_time": "2023-02-24T12:53:16.458Z"
   },
   {
    "duration": 23,
    "start_time": "2023-02-24T12:53:16.470Z"
   },
   {
    "duration": 109,
    "start_time": "2023-02-24T12:53:16.504Z"
   },
   {
    "duration": 0,
    "start_time": "2023-02-24T12:53:16.615Z"
   },
   {
    "duration": 0,
    "start_time": "2023-02-24T12:53:16.616Z"
   },
   {
    "duration": 0,
    "start_time": "2023-02-24T12:53:16.617Z"
   },
   {
    "duration": 0,
    "start_time": "2023-02-24T12:53:16.618Z"
   },
   {
    "duration": 0,
    "start_time": "2023-02-24T12:53:16.619Z"
   },
   {
    "duration": 0,
    "start_time": "2023-02-24T12:53:16.620Z"
   },
   {
    "duration": 0,
    "start_time": "2023-02-24T12:53:16.621Z"
   },
   {
    "duration": 0,
    "start_time": "2023-02-24T12:53:16.622Z"
   },
   {
    "duration": 0,
    "start_time": "2023-02-24T12:53:16.623Z"
   },
   {
    "duration": 0,
    "start_time": "2023-02-24T12:53:16.624Z"
   },
   {
    "duration": 0,
    "start_time": "2023-02-24T12:53:16.625Z"
   },
   {
    "duration": 0,
    "start_time": "2023-02-24T12:53:16.626Z"
   },
   {
    "duration": 0,
    "start_time": "2023-02-24T12:53:16.626Z"
   },
   {
    "duration": 0,
    "start_time": "2023-02-24T12:53:16.628Z"
   },
   {
    "duration": 0,
    "start_time": "2023-02-24T12:53:16.629Z"
   },
   {
    "duration": 1,
    "start_time": "2023-02-24T12:53:16.629Z"
   },
   {
    "duration": 0,
    "start_time": "2023-02-24T12:53:16.630Z"
   },
   {
    "duration": 0,
    "start_time": "2023-02-24T12:53:16.631Z"
   },
   {
    "duration": 0,
    "start_time": "2023-02-24T12:53:16.632Z"
   },
   {
    "duration": 0,
    "start_time": "2023-02-24T12:53:16.633Z"
   },
   {
    "duration": 0,
    "start_time": "2023-02-24T12:53:16.634Z"
   },
   {
    "duration": 0,
    "start_time": "2023-02-24T12:53:16.635Z"
   },
   {
    "duration": 0,
    "start_time": "2023-02-24T12:53:16.636Z"
   },
   {
    "duration": 0,
    "start_time": "2023-02-24T12:53:16.637Z"
   },
   {
    "duration": 0,
    "start_time": "2023-02-24T12:53:16.638Z"
   },
   {
    "duration": 0,
    "start_time": "2023-02-24T12:53:16.639Z"
   },
   {
    "duration": 0,
    "start_time": "2023-02-24T12:53:16.640Z"
   },
   {
    "duration": 0,
    "start_time": "2023-02-24T12:53:16.641Z"
   },
   {
    "duration": 0,
    "start_time": "2023-02-24T12:53:16.642Z"
   },
   {
    "duration": 1302,
    "start_time": "2023-02-24T12:53:33.859Z"
   },
   {
    "duration": 688,
    "start_time": "2023-02-24T12:53:35.163Z"
   },
   {
    "duration": 18,
    "start_time": "2023-02-24T12:53:35.853Z"
   },
   {
    "duration": 14,
    "start_time": "2023-02-24T12:53:35.873Z"
   },
   {
    "duration": 17,
    "start_time": "2023-02-24T12:53:35.904Z"
   },
   {
    "duration": 20,
    "start_time": "2023-02-24T12:53:35.922Z"
   },
   {
    "duration": 30,
    "start_time": "2023-02-24T12:53:35.943Z"
   },
   {
    "duration": 269,
    "start_time": "2023-02-24T12:53:35.975Z"
   },
   {
    "duration": 13,
    "start_time": "2023-02-24T12:53:36.246Z"
   },
   {
    "duration": 5,
    "start_time": "2023-02-24T12:53:36.262Z"
   },
   {
    "duration": 5,
    "start_time": "2023-02-24T12:53:36.269Z"
   },
   {
    "duration": 30,
    "start_time": "2023-02-24T12:53:36.276Z"
   },
   {
    "duration": 3,
    "start_time": "2023-02-24T12:53:36.307Z"
   },
   {
    "duration": 121,
    "start_time": "2023-02-24T12:53:36.311Z"
   },
   {
    "duration": 7,
    "start_time": "2023-02-24T12:53:47.212Z"
   },
   {
    "duration": 7,
    "start_time": "2023-02-24T12:57:06.038Z"
   },
   {
    "duration": 7148,
    "start_time": "2023-02-24T12:57:06.989Z"
   },
   {
    "duration": 0,
    "start_time": "2023-02-24T12:57:14.139Z"
   },
   {
    "duration": 4592,
    "start_time": "2023-02-24T12:58:06.992Z"
   },
   {
    "duration": 15,
    "start_time": "2023-02-24T13:00:31.389Z"
   },
   {
    "duration": 1300,
    "start_time": "2023-02-24T13:02:31.435Z"
   },
   {
    "duration": 693,
    "start_time": "2023-02-24T13:02:32.737Z"
   },
   {
    "duration": 20,
    "start_time": "2023-02-24T13:02:33.432Z"
   },
   {
    "duration": 28,
    "start_time": "2023-02-24T13:02:33.454Z"
   },
   {
    "duration": 24,
    "start_time": "2023-02-24T13:02:33.484Z"
   },
   {
    "duration": 22,
    "start_time": "2023-02-24T13:02:33.510Z"
   },
   {
    "duration": 35,
    "start_time": "2023-02-24T13:02:33.534Z"
   },
   {
    "duration": 264,
    "start_time": "2023-02-24T13:02:33.572Z"
   },
   {
    "duration": 13,
    "start_time": "2023-02-24T13:02:33.837Z"
   },
   {
    "duration": 7,
    "start_time": "2023-02-24T13:02:33.852Z"
   },
   {
    "duration": 6,
    "start_time": "2023-02-24T13:02:33.860Z"
   },
   {
    "duration": 9,
    "start_time": "2023-02-24T13:02:33.868Z"
   },
   {
    "duration": 3,
    "start_time": "2023-02-24T13:02:33.904Z"
   },
   {
    "duration": 8,
    "start_time": "2023-02-24T13:02:33.910Z"
   },
   {
    "duration": 25,
    "start_time": "2023-02-24T13:02:33.920Z"
   },
   {
    "duration": 20,
    "start_time": "2023-02-24T13:02:33.947Z"
   },
   {
    "duration": 36,
    "start_time": "2023-02-24T13:02:33.968Z"
   },
   {
    "duration": 1378,
    "start_time": "2023-02-24T13:03:54.304Z"
   },
   {
    "duration": 654,
    "start_time": "2023-02-24T13:03:55.683Z"
   },
   {
    "duration": 18,
    "start_time": "2023-02-24T13:03:56.339Z"
   },
   {
    "duration": 13,
    "start_time": "2023-02-24T13:03:56.359Z"
   },
   {
    "duration": 38,
    "start_time": "2023-02-24T13:03:56.374Z"
   },
   {
    "duration": 26,
    "start_time": "2023-02-24T13:03:56.414Z"
   },
   {
    "duration": 32,
    "start_time": "2023-02-24T13:03:56.441Z"
   },
   {
    "duration": 263,
    "start_time": "2023-02-24T13:03:56.475Z"
   },
   {
    "duration": 12,
    "start_time": "2023-02-24T13:03:56.740Z"
   },
   {
    "duration": 6,
    "start_time": "2023-02-24T13:03:56.756Z"
   },
   {
    "duration": 7,
    "start_time": "2023-02-24T13:03:56.764Z"
   },
   {
    "duration": 31,
    "start_time": "2023-02-24T13:03:56.773Z"
   },
   {
    "duration": 9,
    "start_time": "2023-02-24T13:03:56.807Z"
   },
   {
    "duration": 11,
    "start_time": "2023-02-24T13:03:56.818Z"
   },
   {
    "duration": 37,
    "start_time": "2023-02-24T13:03:56.831Z"
   },
   {
    "duration": 33,
    "start_time": "2023-02-24T13:03:56.870Z"
   },
   {
    "duration": 7,
    "start_time": "2023-02-24T13:03:56.904Z"
   },
   {
    "duration": 9,
    "start_time": "2023-02-24T13:03:56.913Z"
   },
   {
    "duration": 12,
    "start_time": "2023-02-24T13:03:56.924Z"
   },
   {
    "duration": 19,
    "start_time": "2023-02-24T13:03:56.938Z"
   },
   {
    "duration": 977,
    "start_time": "2023-02-24T13:03:56.959Z"
   },
   {
    "duration": 854,
    "start_time": "2023-02-24T13:03:57.938Z"
   },
   {
    "duration": 1065,
    "start_time": "2023-02-24T13:03:58.794Z"
   },
   {
    "duration": 208,
    "start_time": "2023-02-24T13:03:59.862Z"
   },
   {
    "duration": 10,
    "start_time": "2023-02-24T13:04:00.072Z"
   },
   {
    "duration": 21,
    "start_time": "2023-02-24T13:04:00.084Z"
   },
   {
    "duration": 6,
    "start_time": "2023-02-24T13:04:00.107Z"
   },
   {
    "duration": 1527,
    "start_time": "2023-02-24T13:04:00.118Z"
   },
   {
    "duration": 1153,
    "start_time": "2023-02-24T13:04:01.647Z"
   },
   {
    "duration": 16,
    "start_time": "2023-02-24T13:04:02.802Z"
   },
   {
    "duration": 23,
    "start_time": "2023-02-24T13:04:02.819Z"
   },
   {
    "duration": 690,
    "start_time": "2023-02-24T13:04:02.844Z"
   },
   {
    "duration": 97,
    "start_time": "2023-02-24T13:04:03.536Z"
   },
   {
    "duration": 5,
    "start_time": "2023-02-24T13:04:03.634Z"
   },
   {
    "duration": 9,
    "start_time": "2023-02-24T13:04:03.641Z"
   },
   {
    "duration": 6,
    "start_time": "2023-02-24T13:04:03.652Z"
   },
   {
    "duration": 14,
    "start_time": "2023-02-24T13:04:03.660Z"
   },
   {
    "duration": 5,
    "start_time": "2023-02-24T13:04:03.675Z"
   },
   {
    "duration": 21,
    "start_time": "2023-02-24T13:04:03.682Z"
   },
   {
    "duration": 8,
    "start_time": "2023-02-24T13:04:03.705Z"
   },
   {
    "duration": 22,
    "start_time": "2023-02-24T13:04:03.715Z"
   },
   {
    "duration": 1472,
    "start_time": "2023-02-24T13:04:03.739Z"
   },
   {
    "duration": 6181,
    "start_time": "2023-02-24T13:04:05.219Z"
   },
   {
    "duration": 0,
    "start_time": "2023-02-24T13:04:11.401Z"
   },
   {
    "duration": 0,
    "start_time": "2023-02-24T13:04:11.403Z"
   },
   {
    "duration": 1400,
    "start_time": "2023-02-24T13:06:47.800Z"
   },
   {
    "duration": 694,
    "start_time": "2023-02-24T13:06:49.203Z"
   },
   {
    "duration": 18,
    "start_time": "2023-02-24T13:06:49.899Z"
   },
   {
    "duration": 12,
    "start_time": "2023-02-24T13:06:49.919Z"
   },
   {
    "duration": 17,
    "start_time": "2023-02-24T13:06:49.933Z"
   },
   {
    "duration": 54,
    "start_time": "2023-02-24T13:06:49.951Z"
   },
   {
    "duration": 32,
    "start_time": "2023-02-24T13:06:50.006Z"
   },
   {
    "duration": 251,
    "start_time": "2023-02-24T13:06:50.040Z"
   },
   {
    "duration": 20,
    "start_time": "2023-02-24T13:06:50.292Z"
   },
   {
    "duration": 5,
    "start_time": "2023-02-24T13:06:50.315Z"
   },
   {
    "duration": 6,
    "start_time": "2023-02-24T13:06:50.321Z"
   },
   {
    "duration": 8,
    "start_time": "2023-02-24T13:06:50.329Z"
   },
   {
    "duration": 143,
    "start_time": "2023-02-24T13:06:50.339Z"
   },
   {
    "duration": 0,
    "start_time": "2023-02-24T13:06:50.484Z"
   },
   {
    "duration": 0,
    "start_time": "2023-02-24T13:06:50.485Z"
   },
   {
    "duration": 0,
    "start_time": "2023-02-24T13:06:50.486Z"
   },
   {
    "duration": 0,
    "start_time": "2023-02-24T13:06:50.487Z"
   },
   {
    "duration": 0,
    "start_time": "2023-02-24T13:06:50.488Z"
   },
   {
    "duration": 0,
    "start_time": "2023-02-24T13:06:50.503Z"
   },
   {
    "duration": 0,
    "start_time": "2023-02-24T13:06:50.504Z"
   },
   {
    "duration": 0,
    "start_time": "2023-02-24T13:06:50.505Z"
   },
   {
    "duration": 0,
    "start_time": "2023-02-24T13:06:50.507Z"
   },
   {
    "duration": 0,
    "start_time": "2023-02-24T13:06:50.508Z"
   },
   {
    "duration": 0,
    "start_time": "2023-02-24T13:06:50.509Z"
   },
   {
    "duration": 0,
    "start_time": "2023-02-24T13:06:50.510Z"
   },
   {
    "duration": 0,
    "start_time": "2023-02-24T13:06:50.511Z"
   },
   {
    "duration": 0,
    "start_time": "2023-02-24T13:06:50.512Z"
   },
   {
    "duration": 0,
    "start_time": "2023-02-24T13:06:50.513Z"
   },
   {
    "duration": 0,
    "start_time": "2023-02-24T13:06:50.514Z"
   },
   {
    "duration": 0,
    "start_time": "2023-02-24T13:06:50.515Z"
   },
   {
    "duration": 0,
    "start_time": "2023-02-24T13:06:50.516Z"
   },
   {
    "duration": 0,
    "start_time": "2023-02-24T13:06:50.517Z"
   },
   {
    "duration": 0,
    "start_time": "2023-02-24T13:06:50.518Z"
   },
   {
    "duration": 0,
    "start_time": "2023-02-24T13:06:50.519Z"
   },
   {
    "duration": 0,
    "start_time": "2023-02-24T13:06:50.521Z"
   },
   {
    "duration": 0,
    "start_time": "2023-02-24T13:06:50.521Z"
   },
   {
    "duration": 0,
    "start_time": "2023-02-24T13:06:50.522Z"
   },
   {
    "duration": 0,
    "start_time": "2023-02-24T13:06:50.523Z"
   },
   {
    "duration": 0,
    "start_time": "2023-02-24T13:06:50.524Z"
   },
   {
    "duration": 0,
    "start_time": "2023-02-24T13:06:50.525Z"
   },
   {
    "duration": 0,
    "start_time": "2023-02-24T13:06:50.526Z"
   },
   {
    "duration": 0,
    "start_time": "2023-02-24T13:06:50.527Z"
   },
   {
    "duration": 1332,
    "start_time": "2023-02-24T13:07:35.064Z"
   },
   {
    "duration": 673,
    "start_time": "2023-02-24T13:07:36.397Z"
   },
   {
    "duration": 19,
    "start_time": "2023-02-24T13:07:37.072Z"
   },
   {
    "duration": 14,
    "start_time": "2023-02-24T13:07:37.102Z"
   },
   {
    "duration": 17,
    "start_time": "2023-02-24T13:07:37.118Z"
   },
   {
    "duration": 19,
    "start_time": "2023-02-24T13:07:37.136Z"
   },
   {
    "duration": 64,
    "start_time": "2023-02-24T13:07:37.156Z"
   },
   {
    "duration": 248,
    "start_time": "2023-02-24T13:07:37.222Z"
   },
   {
    "duration": 11,
    "start_time": "2023-02-24T13:07:37.472Z"
   },
   {
    "duration": 19,
    "start_time": "2023-02-24T13:07:37.486Z"
   },
   {
    "duration": 11,
    "start_time": "2023-02-24T13:07:37.507Z"
   },
   {
    "duration": 9,
    "start_time": "2023-02-24T13:07:37.520Z"
   },
   {
    "duration": 43,
    "start_time": "2023-02-24T13:07:37.530Z"
   },
   {
    "duration": 3,
    "start_time": "2023-02-24T13:07:37.574Z"
   },
   {
    "duration": 13,
    "start_time": "2023-02-24T13:07:37.578Z"
   },
   {
    "duration": 14,
    "start_time": "2023-02-24T13:07:37.593Z"
   },
   {
    "duration": 15,
    "start_time": "2023-02-24T13:07:37.608Z"
   },
   {
    "duration": 926,
    "start_time": "2023-02-24T13:07:37.624Z"
   },
   {
    "duration": 862,
    "start_time": "2023-02-24T13:07:38.552Z"
   },
   {
    "duration": 1018,
    "start_time": "2023-02-24T13:07:39.416Z"
   },
   {
    "duration": 194,
    "start_time": "2023-02-24T13:07:40.436Z"
   },
   {
    "duration": 6,
    "start_time": "2023-02-24T13:07:40.631Z"
   },
   {
    "duration": 12,
    "start_time": "2023-02-24T13:07:40.638Z"
   },
   {
    "duration": 26,
    "start_time": "2023-02-24T13:07:40.652Z"
   },
   {
    "duration": 1549,
    "start_time": "2023-02-24T13:07:40.680Z"
   },
   {
    "duration": 1172,
    "start_time": "2023-02-24T13:07:42.231Z"
   },
   {
    "duration": 14,
    "start_time": "2023-02-24T13:07:43.406Z"
   },
   {
    "duration": 11,
    "start_time": "2023-02-24T13:07:43.424Z"
   },
   {
    "duration": 694,
    "start_time": "2023-02-24T13:07:43.436Z"
   },
   {
    "duration": 103,
    "start_time": "2023-02-24T13:07:44.132Z"
   },
   {
    "duration": 5,
    "start_time": "2023-02-24T13:07:44.237Z"
   },
   {
    "duration": 8,
    "start_time": "2023-02-24T13:07:44.244Z"
   },
   {
    "duration": 25,
    "start_time": "2023-02-24T13:07:44.254Z"
   },
   {
    "duration": 20,
    "start_time": "2023-02-24T13:07:44.281Z"
   },
   {
    "duration": 5,
    "start_time": "2023-02-24T13:07:44.302Z"
   },
   {
    "duration": 8,
    "start_time": "2023-02-24T13:07:44.308Z"
   },
   {
    "duration": 7,
    "start_time": "2023-02-24T13:07:44.317Z"
   },
   {
    "duration": 19,
    "start_time": "2023-02-24T13:07:44.325Z"
   },
   {
    "duration": 765,
    "start_time": "2023-02-24T13:07:44.346Z"
   },
   {
    "duration": 11802,
    "start_time": "2023-02-24T13:07:45.113Z"
   },
   {
    "duration": 38098,
    "start_time": "2023-02-24T13:07:56.917Z"
   },
   {
    "duration": 0,
    "start_time": "2023-02-24T13:08:35.017Z"
   },
   {
    "duration": 1384,
    "start_time": "2023-02-24T13:10:48.875Z"
   },
   {
    "duration": 686,
    "start_time": "2023-02-24T13:10:50.261Z"
   },
   {
    "duration": 17,
    "start_time": "2023-02-24T13:10:50.949Z"
   },
   {
    "duration": 14,
    "start_time": "2023-02-24T13:10:50.968Z"
   },
   {
    "duration": 33,
    "start_time": "2023-02-24T13:10:50.983Z"
   },
   {
    "duration": 19,
    "start_time": "2023-02-24T13:10:51.017Z"
   },
   {
    "duration": 28,
    "start_time": "2023-02-24T13:10:51.038Z"
   },
   {
    "duration": 253,
    "start_time": "2023-02-24T13:10:51.067Z"
   },
   {
    "duration": 11,
    "start_time": "2023-02-24T13:10:51.321Z"
   },
   {
    "duration": 7,
    "start_time": "2023-02-24T13:10:51.335Z"
   },
   {
    "duration": 8,
    "start_time": "2023-02-24T13:10:51.344Z"
   },
   {
    "duration": 20,
    "start_time": "2023-02-24T13:10:51.354Z"
   },
   {
    "duration": 6,
    "start_time": "2023-02-24T13:10:51.375Z"
   },
   {
    "duration": 61,
    "start_time": "2023-02-24T13:10:51.382Z"
   },
   {
    "duration": 7,
    "start_time": "2023-02-24T13:10:51.445Z"
   },
   {
    "duration": 17,
    "start_time": "2023-02-24T13:10:51.454Z"
   },
   {
    "duration": 9,
    "start_time": "2023-02-24T13:10:51.473Z"
   },
   {
    "duration": 924,
    "start_time": "2023-02-24T13:10:51.483Z"
   },
   {
    "duration": 836,
    "start_time": "2023-02-24T13:10:52.409Z"
   },
   {
    "duration": 1079,
    "start_time": "2023-02-24T13:10:53.246Z"
   },
   {
    "duration": 205,
    "start_time": "2023-02-24T13:10:54.327Z"
   },
   {
    "duration": 6,
    "start_time": "2023-02-24T13:10:54.533Z"
   },
   {
    "duration": 6,
    "start_time": "2023-02-24T13:10:54.540Z"
   },
   {
    "duration": 4,
    "start_time": "2023-02-24T13:10:54.548Z"
   },
   {
    "duration": 1510,
    "start_time": "2023-02-24T13:10:54.554Z"
   },
   {
    "duration": 1099,
    "start_time": "2023-02-24T13:10:56.066Z"
   },
   {
    "duration": 14,
    "start_time": "2023-02-24T13:10:57.167Z"
   },
   {
    "duration": 25,
    "start_time": "2023-02-24T13:10:57.185Z"
   },
   {
    "duration": 702,
    "start_time": "2023-02-24T13:10:57.212Z"
   },
   {
    "duration": 101,
    "start_time": "2023-02-24T13:10:57.916Z"
   },
   {
    "duration": 4,
    "start_time": "2023-02-24T13:10:58.019Z"
   },
   {
    "duration": 6,
    "start_time": "2023-02-24T13:10:58.025Z"
   },
   {
    "duration": 8,
    "start_time": "2023-02-24T13:10:58.032Z"
   },
   {
    "duration": 15,
    "start_time": "2023-02-24T13:10:58.041Z"
   },
   {
    "duration": 5,
    "start_time": "2023-02-24T13:10:58.058Z"
   },
   {
    "duration": 15,
    "start_time": "2023-02-24T13:10:58.065Z"
   },
   {
    "duration": 21,
    "start_time": "2023-02-24T13:10:58.082Z"
   },
   {
    "duration": 17,
    "start_time": "2023-02-24T13:10:58.105Z"
   },
   {
    "duration": 891,
    "start_time": "2023-02-24T13:10:58.124Z"
   },
   {
    "duration": 12645,
    "start_time": "2023-02-24T13:10:59.104Z"
   },
   {
    "duration": 1447,
    "start_time": "2023-02-24T13:14:19.800Z"
   },
   {
    "duration": 685,
    "start_time": "2023-02-24T13:14:21.249Z"
   },
   {
    "duration": 22,
    "start_time": "2023-02-24T13:14:21.936Z"
   },
   {
    "duration": 15,
    "start_time": "2023-02-24T13:14:21.961Z"
   },
   {
    "duration": 36,
    "start_time": "2023-02-24T13:14:21.978Z"
   },
   {
    "duration": 22,
    "start_time": "2023-02-24T13:14:22.017Z"
   },
   {
    "duration": 31,
    "start_time": "2023-02-24T13:14:22.040Z"
   },
   {
    "duration": 261,
    "start_time": "2023-02-24T13:14:22.073Z"
   },
   {
    "duration": 12,
    "start_time": "2023-02-24T13:14:22.336Z"
   },
   {
    "duration": 9,
    "start_time": "2023-02-24T13:14:22.351Z"
   },
   {
    "duration": 7,
    "start_time": "2023-02-24T13:14:22.362Z"
   },
   {
    "duration": 8,
    "start_time": "2023-02-24T13:14:22.371Z"
   },
   {
    "duration": 23,
    "start_time": "2023-02-24T13:14:22.381Z"
   },
   {
    "duration": 221,
    "start_time": "2023-02-24T13:14:22.407Z"
   },
   {
    "duration": 535,
    "start_time": "2023-02-24T13:20:39.779Z"
   },
   {
    "duration": 34,
    "start_time": "2023-02-24T13:21:00.083Z"
   },
   {
    "duration": 1335,
    "start_time": "2023-02-24T13:21:15.141Z"
   },
   {
    "duration": 717,
    "start_time": "2023-02-24T13:21:16.477Z"
   },
   {
    "duration": 25,
    "start_time": "2023-02-24T13:21:17.196Z"
   },
   {
    "duration": 24,
    "start_time": "2023-02-24T13:21:17.226Z"
   },
   {
    "duration": 21,
    "start_time": "2023-02-24T13:21:17.252Z"
   },
   {
    "duration": 45,
    "start_time": "2023-02-24T13:21:17.275Z"
   },
   {
    "duration": 30,
    "start_time": "2023-02-24T13:21:17.322Z"
   },
   {
    "duration": 269,
    "start_time": "2023-02-24T13:21:17.354Z"
   },
   {
    "duration": 13,
    "start_time": "2023-02-24T13:21:17.625Z"
   },
   {
    "duration": 7,
    "start_time": "2023-02-24T13:21:17.640Z"
   },
   {
    "duration": 10,
    "start_time": "2023-02-24T13:21:17.649Z"
   },
   {
    "duration": 8,
    "start_time": "2023-02-24T13:21:17.661Z"
   },
   {
    "duration": 7,
    "start_time": "2023-02-24T13:21:17.671Z"
   },
   {
    "duration": 625,
    "start_time": "2023-02-24T13:21:17.680Z"
   },
   {
    "duration": 27,
    "start_time": "2023-02-24T13:21:20.939Z"
   },
   {
    "duration": 479,
    "start_time": "2023-02-24T13:22:05.656Z"
   },
   {
    "duration": 1376,
    "start_time": "2023-02-24T13:22:12.360Z"
   },
   {
    "duration": 840,
    "start_time": "2023-02-24T13:22:13.738Z"
   },
   {
    "duration": 28,
    "start_time": "2023-02-24T13:22:14.579Z"
   },
   {
    "duration": 15,
    "start_time": "2023-02-24T13:22:14.616Z"
   },
   {
    "duration": 21,
    "start_time": "2023-02-24T13:22:14.632Z"
   },
   {
    "duration": 30,
    "start_time": "2023-02-24T13:22:14.654Z"
   },
   {
    "duration": 35,
    "start_time": "2023-02-24T13:22:14.706Z"
   },
   {
    "duration": 258,
    "start_time": "2023-02-24T13:22:14.742Z"
   },
   {
    "duration": 20,
    "start_time": "2023-02-24T13:22:15.005Z"
   },
   {
    "duration": 16,
    "start_time": "2023-02-24T13:22:15.028Z"
   },
   {
    "duration": 6,
    "start_time": "2023-02-24T13:22:15.046Z"
   },
   {
    "duration": 6,
    "start_time": "2023-02-24T13:22:15.054Z"
   },
   {
    "duration": 9,
    "start_time": "2023-02-24T13:22:15.061Z"
   },
   {
    "duration": 596,
    "start_time": "2023-02-24T13:22:15.072Z"
   },
   {
    "duration": 7,
    "start_time": "2023-02-24T13:22:15.670Z"
   },
   {
    "duration": 11,
    "start_time": "2023-02-24T13:22:15.679Z"
   },
   {
    "duration": 6,
    "start_time": "2023-02-24T13:22:15.707Z"
   },
   {
    "duration": 963,
    "start_time": "2023-02-24T13:22:15.717Z"
   },
   {
    "duration": 942,
    "start_time": "2023-02-24T13:22:16.682Z"
   },
   {
    "duration": 1079,
    "start_time": "2023-02-24T13:22:17.626Z"
   },
   {
    "duration": 207,
    "start_time": "2023-02-24T13:22:18.713Z"
   },
   {
    "duration": 5,
    "start_time": "2023-02-24T13:22:18.922Z"
   },
   {
    "duration": 6,
    "start_time": "2023-02-24T13:22:18.929Z"
   },
   {
    "duration": 4,
    "start_time": "2023-02-24T13:22:18.937Z"
   },
   {
    "duration": 1540,
    "start_time": "2023-02-24T13:22:18.943Z"
   },
   {
    "duration": 1266,
    "start_time": "2023-02-24T13:22:20.485Z"
   },
   {
    "duration": 14,
    "start_time": "2023-02-24T13:22:21.752Z"
   },
   {
    "duration": 12,
    "start_time": "2023-02-24T13:22:21.770Z"
   },
   {
    "duration": 787,
    "start_time": "2023-02-24T13:22:21.784Z"
   },
   {
    "duration": 120,
    "start_time": "2023-02-24T13:22:22.574Z"
   },
   {
    "duration": 15,
    "start_time": "2023-02-24T13:22:22.696Z"
   },
   {
    "duration": 6,
    "start_time": "2023-02-24T13:22:22.719Z"
   },
   {
    "duration": 5,
    "start_time": "2023-02-24T13:22:22.727Z"
   },
   {
    "duration": 18,
    "start_time": "2023-02-24T13:22:22.734Z"
   },
   {
    "duration": 6,
    "start_time": "2023-02-24T13:22:22.754Z"
   },
   {
    "duration": 12,
    "start_time": "2023-02-24T13:22:22.761Z"
   },
   {
    "duration": 8,
    "start_time": "2023-02-24T13:22:22.775Z"
   },
   {
    "duration": 35,
    "start_time": "2023-02-24T13:22:22.785Z"
   },
   {
    "duration": 2398,
    "start_time": "2023-02-24T13:22:22.822Z"
   },
   {
    "duration": 16065,
    "start_time": "2023-02-24T13:22:25.302Z"
   },
   {
    "duration": 17796,
    "start_time": "2023-02-24T13:22:41.369Z"
   },
   {
    "duration": 0,
    "start_time": "2023-02-24T13:22:59.168Z"
   },
   {
    "duration": 24,
    "start_time": "2023-02-24T13:23:45.436Z"
   },
   {
    "duration": 1366,
    "start_time": "2023-02-24T13:23:50.590Z"
   },
   {
    "duration": 741,
    "start_time": "2023-02-24T13:23:51.958Z"
   },
   {
    "duration": 22,
    "start_time": "2023-02-24T13:23:52.702Z"
   },
   {
    "duration": 15,
    "start_time": "2023-02-24T13:23:52.726Z"
   },
   {
    "duration": 21,
    "start_time": "2023-02-24T13:23:52.742Z"
   },
   {
    "duration": 62,
    "start_time": "2023-02-24T13:23:52.765Z"
   },
   {
    "duration": 33,
    "start_time": "2023-02-24T13:23:52.829Z"
   },
   {
    "duration": 283,
    "start_time": "2023-02-24T13:23:52.864Z"
   },
   {
    "duration": 12,
    "start_time": "2023-02-24T13:23:53.149Z"
   },
   {
    "duration": 5,
    "start_time": "2023-02-24T13:23:53.164Z"
   },
   {
    "duration": 7,
    "start_time": "2023-02-24T13:23:53.171Z"
   },
   {
    "duration": 23,
    "start_time": "2023-02-24T13:23:53.203Z"
   },
   {
    "duration": 9,
    "start_time": "2023-02-24T13:23:53.228Z"
   },
   {
    "duration": 34,
    "start_time": "2023-02-24T13:23:53.239Z"
   },
   {
    "duration": 9,
    "start_time": "2023-02-24T13:23:53.276Z"
   },
   {
    "duration": 9,
    "start_time": "2023-02-24T13:23:53.287Z"
   },
   {
    "duration": 26,
    "start_time": "2023-02-24T13:23:53.298Z"
   },
   {
    "duration": 1011,
    "start_time": "2023-02-24T13:23:53.325Z"
   },
   {
    "duration": 1011,
    "start_time": "2023-02-24T13:23:54.338Z"
   },
   {
    "duration": 1085,
    "start_time": "2023-02-24T13:23:55.351Z"
   },
   {
    "duration": 208,
    "start_time": "2023-02-24T13:23:56.439Z"
   },
   {
    "duration": 7,
    "start_time": "2023-02-24T13:23:56.649Z"
   },
   {
    "duration": 10,
    "start_time": "2023-02-24T13:23:56.658Z"
   },
   {
    "duration": 7,
    "start_time": "2023-02-24T13:23:56.670Z"
   },
   {
    "duration": 1508,
    "start_time": "2023-02-24T13:23:56.678Z"
   },
   {
    "duration": 1199,
    "start_time": "2023-02-24T13:23:58.189Z"
   },
   {
    "duration": 23,
    "start_time": "2023-02-24T13:23:59.389Z"
   },
   {
    "duration": 18,
    "start_time": "2023-02-24T13:23:59.417Z"
   },
   {
    "duration": 688,
    "start_time": "2023-02-24T13:23:59.436Z"
   },
   {
    "duration": 113,
    "start_time": "2023-02-24T13:24:00.125Z"
   },
   {
    "duration": 5,
    "start_time": "2023-02-24T13:24:00.240Z"
   },
   {
    "duration": 28,
    "start_time": "2023-02-24T13:24:00.247Z"
   },
   {
    "duration": 56,
    "start_time": "2023-02-24T13:24:00.277Z"
   },
   {
    "duration": 40,
    "start_time": "2023-02-24T13:24:00.335Z"
   },
   {
    "duration": 60,
    "start_time": "2023-02-24T13:24:00.376Z"
   },
   {
    "duration": 31,
    "start_time": "2023-02-24T13:24:00.438Z"
   },
   {
    "duration": 50,
    "start_time": "2023-02-24T13:24:00.471Z"
   },
   {
    "duration": 30,
    "start_time": "2023-02-24T13:24:00.523Z"
   },
   {
    "duration": 2755,
    "start_time": "2023-02-24T13:24:00.554Z"
   },
   {
    "duration": 15356,
    "start_time": "2023-02-24T13:24:03.311Z"
   },
   {
    "duration": 1376,
    "start_time": "2023-02-24T13:33:31.808Z"
   },
   {
    "duration": 712,
    "start_time": "2023-02-24T13:33:33.186Z"
   },
   {
    "duration": 33,
    "start_time": "2023-02-24T13:33:33.899Z"
   },
   {
    "duration": 15,
    "start_time": "2023-02-24T13:33:33.935Z"
   },
   {
    "duration": 17,
    "start_time": "2023-02-24T13:33:33.952Z"
   },
   {
    "duration": 45,
    "start_time": "2023-02-24T13:33:33.971Z"
   },
   {
    "duration": 29,
    "start_time": "2023-02-24T13:33:34.018Z"
   },
   {
    "duration": 286,
    "start_time": "2023-02-24T13:33:34.048Z"
   },
   {
    "duration": 18,
    "start_time": "2023-02-24T13:33:34.336Z"
   },
   {
    "duration": 11,
    "start_time": "2023-02-24T13:33:34.357Z"
   },
   {
    "duration": 9,
    "start_time": "2023-02-24T13:33:34.370Z"
   },
   {
    "duration": 35,
    "start_time": "2023-02-24T13:33:34.382Z"
   },
   {
    "duration": 2,
    "start_time": "2023-02-24T13:33:34.419Z"
   },
   {
    "duration": 31,
    "start_time": "2023-02-24T13:33:34.423Z"
   },
   {
    "duration": 8,
    "start_time": "2023-02-24T13:33:34.456Z"
   },
   {
    "duration": 9,
    "start_time": "2023-02-24T13:33:34.466Z"
   },
   {
    "duration": 7,
    "start_time": "2023-02-24T13:33:34.477Z"
   },
   {
    "duration": 1042,
    "start_time": "2023-02-24T13:33:34.485Z"
   },
   {
    "duration": 892,
    "start_time": "2023-02-24T13:33:35.530Z"
   },
   {
    "duration": 1104,
    "start_time": "2023-02-24T13:33:36.424Z"
   },
   {
    "duration": 197,
    "start_time": "2023-02-24T13:33:37.529Z"
   },
   {
    "duration": 5,
    "start_time": "2023-02-24T13:33:37.728Z"
   },
   {
    "duration": 7,
    "start_time": "2023-02-24T13:33:37.735Z"
   },
   {
    "duration": 5,
    "start_time": "2023-02-24T13:33:37.744Z"
   },
   {
    "duration": 1505,
    "start_time": "2023-02-24T13:33:37.751Z"
   },
   {
    "duration": 1161,
    "start_time": "2023-02-24T13:33:39.258Z"
   },
   {
    "duration": 15,
    "start_time": "2023-02-24T13:33:40.420Z"
   },
   {
    "duration": 10,
    "start_time": "2023-02-24T13:33:40.438Z"
   },
   {
    "duration": 710,
    "start_time": "2023-02-24T13:33:40.450Z"
   },
   {
    "duration": 116,
    "start_time": "2023-02-24T13:33:41.162Z"
   },
   {
    "duration": 4,
    "start_time": "2023-02-24T13:33:41.280Z"
   },
   {
    "duration": 6,
    "start_time": "2023-02-24T13:33:41.285Z"
   },
   {
    "duration": 28,
    "start_time": "2023-02-24T13:33:41.292Z"
   },
   {
    "duration": 17,
    "start_time": "2023-02-24T13:33:41.321Z"
   },
   {
    "duration": 5,
    "start_time": "2023-02-24T13:33:41.340Z"
   },
   {
    "duration": 7,
    "start_time": "2023-02-24T13:33:41.346Z"
   },
   {
    "duration": 7,
    "start_time": "2023-02-24T13:33:41.355Z"
   },
   {
    "duration": 21,
    "start_time": "2023-02-24T13:33:41.364Z"
   },
   {
    "duration": 1428,
    "start_time": "2023-02-24T13:33:41.387Z"
   },
   {
    "duration": 7946,
    "start_time": "2023-02-24T13:33:42.820Z"
   },
   {
    "duration": 149666,
    "start_time": "2023-02-24T13:33:50.767Z"
   },
   {
    "duration": 0,
    "start_time": "2023-02-24T13:36:20.435Z"
   },
   {
    "duration": 902956,
    "start_time": "2023-02-24T13:37:17.439Z"
   },
   {
    "duration": 1341,
    "start_time": "2023-02-24T13:54:42.009Z"
   },
   {
    "duration": 695,
    "start_time": "2023-02-24T13:54:43.352Z"
   },
   {
    "duration": 17,
    "start_time": "2023-02-24T13:54:44.049Z"
   },
   {
    "duration": 14,
    "start_time": "2023-02-24T13:54:44.069Z"
   },
   {
    "duration": 39,
    "start_time": "2023-02-24T13:54:44.085Z"
   },
   {
    "duration": 30,
    "start_time": "2023-02-24T13:54:44.126Z"
   },
   {
    "duration": 57,
    "start_time": "2023-02-24T13:54:44.159Z"
   },
   {
    "duration": 273,
    "start_time": "2023-02-24T13:54:44.218Z"
   },
   {
    "duration": 20,
    "start_time": "2023-02-24T13:54:44.493Z"
   },
   {
    "duration": 7,
    "start_time": "2023-02-24T13:54:44.516Z"
   },
   {
    "duration": 7,
    "start_time": "2023-02-24T13:54:44.524Z"
   },
   {
    "duration": 8,
    "start_time": "2023-02-24T13:54:44.533Z"
   },
   {
    "duration": 5,
    "start_time": "2023-02-24T13:54:44.542Z"
   },
   {
    "duration": 75,
    "start_time": "2023-02-24T13:54:44.548Z"
   },
   {
    "duration": 7,
    "start_time": "2023-02-24T13:54:44.625Z"
   },
   {
    "duration": 9,
    "start_time": "2023-02-24T13:54:44.634Z"
   },
   {
    "duration": 7,
    "start_time": "2023-02-24T13:54:44.645Z"
   },
   {
    "duration": 936,
    "start_time": "2023-02-24T13:54:44.653Z"
   },
   {
    "duration": 859,
    "start_time": "2023-02-24T13:54:45.591Z"
   },
   {
    "duration": 1041,
    "start_time": "2023-02-24T13:54:46.452Z"
   },
   {
    "duration": 196,
    "start_time": "2023-02-24T13:54:47.496Z"
   },
   {
    "duration": 9,
    "start_time": "2023-02-24T13:54:47.694Z"
   },
   {
    "duration": 5,
    "start_time": "2023-02-24T13:54:47.705Z"
   },
   {
    "duration": 6,
    "start_time": "2023-02-24T13:54:47.711Z"
   },
   {
    "duration": 1398,
    "start_time": "2023-02-24T13:54:47.719Z"
   },
   {
    "duration": 2024,
    "start_time": "2023-02-24T13:54:49.119Z"
   },
   {
    "duration": 66,
    "start_time": "2023-02-24T13:54:51.145Z"
   },
   {
    "duration": 22,
    "start_time": "2023-02-24T13:54:51.215Z"
   },
   {
    "duration": 1400,
    "start_time": "2023-02-24T13:54:51.238Z"
   },
   {
    "duration": 206,
    "start_time": "2023-02-24T13:54:52.640Z"
   },
   {
    "duration": 5,
    "start_time": "2023-02-24T13:54:52.848Z"
   },
   {
    "duration": 9,
    "start_time": "2023-02-24T13:54:52.855Z"
   },
   {
    "duration": 7,
    "start_time": "2023-02-24T13:54:52.866Z"
   },
   {
    "duration": 32,
    "start_time": "2023-02-24T13:54:52.874Z"
   },
   {
    "duration": 5,
    "start_time": "2023-02-24T13:54:52.908Z"
   },
   {
    "duration": 8,
    "start_time": "2023-02-24T13:54:52.915Z"
   },
   {
    "duration": 7,
    "start_time": "2023-02-24T13:54:52.925Z"
   },
   {
    "duration": 21,
    "start_time": "2023-02-24T13:54:52.934Z"
   },
   {
    "duration": 949,
    "start_time": "2023-02-24T13:54:52.957Z"
   },
   {
    "duration": 7672,
    "start_time": "2023-02-24T13:54:53.908Z"
   },
   {
    "duration": 338171,
    "start_time": "2023-02-24T13:55:01.582Z"
   },
   {
    "duration": 0,
    "start_time": "2023-02-24T14:00:39.755Z"
   },
   {
    "duration": 9,
    "start_time": "2023-02-24T14:06:41.283Z"
   },
   {
    "duration": 1432,
    "start_time": "2023-02-24T14:08:59.393Z"
   },
   {
    "duration": 714,
    "start_time": "2023-02-24T14:09:00.828Z"
   },
   {
    "duration": 20,
    "start_time": "2023-02-24T14:09:01.544Z"
   },
   {
    "duration": 15,
    "start_time": "2023-02-24T14:09:01.566Z"
   },
   {
    "duration": 38,
    "start_time": "2023-02-24T14:09:01.582Z"
   },
   {
    "duration": 20,
    "start_time": "2023-02-24T14:09:01.622Z"
   },
   {
    "duration": 34,
    "start_time": "2023-02-24T14:09:01.643Z"
   },
   {
    "duration": 282,
    "start_time": "2023-02-24T14:09:01.702Z"
   },
   {
    "duration": 13,
    "start_time": "2023-02-24T14:09:01.987Z"
   },
   {
    "duration": 14,
    "start_time": "2023-02-24T14:09:02.005Z"
   },
   {
    "duration": 26,
    "start_time": "2023-02-24T14:09:02.021Z"
   },
   {
    "duration": 26,
    "start_time": "2023-02-24T14:09:02.049Z"
   },
   {
    "duration": 8,
    "start_time": "2023-02-24T14:09:02.077Z"
   },
   {
    "duration": 74,
    "start_time": "2023-02-24T14:09:02.087Z"
   },
   {
    "duration": 8,
    "start_time": "2023-02-24T14:09:02.163Z"
   },
   {
    "duration": 12,
    "start_time": "2023-02-24T14:09:02.173Z"
   },
   {
    "duration": 24,
    "start_time": "2023-02-24T14:09:02.187Z"
   },
   {
    "duration": 992,
    "start_time": "2023-02-24T14:09:02.213Z"
   },
   {
    "duration": 867,
    "start_time": "2023-02-24T14:09:03.206Z"
   },
   {
    "duration": 1074,
    "start_time": "2023-02-24T14:09:04.076Z"
   },
   {
    "duration": 208,
    "start_time": "2023-02-24T14:09:05.152Z"
   },
   {
    "duration": 6,
    "start_time": "2023-02-24T14:09:05.362Z"
   },
   {
    "duration": 8,
    "start_time": "2023-02-24T14:09:05.370Z"
   },
   {
    "duration": 4,
    "start_time": "2023-02-24T14:09:05.379Z"
   },
   {
    "duration": 1420,
    "start_time": "2023-02-24T14:09:05.384Z"
   },
   {
    "duration": 1141,
    "start_time": "2023-02-24T14:09:06.806Z"
   },
   {
    "duration": 15,
    "start_time": "2023-02-24T14:09:07.949Z"
   },
   {
    "duration": 10,
    "start_time": "2023-02-24T14:09:07.969Z"
   },
   {
    "duration": 687,
    "start_time": "2023-02-24T14:09:07.981Z"
   },
   {
    "duration": 108,
    "start_time": "2023-02-24T14:09:08.670Z"
   },
   {
    "duration": 5,
    "start_time": "2023-02-24T14:09:08.779Z"
   },
   {
    "duration": 6,
    "start_time": "2023-02-24T14:09:08.785Z"
   },
   {
    "duration": 3,
    "start_time": "2023-02-24T14:09:08.802Z"
   },
   {
    "duration": 16,
    "start_time": "2023-02-24T14:09:08.806Z"
   },
   {
    "duration": 6,
    "start_time": "2023-02-24T14:09:08.824Z"
   },
   {
    "duration": 7,
    "start_time": "2023-02-24T14:09:08.833Z"
   },
   {
    "duration": 7,
    "start_time": "2023-02-24T14:09:08.842Z"
   },
   {
    "duration": 23,
    "start_time": "2023-02-24T14:09:08.850Z"
   },
   {
    "duration": 133,
    "start_time": "2023-02-24T14:09:08.875Z"
   },
   {
    "duration": 0,
    "start_time": "2023-02-24T14:09:09.009Z"
   },
   {
    "duration": 0,
    "start_time": "2023-02-24T14:09:09.010Z"
   },
   {
    "duration": 0,
    "start_time": "2023-02-24T14:09:09.011Z"
   },
   {
    "duration": 0,
    "start_time": "2023-02-24T14:09:09.012Z"
   },
   {
    "duration": 5,
    "start_time": "2023-02-24T14:09:16.307Z"
   },
   {
    "duration": 1334,
    "start_time": "2023-02-24T14:09:55.435Z"
   },
   {
    "duration": 697,
    "start_time": "2023-02-24T14:09:56.771Z"
   },
   {
    "duration": 18,
    "start_time": "2023-02-24T14:09:57.470Z"
   },
   {
    "duration": 15,
    "start_time": "2023-02-24T14:09:57.502Z"
   },
   {
    "duration": 17,
    "start_time": "2023-02-24T14:09:57.518Z"
   },
   {
    "duration": 18,
    "start_time": "2023-02-24T14:09:57.537Z"
   },
   {
    "duration": 57,
    "start_time": "2023-02-24T14:09:57.557Z"
   },
   {
    "duration": 251,
    "start_time": "2023-02-24T14:09:57.615Z"
   },
   {
    "duration": 12,
    "start_time": "2023-02-24T14:09:57.867Z"
   },
   {
    "duration": 22,
    "start_time": "2023-02-24T14:09:57.882Z"
   },
   {
    "duration": 5,
    "start_time": "2023-02-24T14:09:57.906Z"
   },
   {
    "duration": 12,
    "start_time": "2023-02-24T14:09:57.912Z"
   },
   {
    "duration": 7,
    "start_time": "2023-02-24T14:09:57.925Z"
   },
   {
    "duration": 69,
    "start_time": "2023-02-24T14:09:57.934Z"
   },
   {
    "duration": 8,
    "start_time": "2023-02-24T14:09:58.005Z"
   },
   {
    "duration": 8,
    "start_time": "2023-02-24T14:09:58.015Z"
   },
   {
    "duration": 7,
    "start_time": "2023-02-24T14:09:58.025Z"
   },
   {
    "duration": 951,
    "start_time": "2023-02-24T14:09:58.034Z"
   },
   {
    "duration": 893,
    "start_time": "2023-02-24T14:09:58.986Z"
   },
   {
    "duration": 1075,
    "start_time": "2023-02-24T14:09:59.881Z"
   },
   {
    "duration": 206,
    "start_time": "2023-02-24T14:10:00.958Z"
   },
   {
    "duration": 5,
    "start_time": "2023-02-24T14:10:01.166Z"
   },
   {
    "duration": 62,
    "start_time": "2023-02-24T14:10:01.172Z"
   },
   {
    "duration": 32,
    "start_time": "2023-02-24T14:10:01.236Z"
   },
   {
    "duration": 1553,
    "start_time": "2023-02-24T14:10:01.270Z"
   },
   {
    "duration": 1166,
    "start_time": "2023-02-24T14:10:02.825Z"
   },
   {
    "duration": 20,
    "start_time": "2023-02-24T14:10:03.992Z"
   },
   {
    "duration": 20,
    "start_time": "2023-02-24T14:10:04.015Z"
   },
   {
    "duration": 784,
    "start_time": "2023-02-24T14:10:04.037Z"
   },
   {
    "duration": 125,
    "start_time": "2023-02-24T14:10:04.823Z"
   },
   {
    "duration": 5,
    "start_time": "2023-02-24T14:10:04.950Z"
   },
   {
    "duration": 7,
    "start_time": "2023-02-24T14:10:04.957Z"
   },
   {
    "duration": 9,
    "start_time": "2023-02-24T14:10:04.966Z"
   },
   {
    "duration": 27,
    "start_time": "2023-02-24T14:10:04.976Z"
   },
   {
    "duration": 7,
    "start_time": "2023-02-24T14:10:05.006Z"
   },
   {
    "duration": 9,
    "start_time": "2023-02-24T14:10:05.014Z"
   },
   {
    "duration": 15,
    "start_time": "2023-02-24T14:10:05.025Z"
   },
   {
    "duration": 14,
    "start_time": "2023-02-24T14:10:05.041Z"
   },
   {
    "duration": 26,
    "start_time": "2023-02-24T14:10:05.058Z"
   },
   {
    "duration": 718,
    "start_time": "2023-02-24T14:10:05.086Z"
   },
   {
    "duration": 7616,
    "start_time": "2023-02-24T14:10:05.807Z"
   },
   {
    "duration": 1373,
    "start_time": "2023-02-24T14:11:06.139Z"
   },
   {
    "duration": 694,
    "start_time": "2023-02-24T14:11:07.514Z"
   },
   {
    "duration": 18,
    "start_time": "2023-02-24T14:11:08.210Z"
   },
   {
    "duration": 14,
    "start_time": "2023-02-24T14:11:08.230Z"
   },
   {
    "duration": 19,
    "start_time": "2023-02-24T14:11:08.245Z"
   },
   {
    "duration": 47,
    "start_time": "2023-02-24T14:11:08.265Z"
   },
   {
    "duration": 30,
    "start_time": "2023-02-24T14:11:08.314Z"
   },
   {
    "duration": 261,
    "start_time": "2023-02-24T14:11:08.345Z"
   },
   {
    "duration": 11,
    "start_time": "2023-02-24T14:11:08.608Z"
   },
   {
    "duration": 5,
    "start_time": "2023-02-24T14:11:08.622Z"
   },
   {
    "duration": 7,
    "start_time": "2023-02-24T14:11:08.629Z"
   },
   {
    "duration": 6,
    "start_time": "2023-02-24T14:11:08.637Z"
   },
   {
    "duration": 4,
    "start_time": "2023-02-24T14:11:08.645Z"
   },
   {
    "duration": 82,
    "start_time": "2023-02-24T14:11:08.650Z"
   },
   {
    "duration": 8,
    "start_time": "2023-02-24T14:11:08.733Z"
   },
   {
    "duration": 20,
    "start_time": "2023-02-24T14:11:08.743Z"
   },
   {
    "duration": 7,
    "start_time": "2023-02-24T14:11:08.765Z"
   },
   {
    "duration": 953,
    "start_time": "2023-02-24T14:11:08.773Z"
   },
   {
    "duration": 805,
    "start_time": "2023-02-24T14:11:09.727Z"
   },
   {
    "duration": 1007,
    "start_time": "2023-02-24T14:11:10.534Z"
   },
   {
    "duration": 204,
    "start_time": "2023-02-24T14:11:11.543Z"
   },
   {
    "duration": 5,
    "start_time": "2023-02-24T14:11:11.749Z"
   },
   {
    "duration": 6,
    "start_time": "2023-02-24T14:11:11.756Z"
   },
   {
    "duration": 4,
    "start_time": "2023-02-24T14:11:11.764Z"
   },
   {
    "duration": 1417,
    "start_time": "2023-02-24T14:11:11.770Z"
   },
   {
    "duration": 1196,
    "start_time": "2023-02-24T14:11:13.189Z"
   },
   {
    "duration": 21,
    "start_time": "2023-02-24T14:11:14.387Z"
   },
   {
    "duration": 11,
    "start_time": "2023-02-24T14:11:14.411Z"
   },
   {
    "duration": 656,
    "start_time": "2023-02-24T14:11:14.424Z"
   },
   {
    "duration": 102,
    "start_time": "2023-02-24T14:11:15.082Z"
   },
   {
    "duration": 5,
    "start_time": "2023-02-24T14:11:15.185Z"
   },
   {
    "duration": 4,
    "start_time": "2023-02-24T14:11:15.202Z"
   },
   {
    "duration": 6,
    "start_time": "2023-02-24T14:11:15.208Z"
   },
   {
    "duration": 19,
    "start_time": "2023-02-24T14:11:15.215Z"
   },
   {
    "duration": 6,
    "start_time": "2023-02-24T14:11:15.236Z"
   },
   {
    "duration": 9,
    "start_time": "2023-02-24T14:11:15.243Z"
   },
   {
    "duration": 16,
    "start_time": "2023-02-24T14:11:15.254Z"
   },
   {
    "duration": 10,
    "start_time": "2023-02-24T14:11:15.272Z"
   },
   {
    "duration": 40,
    "start_time": "2023-02-24T14:11:15.283Z"
   },
   {
    "duration": 881,
    "start_time": "2023-02-24T14:11:15.324Z"
   },
   {
    "duration": 7805,
    "start_time": "2023-02-24T14:11:16.207Z"
   },
   {
    "duration": 60558,
    "start_time": "2023-02-24T14:11:24.013Z"
   },
   {
    "duration": 0,
    "start_time": "2023-02-24T14:12:24.573Z"
   },
   {
    "duration": 5,
    "start_time": "2023-02-24T14:14:37.587Z"
   },
   {
    "duration": 4,
    "start_time": "2023-02-24T14:14:45.315Z"
   },
   {
    "duration": 10,
    "start_time": "2023-02-24T14:15:58.782Z"
   },
   {
    "duration": 739,
    "start_time": "2023-02-24T14:16:10.465Z"
   },
   {
    "duration": 7668,
    "start_time": "2023-02-24T14:17:26.872Z"
   },
   {
    "duration": 7700,
    "start_time": "2023-02-24T14:20:58.495Z"
   },
   {
    "duration": 5,
    "start_time": "2023-02-24T14:25:47.586Z"
   },
   {
    "duration": 7,
    "start_time": "2023-02-24T14:26:10.406Z"
   },
   {
    "duration": 8268,
    "start_time": "2023-02-24T14:29:52.040Z"
   },
   {
    "duration": 5,
    "start_time": "2023-02-24T14:31:09.158Z"
   },
   {
    "duration": 10,
    "start_time": "2023-02-24T14:38:13.534Z"
   },
   {
    "duration": 5,
    "start_time": "2023-02-24T14:38:21.440Z"
   },
   {
    "duration": 13,
    "start_time": "2023-02-24T14:38:26.818Z"
   },
   {
    "duration": 24,
    "start_time": "2023-02-24T14:38:59.478Z"
   },
   {
    "duration": 17,
    "start_time": "2023-02-24T14:39:56.441Z"
   },
   {
    "duration": 6,
    "start_time": "2023-02-24T14:40:59.964Z"
   },
   {
    "duration": 1359,
    "start_time": "2023-02-24T14:59:17.772Z"
   },
   {
    "duration": 708,
    "start_time": "2023-02-24T14:59:19.133Z"
   },
   {
    "duration": 19,
    "start_time": "2023-02-24T14:59:19.843Z"
   },
   {
    "duration": 13,
    "start_time": "2023-02-24T14:59:19.865Z"
   },
   {
    "duration": 39,
    "start_time": "2023-02-24T14:59:19.879Z"
   },
   {
    "duration": 20,
    "start_time": "2023-02-24T14:59:19.919Z"
   },
   {
    "duration": 30,
    "start_time": "2023-02-24T14:59:19.941Z"
   },
   {
    "duration": 244,
    "start_time": "2023-02-24T14:59:19.973Z"
   },
   {
    "duration": 11,
    "start_time": "2023-02-24T14:59:20.219Z"
   },
   {
    "duration": 5,
    "start_time": "2023-02-24T14:59:20.233Z"
   },
   {
    "duration": 5,
    "start_time": "2023-02-24T14:59:20.240Z"
   },
   {
    "duration": 9,
    "start_time": "2023-02-24T14:59:20.246Z"
   },
   {
    "duration": 5,
    "start_time": "2023-02-24T14:59:20.257Z"
   },
   {
    "duration": 61,
    "start_time": "2023-02-24T14:59:20.264Z"
   },
   {
    "duration": 8,
    "start_time": "2023-02-24T14:59:20.327Z"
   },
   {
    "duration": 9,
    "start_time": "2023-02-24T14:59:20.337Z"
   },
   {
    "duration": 5,
    "start_time": "2023-02-24T14:59:20.348Z"
   },
   {
    "duration": 935,
    "start_time": "2023-02-24T14:59:20.355Z"
   },
   {
    "duration": 827,
    "start_time": "2023-02-24T14:59:21.291Z"
   },
   {
    "duration": 1048,
    "start_time": "2023-02-24T14:59:22.120Z"
   },
   {
    "duration": 199,
    "start_time": "2023-02-24T14:59:23.169Z"
   },
   {
    "duration": 5,
    "start_time": "2023-02-24T14:59:23.370Z"
   },
   {
    "duration": 6,
    "start_time": "2023-02-24T14:59:23.377Z"
   },
   {
    "duration": 6,
    "start_time": "2023-02-24T14:59:23.384Z"
   },
   {
    "duration": 1504,
    "start_time": "2023-02-24T14:59:23.402Z"
   },
   {
    "duration": 1130,
    "start_time": "2023-02-24T14:59:24.908Z"
   },
   {
    "duration": 14,
    "start_time": "2023-02-24T14:59:26.040Z"
   },
   {
    "duration": 12,
    "start_time": "2023-02-24T14:59:26.058Z"
   },
   {
    "duration": 670,
    "start_time": "2023-02-24T14:59:26.071Z"
   },
   {
    "duration": 107,
    "start_time": "2023-02-24T14:59:26.743Z"
   },
   {
    "duration": 4,
    "start_time": "2023-02-24T14:59:26.853Z"
   },
   {
    "duration": 14,
    "start_time": "2023-02-24T14:59:26.859Z"
   },
   {
    "duration": 8,
    "start_time": "2023-02-24T14:59:26.874Z"
   },
   {
    "duration": 48,
    "start_time": "2023-02-24T14:59:26.884Z"
   },
   {
    "duration": 5,
    "start_time": "2023-02-24T14:59:26.934Z"
   },
   {
    "duration": 9,
    "start_time": "2023-02-24T14:59:26.941Z"
   },
   {
    "duration": 10,
    "start_time": "2023-02-24T14:59:26.953Z"
   },
   {
    "duration": 33,
    "start_time": "2023-02-24T14:59:26.965Z"
   },
   {
    "duration": 1105,
    "start_time": "2023-02-24T14:59:27.000Z"
   },
   {
    "duration": 7901,
    "start_time": "2023-02-24T14:59:28.108Z"
   },
   {
    "duration": 1322,
    "start_time": "2023-02-24T15:01:08.626Z"
   },
   {
    "duration": 672,
    "start_time": "2023-02-24T15:01:09.950Z"
   },
   {
    "duration": 18,
    "start_time": "2023-02-24T15:01:10.624Z"
   },
   {
    "duration": 15,
    "start_time": "2023-02-24T15:01:10.645Z"
   },
   {
    "duration": 42,
    "start_time": "2023-02-24T15:01:10.662Z"
   },
   {
    "duration": 22,
    "start_time": "2023-02-24T15:01:10.706Z"
   },
   {
    "duration": 29,
    "start_time": "2023-02-24T15:01:10.730Z"
   },
   {
    "duration": 253,
    "start_time": "2023-02-24T15:01:10.760Z"
   },
   {
    "duration": 13,
    "start_time": "2023-02-24T15:01:11.015Z"
   },
   {
    "duration": 10,
    "start_time": "2023-02-24T15:01:11.031Z"
   },
   {
    "duration": 27,
    "start_time": "2023-02-24T15:01:11.042Z"
   },
   {
    "duration": 8,
    "start_time": "2023-02-24T15:01:11.071Z"
   },
   {
    "duration": 8,
    "start_time": "2023-02-24T15:01:11.080Z"
   },
   {
    "duration": 31,
    "start_time": "2023-02-24T15:01:11.090Z"
   },
   {
    "duration": 8,
    "start_time": "2023-02-24T15:01:11.122Z"
   },
   {
    "duration": 10,
    "start_time": "2023-02-24T15:01:11.131Z"
   },
   {
    "duration": 11,
    "start_time": "2023-02-24T15:01:11.143Z"
   },
   {
    "duration": 952,
    "start_time": "2023-02-24T15:01:11.155Z"
   },
   {
    "duration": 869,
    "start_time": "2023-02-24T15:01:12.109Z"
   },
   {
    "duration": 1054,
    "start_time": "2023-02-24T15:01:12.980Z"
   },
   {
    "duration": 251,
    "start_time": "2023-02-24T15:01:14.036Z"
   },
   {
    "duration": 17,
    "start_time": "2023-02-24T15:01:14.289Z"
   },
   {
    "duration": 26,
    "start_time": "2023-02-24T15:01:14.308Z"
   },
   {
    "duration": 13,
    "start_time": "2023-02-24T15:01:14.336Z"
   },
   {
    "duration": 1483,
    "start_time": "2023-02-24T15:01:14.352Z"
   },
   {
    "duration": 1102,
    "start_time": "2023-02-24T15:01:15.836Z"
   },
   {
    "duration": 14,
    "start_time": "2023-02-24T15:01:16.939Z"
   },
   {
    "duration": 11,
    "start_time": "2023-02-24T15:01:16.956Z"
   },
   {
    "duration": 697,
    "start_time": "2023-02-24T15:01:16.969Z"
   },
   {
    "duration": 243,
    "start_time": "2023-02-24T15:01:17.668Z"
   },
   {
    "duration": 5,
    "start_time": "2023-02-24T15:01:17.913Z"
   },
   {
    "duration": 6,
    "start_time": "2023-02-24T15:01:17.919Z"
   },
   {
    "duration": 7,
    "start_time": "2023-02-24T15:01:17.927Z"
   },
   {
    "duration": 21,
    "start_time": "2023-02-24T15:01:17.936Z"
   },
   {
    "duration": 5,
    "start_time": "2023-02-24T15:01:17.959Z"
   },
   {
    "duration": 8,
    "start_time": "2023-02-24T15:01:17.966Z"
   },
   {
    "duration": 8,
    "start_time": "2023-02-24T15:01:17.975Z"
   },
   {
    "duration": 35,
    "start_time": "2023-02-24T15:01:17.985Z"
   },
   {
    "duration": 885,
    "start_time": "2023-02-24T15:01:18.021Z"
   },
   {
    "duration": 7709,
    "start_time": "2023-02-24T15:01:18.908Z"
   },
   {
    "duration": 1342,
    "start_time": "2023-02-24T15:02:17.898Z"
   },
   {
    "duration": 677,
    "start_time": "2023-02-24T15:02:19.242Z"
   },
   {
    "duration": 18,
    "start_time": "2023-02-24T15:02:19.921Z"
   },
   {
    "duration": 14,
    "start_time": "2023-02-24T15:02:19.941Z"
   },
   {
    "duration": 20,
    "start_time": "2023-02-24T15:02:19.957Z"
   },
   {
    "duration": 43,
    "start_time": "2023-02-24T15:02:19.978Z"
   },
   {
    "duration": 30,
    "start_time": "2023-02-24T15:02:20.022Z"
   },
   {
    "duration": 254,
    "start_time": "2023-02-24T15:02:20.054Z"
   },
   {
    "duration": 12,
    "start_time": "2023-02-24T15:02:20.310Z"
   },
   {
    "duration": 6,
    "start_time": "2023-02-24T15:02:20.325Z"
   },
   {
    "duration": 8,
    "start_time": "2023-02-24T15:02:20.332Z"
   },
   {
    "duration": 13,
    "start_time": "2023-02-24T15:02:20.342Z"
   },
   {
    "duration": 9,
    "start_time": "2023-02-24T15:02:20.357Z"
   },
   {
    "duration": 43,
    "start_time": "2023-02-24T15:02:20.367Z"
   },
   {
    "duration": 8,
    "start_time": "2023-02-24T15:02:20.412Z"
   },
   {
    "duration": 10,
    "start_time": "2023-02-24T15:02:20.422Z"
   },
   {
    "duration": 24,
    "start_time": "2023-02-24T15:02:20.434Z"
   },
   {
    "duration": 1050,
    "start_time": "2023-02-24T15:02:20.460Z"
   },
   {
    "duration": 876,
    "start_time": "2023-02-24T15:02:21.512Z"
   },
   {
    "duration": 1076,
    "start_time": "2023-02-24T15:02:22.389Z"
   },
   {
    "duration": 204,
    "start_time": "2023-02-24T15:02:23.466Z"
   },
   {
    "duration": 5,
    "start_time": "2023-02-24T15:02:23.672Z"
   },
   {
    "duration": 8,
    "start_time": "2023-02-24T15:02:23.679Z"
   },
   {
    "duration": 15,
    "start_time": "2023-02-24T15:02:23.689Z"
   },
   {
    "duration": 1522,
    "start_time": "2023-02-24T15:02:23.706Z"
   },
   {
    "duration": 1115,
    "start_time": "2023-02-24T15:02:25.230Z"
   },
   {
    "duration": 15,
    "start_time": "2023-02-24T15:02:26.347Z"
   },
   {
    "duration": 12,
    "start_time": "2023-02-24T15:02:26.366Z"
   },
   {
    "duration": 685,
    "start_time": "2023-02-24T15:02:26.379Z"
   },
   {
    "duration": 102,
    "start_time": "2023-02-24T15:02:27.065Z"
   },
   {
    "duration": 4,
    "start_time": "2023-02-24T15:02:27.169Z"
   },
   {
    "duration": 6,
    "start_time": "2023-02-24T15:02:27.175Z"
   },
   {
    "duration": 9,
    "start_time": "2023-02-24T15:02:27.183Z"
   },
   {
    "duration": 133,
    "start_time": "2023-02-24T15:02:27.203Z"
   },
   {
    "duration": 0,
    "start_time": "2023-02-24T15:02:27.337Z"
   },
   {
    "duration": 0,
    "start_time": "2023-02-24T15:02:27.338Z"
   },
   {
    "duration": 0,
    "start_time": "2023-02-24T15:02:27.339Z"
   },
   {
    "duration": 0,
    "start_time": "2023-02-24T15:02:27.340Z"
   },
   {
    "duration": 0,
    "start_time": "2023-02-24T15:02:27.341Z"
   },
   {
    "duration": 0,
    "start_time": "2023-02-24T15:02:27.342Z"
   },
   {
    "duration": 0,
    "start_time": "2023-02-24T15:02:27.343Z"
   },
   {
    "duration": 0,
    "start_time": "2023-02-24T15:02:27.344Z"
   },
   {
    "duration": 0,
    "start_time": "2023-02-24T15:02:27.346Z"
   },
   {
    "duration": 13,
    "start_time": "2023-02-24T15:04:33.791Z"
   },
   {
    "duration": 5,
    "start_time": "2023-02-24T15:04:37.570Z"
   },
   {
    "duration": 7,
    "start_time": "2023-02-24T15:04:38.327Z"
   },
   {
    "duration": 6,
    "start_time": "2023-02-24T15:04:39.133Z"
   },
   {
    "duration": 23,
    "start_time": "2023-02-24T15:04:41.536Z"
   },
   {
    "duration": 6332,
    "start_time": "2023-02-24T15:04:54.464Z"
   },
   {
    "duration": 636,
    "start_time": "2023-02-24T15:05:18.295Z"
   },
   {
    "duration": 1135,
    "start_time": "2023-02-24T15:05:24.002Z"
   },
   {
    "duration": 1844,
    "start_time": "2023-02-24T15:05:28.637Z"
   },
   {
    "duration": 2606,
    "start_time": "2023-02-24T15:05:34.660Z"
   },
   {
    "duration": 25880,
    "start_time": "2023-02-24T15:05:45.563Z"
   },
   {
    "duration": 1903,
    "start_time": "2023-02-24T15:06:21.372Z"
   },
   {
    "duration": 1872,
    "start_time": "2023-02-24T15:08:17.325Z"
   },
   {
    "duration": 26753,
    "start_time": "2023-02-24T15:08:29.662Z"
   },
   {
    "duration": 1862,
    "start_time": "2023-02-24T15:09:41.269Z"
   },
   {
    "duration": 2594,
    "start_time": "2023-02-24T15:09:47.093Z"
   },
   {
    "duration": 7817,
    "start_time": "2023-02-24T15:09:57.140Z"
   },
   {
    "duration": 1305,
    "start_time": "2023-02-24T15:10:55.446Z"
   },
   {
    "duration": 698,
    "start_time": "2023-02-24T15:10:56.753Z"
   },
   {
    "duration": 18,
    "start_time": "2023-02-24T15:10:57.452Z"
   },
   {
    "duration": 13,
    "start_time": "2023-02-24T15:10:57.473Z"
   },
   {
    "duration": 18,
    "start_time": "2023-02-24T15:10:57.504Z"
   },
   {
    "duration": 19,
    "start_time": "2023-02-24T15:10:57.524Z"
   },
   {
    "duration": 31,
    "start_time": "2023-02-24T15:10:57.545Z"
   },
   {
    "duration": 273,
    "start_time": "2023-02-24T15:10:57.577Z"
   },
   {
    "duration": 13,
    "start_time": "2023-02-24T15:10:57.852Z"
   },
   {
    "duration": 6,
    "start_time": "2023-02-24T15:10:57.868Z"
   },
   {
    "duration": 38,
    "start_time": "2023-02-24T15:10:57.876Z"
   },
   {
    "duration": 19,
    "start_time": "2023-02-24T15:10:57.916Z"
   },
   {
    "duration": 4,
    "start_time": "2023-02-24T15:10:57.937Z"
   },
   {
    "duration": 32,
    "start_time": "2023-02-24T15:10:57.942Z"
   },
   {
    "duration": 8,
    "start_time": "2023-02-24T15:10:57.976Z"
   },
   {
    "duration": 18,
    "start_time": "2023-02-24T15:10:57.986Z"
   },
   {
    "duration": 12,
    "start_time": "2023-02-24T15:10:58.006Z"
   },
   {
    "duration": 1000,
    "start_time": "2023-02-24T15:10:58.020Z"
   },
   {
    "duration": 930,
    "start_time": "2023-02-24T15:10:59.022Z"
   },
   {
    "duration": 1049,
    "start_time": "2023-02-24T15:10:59.953Z"
   },
   {
    "duration": 208,
    "start_time": "2023-02-24T15:11:01.005Z"
   },
   {
    "duration": 8,
    "start_time": "2023-02-24T15:11:01.216Z"
   },
   {
    "duration": 32,
    "start_time": "2023-02-24T15:11:01.227Z"
   },
   {
    "duration": 29,
    "start_time": "2023-02-24T15:11:01.262Z"
   },
   {
    "duration": 1542,
    "start_time": "2023-02-24T15:11:01.293Z"
   },
   {
    "duration": 1202,
    "start_time": "2023-02-24T15:11:02.837Z"
   },
   {
    "duration": 20,
    "start_time": "2023-02-24T15:11:04.042Z"
   },
   {
    "duration": 16,
    "start_time": "2023-02-24T15:11:04.066Z"
   },
   {
    "duration": 788,
    "start_time": "2023-02-24T15:11:04.084Z"
   },
   {
    "duration": 106,
    "start_time": "2023-02-24T15:11:04.874Z"
   },
   {
    "duration": 4,
    "start_time": "2023-02-24T15:11:04.982Z"
   },
   {
    "duration": 6,
    "start_time": "2023-02-24T15:11:04.988Z"
   },
   {
    "duration": 2,
    "start_time": "2023-02-24T15:11:05.003Z"
   },
   {
    "duration": 20,
    "start_time": "2023-02-24T15:11:05.007Z"
   },
   {
    "duration": 9,
    "start_time": "2023-02-24T15:11:05.029Z"
   },
   {
    "duration": 10,
    "start_time": "2023-02-24T15:11:05.040Z"
   },
   {
    "duration": 8,
    "start_time": "2023-02-24T15:11:05.051Z"
   },
   {
    "duration": 47,
    "start_time": "2023-02-24T15:11:05.061Z"
   },
   {
    "duration": 1197,
    "start_time": "2023-02-24T15:11:05.109Z"
   },
   {
    "duration": 7919,
    "start_time": "2023-02-24T15:11:06.309Z"
   },
   {
    "duration": 955747,
    "start_time": "2023-02-24T15:11:14.231Z"
   },
   {
    "duration": 1334,
    "start_time": "2023-02-24T15:27:09.980Z"
   },
   {
    "duration": 8,
    "start_time": "2023-02-24T15:27:11.321Z"
   },
   {
    "duration": 1792,
    "start_time": "2023-02-24T15:28:29.998Z"
   },
   {
    "duration": 702,
    "start_time": "2023-02-24T15:28:31.792Z"
   },
   {
    "duration": 28,
    "start_time": "2023-02-24T15:28:32.496Z"
   },
   {
    "duration": 14,
    "start_time": "2023-02-24T15:28:32.526Z"
   },
   {
    "duration": 17,
    "start_time": "2023-02-24T15:28:32.541Z"
   },
   {
    "duration": 52,
    "start_time": "2023-02-24T15:28:32.559Z"
   },
   {
    "duration": 39,
    "start_time": "2023-02-24T15:28:32.613Z"
   },
   {
    "duration": 243,
    "start_time": "2023-02-24T15:28:32.654Z"
   },
   {
    "duration": 14,
    "start_time": "2023-02-24T15:28:32.902Z"
   },
   {
    "duration": 12,
    "start_time": "2023-02-24T15:28:32.921Z"
   },
   {
    "duration": 9,
    "start_time": "2023-02-24T15:28:32.934Z"
   },
   {
    "duration": 19,
    "start_time": "2023-02-24T15:28:32.944Z"
   },
   {
    "duration": 14,
    "start_time": "2023-02-24T15:28:32.965Z"
   },
   {
    "duration": 38,
    "start_time": "2023-02-24T15:28:32.981Z"
   },
   {
    "duration": 11,
    "start_time": "2023-02-24T15:28:33.022Z"
   },
   {
    "duration": 20,
    "start_time": "2023-02-24T15:28:33.034Z"
   },
   {
    "duration": 11,
    "start_time": "2023-02-24T15:28:33.056Z"
   },
   {
    "duration": 1014,
    "start_time": "2023-02-24T15:28:33.069Z"
   },
   {
    "duration": 938,
    "start_time": "2023-02-24T15:28:34.085Z"
   },
   {
    "duration": 1099,
    "start_time": "2023-02-24T15:28:35.025Z"
   },
   {
    "duration": 201,
    "start_time": "2023-02-24T15:28:36.125Z"
   },
   {
    "duration": 6,
    "start_time": "2023-02-24T15:28:36.328Z"
   },
   {
    "duration": 7,
    "start_time": "2023-02-24T15:28:36.336Z"
   },
   {
    "duration": 5,
    "start_time": "2023-02-24T15:28:36.345Z"
   },
   {
    "duration": 1598,
    "start_time": "2023-02-24T15:28:36.352Z"
   },
   {
    "duration": 1185,
    "start_time": "2023-02-24T15:28:37.951Z"
   },
   {
    "duration": 15,
    "start_time": "2023-02-24T15:28:39.137Z"
   },
   {
    "duration": 14,
    "start_time": "2023-02-24T15:28:39.155Z"
   },
   {
    "duration": 709,
    "start_time": "2023-02-24T15:28:39.171Z"
   },
   {
    "duration": 104,
    "start_time": "2023-02-24T15:28:39.882Z"
   },
   {
    "duration": 5,
    "start_time": "2023-02-24T15:28:39.988Z"
   },
   {
    "duration": 29,
    "start_time": "2023-02-24T15:28:39.994Z"
   },
   {
    "duration": 10,
    "start_time": "2023-02-24T15:28:40.025Z"
   },
   {
    "duration": 18,
    "start_time": "2023-02-24T15:28:40.037Z"
   },
   {
    "duration": 4,
    "start_time": "2023-02-24T15:28:40.057Z"
   },
   {
    "duration": 8,
    "start_time": "2023-02-24T15:28:40.063Z"
   },
   {
    "duration": 8,
    "start_time": "2023-02-24T15:28:40.072Z"
   },
   {
    "duration": 25,
    "start_time": "2023-02-24T15:28:40.081Z"
   },
   {
    "duration": 1502,
    "start_time": "2023-02-24T15:28:40.107Z"
   },
   {
    "duration": 8210,
    "start_time": "2023-02-24T15:28:41.611Z"
   },
   {
    "duration": 48,
    "start_time": "2023-02-24T15:28:49.823Z"
   },
   {
    "duration": 0,
    "start_time": "2023-02-24T15:28:49.872Z"
   },
   {
    "duration": 0,
    "start_time": "2023-02-24T15:28:49.874Z"
   },
   {
    "duration": 16547,
    "start_time": "2023-02-24T15:28:59.032Z"
   },
   {
    "duration": 1380,
    "start_time": "2023-02-24T15:36:58.697Z"
   },
   {
    "duration": 714,
    "start_time": "2023-02-24T15:37:00.079Z"
   },
   {
    "duration": 21,
    "start_time": "2023-02-24T15:37:00.795Z"
   },
   {
    "duration": 26,
    "start_time": "2023-02-24T15:37:00.819Z"
   },
   {
    "duration": 29,
    "start_time": "2023-02-24T15:37:00.847Z"
   },
   {
    "duration": 24,
    "start_time": "2023-02-24T15:37:00.877Z"
   },
   {
    "duration": 51,
    "start_time": "2023-02-24T15:37:00.903Z"
   },
   {
    "duration": 248,
    "start_time": "2023-02-24T15:37:00.956Z"
   },
   {
    "duration": 17,
    "start_time": "2023-02-24T15:37:01.211Z"
   },
   {
    "duration": 9,
    "start_time": "2023-02-24T15:37:01.232Z"
   },
   {
    "duration": 20,
    "start_time": "2023-02-24T15:37:01.243Z"
   },
   {
    "duration": 17,
    "start_time": "2023-02-24T15:37:01.266Z"
   },
   {
    "duration": 11,
    "start_time": "2023-02-24T15:37:01.285Z"
   },
   {
    "duration": 67,
    "start_time": "2023-02-24T15:37:01.298Z"
   },
   {
    "duration": 10,
    "start_time": "2023-02-24T15:37:01.367Z"
   },
   {
    "duration": 19,
    "start_time": "2023-02-24T15:37:01.378Z"
   },
   {
    "duration": 24,
    "start_time": "2023-02-24T15:37:01.399Z"
   },
   {
    "duration": 1033,
    "start_time": "2023-02-24T15:37:01.425Z"
   },
   {
    "duration": 936,
    "start_time": "2023-02-24T15:37:02.460Z"
   },
   {
    "duration": 1333,
    "start_time": "2023-02-24T15:37:03.398Z"
   },
   {
    "duration": 214,
    "start_time": "2023-02-24T15:37:04.733Z"
   },
   {
    "duration": 6,
    "start_time": "2023-02-24T15:37:04.949Z"
   },
   {
    "duration": 10,
    "start_time": "2023-02-24T15:37:04.957Z"
   },
   {
    "duration": 6,
    "start_time": "2023-02-24T15:37:04.969Z"
   },
   {
    "duration": 1591,
    "start_time": "2023-02-24T15:37:04.977Z"
   },
   {
    "duration": 1234,
    "start_time": "2023-02-24T15:37:06.570Z"
   },
   {
    "duration": 17,
    "start_time": "2023-02-24T15:37:07.806Z"
   },
   {
    "duration": 13,
    "start_time": "2023-02-24T15:37:07.828Z"
   },
   {
    "duration": 708,
    "start_time": "2023-02-24T15:37:07.843Z"
   },
   {
    "duration": 111,
    "start_time": "2023-02-24T15:37:08.553Z"
   },
   {
    "duration": 5,
    "start_time": "2023-02-24T15:37:08.666Z"
   },
   {
    "duration": 5,
    "start_time": "2023-02-24T15:37:08.672Z"
   },
   {
    "duration": 4,
    "start_time": "2023-02-24T15:37:08.679Z"
   },
   {
    "duration": 30,
    "start_time": "2023-02-24T15:37:08.685Z"
   },
   {
    "duration": 6,
    "start_time": "2023-02-24T15:37:08.717Z"
   },
   {
    "duration": 7,
    "start_time": "2023-02-24T15:37:08.725Z"
   },
   {
    "duration": 9,
    "start_time": "2023-02-24T15:37:08.734Z"
   },
   {
    "duration": 27,
    "start_time": "2023-02-24T15:37:08.745Z"
   },
   {
    "duration": 1531,
    "start_time": "2023-02-24T15:37:08.773Z"
   },
   {
    "duration": 8081,
    "start_time": "2023-02-24T15:37:10.306Z"
   },
   {
    "duration": 1507466,
    "start_time": "2023-02-24T15:37:18.388Z"
   },
   {
    "duration": 1417,
    "start_time": "2023-02-24T16:02:25.856Z"
   },
   {
    "duration": 10,
    "start_time": "2023-02-24T16:02:27.275Z"
   },
   {
    "duration": 17892,
    "start_time": "2023-02-24T16:04:24.173Z"
   },
   {
    "duration": 8,
    "start_time": "2023-02-24T16:06:09.084Z"
   },
   {
    "duration": 1376,
    "start_time": "2023-02-24T16:06:25.222Z"
   },
   {
    "duration": 745,
    "start_time": "2023-02-24T16:06:26.600Z"
   },
   {
    "duration": 17,
    "start_time": "2023-02-24T16:06:27.346Z"
   },
   {
    "duration": 14,
    "start_time": "2023-02-24T16:06:27.365Z"
   },
   {
    "duration": 47,
    "start_time": "2023-02-24T16:06:27.381Z"
   },
   {
    "duration": 33,
    "start_time": "2023-02-24T16:06:27.430Z"
   },
   {
    "duration": 42,
    "start_time": "2023-02-24T16:06:27.465Z"
   },
   {
    "duration": 333,
    "start_time": "2023-02-24T16:06:27.508Z"
   },
   {
    "duration": 16,
    "start_time": "2023-02-24T16:06:27.843Z"
   },
   {
    "duration": 11,
    "start_time": "2023-02-24T16:06:27.861Z"
   },
   {
    "duration": 19,
    "start_time": "2023-02-24T16:06:27.874Z"
   },
   {
    "duration": 6,
    "start_time": "2023-02-24T16:06:27.905Z"
   },
   {
    "duration": 21,
    "start_time": "2023-02-24T16:06:27.913Z"
   },
   {
    "duration": 31,
    "start_time": "2023-02-24T16:06:27.938Z"
   },
   {
    "duration": 9,
    "start_time": "2023-02-24T16:06:27.971Z"
   },
   {
    "duration": 10,
    "start_time": "2023-02-24T16:06:27.982Z"
   },
   {
    "duration": 12,
    "start_time": "2023-02-24T16:06:27.994Z"
   },
   {
    "duration": 1107,
    "start_time": "2023-02-24T16:06:28.012Z"
   },
   {
    "duration": 1067,
    "start_time": "2023-02-24T16:06:29.121Z"
   },
   {
    "duration": 1328,
    "start_time": "2023-02-24T16:06:30.191Z"
   },
   {
    "duration": 221,
    "start_time": "2023-02-24T16:06:31.525Z"
   },
   {
    "duration": 6,
    "start_time": "2023-02-24T16:06:31.748Z"
   },
   {
    "duration": 72,
    "start_time": "2023-02-24T16:06:31.756Z"
   },
   {
    "duration": 16,
    "start_time": "2023-02-24T16:06:31.831Z"
   },
   {
    "duration": 1841,
    "start_time": "2023-02-24T16:06:31.849Z"
   },
   {
    "duration": 1271,
    "start_time": "2023-02-24T16:06:33.692Z"
   },
   {
    "duration": 17,
    "start_time": "2023-02-24T16:06:34.965Z"
   },
   {
    "duration": 35,
    "start_time": "2023-02-24T16:06:34.984Z"
   },
   {
    "duration": 736,
    "start_time": "2023-02-24T16:06:35.021Z"
   },
   {
    "duration": 112,
    "start_time": "2023-02-24T16:06:35.759Z"
   },
   {
    "duration": 5,
    "start_time": "2023-02-24T16:06:35.872Z"
   },
   {
    "duration": 11,
    "start_time": "2023-02-24T16:06:35.879Z"
   },
   {
    "duration": 16,
    "start_time": "2023-02-24T16:06:35.893Z"
   },
   {
    "duration": 25,
    "start_time": "2023-02-24T16:06:35.920Z"
   },
   {
    "duration": 6,
    "start_time": "2023-02-24T16:06:35.947Z"
   },
   {
    "duration": 7,
    "start_time": "2023-02-24T16:06:35.954Z"
   },
   {
    "duration": 13,
    "start_time": "2023-02-24T16:06:35.963Z"
   },
   {
    "duration": 33,
    "start_time": "2023-02-24T16:06:35.977Z"
   },
   {
    "duration": 2007,
    "start_time": "2023-02-24T16:06:36.014Z"
   },
   {
    "duration": 8269,
    "start_time": "2023-02-24T16:06:38.027Z"
   },
   {
    "duration": 482657,
    "start_time": "2023-02-24T16:06:46.302Z"
   },
   {
    "duration": 17345,
    "start_time": "2023-02-24T16:14:48.961Z"
   },
   {
    "duration": 8,
    "start_time": "2023-02-24T16:15:06.316Z"
   },
   {
    "duration": 20871,
    "start_time": "2023-02-24T16:15:59.328Z"
   },
   {
    "duration": 17165,
    "start_time": "2023-02-24T16:16:32.281Z"
   },
   {
    "duration": 95305,
    "start_time": "2023-02-24T16:17:58.721Z"
   },
   {
    "duration": 1419,
    "start_time": "2023-02-24T16:20:10.799Z"
   },
   {
    "duration": 744,
    "start_time": "2023-02-24T16:20:12.221Z"
   },
   {
    "duration": 20,
    "start_time": "2023-02-24T16:20:12.967Z"
   },
   {
    "duration": 21,
    "start_time": "2023-02-24T16:20:13.005Z"
   },
   {
    "duration": 27,
    "start_time": "2023-02-24T16:20:13.028Z"
   },
   {
    "duration": 19,
    "start_time": "2023-02-24T16:20:13.057Z"
   },
   {
    "duration": 54,
    "start_time": "2023-02-24T16:20:13.078Z"
   },
   {
    "duration": 242,
    "start_time": "2023-02-24T16:20:13.134Z"
   },
   {
    "duration": 12,
    "start_time": "2023-02-24T16:20:13.377Z"
   },
   {
    "duration": 11,
    "start_time": "2023-02-24T16:20:13.405Z"
   },
   {
    "duration": 9,
    "start_time": "2023-02-24T16:20:13.417Z"
   },
   {
    "duration": 7,
    "start_time": "2023-02-24T16:20:13.428Z"
   },
   {
    "duration": 4,
    "start_time": "2023-02-24T16:20:13.436Z"
   },
   {
    "duration": 26,
    "start_time": "2023-02-24T16:20:13.442Z"
   },
   {
    "duration": 8,
    "start_time": "2023-02-24T16:20:13.470Z"
   },
   {
    "duration": 30,
    "start_time": "2023-02-24T16:20:13.480Z"
   },
   {
    "duration": 15,
    "start_time": "2023-02-24T16:20:13.511Z"
   },
   {
    "duration": 1033,
    "start_time": "2023-02-24T16:20:13.528Z"
   },
   {
    "duration": 910,
    "start_time": "2023-02-24T16:20:14.564Z"
   },
   {
    "duration": 1139,
    "start_time": "2023-02-24T16:20:15.475Z"
   },
   {
    "duration": 205,
    "start_time": "2023-02-24T16:20:16.617Z"
   },
   {
    "duration": 5,
    "start_time": "2023-02-24T16:20:16.824Z"
   },
   {
    "duration": 11,
    "start_time": "2023-02-24T16:20:16.830Z"
   },
   {
    "duration": 8,
    "start_time": "2023-02-24T16:20:16.843Z"
   },
   {
    "duration": 1499,
    "start_time": "2023-02-24T16:20:16.852Z"
   },
   {
    "duration": 1128,
    "start_time": "2023-02-24T16:20:18.353Z"
   },
   {
    "duration": 22,
    "start_time": "2023-02-24T16:20:19.482Z"
   },
   {
    "duration": 15,
    "start_time": "2023-02-24T16:20:19.508Z"
   },
   {
    "duration": 740,
    "start_time": "2023-02-24T16:20:19.525Z"
   },
   {
    "duration": 107,
    "start_time": "2023-02-24T16:20:20.267Z"
   },
   {
    "duration": 5,
    "start_time": "2023-02-24T16:20:20.376Z"
   },
   {
    "duration": 9,
    "start_time": "2023-02-24T16:20:20.382Z"
   },
   {
    "duration": 15,
    "start_time": "2023-02-24T16:20:20.393Z"
   },
   {
    "duration": 19,
    "start_time": "2023-02-24T16:20:20.410Z"
   },
   {
    "duration": 12,
    "start_time": "2023-02-24T16:20:20.431Z"
   },
   {
    "duration": 9,
    "start_time": "2023-02-24T16:20:20.445Z"
   },
   {
    "duration": 10,
    "start_time": "2023-02-24T16:20:20.456Z"
   },
   {
    "duration": 23,
    "start_time": "2023-02-24T16:20:20.468Z"
   },
   {
    "duration": 917,
    "start_time": "2023-02-24T16:20:20.494Z"
   },
   {
    "duration": 7952,
    "start_time": "2023-02-24T16:20:21.413Z"
   },
   {
    "duration": 118712,
    "start_time": "2023-02-24T16:20:29.367Z"
   },
   {
    "duration": 17527,
    "start_time": "2023-02-24T16:22:28.081Z"
   },
   {
    "duration": 11,
    "start_time": "2023-02-24T16:22:45.612Z"
   },
   {
    "duration": 20472,
    "start_time": "2023-02-24T16:23:49.985Z"
   },
   {
    "duration": 1434,
    "start_time": "2023-02-24T16:24:36.576Z"
   },
   {
    "duration": 705,
    "start_time": "2023-02-24T16:24:38.016Z"
   },
   {
    "duration": 18,
    "start_time": "2023-02-24T16:24:38.723Z"
   },
   {
    "duration": 13,
    "start_time": "2023-02-24T16:24:38.744Z"
   },
   {
    "duration": 44,
    "start_time": "2023-02-24T16:24:38.759Z"
   },
   {
    "duration": 27,
    "start_time": "2023-02-24T16:24:38.806Z"
   },
   {
    "duration": 30,
    "start_time": "2023-02-24T16:24:38.835Z"
   },
   {
    "duration": 277,
    "start_time": "2023-02-24T16:24:38.866Z"
   },
   {
    "duration": 15,
    "start_time": "2023-02-24T16:24:39.145Z"
   },
   {
    "duration": 11,
    "start_time": "2023-02-24T16:24:39.163Z"
   },
   {
    "duration": 26,
    "start_time": "2023-02-24T16:24:39.177Z"
   },
   {
    "duration": 18,
    "start_time": "2023-02-24T16:24:39.205Z"
   },
   {
    "duration": 22,
    "start_time": "2023-02-24T16:24:39.229Z"
   },
   {
    "duration": 37,
    "start_time": "2023-02-24T16:24:39.253Z"
   },
   {
    "duration": 8,
    "start_time": "2023-02-24T16:24:39.292Z"
   },
   {
    "duration": 26,
    "start_time": "2023-02-24T16:24:39.301Z"
   },
   {
    "duration": 12,
    "start_time": "2023-02-24T16:24:39.328Z"
   },
   {
    "duration": 983,
    "start_time": "2023-02-24T16:24:39.342Z"
   },
   {
    "duration": 923,
    "start_time": "2023-02-24T16:24:40.326Z"
   },
   {
    "duration": 1124,
    "start_time": "2023-02-24T16:24:41.251Z"
   },
   {
    "duration": 208,
    "start_time": "2023-02-24T16:24:42.377Z"
   },
   {
    "duration": 19,
    "start_time": "2023-02-24T16:24:42.587Z"
   },
   {
    "duration": 16,
    "start_time": "2023-02-24T16:24:42.609Z"
   },
   {
    "duration": 9,
    "start_time": "2023-02-24T16:24:42.627Z"
   },
   {
    "duration": 1572,
    "start_time": "2023-02-24T16:24:42.638Z"
   },
   {
    "duration": 1320,
    "start_time": "2023-02-24T16:24:44.212Z"
   },
   {
    "duration": 14,
    "start_time": "2023-02-24T16:24:45.535Z"
   },
   {
    "duration": 17,
    "start_time": "2023-02-24T16:24:45.553Z"
   },
   {
    "duration": 743,
    "start_time": "2023-02-24T16:24:45.572Z"
   },
   {
    "duration": 119,
    "start_time": "2023-02-24T16:24:46.317Z"
   },
   {
    "duration": 5,
    "start_time": "2023-02-24T16:24:46.437Z"
   },
   {
    "duration": 6,
    "start_time": "2023-02-24T16:24:46.444Z"
   },
   {
    "duration": 6,
    "start_time": "2023-02-24T16:24:46.452Z"
   },
   {
    "duration": 17,
    "start_time": "2023-02-24T16:24:46.460Z"
   },
   {
    "duration": 5,
    "start_time": "2023-02-24T16:24:46.478Z"
   },
   {
    "duration": 19,
    "start_time": "2023-02-24T16:24:46.485Z"
   },
   {
    "duration": 24,
    "start_time": "2023-02-24T16:24:46.506Z"
   },
   {
    "duration": 24,
    "start_time": "2023-02-24T16:24:46.532Z"
   },
   {
    "duration": 1151,
    "start_time": "2023-02-24T16:24:46.558Z"
   },
   {
    "duration": 8333,
    "start_time": "2023-02-24T16:24:47.712Z"
   },
   {
    "duration": 123529,
    "start_time": "2023-02-24T16:24:56.047Z"
   },
   {
    "duration": 20791,
    "start_time": "2023-02-24T16:26:59.578Z"
   },
   {
    "duration": 8,
    "start_time": "2023-02-24T16:27:20.372Z"
   }
  ],
  "kernelspec": {
   "display_name": "Python 3 (ipykernel)",
   "language": "python",
   "name": "python3"
  },
  "language_info": {
   "codemirror_mode": {
    "name": "ipython",
    "version": 3
   },
   "file_extension": ".py",
   "mimetype": "text/x-python",
   "name": "python",
   "nbconvert_exporter": "python",
   "pygments_lexer": "ipython3",
   "version": "3.9.12"
  },
  "toc": {
   "base_numbering": 1,
   "nav_menu": {},
   "number_sections": true,
   "sideBar": true,
   "skip_h1_title": true,
   "title_cell": "Содержание",
   "title_sidebar": "Contents",
   "toc_cell": true,
   "toc_position": {
    "height": "734.133px",
    "left": "148px",
    "top": "153.333px",
    "width": "392px"
   },
   "toc_section_display": true,
   "toc_window_display": true
  }
 },
 "nbformat": 4,
 "nbformat_minor": 2
}
