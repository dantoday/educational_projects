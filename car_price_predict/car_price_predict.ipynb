{
 "cells": [
  {
   "cell_type": "markdown",
   "metadata": {},
   "source": [
    "# Определение стоимости автомобилей"
   ]
  },
  {
   "cell_type": "markdown",
   "metadata": {},
   "source": [
    "Сервис по продаже автомобилей с пробегом разрабатывает приложение для привлечения новых клиентов. В нём можно быстро узнать рыночную стоимость своего автомобиля. В нашем распоряжении исторические данные: технические характеристики, комплектации и цены автомобилей. Необходимо построить модель для определения стоимости. Для оценки качества моделей необходимо применять метрику RMSE. Значение метрики RMSE должно быть меньше 2500.\n",
    "\n",
    "Важные параметры:\n",
    "\n",
    "- качество предсказания;\n",
    "- скорость предсказания;\n",
    "- время обучения."
   ]
  },
  {
   "cell_type": "markdown",
   "metadata": {},
   "source": [
    "Признаки:\n",
    "```\n",
    "DateCrawled — дата скачивания анкеты из базы\n",
    "VehicleType — тип автомобильного кузова\n",
    "RegistrationYear — год регистрации автомобиля\n",
    "Gearbox — тип коробки передач\n",
    "Power — мощность (л. с.)\n",
    "Model — модель автомобиля\n",
    "Kilometer — пробег (км)\n",
    "RegistrationMonth — месяц регистрации автомобиля\n",
    "FuelType — тип топлива\n",
    "Brand — марка автомобиля\n",
    "Repaired — была машина в ремонте или нет\n",
    "DateCreated — дата создания анкеты\n",
    "NumberOfPictures — количество фотографий автомобиля\n",
    "PostalCode — почтовый индекс владельца анкеты (пользователя)\n",
    "LastSeen — дата последней активности пользователя\n",
    "```\n",
    "Целевой признак\n",
    "```\n",
    "Price — цена (евро)\n",
    "```"
   ]
  },
  {
   "cell_type": "markdown",
   "metadata": {},
   "source": [
    "## Подготовка данных"
   ]
  },
  {
   "cell_type": "markdown",
   "metadata": {},
   "source": [
    "Импортируем необходимые библиотеки:"
   ]
  },
  {
   "cell_type": "code",
   "execution_count": 1,
   "metadata": {
    "scrolled": false
   },
   "outputs": [
    {
     "name": "stdout",
     "output_type": "stream",
     "text": [
      "Requirement already satisfied: lightgbm in c:\\users\\synle\\anaconda3\\lib\\site-packages (3.3.5)\n",
      "Requirement already satisfied: numpy in c:\\users\\synle\\anaconda3\\lib\\site-packages (from lightgbm) (1.21.5)\n",
      "Requirement already satisfied: wheel in c:\\users\\synle\\anaconda3\\lib\\site-packages (from lightgbm) (0.37.1)\n",
      "Requirement already satisfied: scipy in c:\\users\\synle\\anaconda3\\lib\\site-packages (from lightgbm) (1.7.3)\n",
      "Requirement already satisfied: scikit-learn!=0.22.0 in c:\\users\\synle\\anaconda3\\lib\\site-packages (from lightgbm) (1.0.2)\n",
      "Requirement already satisfied: threadpoolctl>=2.0.0 in c:\\users\\synle\\anaconda3\\lib\\site-packages (from scikit-learn!=0.22.0->lightgbm) (2.2.0)\n",
      "Requirement already satisfied: joblib>=0.11 in c:\\users\\synle\\anaconda3\\lib\\site-packages (from scikit-learn!=0.22.0->lightgbm) (1.1.0)\n",
      "Note: you may need to restart the kernel to use updated packages.\n"
     ]
    }
   ],
   "source": [
    "pip install lightgbm"
   ]
  },
  {
   "cell_type": "code",
   "execution_count": 2,
   "metadata": {},
   "outputs": [],
   "source": [
    "import pandas as pd\n",
    "import numpy as np\n",
    "\n",
    "from datetime import datetime\n",
    "\n",
    "from sklearn.preprocessing import StandardScaler, OneHotEncoder\n",
    "from sklearn.model_selection import train_test_split\n",
    "from sklearn.metrics import mean_squared_error, make_scorer\n",
    "from sklearn.model_selection import GridSearchCV\n",
    "from sklearn.linear_model import LinearRegression\n",
    "from sklearn.ensemble import RandomForestRegressor\n",
    "from sklearn.dummy import DummyRegressor\n",
    "from sklearn.compose import make_column_transformer\n",
    "from sklearn.pipeline import Pipeline\n",
    "\n",
    "from lightgbm import LGBMRegressor"
   ]
  },
  {
   "cell_type": "markdown",
   "metadata": {},
   "source": [
    "### Загрузка и изучение данных"
   ]
  },
  {
   "cell_type": "markdown",
   "metadata": {},
   "source": [
    "Загрузим данные:"
   ]
  },
  {
   "cell_type": "code",
   "execution_count": 3,
   "metadata": {},
   "outputs": [],
   "source": [
    "data = pd.read_csv('https://code.s3.yandex.net/datasets/autos.csv')"
   ]
  },
  {
   "cell_type": "code",
   "execution_count": 4,
   "metadata": {
    "scrolled": false
   },
   "outputs": [
    {
     "data": {
      "text/html": [
       "<div>\n",
       "<style scoped>\n",
       "    .dataframe tbody tr th:only-of-type {\n",
       "        vertical-align: middle;\n",
       "    }\n",
       "\n",
       "    .dataframe tbody tr th {\n",
       "        vertical-align: top;\n",
       "    }\n",
       "\n",
       "    .dataframe thead th {\n",
       "        text-align: right;\n",
       "    }\n",
       "</style>\n",
       "<table border=\"1\" class=\"dataframe\">\n",
       "  <thead>\n",
       "    <tr style=\"text-align: right;\">\n",
       "      <th></th>\n",
       "      <th>0</th>\n",
       "      <th>1</th>\n",
       "      <th>2</th>\n",
       "      <th>3</th>\n",
       "    </tr>\n",
       "  </thead>\n",
       "  <tbody>\n",
       "    <tr>\n",
       "      <th>DateCrawled</th>\n",
       "      <td>2016-03-24 11:52:17</td>\n",
       "      <td>2016-03-24 10:58:45</td>\n",
       "      <td>2016-03-14 12:52:21</td>\n",
       "      <td>2016-03-17 16:54:04</td>\n",
       "    </tr>\n",
       "    <tr>\n",
       "      <th>Price</th>\n",
       "      <td>480</td>\n",
       "      <td>18300</td>\n",
       "      <td>9800</td>\n",
       "      <td>1500</td>\n",
       "    </tr>\n",
       "    <tr>\n",
       "      <th>VehicleType</th>\n",
       "      <td>NaN</td>\n",
       "      <td>coupe</td>\n",
       "      <td>suv</td>\n",
       "      <td>small</td>\n",
       "    </tr>\n",
       "    <tr>\n",
       "      <th>RegistrationYear</th>\n",
       "      <td>1993</td>\n",
       "      <td>2011</td>\n",
       "      <td>2004</td>\n",
       "      <td>2001</td>\n",
       "    </tr>\n",
       "    <tr>\n",
       "      <th>Gearbox</th>\n",
       "      <td>manual</td>\n",
       "      <td>manual</td>\n",
       "      <td>auto</td>\n",
       "      <td>manual</td>\n",
       "    </tr>\n",
       "    <tr>\n",
       "      <th>Power</th>\n",
       "      <td>0</td>\n",
       "      <td>190</td>\n",
       "      <td>163</td>\n",
       "      <td>75</td>\n",
       "    </tr>\n",
       "    <tr>\n",
       "      <th>Model</th>\n",
       "      <td>golf</td>\n",
       "      <td>NaN</td>\n",
       "      <td>grand</td>\n",
       "      <td>golf</td>\n",
       "    </tr>\n",
       "    <tr>\n",
       "      <th>Kilometer</th>\n",
       "      <td>150000</td>\n",
       "      <td>125000</td>\n",
       "      <td>125000</td>\n",
       "      <td>150000</td>\n",
       "    </tr>\n",
       "    <tr>\n",
       "      <th>RegistrationMonth</th>\n",
       "      <td>0</td>\n",
       "      <td>5</td>\n",
       "      <td>8</td>\n",
       "      <td>6</td>\n",
       "    </tr>\n",
       "    <tr>\n",
       "      <th>FuelType</th>\n",
       "      <td>petrol</td>\n",
       "      <td>gasoline</td>\n",
       "      <td>gasoline</td>\n",
       "      <td>petrol</td>\n",
       "    </tr>\n",
       "    <tr>\n",
       "      <th>Brand</th>\n",
       "      <td>volkswagen</td>\n",
       "      <td>audi</td>\n",
       "      <td>jeep</td>\n",
       "      <td>volkswagen</td>\n",
       "    </tr>\n",
       "    <tr>\n",
       "      <th>Repaired</th>\n",
       "      <td>NaN</td>\n",
       "      <td>yes</td>\n",
       "      <td>NaN</td>\n",
       "      <td>no</td>\n",
       "    </tr>\n",
       "    <tr>\n",
       "      <th>DateCreated</th>\n",
       "      <td>2016-03-24 00:00:00</td>\n",
       "      <td>2016-03-24 00:00:00</td>\n",
       "      <td>2016-03-14 00:00:00</td>\n",
       "      <td>2016-03-17 00:00:00</td>\n",
       "    </tr>\n",
       "    <tr>\n",
       "      <th>NumberOfPictures</th>\n",
       "      <td>0</td>\n",
       "      <td>0</td>\n",
       "      <td>0</td>\n",
       "      <td>0</td>\n",
       "    </tr>\n",
       "    <tr>\n",
       "      <th>PostalCode</th>\n",
       "      <td>70435</td>\n",
       "      <td>66954</td>\n",
       "      <td>90480</td>\n",
       "      <td>91074</td>\n",
       "    </tr>\n",
       "    <tr>\n",
       "      <th>LastSeen</th>\n",
       "      <td>2016-04-07 03:16:57</td>\n",
       "      <td>2016-04-07 01:46:50</td>\n",
       "      <td>2016-04-05 12:47:46</td>\n",
       "      <td>2016-03-17 17:40:17</td>\n",
       "    </tr>\n",
       "  </tbody>\n",
       "</table>\n",
       "</div>"
      ],
      "text/plain": [
       "                                     0                    1  \\\n",
       "DateCrawled        2016-03-24 11:52:17  2016-03-24 10:58:45   \n",
       "Price                              480                18300   \n",
       "VehicleType                        NaN                coupe   \n",
       "RegistrationYear                  1993                 2011   \n",
       "Gearbox                         manual               manual   \n",
       "Power                                0                  190   \n",
       "Model                             golf                  NaN   \n",
       "Kilometer                       150000               125000   \n",
       "RegistrationMonth                    0                    5   \n",
       "FuelType                        petrol             gasoline   \n",
       "Brand                       volkswagen                 audi   \n",
       "Repaired                           NaN                  yes   \n",
       "DateCreated        2016-03-24 00:00:00  2016-03-24 00:00:00   \n",
       "NumberOfPictures                     0                    0   \n",
       "PostalCode                       70435                66954   \n",
       "LastSeen           2016-04-07 03:16:57  2016-04-07 01:46:50   \n",
       "\n",
       "                                     2                    3  \n",
       "DateCrawled        2016-03-14 12:52:21  2016-03-17 16:54:04  \n",
       "Price                             9800                 1500  \n",
       "VehicleType                        suv                small  \n",
       "RegistrationYear                  2004                 2001  \n",
       "Gearbox                           auto               manual  \n",
       "Power                              163                   75  \n",
       "Model                            grand                 golf  \n",
       "Kilometer                       125000               150000  \n",
       "RegistrationMonth                    8                    6  \n",
       "FuelType                      gasoline               petrol  \n",
       "Brand                             jeep           volkswagen  \n",
       "Repaired                           NaN                   no  \n",
       "DateCreated        2016-03-14 00:00:00  2016-03-17 00:00:00  \n",
       "NumberOfPictures                     0                    0  \n",
       "PostalCode                       90480                91074  \n",
       "LastSeen           2016-04-05 12:47:46  2016-03-17 17:40:17  "
      ]
     },
     "execution_count": 4,
     "metadata": {},
     "output_type": "execute_result"
    }
   ],
   "source": [
    "data[:4].transpose()"
   ]
  },
  {
   "cell_type": "markdown",
   "metadata": {},
   "source": [
    "Уже на этом этапе можно сказать, что для дальнейшей работы не понадобятся некоторые столбцы, которые не влияют на цену. А именно дата загрузки анкеты, месяц регистрации (достаточно года), дата создания анкеты, количество фотографий, а так же когда в последний раз был в сети пользователь. Перед этим узнаем только, когда были выгружены в последний раз данные, чтобы убрать в дальнейшем возможные ошибки со временем."
   ]
  },
  {
   "cell_type": "code",
   "execution_count": 5,
   "metadata": {},
   "outputs": [
    {
     "data": {
      "text/plain": [
       "Timestamp('2016-03-05 14:06:22')"
      ]
     },
     "execution_count": 5,
     "metadata": {},
     "output_type": "execute_result"
    }
   ],
   "source": [
    "data['DateCrawled'] = pd.to_datetime(data['DateCrawled'])\n",
    "data['DateCrawled'].min()"
   ]
  },
  {
   "cell_type": "markdown",
   "metadata": {},
   "source": [
    "Последний раз выгружали данные в 2016 году."
   ]
  },
  {
   "cell_type": "code",
   "execution_count": 6,
   "metadata": {},
   "outputs": [],
   "source": [
    "data.drop(['DateCrawled', 'RegistrationMonth', 'DateCreated', 'NumberOfPictures', 'PostalCode', 'LastSeen'], axis=1, inplace=True)"
   ]
  },
  {
   "cell_type": "markdown",
   "metadata": {},
   "source": [
    "Выведем информацию о данных:"
   ]
  },
  {
   "cell_type": "code",
   "execution_count": 7,
   "metadata": {},
   "outputs": [
    {
     "name": "stdout",
     "output_type": "stream",
     "text": [
      "<class 'pandas.core.frame.DataFrame'>\n",
      "RangeIndex: 354369 entries, 0 to 354368\n",
      "Data columns (total 10 columns):\n",
      " #   Column            Non-Null Count   Dtype \n",
      "---  ------            --------------   ----- \n",
      " 0   Price             354369 non-null  int64 \n",
      " 1   VehicleType       316879 non-null  object\n",
      " 2   RegistrationYear  354369 non-null  int64 \n",
      " 3   Gearbox           334536 non-null  object\n",
      " 4   Power             354369 non-null  int64 \n",
      " 5   Model             334664 non-null  object\n",
      " 6   Kilometer         354369 non-null  int64 \n",
      " 7   FuelType          321474 non-null  object\n",
      " 8   Brand             354369 non-null  object\n",
      " 9   Repaired          283215 non-null  object\n",
      "dtypes: int64(4), object(6)\n",
      "memory usage: 27.0+ MB\n"
     ]
    }
   ],
   "source": [
    "data.info()"
   ]
  },
  {
   "cell_type": "markdown",
   "metadata": {},
   "source": [
    "Переименуем оставшиеся столбцы:"
   ]
  },
  {
   "cell_type": "code",
   "execution_count": 8,
   "metadata": {},
   "outputs": [
    {
     "data": {
      "text/plain": [
       "Index(['price', 'vehicle_type', 'registration_year', 'gearbox', 'power',\n",
       "       'model', 'kilometer', 'fuel_type', 'brand', 'repaired'],\n",
       "      dtype='object')"
      ]
     },
     "execution_count": 8,
     "metadata": {},
     "output_type": "execute_result"
    }
   ],
   "source": [
    "data = data.rename(columns={'VehicleType': 'Vehicle_Type', 'RegistrationYear': 'Registration_Year', 'FuelType':'Fuel_Type'})\n",
    "data.columns = data.columns.str.lower()\n",
    "data.columns"
   ]
  },
  {
   "cell_type": "markdown",
   "metadata": {},
   "source": [
    "### Проверка на дубликаты"
   ]
  },
  {
   "cell_type": "code",
   "execution_count": 9,
   "metadata": {
    "scrolled": true
   },
   "outputs": [
    {
     "data": {
      "text/plain": [
       "45040"
      ]
     },
     "execution_count": 9,
     "metadata": {},
     "output_type": "execute_result"
    }
   ],
   "source": [
    "data.duplicated().sum()"
   ]
  },
  {
   "cell_type": "markdown",
   "metadata": {},
   "source": [
    "Удалим дубликаты:"
   ]
  },
  {
   "cell_type": "code",
   "execution_count": 10,
   "metadata": {},
   "outputs": [],
   "source": [
    "data.drop_duplicates(inplace = True)"
   ]
  },
  {
   "cell_type": "markdown",
   "metadata": {},
   "source": [
    "Выведем для удобства столбцы с категориальными значениями и количественными:"
   ]
  },
  {
   "cell_type": "code",
   "execution_count": 11,
   "metadata": {},
   "outputs": [],
   "source": [
    "categorical_columns = ['vehicle_type','gearbox','model', 'fuel_type', 'brand', 'repaired']\n",
    "numerical_columns = ['registration_year','power','kilometer']"
   ]
  },
  {
   "cell_type": "markdown",
   "metadata": {},
   "source": [
    "Изучим их уникальные значения, чтобы по возможности проверить на неявные дубликаты:"
   ]
  },
  {
   "cell_type": "code",
   "execution_count": 12,
   "metadata": {
    "scrolled": false
   },
   "outputs": [
    {
     "name": "stdout",
     "output_type": "stream",
     "text": [
      "Unique values of vehicle_type: [nan 'coupe' 'suv' 'small' 'sedan' 'convertible' 'bus' 'wagon' 'other']\n",
      "\n",
      "\n",
      "Unique values of gearbox: ['manual' 'auto' nan]\n",
      "\n",
      "\n",
      "Unique values of model: ['golf' nan 'grand' 'fabia' '3er' '2_reihe' 'other' 'c_max' '3_reihe'\n",
      " 'passat' 'navara' 'ka' 'polo' 'twingo' 'a_klasse' 'scirocco' '5er'\n",
      " 'meriva' 'arosa' 'c4' 'civic' 'transporter' 'punto' 'e_klasse' 'clio'\n",
      " 'kadett' 'kangoo' 'corsa' 'one' 'fortwo' '1er' 'b_klasse' 'signum'\n",
      " 'astra' 'a8' 'jetta' 'fiesta' 'c_klasse' 'micra' 'vito' 'sprinter' '156'\n",
      " 'escort' 'forester' 'xc_reihe' 'scenic' 'a4' 'a1' 'insignia' 'combo'\n",
      " 'focus' 'tt' 'a6' 'jazz' 'omega' 'slk' '7er' '80' '147' '100' 'z_reihe'\n",
      " 'sportage' 'sorento' 'v40' 'ibiza' 'mustang' 'eos' 'touran' 'getz' 'a3'\n",
      " 'almera' 'megane' 'lupo' 'r19' 'zafira' 'caddy' 'mondeo' 'cordoba' 'colt'\n",
      " 'impreza' 'vectra' 'berlingo' 'tiguan' 'i_reihe' 'espace' 'sharan'\n",
      " '6_reihe' 'panda' 'up' 'seicento' 'ceed' '5_reihe' 'yeti' 'octavia' 'mii'\n",
      " 'rx_reihe' '6er' 'modus' 'fox' 'matiz' 'beetle' 'c1' 'rio' 'touareg'\n",
      " 'logan' 'spider' 'cuore' 's_max' 'a2' 'galaxy' 'c3' 'viano' 's_klasse'\n",
      " '1_reihe' 'avensis' 'roomster' 'sl' 'kaefer' 'santa' 'cooper' 'leon'\n",
      " '4_reihe' 'a5' '500' 'laguna' 'ptcruiser' 'clk' 'primera' 'x_reihe'\n",
      " 'exeo' '159' 'transit' 'juke' 'qashqai' 'carisma' 'accord' 'corolla'\n",
      " 'lanos' 'phaeton' 'verso' 'swift' 'rav' 'picanto' 'boxster' 'kalos'\n",
      " 'superb' 'stilo' 'alhambra' 'mx_reihe' 'roadster' 'ypsilon' 'cayenne'\n",
      " 'galant' 'justy' '90' 'sirion' 'crossfire' 'agila' 'duster' 'cr_reihe'\n",
      " 'v50' 'c_reihe' 'v_klasse' 'm_klasse' 'yaris' 'c5' 'aygo' 'cc' 'carnival'\n",
      " 'fusion' '911' 'bora' 'forfour' 'm_reihe' 'cl' 'tigra' '300c' 'spark'\n",
      " 'v70' 'kuga' 'x_type' 'ducato' 's_type' 'x_trail' 'toledo' 'altea'\n",
      " 'voyager' 'calibra' 'bravo' 'antara' 'tucson' 'citigo' 'jimny' 'wrangler'\n",
      " 'lybra' 'q7' 'lancer' 'captiva' 'c2' 'discovery' 'freelander' 'sandero'\n",
      " 'note' '900' 'cherokee' 'clubman' 'samara' 'defender' '601' 'cx_reihe'\n",
      " 'legacy' 'pajero' 'auris' 'niva' 's60' 'nubira' 'vivaro' 'g_klasse'\n",
      " 'lodgy' '850' 'range_rover' 'q3' 'serie_2' 'glk' 'charade' 'croma'\n",
      " 'outlander' 'doblo' 'musa' 'move' '9000' 'v60' '145' 'aveo' '200' 'b_max'\n",
      " 'range_rover_sport' 'terios' 'rangerover' 'q5' 'range_rover_evoque'\n",
      " 'materia' 'delta' 'gl' 'kalina' 'amarok' 'elefantino' 'i3' 'kappa'\n",
      " 'serie_3' 'serie_1']\n",
      "\n",
      "\n",
      "Unique values of fuel_type: ['petrol' 'gasoline' nan 'lpg' 'other' 'hybrid' 'cng' 'electric']\n",
      "\n",
      "\n",
      "Unique values of brand: ['volkswagen' 'audi' 'jeep' 'skoda' 'bmw' 'peugeot' 'ford' 'mazda'\n",
      " 'nissan' 'renault' 'mercedes_benz' 'opel' 'seat' 'citroen' 'honda' 'fiat'\n",
      " 'mini' 'smart' 'hyundai' 'sonstige_autos' 'alfa_romeo' 'subaru' 'volvo'\n",
      " 'mitsubishi' 'kia' 'suzuki' 'lancia' 'toyota' 'chevrolet' 'dacia'\n",
      " 'daihatsu' 'trabant' 'saab' 'chrysler' 'jaguar' 'daewoo' 'porsche'\n",
      " 'rover' 'land_rover' 'lada']\n",
      "\n",
      "\n",
      "Unique values of repaired: [nan 'yes' 'no']\n",
      "\n",
      "\n"
     ]
    }
   ],
   "source": [
    "for column in data[categorical_columns].columns:\n",
    "    unique_values = data[column].unique()\n",
    "    print(f\"Unique values of {column}: {unique_values}\\n\\n\")"
   ]
  },
  {
   "cell_type": "markdown",
   "metadata": {},
   "source": [
    "Неявных дубликатов не обнаружено, но обнаружены пропуски. Заполним их словом 'Unknown':"
   ]
  },
  {
   "cell_type": "code",
   "execution_count": 13,
   "metadata": {},
   "outputs": [],
   "source": [
    "data[categorical_columns] = data[categorical_columns].fillna(value='Unknown')"
   ]
  },
  {
   "cell_type": "markdown",
   "metadata": {},
   "source": [
    "### Проверка на пропуски"
   ]
  },
  {
   "cell_type": "code",
   "execution_count": 14,
   "metadata": {
    "scrolled": false
   },
   "outputs": [
    {
     "data": {
      "text/plain": [
       "price                0\n",
       "vehicle_type         0\n",
       "registration_year    0\n",
       "gearbox              0\n",
       "power                0\n",
       "model                0\n",
       "kilometer            0\n",
       "fuel_type            0\n",
       "brand                0\n",
       "repaired             0\n",
       "dtype: int64"
      ]
     },
     "metadata": {},
     "output_type": "display_data"
    }
   ],
   "source": [
    "display(data.isna().sum())"
   ]
  },
  {
   "cell_type": "markdown",
   "metadata": {},
   "source": [
    "Пропусков нет."
   ]
  },
  {
   "cell_type": "markdown",
   "metadata": {},
   "source": [
    "### Проверка на выбросы"
   ]
  },
  {
   "cell_type": "markdown",
   "metadata": {},
   "source": [
    "Проверим столбцы с количественными столбцами на выбросы:"
   ]
  },
  {
   "cell_type": "code",
   "execution_count": 15,
   "metadata": {
    "scrolled": false
   },
   "outputs": [
    {
     "data": {
      "image/png": "[encoded data removed]",
      "text/plain": [
       "<Figure size 1080x720 with 4 Axes>"
      ]
     },
     "metadata": {
      "needs_background": "light"
     },
     "output_type": "display_data"
    }
   ],
   "source": [
    "data.hist(figsize=(15, 10), bins=100, grid=False);"
   ]
  },
  {
   "cell_type": "markdown",
   "metadata": {},
   "source": [
    "Есть очевидные выбросы в годе регистрации и мощности двигателя:"
   ]
  },
  {
   "cell_type": "markdown",
   "metadata": {},
   "source": [
    "Вызовем метод describe():"
   ]
  },
  {
   "cell_type": "code",
   "execution_count": 16,
   "metadata": {
    "scrolled": true
   },
   "outputs": [
    {
     "data": {
      "text/html": [
       "<div>\n",
       "<style scoped>\n",
       "    .dataframe tbody tr th:only-of-type {\n",
       "        vertical-align: middle;\n",
       "    }\n",
       "\n",
       "    .dataframe tbody tr th {\n",
       "        vertical-align: top;\n",
       "    }\n",
       "\n",
       "    .dataframe thead th {\n",
       "        text-align: right;\n",
       "    }\n",
       "</style>\n",
       "<table border=\"1\" class=\"dataframe\">\n",
       "  <thead>\n",
       "    <tr style=\"text-align: right;\">\n",
       "      <th></th>\n",
       "      <th>price</th>\n",
       "      <th>registration_year</th>\n",
       "      <th>power</th>\n",
       "      <th>kilometer</th>\n",
       "    </tr>\n",
       "  </thead>\n",
       "  <tbody>\n",
       "    <tr>\n",
       "      <th>count</th>\n",
       "      <td>309329.000000</td>\n",
       "      <td>309329.000000</td>\n",
       "      <td>309329.000000</td>\n",
       "      <td>309329.000000</td>\n",
       "    </tr>\n",
       "    <tr>\n",
       "      <th>mean</th>\n",
       "      <td>4486.937196</td>\n",
       "      <td>2004.360105</td>\n",
       "      <td>110.976908</td>\n",
       "      <td>127217.735809</td>\n",
       "    </tr>\n",
       "    <tr>\n",
       "      <th>std</th>\n",
       "      <td>4564.852796</td>\n",
       "      <td>92.541399</td>\n",
       "      <td>200.969473</td>\n",
       "      <td>38532.941010</td>\n",
       "    </tr>\n",
       "    <tr>\n",
       "      <th>min</th>\n",
       "      <td>0.000000</td>\n",
       "      <td>1000.000000</td>\n",
       "      <td>0.000000</td>\n",
       "      <td>5000.000000</td>\n",
       "    </tr>\n",
       "    <tr>\n",
       "      <th>25%</th>\n",
       "      <td>1100.000000</td>\n",
       "      <td>1999.000000</td>\n",
       "      <td>69.000000</td>\n",
       "      <td>125000.000000</td>\n",
       "    </tr>\n",
       "    <tr>\n",
       "      <th>50%</th>\n",
       "      <td>2800.000000</td>\n",
       "      <td>2003.000000</td>\n",
       "      <td>105.000000</td>\n",
       "      <td>150000.000000</td>\n",
       "    </tr>\n",
       "    <tr>\n",
       "      <th>75%</th>\n",
       "      <td>6500.000000</td>\n",
       "      <td>2008.000000</td>\n",
       "      <td>143.000000</td>\n",
       "      <td>150000.000000</td>\n",
       "    </tr>\n",
       "    <tr>\n",
       "      <th>max</th>\n",
       "      <td>20000.000000</td>\n",
       "      <td>9999.000000</td>\n",
       "      <td>20000.000000</td>\n",
       "      <td>150000.000000</td>\n",
       "    </tr>\n",
       "  </tbody>\n",
       "</table>\n",
       "</div>"
      ],
      "text/plain": [
       "               price  registration_year          power      kilometer\n",
       "count  309329.000000      309329.000000  309329.000000  309329.000000\n",
       "mean     4486.937196        2004.360105     110.976908  127217.735809\n",
       "std      4564.852796          92.541399     200.969473   38532.941010\n",
       "min         0.000000        1000.000000       0.000000    5000.000000\n",
       "25%      1100.000000        1999.000000      69.000000  125000.000000\n",
       "50%      2800.000000        2003.000000     105.000000  150000.000000\n",
       "75%      6500.000000        2008.000000     143.000000  150000.000000\n",
       "max     20000.000000        9999.000000   20000.000000  150000.000000"
      ]
     },
     "execution_count": 16,
     "metadata": {},
     "output_type": "execute_result"
    }
   ],
   "source": [
    "data.describe()"
   ]
  },
  {
   "cell_type": "markdown",
   "metadata": {},
   "source": [
    "В минимальных и максимальных значениях уже есть некорректные числа. Изучим еще данные с помощью квантилей:"
   ]
  },
  {
   "cell_type": "code",
   "execution_count": 17,
   "metadata": {
    "scrolled": true
   },
   "outputs": [
    {
     "data": {
      "text/html": [
       "<style type=\"text/css\">\n",
       "</style>\n",
       "<table id=\"T_35627\">\n",
       "  <thead>\n",
       "    <tr>\n",
       "      <th class=\"blank level0\" >&nbsp;</th>\n",
       "      <th id=\"T_35627_level0_col0\" class=\"col_heading level0 col0\" >price</th>\n",
       "      <th id=\"T_35627_level0_col1\" class=\"col_heading level0 col1\" >registration_year</th>\n",
       "      <th id=\"T_35627_level0_col2\" class=\"col_heading level0 col2\" >power</th>\n",
       "      <th id=\"T_35627_level0_col3\" class=\"col_heading level0 col3\" >kilometer</th>\n",
       "    </tr>\n",
       "  </thead>\n",
       "  <tbody>\n",
       "    <tr>\n",
       "      <th id=\"T_35627_level0_row0\" class=\"row_heading level0 row0\" >0.001200</th>\n",
       "      <td id=\"T_35627_row0_col0\" class=\"data row0 col0\" >0.00</td>\n",
       "      <td id=\"T_35627_row0_col1\" class=\"data row0 col1\" >1,959.00</td>\n",
       "      <td id=\"T_35627_row0_col2\" class=\"data row0 col2\" >0.00</td>\n",
       "      <td id=\"T_35627_row0_col3\" class=\"data row0 col3\" >5,000.00</td>\n",
       "    </tr>\n",
       "    <tr>\n",
       "      <th id=\"T_35627_level0_row1\" class=\"row_heading level0 row1\" >0.010000</th>\n",
       "      <td id=\"T_35627_row1_col0\" class=\"data row1 col0\" >0.00</td>\n",
       "      <td id=\"T_35627_row1_col1\" class=\"data row1 col1\" >1,979.00</td>\n",
       "      <td id=\"T_35627_row1_col2\" class=\"data row1 col2\" >0.00</td>\n",
       "      <td id=\"T_35627_row1_col3\" class=\"data row1 col3\" >5,000.00</td>\n",
       "    </tr>\n",
       "    <tr>\n",
       "      <th id=\"T_35627_level0_row2\" class=\"row_heading level0 row2\" >0.500000</th>\n",
       "      <td id=\"T_35627_row2_col0\" class=\"data row2 col0\" >2,800.00</td>\n",
       "      <td id=\"T_35627_row2_col1\" class=\"data row2 col1\" >2,003.00</td>\n",
       "      <td id=\"T_35627_row2_col2\" class=\"data row2 col2\" >105.00</td>\n",
       "      <td id=\"T_35627_row2_col3\" class=\"data row2 col3\" >150,000.00</td>\n",
       "    </tr>\n",
       "    <tr>\n",
       "      <th id=\"T_35627_level0_row3\" class=\"row_heading level0 row3\" >0.990000</th>\n",
       "      <td id=\"T_35627_row3_col0\" class=\"data row3 col0\" >18,900.00</td>\n",
       "      <td id=\"T_35627_row3_col1\" class=\"data row3 col1\" >2,018.00</td>\n",
       "      <td id=\"T_35627_row3_col2\" class=\"data row3 col2\" >306.00</td>\n",
       "      <td id=\"T_35627_row3_col3\" class=\"data row3 col3\" >150,000.00</td>\n",
       "    </tr>\n",
       "    <tr>\n",
       "      <th id=\"T_35627_level0_row4\" class=\"row_heading level0 row4\" >0.998800</th>\n",
       "      <td id=\"T_35627_row4_col0\" class=\"data row4 col0\" >19,999.00</td>\n",
       "      <td id=\"T_35627_row4_col1\" class=\"data row4 col1\" >2,018.00</td>\n",
       "      <td id=\"T_35627_row4_col2\" class=\"data row4 col2\" >603.00</td>\n",
       "      <td id=\"T_35627_row4_col3\" class=\"data row4 col3\" >150,000.00</td>\n",
       "    </tr>\n",
       "  </tbody>\n",
       "</table>\n"
      ],
      "text/plain": [
       "<pandas.io.formats.style.Styler at 0x1f8ec8cf370>"
      ]
     },
     "execution_count": 17,
     "metadata": {},
     "output_type": "execute_result"
    }
   ],
   "source": [
    "data.quantile([0.0012, 0.01, .5, .99, .9988]).style.format(\"{:,.2f}\")"
   ]
  },
  {
   "cell_type": "markdown",
   "metadata": {},
   "source": [
    "Напишем функцию по удалению выбивающихся значений:"
   ]
  },
  {
   "cell_type": "code",
   "execution_count": 18,
   "metadata": {},
   "outputs": [],
   "source": [
    "def remove_outliers(data, outliers_dict):\n",
    "    for col, (min_val, max_val) in outliers_dict.items():\n",
    "        data = data[(data[col] > min_val) & (data[col] <= max_val)]\n",
    "    return data"
   ]
  },
  {
   "cell_type": "markdown",
   "metadata": {},
   "source": [
    "Подставим необходимые нам значения, опираясь на квантили, а так же вспоминая, что позже 2016 года не было данных:"
   ]
  },
  {
   "cell_type": "code",
   "execution_count": 19,
   "metadata": {},
   "outputs": [],
   "source": [
    "outliers_dict = {\n",
    "    'price': (0, 20000),\n",
    "    'registration_year': (1979, 2016),\n",
    "    'power': (25, 306),\n",
    "    'kilometer': (4999, 150000)\n",
    "}\n",
    "\n",
    "data = remove_outliers(data, outliers_dict)"
   ]
  },
  {
   "cell_type": "markdown",
   "metadata": {},
   "source": [
    "Еще раз взглянем на графики:"
   ]
  },
  {
   "cell_type": "code",
   "execution_count": 20,
   "metadata": {
    "scrolled": false
   },
   "outputs": [
    {
     "data": {
      "image/png": "[encoded data removed]",
      "text/plain": [
       "<Figure size 1080x720 with 4 Axes>"
      ]
     },
     "metadata": {
      "needs_background": "light"
     },
     "output_type": "display_data"
    }
   ],
   "source": [
    "data.hist(figsize=(15, 10), bins=100, grid=False);"
   ]
  },
  {
   "cell_type": "markdown",
   "metadata": {},
   "source": [
    "Теперь все хорошо."
   ]
  },
  {
   "cell_type": "markdown",
   "metadata": {},
   "source": [
    "Посмотрим на наличие корреляции:"
   ]
  },
  {
   "cell_type": "code",
   "execution_count": 21,
   "metadata": {},
   "outputs": [
    {
     "data": {
      "text/html": [
       "<div>\n",
       "<style scoped>\n",
       "    .dataframe tbody tr th:only-of-type {\n",
       "        vertical-align: middle;\n",
       "    }\n",
       "\n",
       "    .dataframe tbody tr th {\n",
       "        vertical-align: top;\n",
       "    }\n",
       "\n",
       "    .dataframe thead th {\n",
       "        text-align: right;\n",
       "    }\n",
       "</style>\n",
       "<table border=\"1\" class=\"dataframe\">\n",
       "  <thead>\n",
       "    <tr style=\"text-align: right;\">\n",
       "      <th></th>\n",
       "      <th>price</th>\n",
       "      <th>registration_year</th>\n",
       "      <th>power</th>\n",
       "      <th>kilometer</th>\n",
       "    </tr>\n",
       "  </thead>\n",
       "  <tbody>\n",
       "    <tr>\n",
       "      <th>price</th>\n",
       "      <td>1.000000</td>\n",
       "      <td>0.564003</td>\n",
       "      <td>0.494914</td>\n",
       "      <td>-0.387763</td>\n",
       "    </tr>\n",
       "    <tr>\n",
       "      <th>registration_year</th>\n",
       "      <td>0.564003</td>\n",
       "      <td>1.000000</td>\n",
       "      <td>0.125970</td>\n",
       "      <td>-0.356062</td>\n",
       "    </tr>\n",
       "    <tr>\n",
       "      <th>power</th>\n",
       "      <td>0.494914</td>\n",
       "      <td>0.125970</td>\n",
       "      <td>1.000000</td>\n",
       "      <td>0.120771</td>\n",
       "    </tr>\n",
       "    <tr>\n",
       "      <th>kilometer</th>\n",
       "      <td>-0.387763</td>\n",
       "      <td>-0.356062</td>\n",
       "      <td>0.120771</td>\n",
       "      <td>1.000000</td>\n",
       "    </tr>\n",
       "  </tbody>\n",
       "</table>\n",
       "</div>"
      ],
      "text/plain": [
       "                      price  registration_year     power  kilometer\n",
       "price              1.000000           0.564003  0.494914  -0.387763\n",
       "registration_year  0.564003           1.000000  0.125970  -0.356062\n",
       "power              0.494914           0.125970  1.000000   0.120771\n",
       "kilometer         -0.387763          -0.356062  0.120771   1.000000"
      ]
     },
     "execution_count": 21,
     "metadata": {},
     "output_type": "execute_result"
    }
   ],
   "source": [
    "data.corr()"
   ]
  },
  {
   "cell_type": "markdown",
   "metadata": {},
   "source": [
    "Между ценой и годом регистрации есть средняя положительная корреляция, слабая корреляция между мощностью и ценой, а так же отрицательная корреляция между ценой и пробегом."
   ]
  },
  {
   "cell_type": "markdown",
   "metadata": {},
   "source": [
    "### Разбивка на выборки"
   ]
  },
  {
   "cell_type": "markdown",
   "metadata": {},
   "source": [
    "Следующий этап - разбивка данных на признаки и целевые признаки, а так же на тренировочную и тестовые выборки."
   ]
  },
  {
   "cell_type": "markdown",
   "metadata": {},
   "source": [
    "Разобьем на признаки и целевые признаки:"
   ]
  },
  {
   "cell_type": "code",
   "execution_count": 24,
   "metadata": {},
   "outputs": [],
   "source": [
    "target = data['price']\n",
    "\n",
    "features = data.drop('price', axis = 1)"
   ]
  },
  {
   "cell_type": "markdown",
   "metadata": {},
   "source": [
    "Для разбития данных на выборки используем train_test_split. Сначала разобьем на тренировочную выборку train и выборку для проверки check в соотношении 60% и 40%, потом выборку для проверки check разобьем пополам, чтобы получилось по 20% от всей выборки на валидационную valid и тестовую test выборки:"
   ]
  },
  {
   "cell_type": "code",
   "execution_count": 25,
   "metadata": {},
   "outputs": [],
   "source": [
    "features_train, features_check, target_train, target_check, = train_test_split(\n",
    "    features, target, test_size=0.40, random_state=12345)"
   ]
  },
  {
   "cell_type": "code",
   "execution_count": 26,
   "metadata": {},
   "outputs": [],
   "source": [
    "features_valid, features_test, target_valid, target_test = train_test_split(\n",
    "    features_check, target_check, test_size=0.50, random_state=12345)"
   ]
  },
  {
   "cell_type": "markdown",
   "metadata": {},
   "source": [
    "### Масштабирование и кодирование признаков"
   ]
  },
  {
   "cell_type": "markdown",
   "metadata": {},
   "source": [
    "Теперь создадим преобразователь, он кодируем категориальные и масштабирует количественные признаки, обучим его на тренировочной выборке:"
   ]
  },
  {
   "cell_type": "code",
   "execution_count": 27,
   "metadata": {},
   "outputs": [
    {
     "data": {
      "text/plain": [
       "ColumnTransformer(remainder='passthrough',\n",
       "                  transformers=[('standardscaler', StandardScaler(),\n",
       "                                 ['registration_year', 'power', 'kilometer']),\n",
       "                                ('onehotencoder',\n",
       "                                 OneHotEncoder(drop='first',\n",
       "                                               handle_unknown='ignore',\n",
       "                                               sparse=False),\n",
       "                                 ['vehicle_type', 'gearbox', 'model',\n",
       "                                  'fuel_type', 'brand', 'repaired'])],\n",
       "                  verbose_feature_names_out=False)"
      ]
     },
     "execution_count": 27,
     "metadata": {},
     "output_type": "execute_result"
    }
   ],
   "source": [
    "codescale = make_column_transformer((StandardScaler(), numerical_columns),\n",
    "                             (OneHotEncoder(drop='first', sparse=False, handle_unknown='ignore'), categorical_columns),\n",
    "                             remainder='passthrough', verbose_feature_names_out=False)\n",
    "\n",
    "codescale.fit(features_train)\n"
   ]
  },
  {
   "cell_type": "markdown",
   "metadata": {},
   "source": [
    "Применим его к выборкам:"
   ]
  },
  {
   "cell_type": "code",
   "execution_count": 28,
   "metadata": {},
   "outputs": [],
   "source": [
    "features_train = pd.DataFrame(codescale.transform(features_train), columns= codescale.get_feature_names_out())\n",
    "features_valid = pd.DataFrame(codescale.transform(features_valid), columns= codescale.get_feature_names_out())\n",
    "features_test = pd.DataFrame(codescale.transform(features_test), columns= codescale.get_feature_names_out())"
   ]
  },
  {
   "cell_type": "markdown",
   "metadata": {},
   "source": [
    "Нами были обработаны данные, убраны лишние столбцы, удалены дубликаты и заполнены пропуски. Данные были отчищены от выбросов. Было проведено маштабирование количественных и кодирование категориальных признаков. Для дальнейшей работы данные были разбиты на учебную, валидационную и тестовую выборки."
   ]
  },
  {
   "cell_type": "markdown",
   "metadata": {},
   "source": [
    "## Обучение моделей"
   ]
  },
  {
   "cell_type": "markdown",
   "metadata": {},
   "source": [
    "Теперь займемся обучением моделей: линейной регрессии, модели случайного леса и модели LightGBM."
   ]
  },
  {
   "cell_type": "markdown",
   "metadata": {},
   "source": [
    "Сначала напишем функцию для определения средней квадратичной ошибки, чтобы определять качество моделей:"
   ]
  },
  {
   "cell_type": "code",
   "execution_count": 29,
   "metadata": {},
   "outputs": [],
   "source": [
    "def rmse(target, predictions):\n",
    "    score = np.sqrt(mean_squared_error(target, predictions))\n",
    "    return score\n",
    "\n",
    "rmse_scorer = make_scorer(rmse, greater_is_better=False)"
   ]
  },
  {
   "cell_type": "markdown",
   "metadata": {},
   "source": [
    "### Линейная регрессия:"
   ]
  },
  {
   "cell_type": "markdown",
   "metadata": {},
   "source": [
    "Начнем с модели линейной регрессии, подбирать параметры для нее не нужно:"
   ]
  },
  {
   "cell_type": "code",
   "execution_count": 30,
   "metadata": {
    "scrolled": true
   },
   "outputs": [
    {
     "name": "stdout",
     "output_type": "stream",
     "text": [
      "CPU times: total: 9.8 s\n",
      "Wall time: 1.74 s\n"
     ]
    },
    {
     "data": {
      "text/plain": [
       "LinearRegression()"
      ]
     },
     "execution_count": 30,
     "metadata": {},
     "output_type": "execute_result"
    }
   ],
   "source": [
    "%%time\n",
    "\n",
    "LR_model = LinearRegression()\n",
    "LR_model.fit(features_train, target_train)"
   ]
  },
  {
   "cell_type": "markdown",
   "metadata": {},
   "source": [
    "Время обучения: 2 секунды."
   ]
  },
  {
   "cell_type": "code",
   "execution_count": 31,
   "metadata": {},
   "outputs": [
    {
     "name": "stdout",
     "output_type": "stream",
     "text": [
      "Значение RMSE для модели LightGBM 2406.44\n",
      "CPU times: total: 375 ms\n",
      "Wall time: 37 ms\n"
     ]
    }
   ],
   "source": [
    "%%time\n",
    "\n",
    "print(\"Значение RMSE для модели LightGBM %.2f\" % rmse(target_valid, LR_model.predict(features_valid)))"
   ]
  },
  {
   "cell_type": "markdown",
   "metadata": {},
   "source": [
    "Время предсказания 35 милисекунд, показатель средней квардатичной ошибки: 2406,44"
   ]
  },
  {
   "cell_type": "markdown",
   "metadata": {},
   "source": [
    "### Модель случайного леса"
   ]
  },
  {
   "cell_type": "code",
   "execution_count": 32,
   "metadata": {},
   "outputs": [
    {
     "name": "stdout",
     "output_type": "stream",
     "text": [
      "Fitting 2 folds for each of 4 candidates, totalling 8 fits\n",
      "Лучший показатель RandomForestRegressor модели: 1661.645265992633 \n",
      " При глубине и количестве деревьев: {'max_depth': 20, 'n_estimators': 200}\n",
      "CPU times: total: 7min 27s\n",
      "Wall time: 13min 51s\n"
     ]
    }
   ],
   "source": [
    "%%time\n",
    "RFG_model = RandomForestRegressor(random_state=12345)\n",
    "\n",
    "param_grid = {'n_estimators': [100, 200],\n",
    "              'max_depth': [20, 30,]\n",
    "             }\n",
    "\n",
    "gsearch = GridSearchCV(RFG_model, param_grid, cv=2, scoring=rmse_scorer, n_jobs=-1, verbose=10)\n",
    "\n",
    "gsearch.fit(features_train, target_train)\n",
    "\n",
    "print('Лучший показатель RandomForestRegressor модели:', -gsearch.best_score_\n",
    "      ,'\\n При глубине и количестве деревьев:', gsearch.best_params_)"
   ]
  },
  {
   "cell_type": "markdown",
   "metadata": {},
   "source": [
    "Время на подбор модели: 13 минут"
   ]
  },
  {
   "cell_type": "markdown",
   "metadata": {},
   "source": [
    "Теперь обучим модель в соответствии с лучшими параметрами:"
   ]
  },
  {
   "cell_type": "code",
   "execution_count": 33,
   "metadata": {
    "scrolled": true
   },
   "outputs": [
    {
     "name": "stdout",
     "output_type": "stream",
     "text": [
      "CPU times: total: 7min 26s\n",
      "Wall time: 7min 26s\n"
     ]
    },
    {
     "data": {
      "text/plain": [
       "RandomForestRegressor(max_depth=20, n_estimators=200, random_state=12345)"
      ]
     },
     "execution_count": 33,
     "metadata": {},
     "output_type": "execute_result"
    }
   ],
   "source": [
    "%%time\n",
    "RFG_model = RandomForestRegressor(random_state=12345, max_depth = 20, n_estimators = 200)\n",
    "RFG_model.fit(features_train, target_train)"
   ]
  },
  {
   "cell_type": "markdown",
   "metadata": {},
   "source": [
    "Время на обучение 7 минут."
   ]
  },
  {
   "cell_type": "markdown",
   "metadata": {},
   "source": [
    "Предскажем результат:"
   ]
  },
  {
   "cell_type": "code",
   "execution_count": 34,
   "metadata": {},
   "outputs": [
    {
     "name": "stdout",
     "output_type": "stream",
     "text": [
      "Значение RMSE для модели случаного леса 1607.08\n",
      "CPU times: total: 2.44 s\n",
      "Wall time: 2.42 s\n"
     ]
    }
   ],
   "source": [
    "%%time\n",
    "print(\"Значение RMSE для модели случаного леса %.2f\" % rmse(target_valid, RFG_model.predict(features_valid)))"
   ]
  },
  {
   "cell_type": "markdown",
   "metadata": {},
   "source": [
    "Время предсказания 2 секунды, показатель средней квардатичной ошибки: 1607,08"
   ]
  },
  {
   "cell_type": "markdown",
   "metadata": {},
   "source": [
    "### Модель LightGBM"
   ]
  },
  {
   "cell_type": "markdown",
   "metadata": {},
   "source": [
    "Теперь подберем параметры для модели LightGBM:"
   ]
  },
  {
   "cell_type": "code",
   "execution_count": 35,
   "metadata": {},
   "outputs": [
    {
     "name": "stdout",
     "output_type": "stream",
     "text": [
      "Fitting 2 folds for each of 60 candidates, totalling 120 fits\n",
      "Лучший показатель LightGBM модели: 1555.2440476228965 \n",
      " При глубине и количестве деревьев: {'max_depth': 30, 'n_estimators': 1200}\n",
      "CPU times: total: 34 s\n",
      "Wall time: 6min 4s\n"
     ]
    }
   ],
   "source": [
    "%%time\n",
    "LGBM_model = LGBMRegressor(random_state=12345)\n",
    "\n",
    "param_grid = {'n_estimators': range(100, 2001, 100),\n",
    "              'max_depth': [10, 20, 30]\n",
    "             }\n",
    "\n",
    "gsearch = GridSearchCV(LGBM_model, param_grid, cv=2, scoring=rmse_scorer, n_jobs=-1, verbose=10)\n",
    "\n",
    "gsearch.fit(features_train, target_train)\n",
    "\n",
    "print('Лучший показатель LightGBM модели:', -gsearch.best_score_\n",
    "      ,'\\n При глубине и количестве деревьев:', gsearch.best_params_)"
   ]
  },
  {
   "cell_type": "markdown",
   "metadata": {},
   "source": [
    "Время затраченное на поиск параметров: 6 минут"
   ]
  },
  {
   "cell_type": "markdown",
   "metadata": {},
   "source": [
    "Теперь обучим модель в соответствии с лучшими параметрами:"
   ]
  },
  {
   "cell_type": "code",
   "execution_count": 36,
   "metadata": {},
   "outputs": [
    {
     "name": "stdout",
     "output_type": "stream",
     "text": [
      "CPU times: total: 46.4 s\n",
      "Wall time: 3.35 s\n"
     ]
    },
    {
     "data": {
      "text/plain": [
       "LGBMRegressor(max_depth=10, n_estimators=1900, random_state=12345)"
      ]
     },
     "execution_count": 36,
     "metadata": {},
     "output_type": "execute_result"
    }
   ],
   "source": [
    "%%time\n",
    "LGBM_model = LGBMRegressor(random_state=12345, max_depth = 10, n_estimators = 1900)\n",
    "LGBM_model.fit(features_train, target_train)"
   ]
  },
  {
   "cell_type": "markdown",
   "metadata": {},
   "source": [
    "Время обучения 4 секунды."
   ]
  },
  {
   "cell_type": "markdown",
   "metadata": {},
   "source": [
    "Предскажем результат:"
   ]
  },
  {
   "cell_type": "code",
   "execution_count": 37,
   "metadata": {},
   "outputs": [
    {
     "name": "stdout",
     "output_type": "stream",
     "text": [
      "Значение RMSE для модели LightGBM 1516.05\n",
      "CPU times: total: 14.5 s\n",
      "Wall time: 1.02 s\n"
     ]
    }
   ],
   "source": [
    "%%time\n",
    "print(\"Значение RMSE для модели LightGBM %.2f\" % rmse(target_valid, LGBM_model.predict(features_valid)))"
   ]
  },
  {
   "cell_type": "markdown",
   "metadata": {},
   "source": [
    "Время предсказания 1 секунда, показатель средней квардатичной ошибки: 1516,05"
   ]
  },
  {
   "cell_type": "markdown",
   "metadata": {},
   "source": [
    "### Dummy-модель"
   ]
  },
  {
   "cell_type": "markdown",
   "metadata": {},
   "source": [
    "Для контроля качетва еще обучим dummy-модель:"
   ]
  },
  {
   "cell_type": "code",
   "execution_count": 38,
   "metadata": {
    "scrolled": true
   },
   "outputs": [
    {
     "data": {
      "text/plain": [
       "DummyRegressor()"
      ]
     },
     "execution_count": 38,
     "metadata": {},
     "output_type": "execute_result"
    }
   ],
   "source": [
    "dummy_model = DummyRegressor(strategy=\"mean\")\n",
    "dummy_model.fit(features_train, target_train)"
   ]
  },
  {
   "cell_type": "markdown",
   "metadata": {},
   "source": [
    "И узнаем качество ее предскадания:"
   ]
  },
  {
   "cell_type": "code",
   "execution_count": 39,
   "metadata": {},
   "outputs": [
    {
     "data": {
      "text/plain": [
       "4583.172456875722"
      ]
     },
     "execution_count": 39,
     "metadata": {},
     "output_type": "execute_result"
    }
   ],
   "source": [
    "rmse(target_valid, dummy_model.predict(features_valid))"
   ]
  },
  {
   "cell_type": "markdown",
   "metadata": {},
   "source": [
    "Все модели показали качество лучше, чем dummy-модель, значит прошли проверку на адекватность."
   ]
  },
  {
   "cell_type": "markdown",
   "metadata": {},
   "source": [
    "Мы провели обучение и проверку трех моделей - линейной регрессии, случайного леса и LightGBM. Хуже всего себя показала модель линейной регрессии. По времени дольше всего обучалась и предсказывала модель случайного леса. Лучший результат метрики средней квадратичной ошибки показала модель LightGBM, так же показав небольшое время на обучение и предсказание. Все мдели прошли проверку на адекватность, показав результат лучше чем dummy-модель.\n",
    "\n",
    "Следующим шагом проверим лучшую модель на тестовой выборке."
   ]
  },
  {
   "cell_type": "markdown",
   "metadata": {},
   "source": [
    "## Анализ моделей"
   ]
  },
  {
   "cell_type": "markdown",
   "metadata": {},
   "source": [
    "Осталось проверить как лучшая модель LightGBM покажет себя на тестовой выборке и сможет пройти проверку, показатель RMSE должен быть ниже 2500."
   ]
  },
  {
   "cell_type": "code",
   "execution_count": 40,
   "metadata": {},
   "outputs": [
    {
     "name": "stdout",
     "output_type": "stream",
     "text": [
      "Значение RMSE для модели LightGBM на тестовой выборке 1540.74\n"
     ]
    }
   ],
   "source": [
    "print(\"Значение RMSE для модели LightGBM на тестовой выборке %.2f\" % rmse(target_test, LGBM_model.predict(features_test)))"
   ]
  },
  {
   "cell_type": "markdown",
   "metadata": {},
   "source": [
    "Проверку модель прошла."
   ]
  },
  {
   "cell_type": "markdown",
   "metadata": {},
   "source": [
    "Общий вывод:\n",
    "\n",
    "Нами были обработаны данные, для обучения моделей, разбиты на учебную, валидационную и тестовую выборки. На учебной выборке были обучены и настроены модель линейной регрессии, случайного леса и LightGBM. На валидационной выборке были проверены их показатели метрики RMSE, лучший результат показала модель LightGBM. Она так же показала лучшее время по обучению, подбору параметров и предсказанию. Она была выбрана для дальнейшей работы и показала необходимый результат метрики RMSE для применения в дальнейшей рабое на тестовой выборке."
   ]
  }
 ],
 "metadata": {
  "ExecuteTimeLog": [
   {
    "duration": 65,
    "start_time": "2023-04-11T23:37:35.135Z"
   },
   {
    "duration": 376,
    "start_time": "2023-04-11T23:37:39.155Z"
   },
   {
    "duration": 2808,
    "start_time": "2023-04-11T23:38:15.087Z"
   },
   {
    "duration": 18,
    "start_time": "2023-04-11T23:38:27.065Z"
   },
   {
    "duration": 1795,
    "start_time": "2023-04-11T23:56:52.055Z"
   },
   {
    "duration": 168,
    "start_time": "2023-04-11T23:57:37.627Z"
   },
   {
    "duration": 553,
    "start_time": "2023-04-11T23:59:01.247Z"
   },
   {
    "duration": 2,
    "start_time": "2023-04-12T00:03:18.435Z"
   },
   {
    "duration": 356,
    "start_time": "2023-04-12T00:03:26.872Z"
   },
   {
    "duration": 817,
    "start_time": "2023-04-12T00:03:27.230Z"
   },
   {
    "duration": 20,
    "start_time": "2023-04-12T00:03:28.048Z"
   },
   {
    "duration": 164,
    "start_time": "2023-04-12T00:03:28.070Z"
   },
   {
    "duration": 609,
    "start_time": "2023-04-12T00:03:28.236Z"
   },
   {
    "duration": 2,
    "start_time": "2023-04-12T00:03:28.846Z"
   },
   {
    "duration": 73,
    "start_time": "2023-04-12T00:19:57.066Z"
   },
   {
    "duration": 24,
    "start_time": "2023-04-12T00:20:03.115Z"
   },
   {
    "duration": 251,
    "start_time": "2023-04-12T00:20:12.047Z"
   },
   {
    "duration": 12,
    "start_time": "2023-04-12T00:20:16.142Z"
   },
   {
    "duration": 273,
    "start_time": "2023-04-12T00:20:17.247Z"
   },
   {
    "duration": 87,
    "start_time": "2023-04-12T00:20:29.894Z"
   },
   {
    "duration": 10,
    "start_time": "2023-04-12T00:22:39.734Z"
   },
   {
    "duration": 332,
    "start_time": "2023-04-12T00:22:47.392Z"
   },
   {
    "duration": 760,
    "start_time": "2023-04-12T00:22:47.725Z"
   },
   {
    "duration": 16,
    "start_time": "2023-04-12T00:22:48.486Z"
   },
   {
    "duration": 142,
    "start_time": "2023-04-12T00:22:48.504Z"
   },
   {
    "duration": 45,
    "start_time": "2023-04-12T00:22:48.647Z"
   },
   {
    "duration": 101,
    "start_time": "2023-04-12T00:22:48.693Z"
   },
   {
    "duration": 264,
    "start_time": "2023-04-12T00:22:48.795Z"
   },
   {
    "duration": 2,
    "start_time": "2023-04-12T00:22:49.061Z"
   },
   {
    "duration": 1018,
    "start_time": "2023-04-12T00:23:53.164Z"
   },
   {
    "duration": 3,
    "start_time": "2023-04-12T00:24:19.975Z"
   },
   {
    "duration": 42,
    "start_time": "2023-04-12T14:33:51.499Z"
   },
   {
    "duration": 368,
    "start_time": "2023-04-12T14:33:56.895Z"
   },
   {
    "duration": 990,
    "start_time": "2023-04-12T14:33:57.265Z"
   },
   {
    "duration": 17,
    "start_time": "2023-04-12T14:33:58.256Z"
   },
   {
    "duration": 41,
    "start_time": "2023-04-12T14:33:58.275Z"
   },
   {
    "duration": 90,
    "start_time": "2023-04-12T14:33:58.318Z"
   },
   {
    "duration": 164,
    "start_time": "2023-04-12T14:33:58.410Z"
   },
   {
    "duration": 72,
    "start_time": "2023-04-12T14:33:58.576Z"
   },
   {
    "duration": 9,
    "start_time": "2023-04-12T14:33:58.649Z"
   },
   {
    "duration": 169,
    "start_time": "2023-04-12T14:38:07.566Z"
   },
   {
    "duration": 178,
    "start_time": "2023-04-12T14:40:05.099Z"
   },
   {
    "duration": 32,
    "start_time": "2023-04-12T18:52:20.727Z"
   },
   {
    "duration": 15,
    "start_time": "2023-04-12T18:52:40.750Z"
   },
   {
    "duration": 4,
    "start_time": "2023-04-12T18:52:48.657Z"
   },
   {
    "duration": 348,
    "start_time": "2023-04-12T18:52:52.760Z"
   },
   {
    "duration": 670,
    "start_time": "2023-04-12T18:52:53.110Z"
   },
   {
    "duration": 16,
    "start_time": "2023-04-12T18:52:53.781Z"
   },
   {
    "duration": 48,
    "start_time": "2023-04-12T18:52:53.798Z"
   },
   {
    "duration": 6,
    "start_time": "2023-04-12T18:52:53.847Z"
   },
   {
    "duration": 69,
    "start_time": "2023-04-12T18:52:53.854Z"
   },
   {
    "duration": 42,
    "start_time": "2023-04-12T18:52:53.924Z"
   },
   {
    "duration": 160,
    "start_time": "2023-04-12T18:52:53.967Z"
   },
   {
    "duration": 154,
    "start_time": "2023-04-12T18:52:54.129Z"
   },
   {
    "duration": 55,
    "start_time": "2023-04-12T18:52:54.285Z"
   },
   {
    "duration": 9,
    "start_time": "2023-04-12T18:52:54.341Z"
   },
   {
    "duration": 3,
    "start_time": "2023-04-12T19:18:18.216Z"
   },
   {
    "duration": 769,
    "start_time": "2023-04-12T19:18:58.336Z"
   },
   {
    "duration": 706,
    "start_time": "2023-04-12T19:19:19.676Z"
   },
   {
    "duration": 710,
    "start_time": "2023-04-12T19:19:25.476Z"
   },
   {
    "duration": 285,
    "start_time": "2023-04-12T19:19:42.488Z"
   },
   {
    "duration": 767,
    "start_time": "2023-04-12T19:22:12.352Z"
   },
   {
    "duration": 48,
    "start_time": "2023-04-12T19:22:20.756Z"
   },
   {
    "duration": 21,
    "start_time": "2023-04-12T19:22:23.040Z"
   },
   {
    "duration": 708,
    "start_time": "2023-04-12T19:22:26.336Z"
   },
   {
    "duration": 960,
    "start_time": "2023-04-12T19:22:57.339Z"
   },
   {
    "duration": 87,
    "start_time": "2023-04-12T19:31:54.936Z"
   },
   {
    "duration": 41,
    "start_time": "2023-04-12T19:34:06.277Z"
   },
   {
    "duration": 228,
    "start_time": "2023-04-12T19:34:22.436Z"
   },
   {
    "duration": 146,
    "start_time": "2023-04-12T19:34:32.736Z"
   },
   {
    "duration": 15,
    "start_time": "2023-04-12T19:36:05.697Z"
   },
   {
    "duration": 19,
    "start_time": "2023-04-12T19:37:42.984Z"
   },
   {
    "duration": 4,
    "start_time": "2023-04-12T19:38:22.096Z"
   },
   {
    "duration": 2,
    "start_time": "2023-04-12T19:39:42.756Z"
   },
   {
    "duration": 109,
    "start_time": "2023-04-12T19:42:12.596Z"
   },
   {
    "duration": 50,
    "start_time": "2023-04-12T19:42:49.399Z"
   },
   {
    "duration": 95,
    "start_time": "2023-04-12T19:42:53.216Z"
   },
   {
    "duration": 88,
    "start_time": "2023-04-12T19:42:59.737Z"
   },
   {
    "duration": 103,
    "start_time": "2023-04-12T19:43:06.676Z"
   },
   {
    "duration": 86,
    "start_time": "2023-04-12T19:43:16.577Z"
   },
   {
    "duration": 70,
    "start_time": "2023-04-12T19:53:58.277Z"
   },
   {
    "duration": 88,
    "start_time": "2023-04-12T19:54:18.942Z"
   },
   {
    "duration": 67,
    "start_time": "2023-04-12T19:54:22.239Z"
   },
   {
    "duration": 52,
    "start_time": "2023-04-12T19:56:14.696Z"
   },
   {
    "duration": 370,
    "start_time": "2023-04-12T19:57:22.935Z"
   },
   {
    "duration": 697,
    "start_time": "2023-04-12T19:57:23.307Z"
   },
   {
    "duration": 15,
    "start_time": "2023-04-12T19:57:24.005Z"
   },
   {
    "duration": 51,
    "start_time": "2023-04-12T19:57:24.022Z"
   },
   {
    "duration": 76,
    "start_time": "2023-04-12T19:57:24.075Z"
   },
   {
    "duration": 34,
    "start_time": "2023-04-12T19:57:24.152Z"
   },
   {
    "duration": 175,
    "start_time": "2023-04-12T19:57:24.188Z"
   },
   {
    "duration": 194,
    "start_time": "2023-04-12T19:57:24.364Z"
   },
   {
    "duration": 3,
    "start_time": "2023-04-12T19:57:24.559Z"
   },
   {
    "duration": 94,
    "start_time": "2023-04-12T19:57:24.563Z"
   },
   {
    "duration": 86,
    "start_time": "2023-04-12T19:57:24.659Z"
   },
   {
    "duration": 54,
    "start_time": "2023-04-12T19:57:24.746Z"
   },
   {
    "duration": 268,
    "start_time": "2023-04-12T19:57:24.801Z"
   },
   {
    "duration": 991,
    "start_time": "2023-04-12T19:57:25.071Z"
   },
   {
    "duration": 348,
    "start_time": "2023-04-12T19:59:01.499Z"
   },
   {
    "duration": 742,
    "start_time": "2023-04-12T19:59:01.849Z"
   },
   {
    "duration": 18,
    "start_time": "2023-04-12T19:59:02.593Z"
   },
   {
    "duration": 51,
    "start_time": "2023-04-12T19:59:02.612Z"
   },
   {
    "duration": 97,
    "start_time": "2023-04-12T19:59:02.665Z"
   },
   {
    "duration": 40,
    "start_time": "2023-04-12T19:59:02.765Z"
   },
   {
    "duration": 182,
    "start_time": "2023-04-12T19:59:02.807Z"
   },
   {
    "duration": 161,
    "start_time": "2023-04-12T19:59:02.990Z"
   },
   {
    "duration": 2,
    "start_time": "2023-04-12T19:59:03.152Z"
   },
   {
    "duration": 99,
    "start_time": "2023-04-12T19:59:03.156Z"
   },
   {
    "duration": 89,
    "start_time": "2023-04-12T19:59:03.256Z"
   },
   {
    "duration": 53,
    "start_time": "2023-04-12T19:59:03.346Z"
   },
   {
    "duration": 255,
    "start_time": "2023-04-12T19:59:03.400Z"
   },
   {
    "duration": 904,
    "start_time": "2023-04-12T19:59:03.657Z"
   },
   {
    "duration": 48,
    "start_time": "2023-04-12T20:11:12.564Z"
   },
   {
    "duration": 35,
    "start_time": "2023-04-12T20:12:23.685Z"
   },
   {
    "duration": 2,
    "start_time": "2023-04-12T20:16:41.237Z"
   },
   {
    "duration": 32,
    "start_time": "2023-04-12T20:16:55.480Z"
   },
   {
    "duration": 32,
    "start_time": "2023-04-12T20:19:02.437Z"
   },
   {
    "duration": 72,
    "start_time": "2023-04-12T20:19:31.377Z"
   },
   {
    "duration": 376,
    "start_time": "2023-04-12T20:19:47.508Z"
   },
   {
    "duration": 733,
    "start_time": "2023-04-12T20:19:47.886Z"
   },
   {
    "duration": 16,
    "start_time": "2023-04-12T20:19:48.637Z"
   },
   {
    "duration": 48,
    "start_time": "2023-04-12T20:19:48.654Z"
   },
   {
    "duration": 87,
    "start_time": "2023-04-12T20:19:48.704Z"
   },
   {
    "duration": 47,
    "start_time": "2023-04-12T20:19:48.792Z"
   },
   {
    "duration": 176,
    "start_time": "2023-04-12T20:19:48.840Z"
   },
   {
    "duration": 168,
    "start_time": "2023-04-12T20:19:49.017Z"
   },
   {
    "duration": 3,
    "start_time": "2023-04-12T20:19:49.187Z"
   },
   {
    "duration": 99,
    "start_time": "2023-04-12T20:19:49.191Z"
   },
   {
    "duration": 88,
    "start_time": "2023-04-12T20:19:49.291Z"
   },
   {
    "duration": 57,
    "start_time": "2023-04-12T20:19:49.381Z"
   },
   {
    "duration": 1106,
    "start_time": "2023-04-12T20:19:49.440Z"
   },
   {
    "duration": 60,
    "start_time": "2023-04-12T20:19:50.549Z"
   },
   {
    "duration": 96,
    "start_time": "2023-04-12T20:19:50.611Z"
   },
   {
    "duration": 381,
    "start_time": "2023-04-12T20:27:14.936Z"
   },
   {
    "duration": 684,
    "start_time": "2023-04-12T20:27:15.318Z"
   },
   {
    "duration": 15,
    "start_time": "2023-04-12T20:27:16.004Z"
   },
   {
    "duration": 54,
    "start_time": "2023-04-12T20:27:16.021Z"
   },
   {
    "duration": 73,
    "start_time": "2023-04-12T20:27:16.077Z"
   },
   {
    "duration": 34,
    "start_time": "2023-04-12T20:27:16.151Z"
   },
   {
    "duration": 175,
    "start_time": "2023-04-12T20:27:16.186Z"
   },
   {
    "duration": 195,
    "start_time": "2023-04-12T20:27:16.363Z"
   },
   {
    "duration": 3,
    "start_time": "2023-04-12T20:27:16.560Z"
   },
   {
    "duration": 91,
    "start_time": "2023-04-12T20:27:16.564Z"
   },
   {
    "duration": 86,
    "start_time": "2023-04-12T20:27:16.657Z"
   },
   {
    "duration": 51,
    "start_time": "2023-04-12T20:27:16.744Z"
   },
   {
    "duration": 1056,
    "start_time": "2023-04-12T20:27:16.796Z"
   },
   {
    "duration": 62,
    "start_time": "2023-04-12T20:27:17.854Z"
   },
   {
    "duration": 92,
    "start_time": "2023-04-12T20:27:17.917Z"
   },
   {
    "duration": 11,
    "start_time": "2023-04-12T20:28:38.455Z"
   },
   {
    "duration": 22,
    "start_time": "2023-04-12T20:28:51.239Z"
   },
   {
    "duration": 21,
    "start_time": "2023-04-12T20:30:19.286Z"
   },
   {
    "duration": 733,
    "start_time": "2023-04-12T20:31:41.875Z"
   },
   {
    "duration": 22,
    "start_time": "2023-04-12T20:35:02.024Z"
   },
   {
    "duration": 57,
    "start_time": "2023-04-12T20:36:50.474Z"
   },
   {
    "duration": 24,
    "start_time": "2023-04-12T20:36:57.925Z"
   },
   {
    "duration": 22,
    "start_time": "2023-04-12T20:37:00.044Z"
   },
   {
    "duration": 20,
    "start_time": "2023-04-12T20:45:20.423Z"
   },
   {
    "duration": 51,
    "start_time": "2023-04-12T20:46:45.362Z"
   },
   {
    "duration": 3,
    "start_time": "2023-04-12T20:46:50.555Z"
   },
   {
    "duration": 684,
    "start_time": "2023-04-12T20:47:00.723Z"
   },
   {
    "duration": 389,
    "start_time": "2023-04-12T20:48:15.615Z"
   },
   {
    "duration": 689,
    "start_time": "2023-04-12T20:48:16.006Z"
   },
   {
    "duration": 17,
    "start_time": "2023-04-12T20:48:16.696Z"
   },
   {
    "duration": 56,
    "start_time": "2023-04-12T20:48:16.714Z"
   },
   {
    "duration": 76,
    "start_time": "2023-04-12T20:48:16.773Z"
   },
   {
    "duration": 36,
    "start_time": "2023-04-12T20:48:16.851Z"
   },
   {
    "duration": 183,
    "start_time": "2023-04-12T20:48:16.888Z"
   },
   {
    "duration": 197,
    "start_time": "2023-04-12T20:48:17.073Z"
   },
   {
    "duration": 3,
    "start_time": "2023-04-12T20:48:17.272Z"
   },
   {
    "duration": 95,
    "start_time": "2023-04-12T20:48:17.276Z"
   },
   {
    "duration": 91,
    "start_time": "2023-04-12T20:48:17.373Z"
   },
   {
    "duration": 52,
    "start_time": "2023-04-12T20:48:17.466Z"
   },
   {
    "duration": 1050,
    "start_time": "2023-04-12T20:48:17.519Z"
   },
   {
    "duration": 73,
    "start_time": "2023-04-12T20:48:18.571Z"
   },
   {
    "duration": 93,
    "start_time": "2023-04-12T20:48:18.645Z"
   },
   {
    "duration": 94,
    "start_time": "2023-04-12T20:48:46.844Z"
   },
   {
    "duration": 711,
    "start_time": "2023-04-12T20:49:02.399Z"
   },
   {
    "duration": 383,
    "start_time": "2023-04-12T20:49:09.739Z"
   },
   {
    "duration": 745,
    "start_time": "2023-04-12T20:49:10.124Z"
   },
   {
    "duration": 16,
    "start_time": "2023-04-12T20:49:10.870Z"
   },
   {
    "duration": 57,
    "start_time": "2023-04-12T20:49:10.887Z"
   },
   {
    "duration": 86,
    "start_time": "2023-04-12T20:49:10.946Z"
   },
   {
    "duration": 38,
    "start_time": "2023-04-12T20:49:11.033Z"
   },
   {
    "duration": 187,
    "start_time": "2023-04-12T20:49:11.073Z"
   },
   {
    "duration": 172,
    "start_time": "2023-04-12T20:49:11.262Z"
   },
   {
    "duration": 3,
    "start_time": "2023-04-12T20:49:11.436Z"
   },
   {
    "duration": 103,
    "start_time": "2023-04-12T20:49:11.440Z"
   },
   {
    "duration": 93,
    "start_time": "2023-04-12T20:49:11.544Z"
   },
   {
    "duration": 60,
    "start_time": "2023-04-12T20:49:11.639Z"
   },
   {
    "duration": 1223,
    "start_time": "2023-04-12T20:49:11.700Z"
   },
   {
    "duration": 67,
    "start_time": "2023-04-12T20:49:12.926Z"
   },
   {
    "duration": 105,
    "start_time": "2023-04-12T20:49:12.995Z"
   },
   {
    "duration": 83,
    "start_time": "2023-04-12T20:52:08.505Z"
   },
   {
    "duration": 76,
    "start_time": "2023-04-12T20:52:13.815Z"
   },
   {
    "duration": 75,
    "start_time": "2023-04-12T20:52:16.931Z"
   },
   {
    "duration": 75,
    "start_time": "2023-04-12T20:52:20.147Z"
   },
   {
    "duration": 72,
    "start_time": "2023-04-12T20:52:53.572Z"
   },
   {
    "duration": 307,
    "start_time": "2023-04-12T20:53:23.196Z"
   },
   {
    "duration": 679,
    "start_time": "2023-04-12T20:53:23.504Z"
   },
   {
    "duration": 16,
    "start_time": "2023-04-12T20:53:24.184Z"
   },
   {
    "duration": 53,
    "start_time": "2023-04-12T20:53:24.202Z"
   },
   {
    "duration": 80,
    "start_time": "2023-04-12T20:53:24.257Z"
   },
   {
    "duration": 35,
    "start_time": "2023-04-12T20:53:24.339Z"
   },
   {
    "duration": 166,
    "start_time": "2023-04-12T20:53:24.376Z"
   },
   {
    "duration": 154,
    "start_time": "2023-04-12T20:53:24.544Z"
   },
   {
    "duration": 3,
    "start_time": "2023-04-12T20:53:24.699Z"
   },
   {
    "duration": 97,
    "start_time": "2023-04-12T20:53:24.705Z"
   },
   {
    "duration": 92,
    "start_time": "2023-04-12T20:53:24.804Z"
   },
   {
    "duration": 56,
    "start_time": "2023-04-12T20:53:24.897Z"
   },
   {
    "duration": 1029,
    "start_time": "2023-04-12T20:53:24.955Z"
   },
   {
    "duration": 65,
    "start_time": "2023-04-12T20:53:25.986Z"
   },
   {
    "duration": 84,
    "start_time": "2023-04-12T20:53:26.052Z"
   },
   {
    "duration": 377,
    "start_time": "2023-04-12T20:56:06.995Z"
   },
   {
    "duration": 789,
    "start_time": "2023-04-12T20:56:07.374Z"
   },
   {
    "duration": 16,
    "start_time": "2023-04-12T20:56:08.164Z"
   },
   {
    "duration": 58,
    "start_time": "2023-04-12T20:56:08.182Z"
   },
   {
    "duration": 102,
    "start_time": "2023-04-12T20:56:08.244Z"
   },
   {
    "duration": 43,
    "start_time": "2023-04-12T20:56:08.348Z"
   },
   {
    "duration": 227,
    "start_time": "2023-04-12T20:56:08.393Z"
   },
   {
    "duration": 256,
    "start_time": "2023-04-12T20:56:08.622Z"
   },
   {
    "duration": 4,
    "start_time": "2023-04-12T20:56:08.879Z"
   },
   {
    "duration": 136,
    "start_time": "2023-04-12T20:56:08.886Z"
   },
   {
    "duration": 116,
    "start_time": "2023-04-12T20:56:09.024Z"
   },
   {
    "duration": 72,
    "start_time": "2023-04-12T20:56:09.143Z"
   },
   {
    "duration": 1368,
    "start_time": "2023-04-12T20:56:09.216Z"
   },
   {
    "duration": 85,
    "start_time": "2023-04-12T20:56:10.586Z"
   },
   {
    "duration": 0,
    "start_time": "2023-04-12T20:57:25.363Z"
   },
   {
    "duration": 0,
    "start_time": "2023-04-12T20:57:25.363Z"
   },
   {
    "duration": 394,
    "start_time": "2023-04-12T20:59:15.813Z"
   },
   {
    "duration": 783,
    "start_time": "2023-04-12T20:59:16.208Z"
   },
   {
    "duration": 17,
    "start_time": "2023-04-12T20:59:16.992Z"
   },
   {
    "duration": 73,
    "start_time": "2023-04-12T20:59:17.010Z"
   },
   {
    "duration": 80,
    "start_time": "2023-04-12T20:59:17.086Z"
   },
   {
    "duration": 37,
    "start_time": "2023-04-12T20:59:17.168Z"
   },
   {
    "duration": 201,
    "start_time": "2023-04-12T20:59:17.206Z"
   },
   {
    "duration": 177,
    "start_time": "2023-04-12T20:59:17.409Z"
   },
   {
    "duration": 3,
    "start_time": "2023-04-12T20:59:17.588Z"
   },
   {
    "duration": 121,
    "start_time": "2023-04-12T20:59:17.592Z"
   },
   {
    "duration": 106,
    "start_time": "2023-04-12T20:59:17.715Z"
   },
   {
    "duration": 59,
    "start_time": "2023-04-12T20:59:17.823Z"
   },
   {
    "duration": 1102,
    "start_time": "2023-04-12T20:59:17.883Z"
   },
   {
    "duration": 67,
    "start_time": "2023-04-12T20:59:18.987Z"
   },
   {
    "duration": 4,
    "start_time": "2023-04-12T20:59:19.056Z"
   },
   {
    "duration": 115,
    "start_time": "2023-04-12T20:59:19.062Z"
   },
   {
    "duration": 377,
    "start_time": "2023-04-12T20:59:51.901Z"
   },
   {
    "duration": 838,
    "start_time": "2023-04-12T20:59:52.280Z"
   },
   {
    "duration": 22,
    "start_time": "2023-04-12T20:59:53.119Z"
   },
   {
    "duration": 45,
    "start_time": "2023-04-12T20:59:53.143Z"
   },
   {
    "duration": 99,
    "start_time": "2023-04-12T20:59:53.190Z"
   },
   {
    "duration": 39,
    "start_time": "2023-04-12T20:59:53.291Z"
   },
   {
    "duration": 194,
    "start_time": "2023-04-12T20:59:53.331Z"
   },
   {
    "duration": 180,
    "start_time": "2023-04-12T20:59:53.526Z"
   },
   {
    "duration": 2,
    "start_time": "2023-04-12T20:59:53.708Z"
   },
   {
    "duration": 111,
    "start_time": "2023-04-12T20:59:53.711Z"
   },
   {
    "duration": 86,
    "start_time": "2023-04-12T20:59:53.823Z"
   },
   {
    "duration": 60,
    "start_time": "2023-04-12T20:59:53.910Z"
   },
   {
    "duration": 1093,
    "start_time": "2023-04-12T20:59:53.971Z"
   },
   {
    "duration": 45,
    "start_time": "2023-04-12T20:59:55.068Z"
   },
   {
    "duration": 74,
    "start_time": "2023-04-12T20:59:55.114Z"
   },
   {
    "duration": 3,
    "start_time": "2023-04-12T20:59:55.190Z"
   },
   {
    "duration": 114,
    "start_time": "2023-04-12T20:59:55.194Z"
   },
   {
    "duration": 48,
    "start_time": "2023-04-12T20:59:55.309Z"
   },
   {
    "duration": 27,
    "start_time": "2023-04-12T20:59:55.359Z"
   },
   {
    "duration": 75,
    "start_time": "2023-04-12T21:07:39.644Z"
   },
   {
    "duration": 343,
    "start_time": "2023-04-12T21:07:47.187Z"
   },
   {
    "duration": 815,
    "start_time": "2023-04-12T21:07:47.532Z"
   },
   {
    "duration": 19,
    "start_time": "2023-04-12T21:07:48.349Z"
   },
   {
    "duration": 45,
    "start_time": "2023-04-12T21:07:48.369Z"
   },
   {
    "duration": 124,
    "start_time": "2023-04-12T21:07:48.416Z"
   },
   {
    "duration": 43,
    "start_time": "2023-04-12T21:07:48.542Z"
   },
   {
    "duration": 197,
    "start_time": "2023-04-12T21:07:48.586Z"
   },
   {
    "duration": 195,
    "start_time": "2023-04-12T21:07:48.785Z"
   },
   {
    "duration": 2,
    "start_time": "2023-04-12T21:07:48.982Z"
   },
   {
    "duration": 104,
    "start_time": "2023-04-12T21:07:48.986Z"
   },
   {
    "duration": 101,
    "start_time": "2023-04-12T21:07:49.091Z"
   },
   {
    "duration": 73,
    "start_time": "2023-04-12T21:07:49.194Z"
   },
   {
    "duration": 1153,
    "start_time": "2023-04-12T21:07:49.268Z"
   },
   {
    "duration": 58,
    "start_time": "2023-04-12T21:07:50.424Z"
   },
   {
    "duration": 87,
    "start_time": "2023-04-12T21:07:50.484Z"
   },
   {
    "duration": 3,
    "start_time": "2023-04-12T21:07:50.572Z"
   },
   {
    "duration": 107,
    "start_time": "2023-04-12T21:07:50.576Z"
   },
   {
    "duration": 42,
    "start_time": "2023-04-12T21:07:50.684Z"
   },
   {
    "duration": 43,
    "start_time": "2023-04-12T21:07:50.727Z"
   },
   {
    "duration": 419,
    "start_time": "2023-04-12T21:09:08.058Z"
   },
   {
    "duration": 864,
    "start_time": "2023-04-12T21:09:08.479Z"
   },
   {
    "duration": 26,
    "start_time": "2023-04-12T21:09:09.346Z"
   },
   {
    "duration": 46,
    "start_time": "2023-04-12T21:09:09.373Z"
   },
   {
    "duration": 87,
    "start_time": "2023-04-12T21:09:09.437Z"
   },
   {
    "duration": 45,
    "start_time": "2023-04-12T21:09:09.537Z"
   },
   {
    "duration": 216,
    "start_time": "2023-04-12T21:09:09.584Z"
   },
   {
    "duration": 206,
    "start_time": "2023-04-12T21:09:09.801Z"
   },
   {
    "duration": 3,
    "start_time": "2023-04-12T21:09:10.008Z"
   },
   {
    "duration": 131,
    "start_time": "2023-04-12T21:09:10.012Z"
   },
   {
    "duration": 113,
    "start_time": "2023-04-12T21:09:10.146Z"
   },
   {
    "duration": 57,
    "start_time": "2023-04-12T21:09:10.261Z"
   },
   {
    "duration": 1282,
    "start_time": "2023-04-12T21:09:10.319Z"
   },
   {
    "duration": 57,
    "start_time": "2023-04-12T21:09:11.603Z"
   },
   {
    "duration": 59,
    "start_time": "2023-04-12T21:09:11.662Z"
   },
   {
    "duration": 3,
    "start_time": "2023-04-12T21:09:11.722Z"
   },
   {
    "duration": 79,
    "start_time": "2023-04-12T21:09:11.736Z"
   },
   {
    "duration": 62,
    "start_time": "2023-04-12T21:09:11.816Z"
   },
   {
    "duration": 26,
    "start_time": "2023-04-12T21:09:11.880Z"
   },
   {
    "duration": 384,
    "start_time": "2023-04-12T21:10:25.243Z"
   },
   {
    "duration": 777,
    "start_time": "2023-04-12T21:10:25.630Z"
   },
   {
    "duration": 18,
    "start_time": "2023-04-12T21:10:26.409Z"
   },
   {
    "duration": 55,
    "start_time": "2023-04-12T21:10:26.436Z"
   },
   {
    "duration": 101,
    "start_time": "2023-04-12T21:10:26.493Z"
   },
   {
    "duration": 52,
    "start_time": "2023-04-12T21:10:26.595Z"
   },
   {
    "duration": 188,
    "start_time": "2023-04-12T21:10:26.649Z"
   },
   {
    "duration": 189,
    "start_time": "2023-04-12T21:10:26.839Z"
   },
   {
    "duration": 3,
    "start_time": "2023-04-12T21:10:27.030Z"
   },
   {
    "duration": 123,
    "start_time": "2023-04-12T21:10:27.044Z"
   },
   {
    "duration": 106,
    "start_time": "2023-04-12T21:10:27.169Z"
   },
   {
    "duration": 69,
    "start_time": "2023-04-12T21:10:27.277Z"
   },
   {
    "duration": 1312,
    "start_time": "2023-04-12T21:10:27.348Z"
   },
   {
    "duration": 47,
    "start_time": "2023-04-12T21:10:28.662Z"
   },
   {
    "duration": 86,
    "start_time": "2023-04-12T21:10:28.710Z"
   },
   {
    "duration": 3,
    "start_time": "2023-04-12T21:10:28.797Z"
   },
   {
    "duration": 95,
    "start_time": "2023-04-12T21:10:28.801Z"
   },
   {
    "duration": 60,
    "start_time": "2023-04-12T21:10:28.897Z"
   },
   {
    "duration": 31,
    "start_time": "2023-04-12T21:10:28.960Z"
   },
   {
    "duration": 1095,
    "start_time": "2023-04-12T21:10:28.993Z"
   },
   {
    "duration": 71,
    "start_time": "2023-04-12T21:13:14.404Z"
   },
   {
    "duration": 403,
    "start_time": "2023-04-12T21:13:20.216Z"
   },
   {
    "duration": 814,
    "start_time": "2023-04-12T21:13:20.621Z"
   },
   {
    "duration": 25,
    "start_time": "2023-04-12T21:13:21.439Z"
   },
   {
    "duration": 46,
    "start_time": "2023-04-12T21:13:21.466Z"
   },
   {
    "duration": 95,
    "start_time": "2023-04-12T21:13:21.514Z"
   },
   {
    "duration": 52,
    "start_time": "2023-04-12T21:13:21.611Z"
   },
   {
    "duration": 189,
    "start_time": "2023-04-12T21:13:21.666Z"
   },
   {
    "duration": 172,
    "start_time": "2023-04-12T21:13:21.857Z"
   },
   {
    "duration": 7,
    "start_time": "2023-04-12T21:13:22.030Z"
   },
   {
    "duration": 110,
    "start_time": "2023-04-12T21:13:22.039Z"
   },
   {
    "duration": 109,
    "start_time": "2023-04-12T21:13:22.151Z"
   },
   {
    "duration": 55,
    "start_time": "2023-04-12T21:13:22.262Z"
   },
   {
    "duration": 1252,
    "start_time": "2023-04-12T21:13:22.319Z"
   },
   {
    "duration": 47,
    "start_time": "2023-04-12T21:13:23.574Z"
   },
   {
    "duration": 60,
    "start_time": "2023-04-12T21:13:23.637Z"
   },
   {
    "duration": 3,
    "start_time": "2023-04-12T21:13:23.699Z"
   },
   {
    "duration": 98,
    "start_time": "2023-04-12T21:13:23.703Z"
   },
   {
    "duration": 43,
    "start_time": "2023-04-12T21:13:23.802Z"
   },
   {
    "duration": 31,
    "start_time": "2023-04-12T21:13:23.847Z"
   },
   {
    "duration": 1025,
    "start_time": "2023-04-12T21:13:23.880Z"
   },
   {
    "duration": 67,
    "start_time": "2023-04-12T21:14:01.932Z"
   },
   {
    "duration": 402,
    "start_time": "2023-04-12T21:14:06.422Z"
   },
   {
    "duration": 823,
    "start_time": "2023-04-12T21:14:06.826Z"
   },
   {
    "duration": 19,
    "start_time": "2023-04-12T21:14:07.651Z"
   },
   {
    "duration": 43,
    "start_time": "2023-04-12T21:14:07.672Z"
   },
   {
    "duration": 86,
    "start_time": "2023-04-12T21:14:07.717Z"
   },
   {
    "duration": 46,
    "start_time": "2023-04-12T21:14:07.805Z"
   },
   {
    "duration": 172,
    "start_time": "2023-04-12T21:14:07.854Z"
   },
   {
    "duration": 160,
    "start_time": "2023-04-12T21:14:08.027Z"
   },
   {
    "duration": 2,
    "start_time": "2023-04-12T21:14:08.189Z"
   },
   {
    "duration": 144,
    "start_time": "2023-04-12T21:14:08.194Z"
   },
   {
    "duration": 105,
    "start_time": "2023-04-12T21:14:08.340Z"
   },
   {
    "duration": 60,
    "start_time": "2023-04-12T21:14:08.447Z"
   },
   {
    "duration": 1297,
    "start_time": "2023-04-12T21:14:08.509Z"
   },
   {
    "duration": 64,
    "start_time": "2023-04-12T21:14:09.807Z"
   },
   {
    "duration": 74,
    "start_time": "2023-04-12T21:14:09.873Z"
   },
   {
    "duration": 4,
    "start_time": "2023-04-12T21:14:09.948Z"
   },
   {
    "duration": 93,
    "start_time": "2023-04-12T21:14:09.954Z"
   },
   {
    "duration": 50,
    "start_time": "2023-04-12T21:14:10.048Z"
   },
   {
    "duration": 46,
    "start_time": "2023-04-12T21:14:10.100Z"
   },
   {
    "duration": 1121,
    "start_time": "2023-04-12T21:14:10.148Z"
   },
   {
    "duration": 40,
    "start_time": "2023-04-12T21:15:16.573Z"
   },
   {
    "duration": 399,
    "start_time": "2023-04-12T21:16:20.840Z"
   },
   {
    "duration": 780,
    "start_time": "2023-04-12T21:16:21.241Z"
   },
   {
    "duration": 17,
    "start_time": "2023-04-12T21:16:22.023Z"
   },
   {
    "duration": 59,
    "start_time": "2023-04-12T21:16:22.042Z"
   },
   {
    "duration": 71,
    "start_time": "2023-04-12T21:16:22.103Z"
   },
   {
    "duration": 36,
    "start_time": "2023-04-12T21:16:22.175Z"
   },
   {
    "duration": 183,
    "start_time": "2023-04-12T21:16:22.213Z"
   },
   {
    "duration": 208,
    "start_time": "2023-04-12T21:16:22.398Z"
   },
   {
    "duration": 3,
    "start_time": "2023-04-12T21:16:22.608Z"
   },
   {
    "duration": 109,
    "start_time": "2023-04-12T21:16:22.612Z"
   },
   {
    "duration": 93,
    "start_time": "2023-04-12T21:16:22.723Z"
   },
   {
    "duration": 59,
    "start_time": "2023-04-12T21:16:22.818Z"
   },
   {
    "duration": 1184,
    "start_time": "2023-04-12T21:16:22.879Z"
   },
   {
    "duration": 48,
    "start_time": "2023-04-12T21:16:24.066Z"
   },
   {
    "duration": 78,
    "start_time": "2023-04-12T21:16:24.116Z"
   },
   {
    "duration": 3,
    "start_time": "2023-04-12T21:16:24.195Z"
   },
   {
    "duration": 93,
    "start_time": "2023-04-12T21:16:24.199Z"
   },
   {
    "duration": 1030,
    "start_time": "2023-04-12T21:16:24.293Z"
   },
   {
    "duration": 8,
    "start_time": "2023-04-12T21:22:40.444Z"
   },
   {
    "duration": 347,
    "start_time": "2023-04-12T21:47:58.799Z"
   },
   {
    "duration": 730,
    "start_time": "2023-04-12T21:47:59.148Z"
   },
   {
    "duration": 16,
    "start_time": "2023-04-12T21:47:59.880Z"
   },
   {
    "duration": 53,
    "start_time": "2023-04-12T21:47:59.897Z"
   },
   {
    "duration": 70,
    "start_time": "2023-04-12T21:47:59.952Z"
   },
   {
    "duration": 39,
    "start_time": "2023-04-12T21:48:00.024Z"
   },
   {
    "duration": 173,
    "start_time": "2023-04-12T21:48:00.064Z"
   },
   {
    "duration": 155,
    "start_time": "2023-04-12T21:48:00.238Z"
   },
   {
    "duration": 3,
    "start_time": "2023-04-12T21:48:00.395Z"
   },
   {
    "duration": 151,
    "start_time": "2023-04-12T21:48:00.399Z"
   },
   {
    "duration": 90,
    "start_time": "2023-04-12T21:48:00.552Z"
   },
   {
    "duration": 56,
    "start_time": "2023-04-12T21:48:00.644Z"
   },
   {
    "duration": 1138,
    "start_time": "2023-04-12T21:48:00.701Z"
   },
   {
    "duration": 46,
    "start_time": "2023-04-12T21:48:01.841Z"
   },
   {
    "duration": 74,
    "start_time": "2023-04-12T21:48:01.888Z"
   },
   {
    "duration": 3,
    "start_time": "2023-04-12T21:48:01.963Z"
   },
   {
    "duration": 100,
    "start_time": "2023-04-12T21:48:01.967Z"
   },
   {
    "duration": 1065,
    "start_time": "2023-04-12T21:48:02.068Z"
   },
   {
    "duration": 125,
    "start_time": "2023-04-12T21:48:03.135Z"
   },
   {
    "duration": 23,
    "start_time": "2023-04-12T21:58:57.805Z"
   },
   {
    "duration": 325,
    "start_time": "2023-04-12T21:59:06.293Z"
   },
   {
    "duration": 761,
    "start_time": "2023-04-12T21:59:06.620Z"
   },
   {
    "duration": 16,
    "start_time": "2023-04-12T21:59:07.383Z"
   },
   {
    "duration": 55,
    "start_time": "2023-04-12T21:59:07.401Z"
   },
   {
    "duration": 80,
    "start_time": "2023-04-12T21:59:07.458Z"
   },
   {
    "duration": 41,
    "start_time": "2023-04-12T21:59:07.540Z"
   },
   {
    "duration": 167,
    "start_time": "2023-04-12T21:59:07.582Z"
   },
   {
    "duration": 153,
    "start_time": "2023-04-12T21:59:07.750Z"
   },
   {
    "duration": 2,
    "start_time": "2023-04-12T21:59:07.905Z"
   },
   {
    "duration": 96,
    "start_time": "2023-04-12T21:59:07.909Z"
   },
   {
    "duration": 91,
    "start_time": "2023-04-12T21:59:08.007Z"
   },
   {
    "duration": 54,
    "start_time": "2023-04-12T21:59:08.100Z"
   },
   {
    "duration": 1217,
    "start_time": "2023-04-12T21:59:08.155Z"
   },
   {
    "duration": 50,
    "start_time": "2023-04-12T21:59:09.374Z"
   },
   {
    "duration": 64,
    "start_time": "2023-04-12T21:59:09.436Z"
   },
   {
    "duration": 3,
    "start_time": "2023-04-12T21:59:09.501Z"
   },
   {
    "duration": 105,
    "start_time": "2023-04-12T21:59:09.506Z"
   },
   {
    "duration": 1056,
    "start_time": "2023-04-12T21:59:09.613Z"
   },
   {
    "duration": 109,
    "start_time": "2023-04-12T21:59:10.671Z"
   },
   {
    "duration": 333,
    "start_time": "2023-04-12T22:00:11.871Z"
   },
   {
    "duration": 727,
    "start_time": "2023-04-12T22:00:12.206Z"
   },
   {
    "duration": 16,
    "start_time": "2023-04-12T22:00:12.935Z"
   },
   {
    "duration": 57,
    "start_time": "2023-04-12T22:00:12.952Z"
   },
   {
    "duration": 66,
    "start_time": "2023-04-12T22:00:13.011Z"
   },
   {
    "duration": 36,
    "start_time": "2023-04-12T22:00:13.079Z"
   },
   {
    "duration": 175,
    "start_time": "2023-04-12T22:00:13.117Z"
   },
   {
    "duration": 162,
    "start_time": "2023-04-12T22:00:13.294Z"
   },
   {
    "duration": 3,
    "start_time": "2023-04-12T22:00:13.457Z"
   },
   {
    "duration": 102,
    "start_time": "2023-04-12T22:00:13.462Z"
   },
   {
    "duration": 90,
    "start_time": "2023-04-12T22:00:13.566Z"
   },
   {
    "duration": 51,
    "start_time": "2023-04-12T22:00:13.658Z"
   },
   {
    "duration": 1044,
    "start_time": "2023-04-12T22:00:13.710Z"
   },
   {
    "duration": 45,
    "start_time": "2023-04-12T22:00:14.756Z"
   },
   {
    "duration": 68,
    "start_time": "2023-04-12T22:00:14.803Z"
   },
   {
    "duration": 3,
    "start_time": "2023-04-12T22:00:14.873Z"
   },
   {
    "duration": 89,
    "start_time": "2023-04-12T22:00:14.877Z"
   },
   {
    "duration": 926,
    "start_time": "2023-04-12T22:00:14.968Z"
   },
   {
    "duration": 102,
    "start_time": "2023-04-12T22:00:15.896Z"
   },
   {
    "duration": 947,
    "start_time": "2023-04-12T22:02:52.796Z"
   },
   {
    "duration": 707,
    "start_time": "2023-04-12T22:02:53.745Z"
   },
   {
    "duration": 15,
    "start_time": "2023-04-12T22:02:54.453Z"
   },
   {
    "duration": 41,
    "start_time": "2023-04-12T22:02:54.470Z"
   },
   {
    "duration": 82,
    "start_time": "2023-04-12T22:02:54.514Z"
   },
   {
    "duration": 46,
    "start_time": "2023-04-12T22:02:54.598Z"
   },
   {
    "duration": 154,
    "start_time": "2023-04-12T22:02:54.646Z"
   },
   {
    "duration": 166,
    "start_time": "2023-04-12T22:02:54.801Z"
   },
   {
    "duration": 3,
    "start_time": "2023-04-12T22:02:54.968Z"
   },
   {
    "duration": 108,
    "start_time": "2023-04-12T22:02:54.972Z"
   },
   {
    "duration": 90,
    "start_time": "2023-04-12T22:02:55.081Z"
   },
   {
    "duration": 51,
    "start_time": "2023-04-12T22:02:55.173Z"
   },
   {
    "duration": 1921,
    "start_time": "2023-04-12T22:02:55.225Z"
   },
   {
    "duration": 50,
    "start_time": "2023-04-12T22:02:57.149Z"
   },
   {
    "duration": 172,
    "start_time": "2023-04-12T22:02:57.200Z"
   },
   {
    "duration": 3,
    "start_time": "2023-04-12T22:02:57.373Z"
   },
   {
    "duration": 87,
    "start_time": "2023-04-12T22:02:57.378Z"
   },
   {
    "duration": 1076,
    "start_time": "2023-04-12T22:02:57.467Z"
   },
   {
    "duration": 135,
    "start_time": "2023-04-12T22:02:58.545Z"
   },
   {
    "duration": 485,
    "start_time": "2023-04-12T22:34:48.095Z"
   },
   {
    "duration": 912,
    "start_time": "2023-04-12T22:35:37.595Z"
   },
   {
    "duration": 708,
    "start_time": "2023-04-12T22:35:38.509Z"
   },
   {
    "duration": 21,
    "start_time": "2023-04-12T22:35:39.218Z"
   },
   {
    "duration": 44,
    "start_time": "2023-04-12T22:35:39.241Z"
   },
   {
    "duration": 78,
    "start_time": "2023-04-12T22:35:39.287Z"
   },
   {
    "duration": 36,
    "start_time": "2023-04-12T22:35:39.366Z"
   },
   {
    "duration": 177,
    "start_time": "2023-04-12T22:35:39.404Z"
   },
   {
    "duration": 193,
    "start_time": "2023-04-12T22:35:39.582Z"
   },
   {
    "duration": 3,
    "start_time": "2023-04-12T22:35:39.777Z"
   },
   {
    "duration": 100,
    "start_time": "2023-04-12T22:35:39.781Z"
   },
   {
    "duration": 88,
    "start_time": "2023-04-12T22:35:39.882Z"
   },
   {
    "duration": 51,
    "start_time": "2023-04-12T22:35:39.972Z"
   },
   {
    "duration": 1018,
    "start_time": "2023-04-12T22:35:40.024Z"
   },
   {
    "duration": 47,
    "start_time": "2023-04-12T22:35:41.044Z"
   },
   {
    "duration": 150,
    "start_time": "2023-04-12T22:35:41.092Z"
   },
   {
    "duration": 3,
    "start_time": "2023-04-12T22:35:41.243Z"
   },
   {
    "duration": 89,
    "start_time": "2023-04-12T22:35:41.247Z"
   },
   {
    "duration": 902,
    "start_time": "2023-04-12T22:35:41.338Z"
   },
   {
    "duration": 113,
    "start_time": "2023-04-12T22:35:42.242Z"
   },
   {
    "duration": 556,
    "start_time": "2023-04-12T22:35:42.356Z"
   },
   {
    "duration": 1060,
    "start_time": "2023-04-12T22:38:24.910Z"
   },
   {
    "duration": 765,
    "start_time": "2023-04-12T22:38:25.972Z"
   },
   {
    "duration": 17,
    "start_time": "2023-04-12T22:38:26.738Z"
   },
   {
    "duration": 54,
    "start_time": "2023-04-12T22:38:26.757Z"
   },
   {
    "duration": 89,
    "start_time": "2023-04-12T22:38:26.813Z"
   },
   {
    "duration": 47,
    "start_time": "2023-04-12T22:38:26.904Z"
   },
   {
    "duration": 198,
    "start_time": "2023-04-12T22:38:26.953Z"
   },
   {
    "duration": 214,
    "start_time": "2023-04-12T22:38:27.153Z"
   },
   {
    "duration": 3,
    "start_time": "2023-04-12T22:38:27.369Z"
   },
   {
    "duration": 107,
    "start_time": "2023-04-12T22:38:27.373Z"
   },
   {
    "duration": 95,
    "start_time": "2023-04-12T22:38:27.481Z"
   },
   {
    "duration": 65,
    "start_time": "2023-04-12T22:38:27.578Z"
   },
   {
    "duration": 1133,
    "start_time": "2023-04-12T22:38:27.645Z"
   },
   {
    "duration": 59,
    "start_time": "2023-04-12T22:38:28.781Z"
   },
   {
    "duration": 155,
    "start_time": "2023-04-12T22:38:28.841Z"
   },
   {
    "duration": 3,
    "start_time": "2023-04-12T22:38:28.997Z"
   },
   {
    "duration": 90,
    "start_time": "2023-04-12T22:38:29.002Z"
   },
   {
    "duration": 1063,
    "start_time": "2023-04-12T22:38:29.094Z"
   },
   {
    "duration": 118,
    "start_time": "2023-04-12T22:38:30.158Z"
   },
   {
    "duration": 4341,
    "start_time": "2023-04-12T22:38:30.278Z"
   },
   {
    "duration": 25,
    "start_time": "2023-04-12T22:39:26.985Z"
   },
   {
    "duration": 1223,
    "start_time": "2023-04-12T22:40:22.104Z"
   },
   {
    "duration": 14,
    "start_time": "2023-04-12T22:40:25.683Z"
   },
   {
    "duration": 970,
    "start_time": "2023-04-12T22:40:30.926Z"
   },
   {
    "duration": 714,
    "start_time": "2023-04-12T22:40:31.897Z"
   },
   {
    "duration": 24,
    "start_time": "2023-04-12T22:40:32.613Z"
   },
   {
    "duration": 50,
    "start_time": "2023-04-12T22:40:32.639Z"
   },
   {
    "duration": 82,
    "start_time": "2023-04-12T22:40:32.691Z"
   },
   {
    "duration": 36,
    "start_time": "2023-04-12T22:40:32.774Z"
   },
   {
    "duration": 181,
    "start_time": "2023-04-12T22:40:32.812Z"
   },
   {
    "duration": 189,
    "start_time": "2023-04-12T22:40:32.995Z"
   },
   {
    "duration": 3,
    "start_time": "2023-04-12T22:40:33.185Z"
   },
   {
    "duration": 96,
    "start_time": "2023-04-12T22:40:33.189Z"
   },
   {
    "duration": 87,
    "start_time": "2023-04-12T22:40:33.286Z"
   },
   {
    "duration": 62,
    "start_time": "2023-04-12T22:40:33.374Z"
   },
   {
    "duration": 991,
    "start_time": "2023-04-12T22:40:33.437Z"
   },
   {
    "duration": 45,
    "start_time": "2023-04-12T22:40:34.436Z"
   },
   {
    "duration": 141,
    "start_time": "2023-04-12T22:40:34.482Z"
   },
   {
    "duration": 3,
    "start_time": "2023-04-12T22:40:34.624Z"
   },
   {
    "duration": 82,
    "start_time": "2023-04-12T22:40:34.628Z"
   },
   {
    "duration": 896,
    "start_time": "2023-04-12T22:40:34.712Z"
   },
   {
    "duration": 111,
    "start_time": "2023-04-12T22:40:35.610Z"
   },
   {
    "duration": 1050,
    "start_time": "2023-04-12T22:40:35.722Z"
   },
   {
    "duration": 12,
    "start_time": "2023-04-12T22:40:36.773Z"
   },
   {
    "duration": 1497,
    "start_time": "2023-04-12T22:43:17.122Z"
   },
   {
    "duration": 698,
    "start_time": "2023-04-12T22:43:18.621Z"
   },
   {
    "duration": 23,
    "start_time": "2023-04-12T22:43:19.321Z"
   },
   {
    "duration": 44,
    "start_time": "2023-04-12T22:43:19.346Z"
   },
   {
    "duration": 78,
    "start_time": "2023-04-12T22:43:19.393Z"
   },
   {
    "duration": 35,
    "start_time": "2023-04-12T22:43:19.472Z"
   },
   {
    "duration": 177,
    "start_time": "2023-04-12T22:43:19.508Z"
   },
   {
    "duration": 194,
    "start_time": "2023-04-12T22:43:19.687Z"
   },
   {
    "duration": 3,
    "start_time": "2023-04-12T22:43:19.882Z"
   },
   {
    "duration": 99,
    "start_time": "2023-04-12T22:43:19.887Z"
   },
   {
    "duration": 91,
    "start_time": "2023-04-12T22:43:19.987Z"
   },
   {
    "duration": 56,
    "start_time": "2023-04-12T22:43:20.080Z"
   },
   {
    "duration": 1016,
    "start_time": "2023-04-12T22:43:20.138Z"
   },
   {
    "duration": 45,
    "start_time": "2023-04-12T22:43:21.156Z"
   },
   {
    "duration": 148,
    "start_time": "2023-04-12T22:43:21.202Z"
   },
   {
    "duration": 3,
    "start_time": "2023-04-12T22:43:21.352Z"
   },
   {
    "duration": 87,
    "start_time": "2023-04-12T22:43:21.357Z"
   },
   {
    "duration": 921,
    "start_time": "2023-04-12T22:43:21.446Z"
   },
   {
    "duration": 131,
    "start_time": "2023-04-12T22:43:22.369Z"
   },
   {
    "duration": 485,
    "start_time": "2023-04-12T22:43:22.502Z"
   },
   {
    "duration": 15,
    "start_time": "2023-04-12T22:43:22.988Z"
   },
   {
    "duration": 89,
    "start_time": "2023-04-12T22:47:16.114Z"
   },
   {
    "duration": 157,
    "start_time": "2023-04-12T22:47:22.708Z"
   },
   {
    "duration": 962,
    "start_time": "2023-04-12T22:49:54.021Z"
   },
   {
    "duration": 685,
    "start_time": "2023-04-12T22:49:54.985Z"
   },
   {
    "duration": 15,
    "start_time": "2023-04-12T22:49:55.672Z"
   },
   {
    "duration": 54,
    "start_time": "2023-04-12T22:49:55.688Z"
   },
   {
    "duration": 68,
    "start_time": "2023-04-12T22:49:55.744Z"
   },
   {
    "duration": 44,
    "start_time": "2023-04-12T22:49:55.814Z"
   },
   {
    "duration": 165,
    "start_time": "2023-04-12T22:49:55.860Z"
   },
   {
    "duration": 196,
    "start_time": "2023-04-12T22:49:56.026Z"
   },
   {
    "duration": 3,
    "start_time": "2023-04-12T22:49:56.223Z"
   },
   {
    "duration": 92,
    "start_time": "2023-04-12T22:49:56.227Z"
   },
   {
    "duration": 89,
    "start_time": "2023-04-12T22:49:56.320Z"
   },
   {
    "duration": 57,
    "start_time": "2023-04-12T22:49:56.411Z"
   },
   {
    "duration": 1161,
    "start_time": "2023-04-12T22:49:56.469Z"
   },
   {
    "duration": 50,
    "start_time": "2023-04-12T22:49:57.636Z"
   },
   {
    "duration": 152,
    "start_time": "2023-04-12T22:49:57.687Z"
   },
   {
    "duration": 3,
    "start_time": "2023-04-12T22:49:57.840Z"
   },
   {
    "duration": 93,
    "start_time": "2023-04-12T22:49:57.844Z"
   },
   {
    "duration": 1040,
    "start_time": "2023-04-12T22:49:57.939Z"
   },
   {
    "duration": 119,
    "start_time": "2023-04-12T22:49:58.981Z"
   },
   {
    "duration": 462,
    "start_time": "2023-04-12T22:49:59.102Z"
   },
   {
    "duration": 154,
    "start_time": "2023-04-12T22:49:59.566Z"
   },
   {
    "duration": 95,
    "start_time": "2023-04-12T22:49:59.721Z"
   },
   {
    "duration": 983,
    "start_time": "2023-04-12T22:51:16.431Z"
   },
   {
    "duration": 683,
    "start_time": "2023-04-12T22:51:17.416Z"
   },
   {
    "duration": 17,
    "start_time": "2023-04-12T22:51:18.100Z"
   },
   {
    "duration": 54,
    "start_time": "2023-04-12T22:51:18.118Z"
   },
   {
    "duration": 70,
    "start_time": "2023-04-12T22:51:18.174Z"
   },
   {
    "duration": 36,
    "start_time": "2023-04-12T22:51:18.245Z"
   },
   {
    "duration": 175,
    "start_time": "2023-04-12T22:51:18.283Z"
   },
   {
    "duration": 190,
    "start_time": "2023-04-12T22:51:18.460Z"
   },
   {
    "duration": 3,
    "start_time": "2023-04-12T22:51:18.651Z"
   },
   {
    "duration": 92,
    "start_time": "2023-04-12T22:51:18.655Z"
   },
   {
    "duration": 93,
    "start_time": "2023-04-12T22:51:18.748Z"
   },
   {
    "duration": 51,
    "start_time": "2023-04-12T22:51:18.842Z"
   },
   {
    "duration": 1001,
    "start_time": "2023-04-12T22:51:18.895Z"
   },
   {
    "duration": 53,
    "start_time": "2023-04-12T22:51:19.899Z"
   },
   {
    "duration": 144,
    "start_time": "2023-04-12T22:51:19.953Z"
   },
   {
    "duration": 2,
    "start_time": "2023-04-12T22:51:20.099Z"
   },
   {
    "duration": 87,
    "start_time": "2023-04-12T22:51:20.103Z"
   },
   {
    "duration": 900,
    "start_time": "2023-04-12T22:51:20.192Z"
   },
   {
    "duration": 119,
    "start_time": "2023-04-12T22:51:21.093Z"
   },
   {
    "duration": 460,
    "start_time": "2023-04-12T22:51:21.214Z"
   },
   {
    "duration": 161,
    "start_time": "2023-04-12T22:51:21.675Z"
   },
   {
    "duration": 218,
    "start_time": "2023-04-12T22:51:21.838Z"
   },
   {
    "duration": 26,
    "start_time": "2023-04-12T22:52:37.545Z"
   },
   {
    "duration": 5,
    "start_time": "2023-04-12T22:52:39.596Z"
   },
   {
    "duration": 2,
    "start_time": "2023-04-12T23:27:27.626Z"
   },
   {
    "duration": 89,
    "start_time": "2023-04-12T23:28:31.485Z"
   },
   {
    "duration": 20,
    "start_time": "2023-04-12T23:29:03.726Z"
   },
   {
    "duration": 1053,
    "start_time": "2023-04-12T23:29:09.336Z"
   },
   {
    "duration": 876,
    "start_time": "2023-04-12T23:29:10.391Z"
   },
   {
    "duration": 68,
    "start_time": "2023-04-12T23:29:11.269Z"
   },
   {
    "duration": 103,
    "start_time": "2023-04-12T23:29:11.339Z"
   },
   {
    "duration": 128,
    "start_time": "2023-04-12T23:29:11.444Z"
   },
   {
    "duration": 91,
    "start_time": "2023-04-12T23:29:11.573Z"
   },
   {
    "duration": 373,
    "start_time": "2023-04-12T23:29:11.665Z"
   },
   {
    "duration": 403,
    "start_time": "2023-04-12T23:29:12.040Z"
   },
   {
    "duration": 3,
    "start_time": "2023-04-12T23:29:12.444Z"
   },
   {
    "duration": 194,
    "start_time": "2023-04-12T23:29:12.448Z"
   },
   {
    "duration": 128,
    "start_time": "2023-04-12T23:29:12.643Z"
   },
   {
    "duration": 51,
    "start_time": "2023-04-12T23:29:12.773Z"
   },
   {
    "duration": 1068,
    "start_time": "2023-04-12T23:29:12.836Z"
   },
   {
    "duration": 51,
    "start_time": "2023-04-12T23:29:13.907Z"
   },
   {
    "duration": 57,
    "start_time": "2023-04-12T23:29:13.960Z"
   },
   {
    "duration": 2,
    "start_time": "2023-04-12T23:29:14.019Z"
   },
   {
    "duration": 91,
    "start_time": "2023-04-12T23:29:14.022Z"
   },
   {
    "duration": 896,
    "start_time": "2023-04-12T23:29:14.114Z"
   },
   {
    "duration": 113,
    "start_time": "2023-04-12T23:29:15.011Z"
   },
   {
    "duration": 453,
    "start_time": "2023-04-12T23:29:15.125Z"
   },
   {
    "duration": 160,
    "start_time": "2023-04-12T23:29:15.579Z"
   },
   {
    "duration": 219,
    "start_time": "2023-04-12T23:29:15.741Z"
   },
   {
    "duration": 2,
    "start_time": "2023-04-12T23:29:15.962Z"
   },
   {
    "duration": 14380,
    "start_time": "2023-04-12T23:29:15.965Z"
   },
   {
    "duration": 2,
    "start_time": "2023-04-12T23:30:11.445Z"
   },
   {
    "duration": 14603,
    "start_time": "2023-04-12T23:30:14.037Z"
   },
   {
    "duration": 14973,
    "start_time": "2023-04-12T23:34:58.770Z"
   },
   {
    "duration": 14590,
    "start_time": "2023-04-12T23:35:21.148Z"
   },
   {
    "duration": 90,
    "start_time": "2023-04-12T23:49:35.166Z"
   },
   {
    "duration": 4,
    "start_time": "2023-04-12T23:49:52.947Z"
   },
   {
    "duration": 961,
    "start_time": "2023-04-12T23:49:59.988Z"
   },
   {
    "duration": 708,
    "start_time": "2023-04-12T23:50:00.951Z"
   },
   {
    "duration": 16,
    "start_time": "2023-04-12T23:50:01.661Z"
   },
   {
    "duration": 62,
    "start_time": "2023-04-12T23:50:01.678Z"
   },
   {
    "duration": 86,
    "start_time": "2023-04-12T23:50:01.742Z"
   },
   {
    "duration": 51,
    "start_time": "2023-04-12T23:50:01.829Z"
   },
   {
    "duration": 169,
    "start_time": "2023-04-12T23:50:01.882Z"
   },
   {
    "duration": 155,
    "start_time": "2023-04-12T23:50:02.053Z"
   },
   {
    "duration": 3,
    "start_time": "2023-04-12T23:50:02.209Z"
   },
   {
    "duration": 111,
    "start_time": "2023-04-12T23:50:02.214Z"
   },
   {
    "duration": 82,
    "start_time": "2023-04-12T23:50:02.326Z"
   },
   {
    "duration": 61,
    "start_time": "2023-04-12T23:50:02.409Z"
   },
   {
    "duration": 1145,
    "start_time": "2023-04-12T23:50:02.472Z"
   },
   {
    "duration": 53,
    "start_time": "2023-04-12T23:50:03.620Z"
   },
   {
    "duration": 66,
    "start_time": "2023-04-12T23:50:03.675Z"
   },
   {
    "duration": 3,
    "start_time": "2023-04-12T23:50:03.743Z"
   },
   {
    "duration": 73,
    "start_time": "2023-04-12T23:50:03.747Z"
   },
   {
    "duration": 927,
    "start_time": "2023-04-12T23:50:03.821Z"
   },
   {
    "duration": 127,
    "start_time": "2023-04-12T23:50:04.749Z"
   },
   {
    "duration": 474,
    "start_time": "2023-04-12T23:50:04.877Z"
   },
   {
    "duration": 158,
    "start_time": "2023-04-12T23:50:05.352Z"
   },
   {
    "duration": 229,
    "start_time": "2023-04-12T23:50:05.512Z"
   },
   {
    "duration": 2,
    "start_time": "2023-04-12T23:50:05.743Z"
   },
   {
    "duration": 15194,
    "start_time": "2023-04-12T23:50:05.747Z"
   },
   {
    "duration": 260,
    "start_time": "2023-04-12T23:50:20.942Z"
   },
   {
    "duration": 927,
    "start_time": "2023-04-12T23:53:28.890Z"
   },
   {
    "duration": 689,
    "start_time": "2023-04-12T23:53:29.819Z"
   },
   {
    "duration": 16,
    "start_time": "2023-04-12T23:53:30.509Z"
   },
   {
    "duration": 64,
    "start_time": "2023-04-12T23:53:30.536Z"
   },
   {
    "duration": 122,
    "start_time": "2023-04-12T23:53:30.602Z"
   },
   {
    "duration": 82,
    "start_time": "2023-04-12T23:53:30.726Z"
   },
   {
    "duration": 170,
    "start_time": "2023-04-12T23:53:30.810Z"
   },
   {
    "duration": 160,
    "start_time": "2023-04-12T23:53:30.982Z"
   },
   {
    "duration": 3,
    "start_time": "2023-04-12T23:53:31.143Z"
   },
   {
    "duration": 98,
    "start_time": "2023-04-12T23:53:31.147Z"
   },
   {
    "duration": 80,
    "start_time": "2023-04-12T23:53:31.246Z"
   },
   {
    "duration": 56,
    "start_time": "2023-04-12T23:53:31.328Z"
   },
   {
    "duration": 1099,
    "start_time": "2023-04-12T23:53:31.386Z"
   },
   {
    "duration": 53,
    "start_time": "2023-04-12T23:53:32.487Z"
   },
   {
    "duration": 62,
    "start_time": "2023-04-12T23:53:32.541Z"
   },
   {
    "duration": 3,
    "start_time": "2023-04-12T23:53:32.605Z"
   },
   {
    "duration": 86,
    "start_time": "2023-04-12T23:53:32.609Z"
   },
   {
    "duration": 891,
    "start_time": "2023-04-12T23:53:32.697Z"
   },
   {
    "duration": 105,
    "start_time": "2023-04-12T23:53:33.589Z"
   },
   {
    "duration": 418,
    "start_time": "2023-04-12T23:53:33.695Z"
   },
   {
    "duration": 154,
    "start_time": "2023-04-12T23:53:34.114Z"
   },
   {
    "duration": 219,
    "start_time": "2023-04-12T23:53:34.270Z"
   },
   {
    "duration": 3,
    "start_time": "2023-04-12T23:53:34.490Z"
   },
   {
    "duration": 14146,
    "start_time": "2023-04-12T23:53:34.494Z"
   },
   {
    "duration": 100,
    "start_time": "2023-04-12T23:53:48.642Z"
   },
   {
    "duration": 19,
    "start_time": "2023-04-12T23:53:56.779Z"
   },
   {
    "duration": 982,
    "start_time": "2023-04-13T00:07:00.070Z"
   },
   {
    "duration": 720,
    "start_time": "2023-04-13T00:07:01.054Z"
   },
   {
    "duration": 15,
    "start_time": "2023-04-13T00:07:01.776Z"
   },
   {
    "duration": 59,
    "start_time": "2023-04-13T00:07:01.792Z"
   },
   {
    "duration": 93,
    "start_time": "2023-04-13T00:07:01.853Z"
   },
   {
    "duration": 44,
    "start_time": "2023-04-13T00:07:01.947Z"
   },
   {
    "duration": 154,
    "start_time": "2023-04-13T00:07:01.992Z"
   },
   {
    "duration": 166,
    "start_time": "2023-04-13T00:07:02.147Z"
   },
   {
    "duration": 2,
    "start_time": "2023-04-13T00:07:02.315Z"
   },
   {
    "duration": 105,
    "start_time": "2023-04-13T00:07:02.318Z"
   },
   {
    "duration": 94,
    "start_time": "2023-04-13T00:07:02.425Z"
   },
   {
    "duration": 62,
    "start_time": "2023-04-13T00:07:02.520Z"
   },
   {
    "duration": 1120,
    "start_time": "2023-04-13T00:07:02.584Z"
   },
   {
    "duration": 57,
    "start_time": "2023-04-13T00:07:03.706Z"
   },
   {
    "duration": 60,
    "start_time": "2023-04-13T00:07:03.765Z"
   },
   {
    "duration": 3,
    "start_time": "2023-04-13T00:07:03.835Z"
   },
   {
    "duration": 81,
    "start_time": "2023-04-13T00:07:03.840Z"
   },
   {
    "duration": 1000,
    "start_time": "2023-04-13T00:07:03.923Z"
   },
   {
    "duration": 117,
    "start_time": "2023-04-13T00:07:04.924Z"
   },
   {
    "duration": 442,
    "start_time": "2023-04-13T00:07:05.043Z"
   },
   {
    "duration": 165,
    "start_time": "2023-04-13T00:07:05.487Z"
   },
   {
    "duration": 231,
    "start_time": "2023-04-13T00:07:05.654Z"
   },
   {
    "duration": 3,
    "start_time": "2023-04-13T00:07:05.887Z"
   },
   {
    "duration": 15451,
    "start_time": "2023-04-13T00:07:05.892Z"
   },
   {
    "duration": 216,
    "start_time": "2023-04-13T00:07:21.345Z"
   },
   {
    "duration": 0,
    "start_time": "2023-04-13T00:07:21.563Z"
   },
   {
    "duration": 1046,
    "start_time": "2023-04-13T00:12:02.213Z"
   },
   {
    "duration": 709,
    "start_time": "2023-04-13T00:12:03.261Z"
   },
   {
    "duration": 15,
    "start_time": "2023-04-13T00:12:03.971Z"
   },
   {
    "duration": 51,
    "start_time": "2023-04-13T00:12:03.987Z"
   },
   {
    "duration": 64,
    "start_time": "2023-04-13T00:12:04.040Z"
   },
   {
    "duration": 49,
    "start_time": "2023-04-13T00:12:04.105Z"
   },
   {
    "duration": 156,
    "start_time": "2023-04-13T00:12:04.155Z"
   },
   {
    "duration": 158,
    "start_time": "2023-04-13T00:12:04.313Z"
   },
   {
    "duration": 3,
    "start_time": "2023-04-13T00:12:04.472Z"
   },
   {
    "duration": 98,
    "start_time": "2023-04-13T00:12:04.476Z"
   },
   {
    "duration": 86,
    "start_time": "2023-04-13T00:12:04.575Z"
   },
   {
    "duration": 55,
    "start_time": "2023-04-13T00:12:04.662Z"
   },
   {
    "duration": 1168,
    "start_time": "2023-04-13T00:12:04.719Z"
   },
   {
    "duration": 61,
    "start_time": "2023-04-13T00:12:05.891Z"
   },
   {
    "duration": 60,
    "start_time": "2023-04-13T00:12:05.954Z"
   },
   {
    "duration": 3,
    "start_time": "2023-04-13T00:12:06.016Z"
   },
   {
    "duration": 91,
    "start_time": "2023-04-13T00:12:06.021Z"
   },
   {
    "duration": 995,
    "start_time": "2023-04-13T00:12:06.113Z"
   },
   {
    "duration": 127,
    "start_time": "2023-04-13T00:12:07.110Z"
   },
   {
    "duration": 498,
    "start_time": "2023-04-13T00:12:07.239Z"
   },
   {
    "duration": 164,
    "start_time": "2023-04-13T00:12:07.739Z"
   },
   {
    "duration": 223,
    "start_time": "2023-04-13T00:12:07.905Z"
   },
   {
    "duration": 7,
    "start_time": "2023-04-13T00:12:08.129Z"
   },
   {
    "duration": 15111,
    "start_time": "2023-04-13T00:12:08.137Z"
   },
   {
    "duration": 87,
    "start_time": "2023-04-13T00:12:23.250Z"
   },
   {
    "duration": 283,
    "start_time": "2023-04-13T00:12:23.341Z"
   },
   {
    "duration": 1027,
    "start_time": "2023-04-13T00:13:18.422Z"
   },
   {
    "duration": 666,
    "start_time": "2023-04-13T00:13:19.451Z"
   },
   {
    "duration": 19,
    "start_time": "2023-04-13T00:13:20.118Z"
   },
   {
    "duration": 42,
    "start_time": "2023-04-13T00:13:20.138Z"
   },
   {
    "duration": 77,
    "start_time": "2023-04-13T00:13:20.181Z"
   },
   {
    "duration": 35,
    "start_time": "2023-04-13T00:13:20.260Z"
   },
   {
    "duration": 168,
    "start_time": "2023-04-13T00:13:20.296Z"
   },
   {
    "duration": 151,
    "start_time": "2023-04-13T00:13:20.466Z"
   },
   {
    "duration": 3,
    "start_time": "2023-04-13T00:13:20.618Z"
   },
   {
    "duration": 92,
    "start_time": "2023-04-13T00:13:20.623Z"
   },
   {
    "duration": 84,
    "start_time": "2023-04-13T00:13:20.717Z"
   },
   {
    "duration": 52,
    "start_time": "2023-04-13T00:13:20.803Z"
   },
   {
    "duration": 1059,
    "start_time": "2023-04-13T00:13:20.857Z"
   },
   {
    "duration": 57,
    "start_time": "2023-04-13T00:13:21.918Z"
   },
   {
    "duration": 61,
    "start_time": "2023-04-13T00:13:21.976Z"
   },
   {
    "duration": 3,
    "start_time": "2023-04-13T00:13:22.039Z"
   },
   {
    "duration": 74,
    "start_time": "2023-04-13T00:13:22.043Z"
   },
   {
    "duration": 949,
    "start_time": "2023-04-13T00:13:22.118Z"
   },
   {
    "duration": 110,
    "start_time": "2023-04-13T00:13:23.068Z"
   },
   {
    "duration": 463,
    "start_time": "2023-04-13T00:13:23.180Z"
   },
   {
    "duration": 158,
    "start_time": "2023-04-13T00:13:23.645Z"
   },
   {
    "duration": 219,
    "start_time": "2023-04-13T00:13:23.805Z"
   },
   {
    "duration": 3,
    "start_time": "2023-04-13T00:13:24.026Z"
   },
   {
    "duration": 14307,
    "start_time": "2023-04-13T00:13:24.030Z"
   },
   {
    "duration": 2,
    "start_time": "2023-04-13T00:13:38.339Z"
   },
   {
    "duration": 95,
    "start_time": "2023-04-13T00:13:38.345Z"
   },
   {
    "duration": 1080,
    "start_time": "2023-04-13T00:27:57.813Z"
   },
   {
    "duration": 744,
    "start_time": "2023-04-13T00:27:58.895Z"
   },
   {
    "duration": 15,
    "start_time": "2023-04-13T00:27:59.641Z"
   },
   {
    "duration": 41,
    "start_time": "2023-04-13T00:27:59.658Z"
   },
   {
    "duration": 79,
    "start_time": "2023-04-13T00:27:59.701Z"
   },
   {
    "duration": 36,
    "start_time": "2023-04-13T00:27:59.782Z"
   },
   {
    "duration": 160,
    "start_time": "2023-04-13T00:27:59.819Z"
   },
   {
    "duration": 156,
    "start_time": "2023-04-13T00:27:59.980Z"
   },
   {
    "duration": 3,
    "start_time": "2023-04-13T00:28:00.137Z"
   },
   {
    "duration": 95,
    "start_time": "2023-04-13T00:28:00.141Z"
   },
   {
    "duration": 80,
    "start_time": "2023-04-13T00:28:00.238Z"
   },
   {
    "duration": 61,
    "start_time": "2023-04-13T00:28:00.320Z"
   },
   {
    "duration": 1154,
    "start_time": "2023-04-13T00:28:00.383Z"
   },
   {
    "duration": 48,
    "start_time": "2023-04-13T00:28:01.540Z"
   },
   {
    "duration": 70,
    "start_time": "2023-04-13T00:28:01.590Z"
   },
   {
    "duration": 2,
    "start_time": "2023-04-13T00:28:01.662Z"
   },
   {
    "duration": 87,
    "start_time": "2023-04-13T00:28:01.666Z"
   },
   {
    "duration": 987,
    "start_time": "2023-04-13T00:28:01.754Z"
   },
   {
    "duration": 108,
    "start_time": "2023-04-13T00:28:02.742Z"
   },
   {
    "duration": 464,
    "start_time": "2023-04-13T00:28:02.852Z"
   },
   {
    "duration": 161,
    "start_time": "2023-04-13T00:28:03.318Z"
   },
   {
    "duration": 219,
    "start_time": "2023-04-13T00:28:03.481Z"
   },
   {
    "duration": 2,
    "start_time": "2023-04-13T00:28:03.702Z"
   },
   {
    "duration": 14939,
    "start_time": "2023-04-13T00:28:03.705Z"
   },
   {
    "duration": 174,
    "start_time": "2023-04-13T00:28:18.736Z"
   },
   {
    "duration": 0,
    "start_time": "2023-04-13T00:28:18.911Z"
   },
   {
    "duration": 1030,
    "start_time": "2023-04-13T00:28:47.417Z"
   },
   {
    "duration": 688,
    "start_time": "2023-04-13T00:28:48.449Z"
   },
   {
    "duration": 15,
    "start_time": "2023-04-13T00:28:49.138Z"
   },
   {
    "duration": 41,
    "start_time": "2023-04-13T00:28:49.155Z"
   },
   {
    "duration": 79,
    "start_time": "2023-04-13T00:28:49.198Z"
   },
   {
    "duration": 35,
    "start_time": "2023-04-13T00:28:49.279Z"
   },
   {
    "duration": 163,
    "start_time": "2023-04-13T00:28:49.316Z"
   },
   {
    "duration": 148,
    "start_time": "2023-04-13T00:28:49.480Z"
   },
   {
    "duration": 6,
    "start_time": "2023-04-13T00:28:49.630Z"
   },
   {
    "duration": 86,
    "start_time": "2023-04-13T00:28:49.638Z"
   },
   {
    "duration": 85,
    "start_time": "2023-04-13T00:28:49.725Z"
   },
   {
    "duration": 61,
    "start_time": "2023-04-13T00:28:49.811Z"
   },
   {
    "duration": 1070,
    "start_time": "2023-04-13T00:28:49.874Z"
   },
   {
    "duration": 44,
    "start_time": "2023-04-13T00:28:50.946Z"
   },
   {
    "duration": 65,
    "start_time": "2023-04-13T00:28:50.992Z"
   },
   {
    "duration": 3,
    "start_time": "2023-04-13T00:28:51.059Z"
   },
   {
    "duration": 82,
    "start_time": "2023-04-13T00:28:51.063Z"
   },
   {
    "duration": 907,
    "start_time": "2023-04-13T00:28:51.147Z"
   },
   {
    "duration": 116,
    "start_time": "2023-04-13T00:28:52.055Z"
   },
   {
    "duration": 501,
    "start_time": "2023-04-13T00:28:52.172Z"
   },
   {
    "duration": 157,
    "start_time": "2023-04-13T00:28:52.675Z"
   },
   {
    "duration": 223,
    "start_time": "2023-04-13T00:28:52.837Z"
   },
   {
    "duration": 3,
    "start_time": "2023-04-13T00:28:53.062Z"
   },
   {
    "duration": 14274,
    "start_time": "2023-04-13T00:28:53.066Z"
   },
   {
    "duration": 560532,
    "start_time": "2023-04-13T00:29:07.341Z"
   },
   {
    "duration": 6,
    "start_time": "2023-04-13T00:38:27.875Z"
   },
   {
    "duration": 107,
    "start_time": "2023-04-13T00:38:32.214Z"
   },
   {
    "duration": 1029,
    "start_time": "2023-04-13T00:38:38.811Z"
   },
   {
    "duration": 703,
    "start_time": "2023-04-13T00:38:39.841Z"
   },
   {
    "duration": 16,
    "start_time": "2023-04-13T00:38:40.546Z"
   },
   {
    "duration": 59,
    "start_time": "2023-04-13T00:38:40.563Z"
   },
   {
    "duration": 66,
    "start_time": "2023-04-13T00:38:40.624Z"
   },
   {
    "duration": 48,
    "start_time": "2023-04-13T00:38:40.691Z"
   },
   {
    "duration": 162,
    "start_time": "2023-04-13T00:38:40.740Z"
   },
   {
    "duration": 159,
    "start_time": "2023-04-13T00:38:40.904Z"
   },
   {
    "duration": 3,
    "start_time": "2023-04-13T00:38:41.065Z"
   },
   {
    "duration": 96,
    "start_time": "2023-04-13T00:38:41.069Z"
   },
   {
    "duration": 95,
    "start_time": "2023-04-13T00:38:41.167Z"
   },
   {
    "duration": 52,
    "start_time": "2023-04-13T00:38:41.264Z"
   },
   {
    "duration": 1105,
    "start_time": "2023-04-13T00:38:41.318Z"
   },
   {
    "duration": 52,
    "start_time": "2023-04-13T00:38:42.426Z"
   },
   {
    "duration": 67,
    "start_time": "2023-04-13T00:38:42.480Z"
   },
   {
    "duration": 4,
    "start_time": "2023-04-13T00:38:42.549Z"
   },
   {
    "duration": 87,
    "start_time": "2023-04-13T00:38:42.554Z"
   },
   {
    "duration": 910,
    "start_time": "2023-04-13T00:38:42.643Z"
   },
   {
    "duration": 113,
    "start_time": "2023-04-13T00:38:43.555Z"
   },
   {
    "duration": 440,
    "start_time": "2023-04-13T00:38:43.669Z"
   },
   {
    "duration": 164,
    "start_time": "2023-04-13T00:38:44.110Z"
   },
   {
    "duration": 217,
    "start_time": "2023-04-13T00:38:44.275Z"
   },
   {
    "duration": 100,
    "start_time": "2023-04-13T00:38:44.493Z"
   },
   {
    "duration": 0,
    "start_time": "2023-04-13T00:38:44.595Z"
   },
   {
    "duration": 0,
    "start_time": "2023-04-13T00:38:44.596Z"
   },
   {
    "duration": 0,
    "start_time": "2023-04-13T00:38:44.596Z"
   },
   {
    "duration": 978,
    "start_time": "2023-04-13T00:40:36.884Z"
   },
   {
    "duration": 688,
    "start_time": "2023-04-13T00:40:37.864Z"
   },
   {
    "duration": 16,
    "start_time": "2023-04-13T00:40:38.553Z"
   },
   {
    "duration": 41,
    "start_time": "2023-04-13T00:40:38.570Z"
   },
   {
    "duration": 83,
    "start_time": "2023-04-13T00:40:38.612Z"
   },
   {
    "duration": 42,
    "start_time": "2023-04-13T00:40:38.697Z"
   },
   {
    "duration": 161,
    "start_time": "2023-04-13T00:40:38.740Z"
   },
   {
    "duration": 152,
    "start_time": "2023-04-13T00:40:38.903Z"
   },
   {
    "duration": 3,
    "start_time": "2023-04-13T00:40:39.056Z"
   },
   {
    "duration": 92,
    "start_time": "2023-04-13T00:40:39.061Z"
   },
   {
    "duration": 90,
    "start_time": "2023-04-13T00:40:39.154Z"
   },
   {
    "duration": 53,
    "start_time": "2023-04-13T00:40:39.246Z"
   },
   {
    "duration": 1052,
    "start_time": "2023-04-13T00:40:39.301Z"
   },
   {
    "duration": 45,
    "start_time": "2023-04-13T00:40:40.354Z"
   },
   {
    "duration": 71,
    "start_time": "2023-04-13T00:40:40.400Z"
   },
   {
    "duration": 3,
    "start_time": "2023-04-13T00:40:40.472Z"
   },
   {
    "duration": 77,
    "start_time": "2023-04-13T00:40:40.476Z"
   },
   {
    "duration": 906,
    "start_time": "2023-04-13T00:40:40.554Z"
   },
   {
    "duration": 109,
    "start_time": "2023-04-13T00:40:41.461Z"
   },
   {
    "duration": 427,
    "start_time": "2023-04-13T00:40:41.572Z"
   },
   {
    "duration": 158,
    "start_time": "2023-04-13T00:40:42.000Z"
   },
   {
    "duration": 235,
    "start_time": "2023-04-13T00:40:42.159Z"
   },
   {
    "duration": 4,
    "start_time": "2023-04-13T00:40:42.396Z"
   },
   {
    "duration": 14241,
    "start_time": "2023-04-13T00:40:42.402Z"
   },
   {
    "duration": 1024,
    "start_time": "2023-04-13T00:41:41.217Z"
   },
   {
    "duration": 706,
    "start_time": "2023-04-13T00:41:42.243Z"
   },
   {
    "duration": 15,
    "start_time": "2023-04-13T00:41:42.950Z"
   },
   {
    "duration": 45,
    "start_time": "2023-04-13T00:41:42.966Z"
   },
   {
    "duration": 77,
    "start_time": "2023-04-13T00:41:43.012Z"
   },
   {
    "duration": 34,
    "start_time": "2023-04-13T00:41:43.091Z"
   },
   {
    "duration": 149,
    "start_time": "2023-04-13T00:41:43.136Z"
   },
   {
    "duration": 158,
    "start_time": "2023-04-13T00:41:43.287Z"
   },
   {
    "duration": 3,
    "start_time": "2023-04-13T00:41:43.447Z"
   },
   {
    "duration": 94,
    "start_time": "2023-04-13T00:41:43.452Z"
   },
   {
    "duration": 96,
    "start_time": "2023-04-13T00:41:43.548Z"
   },
   {
    "duration": 53,
    "start_time": "2023-04-13T00:41:43.646Z"
   },
   {
    "duration": 1874,
    "start_time": "2023-04-13T00:41:43.701Z"
   },
   {
    "duration": 58,
    "start_time": "2023-04-13T00:41:45.579Z"
   },
   {
    "duration": 56,
    "start_time": "2023-04-13T00:41:45.639Z"
   },
   {
    "duration": 3,
    "start_time": "2023-04-13T00:41:45.697Z"
   },
   {
    "duration": 89,
    "start_time": "2023-04-13T00:41:45.701Z"
   },
   {
    "duration": 898,
    "start_time": "2023-04-13T00:41:45.792Z"
   },
   {
    "duration": 110,
    "start_time": "2023-04-13T00:41:46.692Z"
   },
   {
    "duration": 450,
    "start_time": "2023-04-13T00:41:46.804Z"
   },
   {
    "duration": 160,
    "start_time": "2023-04-13T00:41:47.256Z"
   },
   {
    "duration": 228,
    "start_time": "2023-04-13T00:41:47.418Z"
   },
   {
    "duration": 3,
    "start_time": "2023-04-13T00:41:47.648Z"
   },
   {
    "duration": 14795,
    "start_time": "2023-04-13T00:41:47.652Z"
   },
   {
    "duration": 278,
    "start_time": "2023-04-13T00:42:02.449Z"
   },
   {
    "duration": 0,
    "start_time": "2023-04-13T00:42:02.736Z"
   },
   {
    "duration": 1123,
    "start_time": "2023-04-13T00:42:42.940Z"
   },
   {
    "duration": 684,
    "start_time": "2023-04-13T00:42:44.065Z"
   },
   {
    "duration": 15,
    "start_time": "2023-04-13T00:42:44.751Z"
   },
   {
    "duration": 42,
    "start_time": "2023-04-13T00:42:44.767Z"
   },
   {
    "duration": 78,
    "start_time": "2023-04-13T00:42:44.810Z"
   },
   {
    "duration": 36,
    "start_time": "2023-04-13T00:42:44.889Z"
   },
   {
    "duration": 162,
    "start_time": "2023-04-13T00:42:44.926Z"
   },
   {
    "duration": 154,
    "start_time": "2023-04-13T00:42:45.089Z"
   },
   {
    "duration": 2,
    "start_time": "2023-04-13T00:42:45.245Z"
   },
   {
    "duration": 99,
    "start_time": "2023-04-13T00:42:45.248Z"
   },
   {
    "duration": 80,
    "start_time": "2023-04-13T00:42:45.348Z"
   },
   {
    "duration": 55,
    "start_time": "2023-04-13T00:42:45.430Z"
   },
   {
    "duration": 1084,
    "start_time": "2023-04-13T00:42:45.486Z"
   },
   {
    "duration": 45,
    "start_time": "2023-04-13T00:42:46.572Z"
   },
   {
    "duration": 65,
    "start_time": "2023-04-13T00:42:46.619Z"
   },
   {
    "duration": 3,
    "start_time": "2023-04-13T00:42:46.686Z"
   },
   {
    "duration": 81,
    "start_time": "2023-04-13T00:42:46.690Z"
   },
   {
    "duration": 916,
    "start_time": "2023-04-13T00:42:46.772Z"
   },
   {
    "duration": 116,
    "start_time": "2023-04-13T00:42:47.689Z"
   },
   {
    "duration": 466,
    "start_time": "2023-04-13T00:42:47.806Z"
   },
   {
    "duration": 162,
    "start_time": "2023-04-13T00:42:48.274Z"
   },
   {
    "duration": 218,
    "start_time": "2023-04-13T00:42:48.437Z"
   },
   {
    "duration": 3,
    "start_time": "2023-04-13T00:42:48.656Z"
   },
   {
    "duration": 14681,
    "start_time": "2023-04-13T00:42:48.661Z"
   },
   {
    "duration": 1138,
    "start_time": "2023-04-13T13:44:13.883Z"
   },
   {
    "duration": 1148,
    "start_time": "2023-04-13T19:17:58.103Z"
   },
   {
    "duration": 929,
    "start_time": "2023-04-13T19:17:59.253Z"
   },
   {
    "duration": 15,
    "start_time": "2023-04-13T19:18:00.184Z"
   },
   {
    "duration": 45,
    "start_time": "2023-04-13T19:18:00.201Z"
   },
   {
    "duration": 112,
    "start_time": "2023-04-13T19:18:00.248Z"
   },
   {
    "duration": 51,
    "start_time": "2023-04-13T19:18:00.362Z"
   },
   {
    "duration": 178,
    "start_time": "2023-04-13T19:18:00.414Z"
   },
   {
    "duration": 168,
    "start_time": "2023-04-13T19:18:00.595Z"
   },
   {
    "duration": 2,
    "start_time": "2023-04-13T19:18:00.765Z"
   },
   {
    "duration": 147,
    "start_time": "2023-04-13T19:18:00.769Z"
   },
   {
    "duration": 96,
    "start_time": "2023-04-13T19:18:00.918Z"
   },
   {
    "duration": 58,
    "start_time": "2023-04-13T19:18:01.016Z"
   },
   {
    "duration": 1277,
    "start_time": "2023-04-13T19:18:01.076Z"
   },
   {
    "duration": 52,
    "start_time": "2023-04-13T19:18:02.356Z"
   },
   {
    "duration": 85,
    "start_time": "2023-04-13T19:18:02.409Z"
   },
   {
    "duration": 4,
    "start_time": "2023-04-13T19:18:02.496Z"
   },
   {
    "duration": 128,
    "start_time": "2023-04-13T19:18:02.502Z"
   },
   {
    "duration": 1002,
    "start_time": "2023-04-13T19:18:02.632Z"
   },
   {
    "duration": 118,
    "start_time": "2023-04-13T19:18:03.636Z"
   },
   {
    "duration": 457,
    "start_time": "2023-04-13T19:18:03.756Z"
   },
   {
    "duration": 158,
    "start_time": "2023-04-13T19:18:04.215Z"
   },
   {
    "duration": 228,
    "start_time": "2023-04-13T19:18:04.375Z"
   },
   {
    "duration": 3,
    "start_time": "2023-04-13T19:18:04.605Z"
   },
   {
    "duration": 21434,
    "start_time": "2023-04-13T19:18:04.610Z"
   },
   {
    "duration": 1248,
    "start_time": "2023-04-13T19:28:39.237Z"
   },
   {
    "duration": 923,
    "start_time": "2023-04-13T19:28:40.487Z"
   },
   {
    "duration": 27,
    "start_time": "2023-04-13T19:28:41.412Z"
   },
   {
    "duration": 50,
    "start_time": "2023-04-13T19:28:41.441Z"
   },
   {
    "duration": 96,
    "start_time": "2023-04-13T19:28:41.493Z"
   },
   {
    "duration": 54,
    "start_time": "2023-04-13T19:28:41.591Z"
   },
   {
    "duration": 226,
    "start_time": "2023-04-13T19:28:41.647Z"
   },
   {
    "duration": 221,
    "start_time": "2023-04-13T19:28:41.875Z"
   },
   {
    "duration": 3,
    "start_time": "2023-04-13T19:28:42.099Z"
   },
   {
    "duration": 162,
    "start_time": "2023-04-13T19:28:42.104Z"
   },
   {
    "duration": 122,
    "start_time": "2023-04-13T19:28:42.268Z"
   },
   {
    "duration": 97,
    "start_time": "2023-04-13T19:28:42.392Z"
   },
   {
    "duration": 1424,
    "start_time": "2023-04-13T19:28:42.491Z"
   },
   {
    "duration": 64,
    "start_time": "2023-04-13T19:28:43.918Z"
   },
   {
    "duration": 65,
    "start_time": "2023-04-13T19:28:43.984Z"
   },
   {
    "duration": 4,
    "start_time": "2023-04-13T19:28:44.051Z"
   },
   {
    "duration": 100,
    "start_time": "2023-04-13T19:28:44.056Z"
   },
   {
    "duration": 1158,
    "start_time": "2023-04-13T19:28:44.158Z"
   },
   {
    "duration": 158,
    "start_time": "2023-04-13T19:28:45.319Z"
   },
   {
    "duration": 538,
    "start_time": "2023-04-13T19:28:45.479Z"
   },
   {
    "duration": 170,
    "start_time": "2023-04-13T19:28:46.020Z"
   },
   {
    "duration": 291,
    "start_time": "2023-04-13T19:28:46.193Z"
   },
   {
    "duration": 79,
    "start_time": "2023-04-13T19:28:46.486Z"
   },
   {
    "duration": 239,
    "start_time": "2023-04-13T19:28:46.567Z"
   },
   {
    "duration": 5,
    "start_time": "2023-04-13T19:28:46.808Z"
   },
   {
    "duration": 33551,
    "start_time": "2023-04-13T19:28:46.815Z"
   },
   {
    "duration": 1529,
    "start_time": "2023-04-15T18:53:11.032Z"
   },
   {
    "duration": 1680,
    "start_time": "2023-04-15T18:53:13.147Z"
   },
   {
    "duration": 28,
    "start_time": "2023-04-15T18:53:14.829Z"
   },
   {
    "duration": 105,
    "start_time": "2023-04-15T18:53:33.431Z"
   },
   {
    "duration": 36,
    "start_time": "2023-04-15T18:53:44.015Z"
   },
   {
    "duration": 83,
    "start_time": "2023-04-15T18:53:57.958Z"
   },
   {
    "duration": 38,
    "start_time": "2023-04-15T18:54:03.079Z"
   },
   {
    "duration": 165,
    "start_time": "2023-04-15T18:54:10.158Z"
   },
   {
    "duration": 189,
    "start_time": "2023-04-15T18:54:11.676Z"
   },
   {
    "duration": 3,
    "start_time": "2023-04-15T18:54:26.006Z"
   },
   {
    "duration": 120,
    "start_time": "2023-04-15T18:54:30.547Z"
   },
   {
    "duration": 107,
    "start_time": "2023-04-15T18:54:35.777Z"
   },
   {
    "duration": 53,
    "start_time": "2023-04-15T18:54:50.723Z"
   },
   {
    "duration": 1431,
    "start_time": "2023-04-15T18:54:54.359Z"
   },
   {
    "duration": 49,
    "start_time": "2023-04-15T18:55:01.879Z"
   },
   {
    "duration": 84,
    "start_time": "2023-04-15T18:55:08.388Z"
   },
   {
    "duration": 4,
    "start_time": "2023-04-15T18:55:32.317Z"
   },
   {
    "duration": 79,
    "start_time": "2023-04-15T18:56:00.112Z"
   },
   {
    "duration": 1125,
    "start_time": "2023-04-15T18:56:02.927Z"
   },
   {
    "duration": 39,
    "start_time": "2023-04-15T18:56:21.806Z"
   },
   {
    "duration": 115,
    "start_time": "2023-04-15T18:56:39.942Z"
   },
   {
    "duration": 414,
    "start_time": "2023-04-15T18:56:49.560Z"
   },
   {
    "duration": 157,
    "start_time": "2023-04-15T18:57:27.034Z"
   },
   {
    "duration": 224,
    "start_time": "2023-04-15T18:57:51.723Z"
   },
   {
    "duration": 69,
    "start_time": "2023-04-15T18:57:52.040Z"
   },
   {
    "duration": 4,
    "start_time": "2023-04-15T18:58:26.534Z"
   },
   {
    "duration": 23,
    "start_time": "2023-04-15T18:58:36.811Z"
   }
  ],
  "kernelspec": {
   "display_name": "Python 3 (ipykernel)",
   "language": "python",
   "name": "python3"
  },
  "language_info": {
   "codemirror_mode": {
    "name": "ipython",
    "version": 3
   },
   "file_extension": ".py",
   "mimetype": "text/x-python",
   "name": "python",
   "nbconvert_exporter": "python",
   "pygments_lexer": "ipython3",
   "version": "3.9.12"
  },
  "toc": {
   "base_numbering": 1,
   "nav_menu": {},
   "number_sections": true,
   "sideBar": true,
   "skip_h1_title": true,
   "title_cell": "Table of Contents",
   "title_sidebar": "Contents",
   "toc_cell": false,
   "toc_position": {
    "height": "calc(100% - 180px)",
    "left": "10px",
    "top": "150px",
    "width": "392.1px"
   },
   "toc_section_display": true,
   "toc_window_display": true
  }
 },
 "nbformat": 4,
 "nbformat_minor": 2
}
