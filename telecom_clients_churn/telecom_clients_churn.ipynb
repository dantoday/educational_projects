{
 "cells": [
  {
   "cell_type": "markdown",
   "id": "cdecca1e",
   "metadata": {},
   "source": [
    "# Прогнозирование оттока клиентов для  оператора связи\n",
    "\n",
    "Оператор связи хочет научиться прогнозировать отток клиентов. Если выяснится, что пользователь планирует уйти, ему будут предложены промокоды и специальные условия. Команда оператора собрала персональные данные о некоторых клиентах, информацию об их тарифах и договорах.\n",
    "\n",
    "### Описание услуг\n",
    "\n",
    "Оператор предоставляет два основных типа услуг: \n",
    "\n",
    "1. Стационарную телефонную связь. Возможно подключение телефонного аппарата к нескольким линиям одновременно.\n",
    "2. Интернет. Подключение может быть двух типов: через телефонную линию (DSL*,* от англ. *digital subscriber line*, «цифровая абонентская линия») или оптоволоконный кабель (*Fiber optic*).  \n",
    "\n",
    "Также доступны такие услуги:\n",
    "\n",
    "- Интернет-безопасность: антивирус (*DeviceProtection*) и блокировка небезопасных сайтов (*OnlineSecurity*);\n",
    "- Выделенная линия технической поддержки (*TechSupport*);\n",
    "- Облачное хранилище файлов для резервного копирования данных (*OnlineBackup*);\n",
    "- Стриминговое телевидение (*StreamingTV*) и каталог фильмов (*StreamingMovies*).\n",
    "\n",
    "За услуги клиенты могут платить каждый месяц или заключить договор на 1–2 года. Доступны различные способы расчёта и возможность получения электронного чека.\n",
    "\n",
    "### Описание данных\n",
    "\n",
    "Данные состоят из файлов, полученных из разных источников:\n",
    "\n",
    "- `contract_new.csv` — информация о договоре;\n",
    "- `personal_new.csv` — персональные данные клиента;\n",
    "- `internet_new.csv` — информация об интернет-услугах;\n",
    "- `phone_new.csv` — информация об услугах телефонии.\n",
    "\n",
    "Во всех файлах столбец `customerID` содержит код клиента.\n",
    "\n",
    "Информация о договорах актуальна на 1 февраля 2020.\n",
    "\n",
    "### Задача проекта\n",
    "\n",
    "Создать и обучить модель способную предсказывать уйдет ли клиент в ближайшее время.\n",
    "\n",
    "Критерий оценки модели: метрика AUC-ROC должна быть больше 0,85."
   ]
  },
  {
   "cell_type": "markdown",
   "id": "15d8c5fd",
   "metadata": {},
   "source": [
    "## Исследовательский анализ данных "
   ]
  },
  {
   "cell_type": "markdown",
   "id": "6eff0ec7",
   "metadata": {},
   "source": [
    "### Загрузка библиотек"
   ]
  },
  {
   "cell_type": "markdown",
   "id": "0fd34194",
   "metadata": {},
   "source": [
    "Загрузим необходимые библиотеки:"
   ]
  },
  {
   "cell_type": "code",
   "execution_count": 1,
   "id": "38b40963",
   "metadata": {},
   "outputs": [],
   "source": [
    "import pandas as pd\n",
    "import numpy as np\n",
    "import matplotlib.pyplot as plt\n",
    "import seaborn as sns\n",
    "from datetime import datetime as dt\n",
    "import phik\n",
    "import shap\n",
    "\n",
    "from sklearn.model_selection import train_test_split, GridSearchCV\n",
    "from sklearn.ensemble import RandomForestClassifier\n",
    "from sklearn.preprocessing import OneHotEncoder\n",
    "from sklearn.compose import make_column_transformer\n",
    "from sklearn.pipeline import Pipeline\n",
    "from sklearn.metrics import roc_auc_score, confusion_matrix, ConfusionMatrixDisplay\n",
    "\n",
    "from lightgbm import LGBMClassifier\n",
    "\n",
    "from catboost import CatBoostClassifier"
   ]
  },
  {
   "cell_type": "markdown",
   "id": "924b9b1a",
   "metadata": {},
   "source": [
    "Установим показатель `random_state`:"
   ]
  },
  {
   "cell_type": "code",
   "execution_count": 2,
   "id": "fc14bbfa",
   "metadata": {},
   "outputs": [],
   "source": [
    "RANDOM_STATE = 60623"
   ]
  },
  {
   "cell_type": "markdown",
   "id": "cab6b1d1",
   "metadata": {},
   "source": [
    "### Изучим данные"
   ]
  },
  {
   "cell_type": "markdown",
   "id": "64091c0a",
   "metadata": {},
   "source": [
    "Загрузим данные:"
   ]
  },
  {
   "cell_type": "code",
   "execution_count": 3,
   "id": "5c463537",
   "metadata": {},
   "outputs": [],
   "source": [
    "contract_data = pd.read_csv('/datasets/contract_new.csv')\n",
    "\n",
    "personal_data = pd.read_csv('/datasets/personal_new.csv')\n",
    "\n",
    "internet_data = pd.read_csv('/internet_new.csv')\n",
    "\n",
    "phone_data = pd.read_csv('/phone_new.csv')"
   ]
  },
  {
   "cell_type": "markdown",
   "id": "b9272ec9",
   "metadata": {},
   "source": [
    "Теперь изучим каждый датафрейм, создадим для этого функцию:"
   ]
  },
  {
   "cell_type": "code",
   "execution_count": 4,
   "id": "3c02428a",
   "metadata": {},
   "outputs": [],
   "source": [
    "def info(date):\n",
    "    display(date.head(5),\n",
    "            date.info(),\n",
    "            date.describe(),\n",
    "            date.apply(lambda col: col.unique()))"
   ]
  },
  {
   "cell_type": "markdown",
   "id": "5451bda7",
   "metadata": {},
   "source": [
    "Первый датафрейм - информация о договорах:"
   ]
  },
  {
   "cell_type": "code",
   "execution_count": 5,
   "id": "482c3976",
   "metadata": {
    "scrolled": false
   },
   "outputs": [
    {
     "name": "stdout",
     "output_type": "stream",
     "text": [
      "<class 'pandas.core.frame.DataFrame'>\n",
      "RangeIndex: 7043 entries, 0 to 7042\n",
      "Data columns (total 8 columns):\n",
      " #   Column            Non-Null Count  Dtype  \n",
      "---  ------            --------------  -----  \n",
      " 0   customerID        7043 non-null   object \n",
      " 1   BeginDate         7043 non-null   object \n",
      " 2   EndDate           7043 non-null   object \n",
      " 3   Type              7043 non-null   object \n",
      " 4   PaperlessBilling  7043 non-null   object \n",
      " 5   PaymentMethod     7043 non-null   object \n",
      " 6   MonthlyCharges    7043 non-null   float64\n",
      " 7   TotalCharges      7043 non-null   object \n",
      "dtypes: float64(1), object(7)\n",
      "memory usage: 440.3+ KB\n"
     ]
    },
    {
     "data": {
      "text/html": [
       "<div>\n",
       "<style scoped>\n",
       "    .dataframe tbody tr th:only-of-type {\n",
       "        vertical-align: middle;\n",
       "    }\n",
       "\n",
       "    .dataframe tbody tr th {\n",
       "        vertical-align: top;\n",
       "    }\n",
       "\n",
       "    .dataframe thead th {\n",
       "        text-align: right;\n",
       "    }\n",
       "</style>\n",
       "<table border=\"1\" class=\"dataframe\">\n",
       "  <thead>\n",
       "    <tr style=\"text-align: right;\">\n",
       "      <th></th>\n",
       "      <th>customerID</th>\n",
       "      <th>BeginDate</th>\n",
       "      <th>EndDate</th>\n",
       "      <th>Type</th>\n",
       "      <th>PaperlessBilling</th>\n",
       "      <th>PaymentMethod</th>\n",
       "      <th>MonthlyCharges</th>\n",
       "      <th>TotalCharges</th>\n",
       "    </tr>\n",
       "  </thead>\n",
       "  <tbody>\n",
       "    <tr>\n",
       "      <th>0</th>\n",
       "      <td>7590-VHVEG</td>\n",
       "      <td>2020-01-01</td>\n",
       "      <td>No</td>\n",
       "      <td>Month-to-month</td>\n",
       "      <td>Yes</td>\n",
       "      <td>Electronic check</td>\n",
       "      <td>29.85</td>\n",
       "      <td>31.04</td>\n",
       "    </tr>\n",
       "    <tr>\n",
       "      <th>1</th>\n",
       "      <td>5575-GNVDE</td>\n",
       "      <td>2017-04-01</td>\n",
       "      <td>No</td>\n",
       "      <td>One year</td>\n",
       "      <td>No</td>\n",
       "      <td>Mailed check</td>\n",
       "      <td>56.95</td>\n",
       "      <td>2071.84</td>\n",
       "    </tr>\n",
       "    <tr>\n",
       "      <th>2</th>\n",
       "      <td>3668-QPYBK</td>\n",
       "      <td>2019-10-01</td>\n",
       "      <td>No</td>\n",
       "      <td>Month-to-month</td>\n",
       "      <td>Yes</td>\n",
       "      <td>Mailed check</td>\n",
       "      <td>53.85</td>\n",
       "      <td>226.17</td>\n",
       "    </tr>\n",
       "    <tr>\n",
       "      <th>3</th>\n",
       "      <td>7795-CFOCW</td>\n",
       "      <td>2016-05-01</td>\n",
       "      <td>No</td>\n",
       "      <td>One year</td>\n",
       "      <td>No</td>\n",
       "      <td>Bank transfer (automatic)</td>\n",
       "      <td>42.30</td>\n",
       "      <td>1960.6</td>\n",
       "    </tr>\n",
       "    <tr>\n",
       "      <th>4</th>\n",
       "      <td>9237-HQITU</td>\n",
       "      <td>2019-09-01</td>\n",
       "      <td>No</td>\n",
       "      <td>Month-to-month</td>\n",
       "      <td>Yes</td>\n",
       "      <td>Electronic check</td>\n",
       "      <td>70.70</td>\n",
       "      <td>353.5</td>\n",
       "    </tr>\n",
       "  </tbody>\n",
       "</table>\n",
       "</div>"
      ],
      "text/plain": [
       "   customerID   BeginDate EndDate            Type PaperlessBilling  \\\n",
       "0  7590-VHVEG  2020-01-01      No  Month-to-month              Yes   \n",
       "1  5575-GNVDE  2017-04-01      No        One year               No   \n",
       "2  3668-QPYBK  2019-10-01      No  Month-to-month              Yes   \n",
       "3  7795-CFOCW  2016-05-01      No        One year               No   \n",
       "4  9237-HQITU  2019-09-01      No  Month-to-month              Yes   \n",
       "\n",
       "               PaymentMethod  MonthlyCharges TotalCharges  \n",
       "0           Electronic check           29.85        31.04  \n",
       "1               Mailed check           56.95      2071.84  \n",
       "2               Mailed check           53.85       226.17  \n",
       "3  Bank transfer (automatic)           42.30       1960.6  \n",
       "4           Electronic check           70.70        353.5  "
      ]
     },
     "metadata": {},
     "output_type": "display_data"
    },
    {
     "data": {
      "text/plain": [
       "None"
      ]
     },
     "metadata": {},
     "output_type": "display_data"
    },
    {
     "data": {
      "text/html": [
       "<div>\n",
       "<style scoped>\n",
       "    .dataframe tbody tr th:only-of-type {\n",
       "        vertical-align: middle;\n",
       "    }\n",
       "\n",
       "    .dataframe tbody tr th {\n",
       "        vertical-align: top;\n",
       "    }\n",
       "\n",
       "    .dataframe thead th {\n",
       "        text-align: right;\n",
       "    }\n",
       "</style>\n",
       "<table border=\"1\" class=\"dataframe\">\n",
       "  <thead>\n",
       "    <tr style=\"text-align: right;\">\n",
       "      <th></th>\n",
       "      <th>MonthlyCharges</th>\n",
       "    </tr>\n",
       "  </thead>\n",
       "  <tbody>\n",
       "    <tr>\n",
       "      <th>count</th>\n",
       "      <td>7043.000000</td>\n",
       "    </tr>\n",
       "    <tr>\n",
       "      <th>mean</th>\n",
       "      <td>64.761692</td>\n",
       "    </tr>\n",
       "    <tr>\n",
       "      <th>std</th>\n",
       "      <td>30.090047</td>\n",
       "    </tr>\n",
       "    <tr>\n",
       "      <th>min</th>\n",
       "      <td>18.250000</td>\n",
       "    </tr>\n",
       "    <tr>\n",
       "      <th>25%</th>\n",
       "      <td>35.500000</td>\n",
       "    </tr>\n",
       "    <tr>\n",
       "      <th>50%</th>\n",
       "      <td>70.350000</td>\n",
       "    </tr>\n",
       "    <tr>\n",
       "      <th>75%</th>\n",
       "      <td>89.850000</td>\n",
       "    </tr>\n",
       "    <tr>\n",
       "      <th>max</th>\n",
       "      <td>118.750000</td>\n",
       "    </tr>\n",
       "  </tbody>\n",
       "</table>\n",
       "</div>"
      ],
      "text/plain": [
       "       MonthlyCharges\n",
       "count     7043.000000\n",
       "mean        64.761692\n",
       "std         30.090047\n",
       "min         18.250000\n",
       "25%         35.500000\n",
       "50%         70.350000\n",
       "75%         89.850000\n",
       "max        118.750000"
      ]
     },
     "metadata": {},
     "output_type": "display_data"
    },
    {
     "data": {
      "text/plain": [
       "customerID          [7590-VHVEG, 5575-GNVDE, 3668-QPYBK, 7795-CFOC...\n",
       "BeginDate           [2020-01-01, 2017-04-01, 2019-10-01, 2016-05-0...\n",
       "EndDate             [No, 2017-05-01, 2016-03-01, 2018-09-01, 2018-...\n",
       "Type                             [Month-to-month, One year, Two year]\n",
       "PaperlessBilling                                            [Yes, No]\n",
       "PaymentMethod       [Electronic check, Mailed check, Bank transfer...\n",
       "MonthlyCharges      [29.85, 56.95, 53.85, 42.3, 70.7, 99.65, 89.1,...\n",
       "TotalCharges        [31.04, 2071.84, 226.17, 1960.6, 353.5, 1150.9...\n",
       "dtype: object"
      ]
     },
     "metadata": {},
     "output_type": "display_data"
    }
   ],
   "source": [
    "info(contract_data)"
   ]
  },
  {
   "cell_type": "markdown",
   "id": "7fe64e96",
   "metadata": {},
   "source": [
    "В этом датафрейме 8 столбцов и 7043 записи. Пропуски в данных отсутствуют. В нем присутствует столбец EndDate, из которого создадим столбец с целевым признаком. Столбец `TotalCharges` нужно перевесть в формат float, сначала проверим, почему он не в этом формате:"
   ]
  },
  {
   "cell_type": "code",
   "execution_count": 6,
   "id": "461a9962",
   "metadata": {
    "scrolled": true
   },
   "outputs": [
    {
     "data": {
      "text/html": [
       "<div>\n",
       "<style scoped>\n",
       "    .dataframe tbody tr th:only-of-type {\n",
       "        vertical-align: middle;\n",
       "    }\n",
       "\n",
       "    .dataframe tbody tr th {\n",
       "        vertical-align: top;\n",
       "    }\n",
       "\n",
       "    .dataframe thead th {\n",
       "        text-align: right;\n",
       "    }\n",
       "</style>\n",
       "<table border=\"1\" class=\"dataframe\">\n",
       "  <thead>\n",
       "    <tr style=\"text-align: right;\">\n",
       "      <th></th>\n",
       "      <th>customerID</th>\n",
       "      <th>BeginDate</th>\n",
       "      <th>EndDate</th>\n",
       "      <th>Type</th>\n",
       "      <th>PaperlessBilling</th>\n",
       "      <th>PaymentMethod</th>\n",
       "      <th>MonthlyCharges</th>\n",
       "      <th>TotalCharges</th>\n",
       "    </tr>\n",
       "  </thead>\n",
       "  <tbody>\n",
       "    <tr>\n",
       "      <th>3331</th>\n",
       "      <td>7644-OMVMY</td>\n",
       "      <td>2020-02-01</td>\n",
       "      <td>No</td>\n",
       "      <td>Two year</td>\n",
       "      <td>No</td>\n",
       "      <td>Mailed check</td>\n",
       "      <td>19.85</td>\n",
       "      <td></td>\n",
       "    </tr>\n",
       "    <tr>\n",
       "      <th>4380</th>\n",
       "      <td>2520-SGTTA</td>\n",
       "      <td>2020-02-01</td>\n",
       "      <td>No</td>\n",
       "      <td>Two year</td>\n",
       "      <td>No</td>\n",
       "      <td>Mailed check</td>\n",
       "      <td>20.00</td>\n",
       "      <td></td>\n",
       "    </tr>\n",
       "    <tr>\n",
       "      <th>6670</th>\n",
       "      <td>4075-WKNIU</td>\n",
       "      <td>2020-02-01</td>\n",
       "      <td>No</td>\n",
       "      <td>Two year</td>\n",
       "      <td>No</td>\n",
       "      <td>Mailed check</td>\n",
       "      <td>73.35</td>\n",
       "      <td></td>\n",
       "    </tr>\n",
       "    <tr>\n",
       "      <th>488</th>\n",
       "      <td>4472-LVYGI</td>\n",
       "      <td>2020-02-01</td>\n",
       "      <td>No</td>\n",
       "      <td>Two year</td>\n",
       "      <td>Yes</td>\n",
       "      <td>Bank transfer (automatic)</td>\n",
       "      <td>52.55</td>\n",
       "      <td></td>\n",
       "    </tr>\n",
       "    <tr>\n",
       "      <th>3826</th>\n",
       "      <td>3213-VVOLG</td>\n",
       "      <td>2020-02-01</td>\n",
       "      <td>No</td>\n",
       "      <td>Two year</td>\n",
       "      <td>No</td>\n",
       "      <td>Mailed check</td>\n",
       "      <td>25.35</td>\n",
       "      <td></td>\n",
       "    </tr>\n",
       "  </tbody>\n",
       "</table>\n",
       "</div>"
      ],
      "text/plain": [
       "      customerID   BeginDate EndDate      Type PaperlessBilling  \\\n",
       "3331  7644-OMVMY  2020-02-01      No  Two year               No   \n",
       "4380  2520-SGTTA  2020-02-01      No  Two year               No   \n",
       "6670  4075-WKNIU  2020-02-01      No  Two year               No   \n",
       "488   4472-LVYGI  2020-02-01      No  Two year              Yes   \n",
       "3826  3213-VVOLG  2020-02-01      No  Two year               No   \n",
       "\n",
       "                  PaymentMethod  MonthlyCharges TotalCharges  \n",
       "3331               Mailed check           19.85               \n",
       "4380               Mailed check           20.00               \n",
       "6670               Mailed check           73.35               \n",
       "488   Bank transfer (automatic)           52.55               \n",
       "3826               Mailed check           25.35               "
      ]
     },
     "execution_count": 6,
     "metadata": {},
     "output_type": "execute_result"
    }
   ],
   "source": [
    "contract_data.sort_values(by='TotalCharges').head(5)"
   ]
  },
  {
   "cell_type": "markdown",
   "id": "7eee22c2",
   "metadata": {},
   "source": [
    "В данных вместо нулевого значения стоят пробелы у клиентов, кто только заключил контракт, поэтому заменим эти пробелы на нули:"
   ]
  },
  {
   "cell_type": "code",
   "execution_count": 7,
   "id": "1297157d",
   "metadata": {},
   "outputs": [],
   "source": [
    "contract_data['TotalCharges'] = contract_data['TotalCharges'].str.replace(' ', '0').astype(float)"
   ]
  },
  {
   "cell_type": "markdown",
   "id": "1e0ad2aa",
   "metadata": {},
   "source": [
    "Теперь изучим датафрейм - личные данные:"
   ]
  },
  {
   "cell_type": "code",
   "execution_count": 8,
   "id": "6803abd3",
   "metadata": {},
   "outputs": [
    {
     "name": "stdout",
     "output_type": "stream",
     "text": [
      "<class 'pandas.core.frame.DataFrame'>\n",
      "RangeIndex: 7043 entries, 0 to 7042\n",
      "Data columns (total 5 columns):\n",
      " #   Column         Non-Null Count  Dtype \n",
      "---  ------         --------------  ----- \n",
      " 0   customerID     7043 non-null   object\n",
      " 1   gender         7043 non-null   object\n",
      " 2   SeniorCitizen  7043 non-null   int64 \n",
      " 3   Partner        7043 non-null   object\n",
      " 4   Dependents     7043 non-null   object\n",
      "dtypes: int64(1), object(4)\n",
      "memory usage: 275.2+ KB\n"
     ]
    },
    {
     "data": {
      "text/html": [
       "<div>\n",
       "<style scoped>\n",
       "    .dataframe tbody tr th:only-of-type {\n",
       "        vertical-align: middle;\n",
       "    }\n",
       "\n",
       "    .dataframe tbody tr th {\n",
       "        vertical-align: top;\n",
       "    }\n",
       "\n",
       "    .dataframe thead th {\n",
       "        text-align: right;\n",
       "    }\n",
       "</style>\n",
       "<table border=\"1\" class=\"dataframe\">\n",
       "  <thead>\n",
       "    <tr style=\"text-align: right;\">\n",
       "      <th></th>\n",
       "      <th>customerID</th>\n",
       "      <th>gender</th>\n",
       "      <th>SeniorCitizen</th>\n",
       "      <th>Partner</th>\n",
       "      <th>Dependents</th>\n",
       "    </tr>\n",
       "  </thead>\n",
       "  <tbody>\n",
       "    <tr>\n",
       "      <th>0</th>\n",
       "      <td>7590-VHVEG</td>\n",
       "      <td>Female</td>\n",
       "      <td>0</td>\n",
       "      <td>Yes</td>\n",
       "      <td>No</td>\n",
       "    </tr>\n",
       "    <tr>\n",
       "      <th>1</th>\n",
       "      <td>5575-GNVDE</td>\n",
       "      <td>Male</td>\n",
       "      <td>0</td>\n",
       "      <td>No</td>\n",
       "      <td>No</td>\n",
       "    </tr>\n",
       "    <tr>\n",
       "      <th>2</th>\n",
       "      <td>3668-QPYBK</td>\n",
       "      <td>Male</td>\n",
       "      <td>0</td>\n",
       "      <td>No</td>\n",
       "      <td>No</td>\n",
       "    </tr>\n",
       "    <tr>\n",
       "      <th>3</th>\n",
       "      <td>7795-CFOCW</td>\n",
       "      <td>Male</td>\n",
       "      <td>0</td>\n",
       "      <td>No</td>\n",
       "      <td>No</td>\n",
       "    </tr>\n",
       "    <tr>\n",
       "      <th>4</th>\n",
       "      <td>9237-HQITU</td>\n",
       "      <td>Female</td>\n",
       "      <td>0</td>\n",
       "      <td>No</td>\n",
       "      <td>No</td>\n",
       "    </tr>\n",
       "  </tbody>\n",
       "</table>\n",
       "</div>"
      ],
      "text/plain": [
       "   customerID  gender  SeniorCitizen Partner Dependents\n",
       "0  7590-VHVEG  Female              0     Yes         No\n",
       "1  5575-GNVDE    Male              0      No         No\n",
       "2  3668-QPYBK    Male              0      No         No\n",
       "3  7795-CFOCW    Male              0      No         No\n",
       "4  9237-HQITU  Female              0      No         No"
      ]
     },
     "metadata": {},
     "output_type": "display_data"
    },
    {
     "data": {
      "text/plain": [
       "None"
      ]
     },
     "metadata": {},
     "output_type": "display_data"
    },
    {
     "data": {
      "text/html": [
       "<div>\n",
       "<style scoped>\n",
       "    .dataframe tbody tr th:only-of-type {\n",
       "        vertical-align: middle;\n",
       "    }\n",
       "\n",
       "    .dataframe tbody tr th {\n",
       "        vertical-align: top;\n",
       "    }\n",
       "\n",
       "    .dataframe thead th {\n",
       "        text-align: right;\n",
       "    }\n",
       "</style>\n",
       "<table border=\"1\" class=\"dataframe\">\n",
       "  <thead>\n",
       "    <tr style=\"text-align: right;\">\n",
       "      <th></th>\n",
       "      <th>SeniorCitizen</th>\n",
       "    </tr>\n",
       "  </thead>\n",
       "  <tbody>\n",
       "    <tr>\n",
       "      <th>count</th>\n",
       "      <td>7043.000000</td>\n",
       "    </tr>\n",
       "    <tr>\n",
       "      <th>mean</th>\n",
       "      <td>0.162147</td>\n",
       "    </tr>\n",
       "    <tr>\n",
       "      <th>std</th>\n",
       "      <td>0.368612</td>\n",
       "    </tr>\n",
       "    <tr>\n",
       "      <th>min</th>\n",
       "      <td>0.000000</td>\n",
       "    </tr>\n",
       "    <tr>\n",
       "      <th>25%</th>\n",
       "      <td>0.000000</td>\n",
       "    </tr>\n",
       "    <tr>\n",
       "      <th>50%</th>\n",
       "      <td>0.000000</td>\n",
       "    </tr>\n",
       "    <tr>\n",
       "      <th>75%</th>\n",
       "      <td>0.000000</td>\n",
       "    </tr>\n",
       "    <tr>\n",
       "      <th>max</th>\n",
       "      <td>1.000000</td>\n",
       "    </tr>\n",
       "  </tbody>\n",
       "</table>\n",
       "</div>"
      ],
      "text/plain": [
       "       SeniorCitizen\n",
       "count    7043.000000\n",
       "mean        0.162147\n",
       "std         0.368612\n",
       "min         0.000000\n",
       "25%         0.000000\n",
       "50%         0.000000\n",
       "75%         0.000000\n",
       "max         1.000000"
      ]
     },
     "metadata": {},
     "output_type": "display_data"
    },
    {
     "data": {
      "text/plain": [
       "customerID       [7590-VHVEG, 5575-GNVDE, 3668-QPYBK, 7795-CFOC...\n",
       "gender                                              [Female, Male]\n",
       "SeniorCitizen                                               [0, 1]\n",
       "Partner                                                  [Yes, No]\n",
       "Dependents                                               [No, Yes]\n",
       "dtype: object"
      ]
     },
     "metadata": {},
     "output_type": "display_data"
    }
   ],
   "source": [
    "info(personal_data)"
   ]
  },
  {
   "cell_type": "markdown",
   "id": "0a6e94c9",
   "metadata": {},
   "source": [
    "В этом датафрейме 5 столбцов и 7043 записи, количество записей совпадает в количеством записей в базе данных договоров, значит для каждого контракта есть информация о клиенте. Пропуски в данных отсутствуют."
   ]
  },
  {
   "cell_type": "markdown",
   "id": "1cc5fd9c",
   "metadata": {},
   "source": [
    "Изучим датаферйм с информацией об интернет услугах:"
   ]
  },
  {
   "cell_type": "code",
   "execution_count": 9,
   "id": "ed505d96",
   "metadata": {},
   "outputs": [
    {
     "name": "stdout",
     "output_type": "stream",
     "text": [
      "<class 'pandas.core.frame.DataFrame'>\n",
      "RangeIndex: 5517 entries, 0 to 5516\n",
      "Data columns (total 8 columns):\n",
      " #   Column            Non-Null Count  Dtype \n",
      "---  ------            --------------  ----- \n",
      " 0   customerID        5517 non-null   object\n",
      " 1   InternetService   5517 non-null   object\n",
      " 2   OnlineSecurity    5517 non-null   object\n",
      " 3   OnlineBackup      5517 non-null   object\n",
      " 4   DeviceProtection  5517 non-null   object\n",
      " 5   TechSupport       5517 non-null   object\n",
      " 6   StreamingTV       5517 non-null   object\n",
      " 7   StreamingMovies   5517 non-null   object\n",
      "dtypes: object(8)\n",
      "memory usage: 344.9+ KB\n"
     ]
    },
    {
     "data": {
      "text/html": [
       "<div>\n",
       "<style scoped>\n",
       "    .dataframe tbody tr th:only-of-type {\n",
       "        vertical-align: middle;\n",
       "    }\n",
       "\n",
       "    .dataframe tbody tr th {\n",
       "        vertical-align: top;\n",
       "    }\n",
       "\n",
       "    .dataframe thead th {\n",
       "        text-align: right;\n",
       "    }\n",
       "</style>\n",
       "<table border=\"1\" class=\"dataframe\">\n",
       "  <thead>\n",
       "    <tr style=\"text-align: right;\">\n",
       "      <th></th>\n",
       "      <th>customerID</th>\n",
       "      <th>InternetService</th>\n",
       "      <th>OnlineSecurity</th>\n",
       "      <th>OnlineBackup</th>\n",
       "      <th>DeviceProtection</th>\n",
       "      <th>TechSupport</th>\n",
       "      <th>StreamingTV</th>\n",
       "      <th>StreamingMovies</th>\n",
       "    </tr>\n",
       "  </thead>\n",
       "  <tbody>\n",
       "    <tr>\n",
       "      <th>0</th>\n",
       "      <td>7590-VHVEG</td>\n",
       "      <td>DSL</td>\n",
       "      <td>No</td>\n",
       "      <td>Yes</td>\n",
       "      <td>No</td>\n",
       "      <td>No</td>\n",
       "      <td>No</td>\n",
       "      <td>No</td>\n",
       "    </tr>\n",
       "    <tr>\n",
       "      <th>1</th>\n",
       "      <td>5575-GNVDE</td>\n",
       "      <td>DSL</td>\n",
       "      <td>Yes</td>\n",
       "      <td>No</td>\n",
       "      <td>Yes</td>\n",
       "      <td>No</td>\n",
       "      <td>No</td>\n",
       "      <td>No</td>\n",
       "    </tr>\n",
       "    <tr>\n",
       "      <th>2</th>\n",
       "      <td>3668-QPYBK</td>\n",
       "      <td>DSL</td>\n",
       "      <td>Yes</td>\n",
       "      <td>Yes</td>\n",
       "      <td>No</td>\n",
       "      <td>No</td>\n",
       "      <td>No</td>\n",
       "      <td>No</td>\n",
       "    </tr>\n",
       "    <tr>\n",
       "      <th>3</th>\n",
       "      <td>7795-CFOCW</td>\n",
       "      <td>DSL</td>\n",
       "      <td>Yes</td>\n",
       "      <td>No</td>\n",
       "      <td>Yes</td>\n",
       "      <td>Yes</td>\n",
       "      <td>No</td>\n",
       "      <td>No</td>\n",
       "    </tr>\n",
       "    <tr>\n",
       "      <th>4</th>\n",
       "      <td>9237-HQITU</td>\n",
       "      <td>Fiber optic</td>\n",
       "      <td>No</td>\n",
       "      <td>No</td>\n",
       "      <td>No</td>\n",
       "      <td>No</td>\n",
       "      <td>No</td>\n",
       "      <td>No</td>\n",
       "    </tr>\n",
       "  </tbody>\n",
       "</table>\n",
       "</div>"
      ],
      "text/plain": [
       "   customerID InternetService OnlineSecurity OnlineBackup DeviceProtection  \\\n",
       "0  7590-VHVEG             DSL             No          Yes               No   \n",
       "1  5575-GNVDE             DSL            Yes           No              Yes   \n",
       "2  3668-QPYBK             DSL            Yes          Yes               No   \n",
       "3  7795-CFOCW             DSL            Yes           No              Yes   \n",
       "4  9237-HQITU     Fiber optic             No           No               No   \n",
       "\n",
       "  TechSupport StreamingTV StreamingMovies  \n",
       "0          No          No              No  \n",
       "1          No          No              No  \n",
       "2          No          No              No  \n",
       "3         Yes          No              No  \n",
       "4          No          No              No  "
      ]
     },
     "metadata": {},
     "output_type": "display_data"
    },
    {
     "data": {
      "text/plain": [
       "None"
      ]
     },
     "metadata": {},
     "output_type": "display_data"
    },
    {
     "data": {
      "text/html": [
       "<div>\n",
       "<style scoped>\n",
       "    .dataframe tbody tr th:only-of-type {\n",
       "        vertical-align: middle;\n",
       "    }\n",
       "\n",
       "    .dataframe tbody tr th {\n",
       "        vertical-align: top;\n",
       "    }\n",
       "\n",
       "    .dataframe thead th {\n",
       "        text-align: right;\n",
       "    }\n",
       "</style>\n",
       "<table border=\"1\" class=\"dataframe\">\n",
       "  <thead>\n",
       "    <tr style=\"text-align: right;\">\n",
       "      <th></th>\n",
       "      <th>customerID</th>\n",
       "      <th>InternetService</th>\n",
       "      <th>OnlineSecurity</th>\n",
       "      <th>OnlineBackup</th>\n",
       "      <th>DeviceProtection</th>\n",
       "      <th>TechSupport</th>\n",
       "      <th>StreamingTV</th>\n",
       "      <th>StreamingMovies</th>\n",
       "    </tr>\n",
       "  </thead>\n",
       "  <tbody>\n",
       "    <tr>\n",
       "      <th>count</th>\n",
       "      <td>5517</td>\n",
       "      <td>5517</td>\n",
       "      <td>5517</td>\n",
       "      <td>5517</td>\n",
       "      <td>5517</td>\n",
       "      <td>5517</td>\n",
       "      <td>5517</td>\n",
       "      <td>5517</td>\n",
       "    </tr>\n",
       "    <tr>\n",
       "      <th>unique</th>\n",
       "      <td>5517</td>\n",
       "      <td>2</td>\n",
       "      <td>2</td>\n",
       "      <td>2</td>\n",
       "      <td>2</td>\n",
       "      <td>2</td>\n",
       "      <td>2</td>\n",
       "      <td>2</td>\n",
       "    </tr>\n",
       "    <tr>\n",
       "      <th>top</th>\n",
       "      <td>7590-VHVEG</td>\n",
       "      <td>Fiber optic</td>\n",
       "      <td>No</td>\n",
       "      <td>No</td>\n",
       "      <td>No</td>\n",
       "      <td>No</td>\n",
       "      <td>No</td>\n",
       "      <td>No</td>\n",
       "    </tr>\n",
       "    <tr>\n",
       "      <th>freq</th>\n",
       "      <td>1</td>\n",
       "      <td>3096</td>\n",
       "      <td>3498</td>\n",
       "      <td>3088</td>\n",
       "      <td>3095</td>\n",
       "      <td>3473</td>\n",
       "      <td>2810</td>\n",
       "      <td>2785</td>\n",
       "    </tr>\n",
       "  </tbody>\n",
       "</table>\n",
       "</div>"
      ],
      "text/plain": [
       "        customerID InternetService OnlineSecurity OnlineBackup  \\\n",
       "count         5517            5517           5517         5517   \n",
       "unique        5517               2              2            2   \n",
       "top     7590-VHVEG     Fiber optic             No           No   \n",
       "freq             1            3096           3498         3088   \n",
       "\n",
       "       DeviceProtection TechSupport StreamingTV StreamingMovies  \n",
       "count              5517        5517        5517            5517  \n",
       "unique                2           2           2               2  \n",
       "top                  No          No          No              No  \n",
       "freq               3095        3473        2810            2785  "
      ]
     },
     "metadata": {},
     "output_type": "display_data"
    },
    {
     "data": {
      "text/plain": [
       "customerID          [7590-VHVEG, 5575-GNVDE, 3668-QPYBK, 7795-CFOC...\n",
       "InternetService                                    [DSL, Fiber optic]\n",
       "OnlineSecurity                                              [No, Yes]\n",
       "OnlineBackup                                                [Yes, No]\n",
       "DeviceProtection                                            [No, Yes]\n",
       "TechSupport                                                 [No, Yes]\n",
       "StreamingTV                                                 [No, Yes]\n",
       "StreamingMovies                                             [No, Yes]\n",
       "dtype: object"
      ]
     },
     "metadata": {},
     "output_type": "display_data"
    }
   ],
   "source": [
    "info(internet_data)"
   ]
  },
  {
   "cell_type": "markdown",
   "id": "1666d161",
   "metadata": {},
   "source": [
    "В этом датафрейме 8 столбцов и 5517 записей, количество записей меньше чем число контрактов, значит не у всех клиетов заключены  договоры на интернет услуги. Пропуски в данных отсутствуют."
   ]
  },
  {
   "cell_type": "markdown",
   "id": "d9edab7a",
   "metadata": {},
   "source": [
    "Теперь изучим датафрей с информацией об услугах телефонии:"
   ]
  },
  {
   "cell_type": "code",
   "execution_count": 10,
   "id": "d3c9d64a",
   "metadata": {},
   "outputs": [
    {
     "name": "stdout",
     "output_type": "stream",
     "text": [
      "<class 'pandas.core.frame.DataFrame'>\n",
      "RangeIndex: 6361 entries, 0 to 6360\n",
      "Data columns (total 2 columns):\n",
      " #   Column         Non-Null Count  Dtype \n",
      "---  ------         --------------  ----- \n",
      " 0   customerID     6361 non-null   object\n",
      " 1   MultipleLines  6361 non-null   object\n",
      "dtypes: object(2)\n",
      "memory usage: 99.5+ KB\n"
     ]
    },
    {
     "data": {
      "text/html": [
       "<div>\n",
       "<style scoped>\n",
       "    .dataframe tbody tr th:only-of-type {\n",
       "        vertical-align: middle;\n",
       "    }\n",
       "\n",
       "    .dataframe tbody tr th {\n",
       "        vertical-align: top;\n",
       "    }\n",
       "\n",
       "    .dataframe thead th {\n",
       "        text-align: right;\n",
       "    }\n",
       "</style>\n",
       "<table border=\"1\" class=\"dataframe\">\n",
       "  <thead>\n",
       "    <tr style=\"text-align: right;\">\n",
       "      <th></th>\n",
       "      <th>customerID</th>\n",
       "      <th>MultipleLines</th>\n",
       "    </tr>\n",
       "  </thead>\n",
       "  <tbody>\n",
       "    <tr>\n",
       "      <th>0</th>\n",
       "      <td>5575-GNVDE</td>\n",
       "      <td>No</td>\n",
       "    </tr>\n",
       "    <tr>\n",
       "      <th>1</th>\n",
       "      <td>3668-QPYBK</td>\n",
       "      <td>No</td>\n",
       "    </tr>\n",
       "    <tr>\n",
       "      <th>2</th>\n",
       "      <td>9237-HQITU</td>\n",
       "      <td>No</td>\n",
       "    </tr>\n",
       "    <tr>\n",
       "      <th>3</th>\n",
       "      <td>9305-CDSKC</td>\n",
       "      <td>Yes</td>\n",
       "    </tr>\n",
       "    <tr>\n",
       "      <th>4</th>\n",
       "      <td>1452-KIOVK</td>\n",
       "      <td>Yes</td>\n",
       "    </tr>\n",
       "  </tbody>\n",
       "</table>\n",
       "</div>"
      ],
      "text/plain": [
       "   customerID MultipleLines\n",
       "0  5575-GNVDE            No\n",
       "1  3668-QPYBK            No\n",
       "2  9237-HQITU            No\n",
       "3  9305-CDSKC           Yes\n",
       "4  1452-KIOVK           Yes"
      ]
     },
     "metadata": {},
     "output_type": "display_data"
    },
    {
     "data": {
      "text/plain": [
       "None"
      ]
     },
     "metadata": {},
     "output_type": "display_data"
    },
    {
     "data": {
      "text/html": [
       "<div>\n",
       "<style scoped>\n",
       "    .dataframe tbody tr th:only-of-type {\n",
       "        vertical-align: middle;\n",
       "    }\n",
       "\n",
       "    .dataframe tbody tr th {\n",
       "        vertical-align: top;\n",
       "    }\n",
       "\n",
       "    .dataframe thead th {\n",
       "        text-align: right;\n",
       "    }\n",
       "</style>\n",
       "<table border=\"1\" class=\"dataframe\">\n",
       "  <thead>\n",
       "    <tr style=\"text-align: right;\">\n",
       "      <th></th>\n",
       "      <th>customerID</th>\n",
       "      <th>MultipleLines</th>\n",
       "    </tr>\n",
       "  </thead>\n",
       "  <tbody>\n",
       "    <tr>\n",
       "      <th>count</th>\n",
       "      <td>6361</td>\n",
       "      <td>6361</td>\n",
       "    </tr>\n",
       "    <tr>\n",
       "      <th>unique</th>\n",
       "      <td>6361</td>\n",
       "      <td>2</td>\n",
       "    </tr>\n",
       "    <tr>\n",
       "      <th>top</th>\n",
       "      <td>5575-GNVDE</td>\n",
       "      <td>No</td>\n",
       "    </tr>\n",
       "    <tr>\n",
       "      <th>freq</th>\n",
       "      <td>1</td>\n",
       "      <td>3390</td>\n",
       "    </tr>\n",
       "  </tbody>\n",
       "</table>\n",
       "</div>"
      ],
      "text/plain": [
       "        customerID MultipleLines\n",
       "count         6361          6361\n",
       "unique        6361             2\n",
       "top     5575-GNVDE            No\n",
       "freq             1          3390"
      ]
     },
     "metadata": {},
     "output_type": "display_data"
    },
    {
     "data": {
      "text/plain": [
       "customerID       [5575-GNVDE, 3668-QPYBK, 9237-HQITU, 9305-CDSK...\n",
       "MultipleLines                                            [No, Yes]\n",
       "dtype: object"
      ]
     },
     "metadata": {},
     "output_type": "display_data"
    }
   ],
   "source": [
    "info(phone_data)"
   ]
  },
  {
   "cell_type": "markdown",
   "id": "1fab757a",
   "metadata": {},
   "source": [
    "В этом датафрейме 2 столбца и 6361 записей, количетсво записей не совпадает с количеством клиентов. Пропусков нет."
   ]
  },
  {
   "cell_type": "markdown",
   "id": "dcf1eae4",
   "metadata": {},
   "source": [
    "### Объединение таблиц"
   ]
  },
  {
   "cell_type": "markdown",
   "id": "4e5638b7",
   "metadata": {},
   "source": [
    "Объединим все датафреймы в один. Пропуски для клиентов без интернета заполним как `NoInternet`, для клиентов без договоров телефонии как `NoPhone`."
   ]
  },
  {
   "cell_type": "code",
   "execution_count": 11,
   "id": "86a84395",
   "metadata": {},
   "outputs": [],
   "source": [
    "full_data = contract_data.merge(personal_data,how ='left').merge(internet_data, how ='left').fillna('NoInternet').merge(phone_data, how = 'left').fillna('NoPhone')"
   ]
  },
  {
   "cell_type": "code",
   "execution_count": 12,
   "id": "660855bc",
   "metadata": {},
   "outputs": [
    {
     "data": {
      "text/html": [
       "<div>\n",
       "<style scoped>\n",
       "    .dataframe tbody tr th:only-of-type {\n",
       "        vertical-align: middle;\n",
       "    }\n",
       "\n",
       "    .dataframe tbody tr th {\n",
       "        vertical-align: top;\n",
       "    }\n",
       "\n",
       "    .dataframe thead th {\n",
       "        text-align: right;\n",
       "    }\n",
       "</style>\n",
       "<table border=\"1\" class=\"dataframe\">\n",
       "  <thead>\n",
       "    <tr style=\"text-align: right;\">\n",
       "      <th></th>\n",
       "      <th>customerID</th>\n",
       "      <th>BeginDate</th>\n",
       "      <th>EndDate</th>\n",
       "      <th>Type</th>\n",
       "      <th>PaperlessBilling</th>\n",
       "      <th>PaymentMethod</th>\n",
       "      <th>MonthlyCharges</th>\n",
       "      <th>TotalCharges</th>\n",
       "      <th>gender</th>\n",
       "      <th>SeniorCitizen</th>\n",
       "      <th>Partner</th>\n",
       "      <th>Dependents</th>\n",
       "      <th>InternetService</th>\n",
       "      <th>OnlineSecurity</th>\n",
       "      <th>OnlineBackup</th>\n",
       "      <th>DeviceProtection</th>\n",
       "      <th>TechSupport</th>\n",
       "      <th>StreamingTV</th>\n",
       "      <th>StreamingMovies</th>\n",
       "      <th>MultipleLines</th>\n",
       "    </tr>\n",
       "  </thead>\n",
       "  <tbody>\n",
       "    <tr>\n",
       "      <th>0</th>\n",
       "      <td>7590-VHVEG</td>\n",
       "      <td>2020-01-01</td>\n",
       "      <td>No</td>\n",
       "      <td>Month-to-month</td>\n",
       "      <td>Yes</td>\n",
       "      <td>Electronic check</td>\n",
       "      <td>29.85</td>\n",
       "      <td>31.04</td>\n",
       "      <td>Female</td>\n",
       "      <td>0</td>\n",
       "      <td>Yes</td>\n",
       "      <td>No</td>\n",
       "      <td>DSL</td>\n",
       "      <td>No</td>\n",
       "      <td>Yes</td>\n",
       "      <td>No</td>\n",
       "      <td>No</td>\n",
       "      <td>No</td>\n",
       "      <td>No</td>\n",
       "      <td>NoPhone</td>\n",
       "    </tr>\n",
       "    <tr>\n",
       "      <th>1</th>\n",
       "      <td>5575-GNVDE</td>\n",
       "      <td>2017-04-01</td>\n",
       "      <td>No</td>\n",
       "      <td>One year</td>\n",
       "      <td>No</td>\n",
       "      <td>Mailed check</td>\n",
       "      <td>56.95</td>\n",
       "      <td>2071.84</td>\n",
       "      <td>Male</td>\n",
       "      <td>0</td>\n",
       "      <td>No</td>\n",
       "      <td>No</td>\n",
       "      <td>DSL</td>\n",
       "      <td>Yes</td>\n",
       "      <td>No</td>\n",
       "      <td>Yes</td>\n",
       "      <td>No</td>\n",
       "      <td>No</td>\n",
       "      <td>No</td>\n",
       "      <td>No</td>\n",
       "    </tr>\n",
       "    <tr>\n",
       "      <th>2</th>\n",
       "      <td>3668-QPYBK</td>\n",
       "      <td>2019-10-01</td>\n",
       "      <td>No</td>\n",
       "      <td>Month-to-month</td>\n",
       "      <td>Yes</td>\n",
       "      <td>Mailed check</td>\n",
       "      <td>53.85</td>\n",
       "      <td>226.17</td>\n",
       "      <td>Male</td>\n",
       "      <td>0</td>\n",
       "      <td>No</td>\n",
       "      <td>No</td>\n",
       "      <td>DSL</td>\n",
       "      <td>Yes</td>\n",
       "      <td>Yes</td>\n",
       "      <td>No</td>\n",
       "      <td>No</td>\n",
       "      <td>No</td>\n",
       "      <td>No</td>\n",
       "      <td>No</td>\n",
       "    </tr>\n",
       "    <tr>\n",
       "      <th>3</th>\n",
       "      <td>7795-CFOCW</td>\n",
       "      <td>2016-05-01</td>\n",
       "      <td>No</td>\n",
       "      <td>One year</td>\n",
       "      <td>No</td>\n",
       "      <td>Bank transfer (automatic)</td>\n",
       "      <td>42.30</td>\n",
       "      <td>1960.60</td>\n",
       "      <td>Male</td>\n",
       "      <td>0</td>\n",
       "      <td>No</td>\n",
       "      <td>No</td>\n",
       "      <td>DSL</td>\n",
       "      <td>Yes</td>\n",
       "      <td>No</td>\n",
       "      <td>Yes</td>\n",
       "      <td>Yes</td>\n",
       "      <td>No</td>\n",
       "      <td>No</td>\n",
       "      <td>NoPhone</td>\n",
       "    </tr>\n",
       "    <tr>\n",
       "      <th>4</th>\n",
       "      <td>9237-HQITU</td>\n",
       "      <td>2019-09-01</td>\n",
       "      <td>No</td>\n",
       "      <td>Month-to-month</td>\n",
       "      <td>Yes</td>\n",
       "      <td>Electronic check</td>\n",
       "      <td>70.70</td>\n",
       "      <td>353.50</td>\n",
       "      <td>Female</td>\n",
       "      <td>0</td>\n",
       "      <td>No</td>\n",
       "      <td>No</td>\n",
       "      <td>Fiber optic</td>\n",
       "      <td>No</td>\n",
       "      <td>No</td>\n",
       "      <td>No</td>\n",
       "      <td>No</td>\n",
       "      <td>No</td>\n",
       "      <td>No</td>\n",
       "      <td>No</td>\n",
       "    </tr>\n",
       "  </tbody>\n",
       "</table>\n",
       "</div>"
      ],
      "text/plain": [
       "   customerID   BeginDate EndDate            Type PaperlessBilling  \\\n",
       "0  7590-VHVEG  2020-01-01      No  Month-to-month              Yes   \n",
       "1  5575-GNVDE  2017-04-01      No        One year               No   \n",
       "2  3668-QPYBK  2019-10-01      No  Month-to-month              Yes   \n",
       "3  7795-CFOCW  2016-05-01      No        One year               No   \n",
       "4  9237-HQITU  2019-09-01      No  Month-to-month              Yes   \n",
       "\n",
       "               PaymentMethod  MonthlyCharges  TotalCharges  gender  \\\n",
       "0           Electronic check           29.85         31.04  Female   \n",
       "1               Mailed check           56.95       2071.84    Male   \n",
       "2               Mailed check           53.85        226.17    Male   \n",
       "3  Bank transfer (automatic)           42.30       1960.60    Male   \n",
       "4           Electronic check           70.70        353.50  Female   \n",
       "\n",
       "   SeniorCitizen Partner Dependents InternetService OnlineSecurity  \\\n",
       "0              0     Yes         No             DSL             No   \n",
       "1              0      No         No             DSL            Yes   \n",
       "2              0      No         No             DSL            Yes   \n",
       "3              0      No         No             DSL            Yes   \n",
       "4              0      No         No     Fiber optic             No   \n",
       "\n",
       "  OnlineBackup DeviceProtection TechSupport StreamingTV StreamingMovies  \\\n",
       "0          Yes               No          No          No              No   \n",
       "1           No              Yes          No          No              No   \n",
       "2          Yes               No          No          No              No   \n",
       "3           No              Yes         Yes          No              No   \n",
       "4           No               No          No          No              No   \n",
       "\n",
       "  MultipleLines  \n",
       "0       NoPhone  \n",
       "1            No  \n",
       "2            No  \n",
       "3       NoPhone  \n",
       "4            No  "
      ]
     },
     "execution_count": 12,
     "metadata": {},
     "output_type": "execute_result"
    }
   ],
   "source": [
    "full_data.head(5)"
   ]
  },
  {
   "cell_type": "markdown",
   "id": "66d55c43",
   "metadata": {},
   "source": [
    "### Создание признаков"
   ]
  },
  {
   "cell_type": "markdown",
   "id": "e07dfa5d",
   "metadata": {},
   "source": [
    "Теперь нужно создать необходимые признаки для обучения модели:"
   ]
  },
  {
   "cell_type": "markdown",
   "id": "1d22ae3a",
   "metadata": {},
   "source": [
    "Сначала столбец с количеством дней, которые клиент пользуется услугами `Duration`:"
   ]
  },
  {
   "cell_type": "code",
   "execution_count": 13,
   "id": "85a1eec5",
   "metadata": {},
   "outputs": [],
   "source": [
    "def cat1(x,y):\n",
    "    if x == 'No':\n",
    "        return dt.strptime('2020-02-01', '%Y-%m-%d').date() - dt.strptime(y, '%Y-%m-%d').date()\n",
    "    return dt.strptime(x, '%Y-%m-%d').date() - dt.strptime(y, '%Y-%m-%d').date()\n",
    "\n",
    "full_data['Duration'] = full_data.apply(lambda x: cat1(x['EndDate'], x['BeginDate']), axis=1).dt.days"
   ]
  },
  {
   "cell_type": "markdown",
   "id": "62bab350",
   "metadata": {},
   "source": [
    "И столбец с целевым параметром `Target`:"
   ]
  },
  {
   "cell_type": "code",
   "execution_count": 14,
   "id": "9d4d7b6d",
   "metadata": {},
   "outputs": [],
   "source": [
    "def cat2(x):\n",
    "    if x == 'No':\n",
    "        return 0\n",
    "    return 1\n",
    "\n",
    "full_data['Target'] = full_data['EndDate'].apply(cat2)"
   ]
  },
  {
   "cell_type": "markdown",
   "id": "985d9549",
   "metadata": {},
   "source": [
    "Теперь удалим столбцы, которые больше не понадобятся:"
   ]
  },
  {
   "cell_type": "code",
   "execution_count": 15,
   "id": "1007b8ab",
   "metadata": {},
   "outputs": [],
   "source": [
    "full_data = full_data.drop(['customerID','BeginDate','EndDate'], axis = 1)"
   ]
  },
  {
   "cell_type": "markdown",
   "id": "de1c90c2",
   "metadata": {},
   "source": [
    "Проверим на дубликаты и удалим их:"
   ]
  },
  {
   "cell_type": "code",
   "execution_count": 16,
   "id": "e037efd3",
   "metadata": {},
   "outputs": [
    {
     "data": {
      "text/plain": [
       "4"
      ]
     },
     "execution_count": 16,
     "metadata": {},
     "output_type": "execute_result"
    }
   ],
   "source": [
    "full_data.duplicated().sum()"
   ]
  },
  {
   "cell_type": "code",
   "execution_count": 17,
   "id": "40edb130",
   "metadata": {},
   "outputs": [
    {
     "data": {
      "text/plain": [
       "0"
      ]
     },
     "execution_count": 17,
     "metadata": {},
     "output_type": "execute_result"
    }
   ],
   "source": [
    "full_data = full_data.drop_duplicates()\n",
    "full_data.duplicated().sum()"
   ]
  },
  {
   "cell_type": "markdown",
   "id": "870de172",
   "metadata": {},
   "source": [
    "### Вывод по исследовательскому анализу данных и план работы"
   ]
  },
  {
   "cell_type": "markdown",
   "id": "181640fa",
   "metadata": {},
   "source": [
    "Мы изучили предоставленные данные, проверили на пропуски, объединили их в один датафрейм, создали новые признаки, удалили лишние столбцы и дубликаты."
   ]
  },
  {
   "cell_type": "markdown",
   "id": "9f4a3130",
   "metadata": {},
   "source": [
    "**План работы:**\n",
    "  - Разбить данные на признаки и целевой признак\n",
    "  - Определить какие признаки оставить, а какие удалить через SHAP и проверку на мультиколлинеарность\n",
    "  - Разбить данные на две выборки - тренировочную и тестовую\n",
    "  - Используя кросс-валидацию (GridSearchCV) обучить и проверить три модели - модели случайного леса, модели LightGBM и CatBoost\n",
    "  - Проверить показатель AUC ROC модели показавшей себя лучше в предыдущем пункте на тестовой выборке"
   ]
  },
  {
   "cell_type": "markdown",
   "id": "a2ada23d",
   "metadata": {},
   "source": [
    "## Создание моделей"
   ]
  },
  {
   "cell_type": "markdown",
   "id": "8804e6cc",
   "metadata": {},
   "source": [
    "### Изучим обединенный датасет"
   ]
  },
  {
   "cell_type": "markdown",
   "id": "cc3db799",
   "metadata": {},
   "source": [
    "Перед тем как обучать модели, необходимо изучить признаки, их корреляцию и значимость."
   ]
  },
  {
   "cell_type": "markdown",
   "id": "4e0c53da",
   "metadata": {},
   "source": [
    "Сначала построим гистограммы распределения признаков для ушедших клиентов и клиентов оставшихся. График с подписью `0` - клиент остался, `1` - клиент ушел:"
   ]
  },
  {
   "cell_type": "code",
   "execution_count": 18,
   "id": "d0c6cccd",
   "metadata": {
    "scrolled": false
   },
   "outputs": [
    {
     "data": {
      "image/png": "[encoded data removed]",
      "text/plain": [
       "<Figure size 1080x360 with 2 Axes>"
      ]
     },
     "metadata": {
      "needs_background": "light"
     },
     "output_type": "display_data"
    },
    {
     "data": {
      "image/png": "[encoded data removed]",
      "text/plain": [
       "<Figure size 1080x360 with 2 Axes>"
      ]
     },
     "metadata": {
      "needs_background": "light"
     },
     "output_type": "display_data"
    },
    {
     "data": {
      "image/png": "[encoded data removed]",
      "text/plain": [
       "<Figure size 1080x360 with 2 Axes>"
      ]
     },
     "metadata": {
      "needs_background": "light"
     },
     "output_type": "display_data"
    },
    {
     "data": {
      "image/png": "[encoded data removed]",
      "text/plain": [
       "<Figure size 1080x360 with 2 Axes>"
      ]
     },
     "metadata": {
      "needs_background": "light"
     },
     "output_type": "display_data"
    },
    {
     "data": {
      "image/png": "[encoded data removed]",
      "text/plain": [
       "<Figure size 1080x360 with 2 Axes>"
      ]
     },
     "metadata": {
      "needs_background": "light"
     },
     "output_type": "display_data"
    },
    {
     "data": {
      "image/png": "[encoded data removed]",
      "text/plain": [
       "<Figure size 1080x360 with 2 Axes>"
      ]
     },
     "metadata": {
      "needs_background": "light"
     },
     "output_type": "display_data"
    },
    {
     "data": {
      "image/png": "[encoded data removed]",
      "text/plain": [
       "<Figure size 1080x360 with 2 Axes>"
      ]
     },
     "metadata": {
      "needs_background": "light"
     },
     "output_type": "display_data"
    },
    {
     "data": {
      "image/png": "[encoded data removed]",
      "text/plain": [
       "<Figure size 1080x360 with 2 Axes>"
      ]
     },
     "metadata": {
      "needs_background": "light"
     },
     "output_type": "display_data"
    },
    {
     "data": {
      "image/png": "[encoded data removed]",
      "text/plain": [
       "<Figure size 1080x360 with 2 Axes>"
      ]
     },
     "metadata": {
      "needs_background": "light"
     },
     "output_type": "display_data"
    },
    {
     "data": {
      "image/png": "[encoded data removed]",
      "text/plain": [
       "<Figure size 1080x360 with 2 Axes>"
      ]
     },
     "metadata": {
      "needs_background": "light"
     },
     "output_type": "display_data"
    },
    {
     "data": {
      "image/png": "[encoded data removed]",
      "text/plain": [
       "<Figure size 1080x360 with 2 Axes>"
      ]
     },
     "metadata": {
      "needs_background": "light"
     },
     "output_type": "display_data"
    },
    {
     "data": {
      "image/png": "[encoded data removed]",
      "text/plain": [
       "<Figure size 1080x360 with 2 Axes>"
      ]
     },
     "metadata": {
      "needs_background": "light"
     },
     "output_type": "display_data"
    },
    {
     "data": {
      "image/png": "[encoded data removed]",
      "text/plain": [
       "<Figure size 1080x360 with 2 Axes>"
      ]
     },
     "metadata": {
      "needs_background": "light"
     },
     "output_type": "display_data"
    },
    {
     "data": {
      "image/png": "[encoded data removed]",
      "text/plain": [
       "<Figure size 1080x360 with 2 Axes>"
      ]
     },
     "metadata": {
      "needs_background": "light"
     },
     "output_type": "display_data"
    },
    {
     "data": {
      "image/png": "[encoded data removed]",
      "text/plain": [
       "<Figure size 1080x360 with 2 Axes>"
      ]
     },
     "metadata": {
      "needs_background": "light"
     },
     "output_type": "display_data"
    },
    {
     "data": {
      "image/png": "[encoded data removed]",
      "text/plain": [
       "<Figure size 1080x360 with 2 Axes>"
      ]
     },
     "metadata": {
      "needs_background": "light"
     },
     "output_type": "display_data"
    },
    {
     "data": {
      "image/png": "[encoded data removed]",
      "text/plain": [
       "<Figure size 1080x360 with 2 Axes>"
      ]
     },
     "metadata": {
      "needs_background": "light"
     },
     "output_type": "display_data"
    },
    {
     "data": {
      "image/png": "[encoded data removed]",
      "text/plain": [
       "<Figure size 1080x360 with 2 Axes>"
      ]
     },
     "metadata": {
      "needs_background": "light"
     },
     "output_type": "display_data"
    },
    {
     "data": {
      "image/png": "[encoded data removed]",
      "text/plain": [
       "<Figure size 1080x360 with 2 Axes>"
      ]
     },
     "metadata": {
      "needs_background": "light"
     },
     "output_type": "display_data"
    }
   ],
   "source": [
    "for col in full_data.columns:\n",
    "    full_data.hist(column = col, by = 'Target', figsize=(15,5), sharex=True, bins='auto');\n",
    "    plt.suptitle(col);"
   ]
  },
  {
   "cell_type": "markdown",
   "id": "b17834c0",
   "metadata": {},
   "source": [
    "Что можно узнать из графиков:\n",
    "\n",
    "    1) Среди ушедших клиентов меньше тех, чей договор заключается ежемесячно\n",
    "\n",
    "    2) Ушедшие клиенты меньше выбирали оплату через отравку чека по почте\n",
    "\n",
    "    3) Доля ушедших клиентов, которая платила больше чем 80 долларов в месяц выше, чем у оставшихся\n",
    "\n",
    "    4) Доля тех, кто за все время потратил меньше 2000 долларов меньше среди  ушедших клиентов, чем среди оставшихся\n",
    "\n",
    "    5) У ушедших клиентов больше шансов, что есть супруг(а)\n",
    "\n",
    "    6) Среди ушедших клиентов больше тех, кто заказывал услугу резервного копирования данных, услуги антивируса (DeviceProtection), а так же стриминговое телевидение (StreamingTV), каталог фильмов (StreamingMovies) и услугу параллельных телефонных линий (MultipleLines)\n",
    "\n",
    "    7) Среди ушедших клиентов преобладают те, кто был клиентом больше года, в то время как среди оставшихся пик приходится на тех, кто меньше года.\n",
    "\n",
    "    8) Осталось около 6000 клиентов, ушло около 1000\n",
    "\n",
    "    9) По другим параметрам разнице не настолько заметна\n",
    "\n",
    "Вывод: \n",
    "\n",
    "Можно предположить, что уходят клиенты, у которых есть история использования сервисами, возможно стоимость их тарифов за все время не обновлялась (поэтому больше ежемесячных затрат) и они ушли к конкурентам с более выгодными предложениями. Возможно у конкурентов лучше предложения по пакетам услуг включающие антивирус, стримминговое ТВ и т.д."
   ]
  },
  {
   "cell_type": "markdown",
   "id": "e3165bb8",
   "metadata": {},
   "source": [
    "### Проверка на мультиколлинеарность"
   ]
  },
  {
   "cell_type": "markdown",
   "id": "d34c39a2",
   "metadata": {},
   "source": [
    "Теперь проверим наши данные на мультиколлинеарность, сначала посчитав коэффициент корреляции Пирсона:"
   ]
  },
  {
   "cell_type": "code",
   "execution_count": 19,
   "id": "4c8e8ee1",
   "metadata": {},
   "outputs": [
    {
     "data": {
      "image/png": "[encoded data removed]",
      "text/plain": [
       "<Figure size 432x288 with 2 Axes>"
      ]
     },
     "metadata": {
      "needs_background": "light"
     },
     "output_type": "display_data"
    }
   ],
   "source": [
    "df_plot = sns.heatmap(full_data.corr(), cmap=\"YlGnBu\", annot=True)   \n",
    "plt.show()"
   ]
  },
  {
   "cell_type": "markdown",
   "id": "91a677ac",
   "metadata": {},
   "source": [
    "Между столбцами TotalCharges и столбцами Duration и MonthlyCharges высокие показатели корреляции, поэтому удалим столбец TotalCharges."
   ]
  },
  {
   "cell_type": "markdown",
   "id": "cb1ff4b7",
   "metadata": {},
   "source": [
    "Перед этим проверим данные на мультиколлинеарность через Phik, чтобы захватить и категориальные признаки:"
   ]
  },
  {
   "cell_type": "markdown",
   "id": "6578670d",
   "metadata": {},
   "source": [
    "Перед этим установим числовые столбцы:"
   ]
  },
  {
   "cell_type": "code",
   "execution_count": 20,
   "id": "4732f8ae",
   "metadata": {},
   "outputs": [],
   "source": [
    "numerical_features = ['MonthlyCharges', 'TotalCharges', 'Duration']"
   ]
  },
  {
   "cell_type": "code",
   "execution_count": 21,
   "id": "51375485",
   "metadata": {
    "scrolled": false
   },
   "outputs": [
    {
     "data": {
      "image/png": "[encoded data removed]",
      "text/plain": [
       "<Figure size 1080x1080 with 2 Axes>"
      ]
     },
     "metadata": {
      "needs_background": "light"
     },
     "output_type": "display_data"
    }
   ],
   "source": [
    "pm = full_data.phik_matrix(interval_cols=numerical_features)\n",
    "plt.figure(figsize=(15,15))\n",
    "df_plot = sns.heatmap(pm.round(2), cmap=\"YlGnBu\", annot=True, )   \n",
    "plt.show()"
   ]
  },
  {
   "cell_type": "markdown",
   "id": "31b58873",
   "metadata": {},
   "source": [
    "Заметна высокая корреляция среди всех столбцов с интернет-услугами, а так же типом интернет услуг и месячной оплатой. Пока удалять эти столбцы не будем, так как не будем обучать линейные модели. Удалим только столбец с общими расходами."
   ]
  },
  {
   "cell_type": "code",
   "execution_count": 22,
   "id": "202f7c1b",
   "metadata": {},
   "outputs": [],
   "source": [
    "full_data = full_data.drop('TotalCharges', axis=1)"
   ]
  },
  {
   "cell_type": "markdown",
   "id": "bd9bbe4c",
   "metadata": {},
   "source": [
    "### Создание выборок"
   ]
  },
  {
   "cell_type": "markdown",
   "id": "a11bc098",
   "metadata": {},
   "source": [
    "Выделим в данных целевой признак и разобьем выборки на учебную и тестовую выборки:"
   ]
  },
  {
   "cell_type": "code",
   "execution_count": 23,
   "id": "0ea1594c",
   "metadata": {},
   "outputs": [],
   "source": [
    "target = full_data['Target']\n",
    "features = full_data.drop('Target', axis=1)"
   ]
  },
  {
   "cell_type": "code",
   "execution_count": 24,
   "id": "6f67cb0b",
   "metadata": {},
   "outputs": [],
   "source": [
    "features_train, features_test, target_train, target_test, = train_test_split(\n",
    "    features, target, test_size=0.25, random_state=RANDOM_STATE)"
   ]
  },
  {
   "cell_type": "markdown",
   "id": "ef189605",
   "metadata": {},
   "source": [
    "Выборки созданы, можно обучать модели."
   ]
  },
  {
   "cell_type": "markdown",
   "id": "7a11b7b2",
   "metadata": {},
   "source": [
    "### Модель случайного леса (RandomForestClassifier)"
   ]
  },
  {
   "cell_type": "markdown",
   "id": "e7e9b2e0",
   "metadata": {},
   "source": [
    "Подготовим модель случайного леса.\n",
    "\n",
    "Для нее закодируем категориальные признаки, сначала выделим их:\n"
   ]
  },
  {
   "cell_type": "code",
   "execution_count": 25,
   "id": "d9f24b6c",
   "metadata": {},
   "outputs": [],
   "source": [
    "categorical_features = ['Type', 'PaperlessBilling', 'PaymentMethod','gender', 'SeniorCitizen', 'Partner', 'Dependents',\n",
    "       'InternetService', 'OnlineSecurity', 'OnlineBackup', 'DeviceProtection',\n",
    "       'TechSupport', 'StreamingTV', 'StreamingMovies', 'MultipleLines']"
   ]
  },
  {
   "cell_type": "markdown",
   "id": "a48cd066",
   "metadata": {},
   "source": [
    "Теперь создадим кодировщик:"
   ]
  },
  {
   "cell_type": "code",
   "execution_count": 26,
   "id": "b675c6cd",
   "metadata": {},
   "outputs": [],
   "source": [
    "OHE = OneHotEncoder(drop='first', handle_unknown='ignore', sparse=False)"
   ]
  },
  {
   "cell_type": "markdown",
   "id": "b8da9c00",
   "metadata": {},
   "source": [
    "Теперь создадим пайплайн, в который добавим наш кодировщик и нашу модель:"
   ]
  },
  {
   "cell_type": "code",
   "execution_count": 27,
   "id": "ac83d33a",
   "metadata": {},
   "outputs": [],
   "source": [
    "rfc = Pipeline(steps=[('preprocessor', make_column_transformer((OHE, categorical_features), \n",
    "                                                               remainder='passthrough', \n",
    "                                                               verbose_feature_names_out=False)),\n",
    "                      ('classifier', RandomForestClassifier(random_state=RANDOM_STATE))])"
   ]
  },
  {
   "cell_type": "markdown",
   "id": "7af064e7",
   "metadata": {},
   "source": [
    "Теперь используя GridSearchCV подберем лучшие параметры для модели:"
   ]
  },
  {
   "cell_type": "code",
   "execution_count": 28,
   "id": "5f815e2e",
   "metadata": {},
   "outputs": [
    {
     "name": "stdout",
     "output_type": "stream",
     "text": [
      "Fitting 3 folds for each of 36 candidates, totalling 108 fits\n",
      "\n",
      "\n",
      "\u001b[1mЛучший показатель AUC ROC модели случайного леса: 0.823 \n",
      "\n",
      "С параметрами модели: {'classifier__class_weight': 'balanced', 'classifier__max_depth': 7, 'classifier__n_estimators': 900}\n"
     ]
    }
   ],
   "source": [
    "param_grid = {\n",
    "    'classifier__n_estimators': [800,900,1000],\n",
    "    'classifier__max_depth':range(5,11),\n",
    "    'classifier__class_weight':[None, 'balanced']\n",
    "}\n",
    "\n",
    "grid_search = GridSearchCV(rfc, param_grid, scoring='roc_auc', cv=3, n_jobs=-1, verbose=3)\n",
    "\n",
    "grid_search.fit(features_train, target_train)\n",
    "\n",
    "print(('\\n\\n\\033[1mЛучший показатель AUC ROC модели случайного леса: %.3f'\n",
    "       % grid_search.best_score_), '\\n\\nС параметрами модели:', grid_search.best_params_)"
   ]
  },
  {
   "cell_type": "markdown",
   "id": "04ad80dc",
   "metadata": {},
   "source": [
    "**Модель случайного леса показала результат: 0,823**\n",
    "\n",
    "Модель показала результат ниже необходимого 0,85, попробуем другую модель."
   ]
  },
  {
   "cell_type": "markdown",
   "id": "cf9fb910",
   "metadata": {},
   "source": [
    "### Модель LightGBM "
   ]
  },
  {
   "cell_type": "markdown",
   "id": "b96fb91c",
   "metadata": {},
   "source": [
    "Подготовим модель:"
   ]
  },
  {
   "cell_type": "code",
   "execution_count": 29,
   "id": "a797814f",
   "metadata": {},
   "outputs": [],
   "source": [
    "lgbm = LGBMClassifier(random_state=RANDOM_STATE)"
   ]
  },
  {
   "cell_type": "markdown",
   "id": "c57b3ef8",
   "metadata": {},
   "source": [
    "Для нее необходимо перевесть тип данных в категориальный:"
   ]
  },
  {
   "cell_type": "code",
   "execution_count": 30,
   "id": "608f8c08",
   "metadata": {},
   "outputs": [],
   "source": [
    "for c in categorical_features:\n",
    "    features_train[c] = features_train[c].astype('category')"
   ]
  },
  {
   "cell_type": "markdown",
   "id": "aa3863d0",
   "metadata": {},
   "source": [
    "Используя GridSearchCV так же подберем лучшие гиперпараметры:"
   ]
  },
  {
   "cell_type": "code",
   "execution_count": 31,
   "id": "cafeffb2",
   "metadata": {
    "scrolled": true
   },
   "outputs": [
    {
     "name": "stdout",
     "output_type": "stream",
     "text": [
      "Fitting 3 folds for each of 100 candidates, totalling 300 fits\n",
      "\n",
      "\n",
      "\u001b[1mЛучший показатель AUC ROC модели LightGBM: 0.904 \n",
      "\n",
      "С параметрами модели: {'class_weight': None, 'max_depth': 2, 'n_estimators': 1560}\n"
     ]
    }
   ],
   "source": [
    "param_grid = {\n",
    "    'class_weight': [None, 'balanced'],\n",
    "    'max_depth': range(1,6),\n",
    "    'n_estimators':range(1500, 1600, 10)\n",
    "}\n",
    "\n",
    "grid_search = GridSearchCV(lgbm, param_grid, scoring='roc_auc', cv=3, n_jobs=-1, verbose=3)\n",
    "\n",
    "grid_search.fit(features_train, target_train)\n",
    "\n",
    "print(('\\n\\n\\033[1mЛучший показатель AUC ROC модели LightGBM: %.3f'\n",
    "       % grid_search.best_score_), '\\n\\nС параметрами модели:', grid_search.best_params_)"
   ]
  },
  {
   "cell_type": "markdown",
   "id": "80dcd88a",
   "metadata": {},
   "source": [
    "**Модель LightGBM показала результат: 0,904**\n",
    "\n",
    "Это хороший результат, подходит для дальнейшей работы."
   ]
  },
  {
   "cell_type": "markdown",
   "id": "45e85b0b",
   "metadata": {},
   "source": [
    "### Модель CatBoost:"
   ]
  },
  {
   "cell_type": "markdown",
   "id": "60bacadf",
   "metadata": {},
   "source": [
    "Подготовим модель CatBoost:"
   ]
  },
  {
   "cell_type": "code",
   "execution_count": 32,
   "id": "526734fb",
   "metadata": {},
   "outputs": [],
   "source": [
    "catclass = CatBoostClassifier(random_state=RANDOM_STATE, cat_features=categorical_features, learning_rate=0.03)"
   ]
  },
  {
   "cell_type": "markdown",
   "id": "7dfedad1",
   "metadata": {},
   "source": [
    "Подберем гиперпараметры:"
   ]
  },
  {
   "cell_type": "code",
   "execution_count": 33,
   "id": "490a5521",
   "metadata": {
    "scrolled": true
   },
   "outputs": [
    {
     "name": "stdout",
     "output_type": "stream",
     "text": [
      "Fitting 3 folds for each of 14 candidates, totalling 42 fits\n",
      "0:\tlearn: 0.6688190\ttotal: 187ms\tremaining: 4m 22s\n",
      "1:\tlearn: 0.6487344\ttotal: 217ms\tremaining: 2m 31s\n",
      "2:\tlearn: 0.6280550\ttotal: 250ms\tremaining: 1m 56s\n",
      "3:\tlearn: 0.6080808\ttotal: 300ms\tremaining: 1m 44s\n",
      "4:\tlearn: 0.5886228\ttotal: 336ms\tremaining: 1m 33s\n",
      "5:\tlearn: 0.5697933\ttotal: 372ms\tremaining: 1m 26s\n",
      "6:\tlearn: 0.5516564\ttotal: 410ms\tremaining: 1m 21s\n",
      "7:\tlearn: 0.5379441\ttotal: 445ms\tremaining: 1m 17s\n",
      "8:\tlearn: 0.5271579\ttotal: 472ms\tremaining: 1m 13s\n",
      "9:\tlearn: 0.5156054\ttotal: 507ms\tremaining: 1m 10s\n",
      "10:\tlearn: 0.5061308\ttotal: 527ms\tremaining: 1m 6s\n",
      "11:\tlearn: 0.4940438\ttotal: 561ms\tremaining: 1m 4s\n",
      "12:\tlearn: 0.4853163\ttotal: 595ms\tremaining: 1m 3s\n",
      "13:\tlearn: 0.4785348\ttotal: 617ms\tremaining: 1m 1s\n",
      "14:\tlearn: 0.4730819\ttotal: 625ms\tremaining: 57.7s\n",
      "15:\tlearn: 0.4647108\ttotal: 660ms\tremaining: 57.1s\n",
      "16:\tlearn: 0.4557926\ttotal: 694ms\tremaining: 56.5s\n",
      "17:\tlearn: 0.4515094\ttotal: 703ms\tremaining: 53.9s\n",
      "18:\tlearn: 0.4443917\ttotal: 736ms\tremaining: 53.5s\n",
      "19:\tlearn: 0.4367658\ttotal: 771ms\tremaining: 53.2s\n",
      "20:\tlearn: 0.4296352\ttotal: 805ms\tremaining: 52.9s\n",
      "21:\tlearn: 0.4242527\ttotal: 839ms\tremaining: 52.6s\n",
      "22:\tlearn: 0.4195338\ttotal: 873ms\tremaining: 52.3s\n",
      "23:\tlearn: 0.4145434\ttotal: 907ms\tremaining: 52s\n",
      "24:\tlearn: 0.4093155\ttotal: 941ms\tremaining: 51.8s\n",
      "25:\tlearn: 0.4049512\ttotal: 975ms\tremaining: 51.5s\n",
      "26:\tlearn: 0.4004701\ttotal: 1.01s\tremaining: 51.2s\n",
      "27:\tlearn: 0.3982543\ttotal: 1.02s\tremaining: 50s\n",
      "28:\tlearn: 0.3961683\ttotal: 1.03s\tremaining: 49s\n",
      "29:\tlearn: 0.3915255\ttotal: 1.07s\tremaining: 48.8s\n",
      "30:\tlearn: 0.3894380\ttotal: 1.09s\tremaining: 48.1s\n",
      "31:\tlearn: 0.3857554\ttotal: 1.12s\tremaining: 47.9s\n",
      "32:\tlearn: 0.3828690\ttotal: 1.15s\tremaining: 47.8s\n",
      "33:\tlearn: 0.3801501\ttotal: 1.19s\tremaining: 47.7s\n",
      "34:\tlearn: 0.3773214\ttotal: 1.22s\tremaining: 47.6s\n",
      "35:\tlearn: 0.3753392\ttotal: 1.25s\tremaining: 47.6s\n",
      "36:\tlearn: 0.3721989\ttotal: 1.29s\tremaining: 47.5s\n",
      "37:\tlearn: 0.3693570\ttotal: 1.32s\tremaining: 47.5s\n",
      "38:\tlearn: 0.3672990\ttotal: 1.36s\tremaining: 47.4s\n",
      "39:\tlearn: 0.3649034\ttotal: 1.39s\tremaining: 47.3s\n",
      "40:\tlearn: 0.3627017\ttotal: 1.43s\tremaining: 47.3s\n",
      "41:\tlearn: 0.3615740\ttotal: 1.45s\tremaining: 46.9s\n",
      "42:\tlearn: 0.3601337\ttotal: 1.48s\tremaining: 46.7s\n",
      "43:\tlearn: 0.3579621\ttotal: 1.51s\tremaining: 46.6s\n",
      "44:\tlearn: 0.3563245\ttotal: 1.54s\tremaining: 46.5s\n",
      "45:\tlearn: 0.3557186\ttotal: 1.57s\tremaining: 46.1s\n",
      "46:\tlearn: 0.3536769\ttotal: 1.6s\tremaining: 46s\n",
      "47:\tlearn: 0.3527696\ttotal: 1.63s\tremaining: 46s\n",
      "48:\tlearn: 0.3517348\ttotal: 1.67s\tremaining: 46s\n",
      "49:\tlearn: 0.3503323\ttotal: 1.7s\tremaining: 45.9s\n",
      "50:\tlearn: 0.3500411\ttotal: 1.71s\tremaining: 45.2s\n",
      "51:\tlearn: 0.3486404\ttotal: 1.74s\tremaining: 45.2s\n",
      "52:\tlearn: 0.3472408\ttotal: 1.78s\tremaining: 45.2s\n",
      "53:\tlearn: 0.3469036\ttotal: 1.79s\tremaining: 44.6s\n",
      "54:\tlearn: 0.3456605\ttotal: 1.82s\tremaining: 44.6s\n",
      "55:\tlearn: 0.3453603\ttotal: 1.84s\tremaining: 44.2s\n",
      "56:\tlearn: 0.3443575\ttotal: 1.87s\tremaining: 44.1s\n",
      "57:\tlearn: 0.3436689\ttotal: 1.91s\tremaining: 44.1s\n",
      "58:\tlearn: 0.3424446\ttotal: 1.94s\tremaining: 44.1s\n",
      "59:\tlearn: 0.3415213\ttotal: 1.98s\tremaining: 44.2s\n",
      "60:\tlearn: 0.3404177\ttotal: 2.01s\tremaining: 44.2s\n",
      "61:\tlearn: 0.3393781\ttotal: 2.05s\tremaining: 44.2s\n",
      "62:\tlearn: 0.3383479\ttotal: 2.08s\tremaining: 44.2s\n",
      "63:\tlearn: 0.3374466\ttotal: 2.12s\tremaining: 44.2s\n",
      "64:\tlearn: 0.3365535\ttotal: 2.15s\tremaining: 44.2s\n",
      "65:\tlearn: 0.3357969\ttotal: 2.19s\tremaining: 44.2s\n",
      "66:\tlearn: 0.3349941\ttotal: 2.22s\tremaining: 44.2s\n",
      "67:\tlearn: 0.3341790\ttotal: 2.25s\tremaining: 44.1s\n",
      "68:\tlearn: 0.3337367\ttotal: 2.29s\tremaining: 44.1s\n",
      "69:\tlearn: 0.3336739\ttotal: 2.31s\tremaining: 43.8s\n",
      "70:\tlearn: 0.3331380\ttotal: 2.34s\tremaining: 43.8s\n",
      "71:\tlearn: 0.3322679\ttotal: 2.37s\tremaining: 43.8s\n",
      "72:\tlearn: 0.3315949\ttotal: 2.41s\tremaining: 43.8s\n",
      "73:\tlearn: 0.3310358\ttotal: 2.44s\tremaining: 43.8s\n",
      "74:\tlearn: 0.3308785\ttotal: 2.46s\tremaining: 43.4s\n",
      "75:\tlearn: 0.3308399\ttotal: 2.46s\tremaining: 42.9s\n",
      "76:\tlearn: 0.3304561\ttotal: 2.5s\tremaining: 42.9s\n",
      "77:\tlearn: 0.3296843\ttotal: 2.53s\tremaining: 42.9s\n",
      "78:\tlearn: 0.3291087\ttotal: 2.57s\tremaining: 42.9s\n",
      "79:\tlearn: 0.3285530\ttotal: 2.6s\tremaining: 42.9s\n",
      "80:\tlearn: 0.3284543\ttotal: 2.62s\tremaining: 42.7s\n",
      "81:\tlearn: 0.3283691\ttotal: 2.63s\tremaining: 42.3s\n",
      "82:\tlearn: 0.3280628\ttotal: 2.67s\tremaining: 42.4s\n",
      "83:\tlearn: 0.3276754\ttotal: 2.7s\tremaining: 42.4s\n",
      "84:\tlearn: 0.3272377\ttotal: 2.74s\tremaining: 42.4s\n",
      "85:\tlearn: 0.3268248\ttotal: 2.77s\tremaining: 42.3s\n",
      "86:\tlearn: 0.3264870\ttotal: 2.8s\tremaining: 42.3s\n",
      "87:\tlearn: 0.3259659\ttotal: 2.84s\tremaining: 42.3s\n",
      "88:\tlearn: 0.3256839\ttotal: 2.87s\tremaining: 42.3s\n",
      "89:\tlearn: 0.3255006\ttotal: 2.92s\tremaining: 42.5s\n",
      "90:\tlearn: 0.3249495\ttotal: 2.96s\tremaining: 42.5s\n",
      "91:\tlearn: 0.3244320\ttotal: 2.99s\tremaining: 42.5s\n",
      "92:\tlearn: 0.3242988\ttotal: 3.02s\tremaining: 42.4s\n",
      "93:\tlearn: 0.3238158\ttotal: 3.05s\tremaining: 42.4s\n",
      "94:\tlearn: 0.3234679\ttotal: 3.08s\tremaining: 42.4s\n",
      "95:\tlearn: 0.3232976\ttotal: 3.12s\tremaining: 42.3s\n",
      "96:\tlearn: 0.3228604\ttotal: 3.15s\tremaining: 42.3s\n",
      "97:\tlearn: 0.3226558\ttotal: 3.19s\tremaining: 42.3s\n",
      "98:\tlearn: 0.3224461\ttotal: 3.22s\tremaining: 42.3s\n",
      "99:\tlearn: 0.3224016\ttotal: 3.23s\tremaining: 42s\n",
      "100:\tlearn: 0.3218633\ttotal: 3.27s\tremaining: 42s\n",
      "101:\tlearn: 0.3215142\ttotal: 3.3s\tremaining: 42s\n",
      "102:\tlearn: 0.3211593\ttotal: 3.34s\tremaining: 42s\n",
      "103:\tlearn: 0.3207760\ttotal: 3.37s\tremaining: 42s\n",
      "104:\tlearn: 0.3206780\ttotal: 3.4s\tremaining: 42s\n",
      "105:\tlearn: 0.3203168\ttotal: 3.44s\tremaining: 42s\n",
      "106:\tlearn: 0.3199958\ttotal: 3.47s\tremaining: 42s\n",
      "107:\tlearn: 0.3196799\ttotal: 3.51s\tremaining: 41.9s\n",
      "108:\tlearn: 0.3194391\ttotal: 3.54s\tremaining: 42s\n",
      "109:\tlearn: 0.3194310\ttotal: 3.58s\tremaining: 42s\n",
      "110:\tlearn: 0.3193010\ttotal: 3.61s\tremaining: 41.9s\n",
      "111:\tlearn: 0.3190572\ttotal: 3.65s\tremaining: 42s\n",
      "112:\tlearn: 0.3188399\ttotal: 3.68s\tremaining: 41.9s\n",
      "113:\tlearn: 0.3187682\ttotal: 3.71s\tremaining: 41.9s\n",
      "114:\tlearn: 0.3185170\ttotal: 3.74s\tremaining: 41.8s\n",
      "115:\tlearn: 0.3182410\ttotal: 3.77s\tremaining: 41.8s\n",
      "116:\tlearn: 0.3178769\ttotal: 3.81s\tremaining: 41.8s\n",
      "117:\tlearn: 0.3175171\ttotal: 3.84s\tremaining: 41.8s\n",
      "118:\tlearn: 0.3174721\ttotal: 3.86s\tremaining: 41.5s\n",
      "119:\tlearn: 0.3169522\ttotal: 3.89s\tremaining: 41.5s\n",
      "120:\tlearn: 0.3169169\ttotal: 3.92s\tremaining: 41.4s\n",
      "121:\tlearn: 0.3168045\ttotal: 3.95s\tremaining: 41.4s\n",
      "122:\tlearn: 0.3167780\ttotal: 3.97s\tremaining: 41.3s\n",
      "123:\tlearn: 0.3167435\ttotal: 4s\tremaining: 41.2s\n",
      "124:\tlearn: 0.3165421\ttotal: 4.03s\tremaining: 41.1s\n",
      "125:\tlearn: 0.3164307\ttotal: 4.06s\tremaining: 41s\n",
      "126:\tlearn: 0.3162614\ttotal: 4.09s\tremaining: 41s\n",
      "127:\tlearn: 0.3159003\ttotal: 4.13s\tremaining: 41s\n",
      "128:\tlearn: 0.3158370\ttotal: 4.16s\tremaining: 41s\n",
      "129:\tlearn: 0.3154204\ttotal: 4.19s\tremaining: 41s\n",
      "130:\tlearn: 0.3153204\ttotal: 4.23s\tremaining: 41s\n",
      "131:\tlearn: 0.3151390\ttotal: 4.26s\tremaining: 41s\n",
      "132:\tlearn: 0.3150422\ttotal: 4.3s\tremaining: 40.9s\n",
      "133:\tlearn: 0.3147928\ttotal: 4.33s\tremaining: 40.9s\n",
      "134:\tlearn: 0.3144484\ttotal: 4.37s\tremaining: 40.9s\n",
      "135:\tlearn: 0.3143255\ttotal: 4.43s\tremaining: 41.1s\n",
      "136:\tlearn: 0.3142156\ttotal: 4.46s\tremaining: 41.1s\n",
      "137:\tlearn: 0.3138962\ttotal: 4.5s\tremaining: 41.1s\n",
      "138:\tlearn: 0.3134413\ttotal: 4.52s\tremaining: 41s\n",
      "139:\tlearn: 0.3134411\ttotal: 4.53s\tremaining: 40.8s\n",
      "140:\tlearn: 0.3133624\ttotal: 4.56s\tremaining: 40.8s\n",
      "141:\tlearn: 0.3133621\ttotal: 4.58s\tremaining: 40.6s\n",
      "142:\tlearn: 0.3133576\ttotal: 4.61s\tremaining: 40.5s\n",
      "143:\tlearn: 0.3131141\ttotal: 4.64s\tremaining: 40.5s\n",
      "144:\tlearn: 0.3128101\ttotal: 4.68s\tremaining: 40.5s\n",
      "145:\tlearn: 0.3128003\ttotal: 4.71s\tremaining: 40.5s\n",
      "146:\tlearn: 0.3127649\ttotal: 4.75s\tremaining: 40.5s\n",
      "147:\tlearn: 0.3126192\ttotal: 4.78s\tremaining: 40.5s\n",
      "148:\tlearn: 0.3124456\ttotal: 4.81s\tremaining: 40.4s\n",
      "149:\tlearn: 0.3123679\ttotal: 4.84s\tremaining: 40.4s\n",
      "150:\tlearn: 0.3121780\ttotal: 4.88s\tremaining: 40.3s\n",
      "151:\tlearn: 0.3120138\ttotal: 4.91s\tremaining: 40.3s\n",
      "152:\tlearn: 0.3116542\ttotal: 4.95s\tremaining: 40.3s\n",
      "153:\tlearn: 0.3112532\ttotal: 4.98s\tremaining: 40.3s\n",
      "154:\tlearn: 0.3111970\ttotal: 5.01s\tremaining: 40.3s\n",
      "155:\tlearn: 0.3111966\ttotal: 5.03s\tremaining: 40.1s\n",
      "156:\tlearn: 0.3111221\ttotal: 5.06s\tremaining: 40.1s\n",
      "157:\tlearn: 0.3109522\ttotal: 5.1s\tremaining: 40.1s\n",
      "158:\tlearn: 0.3106614\ttotal: 5.13s\tremaining: 40s\n",
      "159:\tlearn: 0.3102399\ttotal: 5.16s\tremaining: 40s\n",
      "160:\tlearn: 0.3100822\ttotal: 5.2s\tremaining: 40s\n",
      "161:\tlearn: 0.3098939\ttotal: 5.23s\tremaining: 40s\n",
      "162:\tlearn: 0.3096123\ttotal: 5.26s\tremaining: 39.9s\n",
      "163:\tlearn: 0.3092474\ttotal: 5.29s\tremaining: 39.9s\n",
      "164:\tlearn: 0.3092087\ttotal: 5.33s\tremaining: 39.9s\n",
      "165:\tlearn: 0.3089138\ttotal: 5.35s\tremaining: 39.8s\n",
      "166:\tlearn: 0.3088546\ttotal: 5.39s\tremaining: 39.8s\n",
      "167:\tlearn: 0.3086037\ttotal: 5.43s\tremaining: 39.8s\n",
      "168:\tlearn: 0.3085759\ttotal: 5.45s\tremaining: 39.7s\n",
      "169:\tlearn: 0.3084499\ttotal: 5.49s\tremaining: 39.7s\n",
      "170:\tlearn: 0.3082913\ttotal: 5.51s\tremaining: 39.6s\n",
      "171:\tlearn: 0.3082911\ttotal: 5.52s\tremaining: 39.4s\n",
      "172:\tlearn: 0.3082659\ttotal: 5.54s\tremaining: 39.3s\n",
      "173:\tlearn: 0.3082654\ttotal: 5.56s\tremaining: 39.2s\n",
      "174:\tlearn: 0.3080387\ttotal: 5.59s\tremaining: 39.1s\n",
      "175:\tlearn: 0.3079847\ttotal: 5.64s\tremaining: 39.2s\n",
      "176:\tlearn: 0.3079273\ttotal: 5.67s\tremaining: 39.2s\n",
      "177:\tlearn: 0.3078308\ttotal: 5.71s\tremaining: 39.2s\n",
      "178:\tlearn: 0.3077963\ttotal: 5.74s\tremaining: 39.2s\n",
      "179:\tlearn: 0.3077308\ttotal: 5.78s\tremaining: 39.2s\n",
      "180:\tlearn: 0.3077295\ttotal: 5.8s\tremaining: 39s\n",
      "181:\tlearn: 0.3075533\ttotal: 5.83s\tremaining: 39s\n",
      "182:\tlearn: 0.3075528\ttotal: 5.85s\tremaining: 38.9s\n",
      "183:\tlearn: 0.3074106\ttotal: 5.88s\tremaining: 38.9s\n",
      "184:\tlearn: 0.3071251\ttotal: 5.92s\tremaining: 38.9s\n",
      "185:\tlearn: 0.3068636\ttotal: 5.95s\tremaining: 38.8s\n",
      "186:\tlearn: 0.3068365\ttotal: 5.96s\tremaining: 38.7s\n",
      "187:\tlearn: 0.3067681\ttotal: 6s\tremaining: 38.7s\n",
      "188:\tlearn: 0.3067213\ttotal: 6.02s\tremaining: 38.6s\n",
      "189:\tlearn: 0.3067200\ttotal: 6.04s\tremaining: 38.5s\n",
      "190:\tlearn: 0.3066677\ttotal: 6.07s\tremaining: 38.5s\n",
      "191:\tlearn: 0.3066646\ttotal: 6.1s\tremaining: 38.4s\n",
      "192:\tlearn: 0.3066352\ttotal: 6.12s\tremaining: 38.3s\n",
      "193:\tlearn: 0.3066351\ttotal: 6.13s\tremaining: 38.1s\n",
      "194:\tlearn: 0.3064508\ttotal: 6.15s\tremaining: 38s\n",
      "195:\tlearn: 0.3064226\ttotal: 6.18s\tremaining: 38s\n",
      "196:\tlearn: 0.3063896\ttotal: 6.21s\tremaining: 37.9s\n",
      "197:\tlearn: 0.3063631\ttotal: 6.24s\tremaining: 37.9s\n",
      "198:\tlearn: 0.3061611\ttotal: 6.29s\tremaining: 38s\n",
      "199:\tlearn: 0.3060478\ttotal: 6.32s\tremaining: 37.9s\n",
      "200:\tlearn: 0.3058571\ttotal: 6.36s\tremaining: 37.9s\n",
      "201:\tlearn: 0.3057113\ttotal: 6.39s\tremaining: 37.9s\n",
      "202:\tlearn: 0.3056972\ttotal: 6.41s\tremaining: 37.8s\n",
      "203:\tlearn: 0.3054757\ttotal: 6.45s\tremaining: 37.8s\n",
      "204:\tlearn: 0.3053699\ttotal: 6.48s\tremaining: 37.8s\n",
      "205:\tlearn: 0.3053487\ttotal: 6.51s\tremaining: 37.7s\n",
      "206:\tlearn: 0.3052103\ttotal: 6.55s\tremaining: 37.7s\n",
      "207:\tlearn: 0.3051178\ttotal: 6.58s\tremaining: 37.7s\n",
      "208:\tlearn: 0.3049244\ttotal: 6.61s\tremaining: 37.7s\n",
      "209:\tlearn: 0.3049204\ttotal: 6.63s\tremaining: 37.6s\n",
      "210:\tlearn: 0.3048222\ttotal: 6.66s\tremaining: 37.6s\n",
      "211:\tlearn: 0.3046421\ttotal: 6.71s\tremaining: 37.6s\n",
      "212:\tlearn: 0.3044902\ttotal: 6.75s\tremaining: 37.6s\n",
      "213:\tlearn: 0.3044830\ttotal: 6.77s\tremaining: 37.5s\n",
      "214:\tlearn: 0.3044468\ttotal: 6.8s\tremaining: 37.5s\n",
      "215:\tlearn: 0.3042452\ttotal: 6.83s\tremaining: 37.4s\n",
      "216:\tlearn: 0.3042450\ttotal: 6.84s\tremaining: 37.3s\n",
      "217:\tlearn: 0.3040901\ttotal: 6.88s\tremaining: 37.3s\n",
      "218:\tlearn: 0.3039798\ttotal: 6.91s\tremaining: 37.3s\n",
      "219:\tlearn: 0.3039559\ttotal: 6.95s\tremaining: 37.3s\n",
      "220:\tlearn: 0.3036986\ttotal: 6.97s\tremaining: 37.2s\n",
      "221:\tlearn: 0.3035983\ttotal: 7.01s\tremaining: 37.2s\n",
      "222:\tlearn: 0.3034118\ttotal: 7.03s\tremaining: 37.1s\n",
      "223:\tlearn: 0.3032586\ttotal: 7.06s\tremaining: 37.1s\n",
      "224:\tlearn: 0.3030637\ttotal: 7.1s\tremaining: 37.1s\n",
      "225:\tlearn: 0.3029145\ttotal: 7.14s\tremaining: 37.1s\n",
      "226:\tlearn: 0.3029141\ttotal: 7.16s\tremaining: 37s\n",
      "227:\tlearn: 0.3028856\ttotal: 7.19s\tremaining: 37s\n",
      "228:\tlearn: 0.3028555\ttotal: 7.22s\tremaining: 36.9s\n",
      "229:\tlearn: 0.3027878\ttotal: 7.26s\tremaining: 36.9s\n",
      "230:\tlearn: 0.3026289\ttotal: 7.29s\tremaining: 36.9s\n",
      "231:\tlearn: 0.3026288\ttotal: 7.3s\tremaining: 36.8s\n",
      "232:\tlearn: 0.3021454\ttotal: 7.34s\tremaining: 36.8s\n",
      "233:\tlearn: 0.3021146\ttotal: 7.37s\tremaining: 36.7s\n",
      "234:\tlearn: 0.3019914\ttotal: 7.41s\tremaining: 36.7s\n",
      "235:\tlearn: 0.3018257\ttotal: 7.44s\tremaining: 36.7s\n",
      "236:\tlearn: 0.3016407\ttotal: 7.46s\tremaining: 36.6s\n",
      "237:\tlearn: 0.3016150\ttotal: 7.49s\tremaining: 36.6s\n",
      "238:\tlearn: 0.3016143\ttotal: 7.51s\tremaining: 36.5s\n",
      "239:\tlearn: 0.3015275\ttotal: 7.55s\tremaining: 36.5s\n",
      "240:\tlearn: 0.3015180\ttotal: 7.57s\tremaining: 36.4s\n",
      "241:\tlearn: 0.3012559\ttotal: 7.59s\tremaining: 36.3s\n",
      "242:\tlearn: 0.3010078\ttotal: 7.63s\tremaining: 36.3s\n",
      "243:\tlearn: 0.3010068\ttotal: 7.65s\tremaining: 36.3s\n",
      "244:\tlearn: 0.3009862\ttotal: 7.68s\tremaining: 36.2s\n",
      "245:\tlearn: 0.3009336\ttotal: 7.72s\tremaining: 36.2s\n",
      "246:\tlearn: 0.3008165\ttotal: 7.75s\tremaining: 36.2s\n",
      "247:\tlearn: 0.3003900\ttotal: 7.79s\tremaining: 36.2s\n",
      "248:\tlearn: 0.3003065\ttotal: 7.82s\tremaining: 36.2s\n",
      "249:\tlearn: 0.3003056\ttotal: 7.84s\tremaining: 36.1s\n",
      "250:\tlearn: 0.3001935\ttotal: 7.88s\tremaining: 36.1s\n",
      "251:\tlearn: 0.3000758\ttotal: 7.91s\tremaining: 36s\n",
      "252:\tlearn: 0.3000256\ttotal: 7.95s\tremaining: 36s\n",
      "253:\tlearn: 0.2999395\ttotal: 7.99s\tremaining: 36.1s\n",
      "254:\tlearn: 0.2998395\ttotal: 8.03s\tremaining: 36s\n",
      "255:\tlearn: 0.2994975\ttotal: 8.06s\tremaining: 36s\n",
      "256:\tlearn: 0.2994245\ttotal: 8.1s\tremaining: 36s\n",
      "257:\tlearn: 0.2993363\ttotal: 8.13s\tremaining: 36s\n",
      "258:\tlearn: 0.2993319\ttotal: 8.15s\tremaining: 35.9s\n",
      "259:\tlearn: 0.2993317\ttotal: 8.16s\tremaining: 35.8s\n",
      "260:\tlearn: 0.2993302\ttotal: 8.18s\tremaining: 35.7s\n",
      "261:\tlearn: 0.2993299\ttotal: 8.2s\tremaining: 35.6s\n",
      "262:\tlearn: 0.2992307\ttotal: 8.23s\tremaining: 35.6s\n",
      "263:\tlearn: 0.2989709\ttotal: 8.27s\tremaining: 35.6s\n",
      "264:\tlearn: 0.2988170\ttotal: 8.3s\tremaining: 35.6s\n",
      "265:\tlearn: 0.2987300\ttotal: 8.34s\tremaining: 35.5s\n",
      "266:\tlearn: 0.2985600\ttotal: 8.39s\tremaining: 35.6s\n",
      "267:\tlearn: 0.2984649\ttotal: 8.44s\tremaining: 35.6s\n",
      "268:\tlearn: 0.2984360\ttotal: 8.47s\tremaining: 35.6s\n",
      "269:\tlearn: 0.2983591\ttotal: 8.5s\tremaining: 35.6s\n",
      "270:\tlearn: 0.2982551\ttotal: 8.54s\tremaining: 35.6s\n",
      "271:\tlearn: 0.2981610\ttotal: 8.57s\tremaining: 35.5s\n",
      "272:\tlearn: 0.2981077\ttotal: 8.61s\tremaining: 35.5s\n",
      "273:\tlearn: 0.2980486\ttotal: 8.64s\tremaining: 35.5s\n",
      "274:\tlearn: 0.2980340\ttotal: 8.68s\tremaining: 35.5s\n",
      "275:\tlearn: 0.2978455\ttotal: 8.71s\tremaining: 35.5s\n",
      "276:\tlearn: 0.2978438\ttotal: 8.73s\tremaining: 35.4s\n",
      "277:\tlearn: 0.2976971\ttotal: 8.77s\tremaining: 35.4s\n",
      "278:\tlearn: 0.2976109\ttotal: 8.8s\tremaining: 35.4s\n",
      "279:\tlearn: 0.2975950\ttotal: 8.84s\tremaining: 35.3s\n",
      "280:\tlearn: 0.2971710\ttotal: 8.87s\tremaining: 35.3s\n",
      "281:\tlearn: 0.2970852\ttotal: 8.9s\tremaining: 35.3s\n",
      "282:\tlearn: 0.2966733\ttotal: 8.94s\tremaining: 35.3s\n",
      "283:\tlearn: 0.2965598\ttotal: 8.97s\tremaining: 35.3s\n",
      "284:\tlearn: 0.2965228\ttotal: 9.01s\tremaining: 35.2s\n",
      "285:\tlearn: 0.2964912\ttotal: 9.05s\tremaining: 35.2s\n",
      "286:\tlearn: 0.2964911\ttotal: 9.06s\tremaining: 35.1s\n",
      "287:\tlearn: 0.2963485\ttotal: 9.09s\tremaining: 35.1s\n",
      "288:\tlearn: 0.2963320\ttotal: 9.13s\tremaining: 35.1s\n",
      "289:\tlearn: 0.2962047\ttotal: 9.16s\tremaining: 35.1s\n",
      "290:\tlearn: 0.2957288\ttotal: 9.19s\tremaining: 35s\n",
      "291:\tlearn: 0.2956187\ttotal: 9.23s\tremaining: 35s\n",
      "292:\tlearn: 0.2954286\ttotal: 9.26s\tremaining: 35s\n",
      "293:\tlearn: 0.2954066\ttotal: 9.3s\tremaining: 35s\n",
      "294:\tlearn: 0.2953814\ttotal: 9.33s\tremaining: 35s\n",
      "295:\tlearn: 0.2951289\ttotal: 9.37s\tremaining: 34.9s\n",
      "296:\tlearn: 0.2949704\ttotal: 9.4s\tremaining: 34.9s\n",
      "297:\tlearn: 0.2948230\ttotal: 9.43s\tremaining: 34.9s\n",
      "298:\tlearn: 0.2945361\ttotal: 9.47s\tremaining: 34.9s\n",
      "299:\tlearn: 0.2944172\ttotal: 9.5s\tremaining: 34.8s\n",
      "300:\tlearn: 0.2943033\ttotal: 9.54s\tremaining: 34.8s\n",
      "301:\tlearn: 0.2941541\ttotal: 9.57s\tremaining: 34.8s\n",
      "302:\tlearn: 0.2941072\ttotal: 9.61s\tremaining: 34.8s\n",
      "303:\tlearn: 0.2941037\ttotal: 9.63s\tremaining: 34.7s\n",
      "304:\tlearn: 0.2940632\ttotal: 9.66s\tremaining: 34.7s\n",
      "305:\tlearn: 0.2940605\ttotal: 9.69s\tremaining: 34.6s\n",
      "306:\tlearn: 0.2936835\ttotal: 9.72s\tremaining: 34.6s\n",
      "307:\tlearn: 0.2936172\ttotal: 9.75s\tremaining: 34.6s\n",
      "308:\tlearn: 0.2933752\ttotal: 9.79s\tremaining: 34.6s\n",
      "309:\tlearn: 0.2933290\ttotal: 9.82s\tremaining: 34.5s\n",
      "310:\tlearn: 0.2933107\ttotal: 9.86s\tremaining: 34.5s\n",
      "311:\tlearn: 0.2932765\ttotal: 9.89s\tremaining: 34.5s\n",
      "312:\tlearn: 0.2931888\ttotal: 9.93s\tremaining: 34.5s\n",
      "313:\tlearn: 0.2931405\ttotal: 9.96s\tremaining: 34.5s\n",
      "314:\tlearn: 0.2930270\ttotal: 9.99s\tremaining: 34.4s\n",
      "315:\tlearn: 0.2929382\ttotal: 10s\tremaining: 34.4s\n",
      "316:\tlearn: 0.2928001\ttotal: 10.1s\tremaining: 34.4s\n",
      "317:\tlearn: 0.2927834\ttotal: 10.1s\tremaining: 34.4s\n",
      "318:\tlearn: 0.2927173\ttotal: 10.1s\tremaining: 34.3s\n",
      "319:\tlearn: 0.2920202\ttotal: 10.2s\tremaining: 34.3s\n",
      "320:\tlearn: 0.2919284\ttotal: 10.2s\tremaining: 34.3s\n",
      "321:\tlearn: 0.2917873\ttotal: 10.2s\tremaining: 34.2s\n",
      "322:\tlearn: 0.2917136\ttotal: 10.3s\tremaining: 34.2s\n",
      "323:\tlearn: 0.2913364\ttotal: 10.3s\tremaining: 34.2s\n",
      "324:\tlearn: 0.2909687\ttotal: 10.4s\tremaining: 34.3s\n",
      "325:\tlearn: 0.2904919\ttotal: 10.4s\tremaining: 34.3s\n",
      "326:\tlearn: 0.2903148\ttotal: 10.4s\tremaining: 34.3s\n",
      "327:\tlearn: 0.2902980\ttotal: 10.5s\tremaining: 34.2s\n",
      "328:\tlearn: 0.2901710\ttotal: 10.5s\tremaining: 34.2s\n",
      "329:\tlearn: 0.2901560\ttotal: 10.5s\tremaining: 34.2s\n",
      "330:\tlearn: 0.2900050\ttotal: 10.6s\tremaining: 34.2s\n",
      "331:\tlearn: 0.2898176\ttotal: 10.6s\tremaining: 34.2s\n",
      "332:\tlearn: 0.2893575\ttotal: 10.7s\tremaining: 34.1s\n",
      "333:\tlearn: 0.2892935\ttotal: 10.7s\tremaining: 34.1s\n",
      "334:\tlearn: 0.2892207\ttotal: 10.7s\tremaining: 34.1s\n",
      "335:\tlearn: 0.2891111\ttotal: 10.8s\tremaining: 34.1s\n",
      "336:\tlearn: 0.2889548\ttotal: 10.8s\tremaining: 34s\n",
      "337:\tlearn: 0.2886529\ttotal: 10.8s\tremaining: 34s\n",
      "338:\tlearn: 0.2883311\ttotal: 10.9s\tremaining: 34s\n",
      "339:\tlearn: 0.2883239\ttotal: 10.9s\tremaining: 34s\n",
      "340:\tlearn: 0.2882889\ttotal: 10.9s\tremaining: 34s\n",
      "341:\tlearn: 0.2881975\ttotal: 11s\tremaining: 34s\n",
      "342:\tlearn: 0.2879796\ttotal: 11s\tremaining: 33.9s\n",
      "343:\tlearn: 0.2874249\ttotal: 11s\tremaining: 33.9s\n",
      "344:\tlearn: 0.2873644\ttotal: 11.1s\tremaining: 33.9s\n",
      "345:\tlearn: 0.2873326\ttotal: 11.1s\tremaining: 33.9s\n",
      "346:\tlearn: 0.2870405\ttotal: 11.1s\tremaining: 33.8s\n",
      "347:\tlearn: 0.2869140\ttotal: 11.2s\tremaining: 33.8s\n",
      "348:\tlearn: 0.2864863\ttotal: 11.2s\tremaining: 33.8s\n",
      "349:\tlearn: 0.2862792\ttotal: 11.3s\tremaining: 33.8s\n",
      "350:\tlearn: 0.2862658\ttotal: 11.3s\tremaining: 33.7s\n",
      "351:\tlearn: 0.2856836\ttotal: 11.3s\tremaining: 33.7s\n",
      "352:\tlearn: 0.2848907\ttotal: 11.4s\tremaining: 33.7s\n",
      "353:\tlearn: 0.2848196\ttotal: 11.4s\tremaining: 33.7s\n",
      "354:\tlearn: 0.2847912\ttotal: 11.4s\tremaining: 33.6s\n",
      "355:\tlearn: 0.2845383\ttotal: 11.5s\tremaining: 33.6s\n",
      "356:\tlearn: 0.2844687\ttotal: 11.5s\tremaining: 33.6s\n",
      "357:\tlearn: 0.2838813\ttotal: 11.5s\tremaining: 33.5s\n",
      "358:\tlearn: 0.2837796\ttotal: 11.6s\tremaining: 33.5s\n",
      "359:\tlearn: 0.2835816\ttotal: 11.6s\tremaining: 33.5s\n",
      "360:\tlearn: 0.2833951\ttotal: 11.6s\tremaining: 33.5s\n",
      "361:\tlearn: 0.2832103\ttotal: 11.7s\tremaining: 33.4s\n",
      "362:\tlearn: 0.2831625\ttotal: 11.7s\tremaining: 33.4s\n",
      "363:\tlearn: 0.2830652\ttotal: 11.7s\tremaining: 33.4s\n",
      "364:\tlearn: 0.2829384\ttotal: 11.8s\tremaining: 33.5s\n",
      "365:\tlearn: 0.2829033\ttotal: 11.8s\tremaining: 33.4s\n",
      "366:\tlearn: 0.2828790\ttotal: 11.9s\tremaining: 33.4s\n",
      "367:\tlearn: 0.2828293\ttotal: 11.9s\tremaining: 33.4s\n",
      "368:\tlearn: 0.2824696\ttotal: 11.9s\tremaining: 33.4s\n",
      "369:\tlearn: 0.2824454\ttotal: 12s\tremaining: 33.3s\n",
      "370:\tlearn: 0.2823663\ttotal: 12s\tremaining: 33.3s\n",
      "371:\tlearn: 0.2823329\ttotal: 12s\tremaining: 33.2s\n",
      "372:\tlearn: 0.2818317\ttotal: 12.1s\tremaining: 33.2s\n",
      "373:\tlearn: 0.2815848\ttotal: 12.1s\tremaining: 33.2s\n",
      "374:\tlearn: 0.2815492\ttotal: 12.1s\tremaining: 33.1s\n",
      "375:\tlearn: 0.2814167\ttotal: 12.2s\tremaining: 33.1s\n",
      "376:\tlearn: 0.2808688\ttotal: 12.2s\tremaining: 33.1s\n",
      "377:\tlearn: 0.2807489\ttotal: 12.2s\tremaining: 33.1s\n",
      "378:\tlearn: 0.2807418\ttotal: 12.3s\tremaining: 33s\n",
      "379:\tlearn: 0.2807158\ttotal: 12.3s\tremaining: 33s\n",
      "380:\tlearn: 0.2805176\ttotal: 12.3s\tremaining: 33s\n",
      "381:\tlearn: 0.2800521\ttotal: 12.4s\tremaining: 33s\n",
      "382:\tlearn: 0.2796817\ttotal: 12.4s\tremaining: 32.9s\n",
      "383:\tlearn: 0.2793409\ttotal: 12.4s\tremaining: 32.9s\n",
      "384:\tlearn: 0.2793190\ttotal: 12.5s\tremaining: 32.9s\n",
      "385:\tlearn: 0.2789399\ttotal: 12.5s\tremaining: 32.9s\n",
      "386:\tlearn: 0.2789334\ttotal: 12.6s\tremaining: 32.9s\n",
      "387:\tlearn: 0.2786320\ttotal: 12.6s\tremaining: 32.8s\n",
      "388:\tlearn: 0.2785320\ttotal: 12.6s\tremaining: 32.8s\n",
      "389:\tlearn: 0.2781315\ttotal: 12.7s\tremaining: 32.8s\n",
      "390:\tlearn: 0.2779757\ttotal: 12.7s\tremaining: 32.8s\n",
      "391:\tlearn: 0.2779555\ttotal: 12.7s\tremaining: 32.7s\n",
      "392:\tlearn: 0.2776022\ttotal: 12.8s\tremaining: 32.7s\n",
      "393:\tlearn: 0.2774365\ttotal: 12.8s\tremaining: 32.7s\n",
      "394:\tlearn: 0.2771881\ttotal: 12.8s\tremaining: 32.6s\n",
      "395:\tlearn: 0.2770142\ttotal: 12.9s\tremaining: 32.6s\n",
      "396:\tlearn: 0.2769949\ttotal: 12.9s\tremaining: 32.6s\n",
      "397:\tlearn: 0.2765075\ttotal: 12.9s\tremaining: 32.5s\n",
      "398:\tlearn: 0.2764131\ttotal: 13s\tremaining: 32.5s\n",
      "399:\tlearn: 0.2762407\ttotal: 13s\tremaining: 32.5s\n",
      "400:\tlearn: 0.2760394\ttotal: 13s\tremaining: 32.5s\n",
      "401:\tlearn: 0.2756084\ttotal: 13.1s\tremaining: 32.4s\n",
      "402:\tlearn: 0.2754713\ttotal: 13.1s\tremaining: 32.4s\n",
      "403:\tlearn: 0.2751980\ttotal: 13.1s\tremaining: 32.4s\n",
      "404:\tlearn: 0.2749841\ttotal: 13.2s\tremaining: 32.3s\n",
      "405:\tlearn: 0.2748665\ttotal: 13.2s\tremaining: 32.3s\n",
      "406:\tlearn: 0.2744668\ttotal: 13.2s\tremaining: 32.3s\n",
      "407:\tlearn: 0.2740524\ttotal: 13.3s\tremaining: 32.3s\n",
      "408:\tlearn: 0.2738773\ttotal: 13.3s\tremaining: 32.2s\n",
      "409:\tlearn: 0.2738233\ttotal: 13.3s\tremaining: 32.2s\n",
      "410:\tlearn: 0.2736835\ttotal: 13.4s\tremaining: 32.2s\n",
      "411:\tlearn: 0.2736659\ttotal: 13.4s\tremaining: 32.1s\n",
      "412:\tlearn: 0.2733095\ttotal: 13.4s\tremaining: 32.1s\n",
      "413:\tlearn: 0.2732595\ttotal: 13.5s\tremaining: 32.1s\n",
      "414:\tlearn: 0.2730542\ttotal: 13.5s\tremaining: 32.1s\n",
      "415:\tlearn: 0.2727262\ttotal: 13.6s\tremaining: 32.1s\n",
      "416:\tlearn: 0.2726108\ttotal: 13.6s\tremaining: 32s\n",
      "417:\tlearn: 0.2725942\ttotal: 13.6s\tremaining: 32s\n",
      "418:\tlearn: 0.2724335\ttotal: 13.7s\tremaining: 32s\n",
      "419:\tlearn: 0.2721664\ttotal: 13.7s\tremaining: 31.9s\n",
      "420:\tlearn: 0.2720999\ttotal: 13.7s\tremaining: 31.9s\n",
      "421:\tlearn: 0.2720940\ttotal: 13.8s\tremaining: 31.9s\n",
      "422:\tlearn: 0.2720447\ttotal: 13.8s\tremaining: 31.9s\n",
      "423:\tlearn: 0.2716037\ttotal: 13.8s\tremaining: 31.8s\n",
      "424:\tlearn: 0.2714084\ttotal: 13.9s\tremaining: 31.8s\n",
      "425:\tlearn: 0.2713363\ttotal: 13.9s\tremaining: 31.8s\n",
      "426:\tlearn: 0.2709980\ttotal: 13.9s\tremaining: 31.8s\n",
      "427:\tlearn: 0.2709686\ttotal: 14s\tremaining: 31.7s\n",
      "428:\tlearn: 0.2709385\ttotal: 14s\tremaining: 31.7s\n",
      "429:\tlearn: 0.2709021\ttotal: 14s\tremaining: 31.7s\n",
      "430:\tlearn: 0.2707724\ttotal: 14.1s\tremaining: 31.6s\n",
      "431:\tlearn: 0.2707296\ttotal: 14.1s\tremaining: 31.6s\n",
      "432:\tlearn: 0.2706848\ttotal: 14.1s\tremaining: 31.6s\n",
      "433:\tlearn: 0.2705017\ttotal: 14.2s\tremaining: 31.6s\n",
      "434:\tlearn: 0.2704058\ttotal: 14.2s\tremaining: 31.5s\n",
      "435:\tlearn: 0.2702301\ttotal: 14.2s\tremaining: 31.5s\n",
      "436:\tlearn: 0.2701291\ttotal: 14.3s\tremaining: 31.5s\n",
      "437:\tlearn: 0.2700137\ttotal: 14.3s\tremaining: 31.4s\n",
      "438:\tlearn: 0.2698498\ttotal: 14.3s\tremaining: 31.4s\n",
      "439:\tlearn: 0.2696038\ttotal: 14.4s\tremaining: 31.4s\n",
      "440:\tlearn: 0.2694105\ttotal: 14.4s\tremaining: 31.4s\n",
      "441:\tlearn: 0.2692225\ttotal: 14.5s\tremaining: 31.3s\n",
      "442:\tlearn: 0.2691272\ttotal: 14.5s\tremaining: 31.3s\n",
      "443:\tlearn: 0.2686222\ttotal: 14.5s\tremaining: 31.3s\n",
      "444:\tlearn: 0.2685718\ttotal: 14.6s\tremaining: 31.3s\n",
      "445:\tlearn: 0.2685311\ttotal: 14.6s\tremaining: 31.2s\n",
      "446:\tlearn: 0.2684922\ttotal: 14.6s\tremaining: 31.2s\n",
      "447:\tlearn: 0.2684485\ttotal: 14.7s\tremaining: 31.2s\n",
      "448:\tlearn: 0.2681850\ttotal: 14.7s\tremaining: 31.2s\n",
      "449:\tlearn: 0.2680758\ttotal: 14.7s\tremaining: 31.1s\n",
      "450:\tlearn: 0.2676248\ttotal: 14.8s\tremaining: 31.1s\n",
      "451:\tlearn: 0.2675486\ttotal: 14.8s\tremaining: 31.1s\n",
      "452:\tlearn: 0.2672462\ttotal: 14.8s\tremaining: 31s\n",
      "453:\tlearn: 0.2671195\ttotal: 14.9s\tremaining: 31s\n",
      "454:\tlearn: 0.2670566\ttotal: 14.9s\tremaining: 31s\n",
      "455:\tlearn: 0.2669829\ttotal: 14.9s\tremaining: 30.9s\n",
      "456:\tlearn: 0.2667328\ttotal: 15s\tremaining: 30.9s\n",
      "457:\tlearn: 0.2663811\ttotal: 15s\tremaining: 30.9s\n",
      "458:\tlearn: 0.2663703\ttotal: 15s\tremaining: 30.9s\n",
      "459:\tlearn: 0.2660155\ttotal: 15.1s\tremaining: 30.8s\n",
      "460:\tlearn: 0.2657432\ttotal: 15.1s\tremaining: 30.8s\n",
      "461:\tlearn: 0.2657057\ttotal: 15.2s\tremaining: 30.8s\n",
      "462:\tlearn: 0.2656447\ttotal: 15.2s\tremaining: 30.7s\n",
      "463:\tlearn: 0.2655113\ttotal: 15.2s\tremaining: 30.7s\n",
      "464:\tlearn: 0.2654594\ttotal: 15.3s\tremaining: 30.7s\n",
      "465:\tlearn: 0.2653846\ttotal: 15.3s\tremaining: 30.6s\n",
      "466:\tlearn: 0.2653200\ttotal: 15.3s\tremaining: 30.6s\n",
      "467:\tlearn: 0.2651856\ttotal: 15.4s\tremaining: 30.6s\n",
      "468:\tlearn: 0.2650384\ttotal: 15.4s\tremaining: 30.5s\n",
      "469:\tlearn: 0.2647085\ttotal: 15.4s\tremaining: 30.5s\n",
      "470:\tlearn: 0.2645779\ttotal: 15.5s\tremaining: 30.5s\n",
      "471:\tlearn: 0.2643219\ttotal: 15.5s\tremaining: 30.5s\n",
      "472:\tlearn: 0.2641933\ttotal: 15.5s\tremaining: 30.4s\n",
      "473:\tlearn: 0.2639443\ttotal: 15.6s\tremaining: 30.4s\n",
      "474:\tlearn: 0.2638768\ttotal: 15.6s\tremaining: 30.4s\n",
      "475:\tlearn: 0.2637258\ttotal: 15.7s\tremaining: 30.5s\n",
      "476:\tlearn: 0.2634302\ttotal: 15.7s\tremaining: 30.5s\n",
      "477:\tlearn: 0.2633341\ttotal: 15.8s\tremaining: 30.4s\n",
      "478:\tlearn: 0.2632092\ttotal: 15.8s\tremaining: 30.4s\n",
      "479:\tlearn: 0.2631219\ttotal: 15.8s\tremaining: 30.4s\n",
      "480:\tlearn: 0.2630044\ttotal: 15.9s\tremaining: 30.3s\n",
      "481:\tlearn: 0.2627095\ttotal: 15.9s\tremaining: 30.3s\n",
      "482:\tlearn: 0.2625870\ttotal: 15.9s\tremaining: 30.3s\n",
      "483:\tlearn: 0.2624490\ttotal: 16s\tremaining: 30.2s\n",
      "484:\tlearn: 0.2624013\ttotal: 16s\tremaining: 30.2s\n",
      "485:\tlearn: 0.2623146\ttotal: 16.1s\tremaining: 30.2s\n",
      "486:\tlearn: 0.2621824\ttotal: 16.1s\tremaining: 30.2s\n",
      "487:\tlearn: 0.2621403\ttotal: 16.1s\tremaining: 30.1s\n",
      "488:\tlearn: 0.2621278\ttotal: 16.2s\tremaining: 30.1s\n",
      "489:\tlearn: 0.2621192\ttotal: 16.2s\tremaining: 30.1s\n",
      "490:\tlearn: 0.2621043\ttotal: 16.2s\tremaining: 30s\n",
      "491:\tlearn: 0.2619176\ttotal: 16.3s\tremaining: 30s\n",
      "492:\tlearn: 0.2616282\ttotal: 16.3s\tremaining: 30s\n",
      "493:\tlearn: 0.2615702\ttotal: 16.3s\tremaining: 30s\n",
      "494:\tlearn: 0.2614319\ttotal: 16.4s\tremaining: 29.9s\n",
      "495:\tlearn: 0.2613512\ttotal: 16.4s\tremaining: 29.9s\n",
      "496:\tlearn: 0.2612964\ttotal: 16.4s\tremaining: 29.9s\n",
      "497:\tlearn: 0.2612753\ttotal: 16.5s\tremaining: 29.8s\n",
      "498:\tlearn: 0.2611463\ttotal: 16.5s\tremaining: 29.8s\n",
      "499:\tlearn: 0.2608525\ttotal: 16.5s\tremaining: 29.8s\n",
      "500:\tlearn: 0.2607488\ttotal: 16.6s\tremaining: 29.7s\n",
      "501:\tlearn: 0.2606975\ttotal: 16.6s\tremaining: 29.7s\n",
      "502:\tlearn: 0.2606714\ttotal: 16.6s\tremaining: 29.7s\n",
      "503:\tlearn: 0.2605470\ttotal: 16.7s\tremaining: 29.7s\n",
      "504:\tlearn: 0.2603653\ttotal: 16.7s\tremaining: 29.6s\n",
      "505:\tlearn: 0.2602720\ttotal: 16.7s\tremaining: 29.6s\n",
      "506:\tlearn: 0.2602268\ttotal: 16.8s\tremaining: 29.6s\n",
      "507:\tlearn: 0.2601811\ttotal: 16.8s\tremaining: 29.6s\n",
      "508:\tlearn: 0.2601358\ttotal: 16.9s\tremaining: 29.5s\n",
      "509:\tlearn: 0.2600880\ttotal: 16.9s\tremaining: 29.5s\n",
      "510:\tlearn: 0.2598446\ttotal: 16.9s\tremaining: 29.5s\n",
      "511:\tlearn: 0.2597744\ttotal: 17s\tremaining: 29.4s\n",
      "512:\tlearn: 0.2597381\ttotal: 17s\tremaining: 29.4s\n",
      "513:\tlearn: 0.2595850\ttotal: 17s\tremaining: 29.4s\n",
      "514:\tlearn: 0.2595296\ttotal: 17.1s\tremaining: 29.3s\n",
      "515:\tlearn: 0.2594881\ttotal: 17.1s\tremaining: 29.3s\n",
      "516:\tlearn: 0.2593318\ttotal: 17.1s\tremaining: 29.3s\n",
      "517:\tlearn: 0.2589607\ttotal: 17.2s\tremaining: 29.3s\n",
      "518:\tlearn: 0.2588206\ttotal: 17.2s\tremaining: 29.2s\n",
      "519:\tlearn: 0.2586982\ttotal: 17.2s\tremaining: 29.2s\n",
      "520:\tlearn: 0.2586512\ttotal: 17.3s\tremaining: 29.2s\n",
      "521:\tlearn: 0.2586203\ttotal: 17.3s\tremaining: 29.1s\n",
      "522:\tlearn: 0.2585633\ttotal: 17.3s\tremaining: 29.1s\n",
      "523:\tlearn: 0.2584873\ttotal: 17.4s\tremaining: 29.1s\n",
      "524:\tlearn: 0.2584338\ttotal: 17.4s\tremaining: 29s\n",
      "525:\tlearn: 0.2581584\ttotal: 17.5s\tremaining: 29s\n",
      "526:\tlearn: 0.2581505\ttotal: 17.5s\tremaining: 29s\n",
      "527:\tlearn: 0.2581072\ttotal: 17.5s\tremaining: 28.9s\n",
      "528:\tlearn: 0.2579898\ttotal: 17.6s\tremaining: 28.9s\n",
      "529:\tlearn: 0.2578596\ttotal: 17.6s\tremaining: 28.9s\n",
      "530:\tlearn: 0.2576548\ttotal: 17.6s\tremaining: 28.8s\n",
      "531:\tlearn: 0.2573172\ttotal: 17.7s\tremaining: 28.8s\n",
      "532:\tlearn: 0.2572738\ttotal: 17.7s\tremaining: 28.8s\n",
      "533:\tlearn: 0.2572277\ttotal: 17.7s\tremaining: 28.8s\n",
      "534:\tlearn: 0.2571377\ttotal: 17.8s\tremaining: 28.7s\n",
      "535:\tlearn: 0.2570782\ttotal: 17.8s\tremaining: 28.7s\n",
      "536:\tlearn: 0.2568884\ttotal: 17.8s\tremaining: 28.7s\n",
      "537:\tlearn: 0.2567087\ttotal: 17.9s\tremaining: 28.6s\n",
      "538:\tlearn: 0.2565387\ttotal: 17.9s\tremaining: 28.6s\n",
      "539:\tlearn: 0.2564471\ttotal: 17.9s\tremaining: 28.6s\n",
      "540:\tlearn: 0.2563533\ttotal: 18s\tremaining: 28.5s\n",
      "541:\tlearn: 0.2560969\ttotal: 18s\tremaining: 28.5s\n",
      "542:\tlearn: 0.2560434\ttotal: 18s\tremaining: 28.5s\n",
      "543:\tlearn: 0.2559709\ttotal: 18.1s\tremaining: 28.4s\n",
      "544:\tlearn: 0.2559491\ttotal: 18.1s\tremaining: 28.4s\n",
      "545:\tlearn: 0.2558949\ttotal: 18.1s\tremaining: 28.4s\n",
      "546:\tlearn: 0.2558350\ttotal: 18.2s\tremaining: 28.4s\n",
      "547:\tlearn: 0.2557460\ttotal: 18.2s\tremaining: 28.3s\n",
      "548:\tlearn: 0.2557240\ttotal: 18.2s\tremaining: 28.3s\n",
      "549:\tlearn: 0.2556652\ttotal: 18.3s\tremaining: 28.3s\n",
      "550:\tlearn: 0.2555321\ttotal: 18.3s\tremaining: 28.2s\n",
      "551:\tlearn: 0.2554775\ttotal: 18.4s\tremaining: 28.2s\n",
      "552:\tlearn: 0.2553554\ttotal: 18.4s\tremaining: 28.2s\n",
      "553:\tlearn: 0.2552725\ttotal: 18.4s\tremaining: 28.1s\n",
      "554:\tlearn: 0.2549532\ttotal: 18.5s\tremaining: 28.1s\n",
      "555:\tlearn: 0.2547683\ttotal: 18.5s\tremaining: 28.1s\n",
      "556:\tlearn: 0.2547123\ttotal: 18.5s\tremaining: 28s\n",
      "557:\tlearn: 0.2544728\ttotal: 18.6s\tremaining: 28s\n",
      "558:\tlearn: 0.2543725\ttotal: 18.6s\tremaining: 28s\n",
      "559:\tlearn: 0.2543329\ttotal: 18.6s\tremaining: 27.9s\n",
      "560:\tlearn: 0.2542069\ttotal: 18.7s\tremaining: 27.9s\n",
      "561:\tlearn: 0.2540561\ttotal: 18.7s\tremaining: 27.9s\n",
      "562:\tlearn: 0.2539815\ttotal: 18.7s\tremaining: 27.8s\n",
      "563:\tlearn: 0.2539284\ttotal: 18.8s\tremaining: 27.8s\n",
      "564:\tlearn: 0.2538177\ttotal: 18.8s\tremaining: 27.8s\n",
      "565:\tlearn: 0.2535747\ttotal: 18.8s\tremaining: 27.7s\n",
      "566:\tlearn: 0.2535223\ttotal: 18.9s\tremaining: 27.7s\n",
      "567:\tlearn: 0.2534881\ttotal: 18.9s\tremaining: 27.7s\n",
      "568:\tlearn: 0.2534086\ttotal: 18.9s\tremaining: 27.7s\n",
      "569:\tlearn: 0.2533349\ttotal: 19s\tremaining: 27.6s\n",
      "570:\tlearn: 0.2532789\ttotal: 19s\tremaining: 27.6s\n",
      "571:\tlearn: 0.2531949\ttotal: 19s\tremaining: 27.6s\n",
      "572:\tlearn: 0.2531139\ttotal: 19.1s\tremaining: 27.5s\n",
      "573:\tlearn: 0.2528903\ttotal: 19.1s\tremaining: 27.5s\n",
      "574:\tlearn: 0.2525783\ttotal: 19.2s\tremaining: 27.5s\n",
      "575:\tlearn: 0.2525279\ttotal: 19.2s\tremaining: 27.5s\n",
      "576:\tlearn: 0.2524112\ttotal: 19.2s\tremaining: 27.4s\n",
      "577:\tlearn: 0.2524051\ttotal: 19.3s\tremaining: 27.4s\n",
      "578:\tlearn: 0.2522701\ttotal: 19.3s\tremaining: 27.4s\n",
      "579:\tlearn: 0.2522382\ttotal: 19.3s\tremaining: 27.4s\n",
      "580:\tlearn: 0.2521680\ttotal: 19.4s\tremaining: 27.3s\n",
      "581:\tlearn: 0.2517084\ttotal: 19.4s\tremaining: 27.3s\n",
      "582:\tlearn: 0.2517025\ttotal: 19.4s\tremaining: 27.3s\n",
      "583:\tlearn: 0.2515751\ttotal: 19.5s\tremaining: 27.2s\n",
      "584:\tlearn: 0.2512820\ttotal: 19.6s\tremaining: 27.2s\n",
      "585:\tlearn: 0.2511736\ttotal: 19.6s\tremaining: 27.2s\n",
      "586:\tlearn: 0.2511463\ttotal: 19.6s\tremaining: 27.2s\n",
      "587:\tlearn: 0.2510387\ttotal: 19.7s\tremaining: 27.1s\n",
      "588:\tlearn: 0.2510126\ttotal: 19.7s\tremaining: 27.1s\n",
      "589:\tlearn: 0.2509733\ttotal: 19.7s\tremaining: 27.1s\n",
      "590:\tlearn: 0.2507232\ttotal: 19.8s\tremaining: 27s\n",
      "591:\tlearn: 0.2506385\ttotal: 19.8s\tremaining: 27s\n",
      "592:\tlearn: 0.2506095\ttotal: 19.8s\tremaining: 27s\n",
      "593:\tlearn: 0.2505325\ttotal: 19.9s\tremaining: 26.9s\n",
      "594:\tlearn: 0.2504131\ttotal: 19.9s\tremaining: 26.9s\n",
      "595:\tlearn: 0.2503243\ttotal: 19.9s\tremaining: 26.9s\n",
      "596:\tlearn: 0.2501964\ttotal: 20s\tremaining: 26.8s\n",
      "597:\tlearn: 0.2501799\ttotal: 20s\tremaining: 26.8s\n",
      "598:\tlearn: 0.2501747\ttotal: 20s\tremaining: 26.8s\n",
      "599:\tlearn: 0.2501499\ttotal: 20.1s\tremaining: 26.7s\n",
      "600:\tlearn: 0.2501232\ttotal: 20.1s\tremaining: 26.7s\n",
      "601:\tlearn: 0.2500823\ttotal: 20.1s\tremaining: 26.7s\n",
      "602:\tlearn: 0.2500411\ttotal: 20.2s\tremaining: 26.6s\n",
      "603:\tlearn: 0.2497693\ttotal: 20.2s\tremaining: 26.6s\n",
      "604:\tlearn: 0.2497125\ttotal: 20.2s\tremaining: 26.6s\n",
      "605:\tlearn: 0.2494961\ttotal: 20.3s\tremaining: 26.6s\n",
      "606:\tlearn: 0.2494582\ttotal: 20.3s\tremaining: 26.5s\n",
      "607:\tlearn: 0.2492814\ttotal: 20.3s\tremaining: 26.5s\n",
      "608:\tlearn: 0.2491753\ttotal: 20.4s\tremaining: 26.5s\n",
      "609:\tlearn: 0.2490849\ttotal: 20.4s\tremaining: 26.4s\n",
      "610:\tlearn: 0.2489751\ttotal: 20.4s\tremaining: 26.4s\n",
      "611:\tlearn: 0.2487513\ttotal: 20.5s\tremaining: 26.4s\n",
      "612:\tlearn: 0.2486490\ttotal: 20.5s\tremaining: 26.3s\n",
      "613:\tlearn: 0.2485565\ttotal: 20.5s\tremaining: 26.3s\n",
      "614:\tlearn: 0.2485123\ttotal: 20.6s\tremaining: 26.3s\n",
      "615:\tlearn: 0.2484002\ttotal: 20.6s\tremaining: 26.2s\n",
      "616:\tlearn: 0.2482742\ttotal: 20.6s\tremaining: 26.2s\n",
      "617:\tlearn: 0.2481924\ttotal: 20.7s\tremaining: 26.2s\n",
      "618:\tlearn: 0.2481763\ttotal: 20.7s\tremaining: 26.1s\n",
      "619:\tlearn: 0.2481548\ttotal: 20.8s\tremaining: 26.1s\n",
      "620:\tlearn: 0.2480660\ttotal: 20.8s\tremaining: 26.1s\n",
      "621:\tlearn: 0.2478745\ttotal: 20.8s\tremaining: 26s\n",
      "622:\tlearn: 0.2477894\ttotal: 20.9s\tremaining: 26s\n",
      "623:\tlearn: 0.2477398\ttotal: 20.9s\tremaining: 26s\n",
      "624:\tlearn: 0.2476453\ttotal: 20.9s\tremaining: 25.9s\n",
      "625:\tlearn: 0.2471679\ttotal: 21s\tremaining: 25.9s\n",
      "626:\tlearn: 0.2471146\ttotal: 21s\tremaining: 25.9s\n",
      "627:\tlearn: 0.2470267\ttotal: 21s\tremaining: 25.9s\n",
      "628:\tlearn: 0.2469153\ttotal: 21.1s\tremaining: 25.8s\n",
      "629:\tlearn: 0.2468809\ttotal: 21.1s\tremaining: 25.8s\n",
      "630:\tlearn: 0.2467847\ttotal: 21.1s\tremaining: 25.8s\n",
      "631:\tlearn: 0.2467228\ttotal: 21.2s\tremaining: 25.7s\n",
      "632:\tlearn: 0.2465090\ttotal: 21.2s\tremaining: 25.7s\n",
      "633:\tlearn: 0.2464798\ttotal: 21.3s\tremaining: 25.7s\n",
      "634:\tlearn: 0.2463718\ttotal: 21.3s\tremaining: 25.6s\n",
      "635:\tlearn: 0.2461668\ttotal: 21.3s\tremaining: 25.6s\n",
      "636:\tlearn: 0.2460588\ttotal: 21.4s\tremaining: 25.6s\n",
      "637:\tlearn: 0.2458161\ttotal: 21.4s\tremaining: 25.6s\n",
      "638:\tlearn: 0.2457104\ttotal: 21.4s\tremaining: 25.5s\n",
      "639:\tlearn: 0.2456575\ttotal: 21.5s\tremaining: 25.5s\n",
      "640:\tlearn: 0.2456023\ttotal: 21.5s\tremaining: 25.5s\n",
      "641:\tlearn: 0.2452341\ttotal: 21.5s\tremaining: 25.4s\n",
      "642:\tlearn: 0.2452079\ttotal: 21.6s\tremaining: 25.4s\n",
      "643:\tlearn: 0.2451784\ttotal: 21.6s\tremaining: 25.4s\n",
      "644:\tlearn: 0.2451319\ttotal: 21.6s\tremaining: 25.3s\n",
      "645:\tlearn: 0.2450604\ttotal: 21.7s\tremaining: 25.3s\n",
      "646:\tlearn: 0.2449861\ttotal: 21.7s\tremaining: 25.3s\n",
      "647:\tlearn: 0.2448465\ttotal: 21.7s\tremaining: 25.2s\n",
      "648:\tlearn: 0.2447331\ttotal: 21.8s\tremaining: 25.2s\n",
      "649:\tlearn: 0.2446720\ttotal: 21.8s\tremaining: 25.2s\n",
      "650:\tlearn: 0.2445968\ttotal: 21.9s\tremaining: 25.1s\n",
      "651:\tlearn: 0.2445013\ttotal: 21.9s\tremaining: 25.1s\n",
      "652:\tlearn: 0.2444480\ttotal: 21.9s\tremaining: 25.1s\n",
      "653:\tlearn: 0.2443001\ttotal: 22s\tremaining: 25s\n",
      "654:\tlearn: 0.2440575\ttotal: 22s\tremaining: 25s\n",
      "655:\tlearn: 0.2439924\ttotal: 22s\tremaining: 25s\n",
      "656:\tlearn: 0.2439338\ttotal: 22.1s\tremaining: 25s\n",
      "657:\tlearn: 0.2437394\ttotal: 22.1s\tremaining: 24.9s\n",
      "658:\tlearn: 0.2436569\ttotal: 22.1s\tremaining: 24.9s\n",
      "659:\tlearn: 0.2435733\ttotal: 22.2s\tremaining: 24.9s\n",
      "660:\tlearn: 0.2435237\ttotal: 22.2s\tremaining: 24.8s\n",
      "661:\tlearn: 0.2433412\ttotal: 22.3s\tremaining: 24.8s\n",
      "662:\tlearn: 0.2431384\ttotal: 22.3s\tremaining: 24.8s\n",
      "663:\tlearn: 0.2430637\ttotal: 22.3s\tremaining: 24.7s\n",
      "664:\tlearn: 0.2429065\ttotal: 22.4s\tremaining: 24.7s\n",
      "665:\tlearn: 0.2428647\ttotal: 22.4s\tremaining: 24.7s\n",
      "666:\tlearn: 0.2427850\ttotal: 22.4s\tremaining: 24.6s\n",
      "667:\tlearn: 0.2427620\ttotal: 22.5s\tremaining: 24.6s\n",
      "668:\tlearn: 0.2426314\ttotal: 22.5s\tremaining: 24.6s\n",
      "669:\tlearn: 0.2425686\ttotal: 22.5s\tremaining: 24.6s\n",
      "670:\tlearn: 0.2424650\ttotal: 22.6s\tremaining: 24.5s\n",
      "671:\tlearn: 0.2420058\ttotal: 22.6s\tremaining: 24.5s\n",
      "672:\tlearn: 0.2417979\ttotal: 22.7s\tremaining: 24.5s\n",
      "673:\tlearn: 0.2417178\ttotal: 22.7s\tremaining: 24.4s\n",
      "674:\tlearn: 0.2416844\ttotal: 22.7s\tremaining: 24.4s\n",
      "675:\tlearn: 0.2416267\ttotal: 22.8s\tremaining: 24.4s\n",
      "676:\tlearn: 0.2414937\ttotal: 22.8s\tremaining: 24.3s\n",
      "677:\tlearn: 0.2414209\ttotal: 22.8s\tremaining: 24.3s\n",
      "678:\tlearn: 0.2413055\ttotal: 22.9s\tremaining: 24.3s\n",
      "679:\tlearn: 0.2412491\ttotal: 22.9s\tremaining: 24.2s\n",
      "680:\tlearn: 0.2412098\ttotal: 22.9s\tremaining: 24.2s\n",
      "681:\tlearn: 0.2410164\ttotal: 23s\tremaining: 24.2s\n",
      "682:\tlearn: 0.2406299\ttotal: 23s\tremaining: 24.1s\n",
      "683:\tlearn: 0.2405016\ttotal: 23s\tremaining: 24.1s\n",
      "684:\tlearn: 0.2403934\ttotal: 23.1s\tremaining: 24.1s\n",
      "685:\tlearn: 0.2402973\ttotal: 23.1s\tremaining: 24.1s\n",
      "686:\tlearn: 0.2400085\ttotal: 23.2s\tremaining: 24s\n",
      "687:\tlearn: 0.2398481\ttotal: 23.2s\tremaining: 24s\n",
      "688:\tlearn: 0.2398032\ttotal: 23.2s\tremaining: 24s\n",
      "689:\tlearn: 0.2396899\ttotal: 23.3s\tremaining: 23.9s\n",
      "690:\tlearn: 0.2394383\ttotal: 23.3s\tremaining: 23.9s\n",
      "691:\tlearn: 0.2392057\ttotal: 23.3s\tremaining: 23.9s\n",
      "692:\tlearn: 0.2389168\ttotal: 23.4s\tremaining: 23.8s\n",
      "693:\tlearn: 0.2388146\ttotal: 23.4s\tremaining: 23.8s\n",
      "694:\tlearn: 0.2386307\ttotal: 23.4s\tremaining: 23.8s\n",
      "695:\tlearn: 0.2385778\ttotal: 23.5s\tremaining: 23.7s\n",
      "696:\tlearn: 0.2385091\ttotal: 23.5s\tremaining: 23.7s\n",
      "697:\tlearn: 0.2384857\ttotal: 23.5s\tremaining: 23.7s\n",
      "698:\tlearn: 0.2383040\ttotal: 23.6s\tremaining: 23.6s\n",
      "699:\tlearn: 0.2382915\ttotal: 23.6s\tremaining: 23.6s\n",
      "700:\tlearn: 0.2381905\ttotal: 23.6s\tremaining: 23.6s\n",
      "701:\tlearn: 0.2380970\ttotal: 23.7s\tremaining: 23.5s\n",
      "702:\tlearn: 0.2379754\ttotal: 23.7s\tremaining: 23.5s\n",
      "703:\tlearn: 0.2378883\ttotal: 23.7s\tremaining: 23.5s\n",
      "704:\tlearn: 0.2378170\ttotal: 23.8s\tremaining: 23.4s\n",
      "705:\tlearn: 0.2377198\ttotal: 23.8s\tremaining: 23.4s\n",
      "706:\tlearn: 0.2376145\ttotal: 23.8s\tremaining: 23.4s\n",
      "707:\tlearn: 0.2374439\ttotal: 23.9s\tremaining: 23.3s\n",
      "708:\tlearn: 0.2373827\ttotal: 23.9s\tremaining: 23.3s\n",
      "709:\tlearn: 0.2373096\ttotal: 23.9s\tremaining: 23.3s\n",
      "710:\tlearn: 0.2372946\ttotal: 24s\tremaining: 23.2s\n",
      "711:\tlearn: 0.2372292\ttotal: 24s\tremaining: 23.2s\n",
      "712:\tlearn: 0.2371789\ttotal: 24s\tremaining: 23.2s\n",
      "713:\tlearn: 0.2370243\ttotal: 24.1s\tremaining: 23.1s\n",
      "714:\tlearn: 0.2366713\ttotal: 24.1s\tremaining: 23.1s\n",
      "715:\tlearn: 0.2365632\ttotal: 24.1s\tremaining: 23.1s\n",
      "716:\tlearn: 0.2364801\ttotal: 24.2s\tremaining: 23s\n",
      "717:\tlearn: 0.2364398\ttotal: 24.2s\tremaining: 23s\n",
      "718:\tlearn: 0.2363947\ttotal: 24.3s\tremaining: 23s\n",
      "719:\tlearn: 0.2362351\ttotal: 24.3s\tremaining: 22.9s\n",
      "720:\tlearn: 0.2362150\ttotal: 24.3s\tremaining: 22.9s\n",
      "721:\tlearn: 0.2361924\ttotal: 24.4s\tremaining: 22.9s\n",
      "722:\tlearn: 0.2361165\ttotal: 24.4s\tremaining: 22.9s\n",
      "723:\tlearn: 0.2360309\ttotal: 24.4s\tremaining: 22.8s\n",
      "724:\tlearn: 0.2359564\ttotal: 24.5s\tremaining: 22.8s\n",
      "725:\tlearn: 0.2359293\ttotal: 24.5s\tremaining: 22.8s\n",
      "726:\tlearn: 0.2358583\ttotal: 24.5s\tremaining: 22.7s\n",
      "727:\tlearn: 0.2357800\ttotal: 24.6s\tremaining: 22.7s\n",
      "728:\tlearn: 0.2357172\ttotal: 24.6s\tremaining: 22.7s\n",
      "729:\tlearn: 0.2356048\ttotal: 24.7s\tremaining: 22.6s\n",
      "730:\tlearn: 0.2351870\ttotal: 24.7s\tremaining: 22.6s\n",
      "731:\tlearn: 0.2349226\ttotal: 24.7s\tremaining: 22.6s\n",
      "732:\tlearn: 0.2348632\ttotal: 24.8s\tremaining: 22.5s\n",
      "733:\tlearn: 0.2346295\ttotal: 24.8s\tremaining: 22.5s\n",
      "734:\tlearn: 0.2345676\ttotal: 24.9s\tremaining: 22.5s\n",
      "735:\tlearn: 0.2345438\ttotal: 24.9s\tremaining: 22.4s\n",
      "736:\tlearn: 0.2345247\ttotal: 24.9s\tremaining: 22.4s\n",
      "737:\tlearn: 0.2343671\ttotal: 25s\tremaining: 22.4s\n",
      "738:\tlearn: 0.2343483\ttotal: 25s\tremaining: 22.4s\n",
      "739:\tlearn: 0.2343009\ttotal: 25s\tremaining: 22.3s\n",
      "740:\tlearn: 0.2342669\ttotal: 25.1s\tremaining: 22.3s\n",
      "741:\tlearn: 0.2340514\ttotal: 25.1s\tremaining: 22.2s\n",
      "742:\tlearn: 0.2340091\ttotal: 25.1s\tremaining: 22.2s\n",
      "743:\tlearn: 0.2339985\ttotal: 25.2s\tremaining: 22.2s\n",
      "744:\tlearn: 0.2337137\ttotal: 25.2s\tremaining: 22.1s\n",
      "745:\tlearn: 0.2333851\ttotal: 25.2s\tremaining: 22.1s\n",
      "746:\tlearn: 0.2333089\ttotal: 25.3s\tremaining: 22.1s\n",
      "747:\tlearn: 0.2332605\ttotal: 25.3s\tremaining: 22s\n",
      "748:\tlearn: 0.2332075\ttotal: 25.3s\tremaining: 22s\n",
      "749:\tlearn: 0.2331788\ttotal: 25.4s\tremaining: 22s\n",
      "750:\tlearn: 0.2330107\ttotal: 25.4s\tremaining: 21.9s\n",
      "751:\tlearn: 0.2329052\ttotal: 25.4s\tremaining: 21.9s\n",
      "752:\tlearn: 0.2328593\ttotal: 25.5s\tremaining: 21.9s\n",
      "753:\tlearn: 0.2328126\ttotal: 25.5s\tremaining: 21.9s\n",
      "754:\tlearn: 0.2327311\ttotal: 25.5s\tremaining: 21.8s\n",
      "755:\tlearn: 0.2326461\ttotal: 25.6s\tremaining: 21.8s\n",
      "756:\tlearn: 0.2326016\ttotal: 25.6s\tremaining: 21.8s\n",
      "757:\tlearn: 0.2325166\ttotal: 25.6s\tremaining: 21.7s\n",
      "758:\tlearn: 0.2323769\ttotal: 25.7s\tremaining: 21.7s\n",
      "759:\tlearn: 0.2323234\ttotal: 25.7s\tremaining: 21.7s\n",
      "760:\tlearn: 0.2322651\ttotal: 25.7s\tremaining: 21.6s\n",
      "761:\tlearn: 0.2320998\ttotal: 25.8s\tremaining: 21.6s\n",
      "762:\tlearn: 0.2320601\ttotal: 25.8s\tremaining: 21.6s\n",
      "763:\tlearn: 0.2319682\ttotal: 25.8s\tremaining: 21.5s\n",
      "764:\tlearn: 0.2319047\ttotal: 25.9s\tremaining: 21.5s\n",
      "765:\tlearn: 0.2318952\ttotal: 25.9s\tremaining: 21.5s\n",
      "766:\tlearn: 0.2318174\ttotal: 26s\tremaining: 21.4s\n",
      "767:\tlearn: 0.2313960\ttotal: 26s\tremaining: 21.4s\n",
      "768:\tlearn: 0.2313376\ttotal: 26s\tremaining: 21.4s\n",
      "769:\tlearn: 0.2312820\ttotal: 26.1s\tremaining: 21.3s\n",
      "770:\tlearn: 0.2312410\ttotal: 26.1s\tremaining: 21.3s\n",
      "771:\tlearn: 0.2312179\ttotal: 26.1s\tremaining: 21.3s\n",
      "772:\tlearn: 0.2311753\ttotal: 26.2s\tremaining: 21.2s\n",
      "773:\tlearn: 0.2307791\ttotal: 26.2s\tremaining: 21.2s\n",
      "774:\tlearn: 0.2306933\ttotal: 26.2s\tremaining: 21.2s\n",
      "775:\tlearn: 0.2306203\ttotal: 26.3s\tremaining: 21.1s\n",
      "776:\tlearn: 0.2305820\ttotal: 26.3s\tremaining: 21.1s\n",
      "777:\tlearn: 0.2301562\ttotal: 26.3s\tremaining: 21.1s\n",
      "778:\tlearn: 0.2301161\ttotal: 26.4s\tremaining: 21s\n",
      "779:\tlearn: 0.2300787\ttotal: 26.4s\tremaining: 21s\n",
      "780:\tlearn: 0.2299946\ttotal: 26.4s\tremaining: 21s\n",
      "781:\tlearn: 0.2296348\ttotal: 26.5s\tremaining: 20.9s\n",
      "782:\tlearn: 0.2295840\ttotal: 26.5s\tremaining: 20.9s\n",
      "783:\tlearn: 0.2295435\ttotal: 26.5s\tremaining: 20.9s\n",
      "784:\tlearn: 0.2294525\ttotal: 26.6s\tremaining: 20.8s\n",
      "785:\tlearn: 0.2293143\ttotal: 26.6s\tremaining: 20.8s\n",
      "786:\tlearn: 0.2292385\ttotal: 26.7s\tremaining: 20.8s\n",
      "787:\tlearn: 0.2291625\ttotal: 26.7s\tremaining: 20.7s\n",
      "788:\tlearn: 0.2290081\ttotal: 26.7s\tremaining: 20.7s\n",
      "789:\tlearn: 0.2289364\ttotal: 26.8s\tremaining: 20.7s\n",
      "790:\tlearn: 0.2288787\ttotal: 26.8s\tremaining: 20.6s\n",
      "791:\tlearn: 0.2286765\ttotal: 26.8s\tremaining: 20.6s\n",
      "792:\tlearn: 0.2283734\ttotal: 26.9s\tremaining: 20.6s\n",
      "793:\tlearn: 0.2283325\ttotal: 26.9s\tremaining: 20.5s\n",
      "794:\tlearn: 0.2281952\ttotal: 26.9s\tremaining: 20.5s\n",
      "795:\tlearn: 0.2280741\ttotal: 27s\tremaining: 20.5s\n",
      "796:\tlearn: 0.2279340\ttotal: 27s\tremaining: 20.4s\n",
      "797:\tlearn: 0.2278514\ttotal: 27s\tremaining: 20.4s\n",
      "798:\tlearn: 0.2278090\ttotal: 27.1s\tremaining: 20.4s\n",
      "799:\tlearn: 0.2276415\ttotal: 27.1s\tremaining: 20.3s\n",
      "800:\tlearn: 0.2276040\ttotal: 27.1s\tremaining: 20.3s\n",
      "801:\tlearn: 0.2273750\ttotal: 27.2s\tremaining: 20.3s\n",
      "802:\tlearn: 0.2273252\ttotal: 27.2s\tremaining: 20.2s\n",
      "803:\tlearn: 0.2271781\ttotal: 27.2s\tremaining: 20.2s\n",
      "804:\tlearn: 0.2271638\ttotal: 27.3s\tremaining: 20.2s\n",
      "805:\tlearn: 0.2270819\ttotal: 27.3s\tremaining: 20.1s\n",
      "806:\tlearn: 0.2268518\ttotal: 27.4s\tremaining: 20.1s\n",
      "807:\tlearn: 0.2267547\ttotal: 27.4s\tremaining: 20.1s\n",
      "808:\tlearn: 0.2266938\ttotal: 27.4s\tremaining: 20s\n",
      "809:\tlearn: 0.2264938\ttotal: 27.5s\tremaining: 20s\n",
      "810:\tlearn: 0.2261900\ttotal: 27.5s\tremaining: 20s\n",
      "811:\tlearn: 0.2260561\ttotal: 27.5s\tremaining: 19.9s\n",
      "812:\tlearn: 0.2260025\ttotal: 27.6s\tremaining: 19.9s\n",
      "813:\tlearn: 0.2259729\ttotal: 27.6s\tremaining: 19.9s\n",
      "814:\tlearn: 0.2259115\ttotal: 27.7s\tremaining: 19.9s\n",
      "815:\tlearn: 0.2257238\ttotal: 27.7s\tremaining: 19.8s\n",
      "816:\tlearn: 0.2254514\ttotal: 27.7s\tremaining: 19.8s\n",
      "817:\tlearn: 0.2253679\ttotal: 27.8s\tremaining: 19.8s\n",
      "818:\tlearn: 0.2251288\ttotal: 27.8s\tremaining: 19.7s\n",
      "819:\tlearn: 0.2248947\ttotal: 27.8s\tremaining: 19.7s\n",
      "820:\tlearn: 0.2247524\ttotal: 27.9s\tremaining: 19.6s\n",
      "821:\tlearn: 0.2247228\ttotal: 27.9s\tremaining: 19.6s\n",
      "822:\tlearn: 0.2245901\ttotal: 27.9s\tremaining: 19.6s\n",
      "823:\tlearn: 0.2245714\ttotal: 28s\tremaining: 19.5s\n",
      "824:\tlearn: 0.2245283\ttotal: 28s\tremaining: 19.5s\n",
      "825:\tlearn: 0.2245095\ttotal: 28s\tremaining: 19.5s\n",
      "826:\tlearn: 0.2244245\ttotal: 28.1s\tremaining: 19.4s\n",
      "827:\tlearn: 0.2243854\ttotal: 28.1s\tremaining: 19.4s\n",
      "828:\tlearn: 0.2243664\ttotal: 28.1s\tremaining: 19.4s\n",
      "829:\tlearn: 0.2243396\ttotal: 28.2s\tremaining: 19.3s\n",
      "830:\tlearn: 0.2243022\ttotal: 28.2s\tremaining: 19.3s\n",
      "831:\tlearn: 0.2242677\ttotal: 28.3s\tremaining: 19.3s\n",
      "832:\tlearn: 0.2241710\ttotal: 28.3s\tremaining: 19.3s\n",
      "833:\tlearn: 0.2241334\ttotal: 28.3s\tremaining: 19.2s\n",
      "834:\tlearn: 0.2240837\ttotal: 28.4s\tremaining: 19.2s\n",
      "835:\tlearn: 0.2240354\ttotal: 28.4s\tremaining: 19.2s\n",
      "836:\tlearn: 0.2240052\ttotal: 28.4s\tremaining: 19.1s\n",
      "837:\tlearn: 0.2239063\ttotal: 28.5s\tremaining: 19.1s\n",
      "838:\tlearn: 0.2236320\ttotal: 28.5s\tremaining: 19.1s\n",
      "839:\tlearn: 0.2236151\ttotal: 28.5s\tremaining: 19s\n",
      "840:\tlearn: 0.2235021\ttotal: 28.6s\tremaining: 19s\n",
      "841:\tlearn: 0.2232277\ttotal: 28.6s\tremaining: 19s\n",
      "842:\tlearn: 0.2231183\ttotal: 28.6s\tremaining: 18.9s\n",
      "843:\tlearn: 0.2228379\ttotal: 28.7s\tremaining: 18.9s\n",
      "844:\tlearn: 0.2227857\ttotal: 28.7s\tremaining: 18.9s\n",
      "845:\tlearn: 0.2225991\ttotal: 28.7s\tremaining: 18.8s\n",
      "846:\tlearn: 0.2224951\ttotal: 28.8s\tremaining: 18.8s\n",
      "847:\tlearn: 0.2223734\ttotal: 28.8s\tremaining: 18.8s\n",
      "848:\tlearn: 0.2222491\ttotal: 28.8s\tremaining: 18.7s\n",
      "849:\tlearn: 0.2222003\ttotal: 28.9s\tremaining: 18.7s\n",
      "850:\tlearn: 0.2221497\ttotal: 28.9s\tremaining: 18.7s\n",
      "851:\tlearn: 0.2220804\ttotal: 28.9s\tremaining: 18.6s\n",
      "852:\tlearn: 0.2218178\ttotal: 29s\tremaining: 18.6s\n",
      "853:\tlearn: 0.2214902\ttotal: 29s\tremaining: 18.6s\n",
      "854:\tlearn: 0.2214698\ttotal: 29.1s\tremaining: 18.5s\n",
      "855:\tlearn: 0.2213730\ttotal: 29.1s\tremaining: 18.5s\n",
      "856:\tlearn: 0.2213240\ttotal: 29.1s\tremaining: 18.4s\n",
      "857:\tlearn: 0.2211095\ttotal: 29.2s\tremaining: 18.4s\n",
      "858:\tlearn: 0.2210709\ttotal: 29.2s\tremaining: 18.4s\n",
      "859:\tlearn: 0.2209955\ttotal: 29.2s\tremaining: 18.4s\n",
      "860:\tlearn: 0.2209223\ttotal: 29.3s\tremaining: 18.3s\n",
      "861:\tlearn: 0.2208510\ttotal: 29.3s\tremaining: 18.3s\n",
      "862:\tlearn: 0.2208272\ttotal: 29.3s\tremaining: 18.2s\n",
      "863:\tlearn: 0.2207320\ttotal: 29.4s\tremaining: 18.2s\n",
      "864:\tlearn: 0.2205298\ttotal: 29.4s\tremaining: 18.2s\n",
      "865:\tlearn: 0.2204778\ttotal: 29.4s\tremaining: 18.1s\n",
      "866:\tlearn: 0.2204460\ttotal: 29.5s\tremaining: 18.1s\n",
      "867:\tlearn: 0.2204140\ttotal: 29.5s\tremaining: 18.1s\n",
      "868:\tlearn: 0.2203658\ttotal: 29.5s\tremaining: 18s\n",
      "869:\tlearn: 0.2202605\ttotal: 29.6s\tremaining: 18s\n",
      "870:\tlearn: 0.2202359\ttotal: 29.6s\tremaining: 18s\n",
      "871:\tlearn: 0.2200889\ttotal: 29.6s\tremaining: 17.9s\n",
      "872:\tlearn: 0.2200058\ttotal: 29.7s\tremaining: 17.9s\n",
      "873:\tlearn: 0.2199206\ttotal: 29.7s\tremaining: 17.9s\n",
      "874:\tlearn: 0.2198879\ttotal: 29.7s\tremaining: 17.8s\n",
      "875:\tlearn: 0.2197643\ttotal: 29.8s\tremaining: 17.8s\n",
      "876:\tlearn: 0.2197478\ttotal: 29.8s\tremaining: 17.8s\n",
      "877:\tlearn: 0.2196887\ttotal: 29.8s\tremaining: 17.7s\n",
      "878:\tlearn: 0.2194850\ttotal: 29.9s\tremaining: 17.7s\n",
      "879:\tlearn: 0.2192773\ttotal: 29.9s\tremaining: 17.7s\n",
      "880:\tlearn: 0.2192293\ttotal: 30s\tremaining: 17.6s\n",
      "881:\tlearn: 0.2191274\ttotal: 30s\tremaining: 17.6s\n",
      "882:\tlearn: 0.2189384\ttotal: 30s\tremaining: 17.6s\n",
      "883:\tlearn: 0.2188688\ttotal: 30.1s\tremaining: 17.5s\n",
      "884:\tlearn: 0.2187947\ttotal: 30.1s\tremaining: 17.5s\n",
      "885:\tlearn: 0.2184738\ttotal: 30.1s\tremaining: 17.5s\n",
      "886:\tlearn: 0.2183803\ttotal: 30.2s\tremaining: 17.4s\n",
      "887:\tlearn: 0.2183440\ttotal: 30.2s\tremaining: 17.4s\n",
      "888:\tlearn: 0.2182994\ttotal: 30.2s\tremaining: 17.4s\n",
      "889:\tlearn: 0.2182021\ttotal: 30.3s\tremaining: 17.3s\n",
      "890:\tlearn: 0.2181904\ttotal: 30.3s\tremaining: 17.3s\n",
      "891:\tlearn: 0.2180980\ttotal: 30.3s\tremaining: 17.3s\n",
      "892:\tlearn: 0.2180061\ttotal: 30.4s\tremaining: 17.2s\n",
      "893:\tlearn: 0.2179745\ttotal: 30.4s\tremaining: 17.2s\n",
      "894:\tlearn: 0.2177867\ttotal: 30.4s\tremaining: 17.2s\n",
      "895:\tlearn: 0.2177325\ttotal: 30.5s\tremaining: 17.1s\n",
      "896:\tlearn: 0.2176336\ttotal: 30.5s\tremaining: 17.1s\n",
      "897:\tlearn: 0.2174705\ttotal: 30.5s\tremaining: 17.1s\n",
      "898:\tlearn: 0.2173374\ttotal: 30.6s\tremaining: 17s\n",
      "899:\tlearn: 0.2172721\ttotal: 30.6s\tremaining: 17s\n",
      "900:\tlearn: 0.2169475\ttotal: 30.6s\tremaining: 17s\n",
      "901:\tlearn: 0.2168859\ttotal: 30.7s\tremaining: 16.9s\n",
      "902:\tlearn: 0.2166978\ttotal: 30.7s\tremaining: 16.9s\n",
      "903:\tlearn: 0.2163262\ttotal: 30.8s\tremaining: 16.9s\n",
      "904:\tlearn: 0.2162595\ttotal: 30.8s\tremaining: 16.8s\n",
      "905:\tlearn: 0.2162537\ttotal: 30.8s\tremaining: 16.8s\n",
      "906:\tlearn: 0.2158758\ttotal: 30.9s\tremaining: 16.8s\n",
      "907:\tlearn: 0.2158012\ttotal: 30.9s\tremaining: 16.7s\n",
      "908:\tlearn: 0.2156224\ttotal: 30.9s\tremaining: 16.7s\n",
      "909:\tlearn: 0.2152789\ttotal: 31s\tremaining: 16.7s\n",
      "910:\tlearn: 0.2151480\ttotal: 31s\tremaining: 16.6s\n",
      "911:\tlearn: 0.2151391\ttotal: 31s\tremaining: 16.6s\n",
      "912:\tlearn: 0.2148530\ttotal: 31.1s\tremaining: 16.6s\n",
      "913:\tlearn: 0.2147679\ttotal: 31.1s\tremaining: 16.5s\n",
      "914:\tlearn: 0.2147247\ttotal: 31.1s\tremaining: 16.5s\n",
      "915:\tlearn: 0.2146117\ttotal: 31.2s\tremaining: 16.5s\n",
      "916:\tlearn: 0.2145705\ttotal: 31.2s\tremaining: 16.4s\n",
      "917:\tlearn: 0.2145072\ttotal: 31.2s\tremaining: 16.4s\n",
      "918:\tlearn: 0.2144515\ttotal: 31.3s\tremaining: 16.4s\n",
      "919:\tlearn: 0.2143889\ttotal: 31.3s\tremaining: 16.3s\n",
      "920:\tlearn: 0.2143084\ttotal: 31.3s\tremaining: 16.3s\n",
      "921:\tlearn: 0.2140434\ttotal: 31.4s\tremaining: 16.3s\n",
      "922:\tlearn: 0.2138681\ttotal: 31.4s\tremaining: 16.2s\n",
      "923:\tlearn: 0.2135824\ttotal: 31.4s\tremaining: 16.2s\n",
      "924:\tlearn: 0.2133274\ttotal: 31.5s\tremaining: 16.2s\n",
      "925:\tlearn: 0.2132984\ttotal: 31.5s\tremaining: 16.1s\n",
      "926:\tlearn: 0.2132361\ttotal: 31.6s\tremaining: 16.1s\n",
      "927:\tlearn: 0.2130711\ttotal: 31.6s\tremaining: 16.1s\n",
      "928:\tlearn: 0.2128596\ttotal: 31.6s\tremaining: 16s\n",
      "929:\tlearn: 0.2127842\ttotal: 31.7s\tremaining: 16s\n",
      "930:\tlearn: 0.2127814\ttotal: 31.7s\tremaining: 16s\n",
      "931:\tlearn: 0.2125983\ttotal: 31.7s\tremaining: 15.9s\n",
      "932:\tlearn: 0.2125364\ttotal: 31.8s\tremaining: 15.9s\n",
      "933:\tlearn: 0.2124400\ttotal: 31.8s\tremaining: 15.9s\n",
      "934:\tlearn: 0.2122280\ttotal: 31.8s\tremaining: 15.8s\n",
      "935:\tlearn: 0.2122165\ttotal: 31.9s\tremaining: 15.8s\n",
      "936:\tlearn: 0.2121507\ttotal: 31.9s\tremaining: 15.8s\n",
      "937:\tlearn: 0.2120817\ttotal: 31.9s\tremaining: 15.7s\n",
      "938:\tlearn: 0.2120536\ttotal: 32s\tremaining: 15.7s\n",
      "939:\tlearn: 0.2120076\ttotal: 32s\tremaining: 15.7s\n",
      "940:\tlearn: 0.2117460\ttotal: 32.1s\tremaining: 15.6s\n",
      "941:\tlearn: 0.2117222\ttotal: 32.1s\tremaining: 15.6s\n",
      "942:\tlearn: 0.2113756\ttotal: 32.1s\tremaining: 15.6s\n",
      "943:\tlearn: 0.2113228\ttotal: 32.2s\tremaining: 15.5s\n",
      "944:\tlearn: 0.2112518\ttotal: 32.2s\tremaining: 15.5s\n",
      "945:\tlearn: 0.2111175\ttotal: 32.2s\tremaining: 15.5s\n",
      "946:\tlearn: 0.2109090\ttotal: 32.3s\tremaining: 15.4s\n",
      "947:\tlearn: 0.2107452\ttotal: 32.3s\tremaining: 15.4s\n",
      "948:\tlearn: 0.2107282\ttotal: 32.4s\tremaining: 15.4s\n",
      "949:\tlearn: 0.2107130\ttotal: 32.4s\tremaining: 15.3s\n",
      "950:\tlearn: 0.2106343\ttotal: 32.4s\tremaining: 15.3s\n",
      "951:\tlearn: 0.2105113\ttotal: 32.5s\tremaining: 15.3s\n",
      "952:\tlearn: 0.2104609\ttotal: 32.5s\tremaining: 15.2s\n",
      "953:\tlearn: 0.2103464\ttotal: 32.5s\tremaining: 15.2s\n",
      "954:\tlearn: 0.2102870\ttotal: 32.6s\tremaining: 15.2s\n",
      "955:\tlearn: 0.2102700\ttotal: 32.6s\tremaining: 15.1s\n",
      "956:\tlearn: 0.2102203\ttotal: 32.6s\tremaining: 15.1s\n",
      "957:\tlearn: 0.2099671\ttotal: 32.7s\tremaining: 15.1s\n",
      "958:\tlearn: 0.2099013\ttotal: 32.7s\tremaining: 15s\n",
      "959:\tlearn: 0.2096623\ttotal: 32.7s\tremaining: 15s\n",
      "960:\tlearn: 0.2093535\ttotal: 32.8s\tremaining: 15s\n",
      "961:\tlearn: 0.2091344\ttotal: 32.8s\tremaining: 14.9s\n",
      "962:\tlearn: 0.2090913\ttotal: 32.9s\tremaining: 14.9s\n",
      "963:\tlearn: 0.2090396\ttotal: 32.9s\tremaining: 14.9s\n",
      "964:\tlearn: 0.2089688\ttotal: 32.9s\tremaining: 14.8s\n",
      "965:\tlearn: 0.2088730\ttotal: 33s\tremaining: 14.8s\n",
      "966:\tlearn: 0.2087571\ttotal: 33s\tremaining: 14.8s\n",
      "967:\tlearn: 0.2087040\ttotal: 33s\tremaining: 14.7s\n",
      "968:\tlearn: 0.2086354\ttotal: 33.1s\tremaining: 14.7s\n",
      "969:\tlearn: 0.2084479\ttotal: 33.1s\tremaining: 14.7s\n",
      "970:\tlearn: 0.2083794\ttotal: 33.1s\tremaining: 14.6s\n",
      "971:\tlearn: 0.2083540\ttotal: 33.2s\tremaining: 14.6s\n",
      "972:\tlearn: 0.2083510\ttotal: 33.2s\tremaining: 14.6s\n",
      "973:\tlearn: 0.2081150\ttotal: 33.2s\tremaining: 14.5s\n",
      "974:\tlearn: 0.2078960\ttotal: 33.3s\tremaining: 14.5s\n",
      "975:\tlearn: 0.2078538\ttotal: 33.3s\tremaining: 14.5s\n",
      "976:\tlearn: 0.2078161\ttotal: 33.3s\tremaining: 14.4s\n",
      "977:\tlearn: 0.2077779\ttotal: 33.4s\tremaining: 14.4s\n",
      "978:\tlearn: 0.2076971\ttotal: 33.4s\tremaining: 14.4s\n",
      "979:\tlearn: 0.2076415\ttotal: 33.4s\tremaining: 14.3s\n",
      "980:\tlearn: 0.2073237\ttotal: 33.5s\tremaining: 14.3s\n",
      "981:\tlearn: 0.2072053\ttotal: 33.5s\tremaining: 14.3s\n",
      "982:\tlearn: 0.2071331\ttotal: 33.5s\tremaining: 14.2s\n",
      "983:\tlearn: 0.2071069\ttotal: 33.6s\tremaining: 14.2s\n",
      "984:\tlearn: 0.2069639\ttotal: 33.6s\tremaining: 14.2s\n",
      "985:\tlearn: 0.2068887\ttotal: 33.7s\tremaining: 14.1s\n",
      "986:\tlearn: 0.2068100\ttotal: 33.7s\tremaining: 14.1s\n",
      "987:\tlearn: 0.2066686\ttotal: 33.7s\tremaining: 14.1s\n",
      "988:\tlearn: 0.2065961\ttotal: 33.8s\tremaining: 14s\n",
      "989:\tlearn: 0.2064929\ttotal: 33.8s\tremaining: 14s\n",
      "990:\tlearn: 0.2061905\ttotal: 33.8s\tremaining: 14s\n",
      "991:\tlearn: 0.2061528\ttotal: 33.9s\tremaining: 13.9s\n",
      "992:\tlearn: 0.2060814\ttotal: 33.9s\tremaining: 13.9s\n",
      "993:\tlearn: 0.2058021\ttotal: 33.9s\tremaining: 13.9s\n",
      "994:\tlearn: 0.2057765\ttotal: 34s\tremaining: 13.8s\n",
      "995:\tlearn: 0.2057254\ttotal: 34s\tremaining: 13.8s\n",
      "996:\tlearn: 0.2057082\ttotal: 34s\tremaining: 13.8s\n",
      "997:\tlearn: 0.2056424\ttotal: 34.1s\tremaining: 13.7s\n",
      "998:\tlearn: 0.2055338\ttotal: 34.1s\tremaining: 13.7s\n",
      "999:\tlearn: 0.2054803\ttotal: 34.1s\tremaining: 13.7s\n",
      "1000:\tlearn: 0.2054073\ttotal: 34.2s\tremaining: 13.6s\n",
      "1001:\tlearn: 0.2053154\ttotal: 34.2s\tremaining: 13.6s\n",
      "1002:\tlearn: 0.2052699\ttotal: 34.2s\tremaining: 13.6s\n",
      "1003:\tlearn: 0.2052173\ttotal: 34.3s\tremaining: 13.5s\n",
      "1004:\tlearn: 0.2051294\ttotal: 34.3s\tremaining: 13.5s\n",
      "1005:\tlearn: 0.2050395\ttotal: 34.4s\tremaining: 13.5s\n",
      "1006:\tlearn: 0.2050203\ttotal: 34.4s\tremaining: 13.4s\n",
      "1007:\tlearn: 0.2048702\ttotal: 34.4s\tremaining: 13.4s\n",
      "1008:\tlearn: 0.2046628\ttotal: 34.5s\tremaining: 13.4s\n",
      "1009:\tlearn: 0.2045119\ttotal: 34.5s\tremaining: 13.3s\n",
      "1010:\tlearn: 0.2043768\ttotal: 34.5s\tremaining: 13.3s\n",
      "1011:\tlearn: 0.2043173\ttotal: 34.6s\tremaining: 13.3s\n",
      "1012:\tlearn: 0.2042236\ttotal: 34.6s\tremaining: 13.2s\n",
      "1013:\tlearn: 0.2041597\ttotal: 34.6s\tremaining: 13.2s\n",
      "1014:\tlearn: 0.2040751\ttotal: 34.7s\tremaining: 13.2s\n",
      "1015:\tlearn: 0.2040596\ttotal: 34.7s\tremaining: 13.1s\n",
      "1016:\tlearn: 0.2039809\ttotal: 34.7s\tremaining: 13.1s\n",
      "1017:\tlearn: 0.2039157\ttotal: 34.8s\tremaining: 13.1s\n",
      "1018:\tlearn: 0.2038508\ttotal: 34.8s\tremaining: 13s\n",
      "1019:\tlearn: 0.2037888\ttotal: 34.9s\tremaining: 13s\n",
      "1020:\tlearn: 0.2035854\ttotal: 34.9s\tremaining: 13s\n",
      "1021:\tlearn: 0.2035549\ttotal: 34.9s\tremaining: 12.9s\n",
      "1022:\tlearn: 0.2033740\ttotal: 35s\tremaining: 12.9s\n",
      "1023:\tlearn: 0.2033125\ttotal: 35s\tremaining: 12.9s\n",
      "1024:\tlearn: 0.2032335\ttotal: 35.1s\tremaining: 12.8s\n",
      "1025:\tlearn: 0.2031941\ttotal: 35.1s\tremaining: 12.8s\n",
      "1026:\tlearn: 0.2028843\ttotal: 35.1s\tremaining: 12.8s\n",
      "1027:\tlearn: 0.2028416\ttotal: 35.2s\tremaining: 12.7s\n",
      "1028:\tlearn: 0.2027447\ttotal: 35.2s\tremaining: 12.7s\n",
      "1029:\tlearn: 0.2025705\ttotal: 35.2s\tremaining: 12.7s\n",
      "1030:\tlearn: 0.2025201\ttotal: 35.3s\tremaining: 12.6s\n",
      "1031:\tlearn: 0.2023898\ttotal: 35.3s\tremaining: 12.6s\n",
      "1032:\tlearn: 0.2023408\ttotal: 35.3s\tremaining: 12.6s\n",
      "1033:\tlearn: 0.2021984\ttotal: 35.4s\tremaining: 12.5s\n",
      "1034:\tlearn: 0.2021045\ttotal: 35.4s\tremaining: 12.5s\n",
      "1035:\tlearn: 0.2020864\ttotal: 35.4s\tremaining: 12.5s\n",
      "1036:\tlearn: 0.2020527\ttotal: 35.5s\tremaining: 12.4s\n",
      "1037:\tlearn: 0.2018911\ttotal: 35.5s\tremaining: 12.4s\n",
      "1038:\tlearn: 0.2018488\ttotal: 35.6s\tremaining: 12.4s\n",
      "1039:\tlearn: 0.2017215\ttotal: 35.6s\tremaining: 12.3s\n",
      "1040:\tlearn: 0.2017041\ttotal: 35.6s\tremaining: 12.3s\n",
      "1041:\tlearn: 0.2016478\ttotal: 35.7s\tremaining: 12.2s\n",
      "1042:\tlearn: 0.2013631\ttotal: 35.7s\tremaining: 12.2s\n",
      "1043:\tlearn: 0.2010725\ttotal: 35.7s\tremaining: 12.2s\n",
      "1044:\tlearn: 0.2007776\ttotal: 35.8s\tremaining: 12.1s\n",
      "1045:\tlearn: 0.2007235\ttotal: 35.8s\tremaining: 12.1s\n",
      "1046:\tlearn: 0.2006553\ttotal: 35.8s\tremaining: 12.1s\n",
      "1047:\tlearn: 0.2005770\ttotal: 35.9s\tremaining: 12s\n",
      "1048:\tlearn: 0.2004095\ttotal: 35.9s\tremaining: 12s\n",
      "1049:\tlearn: 0.2003510\ttotal: 35.9s\tremaining: 12s\n",
      "1050:\tlearn: 0.2002006\ttotal: 36s\tremaining: 11.9s\n",
      "1051:\tlearn: 0.2001328\ttotal: 36s\tremaining: 11.9s\n",
      "1052:\tlearn: 0.1998714\ttotal: 36s\tremaining: 11.9s\n",
      "1053:\tlearn: 0.1997210\ttotal: 36.1s\tremaining: 11.8s\n",
      "1054:\tlearn: 0.1994537\ttotal: 36.1s\tremaining: 11.8s\n",
      "1055:\tlearn: 0.1993986\ttotal: 36.1s\tremaining: 11.8s\n",
      "1056:\tlearn: 0.1991215\ttotal: 36.2s\tremaining: 11.7s\n",
      "1057:\tlearn: 0.1988484\ttotal: 36.2s\tremaining: 11.7s\n",
      "1058:\tlearn: 0.1987489\ttotal: 36.2s\tremaining: 11.7s\n",
      "1059:\tlearn: 0.1986199\ttotal: 36.3s\tremaining: 11.6s\n",
      "1060:\tlearn: 0.1983651\ttotal: 36.3s\tremaining: 11.6s\n",
      "1061:\tlearn: 0.1983308\ttotal: 36.4s\tremaining: 11.6s\n",
      "1062:\tlearn: 0.1982868\ttotal: 36.4s\tremaining: 11.5s\n",
      "1063:\tlearn: 0.1982323\ttotal: 36.4s\tremaining: 11.5s\n",
      "1064:\tlearn: 0.1979916\ttotal: 36.5s\tremaining: 11.5s\n",
      "1065:\tlearn: 0.1978998\ttotal: 36.5s\tremaining: 11.4s\n",
      "1066:\tlearn: 0.1977715\ttotal: 36.5s\tremaining: 11.4s\n",
      "1067:\tlearn: 0.1977391\ttotal: 36.6s\tremaining: 11.4s\n",
      "1068:\tlearn: 0.1976187\ttotal: 36.6s\tremaining: 11.3s\n",
      "1069:\tlearn: 0.1975371\ttotal: 36.6s\tremaining: 11.3s\n",
      "1070:\tlearn: 0.1974078\ttotal: 36.7s\tremaining: 11.3s\n",
      "1071:\tlearn: 0.1973642\ttotal: 36.7s\tremaining: 11.2s\n",
      "1072:\tlearn: 0.1973178\ttotal: 36.8s\tremaining: 11.2s\n",
      "1073:\tlearn: 0.1971781\ttotal: 36.8s\tremaining: 11.2s\n",
      "1074:\tlearn: 0.1969884\ttotal: 36.8s\tremaining: 11.1s\n",
      "1075:\tlearn: 0.1969412\ttotal: 36.9s\tremaining: 11.1s\n",
      "1076:\tlearn: 0.1968590\ttotal: 36.9s\tremaining: 11.1s\n",
      "1077:\tlearn: 0.1966270\ttotal: 36.9s\tremaining: 11s\n",
      "1078:\tlearn: 0.1966038\ttotal: 37s\tremaining: 11s\n",
      "1079:\tlearn: 0.1965390\ttotal: 37s\tremaining: 11s\n",
      "1080:\tlearn: 0.1964092\ttotal: 37s\tremaining: 10.9s\n",
      "1081:\tlearn: 0.1963429\ttotal: 37.1s\tremaining: 10.9s\n",
      "1082:\tlearn: 0.1963073\ttotal: 37.1s\tremaining: 10.9s\n",
      "1083:\tlearn: 0.1962775\ttotal: 37.1s\tremaining: 10.8s\n",
      "1084:\tlearn: 0.1962363\ttotal: 37.2s\tremaining: 10.8s\n",
      "1085:\tlearn: 0.1961831\ttotal: 37.2s\tremaining: 10.8s\n",
      "1086:\tlearn: 0.1961226\ttotal: 37.2s\tremaining: 10.7s\n",
      "1087:\tlearn: 0.1960945\ttotal: 37.3s\tremaining: 10.7s\n",
      "1088:\tlearn: 0.1960227\ttotal: 37.3s\tremaining: 10.7s\n",
      "1089:\tlearn: 0.1959454\ttotal: 37.3s\tremaining: 10.6s\n",
      "1090:\tlearn: 0.1958317\ttotal: 37.4s\tremaining: 10.6s\n",
      "1091:\tlearn: 0.1957876\ttotal: 37.4s\tremaining: 10.6s\n",
      "1092:\tlearn: 0.1957232\ttotal: 37.4s\tremaining: 10.5s\n",
      "1093:\tlearn: 0.1955499\ttotal: 37.5s\tremaining: 10.5s\n",
      "1094:\tlearn: 0.1954943\ttotal: 37.5s\tremaining: 10.5s\n",
      "1095:\tlearn: 0.1954905\ttotal: 37.6s\tremaining: 10.4s\n",
      "1096:\tlearn: 0.1953781\ttotal: 37.6s\tremaining: 10.4s\n",
      "1097:\tlearn: 0.1953491\ttotal: 37.6s\tremaining: 10.4s\n",
      "1098:\tlearn: 0.1951522\ttotal: 37.7s\tremaining: 10.3s\n",
      "1099:\tlearn: 0.1950642\ttotal: 37.7s\tremaining: 10.3s\n",
      "1100:\tlearn: 0.1950545\ttotal: 37.8s\tremaining: 10.3s\n",
      "1101:\tlearn: 0.1949498\ttotal: 37.8s\tremaining: 10.2s\n",
      "1102:\tlearn: 0.1949353\ttotal: 37.8s\tremaining: 10.2s\n",
      "1103:\tlearn: 0.1946873\ttotal: 37.9s\tremaining: 10.1s\n",
      "1104:\tlearn: 0.1944670\ttotal: 37.9s\tremaining: 10.1s\n",
      "1105:\tlearn: 0.1944630\ttotal: 38s\tremaining: 10.1s\n",
      "1106:\tlearn: 0.1942186\ttotal: 38s\tremaining: 10.1s\n",
      "1107:\tlearn: 0.1939875\ttotal: 38s\tremaining: 10s\n",
      "1108:\tlearn: 0.1938575\ttotal: 38.1s\tremaining: 9.98s\n",
      "1109:\tlearn: 0.1938175\ttotal: 38.1s\tremaining: 9.95s\n",
      "1110:\tlearn: 0.1937570\ttotal: 38.1s\tremaining: 9.92s\n",
      "1111:\tlearn: 0.1937108\ttotal: 38.2s\tremaining: 9.88s\n",
      "1112:\tlearn: 0.1936666\ttotal: 38.2s\tremaining: 9.85s\n",
      "1113:\tlearn: 0.1936382\ttotal: 38.2s\tremaining: 9.81s\n",
      "1114:\tlearn: 0.1934585\ttotal: 38.3s\tremaining: 9.78s\n",
      "1115:\tlearn: 0.1933853\ttotal: 38.3s\tremaining: 9.75s\n",
      "1116:\tlearn: 0.1931979\ttotal: 38.3s\tremaining: 9.71s\n",
      "1117:\tlearn: 0.1930626\ttotal: 38.4s\tremaining: 9.68s\n",
      "1118:\tlearn: 0.1930402\ttotal: 38.4s\tremaining: 9.65s\n",
      "1119:\tlearn: 0.1928376\ttotal: 38.4s\tremaining: 9.61s\n",
      "1120:\tlearn: 0.1928165\ttotal: 38.5s\tremaining: 9.58s\n",
      "1121:\tlearn: 0.1927866\ttotal: 38.5s\tremaining: 9.54s\n",
      "1122:\tlearn: 0.1927249\ttotal: 38.6s\tremaining: 9.51s\n",
      "1123:\tlearn: 0.1924777\ttotal: 38.6s\tremaining: 9.47s\n",
      "1124:\tlearn: 0.1924394\ttotal: 38.6s\tremaining: 9.44s\n",
      "1125:\tlearn: 0.1923980\ttotal: 38.7s\tremaining: 9.41s\n",
      "1126:\tlearn: 0.1923075\ttotal: 38.7s\tremaining: 9.37s\n",
      "1127:\tlearn: 0.1922337\ttotal: 38.7s\tremaining: 9.34s\n",
      "1128:\tlearn: 0.1921738\ttotal: 38.8s\tremaining: 9.3s\n",
      "1129:\tlearn: 0.1920244\ttotal: 38.8s\tremaining: 9.27s\n",
      "1130:\tlearn: 0.1919779\ttotal: 38.8s\tremaining: 9.23s\n",
      "1131:\tlearn: 0.1917918\ttotal: 38.9s\tremaining: 9.2s\n",
      "1132:\tlearn: 0.1917661\ttotal: 38.9s\tremaining: 9.17s\n",
      "1133:\tlearn: 0.1916272\ttotal: 38.9s\tremaining: 9.13s\n",
      "1134:\tlearn: 0.1914407\ttotal: 39s\tremaining: 9.1s\n",
      "1135:\tlearn: 0.1913381\ttotal: 39s\tremaining: 9.06s\n",
      "1136:\tlearn: 0.1912080\ttotal: 39s\tremaining: 9.03s\n",
      "1137:\tlearn: 0.1911257\ttotal: 39.1s\tremaining: 8.99s\n",
      "1138:\tlearn: 0.1911046\ttotal: 39.1s\tremaining: 8.96s\n",
      "1139:\tlearn: 0.1909945\ttotal: 39.1s\tremaining: 8.93s\n",
      "1140:\tlearn: 0.1908916\ttotal: 39.2s\tremaining: 8.89s\n",
      "1141:\tlearn: 0.1907168\ttotal: 39.2s\tremaining: 8.86s\n",
      "1142:\tlearn: 0.1907021\ttotal: 39.2s\tremaining: 8.82s\n",
      "1143:\tlearn: 0.1905681\ttotal: 39.3s\tremaining: 8.79s\n",
      "1144:\tlearn: 0.1903540\ttotal: 39.3s\tremaining: 8.75s\n",
      "1145:\tlearn: 0.1902861\ttotal: 39.3s\tremaining: 8.72s\n",
      "1146:\tlearn: 0.1902665\ttotal: 39.4s\tremaining: 8.69s\n",
      "1147:\tlearn: 0.1901208\ttotal: 39.4s\tremaining: 8.65s\n",
      "1148:\tlearn: 0.1900914\ttotal: 39.4s\tremaining: 8.62s\n",
      "1149:\tlearn: 0.1900048\ttotal: 39.5s\tremaining: 8.58s\n",
      "1150:\tlearn: 0.1898517\ttotal: 39.5s\tremaining: 8.55s\n",
      "1151:\tlearn: 0.1897409\ttotal: 39.6s\tremaining: 8.52s\n",
      "1152:\tlearn: 0.1897287\ttotal: 39.6s\tremaining: 8.48s\n",
      "1153:\tlearn: 0.1897262\ttotal: 39.6s\tremaining: 8.45s\n",
      "1154:\tlearn: 0.1895154\ttotal: 39.7s\tremaining: 8.41s\n",
      "1155:\tlearn: 0.1893508\ttotal: 39.7s\tremaining: 8.38s\n",
      "1156:\tlearn: 0.1891880\ttotal: 39.7s\tremaining: 8.35s\n",
      "1157:\tlearn: 0.1891540\ttotal: 39.8s\tremaining: 8.31s\n",
      "1158:\tlearn: 0.1890858\ttotal: 39.8s\tremaining: 8.28s\n",
      "1159:\tlearn: 0.1888919\ttotal: 39.8s\tremaining: 8.24s\n",
      "1160:\tlearn: 0.1888521\ttotal: 39.9s\tremaining: 8.21s\n",
      "1161:\tlearn: 0.1887100\ttotal: 39.9s\tremaining: 8.17s\n",
      "1162:\tlearn: 0.1885815\ttotal: 39.9s\tremaining: 8.14s\n",
      "1163:\tlearn: 0.1883890\ttotal: 40s\tremaining: 8.1s\n",
      "1164:\tlearn: 0.1882436\ttotal: 40s\tremaining: 8.07s\n",
      "1165:\tlearn: 0.1881879\ttotal: 40.1s\tremaining: 8.04s\n",
      "1166:\tlearn: 0.1879684\ttotal: 40.1s\tremaining: 8s\n",
      "1167:\tlearn: 0.1879608\ttotal: 40.1s\tremaining: 7.97s\n",
      "1168:\tlearn: 0.1879315\ttotal: 40.2s\tremaining: 7.93s\n",
      "1169:\tlearn: 0.1878846\ttotal: 40.2s\tremaining: 7.9s\n",
      "1170:\tlearn: 0.1878546\ttotal: 40.2s\tremaining: 7.87s\n",
      "1171:\tlearn: 0.1878198\ttotal: 40.3s\tremaining: 7.83s\n",
      "1172:\tlearn: 0.1877634\ttotal: 40.3s\tremaining: 7.8s\n",
      "1173:\tlearn: 0.1876701\ttotal: 40.3s\tremaining: 7.76s\n",
      "1174:\tlearn: 0.1874405\ttotal: 40.4s\tremaining: 7.73s\n",
      "1175:\tlearn: 0.1873794\ttotal: 40.4s\tremaining: 7.7s\n",
      "1176:\tlearn: 0.1873173\ttotal: 40.4s\tremaining: 7.66s\n",
      "1177:\tlearn: 0.1871686\ttotal: 40.5s\tremaining: 7.63s\n",
      "1178:\tlearn: 0.1871433\ttotal: 40.5s\tremaining: 7.59s\n",
      "1179:\tlearn: 0.1870807\ttotal: 40.5s\tremaining: 7.56s\n",
      "1180:\tlearn: 0.1870136\ttotal: 40.6s\tremaining: 7.52s\n",
      "1181:\tlearn: 0.1868992\ttotal: 40.6s\tremaining: 7.49s\n",
      "1182:\tlearn: 0.1868863\ttotal: 40.6s\tremaining: 7.46s\n",
      "1183:\tlearn: 0.1867720\ttotal: 40.7s\tremaining: 7.42s\n",
      "1184:\tlearn: 0.1866908\ttotal: 40.7s\tremaining: 7.39s\n",
      "1185:\tlearn: 0.1866145\ttotal: 40.8s\tremaining: 7.35s\n",
      "1186:\tlearn: 0.1865379\ttotal: 40.8s\tremaining: 7.32s\n",
      "1187:\tlearn: 0.1864948\ttotal: 40.8s\tremaining: 7.28s\n",
      "1188:\tlearn: 0.1864546\ttotal: 40.9s\tremaining: 7.25s\n",
      "1189:\tlearn: 0.1863400\ttotal: 40.9s\tremaining: 7.21s\n",
      "1190:\tlearn: 0.1862924\ttotal: 40.9s\tremaining: 7.18s\n",
      "1191:\tlearn: 0.1862490\ttotal: 41s\tremaining: 7.15s\n",
      "1192:\tlearn: 0.1862090\ttotal: 41s\tremaining: 7.11s\n",
      "1193:\tlearn: 0.1861901\ttotal: 41s\tremaining: 7.08s\n",
      "1194:\tlearn: 0.1861663\ttotal: 41.1s\tremaining: 7.04s\n",
      "1195:\tlearn: 0.1861623\ttotal: 41.1s\tremaining: 7.01s\n",
      "1196:\tlearn: 0.1859899\ttotal: 41.1s\tremaining: 6.98s\n",
      "1197:\tlearn: 0.1858803\ttotal: 41.2s\tremaining: 6.94s\n",
      "1198:\tlearn: 0.1857770\ttotal: 41.2s\tremaining: 6.91s\n",
      "1199:\tlearn: 0.1857278\ttotal: 41.2s\tremaining: 6.87s\n",
      "1200:\tlearn: 0.1856934\ttotal: 41.3s\tremaining: 6.84s\n",
      "1201:\tlearn: 0.1856535\ttotal: 41.3s\tremaining: 6.8s\n",
      "1202:\tlearn: 0.1856348\ttotal: 41.4s\tremaining: 6.77s\n",
      "1203:\tlearn: 0.1855432\ttotal: 41.4s\tremaining: 6.74s\n",
      "1204:\tlearn: 0.1853677\ttotal: 41.4s\tremaining: 6.7s\n",
      "1205:\tlearn: 0.1853355\ttotal: 41.5s\tremaining: 6.67s\n",
      "1206:\tlearn: 0.1852810\ttotal: 41.5s\tremaining: 6.63s\n",
      "1207:\tlearn: 0.1851092\ttotal: 41.5s\tremaining: 6.6s\n",
      "1208:\tlearn: 0.1850872\ttotal: 41.6s\tremaining: 6.57s\n",
      "1209:\tlearn: 0.1849044\ttotal: 41.6s\tremaining: 6.53s\n",
      "1210:\tlearn: 0.1848628\ttotal: 41.6s\tremaining: 6.5s\n",
      "1211:\tlearn: 0.1847129\ttotal: 41.7s\tremaining: 6.46s\n",
      "1212:\tlearn: 0.1846750\ttotal: 41.7s\tremaining: 6.43s\n",
      "1213:\tlearn: 0.1845923\ttotal: 41.7s\tremaining: 6.39s\n",
      "1214:\tlearn: 0.1845645\ttotal: 41.8s\tremaining: 6.36s\n",
      "1215:\tlearn: 0.1844648\ttotal: 41.8s\tremaining: 6.33s\n",
      "1216:\tlearn: 0.1844333\ttotal: 41.8s\tremaining: 6.29s\n",
      "1217:\tlearn: 0.1842937\ttotal: 41.9s\tremaining: 6.26s\n",
      "1218:\tlearn: 0.1840927\ttotal: 41.9s\tremaining: 6.22s\n",
      "1219:\tlearn: 0.1840563\ttotal: 42s\tremaining: 6.19s\n",
      "1220:\tlearn: 0.1840344\ttotal: 42s\tremaining: 6.16s\n",
      "1221:\tlearn: 0.1839619\ttotal: 42s\tremaining: 6.12s\n",
      "1222:\tlearn: 0.1839335\ttotal: 42.1s\tremaining: 6.09s\n",
      "1223:\tlearn: 0.1838705\ttotal: 42.1s\tremaining: 6.05s\n",
      "1224:\tlearn: 0.1837699\ttotal: 42.1s\tremaining: 6.02s\n",
      "1225:\tlearn: 0.1836907\ttotal: 42.2s\tremaining: 5.98s\n",
      "1226:\tlearn: 0.1836500\ttotal: 42.2s\tremaining: 5.95s\n",
      "1227:\tlearn: 0.1834901\ttotal: 42.2s\tremaining: 5.91s\n",
      "1228:\tlearn: 0.1831962\ttotal: 42.3s\tremaining: 5.88s\n",
      "1229:\tlearn: 0.1829241\ttotal: 42.3s\tremaining: 5.84s\n",
      "1230:\tlearn: 0.1829127\ttotal: 42.3s\tremaining: 5.81s\n",
      "1231:\tlearn: 0.1828260\ttotal: 42.4s\tremaining: 5.78s\n",
      "1232:\tlearn: 0.1827990\ttotal: 42.4s\tremaining: 5.74s\n",
      "1233:\tlearn: 0.1827756\ttotal: 42.4s\tremaining: 5.71s\n",
      "1234:\tlearn: 0.1826608\ttotal: 42.5s\tremaining: 5.67s\n",
      "1235:\tlearn: 0.1824639\ttotal: 42.5s\tremaining: 5.64s\n",
      "1236:\tlearn: 0.1824164\ttotal: 42.5s\tremaining: 5.61s\n",
      "1237:\tlearn: 0.1823434\ttotal: 42.6s\tremaining: 5.57s\n",
      "1238:\tlearn: 0.1822235\ttotal: 42.6s\tremaining: 5.54s\n",
      "1239:\tlearn: 0.1820969\ttotal: 42.6s\tremaining: 5.5s\n",
      "1240:\tlearn: 0.1820241\ttotal: 42.7s\tremaining: 5.47s\n",
      "1241:\tlearn: 0.1819110\ttotal: 42.7s\tremaining: 5.43s\n",
      "1242:\tlearn: 0.1817263\ttotal: 42.7s\tremaining: 5.4s\n",
      "1243:\tlearn: 0.1816414\ttotal: 42.8s\tremaining: 5.36s\n",
      "1244:\tlearn: 0.1816358\ttotal: 42.8s\tremaining: 5.33s\n",
      "1245:\tlearn: 0.1815321\ttotal: 42.8s\tremaining: 5.29s\n",
      "1246:\tlearn: 0.1814911\ttotal: 42.9s\tremaining: 5.26s\n",
      "1247:\tlearn: 0.1812983\ttotal: 42.9s\tremaining: 5.23s\n",
      "1248:\tlearn: 0.1812793\ttotal: 43s\tremaining: 5.19s\n",
      "1249:\tlearn: 0.1812591\ttotal: 43s\tremaining: 5.16s\n",
      "1250:\tlearn: 0.1812119\ttotal: 43s\tremaining: 5.12s\n",
      "1251:\tlearn: 0.1811338\ttotal: 43.1s\tremaining: 5.09s\n",
      "1252:\tlearn: 0.1810224\ttotal: 43.1s\tremaining: 5.06s\n",
      "1253:\tlearn: 0.1809874\ttotal: 43.1s\tremaining: 5.02s\n",
      "1254:\tlearn: 0.1809820\ttotal: 43.2s\tremaining: 4.99s\n",
      "1255:\tlearn: 0.1808120\ttotal: 43.2s\tremaining: 4.95s\n",
      "1256:\tlearn: 0.1807678\ttotal: 43.2s\tremaining: 4.92s\n",
      "1257:\tlearn: 0.1806899\ttotal: 43.3s\tremaining: 4.88s\n",
      "1258:\tlearn: 0.1806183\ttotal: 43.3s\tremaining: 4.85s\n",
      "1259:\tlearn: 0.1805983\ttotal: 43.3s\tremaining: 4.82s\n",
      "1260:\tlearn: 0.1803484\ttotal: 43.4s\tremaining: 4.78s\n",
      "1261:\tlearn: 0.1803180\ttotal: 43.4s\tremaining: 4.75s\n",
      "1262:\tlearn: 0.1802173\ttotal: 43.4s\tremaining: 4.71s\n",
      "1263:\tlearn: 0.1801249\ttotal: 43.5s\tremaining: 4.68s\n",
      "1264:\tlearn: 0.1800764\ttotal: 43.5s\tremaining: 4.64s\n",
      "1265:\tlearn: 0.1798396\ttotal: 43.6s\tremaining: 4.61s\n",
      "1266:\tlearn: 0.1797800\ttotal: 43.6s\tremaining: 4.58s\n",
      "1267:\tlearn: 0.1797175\ttotal: 43.6s\tremaining: 4.54s\n",
      "1268:\tlearn: 0.1796447\ttotal: 43.7s\tremaining: 4.51s\n",
      "1269:\tlearn: 0.1795221\ttotal: 43.7s\tremaining: 4.47s\n",
      "1270:\tlearn: 0.1793739\ttotal: 43.7s\tremaining: 4.44s\n",
      "1271:\tlearn: 0.1793421\ttotal: 43.8s\tremaining: 4.4s\n",
      "1272:\tlearn: 0.1793390\ttotal: 43.8s\tremaining: 4.37s\n",
      "1273:\tlearn: 0.1792004\ttotal: 43.8s\tremaining: 4.33s\n",
      "1274:\tlearn: 0.1791074\ttotal: 43.9s\tremaining: 4.3s\n",
      "1275:\tlearn: 0.1790339\ttotal: 43.9s\tremaining: 4.26s\n",
      "1276:\tlearn: 0.1790152\ttotal: 43.9s\tremaining: 4.23s\n",
      "1277:\tlearn: 0.1789078\ttotal: 44s\tremaining: 4.2s\n",
      "1278:\tlearn: 0.1788180\ttotal: 44s\tremaining: 4.16s\n",
      "1279:\tlearn: 0.1788151\ttotal: 44s\tremaining: 4.13s\n",
      "1280:\tlearn: 0.1786546\ttotal: 44.1s\tremaining: 4.09s\n",
      "1281:\tlearn: 0.1785340\ttotal: 44.1s\tremaining: 4.06s\n",
      "1282:\tlearn: 0.1784657\ttotal: 44.1s\tremaining: 4.03s\n",
      "1283:\tlearn: 0.1783849\ttotal: 44.2s\tremaining: 3.99s\n",
      "1284:\tlearn: 0.1782516\ttotal: 44.2s\tremaining: 3.96s\n",
      "1285:\tlearn: 0.1782255\ttotal: 44.2s\tremaining: 3.92s\n",
      "1286:\tlearn: 0.1782102\ttotal: 44.3s\tremaining: 3.89s\n",
      "1287:\tlearn: 0.1781440\ttotal: 44.3s\tremaining: 3.85s\n",
      "1288:\tlearn: 0.1781284\ttotal: 44.3s\tremaining: 3.82s\n",
      "1289:\tlearn: 0.1781256\ttotal: 44.4s\tremaining: 3.78s\n",
      "1290:\tlearn: 0.1781049\ttotal: 44.4s\tremaining: 3.75s\n",
      "1291:\tlearn: 0.1781001\ttotal: 44.4s\tremaining: 3.71s\n",
      "1292:\tlearn: 0.1780642\ttotal: 44.5s\tremaining: 3.68s\n",
      "1293:\tlearn: 0.1779765\ttotal: 44.5s\tremaining: 3.65s\n",
      "1294:\tlearn: 0.1779495\ttotal: 44.5s\tremaining: 3.61s\n",
      "1295:\tlearn: 0.1778992\ttotal: 44.6s\tremaining: 3.58s\n",
      "1296:\tlearn: 0.1777012\ttotal: 44.6s\tremaining: 3.54s\n",
      "1297:\tlearn: 0.1775849\ttotal: 44.7s\tremaining: 3.51s\n",
      "1298:\tlearn: 0.1775182\ttotal: 44.7s\tremaining: 3.47s\n",
      "1299:\tlearn: 0.1774001\ttotal: 44.7s\tremaining: 3.44s\n",
      "1300:\tlearn: 0.1773643\ttotal: 44.8s\tremaining: 3.4s\n",
      "1301:\tlearn: 0.1772220\ttotal: 44.8s\tremaining: 3.37s\n",
      "1302:\tlearn: 0.1771820\ttotal: 44.8s\tremaining: 3.34s\n",
      "1303:\tlearn: 0.1770755\ttotal: 44.9s\tremaining: 3.3s\n",
      "1304:\tlearn: 0.1770102\ttotal: 44.9s\tremaining: 3.27s\n",
      "1305:\tlearn: 0.1769125\ttotal: 44.9s\tremaining: 3.23s\n",
      "1306:\tlearn: 0.1768607\ttotal: 45s\tremaining: 3.2s\n",
      "1307:\tlearn: 0.1768561\ttotal: 45s\tremaining: 3.16s\n",
      "1308:\tlearn: 0.1767967\ttotal: 45s\tremaining: 3.13s\n",
      "1309:\tlearn: 0.1767759\ttotal: 45.1s\tremaining: 3.1s\n",
      "1310:\tlearn: 0.1766881\ttotal: 45.1s\tremaining: 3.06s\n",
      "1311:\tlearn: 0.1765862\ttotal: 45.2s\tremaining: 3.03s\n",
      "1312:\tlearn: 0.1764847\ttotal: 45.2s\tremaining: 2.99s\n",
      "1313:\tlearn: 0.1764513\ttotal: 45.2s\tremaining: 2.96s\n",
      "1314:\tlearn: 0.1764256\ttotal: 45.3s\tremaining: 2.92s\n",
      "1315:\tlearn: 0.1763390\ttotal: 45.3s\tremaining: 2.89s\n",
      "1316:\tlearn: 0.1762838\ttotal: 45.3s\tremaining: 2.86s\n",
      "1317:\tlearn: 0.1761231\ttotal: 45.4s\tremaining: 2.82s\n",
      "1318:\tlearn: 0.1760753\ttotal: 45.4s\tremaining: 2.79s\n",
      "1319:\tlearn: 0.1759414\ttotal: 45.4s\tremaining: 2.75s\n",
      "1320:\tlearn: 0.1758445\ttotal: 45.5s\tremaining: 2.72s\n",
      "1321:\tlearn: 0.1758401\ttotal: 45.5s\tremaining: 2.68s\n",
      "1322:\tlearn: 0.1757561\ttotal: 45.5s\tremaining: 2.65s\n",
      "1323:\tlearn: 0.1756614\ttotal: 45.6s\tremaining: 2.62s\n",
      "1324:\tlearn: 0.1755911\ttotal: 45.6s\tremaining: 2.58s\n",
      "1325:\tlearn: 0.1755736\ttotal: 45.6s\tremaining: 2.55s\n",
      "1326:\tlearn: 0.1754718\ttotal: 45.7s\tremaining: 2.51s\n",
      "1327:\tlearn: 0.1754675\ttotal: 45.7s\tremaining: 2.48s\n",
      "1328:\tlearn: 0.1754304\ttotal: 45.7s\tremaining: 2.44s\n",
      "1329:\tlearn: 0.1753836\ttotal: 45.8s\tremaining: 2.41s\n",
      "1330:\tlearn: 0.1752864\ttotal: 45.8s\tremaining: 2.37s\n",
      "1331:\tlearn: 0.1751371\ttotal: 45.8s\tremaining: 2.34s\n",
      "1332:\tlearn: 0.1751116\ttotal: 45.9s\tremaining: 2.31s\n",
      "1333:\tlearn: 0.1750749\ttotal: 45.9s\tremaining: 2.27s\n",
      "1334:\tlearn: 0.1750206\ttotal: 45.9s\tremaining: 2.24s\n",
      "1335:\tlearn: 0.1750002\ttotal: 46s\tremaining: 2.2s\n",
      "1336:\tlearn: 0.1748573\ttotal: 46s\tremaining: 2.17s\n",
      "1337:\tlearn: 0.1748044\ttotal: 46.1s\tremaining: 2.13s\n",
      "1338:\tlearn: 0.1747134\ttotal: 46.1s\tremaining: 2.1s\n",
      "1339:\tlearn: 0.1746516\ttotal: 46.1s\tremaining: 2.06s\n",
      "1340:\tlearn: 0.1746005\ttotal: 46.2s\tremaining: 2.03s\n",
      "1341:\tlearn: 0.1745453\ttotal: 46.2s\tremaining: 2s\n",
      "1342:\tlearn: 0.1744994\ttotal: 46.2s\tremaining: 1.96s\n",
      "1343:\tlearn: 0.1744334\ttotal: 46.3s\tremaining: 1.93s\n",
      "1344:\tlearn: 0.1743797\ttotal: 46.3s\tremaining: 1.89s\n",
      "1345:\tlearn: 0.1741849\ttotal: 46.3s\tremaining: 1.86s\n",
      "1346:\tlearn: 0.1741431\ttotal: 46.4s\tremaining: 1.82s\n",
      "1347:\tlearn: 0.1741126\ttotal: 46.4s\tremaining: 1.79s\n",
      "1348:\tlearn: 0.1740978\ttotal: 46.4s\tremaining: 1.75s\n",
      "1349:\tlearn: 0.1739016\ttotal: 46.5s\tremaining: 1.72s\n",
      "1350:\tlearn: 0.1738547\ttotal: 46.5s\tremaining: 1.69s\n",
      "1351:\tlearn: 0.1737994\ttotal: 46.5s\tremaining: 1.65s\n",
      "1352:\tlearn: 0.1736812\ttotal: 46.6s\tremaining: 1.62s\n",
      "1353:\tlearn: 0.1736661\ttotal: 46.6s\tremaining: 1.58s\n",
      "1354:\tlearn: 0.1736347\ttotal: 46.6s\tremaining: 1.55s\n",
      "1355:\tlearn: 0.1735584\ttotal: 46.7s\tremaining: 1.51s\n",
      "1356:\tlearn: 0.1735415\ttotal: 46.7s\tremaining: 1.48s\n",
      "1357:\tlearn: 0.1734090\ttotal: 46.7s\tremaining: 1.45s\n",
      "1358:\tlearn: 0.1733582\ttotal: 46.8s\tremaining: 1.41s\n",
      "1359:\tlearn: 0.1733152\ttotal: 46.8s\tremaining: 1.38s\n",
      "1360:\tlearn: 0.1732284\ttotal: 46.8s\tremaining: 1.34s\n",
      "1361:\tlearn: 0.1731198\ttotal: 46.9s\tremaining: 1.31s\n",
      "1362:\tlearn: 0.1730670\ttotal: 46.9s\tremaining: 1.27s\n",
      "1363:\tlearn: 0.1730178\ttotal: 46.9s\tremaining: 1.24s\n",
      "1364:\tlearn: 0.1729999\ttotal: 47s\tremaining: 1.2s\n",
      "1365:\tlearn: 0.1728525\ttotal: 47s\tremaining: 1.17s\n",
      "1366:\tlearn: 0.1728139\ttotal: 47s\tremaining: 1.14s\n",
      "1367:\tlearn: 0.1726756\ttotal: 47.1s\tremaining: 1.1s\n",
      "1368:\tlearn: 0.1724927\ttotal: 47.1s\tremaining: 1.07s\n",
      "1369:\tlearn: 0.1724267\ttotal: 47.2s\tremaining: 1.03s\n",
      "1370:\tlearn: 0.1722636\ttotal: 47.2s\tremaining: 998ms\n",
      "1371:\tlearn: 0.1721642\ttotal: 47.2s\tremaining: 964ms\n",
      "1372:\tlearn: 0.1721024\ttotal: 47.3s\tremaining: 929ms\n",
      "1373:\tlearn: 0.1719229\ttotal: 47.3s\tremaining: 895ms\n",
      "1374:\tlearn: 0.1718097\ttotal: 47.3s\tremaining: 860ms\n",
      "1375:\tlearn: 0.1717830\ttotal: 47.4s\tremaining: 826ms\n",
      "1376:\tlearn: 0.1717347\ttotal: 47.4s\tremaining: 792ms\n",
      "1377:\tlearn: 0.1716621\ttotal: 47.5s\tremaining: 758ms\n",
      "1378:\tlearn: 0.1715822\ttotal: 47.5s\tremaining: 723ms\n",
      "1379:\tlearn: 0.1714590\ttotal: 47.5s\tremaining: 689ms\n",
      "1380:\tlearn: 0.1713583\ttotal: 47.6s\tremaining: 654ms\n",
      "1381:\tlearn: 0.1712868\ttotal: 47.6s\tremaining: 620ms\n",
      "1382:\tlearn: 0.1712550\ttotal: 47.6s\tremaining: 585ms\n",
      "1383:\tlearn: 0.1712204\ttotal: 47.7s\tremaining: 551ms\n",
      "1384:\tlearn: 0.1711338\ttotal: 47.7s\tremaining: 517ms\n",
      "1385:\tlearn: 0.1711125\ttotal: 47.7s\tremaining: 482ms\n",
      "1386:\tlearn: 0.1710803\ttotal: 47.8s\tremaining: 448ms\n",
      "1387:\tlearn: 0.1710775\ttotal: 47.8s\tremaining: 413ms\n",
      "1388:\tlearn: 0.1710531\ttotal: 47.8s\tremaining: 379ms\n",
      "1389:\tlearn: 0.1710019\ttotal: 47.9s\tremaining: 344ms\n",
      "1390:\tlearn: 0.1709632\ttotal: 47.9s\tremaining: 310ms\n",
      "1391:\tlearn: 0.1709036\ttotal: 47.9s\tremaining: 275ms\n",
      "1392:\tlearn: 0.1708834\ttotal: 48s\tremaining: 241ms\n",
      "1393:\tlearn: 0.1708754\ttotal: 48s\tremaining: 207ms\n",
      "1394:\tlearn: 0.1707021\ttotal: 48s\tremaining: 172ms\n",
      "1395:\tlearn: 0.1706261\ttotal: 48.1s\tremaining: 138ms\n",
      "1396:\tlearn: 0.1704893\ttotal: 48.1s\tremaining: 103ms\n",
      "1397:\tlearn: 0.1703494\ttotal: 48.1s\tremaining: 68.9ms\n",
      "1398:\tlearn: 0.1703149\ttotal: 48.2s\tremaining: 34.4ms\n",
      "1399:\tlearn: 0.1701872\ttotal: 48.2s\tremaining: 0us\n",
      "\n",
      "\n",
      "\u001b[1mЛучший показатель AUC ROC модели CatBoost: 0.885 \n",
      "\n",
      "С параметрами модели: {'depth': 5, 'iterations': 1400}\n"
     ]
    }
   ],
   "source": [
    "param_grid = {\n",
    "    'depth': range(4,11),\n",
    "    'iterations':range(1300, 1500, 100)\n",
    "}\n",
    "\n",
    "grid_search = GridSearchCV(catclass, param_grid, scoring='roc_auc', cv=3, n_jobs=-1, verbose=2)\n",
    "\n",
    "grid_search.fit(features_train, target_train)\n",
    "print(('\\n\\n\\033[1mЛучший показатель AUC ROC модели CatBoost: %.3f'\n",
    "       % grid_search.best_score_), '\\n\\nС параметрами модели:', grid_search.best_params_)"
   ]
  },
  {
   "cell_type": "markdown",
   "id": "25da53e6",
   "metadata": {},
   "source": [
    "**Модель CatBoost показала результат:  0,885**\n",
    "\n",
    "Результат лучше, чем необходимый 0,85, но хуже чем у LightGBM."
   ]
  },
  {
   "cell_type": "markdown",
   "id": "1af2f041",
   "metadata": {},
   "source": [
    "**Итог:**\n",
    "\n",
    "Мы обучили на тренировочной выборке и настроили три модели (RandomForestClassifier, LightGBM и CatBoost), из которых лучший результат показала модель LightGBM с параметрами `class_weight`: None, `max_depth`: 2, `n_estimators`: 1560. Ее результат метрики AUC ROC на кросс-валидации составил 0,904."
   ]
  },
  {
   "cell_type": "markdown",
   "id": "fed72f55",
   "metadata": {},
   "source": [
    "### Проверка лучшей модели"
   ]
  },
  {
   "cell_type": "markdown",
   "id": "6b1a1257",
   "metadata": {},
   "source": [
    "Теперь можем проверить лучшую модель с лучшими гиперпараметрами на тестовой выборке:"
   ]
  },
  {
   "cell_type": "code",
   "execution_count": 34,
   "id": "778bf328",
   "metadata": {},
   "outputs": [],
   "source": [
    "for c in categorical_features:\n",
    "    features_test[c] = features_test[c].astype('category')"
   ]
  },
  {
   "cell_type": "code",
   "execution_count": 35,
   "id": "9d93d7a6",
   "metadata": {
    "scrolled": true
   },
   "outputs": [
    {
     "name": "stdout",
     "output_type": "stream",
     "text": [
      "\u001b[1mЗначение AUC ROC для модели LightGBM на тестовой выборке: 0.923\n"
     ]
    }
   ],
   "source": [
    "lgbm_best = LGBMClassifier(random_state=RANDOM_STATE, class_weight=None, max_depth=2, n_estimators=1560)\n",
    "\n",
    "lgbm_best.fit(features_train, target_train)\n",
    "\n",
    "print('\\033[1mЗначение AUC ROC для модели LightGBM на тестовой выборке: %.3f'\n",
    "       % roc_auc_score(target_test, lgbm_best.predict_proba(features_test)[:, 1]))"
   ]
  },
  {
   "cell_type": "markdown",
   "id": "bea05551",
   "metadata": {},
   "source": [
    "Лучшая модель проверку прошла."
   ]
  },
  {
   "cell_type": "markdown",
   "id": "d58851a2",
   "metadata": {},
   "source": [
    "### Исследование важности признаков"
   ]
  },
  {
   "cell_type": "markdown",
   "id": "fd004556",
   "metadata": {},
   "source": [
    "Исследуем важность признаков, для возможного улучшения модели:"
   ]
  },
  {
   "cell_type": "code",
   "execution_count": 36,
   "id": "268d0034",
   "metadata": {},
   "outputs": [
    {
     "name": "stderr",
     "output_type": "stream",
     "text": [
      "LightGBM binary classifier with TreeExplainer shap values output has changed to a list of ndarray\n"
     ]
    },
    {
     "data": {
      "image/png": "[encoded data removed]",
      "text/plain": [
       "<Figure size 576x597.6 with 1 Axes>"
      ]
     },
     "metadata": {
      "needs_background": "light"
     },
     "output_type": "display_data"
    }
   ],
   "source": [
    "shap_test = shap.TreeExplainer(lgbm_best).shap_values(features_train)\n",
    "\n",
    "shap.summary_plot(shap_test, features_train,\n",
    "                      max_display=25)"
   ]
  },
  {
   "cell_type": "markdown",
   "id": "c0fda522",
   "metadata": {},
   "source": [
    "Как видно из графика на результат совсем не повлиял столбец `InternetService`, значит можно его удалить в дальнейшей работе."
   ]
  },
  {
   "cell_type": "markdown",
   "id": "b5dce393",
   "metadata": {},
   "source": [
    "### Построим матрицу ошибок"
   ]
  },
  {
   "cell_type": "code",
   "execution_count": 37,
   "id": "443629f4",
   "metadata": {},
   "outputs": [
    {
     "data": {
      "image/png": "[encoded data removed]",
      "text/plain": [
       "<Figure size 504x504 with 2 Axes>"
      ]
     },
     "metadata": {
      "needs_background": "light"
     },
     "output_type": "display_data"
    }
   ],
   "source": [
    "cm = confusion_matrix(target_test, lgbm_best.predict(features_test))\n",
    "\n",
    "cm_display = ConfusionMatrixDisplay(confusion_matrix = cm, display_labels = [False, True])\n",
    "\n",
    "fig, ax = plt.subplots(figsize=(7,7))\n",
    "cm_display.plot(ax=ax, cmap='BuPu')\n",
    "plt.show();"
   ]
  },
  {
   "cell_type": "markdown",
   "id": "4f08af15",
   "metadata": {},
   "source": [
    "Матрица связана с нашим показателем AUC ROC, так как отображает связанные с ним значения истинно положительных и ложно положительных предсказанных значений. Из графика видно, как и когда удалось предсказать верно, а где были допущены ошибки. "
   ]
  },
  {
   "cell_type": "markdown",
   "id": "49d264c8",
   "metadata": {},
   "source": [
    "## Отчет по проекту"
   ]
  },
  {
   "cell_type": "markdown",
   "id": "39628fbd",
   "metadata": {},
   "source": [
    "**Выполнение плана работы:**\n",
    "- Мы изучили данные, объединили датафреймы и проверили их на дубликаты и пропуски\n",
    "- Мы создали и выделили в объединенном датафрейме целевой признак `Target`, показывающий ушел клиент или нет, так же создали признак `Duration`. После этого удалили больше ненужные признаки `customerID`,`BeginDate`,`EndDate`\n",
    "- Провели анализ данных в разрезе целевого признака, высказали предположения о причине ухода клиентов\n",
    "- Проверили признаки на мультиколлинеарность, удалили сильно коррелирующий признак `TotalCharges` из выборки \n",
    "- Выделили тестовую выборку из данных (25%)\n",
    "- Мы обучили и методом кросс-валидации настроили и проверили три модели:\n",
    "\n",
    "        1)Модель случайного леса - на кросс-валидации метрика AUC ROC 0.823, недостаточная для наших целей\n",
    "        \n",
    "        2)Модель LightGBM - на кросс-валидации метрика AUC ROC 0.904\n",
    "        \n",
    "        3)Модель CatBoost - на кросс-валидации метрика AUC ROC 0.885\n",
    "- Показавшая лучшие результаты модель LightGBM, была проверена на тестовой выборке и ее метрика AUC ROC на тесте равна 0.923\n",
    "- Провели исследование матрицы признаков и нашли, что признак `InternetService` не влияет на результаты модели\n",
    "- Изучили как показывает себя модель на тестовой выборке с помощью матрицы ошибок\n",
    "\n"
   ]
  },
  {
   "cell_type": "markdown",
   "id": "7392791d",
   "metadata": {},
   "source": [
    "**ВЫВОД:**\n",
    "\n",
    "**Лучшая модель:** LightGBM Classifier\n",
    "\n",
    "\n",
    "**Признаки обучения для лучшей модели:**\n",
    "\n",
    "Модель была обучена на следующих признаках:\n",
    "\n",
    "`Type`, `PaperlessBilling`, `PaymentMethod`, `MonthlyCharges`, `gender`,`SeniorCitizen`, `Partner`, `Dependents`, `InternetService`, `OnlineSecurity`, `OnlineBackup`, `DeviceProtection`, `TechSupport`, `StreamingTV`, `StreamingMovies`, `MultipleLines`, `Duration`\n",
    "\n",
    "В дальнейшем возможно удаление из выборок признака `InternetService`, так как установленно, что он не влиял на результат\n",
    "\n",
    "**Гиперпараметры лучшей модели:**\n",
    "\n",
    "`class_weight`: None\n",
    "\n",
    "`max_depth`: 2\n",
    "\n",
    "`n_estimators`: 1560\n",
    "\n",
    "**Качество модели:** метрика AUC ROC **0.904** на кросс-валидации и  **0.923** на тестовой выборке"
   ]
  }
 ],
 "metadata": {
  "ExecuteTimeLog": [
   {
    "duration": 2149,
    "start_time": "2023-06-10T15:31:28.802Z"
   },
   {
    "duration": 538,
    "start_time": "2023-06-10T15:31:34.112Z"
   },
   {
    "duration": 3,
    "start_time": "2023-06-10T15:31:41.856Z"
   },
   {
    "duration": 57,
    "start_time": "2023-06-10T15:31:44.830Z"
   },
   {
    "duration": 16,
    "start_time": "2023-06-10T15:31:53.438Z"
   },
   {
    "duration": 8,
    "start_time": "2023-06-10T15:31:54.439Z"
   },
   {
    "duration": 43,
    "start_time": "2023-06-10T15:32:01.667Z"
   },
   {
    "duration": 62,
    "start_time": "2023-06-10T15:32:04.934Z"
   },
   {
    "duration": 49,
    "start_time": "2023-06-10T15:32:08.056Z"
   },
   {
    "duration": 15,
    "start_time": "2023-06-10T15:33:19.862Z"
   },
   {
    "duration": 24,
    "start_time": "2023-06-10T15:33:27.333Z"
   },
   {
    "duration": 16,
    "start_time": "2023-06-10T15:33:50.298Z"
   },
   {
    "duration": 9,
    "start_time": "2023-06-10T15:34:14.827Z"
   },
   {
    "duration": 42,
    "start_time": "2023-06-10T15:35:13.727Z"
   },
   {
    "duration": 31,
    "start_time": "2023-06-10T15:35:14.069Z"
   },
   {
    "duration": 22,
    "start_time": "2023-06-10T15:35:21.463Z"
   },
   {
    "duration": 212,
    "start_time": "2023-06-10T15:36:50.144Z"
   },
   {
    "duration": 26,
    "start_time": "2023-06-10T15:36:59.960Z"
   },
   {
    "duration": 17,
    "start_time": "2023-06-10T15:37:41.693Z"
   },
   {
    "duration": 6,
    "start_time": "2023-06-10T15:37:54.959Z"
   }
  ],
  "kernelspec": {
   "display_name": "Python 3 (ipykernel)",
   "language": "python",
   "name": "python3"
  },
  "language_info": {
   "codemirror_mode": {
    "name": "ipython",
    "version": 3
   },
   "file_extension": ".py",
   "mimetype": "text/x-python",
   "name": "python",
   "nbconvert_exporter": "python",
   "pygments_lexer": "ipython3",
   "version": "3.9.12"
  },
  "toc": {
   "base_numbering": 1,
   "nav_menu": {},
   "number_sections": true,
   "sideBar": true,
   "skip_h1_title": true,
   "title_cell": "Table of Contents",
   "title_sidebar": "Contents",
   "toc_cell": false,
   "toc_position": {},
   "toc_section_display": true,
   "toc_window_display": false
  }
 },
 "nbformat": 4,
 "nbformat_minor": 5
}
