{
 "cells": [
  {
   "cell_type": "markdown",
   "metadata": {},
   "source": [
    "# Проект по определению возможного оттока клиентов"
   ]
  },
  {
   "cell_type": "markdown",
   "metadata": {},
   "source": [
    "Из банка, заказчика исследования, стали уходить клиенты. \n",
    "\n",
    "Нужно спрогнозировать, уйдёт клиент из банка в ближайшее время или нет. Нам предоставлены исторические данные о поведении клиентов и расторжении договоров с банком. \n",
    "\n",
    "Необходимо построить модель с предельно большим значением *F1*-меры. Минимально необходимое значение метрики равно 0.59.\n",
    "\n",
    "Необходимо дополнительно измерить *AUC-ROC* и сравнить её значение с *F1*-мерой."
   ]
  },
  {
   "cell_type": "markdown",
   "metadata": {},
   "source": [
    "Признаки данных:\n",
    "```\n",
    "\n",
    "RowNumber — индекс строки в данных\n",
    "CustomerId — уникальный идентификатор клиента\n",
    "Surname — фамилия\n",
    "CreditScore — кредитный рейтинг\n",
    "Geography — страна проживания\n",
    "Gender — пол\n",
    "Age — возраст\n",
    "Tenure — сколько лет человек является клиентом банка\n",
    "Balance — баланс на счёте\n",
    "NumOfProducts — количество продуктов банка, используемых клиентом\n",
    "HasCrCard — наличие кредитной карты\n",
    "IsActiveMember — активность клиента\n",
    "EstimatedSalary — предполагаемая зарплата\n",
    "\n",
    "```\n",
    "\n",
    "Целевой признак\n",
    "\n",
    "```\n",
    "Exited — факт ухода клиента\n",
    "\n",
    "```"
   ]
  },
  {
   "cell_type": "markdown",
   "metadata": {},
   "source": [
    "## Подготовка данных"
   ]
  },
  {
   "cell_type": "markdown",
   "metadata": {},
   "source": [
    "Импортируем необходимые библиотеки:"
   ]
  },
  {
   "cell_type": "code",
   "execution_count": 3,
   "metadata": {},
   "outputs": [],
   "source": [
    "#standard\n",
    "import pandas as pd\n",
    "import numpy as np\n",
    "\n",
    "#sklearn\n",
    "from sklearn.model_selection import train_test_split\n",
    "from sklearn.preprocessing import OneHotEncoder, StandardScaler\n",
    "from sklearn.metrics import f1_score, roc_auc_score, recall_score \n",
    "from sklearn.tree import DecisionTreeClassifier\n",
    "from sklearn.ensemble import RandomForestClassifier\n",
    "from sklearn.linear_model import LogisticRegression\n",
    "from sklearn.utils import shuffle\n",
    "from sklearn.dummy import DummyClassifier\n",
    "\n",
    "#imblearn\n",
    "from imblearn.over_sampling import SMOTE"
   ]
  },
  {
   "cell_type": "markdown",
   "metadata": {},
   "source": [
    "Загрузим рабочий датасет:"
   ]
  },
  {
   "cell_type": "code",
   "execution_count": 2,
   "metadata": {
    "scrolled": true
   },
   "outputs": [],
   "source": [
    "data = pd.read_csv('data')"
   ]
  },
  {
   "cell_type": "markdown",
   "metadata": {},
   "source": [
    "Изучим:"
   ]
  },
  {
   "cell_type": "code",
   "execution_count": 5,
   "metadata": {},
   "outputs": [
    {
     "data": {
      "text/html": [
       "<div>\n",
       "<style scoped>\n",
       "    .dataframe tbody tr th:only-of-type {\n",
       "        vertical-align: middle;\n",
       "    }\n",
       "\n",
       "    .dataframe tbody tr th {\n",
       "        vertical-align: top;\n",
       "    }\n",
       "\n",
       "    .dataframe thead th {\n",
       "        text-align: right;\n",
       "    }\n",
       "</style>\n",
       "<table border=\"1\" class=\"dataframe\">\n",
       "  <thead>\n",
       "    <tr style=\"text-align: right;\">\n",
       "      <th></th>\n",
       "      <th>RowNumber</th>\n",
       "      <th>CustomerId</th>\n",
       "      <th>Surname</th>\n",
       "      <th>CreditScore</th>\n",
       "      <th>Geography</th>\n",
       "      <th>Gender</th>\n",
       "      <th>Age</th>\n",
       "      <th>Tenure</th>\n",
       "      <th>Balance</th>\n",
       "      <th>NumOfProducts</th>\n",
       "      <th>HasCrCard</th>\n",
       "      <th>IsActiveMember</th>\n",
       "      <th>EstimatedSalary</th>\n",
       "      <th>Exited</th>\n",
       "    </tr>\n",
       "  </thead>\n",
       "  <tbody>\n",
       "    <tr>\n",
       "      <th>0</th>\n",
       "      <td>1</td>\n",
       "      <td>15634602</td>\n",
       "      <td>Hargrave</td>\n",
       "      <td>619</td>\n",
       "      <td>France</td>\n",
       "      <td>Female</td>\n",
       "      <td>42</td>\n",
       "      <td>2.0</td>\n",
       "      <td>0.00</td>\n",
       "      <td>1</td>\n",
       "      <td>1</td>\n",
       "      <td>1</td>\n",
       "      <td>101348.88</td>\n",
       "      <td>1</td>\n",
       "    </tr>\n",
       "    <tr>\n",
       "      <th>1</th>\n",
       "      <td>2</td>\n",
       "      <td>15647311</td>\n",
       "      <td>Hill</td>\n",
       "      <td>608</td>\n",
       "      <td>Spain</td>\n",
       "      <td>Female</td>\n",
       "      <td>41</td>\n",
       "      <td>1.0</td>\n",
       "      <td>83807.86</td>\n",
       "      <td>1</td>\n",
       "      <td>0</td>\n",
       "      <td>1</td>\n",
       "      <td>112542.58</td>\n",
       "      <td>0</td>\n",
       "    </tr>\n",
       "    <tr>\n",
       "      <th>2</th>\n",
       "      <td>3</td>\n",
       "      <td>15619304</td>\n",
       "      <td>Onio</td>\n",
       "      <td>502</td>\n",
       "      <td>France</td>\n",
       "      <td>Female</td>\n",
       "      <td>42</td>\n",
       "      <td>8.0</td>\n",
       "      <td>159660.80</td>\n",
       "      <td>3</td>\n",
       "      <td>1</td>\n",
       "      <td>0</td>\n",
       "      <td>113931.57</td>\n",
       "      <td>1</td>\n",
       "    </tr>\n",
       "    <tr>\n",
       "      <th>3</th>\n",
       "      <td>4</td>\n",
       "      <td>15701354</td>\n",
       "      <td>Boni</td>\n",
       "      <td>699</td>\n",
       "      <td>France</td>\n",
       "      <td>Female</td>\n",
       "      <td>39</td>\n",
       "      <td>1.0</td>\n",
       "      <td>0.00</td>\n",
       "      <td>2</td>\n",
       "      <td>0</td>\n",
       "      <td>0</td>\n",
       "      <td>93826.63</td>\n",
       "      <td>0</td>\n",
       "    </tr>\n",
       "    <tr>\n",
       "      <th>4</th>\n",
       "      <td>5</td>\n",
       "      <td>15737888</td>\n",
       "      <td>Mitchell</td>\n",
       "      <td>850</td>\n",
       "      <td>Spain</td>\n",
       "      <td>Female</td>\n",
       "      <td>43</td>\n",
       "      <td>2.0</td>\n",
       "      <td>125510.82</td>\n",
       "      <td>1</td>\n",
       "      <td>1</td>\n",
       "      <td>1</td>\n",
       "      <td>79084.10</td>\n",
       "      <td>0</td>\n",
       "    </tr>\n",
       "  </tbody>\n",
       "</table>\n",
       "</div>"
      ],
      "text/plain": [
       "   RowNumber  CustomerId   Surname  CreditScore Geography  Gender  Age  \\\n",
       "0          1    15634602  Hargrave          619    France  Female   42   \n",
       "1          2    15647311      Hill          608     Spain  Female   41   \n",
       "2          3    15619304      Onio          502    France  Female   42   \n",
       "3          4    15701354      Boni          699    France  Female   39   \n",
       "4          5    15737888  Mitchell          850     Spain  Female   43   \n",
       "\n",
       "   Tenure    Balance  NumOfProducts  HasCrCard  IsActiveMember  \\\n",
       "0     2.0       0.00              1          1               1   \n",
       "1     1.0   83807.86              1          0               1   \n",
       "2     8.0  159660.80              3          1               0   \n",
       "3     1.0       0.00              2          0               0   \n",
       "4     2.0  125510.82              1          1               1   \n",
       "\n",
       "   EstimatedSalary  Exited  \n",
       "0        101348.88       1  \n",
       "1        112542.58       0  \n",
       "2        113931.57       1  \n",
       "3         93826.63       0  \n",
       "4         79084.10       0  "
      ]
     },
     "execution_count": 5,
     "metadata": {},
     "output_type": "execute_result"
    }
   ],
   "source": [
    "data.head(5)"
   ]
  },
  {
   "cell_type": "code",
   "execution_count": 6,
   "metadata": {
    "scrolled": false
   },
   "outputs": [
    {
     "name": "stdout",
     "output_type": "stream",
     "text": [
      "<class 'pandas.core.frame.DataFrame'>\n",
      "RangeIndex: 10000 entries, 0 to 9999\n",
      "Data columns (total 14 columns):\n",
      " #   Column           Non-Null Count  Dtype  \n",
      "---  ------           --------------  -----  \n",
      " 0   RowNumber        10000 non-null  int64  \n",
      " 1   CustomerId       10000 non-null  int64  \n",
      " 2   Surname          10000 non-null  object \n",
      " 3   CreditScore      10000 non-null  int64  \n",
      " 4   Geography        10000 non-null  object \n",
      " 5   Gender           10000 non-null  object \n",
      " 6   Age              10000 non-null  int64  \n",
      " 7   Tenure           9091 non-null   float64\n",
      " 8   Balance          10000 non-null  float64\n",
      " 9   NumOfProducts    10000 non-null  int64  \n",
      " 10  HasCrCard        10000 non-null  int64  \n",
      " 11  IsActiveMember   10000 non-null  int64  \n",
      " 12  EstimatedSalary  10000 non-null  float64\n",
      " 13  Exited           10000 non-null  int64  \n",
      "dtypes: float64(3), int64(8), object(3)\n",
      "memory usage: 1.1+ MB\n"
     ]
    }
   ],
   "source": [
    "data.info()"
   ]
  },
  {
   "cell_type": "markdown",
   "metadata": {},
   "source": [
    "В данных есть информация о 10000 клиентов, сразу видно, что есть пропуски в графе `Tenure`. Так же в рамках нашего исследования нам не понадобятся некоторые колонки - индекс строки, уникальный идентификатор клиента и его фамилия. Эти колонки можно удалить. А вот с кредитным рейтингом, страной проживания, полом, возрастом, тем сколько клиент работает с банком, его баланс на счете, количество продуктов, наличие кредитной карты, его активность и зарплата это то, с чем мы будем работать."
   ]
  },
  {
   "cell_type": "markdown",
   "metadata": {},
   "source": [
    "Проведем проверку на дубликаты:"
   ]
  },
  {
   "cell_type": "code",
   "execution_count": 7,
   "metadata": {
    "scrolled": false
   },
   "outputs": [
    {
     "data": {
      "text/plain": [
       "0"
      ]
     },
     "execution_count": 7,
     "metadata": {},
     "output_type": "execute_result"
    }
   ],
   "source": [
    "data.duplicated().sum()"
   ]
  },
  {
   "cell_type": "markdown",
   "metadata": {},
   "source": [
    "Дубликатов нет."
   ]
  },
  {
   "cell_type": "markdown",
   "metadata": {},
   "source": [
    "Как отметили раньше в данных пропуски в столбце `Tenure`, удалим их из наших данных:"
   ]
  },
  {
   "cell_type": "code",
   "execution_count": 8,
   "metadata": {},
   "outputs": [],
   "source": [
    "data = data.dropna().reset_index(drop=True)"
   ]
  },
  {
   "cell_type": "markdown",
   "metadata": {},
   "source": [
    "Теперь приведем названия столбцов в соответствии с принятым стилем:"
   ]
  },
  {
   "cell_type": "code",
   "execution_count": 9,
   "metadata": {},
   "outputs": [],
   "source": [
    "data = data.rename(columns={'RowNumber':'row_number', 'CustomerId':'customer_id', 'CreditScore':'credit_score', 'NumOfProducts':'num_of_products', 'HasCrCard':'has_cr_card', 'IsActiveMember':'is_active_member', 'EstimatedSalary':'estimated_salary', })"
   ]
  },
  {
   "cell_type": "code",
   "execution_count": 10,
   "metadata": {},
   "outputs": [],
   "source": [
    "data.columns= data.columns.str.lower()"
   ]
  },
  {
   "cell_type": "markdown",
   "metadata": {},
   "source": [
    "Теперь удалим колонки, которые не подойдут для дальнешего исследования:"
   ]
  },
  {
   "cell_type": "code",
   "execution_count": 11,
   "metadata": {},
   "outputs": [],
   "source": [
    "data.drop(['row_number', 'customer_id', 'surname'], axis=1, inplace=True)"
   ]
  },
  {
   "cell_type": "code",
   "execution_count": 12,
   "metadata": {},
   "outputs": [
    {
     "name": "stdout",
     "output_type": "stream",
     "text": [
      "<class 'pandas.core.frame.DataFrame'>\n",
      "RangeIndex: 9091 entries, 0 to 9090\n",
      "Data columns (total 11 columns):\n",
      " #   Column            Non-Null Count  Dtype  \n",
      "---  ------            --------------  -----  \n",
      " 0   credit_score      9091 non-null   int64  \n",
      " 1   geography         9091 non-null   object \n",
      " 2   gender            9091 non-null   object \n",
      " 3   age               9091 non-null   int64  \n",
      " 4   tenure            9091 non-null   float64\n",
      " 5   balance           9091 non-null   float64\n",
      " 6   num_of_products   9091 non-null   int64  \n",
      " 7   has_cr_card       9091 non-null   int64  \n",
      " 8   is_active_member  9091 non-null   int64  \n",
      " 9   estimated_salary  9091 non-null   float64\n",
      " 10  exited            9091 non-null   int64  \n",
      "dtypes: float64(3), int64(6), object(2)\n",
      "memory usage: 781.4+ KB\n"
     ]
    }
   ],
   "source": [
    "data.info()"
   ]
  },
  {
   "cell_type": "markdown",
   "metadata": {},
   "source": [
    "Теперь, когда мы избавились от пропусков, подтвердили отсутствие дубликатов и убали ненужные столбцы и стилевые нарушения можно начать наше исследование."
   ]
  },
  {
   "cell_type": "markdown",
   "metadata": {},
   "source": [
    "## Исследование задачи"
   ]
  },
  {
   "cell_type": "markdown",
   "metadata": {},
   "source": [
    "Для того, чтобы обучить модель и проверить ее работу понадобится разбить данные на три выборки: учебную, валидационную и тестовую. Но перед этим разобьем выборку на признаки и целевые признаки. В целевые признаки `target` возьмем столбец с информацией о том ушел клиент или нет, в обычные признаки `features` пойдут все остальные столбцы:"
   ]
  },
  {
   "cell_type": "code",
   "execution_count": 13,
   "metadata": {},
   "outputs": [],
   "source": [
    "features = data.drop(['exited'], axis=1)\n",
    "target = data['exited']"
   ]
  },
  {
   "cell_type": "markdown",
   "metadata": {},
   "source": [
    "Для разбития данных на выборки используем `train_test_split`. Сначала разобьем на тренировочную выборку `train` и выборку для проверки `check` в соотношении 60% и 40%, потом выборку для проверки `check` разобьем пополам, чтобы получилось по 20% от всей выборки на валидационную `valid` и тестовую `test` выборки:"
   ]
  },
  {
   "cell_type": "code",
   "execution_count": 14,
   "metadata": {},
   "outputs": [],
   "source": [
    "features_train, features_check, target_train, target_check, = train_test_split(\n",
    "    features, target, test_size=0.40, random_state=12345)"
   ]
  },
  {
   "cell_type": "code",
   "execution_count": 15,
   "metadata": {},
   "outputs": [],
   "source": [
    "features_valid, features_test, target_valid, target_test = train_test_split(\n",
    "    features_check, target_check, test_size=0.50, random_state=12345)"
   ]
  },
  {
   "cell_type": "markdown",
   "metadata": {},
   "source": [
    "Проверим, чтобы количественно выборки соответствовали необходимым параметрам:"
   ]
  },
  {
   "cell_type": "code",
   "execution_count": 16,
   "metadata": {},
   "outputs": [
    {
     "name": "stdout",
     "output_type": "stream",
     "text": [
      "(5454, 10)\n",
      "(5454,)\n",
      "(1818, 10)\n",
      "(1818,)\n",
      "(1819, 10)\n",
      "(1819,)\n"
     ]
    }
   ],
   "source": [
    "print(features_train.shape)\n",
    "print(target_train.shape)\n",
    "print(features_valid.shape)\n",
    "print(target_valid.shape)\n",
    "print(features_test.shape)\n",
    "print(target_test.shape)"
   ]
  },
  {
   "cell_type": "markdown",
   "metadata": {},
   "source": [
    "Выборки подготовленны."
   ]
  },
  {
   "cell_type": "markdown",
   "metadata": {},
   "source": [
    "Следующим шагом будет преобразование категориальных признаков в численные, для этого используем возможности `OneHotEncoder`. Для начала определим, с какими столбцами будем работать:"
   ]
  },
  {
   "cell_type": "code",
   "execution_count": 17,
   "metadata": {},
   "outputs": [],
   "source": [
    "categorical = ['geography', 'gender']"
   ]
  },
  {
   "cell_type": "markdown",
   "metadata": {},
   "source": [
    "Теперь обучим функцию на нашей тренировочной выборке."
   ]
  },
  {
   "cell_type": "code",
   "execution_count": 18,
   "metadata": {
    "scrolled": true
   },
   "outputs": [
    {
     "data": {
      "text/html": [
       "<style>#sk-container-id-1 {color: black;background-color: white;}#sk-container-id-1 pre{padding: 0;}#sk-container-id-1 div.sk-toggleable {background-color: white;}#sk-container-id-1 label.sk-toggleable__label {cursor: pointer;display: block;width: 100%;margin-bottom: 0;padding: 0.3em;box-sizing: border-box;text-align: center;}#sk-container-id-1 label.sk-toggleable__label-arrow:before {content: \"▸\";float: left;margin-right: 0.25em;color: #696969;}#sk-container-id-1 label.sk-toggleable__label-arrow:hover:before {color: black;}#sk-container-id-1 div.sk-estimator:hover label.sk-toggleable__label-arrow:before {color: black;}#sk-container-id-1 div.sk-toggleable__content {max-height: 0;max-width: 0;overflow: hidden;text-align: left;background-color: #f0f8ff;}#sk-container-id-1 div.sk-toggleable__content pre {margin: 0.2em;color: black;border-radius: 0.25em;background-color: #f0f8ff;}#sk-container-id-1 input.sk-toggleable__control:checked~div.sk-toggleable__content {max-height: 200px;max-width: 100%;overflow: auto;}#sk-container-id-1 input.sk-toggleable__control:checked~label.sk-toggleable__label-arrow:before {content: \"▾\";}#sk-container-id-1 div.sk-estimator input.sk-toggleable__control:checked~label.sk-toggleable__label {background-color: #d4ebff;}#sk-container-id-1 div.sk-label input.sk-toggleable__control:checked~label.sk-toggleable__label {background-color: #d4ebff;}#sk-container-id-1 input.sk-hidden--visually {border: 0;clip: rect(1px 1px 1px 1px);clip: rect(1px, 1px, 1px, 1px);height: 1px;margin: -1px;overflow: hidden;padding: 0;position: absolute;width: 1px;}#sk-container-id-1 div.sk-estimator {font-family: monospace;background-color: #f0f8ff;border: 1px dotted black;border-radius: 0.25em;box-sizing: border-box;margin-bottom: 0.5em;}#sk-container-id-1 div.sk-estimator:hover {background-color: #d4ebff;}#sk-container-id-1 div.sk-parallel-item::after {content: \"\";width: 100%;border-bottom: 1px solid gray;flex-grow: 1;}#sk-container-id-1 div.sk-label:hover label.sk-toggleable__label {background-color: #d4ebff;}#sk-container-id-1 div.sk-serial::before {content: \"\";position: absolute;border-left: 1px solid gray;box-sizing: border-box;top: 0;bottom: 0;left: 50%;z-index: 0;}#sk-container-id-1 div.sk-serial {display: flex;flex-direction: column;align-items: center;background-color: white;padding-right: 0.2em;padding-left: 0.2em;position: relative;}#sk-container-id-1 div.sk-item {position: relative;z-index: 1;}#sk-container-id-1 div.sk-parallel {display: flex;align-items: stretch;justify-content: center;background-color: white;position: relative;}#sk-container-id-1 div.sk-item::before, #sk-container-id-1 div.sk-parallel-item::before {content: \"\";position: absolute;border-left: 1px solid gray;box-sizing: border-box;top: 0;bottom: 0;left: 50%;z-index: -1;}#sk-container-id-1 div.sk-parallel-item {display: flex;flex-direction: column;z-index: 1;position: relative;background-color: white;}#sk-container-id-1 div.sk-parallel-item:first-child::after {align-self: flex-end;width: 50%;}#sk-container-id-1 div.sk-parallel-item:last-child::after {align-self: flex-start;width: 50%;}#sk-container-id-1 div.sk-parallel-item:only-child::after {width: 0;}#sk-container-id-1 div.sk-dashed-wrapped {border: 1px dashed gray;margin: 0 0.4em 0.5em 0.4em;box-sizing: border-box;padding-bottom: 0.4em;background-color: white;}#sk-container-id-1 div.sk-label label {font-family: monospace;font-weight: bold;display: inline-block;line-height: 1.2em;}#sk-container-id-1 div.sk-label-container {text-align: center;}#sk-container-id-1 div.sk-container {/* jupyter's `normalize.less` sets `[hidden] { display: none; }` but bootstrap.min.css set `[hidden] { display: none !important; }` so we also need the `!important` here to be able to override the default hidden behavior on the sphinx rendered scikit-learn.org. See: https://github.com/scikit-learn/scikit-learn/issues/21755 */display: inline-block !important;position: relative;}#sk-container-id-1 div.sk-text-repr-fallback {display: none;}</style><div id=\"sk-container-id-1\" class=\"sk-top-container\"><div class=\"sk-text-repr-fallback\"><pre>OneHotEncoder(drop=&#x27;first&#x27;, handle_unknown=&#x27;ignore&#x27;, sparse_output=False)</pre><b>In a Jupyter environment, please rerun this cell to show the HTML representation or trust the notebook. <br />On GitHub, the HTML representation is unable to render, please try loading this page with nbviewer.org.</b></div><div class=\"sk-container\" hidden><div class=\"sk-item\"><div class=\"sk-estimator sk-toggleable\"><input class=\"sk-toggleable__control sk-hidden--visually\" id=\"sk-estimator-id-1\" type=\"checkbox\" checked><label for=\"sk-estimator-id-1\" class=\"sk-toggleable__label sk-toggleable__label-arrow\">OneHotEncoder</label><div class=\"sk-toggleable__content\"><pre>OneHotEncoder(drop=&#x27;first&#x27;, handle_unknown=&#x27;ignore&#x27;, sparse_output=False)</pre></div></div></div></div></div>"
      ],
      "text/plain": [
       "OneHotEncoder(drop='first', handle_unknown='ignore', sparse_output=False)"
      ]
     },
     "execution_count": 18,
     "metadata": {},
     "output_type": "execute_result"
    }
   ],
   "source": [
    "ohe = OneHotEncoder(handle_unknown='ignore',sparse_output=False, drop='first')\n",
    "\n",
    "ohe.fit(features_train[categorical])"
   ]
  },
  {
   "cell_type": "markdown",
   "metadata": {},
   "source": [
    "И перекодируем каждую нашу выборку с помощью `OneHotEncoder`:"
   ]
  },
  {
   "cell_type": "markdown",
   "metadata": {},
   "source": [
    "Тренировочную:"
   ]
  },
  {
   "cell_type": "code",
   "execution_count": 19,
   "metadata": {},
   "outputs": [],
   "source": [
    "features_train_encoded = features_train.copy()\n",
    "\n",
    "features_train_encoded[ohe.get_feature_names_out()] = ohe.transform(features_train[categorical])\n",
    "\n",
    "features_train_encoded = features_train_encoded.drop(categorical, axis=1)"
   ]
  },
  {
   "cell_type": "markdown",
   "metadata": {},
   "source": [
    "Валидационную:"
   ]
  },
  {
   "cell_type": "code",
   "execution_count": 20,
   "metadata": {},
   "outputs": [],
   "source": [
    "features_valid_encoded = features_valid.copy()\n",
    "\n",
    "features_valid_encoded[ohe.get_feature_names_out()] = ohe.transform(features_valid[categorical])\n",
    "\n",
    "features_valid_encoded = features_valid_encoded.drop(categorical, axis=1)"
   ]
  },
  {
   "cell_type": "markdown",
   "metadata": {},
   "source": [
    "И тестовую:"
   ]
  },
  {
   "cell_type": "code",
   "execution_count": 21,
   "metadata": {
    "scrolled": true
   },
   "outputs": [],
   "source": [
    "features_test_encoded = features_test.copy()\n",
    "\n",
    "features_test_encoded[ohe.get_feature_names_out()] = ohe.transform(features_test[categorical])\n",
    "\n",
    "features_test_encoded = features_test_encoded.drop(categorical, axis=1)"
   ]
  },
  {
   "cell_type": "markdown",
   "metadata": {},
   "source": [
    "Проверим как теперь выглядят столбцы на примере тренировочной выборки:"
   ]
  },
  {
   "cell_type": "code",
   "execution_count": 22,
   "metadata": {
    "scrolled": false
   },
   "outputs": [
    {
     "data": {
      "text/html": [
       "<div>\n",
       "<style scoped>\n",
       "    .dataframe tbody tr th:only-of-type {\n",
       "        vertical-align: middle;\n",
       "    }\n",
       "\n",
       "    .dataframe tbody tr th {\n",
       "        vertical-align: top;\n",
       "    }\n",
       "\n",
       "    .dataframe thead th {\n",
       "        text-align: right;\n",
       "    }\n",
       "</style>\n",
       "<table border=\"1\" class=\"dataframe\">\n",
       "  <thead>\n",
       "    <tr style=\"text-align: right;\">\n",
       "      <th></th>\n",
       "      <th>credit_score</th>\n",
       "      <th>age</th>\n",
       "      <th>tenure</th>\n",
       "      <th>balance</th>\n",
       "      <th>num_of_products</th>\n",
       "      <th>has_cr_card</th>\n",
       "      <th>is_active_member</th>\n",
       "      <th>estimated_salary</th>\n",
       "      <th>geography_Germany</th>\n",
       "      <th>geography_Spain</th>\n",
       "      <th>gender_Male</th>\n",
       "    </tr>\n",
       "  </thead>\n",
       "  <tbody>\n",
       "    <tr>\n",
       "      <th>8483</th>\n",
       "      <td>727</td>\n",
       "      <td>28</td>\n",
       "      <td>2.0</td>\n",
       "      <td>110997.76</td>\n",
       "      <td>1</td>\n",
       "      <td>1</td>\n",
       "      <td>0</td>\n",
       "      <td>101433.76</td>\n",
       "      <td>0.0</td>\n",
       "      <td>0.0</td>\n",
       "      <td>0.0</td>\n",
       "    </tr>\n",
       "    <tr>\n",
       "      <th>3431</th>\n",
       "      <td>537</td>\n",
       "      <td>26</td>\n",
       "      <td>7.0</td>\n",
       "      <td>106397.75</td>\n",
       "      <td>1</td>\n",
       "      <td>0</td>\n",
       "      <td>0</td>\n",
       "      <td>103563.23</td>\n",
       "      <td>0.0</td>\n",
       "      <td>0.0</td>\n",
       "      <td>1.0</td>\n",
       "    </tr>\n",
       "    <tr>\n",
       "      <th>6770</th>\n",
       "      <td>610</td>\n",
       "      <td>40</td>\n",
       "      <td>9.0</td>\n",
       "      <td>0.00</td>\n",
       "      <td>1</td>\n",
       "      <td>1</td>\n",
       "      <td>1</td>\n",
       "      <td>149602.54</td>\n",
       "      <td>0.0</td>\n",
       "      <td>0.0</td>\n",
       "      <td>1.0</td>\n",
       "    </tr>\n",
       "  </tbody>\n",
       "</table>\n",
       "</div>"
      ],
      "text/plain": [
       "      credit_score  age  tenure    balance  num_of_products  has_cr_card  \\\n",
       "8483           727   28     2.0  110997.76                1            1   \n",
       "3431           537   26     7.0  106397.75                1            0   \n",
       "6770           610   40     9.0       0.00                1            1   \n",
       "\n",
       "      is_active_member  estimated_salary  geography_Germany  geography_Spain  \\\n",
       "8483                 0         101433.76                0.0              0.0   \n",
       "3431                 0         103563.23                0.0              0.0   \n",
       "6770                 1         149602.54                0.0              0.0   \n",
       "\n",
       "      gender_Male  \n",
       "8483          0.0  \n",
       "3431          1.0  \n",
       "6770          1.0  "
      ]
     },
     "execution_count": 22,
     "metadata": {},
     "output_type": "execute_result"
    }
   ],
   "source": [
    "features_train_encoded.head(3)"
   ]
  },
  {
   "cell_type": "markdown",
   "metadata": {},
   "source": [
    "Для дальнейшей работы масштабируем наши выборки. Сначала выберем численные признаки для масштабирования:"
   ]
  },
  {
   "cell_type": "code",
   "execution_count": 23,
   "metadata": {},
   "outputs": [],
   "source": [
    "numeric = ['credit_score','age','tenure','balance','num_of_products','has_cr_card','is_active_member','estimated_salary']"
   ]
  },
  {
   "cell_type": "markdown",
   "metadata": {},
   "source": [
    "Теперь создадим объект масштабирования и настроим его на обучающей выборке:"
   ]
  },
  {
   "cell_type": "code",
   "execution_count": 24,
   "metadata": {
    "scrolled": true
   },
   "outputs": [],
   "source": [
    "scaler = StandardScaler()\n",
    "scaler.fit(features_train_encoded[numeric]) \n",
    "features_train_encoded[numeric] = scaler.transform(features_train_encoded[numeric])\n",
    "features_valid_encoded[numeric] = scaler.transform(features_valid_encoded[numeric])\n",
    "features_test_encoded[numeric] = scaler.transform(features_test_encoded[numeric])"
   ]
  },
  {
   "cell_type": "markdown",
   "metadata": {},
   "source": [
    "Проверим получилось ли масштабировать по учебной выборке:"
   ]
  },
  {
   "cell_type": "code",
   "execution_count": 25,
   "metadata": {},
   "outputs": [
    {
     "data": {
      "text/html": [
       "<div>\n",
       "<style scoped>\n",
       "    .dataframe tbody tr th:only-of-type {\n",
       "        vertical-align: middle;\n",
       "    }\n",
       "\n",
       "    .dataframe tbody tr th {\n",
       "        vertical-align: top;\n",
       "    }\n",
       "\n",
       "    .dataframe thead th {\n",
       "        text-align: right;\n",
       "    }\n",
       "</style>\n",
       "<table border=\"1\" class=\"dataframe\">\n",
       "  <thead>\n",
       "    <tr style=\"text-align: right;\">\n",
       "      <th></th>\n",
       "      <th>credit_score</th>\n",
       "      <th>age</th>\n",
       "      <th>tenure</th>\n",
       "      <th>balance</th>\n",
       "      <th>num_of_products</th>\n",
       "      <th>has_cr_card</th>\n",
       "      <th>is_active_member</th>\n",
       "      <th>estimated_salary</th>\n",
       "      <th>geography_Germany</th>\n",
       "      <th>geography_Spain</th>\n",
       "      <th>gender_Male</th>\n",
       "    </tr>\n",
       "  </thead>\n",
       "  <tbody>\n",
       "    <tr>\n",
       "      <th>8483</th>\n",
       "      <td>0.809075</td>\n",
       "      <td>-1.039327</td>\n",
       "      <td>-1.025995</td>\n",
       "      <td>0.554904</td>\n",
       "      <td>-0.908179</td>\n",
       "      <td>0.663468</td>\n",
       "      <td>-1.024127</td>\n",
       "      <td>0.019508</td>\n",
       "      <td>0.0</td>\n",
       "      <td>0.0</td>\n",
       "      <td>0.0</td>\n",
       "    </tr>\n",
       "    <tr>\n",
       "      <th>3431</th>\n",
       "      <td>-1.152518</td>\n",
       "      <td>-1.227561</td>\n",
       "      <td>0.696524</td>\n",
       "      <td>0.480609</td>\n",
       "      <td>-0.908179</td>\n",
       "      <td>-1.507231</td>\n",
       "      <td>-1.024127</td>\n",
       "      <td>0.056167</td>\n",
       "      <td>0.0</td>\n",
       "      <td>0.0</td>\n",
       "      <td>1.0</td>\n",
       "    </tr>\n",
       "    <tr>\n",
       "      <th>6770</th>\n",
       "      <td>-0.398853</td>\n",
       "      <td>0.090079</td>\n",
       "      <td>1.385532</td>\n",
       "      <td>-1.237830</td>\n",
       "      <td>-0.908179</td>\n",
       "      <td>0.663468</td>\n",
       "      <td>0.976442</td>\n",
       "      <td>0.848738</td>\n",
       "      <td>0.0</td>\n",
       "      <td>0.0</td>\n",
       "      <td>1.0</td>\n",
       "    </tr>\n",
       "  </tbody>\n",
       "</table>\n",
       "</div>"
      ],
      "text/plain": [
       "      credit_score       age    tenure   balance  num_of_products  \\\n",
       "8483      0.809075 -1.039327 -1.025995  0.554904        -0.908179   \n",
       "3431     -1.152518 -1.227561  0.696524  0.480609        -0.908179   \n",
       "6770     -0.398853  0.090079  1.385532 -1.237830        -0.908179   \n",
       "\n",
       "      has_cr_card  is_active_member  estimated_salary  geography_Germany  \\\n",
       "8483     0.663468         -1.024127          0.019508                0.0   \n",
       "3431    -1.507231         -1.024127          0.056167                0.0   \n",
       "6770     0.663468          0.976442          0.848738                0.0   \n",
       "\n",
       "      geography_Spain  gender_Male  \n",
       "8483              0.0          0.0  \n",
       "3431              0.0          1.0  \n",
       "6770              0.0          1.0  "
      ]
     },
     "execution_count": 25,
     "metadata": {},
     "output_type": "execute_result"
    }
   ],
   "source": [
    "features_train_encoded.head(3)"
   ]
  },
  {
   "cell_type": "markdown",
   "metadata": {},
   "source": [
    "Теперь начнем изучать какие модели лучше себя поведут:"
   ]
  },
  {
   "cell_type": "markdown",
   "metadata": {},
   "source": [
    "Обучим и используем три модели:\n",
    "- Модель дерево решений (Decision Tree Classifier)\n",
    "- Модель случайного леса (Random Fores tClassifier)\n",
    "- Модель логистической регрессии (Logistic Regression)"
   ]
  },
  {
   "cell_type": "markdown",
   "metadata": {},
   "source": [
    "Начнем с модели дерева решений `model_dtc`. Установим какой параметр максимальной глубины дерева `depth` (от 1 до 11) даст модель с  лучшим показателем *F1* при сравнении с ответами валидационной выборки."
   ]
  },
  {
   "cell_type": "code",
   "execution_count": 26,
   "metadata": {},
   "outputs": [
    {
     "name": "stdout",
     "output_type": "stream",
     "text": [
      " F1-мера наилучшей модели дерева решений на валидационной выборке: 0.5764331210191083 \n",
      " При максимальной глубине дерева: 7\n"
     ]
    }
   ],
   "source": [
    "best_result_dtc = 0\n",
    "best_depth_dtc = 0\n",
    "\n",
    "for depth in range(1, 11):\n",
    "    model_dtc = DecisionTreeClassifier(random_state=12345, max_depth=depth)\n",
    "    model_dtc.fit(features_train_encoded, target_train)\n",
    "    predictions_valid_dtc = model_dtc.predict(features_valid_encoded)\n",
    "    result_valid_dtc = f1_score(target_valid, predictions_valid_dtc)\n",
    "    if result_valid_dtc > best_result_dtc:\n",
    "        best_result_dtc = result_valid_dtc\n",
    "        best_depth_dtc = depth\n",
    "        \n",
    "    \n",
    "print(' F1-мера наилучшей модели дерева решений на валидационной выборке:', best_result_dtc, \n",
    "'\\n При максимальной глубине дерева:', best_depth_dtc)"
   ]
  },
  {
   "cell_type": "markdown",
   "metadata": {},
   "source": [
    "Теперь очередь модели случайного леса `model_rfc`. Установим какой параметр количества деревьев `est` и какая глубина дерева `depth` даст модель с лучшим показателем *F1* при сравнении с ответами валидационной выборки."
   ]
  },
  {
   "cell_type": "code",
   "execution_count": 27,
   "metadata": {
    "scrolled": false
   },
   "outputs": [
    {
     "name": "stdout",
     "output_type": "stream",
     "text": [
      " F1-мера наилучшей модели случайного леса на валидационной выборке: 0.60625 \n",
      " При количестве деревьев: 13 При глубине деревьев 24\n"
     ]
    }
   ],
   "source": [
    "best_result_rfc = 0\n",
    "best_est_rfc = 0\n",
    "best_depth_rfc = 0\n",
    "\n",
    "for est in range(1, 16):\n",
    "    for depth in range(10, 26):\n",
    "        model_rfc = RandomForestClassifier(random_state=12345, n_estimators=est, max_depth=depth)\n",
    "        model_rfc.fit(features_train_encoded, target_train)\n",
    "        predictions_valid_rfc = model_rfc.predict(features_valid_encoded)\n",
    "        result_valid_rfc = f1_score(target_valid, predictions_valid_rfc)\n",
    "        if result_valid_rfc > best_result_rfc:\n",
    "            best_result_rfc = result_valid_rfc\n",
    "            best_est_rfc = est\n",
    "            best_depth_rfc = depth\n",
    "            \n",
    "\n",
    "        \n",
    "print(' F1-мера наилучшей модели случайного леса на валидационной выборке:', best_result_rfc,\n",
    "      '\\n При количестве деревьев:', best_est_rfc, 'При глубине деревьев', best_depth_rfc)"
   ]
  },
  {
   "cell_type": "markdown",
   "metadata": {},
   "source": [
    "Теперь проверим модель логистической регрессии `model_lr`. Установим какой параметр итерации `itr` (от 100 до 1000, с шагом в 10) даст модель с лучшим показателем *F1*  при сравнении с ответами валидационной выборки."
   ]
  },
  {
   "cell_type": "code",
   "execution_count": 28,
   "metadata": {},
   "outputs": [
    {
     "name": "stdout",
     "output_type": "stream",
     "text": [
      " F1-мера наилучшей модели логистической регрессии на валидационной выборке: 0.3033932135728543 \n",
      " При количестве итераций: 100\n"
     ]
    }
   ],
   "source": [
    "best_result_lr = 0\n",
    "best_itr_lr = 0\n",
    "\n",
    "for itr in range(100, 501, 10):\n",
    "    model_lr = LogisticRegression(random_state=12345, solver='liblinear', max_iter=itr)\n",
    "    model_lr.fit(features_train_encoded, target_train)\n",
    "    predictions_valid_lr = model_lr.predict(features_valid_encoded)\n",
    "    result_valid_lr = f1_score(target_valid, predictions_valid_lr)\n",
    "    if result_valid_lr > best_result_lr:\n",
    "        best_result_lr = result_valid_lr\n",
    "        best_itr_lr = itr\n",
    "\n",
    "print(' F1-мера наилучшей модели логистической регрессии на валидационной выборке:', best_result_lr,\n",
    "      '\\n При количестве итераций:', best_itr_lr)"
   ]
  },
  {
   "cell_type": "markdown",
   "metadata": {},
   "source": [
    "Мы разбили наши данные на три выборки, необходимые для работы, а после поменяли категориальные признаки в численные. Затем после исследования трех различных моделей мы установиил, что лучше всего себя показала модель случайного леса с количеством деревьев 39 и глубиной 24. Так как эта модель лучшая, то после того, как уберем дисбаланс в учебной выборке, то мы снова ее обучим и проверим ее качество."
   ]
  },
  {
   "cell_type": "markdown",
   "metadata": {},
   "source": [
    "## Борьба с дисбалансом"
   ]
  },
  {
   "cell_type": "markdown",
   "metadata": {},
   "source": [
    "Проверим есть ли дисбаланс классов:"
   ]
  },
  {
   "cell_type": "code",
   "execution_count": 29,
   "metadata": {
    "scrolled": true
   },
   "outputs": [
    {
     "data": {
      "text/plain": [
       "(array([0, 1]), array([4328, 1126]))"
      ]
     },
     "execution_count": 29,
     "metadata": {},
     "output_type": "execute_result"
    }
   ],
   "source": [
    "np.unique(target_train, return_counts = True)"
   ]
  },
  {
   "cell_type": "markdown",
   "metadata": {},
   "source": [
    "Дисбаланс присутствует, отрицательных значений больше в 4 раза. С помощью функции SMOTE поправим дисбаланс классов в выборке:"
   ]
  },
  {
   "cell_type": "code",
   "execution_count": 32,
   "metadata": {},
   "outputs": [],
   "source": [
    "oversample = SMOTE(random_state=12345)\n",
    "features_train_u, target_train_u = oversample.fit_resample(features_train_encoded, target_train)"
   ]
  },
  {
   "cell_type": "markdown",
   "metadata": {},
   "source": [
    "Теперь у нас есть сбалансированные выборки для дальнейшего исследования:"
   ]
  },
  {
   "cell_type": "markdown",
   "metadata": {},
   "source": [
    "Снова начнем исследование с модели дерева решений `model_dtc`:"
   ]
  },
  {
   "cell_type": "code",
   "execution_count": 33,
   "metadata": {
    "scrolled": true
   },
   "outputs": [
    {
     "name": "stdout",
     "output_type": "stream",
     "text": [
      " F1-мера наилучшей модели дерева решений на валидационной выборке: 0.5956964892412231 \n",
      " При максимальной глубине дерева: 8\n"
     ]
    }
   ],
   "source": [
    "best_result_dtc = 0\n",
    "best_depth_dtc = 0\n",
    "\n",
    "for depth in range(1, 11):\n",
    "    model_dtc = DecisionTreeClassifier(random_state=12345, max_depth=depth)\n",
    "    model_dtc.fit(features_train_u, target_train_u)\n",
    "    predictions_valid_dtc = model_dtc.predict(features_valid_encoded)\n",
    "    result_valid_dtc = f1_score(target_valid, predictions_valid_dtc)\n",
    "    if result_valid_dtc > best_result_dtc:\n",
    "        best_result_dtc = result_valid_dtc\n",
    "        best_depth_dtc = depth\n",
    "        \n",
    "    \n",
    "print(' F1-мера наилучшей модели дерева решений на валидационной выборке:', best_result_dtc, \n",
    "'\\n При максимальной глубине дерева:', best_depth_dtc)"
   ]
  },
  {
   "cell_type": "markdown",
   "metadata": {},
   "source": [
    "На сбалансированных выборках модель показывает результат получше."
   ]
  },
  {
   "cell_type": "markdown",
   "metadata": {},
   "source": [
    "Теперь проверим модель логистической регрессии `model_lr`:"
   ]
  },
  {
   "cell_type": "code",
   "execution_count": 34,
   "metadata": {
    "scrolled": false
   },
   "outputs": [
    {
     "name": "stdout",
     "output_type": "stream",
     "text": [
      " F1-мера наилучшей модели логистической регрессии на валидационной выборке: 0.5079962370649106 \n",
      " При количестве итераций: 100\n"
     ]
    }
   ],
   "source": [
    "best_result_lr = 0\n",
    "best_itr_lr = 0\n",
    "\n",
    "for itr in range(100, 501, 10):\n",
    "    model_lr = LogisticRegression(random_state=12345, solver='liblinear', max_iter=itr)\n",
    "    model_lr.fit(features_train_u, target_train_u)\n",
    "    predictions_valid_lr = model_lr.predict(features_valid_encoded)\n",
    "    result_valid_lr = f1_score(target_valid, predictions_valid_lr)\n",
    "    if result_valid_lr > best_result_lr:\n",
    "        best_result_lr = result_valid_lr\n",
    "        best_itr_lr = itr\n",
    "\n",
    "print(' F1-мера наилучшей модели логистической регрессии на валидационной выборке:', best_result_lr,\n",
    "      '\\n При количестве итераций:', best_itr_lr)"
   ]
  },
  {
   "cell_type": "markdown",
   "metadata": {},
   "source": [
    "Модель логистической регресии на сбалансированных выборках показывает гораздо более хороший результат"
   ]
  },
  {
   "cell_type": "markdown",
   "metadata": {},
   "source": [
    "Теперь на этих сбалансированных выборках обучим модель случайного леса `model_rfc`, показавшую до этого самый лучший результат, чтобы определить какие гиперпараметры задать модели:"
   ]
  },
  {
   "cell_type": "code",
   "execution_count": 35,
   "metadata": {
    "scrolled": false
   },
   "outputs": [
    {
     "name": "stdout",
     "output_type": "stream",
     "text": [
      " F1-мера наилучшей модели случайного леса на валидационной выборке: 0.655483870967742 \n",
      " При количестве деревьев: 36 При глубине деревьев 11\n"
     ]
    }
   ],
   "source": [
    "best_result_rfc = 0\n",
    "best_est_rfc = 0\n",
    "best_depth_rfc = 0\n",
    "\n",
    "for est in range(30, 41):\n",
    "    for depth in range(1, 16):\n",
    "        model_rfc = RandomForestClassifier(random_state=12345, n_estimators=est, max_depth=depth)\n",
    "        model_rfc.fit(features_train_u, target_train_u)\n",
    "        predictions_valid_rfc = model_rfc.predict(features_valid_encoded)\n",
    "        result_valid_rfc = f1_score(target_valid, predictions_valid_rfc)\n",
    "        if result_valid_rfc > best_result_rfc:\n",
    "            best_result_rfc = result_valid_rfc\n",
    "            best_est_rfc = est\n",
    "            best_depth_rfc = depth\n",
    "            \n",
    "\n",
    "        \n",
    "print(' F1-мера наилучшей модели случайного леса на валидационной выборке:', best_result_rfc,\n",
    "      '\\n При количестве деревьев:', best_est_rfc, 'При глубине деревьев', best_depth_rfc)"
   ]
  },
  {
   "cell_type": "markdown",
   "metadata": {},
   "source": [
    "После проведения балансировки модель случайного леса снова показывает себя лучше в предсказаниях."
   ]
  },
  {
   "cell_type": "markdown",
   "metadata": {},
   "source": [
    "Сохраним полученную лучшую модель с полученными гиперпараметрами для проверки ее на тестовой выборке."
   ]
  },
  {
   "cell_type": "code",
   "execution_count": 36,
   "metadata": {
    "scrolled": true
   },
   "outputs": [
    {
     "data": {
      "text/html": [
       "<style>#sk-container-id-2 {color: black;background-color: white;}#sk-container-id-2 pre{padding: 0;}#sk-container-id-2 div.sk-toggleable {background-color: white;}#sk-container-id-2 label.sk-toggleable__label {cursor: pointer;display: block;width: 100%;margin-bottom: 0;padding: 0.3em;box-sizing: border-box;text-align: center;}#sk-container-id-2 label.sk-toggleable__label-arrow:before {content: \"▸\";float: left;margin-right: 0.25em;color: #696969;}#sk-container-id-2 label.sk-toggleable__label-arrow:hover:before {color: black;}#sk-container-id-2 div.sk-estimator:hover label.sk-toggleable__label-arrow:before {color: black;}#sk-container-id-2 div.sk-toggleable__content {max-height: 0;max-width: 0;overflow: hidden;text-align: left;background-color: #f0f8ff;}#sk-container-id-2 div.sk-toggleable__content pre {margin: 0.2em;color: black;border-radius: 0.25em;background-color: #f0f8ff;}#sk-container-id-2 input.sk-toggleable__control:checked~div.sk-toggleable__content {max-height: 200px;max-width: 100%;overflow: auto;}#sk-container-id-2 input.sk-toggleable__control:checked~label.sk-toggleable__label-arrow:before {content: \"▾\";}#sk-container-id-2 div.sk-estimator input.sk-toggleable__control:checked~label.sk-toggleable__label {background-color: #d4ebff;}#sk-container-id-2 div.sk-label input.sk-toggleable__control:checked~label.sk-toggleable__label {background-color: #d4ebff;}#sk-container-id-2 input.sk-hidden--visually {border: 0;clip: rect(1px 1px 1px 1px);clip: rect(1px, 1px, 1px, 1px);height: 1px;margin: -1px;overflow: hidden;padding: 0;position: absolute;width: 1px;}#sk-container-id-2 div.sk-estimator {font-family: monospace;background-color: #f0f8ff;border: 1px dotted black;border-radius: 0.25em;box-sizing: border-box;margin-bottom: 0.5em;}#sk-container-id-2 div.sk-estimator:hover {background-color: #d4ebff;}#sk-container-id-2 div.sk-parallel-item::after {content: \"\";width: 100%;border-bottom: 1px solid gray;flex-grow: 1;}#sk-container-id-2 div.sk-label:hover label.sk-toggleable__label {background-color: #d4ebff;}#sk-container-id-2 div.sk-serial::before {content: \"\";position: absolute;border-left: 1px solid gray;box-sizing: border-box;top: 0;bottom: 0;left: 50%;z-index: 0;}#sk-container-id-2 div.sk-serial {display: flex;flex-direction: column;align-items: center;background-color: white;padding-right: 0.2em;padding-left: 0.2em;position: relative;}#sk-container-id-2 div.sk-item {position: relative;z-index: 1;}#sk-container-id-2 div.sk-parallel {display: flex;align-items: stretch;justify-content: center;background-color: white;position: relative;}#sk-container-id-2 div.sk-item::before, #sk-container-id-2 div.sk-parallel-item::before {content: \"\";position: absolute;border-left: 1px solid gray;box-sizing: border-box;top: 0;bottom: 0;left: 50%;z-index: -1;}#sk-container-id-2 div.sk-parallel-item {display: flex;flex-direction: column;z-index: 1;position: relative;background-color: white;}#sk-container-id-2 div.sk-parallel-item:first-child::after {align-self: flex-end;width: 50%;}#sk-container-id-2 div.sk-parallel-item:last-child::after {align-self: flex-start;width: 50%;}#sk-container-id-2 div.sk-parallel-item:only-child::after {width: 0;}#sk-container-id-2 div.sk-dashed-wrapped {border: 1px dashed gray;margin: 0 0.4em 0.5em 0.4em;box-sizing: border-box;padding-bottom: 0.4em;background-color: white;}#sk-container-id-2 div.sk-label label {font-family: monospace;font-weight: bold;display: inline-block;line-height: 1.2em;}#sk-container-id-2 div.sk-label-container {text-align: center;}#sk-container-id-2 div.sk-container {/* jupyter's `normalize.less` sets `[hidden] { display: none; }` but bootstrap.min.css set `[hidden] { display: none !important; }` so we also need the `!important` here to be able to override the default hidden behavior on the sphinx rendered scikit-learn.org. See: https://github.com/scikit-learn/scikit-learn/issues/21755 */display: inline-block !important;position: relative;}#sk-container-id-2 div.sk-text-repr-fallback {display: none;}</style><div id=\"sk-container-id-2\" class=\"sk-top-container\"><div class=\"sk-text-repr-fallback\"><pre>RandomForestClassifier(max_depth=11, n_estimators=36, random_state=12345)</pre><b>In a Jupyter environment, please rerun this cell to show the HTML representation or trust the notebook. <br />On GitHub, the HTML representation is unable to render, please try loading this page with nbviewer.org.</b></div><div class=\"sk-container\" hidden><div class=\"sk-item\"><div class=\"sk-estimator sk-toggleable\"><input class=\"sk-toggleable__control sk-hidden--visually\" id=\"sk-estimator-id-2\" type=\"checkbox\" checked><label for=\"sk-estimator-id-2\" class=\"sk-toggleable__label sk-toggleable__label-arrow\">RandomForestClassifier</label><div class=\"sk-toggleable__content\"><pre>RandomForestClassifier(max_depth=11, n_estimators=36, random_state=12345)</pre></div></div></div></div></div>"
      ],
      "text/plain": [
       "RandomForestClassifier(max_depth=11, n_estimators=36, random_state=12345)"
      ]
     },
     "execution_count": 36,
     "metadata": {},
     "output_type": "execute_result"
    }
   ],
   "source": [
    "best_model = RandomForestClassifier(random_state=12345, n_estimators=36, max_depth=11)\n",
    "best_model.fit(features_train_u, target_train_u)"
   ]
  },
  {
   "cell_type": "markdown",
   "metadata": {},
   "source": [
    "После корректировки дисбаланса класса с помощью функции SMOTE получилось улучшить показатель `F1` наших моделей. Более хороший показали и модель дерева решений и модель логической регрессии, однако как и при иссследовании до корректировки дисбаланса лучше других себя показала модель случайного леса. Мы переобучили ее и подобрали новые гиперпараметры (количество деревьев 36, глубина 11), теперь пришло время опробовать ее на тестовой выборке."
   ]
  },
  {
   "cell_type": "markdown",
   "metadata": {},
   "source": [
    "## Тестирование модели"
   ]
  },
  {
   "cell_type": "markdown",
   "metadata": {},
   "source": [
    "Протестируем нашу обученную модель на тестовой выборке:"
   ]
  },
  {
   "cell_type": "code",
   "execution_count": 37,
   "metadata": {
    "scrolled": true
   },
   "outputs": [
    {
     "data": {
      "text/plain": [
       "0.601078167115903"
      ]
     },
     "execution_count": 37,
     "metadata": {},
     "output_type": "execute_result"
    }
   ],
   "source": [
    "predictions_test = best_model.predict(features_test_encoded)\n",
    "f1_score(target_test, predictions_test)"
   ]
  },
  {
   "cell_type": "markdown",
   "metadata": {},
   "source": [
    "Модель показала себя хуже, чем на валидационной выборке, но F1-мера превышает необходимый уровень в 0.59."
   ]
  },
  {
   "cell_type": "markdown",
   "metadata": {},
   "source": [
    "Для проверки на адекватность создадим dummy-модель, обучим ее на подготовленных учебных выборках и узнаем ее F1-меру для тестовой выборки:"
   ]
  },
  {
   "cell_type": "code",
   "execution_count": 38,
   "metadata": {
    "scrolled": true
   },
   "outputs": [
    {
     "data": {
      "text/plain": [
       "0.3235023041474654"
      ]
     },
     "execution_count": 38,
     "metadata": {},
     "output_type": "execute_result"
    }
   ],
   "source": [
    "dummy_model = DummyClassifier(strategy='constant', constant=1)\n",
    "dummy_model.fit(features_train_u, target_train_u)\n",
    "f1_score(dummy_model.predict(features_test_encoded), target_test)"
   ]
  },
  {
   "cell_type": "markdown",
   "metadata": {},
   "source": [
    "Проверку на адекватность наша модель прошла."
   ]
  },
  {
   "cell_type": "markdown",
   "metadata": {},
   "source": [
    "Теперь изучим модель с помощью допольнительной оценки AUC-ROC:"
   ]
  },
  {
   "cell_type": "code",
   "execution_count": 39,
   "metadata": {},
   "outputs": [
    {
     "name": "stdout",
     "output_type": "stream",
     "text": [
      "0.855975919327418\n"
     ]
    }
   ],
   "source": [
    "probabilities_test = best_model.predict_proba(features_test_encoded)\n",
    "probabilities_one_valid = probabilities_test[:, 1]\n",
    "\n",
    "print(roc_auc_score(target_test, probabilities_one_valid))"
   ]
  },
  {
   "cell_type": "markdown",
   "metadata": {},
   "source": [
    "Здесь модель тоже проходит проверку, показатель выше критического 0.5."
   ]
  },
  {
   "cell_type": "markdown",
   "metadata": {},
   "source": [
    "Так как для нас важно обнаружнить тех клиентов, которые планируют уйти, то проверим нашу модель по метрике полноты:"
   ]
  },
  {
   "cell_type": "code",
   "execution_count": 40,
   "metadata": {
    "scrolled": true
   },
   "outputs": [
    {
     "data": {
      "text/plain": [
       "0.6353276353276354"
      ]
     },
     "execution_count": 40,
     "metadata": {},
     "output_type": "execute_result"
    }
   ],
   "source": [
    "recall_score(target_test, predictions_test)"
   ]
  },
  {
   "cell_type": "markdown",
   "metadata": {},
   "source": [
    "**Вывод по проекту:**\n",
    "\n",
    "Мы проверили работу нескольких моделей и выбрали из них наилучшую модель, это модель случайного леса с гиперпараметрами: количество деревьев 36, глубина 11.\n",
    "\n",
    "На тестово выборке она показала результат F1-меры равный 0.603, отвечающий нашим требованиям и гораздо более высокий чем у dummy-модели 0.323.\n",
    "\n",
    "Показатель ROC AUC модели составляет 0,856, что говорит о том, что из предсказанных моделью клиентов готовых рассторгнуть договор 85% действительно собираются это сделать.\n",
    "\n",
    "Так же проверен на тестовой выборке показатель полноты, он равен 0.635, это означает, что из тех клиентов, которые планируют уходить, модель обнаруживает 63%."
   ]
  }
 ],
 "metadata": {
  "ExecuteTimeLog": [
   {
    "duration": 45,
    "start_time": "2023-02-12T22:49:34.788Z"
   },
   {
    "duration": 400,
    "start_time": "2023-02-12T22:49:39.138Z"
   },
   {
    "duration": 164,
    "start_time": "2023-02-12T22:49:40.165Z"
   },
   {
    "duration": 12,
    "start_time": "2023-02-12T22:49:49.487Z"
   },
   {
    "duration": 22,
    "start_time": "2023-02-12T22:50:13.577Z"
   },
   {
    "duration": 12,
    "start_time": "2023-02-13T00:27:33.920Z"
   },
   {
    "duration": 10,
    "start_time": "2023-02-13T00:27:41.398Z"
   },
   {
    "duration": 14,
    "start_time": "2023-02-13T00:28:25.898Z"
   },
   {
    "duration": 10,
    "start_time": "2023-02-13T00:28:27.348Z"
   },
   {
    "duration": 40,
    "start_time": "2023-02-13T01:18:13.462Z"
   },
   {
    "duration": 1106,
    "start_time": "2023-02-13T01:19:48.454Z"
   },
   {
    "duration": 1109,
    "start_time": "2023-02-13T01:19:52.394Z"
   },
   {
    "duration": 6,
    "start_time": "2023-02-13T01:20:03.276Z"
   },
   {
    "duration": 10,
    "start_time": "2023-02-13T01:20:59.880Z"
   },
   {
    "duration": 46,
    "start_time": "2023-02-13T19:23:39.238Z"
   },
   {
    "duration": 393,
    "start_time": "2023-02-13T19:23:45.870Z"
   },
   {
    "duration": 170,
    "start_time": "2023-02-13T19:23:46.265Z"
   },
   {
    "duration": 27,
    "start_time": "2023-02-13T19:23:46.437Z"
   },
   {
    "duration": 20,
    "start_time": "2023-02-13T19:23:46.466Z"
   },
   {
    "duration": 22,
    "start_time": "2023-02-13T19:23:46.489Z"
   },
   {
    "duration": 12,
    "start_time": "2023-02-13T19:23:46.513Z"
   },
   {
    "duration": 9,
    "start_time": "2023-02-13T19:23:46.528Z"
   },
   {
    "duration": 1194,
    "start_time": "2023-02-13T19:23:46.539Z"
   },
   {
    "duration": 1150,
    "start_time": "2023-02-13T19:25:23.811Z"
   },
   {
    "duration": 5,
    "start_time": "2023-02-13T19:25:38.070Z"
   },
   {
    "duration": 7,
    "start_time": "2023-02-13T19:55:51.694Z"
   },
   {
    "duration": 5,
    "start_time": "2023-02-13T19:56:02.349Z"
   },
   {
    "duration": 6,
    "start_time": "2023-02-13T19:56:27.387Z"
   },
   {
    "duration": 4,
    "start_time": "2023-02-13T19:56:36.601Z"
   },
   {
    "duration": 3,
    "start_time": "2023-02-13T19:57:04.963Z"
   },
   {
    "duration": 398,
    "start_time": "2023-02-13T19:57:10.950Z"
   },
   {
    "duration": 41,
    "start_time": "2023-02-13T19:57:11.350Z"
   },
   {
    "duration": 22,
    "start_time": "2023-02-13T19:57:11.392Z"
   },
   {
    "duration": 11,
    "start_time": "2023-02-13T19:57:11.417Z"
   },
   {
    "duration": 11,
    "start_time": "2023-02-13T19:57:11.430Z"
   },
   {
    "duration": 8,
    "start_time": "2023-02-13T19:57:11.443Z"
   },
   {
    "duration": 5,
    "start_time": "2023-02-13T19:57:11.452Z"
   },
   {
    "duration": 17,
    "start_time": "2023-02-13T19:57:11.458Z"
   },
   {
    "duration": 6,
    "start_time": "2023-02-13T19:57:11.477Z"
   },
   {
    "duration": 7,
    "start_time": "2023-02-13T19:57:11.484Z"
   },
   {
    "duration": 8,
    "start_time": "2023-02-13T19:57:11.492Z"
   },
   {
    "duration": 408,
    "start_time": "2023-02-13T19:58:41.946Z"
   },
   {
    "duration": 41,
    "start_time": "2023-02-13T19:58:42.356Z"
   },
   {
    "duration": 21,
    "start_time": "2023-02-13T19:58:42.398Z"
   },
   {
    "duration": 12,
    "start_time": "2023-02-13T19:58:42.421Z"
   },
   {
    "duration": 10,
    "start_time": "2023-02-13T19:58:42.435Z"
   },
   {
    "duration": 6,
    "start_time": "2023-02-13T19:58:42.448Z"
   },
   {
    "duration": 4,
    "start_time": "2023-02-13T19:58:42.456Z"
   },
   {
    "duration": 4,
    "start_time": "2023-02-13T19:58:42.461Z"
   },
   {
    "duration": 8,
    "start_time": "2023-02-13T19:58:42.467Z"
   },
   {
    "duration": 7,
    "start_time": "2023-02-13T19:58:42.476Z"
   },
   {
    "duration": 78,
    "start_time": "2023-02-13T20:03:35.360Z"
   },
   {
    "duration": 25,
    "start_time": "2023-02-13T20:03:40.129Z"
   },
   {
    "duration": 8,
    "start_time": "2023-02-13T20:03:48.377Z"
   },
   {
    "duration": 14,
    "start_time": "2023-02-13T20:05:00.665Z"
   },
   {
    "duration": 14,
    "start_time": "2023-02-13T20:05:05.200Z"
   },
   {
    "duration": 11,
    "start_time": "2023-02-13T20:05:26.726Z"
   },
   {
    "duration": 8,
    "start_time": "2023-02-13T20:05:32.098Z"
   },
   {
    "duration": 5,
    "start_time": "2023-02-13T20:05:32.742Z"
   },
   {
    "duration": 4,
    "start_time": "2023-02-13T20:05:39.979Z"
   },
   {
    "duration": 4,
    "start_time": "2023-02-13T20:05:40.507Z"
   },
   {
    "duration": 8,
    "start_time": "2023-02-13T20:06:49.550Z"
   },
   {
    "duration": 4,
    "start_time": "2023-02-13T20:07:04.710Z"
   },
   {
    "duration": 4,
    "start_time": "2023-02-13T20:07:05.109Z"
   },
   {
    "duration": 5,
    "start_time": "2023-02-13T20:07:05.713Z"
   },
   {
    "duration": 14,
    "start_time": "2023-02-13T20:07:16.114Z"
   },
   {
    "duration": 2,
    "start_time": "2023-02-13T20:11:17.251Z"
   },
   {
    "duration": 40,
    "start_time": "2023-02-13T20:11:35.457Z"
   },
   {
    "duration": 15,
    "start_time": "2023-02-13T20:11:52.864Z"
   },
   {
    "duration": 13,
    "start_time": "2023-02-13T20:11:55.437Z"
   },
   {
    "duration": 13,
    "start_time": "2023-02-13T20:11:56.057Z"
   },
   {
    "duration": 11,
    "start_time": "2023-02-13T20:16:21.117Z"
   },
   {
    "duration": 10,
    "start_time": "2023-02-13T20:16:54.467Z"
   },
   {
    "duration": 11,
    "start_time": "2023-02-13T20:21:00.749Z"
   },
   {
    "duration": 9,
    "start_time": "2023-02-13T20:21:04.729Z"
   },
   {
    "duration": 13,
    "start_time": "2023-02-13T20:23:11.196Z"
   },
   {
    "duration": 7,
    "start_time": "2023-02-13T20:23:23.907Z"
   },
   {
    "duration": 12,
    "start_time": "2023-02-13T20:24:10.050Z"
   },
   {
    "duration": 429,
    "start_time": "2023-02-13T20:25:00.519Z"
   },
   {
    "duration": 45,
    "start_time": "2023-02-13T20:25:00.951Z"
   },
   {
    "duration": 19,
    "start_time": "2023-02-13T20:25:00.998Z"
   },
   {
    "duration": 54,
    "start_time": "2023-02-13T20:25:01.019Z"
   },
   {
    "duration": 31,
    "start_time": "2023-02-13T20:25:01.075Z"
   },
   {
    "duration": 28,
    "start_time": "2023-02-13T20:25:01.107Z"
   },
   {
    "duration": 47,
    "start_time": "2023-02-13T20:25:01.137Z"
   },
   {
    "duration": 42,
    "start_time": "2023-02-13T20:25:01.186Z"
   },
   {
    "duration": 44,
    "start_time": "2023-02-13T20:25:01.229Z"
   },
   {
    "duration": 43,
    "start_time": "2023-02-13T20:25:01.274Z"
   },
   {
    "duration": 4,
    "start_time": "2023-02-13T20:26:24.292Z"
   },
   {
    "duration": 14,
    "start_time": "2023-02-13T20:26:27.382Z"
   },
   {
    "duration": 84,
    "start_time": "2023-02-13T20:26:35.938Z"
   },
   {
    "duration": 448,
    "start_time": "2023-02-13T20:26:52.325Z"
   },
   {
    "duration": 42,
    "start_time": "2023-02-13T20:26:52.775Z"
   },
   {
    "duration": 19,
    "start_time": "2023-02-13T20:26:52.819Z"
   },
   {
    "duration": 16,
    "start_time": "2023-02-13T20:26:52.840Z"
   },
   {
    "duration": 11,
    "start_time": "2023-02-13T20:26:52.858Z"
   },
   {
    "duration": 10,
    "start_time": "2023-02-13T20:26:52.870Z"
   },
   {
    "duration": 5,
    "start_time": "2023-02-13T20:26:52.882Z"
   },
   {
    "duration": 8,
    "start_time": "2023-02-13T20:26:52.889Z"
   },
   {
    "duration": 11,
    "start_time": "2023-02-13T20:26:52.898Z"
   },
   {
    "duration": 38,
    "start_time": "2023-02-13T20:26:52.911Z"
   },
   {
    "duration": 5,
    "start_time": "2023-02-13T20:31:18.042Z"
   },
   {
    "duration": 386,
    "start_time": "2023-02-13T20:33:00.994Z"
   },
   {
    "duration": 65,
    "start_time": "2023-02-13T20:33:01.383Z"
   },
   {
    "duration": 21,
    "start_time": "2023-02-13T20:33:01.449Z"
   },
   {
    "duration": 12,
    "start_time": "2023-02-13T20:33:01.473Z"
   },
   {
    "duration": 18,
    "start_time": "2023-02-13T20:33:01.487Z"
   },
   {
    "duration": 18,
    "start_time": "2023-02-13T20:33:01.507Z"
   },
   {
    "duration": 23,
    "start_time": "2023-02-13T20:33:01.527Z"
   },
   {
    "duration": 19,
    "start_time": "2023-02-13T20:33:01.552Z"
   },
   {
    "duration": 16,
    "start_time": "2023-02-13T20:33:01.573Z"
   },
   {
    "duration": 31,
    "start_time": "2023-02-13T20:33:01.592Z"
   },
   {
    "duration": 9,
    "start_time": "2023-02-13T20:33:01.625Z"
   },
   {
    "duration": 103,
    "start_time": "2023-02-13T20:33:01.636Z"
   },
   {
    "duration": 0,
    "start_time": "2023-02-13T20:33:01.742Z"
   },
   {
    "duration": 0,
    "start_time": "2023-02-13T20:33:01.743Z"
   },
   {
    "duration": 1121,
    "start_time": "2023-02-13T20:33:42.486Z"
   },
   {
    "duration": 47,
    "start_time": "2023-02-13T20:33:43.609Z"
   },
   {
    "duration": 25,
    "start_time": "2023-02-13T20:33:43.658Z"
   },
   {
    "duration": 12,
    "start_time": "2023-02-13T20:33:43.685Z"
   },
   {
    "duration": 14,
    "start_time": "2023-02-13T20:33:43.699Z"
   },
   {
    "duration": 41,
    "start_time": "2023-02-13T20:33:43.714Z"
   },
   {
    "duration": 4,
    "start_time": "2023-02-13T20:33:43.758Z"
   },
   {
    "duration": 21,
    "start_time": "2023-02-13T20:33:43.764Z"
   },
   {
    "duration": 7,
    "start_time": "2023-02-13T20:33:43.787Z"
   },
   {
    "duration": 15,
    "start_time": "2023-02-13T20:33:43.796Z"
   },
   {
    "duration": 13,
    "start_time": "2023-02-13T20:33:43.814Z"
   },
   {
    "duration": 17,
    "start_time": "2023-02-13T20:33:43.829Z"
   },
   {
    "duration": 23,
    "start_time": "2023-02-13T20:33:43.850Z"
   },
   {
    "duration": 9,
    "start_time": "2023-02-13T20:33:43.874Z"
   },
   {
    "duration": 12,
    "start_time": "2023-02-13T22:01:33.818Z"
   },
   {
    "duration": 1092,
    "start_time": "2023-02-13T22:01:48.627Z"
   },
   {
    "duration": 42,
    "start_time": "2023-02-13T22:01:49.721Z"
   },
   {
    "duration": 21,
    "start_time": "2023-02-13T22:01:49.764Z"
   },
   {
    "duration": 12,
    "start_time": "2023-02-13T22:01:49.787Z"
   },
   {
    "duration": 11,
    "start_time": "2023-02-13T22:01:49.801Z"
   },
   {
    "duration": 12,
    "start_time": "2023-02-13T22:01:49.813Z"
   },
   {
    "duration": 25,
    "start_time": "2023-02-13T22:01:49.826Z"
   },
   {
    "duration": 11,
    "start_time": "2023-02-13T22:01:49.853Z"
   },
   {
    "duration": 6,
    "start_time": "2023-02-13T22:01:49.866Z"
   },
   {
    "duration": 15,
    "start_time": "2023-02-13T22:01:49.874Z"
   },
   {
    "duration": 9,
    "start_time": "2023-02-13T22:01:49.890Z"
   },
   {
    "duration": 20,
    "start_time": "2023-02-13T22:01:49.900Z"
   },
   {
    "duration": 6,
    "start_time": "2023-02-13T22:01:49.922Z"
   },
   {
    "duration": 19,
    "start_time": "2023-02-13T22:01:49.929Z"
   },
   {
    "duration": 4,
    "start_time": "2023-02-13T22:01:49.950Z"
   },
   {
    "duration": 18,
    "start_time": "2023-02-13T22:01:49.956Z"
   },
   {
    "duration": 97,
    "start_time": "2023-02-13T22:05:53.992Z"
   },
   {
    "duration": 4,
    "start_time": "2023-02-13T22:05:57.663Z"
   },
   {
    "duration": 14,
    "start_time": "2023-02-13T23:14:07.557Z"
   },
   {
    "duration": 2,
    "start_time": "2023-02-14T00:35:38.036Z"
   },
   {
    "duration": 8,
    "start_time": "2023-02-14T01:05:22.865Z"
   },
   {
    "duration": 3,
    "start_time": "2023-02-14T01:05:30.185Z"
   },
   {
    "duration": 14,
    "start_time": "2023-02-14T01:05:32.480Z"
   },
   {
    "duration": 1039,
    "start_time": "2023-02-14T01:05:50.078Z"
   },
   {
    "duration": 43,
    "start_time": "2023-02-14T01:05:51.119Z"
   },
   {
    "duration": 20,
    "start_time": "2023-02-14T01:05:51.163Z"
   },
   {
    "duration": 13,
    "start_time": "2023-02-14T01:05:51.185Z"
   },
   {
    "duration": 10,
    "start_time": "2023-02-14T01:05:51.200Z"
   },
   {
    "duration": 9,
    "start_time": "2023-02-14T01:05:51.211Z"
   },
   {
    "duration": 29,
    "start_time": "2023-02-14T01:05:51.221Z"
   },
   {
    "duration": 3,
    "start_time": "2023-02-14T01:05:51.252Z"
   },
   {
    "duration": 8,
    "start_time": "2023-02-14T01:05:51.256Z"
   },
   {
    "duration": 18,
    "start_time": "2023-02-14T01:05:51.266Z"
   },
   {
    "duration": 110,
    "start_time": "2023-02-14T01:05:51.285Z"
   },
   {
    "duration": 0,
    "start_time": "2023-02-14T01:05:51.397Z"
   },
   {
    "duration": 0,
    "start_time": "2023-02-14T01:05:51.398Z"
   },
   {
    "duration": 0,
    "start_time": "2023-02-14T01:05:51.400Z"
   },
   {
    "duration": 0,
    "start_time": "2023-02-14T01:05:51.401Z"
   },
   {
    "duration": 0,
    "start_time": "2023-02-14T01:05:51.402Z"
   },
   {
    "duration": 1063,
    "start_time": "2023-02-14T01:06:11.761Z"
   },
   {
    "duration": 42,
    "start_time": "2023-02-14T01:06:12.826Z"
   },
   {
    "duration": 19,
    "start_time": "2023-02-14T01:06:12.870Z"
   },
   {
    "duration": 19,
    "start_time": "2023-02-14T01:06:12.890Z"
   },
   {
    "duration": 11,
    "start_time": "2023-02-14T01:06:12.911Z"
   },
   {
    "duration": 9,
    "start_time": "2023-02-14T01:06:12.924Z"
   },
   {
    "duration": 16,
    "start_time": "2023-02-14T01:06:12.934Z"
   },
   {
    "duration": 11,
    "start_time": "2023-02-14T01:06:12.952Z"
   },
   {
    "duration": 11,
    "start_time": "2023-02-14T01:06:12.965Z"
   },
   {
    "duration": 13,
    "start_time": "2023-02-14T01:06:12.977Z"
   },
   {
    "duration": 5,
    "start_time": "2023-02-14T01:06:12.992Z"
   },
   {
    "duration": 7,
    "start_time": "2023-02-14T01:06:12.998Z"
   },
   {
    "duration": 6,
    "start_time": "2023-02-14T01:06:13.007Z"
   },
   {
    "duration": 5,
    "start_time": "2023-02-14T01:06:13.016Z"
   },
   {
    "duration": 3,
    "start_time": "2023-02-14T01:06:13.022Z"
   },
   {
    "duration": 111,
    "start_time": "2023-02-14T01:06:13.027Z"
   },
   {
    "duration": 6,
    "start_time": "2023-02-14T01:07:59.070Z"
   },
   {
    "duration": 6,
    "start_time": "2023-02-14T01:08:11.992Z"
   },
   {
    "duration": 4,
    "start_time": "2023-02-14T04:32:08.427Z"
   },
   {
    "duration": 4,
    "start_time": "2023-02-14T04:32:13.652Z"
   },
   {
    "duration": 150,
    "start_time": "2023-02-14T04:33:37.626Z"
   },
   {
    "duration": 132,
    "start_time": "2023-02-14T04:33:41.557Z"
   },
   {
    "duration": 5,
    "start_time": "2023-02-14T04:33:42.344Z"
   },
   {
    "duration": 23,
    "start_time": "2023-02-14T04:37:50.097Z"
   },
   {
    "duration": 130,
    "start_time": "2023-02-14T04:37:53.993Z"
   },
   {
    "duration": 4,
    "start_time": "2023-02-14T04:37:54.493Z"
   },
   {
    "duration": 8,
    "start_time": "2023-02-14T04:38:01.436Z"
   },
   {
    "duration": 9,
    "start_time": "2023-02-14T04:38:05.653Z"
   },
   {
    "duration": 4,
    "start_time": "2023-02-14T04:38:07.451Z"
   },
   {
    "duration": 17,
    "start_time": "2023-02-14T04:39:45.902Z"
   },
   {
    "duration": 4,
    "start_time": "2023-02-14T04:39:46.295Z"
   },
   {
    "duration": 129,
    "start_time": "2023-02-14T04:39:55.621Z"
   },
   {
    "duration": 4,
    "start_time": "2023-02-14T04:39:56.202Z"
   },
   {
    "duration": 3,
    "start_time": "2023-02-14T04:43:38.093Z"
   },
   {
    "duration": 4,
    "start_time": "2023-02-14T04:43:42.498Z"
   },
   {
    "duration": 10,
    "start_time": "2023-02-14T04:43:56.256Z"
   },
   {
    "duration": 75,
    "start_time": "2023-02-14T05:03:53.116Z"
   },
   {
    "duration": 24,
    "start_time": "2023-02-14T05:03:56.603Z"
   },
   {
    "duration": 68,
    "start_time": "2023-02-14T05:04:08.718Z"
   },
   {
    "duration": 72,
    "start_time": "2023-02-14T05:04:16.556Z"
   },
   {
    "duration": 66,
    "start_time": "2023-02-14T05:04:36.371Z"
   },
   {
    "duration": 8,
    "start_time": "2023-02-14T05:04:54.315Z"
   },
   {
    "duration": 69,
    "start_time": "2023-02-14T05:04:58.465Z"
   },
   {
    "duration": 77,
    "start_time": "2023-02-14T05:05:03.722Z"
   },
   {
    "duration": 24,
    "start_time": "2023-02-14T05:05:09.252Z"
   },
   {
    "duration": 12,
    "start_time": "2023-02-14T05:39:21.542Z"
   },
   {
    "duration": 3,
    "start_time": "2023-02-14T05:41:17.373Z"
   },
   {
    "duration": 2,
    "start_time": "2023-02-14T05:41:17.731Z"
   },
   {
    "duration": 2,
    "start_time": "2023-02-14T05:41:18.057Z"
   },
   {
    "duration": 17,
    "start_time": "2023-02-14T05:41:19.127Z"
   },
   {
    "duration": 17,
    "start_time": "2023-02-14T05:41:19.533Z"
   },
   {
    "duration": 18,
    "start_time": "2023-02-14T05:41:59.009Z"
   },
   {
    "duration": 15,
    "start_time": "2023-02-14T05:42:04.800Z"
   },
   {
    "duration": 18,
    "start_time": "2023-02-14T05:42:41.223Z"
   },
   {
    "duration": 17,
    "start_time": "2023-02-14T05:45:03.967Z"
   },
   {
    "duration": 29,
    "start_time": "2023-02-14T05:46:23.706Z"
   },
   {
    "duration": 3,
    "start_time": "2023-02-14T05:53:23.724Z"
   },
   {
    "duration": 9,
    "start_time": "2023-02-14T05:54:01.292Z"
   },
   {
    "duration": 13,
    "start_time": "2023-02-14T05:55:12.560Z"
   },
   {
    "duration": 12,
    "start_time": "2023-02-14T05:55:21.411Z"
   },
   {
    "duration": 2,
    "start_time": "2023-02-14T05:55:32.294Z"
   },
   {
    "duration": 12,
    "start_time": "2023-02-14T05:55:32.669Z"
   },
   {
    "duration": 10,
    "start_time": "2023-02-14T06:23:47.355Z"
   },
   {
    "duration": 12,
    "start_time": "2023-02-14T06:24:37.443Z"
   },
   {
    "duration": 11,
    "start_time": "2023-02-14T06:25:01.272Z"
   },
   {
    "duration": 11,
    "start_time": "2023-02-14T06:25:24.287Z"
   },
   {
    "duration": 8,
    "start_time": "2023-02-14T06:25:30.913Z"
   },
   {
    "duration": 8,
    "start_time": "2023-02-14T06:26:32.350Z"
   },
   {
    "duration": 8,
    "start_time": "2023-02-14T06:26:36.908Z"
   },
   {
    "duration": 11,
    "start_time": "2023-02-14T06:26:37.232Z"
   },
   {
    "duration": 8,
    "start_time": "2023-02-14T06:26:37.562Z"
   },
   {
    "duration": 13,
    "start_time": "2023-02-14T06:27:48.633Z"
   },
   {
    "duration": 10,
    "start_time": "2023-02-14T06:27:57.296Z"
   },
   {
    "duration": 8,
    "start_time": "2023-02-14T06:27:57.741Z"
   },
   {
    "duration": 7722,
    "start_time": "2023-02-14T06:32:17.449Z"
   },
   {
    "duration": 16,
    "start_time": "2023-02-14T06:32:36.215Z"
   },
   {
    "duration": 8,
    "start_time": "2023-02-14T06:32:37.740Z"
   },
   {
    "duration": 915,
    "start_time": "2023-02-14T06:33:16.941Z"
   },
   {
    "duration": 67,
    "start_time": "2023-02-14T06:33:17.857Z"
   },
   {
    "duration": 19,
    "start_time": "2023-02-14T06:33:17.926Z"
   },
   {
    "duration": 13,
    "start_time": "2023-02-14T06:33:17.947Z"
   },
   {
    "duration": 10,
    "start_time": "2023-02-14T06:33:17.962Z"
   },
   {
    "duration": 9,
    "start_time": "2023-02-14T06:33:17.973Z"
   },
   {
    "duration": 4,
    "start_time": "2023-02-14T06:33:17.983Z"
   },
   {
    "duration": 6,
    "start_time": "2023-02-14T06:33:17.989Z"
   },
   {
    "duration": 7,
    "start_time": "2023-02-14T06:33:17.997Z"
   },
   {
    "duration": 14,
    "start_time": "2023-02-14T06:33:18.005Z"
   },
   {
    "duration": 30,
    "start_time": "2023-02-14T06:33:18.020Z"
   },
   {
    "duration": 9,
    "start_time": "2023-02-14T06:33:18.052Z"
   },
   {
    "duration": 4,
    "start_time": "2023-02-14T06:33:18.062Z"
   },
   {
    "duration": 4,
    "start_time": "2023-02-14T06:33:18.069Z"
   },
   {
    "duration": 2511,
    "start_time": "2023-02-14T06:33:18.075Z"
   },
   {
    "duration": 2,
    "start_time": "2023-02-14T06:33:20.588Z"
   },
   {
    "duration": 19,
    "start_time": "2023-02-14T06:33:20.592Z"
   },
   {
    "duration": 20,
    "start_time": "2023-02-14T06:33:20.613Z"
   },
   {
    "duration": 4,
    "start_time": "2023-02-14T06:33:20.635Z"
   },
   {
    "duration": 11,
    "start_time": "2023-02-14T06:33:44.682Z"
   },
   {
    "duration": 10,
    "start_time": "2023-02-14T06:34:09.614Z"
   },
   {
    "duration": 4,
    "start_time": "2023-02-14T06:34:10.406Z"
   },
   {
    "duration": 104,
    "start_time": "2023-02-14T06:34:26.752Z"
   },
   {
    "duration": 12,
    "start_time": "2023-02-14T06:34:44.709Z"
   },
   {
    "duration": 11,
    "start_time": "2023-02-14T06:34:51.577Z"
   },
   {
    "duration": 4,
    "start_time": "2023-02-14T06:34:52.858Z"
   },
   {
    "duration": 2474,
    "start_time": "2023-02-14T06:35:56.254Z"
   },
   {
    "duration": 19,
    "start_time": "2023-02-14T06:44:27.070Z"
   },
   {
    "duration": 11,
    "start_time": "2023-02-14T06:44:32.814Z"
   },
   {
    "duration": 10,
    "start_time": "2023-02-14T06:44:39.284Z"
   },
   {
    "duration": 4,
    "start_time": "2023-02-14T06:44:39.744Z"
   },
   {
    "duration": 20,
    "start_time": "2023-02-14T06:46:41.015Z"
   },
   {
    "duration": 18,
    "start_time": "2023-02-14T06:48:00.439Z"
   },
   {
    "duration": 19,
    "start_time": "2023-02-14T06:48:08.696Z"
   },
   {
    "duration": 19,
    "start_time": "2023-02-14T06:48:22.788Z"
   },
   {
    "duration": 19,
    "start_time": "2023-02-14T06:48:33.374Z"
   },
   {
    "duration": 18,
    "start_time": "2023-02-14T06:48:40.426Z"
   },
   {
    "duration": 18,
    "start_time": "2023-02-14T06:49:33.005Z"
   },
   {
    "duration": 209,
    "start_time": "2023-02-14T06:51:41.178Z"
   },
   {
    "duration": 9,
    "start_time": "2023-02-14T06:51:56.341Z"
   },
   {
    "duration": 10,
    "start_time": "2023-02-14T06:52:06.055Z"
   },
   {
    "duration": 11,
    "start_time": "2023-02-14T06:52:12.538Z"
   },
   {
    "duration": 17,
    "start_time": "2023-02-14T06:52:27.994Z"
   },
   {
    "duration": 17,
    "start_time": "2023-02-14T06:54:14.558Z"
   },
   {
    "duration": 15,
    "start_time": "2023-02-14T06:54:49.845Z"
   },
   {
    "duration": 17,
    "start_time": "2023-02-14T06:54:56.382Z"
   },
   {
    "duration": 16,
    "start_time": "2023-02-14T06:55:10.834Z"
   },
   {
    "duration": 11,
    "start_time": "2023-02-14T07:02:33.182Z"
   },
   {
    "duration": 16,
    "start_time": "2023-02-14T07:03:02.817Z"
   },
   {
    "duration": 10,
    "start_time": "2023-02-14T07:05:03.731Z"
   },
   {
    "duration": 8,
    "start_time": "2023-02-14T07:05:12.316Z"
   },
   {
    "duration": 9,
    "start_time": "2023-02-14T07:05:21.106Z"
   },
   {
    "duration": 16,
    "start_time": "2023-02-14T07:05:21.578Z"
   },
   {
    "duration": 14,
    "start_time": "2023-02-14T07:05:31.135Z"
   },
   {
    "duration": 8,
    "start_time": "2023-02-14T07:05:42.599Z"
   },
   {
    "duration": 13,
    "start_time": "2023-02-14T07:05:43.044Z"
   },
   {
    "duration": 33,
    "start_time": "2023-02-14T07:05:53.667Z"
   },
   {
    "duration": 21,
    "start_time": "2023-02-14T07:07:03.645Z"
   },
   {
    "duration": 14,
    "start_time": "2023-02-14T07:07:10.538Z"
   },
   {
    "duration": 28,
    "start_time": "2023-02-14T07:07:16.255Z"
   },
   {
    "duration": 8,
    "start_time": "2023-02-14T07:07:27.377Z"
   },
   {
    "duration": 28,
    "start_time": "2023-02-14T07:07:27.679Z"
   },
   {
    "duration": 22,
    "start_time": "2023-02-14T07:08:14.874Z"
   },
   {
    "duration": 2563,
    "start_time": "2023-02-14T07:08:29.484Z"
   },
   {
    "duration": 910,
    "start_time": "2023-02-14T07:08:32.049Z"
   },
   {
    "duration": 42,
    "start_time": "2023-02-14T07:08:32.961Z"
   },
   {
    "duration": 20,
    "start_time": "2023-02-14T07:08:33.004Z"
   },
   {
    "duration": 12,
    "start_time": "2023-02-14T07:08:33.027Z"
   },
   {
    "duration": 12,
    "start_time": "2023-02-14T07:08:33.040Z"
   },
   {
    "duration": 9,
    "start_time": "2023-02-14T07:08:33.053Z"
   },
   {
    "duration": 4,
    "start_time": "2023-02-14T07:08:33.063Z"
   },
   {
    "duration": 9,
    "start_time": "2023-02-14T07:08:33.068Z"
   },
   {
    "duration": 8,
    "start_time": "2023-02-14T07:08:33.079Z"
   },
   {
    "duration": 16,
    "start_time": "2023-02-14T07:08:33.088Z"
   },
   {
    "duration": 11,
    "start_time": "2023-02-14T07:08:33.106Z"
   },
   {
    "duration": 8,
    "start_time": "2023-02-14T07:08:33.118Z"
   },
   {
    "duration": 6,
    "start_time": "2023-02-14T07:08:33.128Z"
   },
   {
    "duration": 15,
    "start_time": "2023-02-14T07:08:33.135Z"
   },
   {
    "duration": 5,
    "start_time": "2023-02-14T07:08:33.152Z"
   },
   {
    "duration": 12,
    "start_time": "2023-02-14T07:08:33.158Z"
   },
   {
    "duration": 25,
    "start_time": "2023-02-14T07:08:33.171Z"
   },
   {
    "duration": 110,
    "start_time": "2023-02-14T07:10:02.768Z"
   },
   {
    "duration": 2601,
    "start_time": "2023-02-14T07:10:17.223Z"
   },
   {
    "duration": 921,
    "start_time": "2023-02-14T07:10:19.826Z"
   },
   {
    "duration": 41,
    "start_time": "2023-02-14T07:10:20.749Z"
   },
   {
    "duration": 19,
    "start_time": "2023-02-14T07:10:20.792Z"
   },
   {
    "duration": 12,
    "start_time": "2023-02-14T07:10:20.813Z"
   },
   {
    "duration": 11,
    "start_time": "2023-02-14T07:10:20.827Z"
   },
   {
    "duration": 13,
    "start_time": "2023-02-14T07:10:20.840Z"
   },
   {
    "duration": 4,
    "start_time": "2023-02-14T07:10:20.854Z"
   },
   {
    "duration": 5,
    "start_time": "2023-02-14T07:10:20.860Z"
   },
   {
    "duration": 7,
    "start_time": "2023-02-14T07:10:20.867Z"
   },
   {
    "duration": 13,
    "start_time": "2023-02-14T07:10:20.875Z"
   },
   {
    "duration": 4,
    "start_time": "2023-02-14T07:10:20.890Z"
   },
   {
    "duration": 8,
    "start_time": "2023-02-14T07:10:20.896Z"
   },
   {
    "duration": 6,
    "start_time": "2023-02-14T07:10:20.907Z"
   },
   {
    "duration": 5,
    "start_time": "2023-02-14T07:10:20.914Z"
   },
   {
    "duration": 3,
    "start_time": "2023-02-14T07:10:20.949Z"
   },
   {
    "duration": 11,
    "start_time": "2023-02-14T07:10:20.953Z"
   },
   {
    "duration": 25,
    "start_time": "2023-02-14T07:10:20.965Z"
   },
   {
    "duration": 7,
    "start_time": "2023-02-14T07:10:44.503Z"
   },
   {
    "duration": 111,
    "start_time": "2023-02-14T07:11:00.779Z"
   },
   {
    "duration": 20,
    "start_time": "2023-02-14T07:11:18.695Z"
   },
   {
    "duration": 2509,
    "start_time": "2023-02-14T07:11:24.502Z"
   },
   {
    "duration": 835,
    "start_time": "2023-02-14T07:11:27.013Z"
   },
   {
    "duration": 43,
    "start_time": "2023-02-14T07:11:27.850Z"
   },
   {
    "duration": 20,
    "start_time": "2023-02-14T07:11:27.894Z"
   },
   {
    "duration": 12,
    "start_time": "2023-02-14T07:11:27.916Z"
   },
   {
    "duration": 11,
    "start_time": "2023-02-14T07:11:27.929Z"
   },
   {
    "duration": 13,
    "start_time": "2023-02-14T07:11:27.942Z"
   },
   {
    "duration": 10,
    "start_time": "2023-02-14T07:11:27.957Z"
   },
   {
    "duration": 16,
    "start_time": "2023-02-14T07:11:27.969Z"
   },
   {
    "duration": 7,
    "start_time": "2023-02-14T07:11:27.986Z"
   },
   {
    "duration": 22,
    "start_time": "2023-02-14T07:11:27.994Z"
   },
   {
    "duration": 8,
    "start_time": "2023-02-14T07:11:28.017Z"
   },
   {
    "duration": 7,
    "start_time": "2023-02-14T07:11:28.026Z"
   },
   {
    "duration": 10,
    "start_time": "2023-02-14T07:11:28.036Z"
   },
   {
    "duration": 7,
    "start_time": "2023-02-14T07:11:28.048Z"
   },
   {
    "duration": 21,
    "start_time": "2023-02-14T07:11:28.056Z"
   },
   {
    "duration": 31,
    "start_time": "2023-02-14T07:11:28.079Z"
   },
   {
    "duration": 12,
    "start_time": "2023-02-14T07:11:28.112Z"
   },
   {
    "duration": 17,
    "start_time": "2023-02-14T07:11:28.126Z"
   },
   {
    "duration": 15,
    "start_time": "2023-02-14T07:14:40.263Z"
   },
   {
    "duration": 11,
    "start_time": "2023-02-14T07:14:41.727Z"
   },
   {
    "duration": 13,
    "start_time": "2023-02-14T07:15:44.980Z"
   },
   {
    "duration": 10,
    "start_time": "2023-02-14T07:16:07.695Z"
   },
   {
    "duration": 10,
    "start_time": "2023-02-14T07:16:08.999Z"
   },
   {
    "duration": 13,
    "start_time": "2023-02-14T07:16:09.876Z"
   },
   {
    "duration": 14,
    "start_time": "2023-02-14T07:16:11.072Z"
   },
   {
    "duration": 10,
    "start_time": "2023-02-14T07:16:11.507Z"
   },
   {
    "duration": 10,
    "start_time": "2023-02-14T07:16:11.849Z"
   },
   {
    "duration": 7,
    "start_time": "2023-02-14T07:16:14.208Z"
   },
   {
    "duration": 13,
    "start_time": "2023-02-14T07:16:15.238Z"
   },
   {
    "duration": 10,
    "start_time": "2023-02-14T07:16:15.625Z"
   },
   {
    "duration": 9,
    "start_time": "2023-02-14T07:16:15.942Z"
   },
   {
    "duration": 10,
    "start_time": "2023-02-14T07:16:18.593Z"
   },
   {
    "duration": 9,
    "start_time": "2023-02-14T07:16:19.471Z"
   },
   {
    "duration": 2511,
    "start_time": "2023-02-14T07:16:24.170Z"
   },
   {
    "duration": 862,
    "start_time": "2023-02-14T07:16:26.683Z"
   },
   {
    "duration": 42,
    "start_time": "2023-02-14T07:16:27.547Z"
   },
   {
    "duration": 20,
    "start_time": "2023-02-14T07:16:27.590Z"
   },
   {
    "duration": 13,
    "start_time": "2023-02-14T07:16:27.612Z"
   },
   {
    "duration": 11,
    "start_time": "2023-02-14T07:16:27.627Z"
   },
   {
    "duration": 14,
    "start_time": "2023-02-14T07:16:27.640Z"
   },
   {
    "duration": 3,
    "start_time": "2023-02-14T07:16:27.656Z"
   },
   {
    "duration": 4,
    "start_time": "2023-02-14T07:16:27.661Z"
   },
   {
    "duration": 11,
    "start_time": "2023-02-14T07:16:27.667Z"
   },
   {
    "duration": 19,
    "start_time": "2023-02-14T07:16:27.679Z"
   },
   {
    "duration": 4,
    "start_time": "2023-02-14T07:16:27.699Z"
   },
   {
    "duration": 6,
    "start_time": "2023-02-14T07:16:27.704Z"
   },
   {
    "duration": 4,
    "start_time": "2023-02-14T07:16:27.713Z"
   },
   {
    "duration": 29,
    "start_time": "2023-02-14T07:16:27.719Z"
   },
   {
    "duration": 7,
    "start_time": "2023-02-14T07:16:27.750Z"
   },
   {
    "duration": 10,
    "start_time": "2023-02-14T07:16:27.758Z"
   },
   {
    "duration": 17,
    "start_time": "2023-02-14T07:16:27.770Z"
   },
   {
    "duration": 9,
    "start_time": "2023-02-14T07:16:27.788Z"
   },
   {
    "duration": 8,
    "start_time": "2023-02-14T07:16:27.799Z"
   },
   {
    "duration": 2,
    "start_time": "2023-02-14T07:21:21.317Z"
   },
   {
    "duration": 7,
    "start_time": "2023-02-14T07:22:11.587Z"
   },
   {
    "duration": 14,
    "start_time": "2023-02-14T07:23:44.189Z"
   },
   {
    "duration": 8,
    "start_time": "2023-02-14T07:23:44.621Z"
   },
   {
    "duration": 9,
    "start_time": "2023-02-14T07:23:44.925Z"
   },
   {
    "duration": 8487,
    "start_time": "2023-02-15T00:34:11.095Z"
   },
   {
    "duration": 883,
    "start_time": "2023-02-15T00:34:19.584Z"
   },
   {
    "duration": 96,
    "start_time": "2023-02-15T00:34:20.469Z"
   },
   {
    "duration": 18,
    "start_time": "2023-02-15T00:34:20.567Z"
   },
   {
    "duration": 11,
    "start_time": "2023-02-15T00:34:20.588Z"
   },
   {
    "duration": 31,
    "start_time": "2023-02-15T00:34:20.600Z"
   },
   {
    "duration": 9,
    "start_time": "2023-02-15T00:34:20.633Z"
   },
   {
    "duration": 4,
    "start_time": "2023-02-15T00:34:20.644Z"
   },
   {
    "duration": 4,
    "start_time": "2023-02-15T00:34:20.649Z"
   },
   {
    "duration": 7,
    "start_time": "2023-02-15T00:34:20.655Z"
   },
   {
    "duration": 13,
    "start_time": "2023-02-15T00:34:20.663Z"
   },
   {
    "duration": 4,
    "start_time": "2023-02-15T00:34:20.677Z"
   },
   {
    "duration": 7,
    "start_time": "2023-02-15T00:34:20.682Z"
   },
   {
    "duration": 5,
    "start_time": "2023-02-15T00:34:20.691Z"
   },
   {
    "duration": 18,
    "start_time": "2023-02-15T00:34:20.697Z"
   },
   {
    "duration": 24,
    "start_time": "2023-02-15T00:34:20.716Z"
   },
   {
    "duration": 9,
    "start_time": "2023-02-15T00:34:20.742Z"
   },
   {
    "duration": 121,
    "start_time": "2023-02-15T00:34:20.752Z"
   },
   {
    "duration": 0,
    "start_time": "2023-02-15T00:34:20.874Z"
   },
   {
    "duration": 0,
    "start_time": "2023-02-15T00:34:20.875Z"
   },
   {
    "duration": 2598,
    "start_time": "2023-02-15T00:37:19.434Z"
   },
   {
    "duration": 919,
    "start_time": "2023-02-15T00:37:22.034Z"
   },
   {
    "duration": 36,
    "start_time": "2023-02-15T00:37:22.955Z"
   },
   {
    "duration": 26,
    "start_time": "2023-02-15T00:37:22.993Z"
   },
   {
    "duration": 27,
    "start_time": "2023-02-15T00:37:23.021Z"
   },
   {
    "duration": 13,
    "start_time": "2023-02-15T00:37:23.050Z"
   },
   {
    "duration": 10,
    "start_time": "2023-02-15T00:37:23.065Z"
   },
   {
    "duration": 7,
    "start_time": "2023-02-15T00:37:23.077Z"
   },
   {
    "duration": 5,
    "start_time": "2023-02-15T00:37:23.086Z"
   },
   {
    "duration": 31,
    "start_time": "2023-02-15T00:37:23.092Z"
   },
   {
    "duration": 18,
    "start_time": "2023-02-15T00:37:23.132Z"
   },
   {
    "duration": 4,
    "start_time": "2023-02-15T00:37:23.151Z"
   },
   {
    "duration": 19,
    "start_time": "2023-02-15T00:37:23.157Z"
   },
   {
    "duration": 5,
    "start_time": "2023-02-15T00:37:23.179Z"
   },
   {
    "duration": 4,
    "start_time": "2023-02-15T00:37:23.186Z"
   },
   {
    "duration": 6,
    "start_time": "2023-02-15T00:37:23.192Z"
   },
   {
    "duration": 20,
    "start_time": "2023-02-15T00:37:23.199Z"
   },
   {
    "duration": 129,
    "start_time": "2023-02-15T00:37:23.235Z"
   },
   {
    "duration": 0,
    "start_time": "2023-02-15T00:37:23.366Z"
   },
   {
    "duration": 0,
    "start_time": "2023-02-15T00:37:23.367Z"
   },
   {
    "duration": 21,
    "start_time": "2023-02-15T00:37:53.598Z"
   },
   {
    "duration": 18,
    "start_time": "2023-02-15T00:37:56.683Z"
   },
   {
    "duration": 29,
    "start_time": "2023-02-15T00:38:02.707Z"
   },
   {
    "duration": 15,
    "start_time": "2023-02-15T00:38:09.077Z"
   },
   {
    "duration": 9,
    "start_time": "2023-02-15T00:38:53.450Z"
   },
   {
    "duration": 10,
    "start_time": "2023-02-15T00:39:02.650Z"
   },
   {
    "duration": 22,
    "start_time": "2023-02-15T00:40:01.530Z"
   },
   {
    "duration": 17,
    "start_time": "2023-02-15T00:40:33.551Z"
   },
   {
    "duration": 19,
    "start_time": "2023-02-15T00:40:35.133Z"
   },
   {
    "duration": 21,
    "start_time": "2023-02-15T00:40:36.103Z"
   },
   {
    "duration": 16,
    "start_time": "2023-02-15T00:40:50.355Z"
   },
   {
    "duration": 24,
    "start_time": "2023-02-15T00:41:22.829Z"
   },
   {
    "duration": 33,
    "start_time": "2023-02-15T00:46:58.805Z"
   },
   {
    "duration": 22,
    "start_time": "2023-02-15T00:47:06.809Z"
   },
   {
    "duration": 2,
    "start_time": "2023-02-15T00:56:17.792Z"
   },
   {
    "duration": 9,
    "start_time": "2023-02-15T01:10:49.966Z"
   },
   {
    "duration": 55,
    "start_time": "2023-02-15T01:11:12.240Z"
   },
   {
    "duration": 200,
    "start_time": "2023-02-15T01:11:16.692Z"
   },
   {
    "duration": 1454,
    "start_time": "2023-02-15T01:11:25.092Z"
   },
   {
    "duration": 192,
    "start_time": "2023-02-15T01:11:31.050Z"
   },
   {
    "duration": 26,
    "start_time": "2023-02-15T01:13:37.111Z"
   },
   {
    "duration": 20,
    "start_time": "2023-02-15T01:14:04.333Z"
   },
   {
    "duration": 40830,
    "start_time": "2023-02-15T01:14:10.962Z"
   },
   {
    "duration": 10599,
    "start_time": "2023-02-15T01:15:02.948Z"
   },
   {
    "duration": 24896,
    "start_time": "2023-02-15T01:19:32.731Z"
   },
   {
    "duration": 24932,
    "start_time": "2023-02-15T01:20:08.880Z"
   },
   {
    "duration": 10678,
    "start_time": "2023-02-15T01:20:54.772Z"
   },
   {
    "duration": 40461,
    "start_time": "2023-02-15T01:21:38.469Z"
   },
   {
    "duration": 36236,
    "start_time": "2023-02-15T01:24:48.561Z"
   },
   {
    "duration": 46926,
    "start_time": "2023-02-15T01:26:07.083Z"
   },
   {
    "duration": 192,
    "start_time": "2023-02-15T01:27:44.941Z"
   },
   {
    "duration": 3063,
    "start_time": "2023-02-15T01:33:04.113Z"
   },
   {
    "duration": 993,
    "start_time": "2023-02-15T01:33:07.178Z"
   },
   {
    "duration": 36,
    "start_time": "2023-02-15T01:33:08.173Z"
   },
   {
    "duration": 23,
    "start_time": "2023-02-15T01:33:08.229Z"
   },
   {
    "duration": 14,
    "start_time": "2023-02-15T01:33:08.253Z"
   },
   {
    "duration": 15,
    "start_time": "2023-02-15T01:33:08.268Z"
   },
   {
    "duration": 9,
    "start_time": "2023-02-15T01:33:08.285Z"
   },
   {
    "duration": 21,
    "start_time": "2023-02-15T01:33:08.296Z"
   },
   {
    "duration": 25,
    "start_time": "2023-02-15T01:33:08.323Z"
   },
   {
    "duration": 5,
    "start_time": "2023-02-15T01:33:08.351Z"
   },
   {
    "duration": 12,
    "start_time": "2023-02-15T01:33:08.357Z"
   },
   {
    "duration": 4,
    "start_time": "2023-02-15T01:33:08.370Z"
   },
   {
    "duration": 6,
    "start_time": "2023-02-15T01:33:08.376Z"
   },
   {
    "duration": 5,
    "start_time": "2023-02-15T01:33:08.384Z"
   },
   {
    "duration": 5,
    "start_time": "2023-02-15T01:33:08.390Z"
   },
   {
    "duration": 5,
    "start_time": "2023-02-15T01:33:08.397Z"
   },
   {
    "duration": 35,
    "start_time": "2023-02-15T01:33:08.403Z"
   },
   {
    "duration": 27,
    "start_time": "2023-02-15T01:33:08.440Z"
   },
   {
    "duration": 17,
    "start_time": "2023-02-15T01:33:08.469Z"
   },
   {
    "duration": 18,
    "start_time": "2023-02-15T01:33:08.488Z"
   },
   {
    "duration": 215,
    "start_time": "2023-02-15T01:33:08.507Z"
   },
   {
    "duration": 25966,
    "start_time": "2023-02-15T01:33:08.723Z"
   },
   {
    "duration": 15223,
    "start_time": "2023-02-15T01:36:10.721Z"
   },
   {
    "duration": 13946,
    "start_time": "2023-02-15T01:41:35.164Z"
   },
   {
    "duration": 25981,
    "start_time": "2023-02-15T01:42:35.468Z"
   },
   {
    "duration": 14643,
    "start_time": "2023-02-15T01:43:07.805Z"
   },
   {
    "duration": 4,
    "start_time": "2023-02-15T02:07:35.366Z"
   },
   {
    "duration": 136,
    "start_time": "2023-02-15T02:08:39.430Z"
   },
   {
    "duration": 9,
    "start_time": "2023-02-15T02:08:43.595Z"
   },
   {
    "duration": 13,
    "start_time": "2023-02-15T02:08:48.136Z"
   },
   {
    "duration": 363,
    "start_time": "2023-02-15T02:09:13.572Z"
   },
   {
    "duration": 29833,
    "start_time": "2023-02-15T02:10:10.040Z"
   },
   {
    "duration": 27283,
    "start_time": "2023-02-15T02:10:52.601Z"
   },
   {
    "duration": 16396,
    "start_time": "2023-02-15T02:11:43.451Z"
   },
   {
    "duration": 245,
    "start_time": "2023-02-15T02:12:12.801Z"
   },
   {
    "duration": 203,
    "start_time": "2023-02-15T02:12:22.645Z"
   },
   {
    "duration": 257,
    "start_time": "2023-02-15T02:12:26.770Z"
   },
   {
    "duration": 227,
    "start_time": "2023-02-15T02:12:32.347Z"
   },
   {
    "duration": 224,
    "start_time": "2023-02-15T02:12:37.283Z"
   },
   {
    "duration": 207,
    "start_time": "2023-02-15T02:12:42.335Z"
   },
   {
    "duration": 27877,
    "start_time": "2023-02-15T02:13:27.850Z"
   },
   {
    "duration": 346,
    "start_time": "2023-02-15T02:19:02.530Z"
   },
   {
    "duration": 4,
    "start_time": "2023-02-15T02:19:20.036Z"
   },
   {
    "duration": 342,
    "start_time": "2023-02-15T02:19:27.661Z"
   },
   {
    "duration": 3,
    "start_time": "2023-02-15T02:21:15.851Z"
   },
   {
    "duration": 401,
    "start_time": "2023-02-15T02:21:20.737Z"
   },
   {
    "duration": 364,
    "start_time": "2023-02-15T02:22:15.693Z"
   },
   {
    "duration": 369,
    "start_time": "2023-02-15T02:22:58.176Z"
   },
   {
    "duration": 441,
    "start_time": "2023-02-15T02:23:05.777Z"
   },
   {
    "duration": 528,
    "start_time": "2023-02-15T02:23:22.860Z"
   },
   {
    "duration": 4,
    "start_time": "2023-02-15T02:32:48.868Z"
   },
   {
    "duration": 1605,
    "start_time": "2023-02-15T02:37:35.430Z"
   },
   {
    "duration": 109826,
    "start_time": "2023-02-15T02:38:50.964Z"
   },
   {
    "duration": 5,
    "start_time": "2023-02-15T02:41:09.373Z"
   },
   {
    "duration": 2630,
    "start_time": "2023-02-15T03:15:18.976Z"
   },
   {
    "duration": 1040,
    "start_time": "2023-02-15T03:15:21.609Z"
   },
   {
    "duration": 37,
    "start_time": "2023-02-15T03:15:22.651Z"
   },
   {
    "duration": 23,
    "start_time": "2023-02-15T03:15:22.691Z"
   },
   {
    "duration": 15,
    "start_time": "2023-02-15T03:15:22.716Z"
   },
   {
    "duration": 16,
    "start_time": "2023-02-15T03:15:22.732Z"
   },
   {
    "duration": 10,
    "start_time": "2023-02-15T03:15:22.750Z"
   },
   {
    "duration": 7,
    "start_time": "2023-02-15T03:15:22.761Z"
   },
   {
    "duration": 7,
    "start_time": "2023-02-15T03:15:22.769Z"
   },
   {
    "duration": 8,
    "start_time": "2023-02-15T03:15:22.778Z"
   },
   {
    "duration": 14,
    "start_time": "2023-02-15T03:15:22.811Z"
   },
   {
    "duration": 29,
    "start_time": "2023-02-15T03:15:22.827Z"
   },
   {
    "duration": 8,
    "start_time": "2023-02-15T03:15:22.857Z"
   },
   {
    "duration": 6,
    "start_time": "2023-02-15T03:15:22.867Z"
   },
   {
    "duration": 4,
    "start_time": "2023-02-15T03:15:22.875Z"
   },
   {
    "duration": 4,
    "start_time": "2023-02-15T03:15:22.881Z"
   },
   {
    "duration": 14,
    "start_time": "2023-02-15T03:15:22.886Z"
   },
   {
    "duration": 33,
    "start_time": "2023-02-15T03:15:22.912Z"
   },
   {
    "duration": 29,
    "start_time": "2023-02-15T03:15:22.948Z"
   },
   {
    "duration": 46,
    "start_time": "2023-02-15T03:15:22.979Z"
   },
   {
    "duration": 236,
    "start_time": "2023-02-15T03:15:23.027Z"
   },
   {
    "duration": 25320,
    "start_time": "2023-02-15T03:15:23.265Z"
   },
   {
    "duration": 14136,
    "start_time": "2023-02-15T03:15:48.587Z"
   },
   {
    "duration": 6,
    "start_time": "2023-02-15T03:16:02.725Z"
   },
   {
    "duration": 188,
    "start_time": "2023-02-15T03:16:02.733Z"
   },
   {
    "duration": 7,
    "start_time": "2023-02-15T03:16:02.923Z"
   },
   {
    "duration": 0,
    "start_time": "2023-02-15T03:16:02.932Z"
   },
   {
    "duration": 401035,
    "start_time": "2023-02-15T03:16:09.308Z"
   },
   {
    "duration": 0,
    "start_time": "2023-02-15T03:24:42.711Z"
   },
   {
    "duration": 0,
    "start_time": "2023-02-15T03:26:04.314Z"
   },
   {
    "duration": 11855,
    "start_time": "2023-02-15T03:26:33.968Z"
   },
   {
    "duration": 4637,
    "start_time": "2023-02-15T03:27:18.999Z"
   },
   {
    "duration": 11744,
    "start_time": "2023-02-15T03:27:46.085Z"
   },
   {
    "duration": 1888,
    "start_time": "2023-02-15T03:28:28.275Z"
   },
   {
    "duration": 45899,
    "start_time": "2023-02-15T03:28:40.229Z"
   },
   {
    "duration": 11757,
    "start_time": "2023-02-15T03:30:06.086Z"
   },
   {
    "duration": 0,
    "start_time": "2023-02-15T03:31:51.179Z"
   },
   {
    "duration": 2691,
    "start_time": "2023-02-15T05:51:28.364Z"
   },
   {
    "duration": 966,
    "start_time": "2023-02-15T05:51:31.057Z"
   },
   {
    "duration": 38,
    "start_time": "2023-02-15T05:51:32.036Z"
   },
   {
    "duration": 20,
    "start_time": "2023-02-15T05:51:32.076Z"
   },
   {
    "duration": 29,
    "start_time": "2023-02-15T05:51:32.098Z"
   },
   {
    "duration": 19,
    "start_time": "2023-02-15T05:51:32.135Z"
   },
   {
    "duration": 9,
    "start_time": "2023-02-15T05:51:32.156Z"
   },
   {
    "duration": 23,
    "start_time": "2023-02-15T05:51:32.166Z"
   },
   {
    "duration": 7,
    "start_time": "2023-02-15T05:51:32.191Z"
   },
   {
    "duration": 44,
    "start_time": "2023-02-15T05:51:32.200Z"
   },
   {
    "duration": 15,
    "start_time": "2023-02-15T05:51:32.246Z"
   },
   {
    "duration": 4,
    "start_time": "2023-02-15T05:51:32.263Z"
   },
   {
    "duration": 16,
    "start_time": "2023-02-15T05:51:32.268Z"
   },
   {
    "duration": 6,
    "start_time": "2023-02-15T05:51:32.286Z"
   },
   {
    "duration": 5,
    "start_time": "2023-02-15T05:51:32.294Z"
   },
   {
    "duration": 34,
    "start_time": "2023-02-15T05:51:32.301Z"
   },
   {
    "duration": 16,
    "start_time": "2023-02-15T05:51:32.337Z"
   },
   {
    "duration": 26,
    "start_time": "2023-02-15T05:51:32.354Z"
   },
   {
    "duration": 18,
    "start_time": "2023-02-15T05:51:32.382Z"
   },
   {
    "duration": 35,
    "start_time": "2023-02-15T05:51:32.401Z"
   },
   {
    "duration": 201,
    "start_time": "2023-02-15T05:51:32.438Z"
   },
   {
    "duration": 25499,
    "start_time": "2023-02-15T05:51:32.640Z"
   },
   {
    "duration": 13793,
    "start_time": "2023-02-15T05:51:58.141Z"
   },
   {
    "duration": 6,
    "start_time": "2023-02-15T05:52:11.941Z"
   },
   {
    "duration": 102,
    "start_time": "2023-02-15T05:52:11.949Z"
   },
   {
    "duration": 4868,
    "start_time": "2023-02-15T05:52:12.053Z"
   },
   {
    "duration": 12,
    "start_time": "2023-02-15T05:52:16.931Z"
   },
   {
    "duration": 11995,
    "start_time": "2023-02-15T05:52:52.747Z"
   },
   {
    "duration": 12335,
    "start_time": "2023-02-15T06:20:29.291Z"
   },
   {
    "duration": 130,
    "start_time": "2023-02-15T06:26:21.017Z"
   },
   {
    "duration": 6,
    "start_time": "2023-02-15T06:26:26.260Z"
   },
   {
    "duration": 47857,
    "start_time": "2023-02-15T06:26:28.546Z"
   },
   {
    "duration": 47559,
    "start_time": "2023-02-15T06:27:42.287Z"
   },
   {
    "duration": 35007,
    "start_time": "2023-02-15T06:29:08.857Z"
   },
   {
    "duration": 35196,
    "start_time": "2023-02-15T06:33:32.898Z"
   },
   {
    "duration": 54634,
    "start_time": "2023-02-15T06:34:31.930Z"
   },
   {
    "duration": 11,
    "start_time": "2023-02-15T06:36:38.054Z"
   },
   {
    "duration": 12,
    "start_time": "2023-02-15T06:36:41.081Z"
   },
   {
    "duration": 5,
    "start_time": "2023-02-15T06:37:39.818Z"
   },
   {
    "duration": 17,
    "start_time": "2023-02-15T06:37:45.412Z"
   },
   {
    "duration": 6,
    "start_time": "2023-02-15T06:37:46.475Z"
   },
   {
    "duration": 104154,
    "start_time": "2023-02-15T06:37:48.162Z"
   },
   {
    "duration": 28017,
    "start_time": "2023-02-15T06:40:51.984Z"
   },
   {
    "duration": 9,
    "start_time": "2023-02-15T06:41:30.489Z"
   },
   {
    "duration": 4,
    "start_time": "2023-02-15T06:41:31.846Z"
   },
   {
    "duration": 6,
    "start_time": "2023-02-15T06:41:35.828Z"
   },
   {
    "duration": 34442,
    "start_time": "2023-02-15T06:41:41.316Z"
   },
   {
    "duration": 34483,
    "start_time": "2023-02-15T06:42:48.543Z"
   },
   {
    "duration": 11,
    "start_time": "2023-02-15T06:44:43.768Z"
   },
   {
    "duration": 10,
    "start_time": "2023-02-15T06:44:49.019Z"
   },
   {
    "duration": 5,
    "start_time": "2023-02-15T06:44:49.959Z"
   },
   {
    "duration": 4,
    "start_time": "2023-02-15T06:45:25.124Z"
   },
   {
    "duration": 16048,
    "start_time": "2023-02-15T06:45:25.130Z"
   },
   {
    "duration": 2837,
    "start_time": "2023-02-15T06:46:47.929Z"
   },
   {
    "duration": 1001,
    "start_time": "2023-02-15T06:46:50.769Z"
   },
   {
    "duration": 36,
    "start_time": "2023-02-15T06:46:51.771Z"
   },
   {
    "duration": 25,
    "start_time": "2023-02-15T06:46:51.809Z"
   },
   {
    "duration": 25,
    "start_time": "2023-02-15T06:46:51.837Z"
   },
   {
    "duration": 17,
    "start_time": "2023-02-15T06:46:51.864Z"
   },
   {
    "duration": 12,
    "start_time": "2023-02-15T06:46:51.883Z"
   },
   {
    "duration": 16,
    "start_time": "2023-02-15T06:46:51.897Z"
   },
   {
    "duration": 18,
    "start_time": "2023-02-15T06:46:51.916Z"
   },
   {
    "duration": 8,
    "start_time": "2023-02-15T06:46:51.937Z"
   },
   {
    "duration": 16,
    "start_time": "2023-02-15T06:46:51.946Z"
   },
   {
    "duration": 5,
    "start_time": "2023-02-15T06:46:51.963Z"
   },
   {
    "duration": 7,
    "start_time": "2023-02-15T06:46:51.969Z"
   },
   {
    "duration": 10,
    "start_time": "2023-02-15T06:46:51.978Z"
   },
   {
    "duration": 7,
    "start_time": "2023-02-15T06:46:51.990Z"
   },
   {
    "duration": 13,
    "start_time": "2023-02-15T06:46:51.998Z"
   },
   {
    "duration": 23,
    "start_time": "2023-02-15T06:46:52.012Z"
   },
   {
    "duration": 36,
    "start_time": "2023-02-15T06:46:52.037Z"
   },
   {
    "duration": 43,
    "start_time": "2023-02-15T06:46:52.075Z"
   },
   {
    "duration": 32,
    "start_time": "2023-02-15T06:46:52.121Z"
   },
   {
    "duration": 213,
    "start_time": "2023-02-15T06:46:52.155Z"
   },
   {
    "duration": 26069,
    "start_time": "2023-02-15T06:46:52.370Z"
   },
   {
    "duration": 14602,
    "start_time": "2023-02-15T06:47:18.441Z"
   },
   {
    "duration": 67,
    "start_time": "2023-02-15T06:47:33.047Z"
   },
   {
    "duration": 95,
    "start_time": "2023-02-15T06:47:33.117Z"
   },
   {
    "duration": 12172,
    "start_time": "2023-02-15T06:47:33.214Z"
   },
   {
    "duration": 22,
    "start_time": "2023-02-15T06:47:45.388Z"
   },
   {
    "duration": 8,
    "start_time": "2023-02-15T06:47:45.414Z"
   },
   {
    "duration": 29309,
    "start_time": "2023-02-15T06:47:45.433Z"
   },
   {
    "duration": 3,
    "start_time": "2023-02-15T06:48:14.744Z"
   },
   {
    "duration": 424,
    "start_time": "2023-02-15T06:55:09.841Z"
   },
   {
    "duration": 136,
    "start_time": "2023-02-15T07:01:40.669Z"
   },
   {
    "duration": 4,
    "start_time": "2023-02-15T07:01:57.231Z"
   },
   {
    "duration": 31,
    "start_time": "2023-02-15T07:02:02.996Z"
   },
   {
    "duration": 15,
    "start_time": "2023-02-15T07:05:12.775Z"
   },
   {
    "duration": 910,
    "start_time": "2023-02-15T07:05:27.565Z"
   },
   {
    "duration": 1468,
    "start_time": "2023-02-15T07:08:28.498Z"
   },
   {
    "duration": 1548,
    "start_time": "2023-02-15T07:08:57.191Z"
   },
   {
    "duration": 1607,
    "start_time": "2023-02-15T07:10:26.844Z"
   },
   {
    "duration": 3021,
    "start_time": "2023-02-15T07:25:32.538Z"
   },
   {
    "duration": 923,
    "start_time": "2023-02-15T07:25:35.561Z"
   },
   {
    "duration": 44,
    "start_time": "2023-02-15T07:25:36.485Z"
   },
   {
    "duration": 20,
    "start_time": "2023-02-15T07:25:36.532Z"
   },
   {
    "duration": 13,
    "start_time": "2023-02-15T07:25:36.554Z"
   },
   {
    "duration": 11,
    "start_time": "2023-02-15T07:25:36.568Z"
   },
   {
    "duration": 43,
    "start_time": "2023-02-15T07:25:36.581Z"
   },
   {
    "duration": 25,
    "start_time": "2023-02-15T07:25:36.625Z"
   },
   {
    "duration": 8,
    "start_time": "2023-02-15T07:25:36.653Z"
   },
   {
    "duration": 17,
    "start_time": "2023-02-15T07:25:36.664Z"
   },
   {
    "duration": 24,
    "start_time": "2023-02-15T07:25:36.683Z"
   },
   {
    "duration": 35,
    "start_time": "2023-02-15T07:25:36.709Z"
   },
   {
    "duration": 11,
    "start_time": "2023-02-15T07:25:36.746Z"
   },
   {
    "duration": 13,
    "start_time": "2023-02-15T07:25:36.760Z"
   },
   {
    "duration": 8,
    "start_time": "2023-02-15T07:25:36.775Z"
   },
   {
    "duration": 17,
    "start_time": "2023-02-15T07:25:36.785Z"
   },
   {
    "duration": 38,
    "start_time": "2023-02-15T07:25:36.805Z"
   },
   {
    "duration": 37,
    "start_time": "2023-02-15T07:25:36.844Z"
   },
   {
    "duration": 23,
    "start_time": "2023-02-15T07:25:36.883Z"
   },
   {
    "duration": 29,
    "start_time": "2023-02-15T07:25:36.908Z"
   },
   {
    "duration": 234,
    "start_time": "2023-02-15T07:25:36.939Z"
   },
   {
    "duration": 25523,
    "start_time": "2023-02-15T07:25:37.175Z"
   },
   {
    "duration": 5613,
    "start_time": "2023-02-15T07:26:02.700Z"
   },
   {
    "duration": 8,
    "start_time": "2023-02-15T07:26:08.315Z"
   },
   {
    "duration": 7,
    "start_time": "2023-02-15T07:26:08.325Z"
   },
   {
    "duration": 12110,
    "start_time": "2023-02-15T07:26:08.334Z"
   },
   {
    "duration": 19,
    "start_time": "2023-02-15T07:26:20.446Z"
   },
   {
    "duration": 6,
    "start_time": "2023-02-15T07:26:20.470Z"
   },
   {
    "duration": 29826,
    "start_time": "2023-02-15T07:26:20.478Z"
   },
   {
    "duration": 26,
    "start_time": "2023-02-15T07:26:50.306Z"
   },
   {
    "duration": 46142,
    "start_time": "2023-02-15T07:26:50.333Z"
   },
   {
    "duration": 61,
    "start_time": "2023-02-15T07:27:36.477Z"
   },
   {
    "duration": 16,
    "start_time": "2023-02-15T07:28:28.466Z"
   },
   {
    "duration": 47242,
    "start_time": "2023-02-15T07:28:29.521Z"
   },
   {
    "duration": 43499,
    "start_time": "2023-02-15T07:30:27.884Z"
   },
   {
    "duration": 29454,
    "start_time": "2023-02-15T07:32:03.163Z"
   },
   {
    "duration": 16,
    "start_time": "2023-02-15T07:32:32.620Z"
   },
   {
    "duration": 46534,
    "start_time": "2023-02-15T07:32:32.639Z"
   },
   {
    "duration": 30,
    "start_time": "2023-02-15T07:34:20.714Z"
   },
   {
    "duration": 29,
    "start_time": "2023-02-15T07:34:25.390Z"
   },
   {
    "duration": 5,
    "start_time": "2023-02-15T07:34:56.193Z"
   },
   {
    "duration": 2724,
    "start_time": "2023-02-15T07:35:17.034Z"
   },
   {
    "duration": 953,
    "start_time": "2023-02-15T07:35:19.760Z"
   },
   {
    "duration": 40,
    "start_time": "2023-02-15T07:35:20.715Z"
   },
   {
    "duration": 20,
    "start_time": "2023-02-15T07:35:20.756Z"
   },
   {
    "duration": 13,
    "start_time": "2023-02-15T07:35:20.779Z"
   },
   {
    "duration": 26,
    "start_time": "2023-02-15T07:35:20.794Z"
   },
   {
    "duration": 15,
    "start_time": "2023-02-15T07:35:20.822Z"
   },
   {
    "duration": 6,
    "start_time": "2023-02-15T07:35:20.839Z"
   },
   {
    "duration": 4,
    "start_time": "2023-02-15T07:35:20.847Z"
   },
   {
    "duration": 9,
    "start_time": "2023-02-15T07:35:20.853Z"
   },
   {
    "duration": 19,
    "start_time": "2023-02-15T07:35:20.865Z"
   },
   {
    "duration": 31,
    "start_time": "2023-02-15T07:35:20.885Z"
   },
   {
    "duration": 23,
    "start_time": "2023-02-15T07:35:20.918Z"
   },
   {
    "duration": 7,
    "start_time": "2023-02-15T07:35:20.944Z"
   },
   {
    "duration": 21,
    "start_time": "2023-02-15T07:35:20.953Z"
   },
   {
    "duration": 6,
    "start_time": "2023-02-15T07:35:20.975Z"
   },
   {
    "duration": 14,
    "start_time": "2023-02-15T07:35:20.983Z"
   },
   {
    "duration": 38,
    "start_time": "2023-02-15T07:35:21.000Z"
   },
   {
    "duration": 29,
    "start_time": "2023-02-15T07:35:21.041Z"
   },
   {
    "duration": 47,
    "start_time": "2023-02-15T07:35:21.072Z"
   },
   {
    "duration": 254,
    "start_time": "2023-02-15T07:35:21.121Z"
   },
   {
    "duration": 25692,
    "start_time": "2023-02-15T07:35:21.376Z"
   },
   {
    "duration": 6372,
    "start_time": "2023-02-15T07:35:47.070Z"
   },
   {
    "duration": 79,
    "start_time": "2023-02-15T07:35:53.444Z"
   },
   {
    "duration": 98,
    "start_time": "2023-02-15T07:35:53.525Z"
   },
   {
    "duration": 12412,
    "start_time": "2023-02-15T07:35:53.624Z"
   },
   {
    "duration": 12,
    "start_time": "2023-02-15T07:36:06.038Z"
   },
   {
    "duration": 5,
    "start_time": "2023-02-15T07:36:06.052Z"
   },
   {
    "duration": 30291,
    "start_time": "2023-02-15T07:36:06.059Z"
   },
   {
    "duration": 11,
    "start_time": "2023-02-15T07:36:36.352Z"
   },
   {
    "duration": 46029,
    "start_time": "2023-02-15T07:36:36.365Z"
   },
   {
    "duration": 5,
    "start_time": "2023-02-15T07:37:22.396Z"
   },
   {
    "duration": 44,
    "start_time": "2023-02-15T07:37:22.409Z"
   },
   {
    "duration": 45420,
    "start_time": "2023-02-15T07:42:53.078Z"
   },
   {
    "duration": 10610,
    "start_time": "2023-02-15T07:50:00.876Z"
   },
   {
    "duration": 24942,
    "start_time": "2023-02-15T07:50:51.589Z"
   },
   {
    "duration": 46326,
    "start_time": "2023-02-15T08:00:28.613Z"
   },
   {
    "duration": 6,
    "start_time": "2023-02-15T08:01:35.963Z"
   },
   {
    "duration": 33,
    "start_time": "2023-02-15T08:02:05.124Z"
   },
   {
    "duration": 25886,
    "start_time": "2023-02-15T08:05:20.318Z"
   },
   {
    "duration": 48965,
    "start_time": "2023-02-15T08:09:19.441Z"
   },
   {
    "duration": 179,
    "start_time": "2023-02-15T08:15:16.691Z"
   },
   {
    "duration": 651,
    "start_time": "2023-02-15T08:15:22.278Z"
   },
   {
    "duration": 28,
    "start_time": "2023-02-15T08:15:24.169Z"
   },
   {
    "duration": 646,
    "start_time": "2023-02-15T08:15:41.235Z"
   },
   {
    "duration": 28363,
    "start_time": "2023-02-15T08:16:25.789Z"
   },
   {
    "duration": 3,
    "start_time": "2023-02-15T08:27:09.905Z"
   },
   {
    "duration": 9,
    "start_time": "2023-02-15T08:28:19.940Z"
   },
   {
    "duration": 5,
    "start_time": "2023-02-15T08:28:27.972Z"
   },
   {
    "duration": 3,
    "start_time": "2023-02-15T08:29:57.063Z"
   },
   {
    "duration": 26,
    "start_time": "2023-02-15T08:29:57.940Z"
   },
   {
    "duration": 14,
    "start_time": "2023-02-15T08:30:23.663Z"
   },
   {
    "duration": 12,
    "start_time": "2023-02-15T08:35:47.942Z"
   },
   {
    "duration": 2776,
    "start_time": "2023-02-15T08:35:59.631Z"
   },
   {
    "duration": 1040,
    "start_time": "2023-02-15T08:36:02.410Z"
   },
   {
    "duration": 38,
    "start_time": "2023-02-15T08:36:03.452Z"
   },
   {
    "duration": 25,
    "start_time": "2023-02-15T08:36:03.492Z"
   },
   {
    "duration": 40,
    "start_time": "2023-02-15T08:36:03.519Z"
   },
   {
    "duration": 12,
    "start_time": "2023-02-15T08:36:03.561Z"
   },
   {
    "duration": 9,
    "start_time": "2023-02-15T08:36:03.574Z"
   },
   {
    "duration": 6,
    "start_time": "2023-02-15T08:36:03.585Z"
   },
   {
    "duration": 8,
    "start_time": "2023-02-15T08:36:03.592Z"
   },
   {
    "duration": 20,
    "start_time": "2023-02-15T08:36:03.602Z"
   },
   {
    "duration": 22,
    "start_time": "2023-02-15T08:36:03.630Z"
   },
   {
    "duration": 3,
    "start_time": "2023-02-15T08:36:03.654Z"
   },
   {
    "duration": 7,
    "start_time": "2023-02-15T08:36:03.659Z"
   },
   {
    "duration": 5,
    "start_time": "2023-02-15T08:36:03.669Z"
   },
   {
    "duration": 5,
    "start_time": "2023-02-15T08:36:03.676Z"
   },
   {
    "duration": 4,
    "start_time": "2023-02-15T08:36:03.682Z"
   },
   {
    "duration": 20,
    "start_time": "2023-02-15T08:36:03.687Z"
   },
   {
    "duration": 50,
    "start_time": "2023-02-15T08:36:03.709Z"
   },
   {
    "duration": 10,
    "start_time": "2023-02-15T08:36:03.761Z"
   },
   {
    "duration": 11,
    "start_time": "2023-02-15T08:36:03.773Z"
   },
   {
    "duration": 6,
    "start_time": "2023-02-15T08:36:03.786Z"
   },
   {
    "duration": 51,
    "start_time": "2023-02-15T08:36:03.795Z"
   },
   {
    "duration": 12,
    "start_time": "2023-02-15T08:36:03.849Z"
   },
   {
    "duration": 213,
    "start_time": "2023-02-15T08:36:03.864Z"
   },
   {
    "duration": 16653,
    "start_time": "2023-02-15T08:36:04.078Z"
   },
   {
    "duration": 4597,
    "start_time": "2023-02-15T08:36:20.738Z"
   },
   {
    "duration": 7,
    "start_time": "2023-02-15T08:36:25.336Z"
   },
   {
    "duration": 110,
    "start_time": "2023-02-15T08:36:25.345Z"
   },
   {
    "duration": 12211,
    "start_time": "2023-02-15T08:36:25.457Z"
   },
   {
    "duration": 10,
    "start_time": "2023-02-15T08:36:37.669Z"
   },
   {
    "duration": 5,
    "start_time": "2023-02-15T08:36:37.680Z"
   },
   {
    "duration": 29663,
    "start_time": "2023-02-15T08:36:37.687Z"
   },
   {
    "duration": 16,
    "start_time": "2023-02-15T08:37:07.352Z"
   },
   {
    "duration": 46970,
    "start_time": "2023-02-15T08:37:07.370Z"
   },
   {
    "duration": 4,
    "start_time": "2023-02-15T08:37:54.342Z"
   },
   {
    "duration": 642,
    "start_time": "2023-02-15T08:37:54.348Z"
   },
   {
    "duration": 46,
    "start_time": "2023-02-15T08:37:54.992Z"
   },
   {
    "duration": 664,
    "start_time": "2023-02-15T08:39:03.574Z"
   },
   {
    "duration": 842,
    "start_time": "2023-02-15T08:39:20.301Z"
   },
   {
    "duration": 728,
    "start_time": "2023-02-15T08:40:55.932Z"
   },
   {
    "duration": 48780,
    "start_time": "2023-02-15T08:42:28.472Z"
   },
   {
    "duration": 9,
    "start_time": "2023-02-15T08:46:36.664Z"
   },
   {
    "duration": 3061,
    "start_time": "2023-02-15T08:48:48.194Z"
   },
   {
    "duration": 1175,
    "start_time": "2023-02-15T08:48:51.258Z"
   },
   {
    "duration": 48,
    "start_time": "2023-02-15T08:48:52.435Z"
   },
   {
    "duration": 40,
    "start_time": "2023-02-15T08:48:52.486Z"
   },
   {
    "duration": 36,
    "start_time": "2023-02-15T08:48:52.528Z"
   },
   {
    "duration": 14,
    "start_time": "2023-02-15T08:48:52.566Z"
   },
   {
    "duration": 12,
    "start_time": "2023-02-15T08:48:52.582Z"
   },
   {
    "duration": 5,
    "start_time": "2023-02-15T08:48:52.596Z"
   },
   {
    "duration": 49,
    "start_time": "2023-02-15T08:48:52.603Z"
   },
   {
    "duration": 7,
    "start_time": "2023-02-15T08:48:52.657Z"
   },
   {
    "duration": 20,
    "start_time": "2023-02-15T08:48:52.666Z"
   },
   {
    "duration": 6,
    "start_time": "2023-02-15T08:48:52.688Z"
   },
   {
    "duration": 8,
    "start_time": "2023-02-15T08:48:52.698Z"
   },
   {
    "duration": 25,
    "start_time": "2023-02-15T08:48:52.723Z"
   },
   {
    "duration": 9,
    "start_time": "2023-02-15T08:48:52.755Z"
   },
   {
    "duration": 13,
    "start_time": "2023-02-15T08:48:52.766Z"
   },
   {
    "duration": 12,
    "start_time": "2023-02-15T08:48:52.781Z"
   },
   {
    "duration": 36,
    "start_time": "2023-02-15T08:48:52.795Z"
   },
   {
    "duration": 24,
    "start_time": "2023-02-15T08:48:52.839Z"
   },
   {
    "duration": 14,
    "start_time": "2023-02-15T08:48:52.865Z"
   },
   {
    "duration": 4,
    "start_time": "2023-02-15T08:48:52.880Z"
   },
   {
    "duration": 48,
    "start_time": "2023-02-15T08:48:52.886Z"
   },
   {
    "duration": 21,
    "start_time": "2023-02-15T08:48:52.940Z"
   },
   {
    "duration": 264,
    "start_time": "2023-02-15T08:48:52.963Z"
   },
   {
    "duration": 17465,
    "start_time": "2023-02-15T08:48:53.239Z"
   },
   {
    "duration": 4154,
    "start_time": "2023-02-15T08:49:10.706Z"
   },
   {
    "duration": 5,
    "start_time": "2023-02-15T08:49:14.862Z"
   },
   {
    "duration": 99,
    "start_time": "2023-02-15T08:49:14.874Z"
   },
   {
    "duration": 13130,
    "start_time": "2023-02-15T08:49:15.029Z"
   },
   {
    "duration": 15,
    "start_time": "2023-02-15T08:49:28.166Z"
   },
   {
    "duration": 4,
    "start_time": "2023-02-15T08:49:28.184Z"
   },
   {
    "duration": 33678,
    "start_time": "2023-02-15T08:49:28.190Z"
   },
   {
    "duration": 15,
    "start_time": "2023-02-15T08:50:01.870Z"
   },
   {
    "duration": 51172,
    "start_time": "2023-02-15T08:50:01.888Z"
   },
   {
    "duration": 5,
    "start_time": "2023-02-15T08:50:53.062Z"
   },
   {
    "duration": 24,
    "start_time": "2023-02-15T08:50:53.069Z"
   },
   {
    "duration": 694,
    "start_time": "2023-02-15T08:50:53.095Z"
   },
   {
    "duration": 47,
    "start_time": "2023-02-15T08:50:53.790Z"
   },
   {
    "duration": 22,
    "start_time": "2023-02-15T08:52:09.321Z"
   },
   {
    "duration": 681,
    "start_time": "2023-02-15T08:53:54.634Z"
   },
   {
    "duration": 48618,
    "start_time": "2023-02-15T08:56:18.352Z"
   },
   {
    "duration": 649,
    "start_time": "2023-02-15T08:57:55.857Z"
   },
   {
    "duration": 2748,
    "start_time": "2023-02-15T09:02:58.506Z"
   },
   {
    "duration": 986,
    "start_time": "2023-02-15T09:03:01.257Z"
   },
   {
    "duration": 38,
    "start_time": "2023-02-15T09:03:02.245Z"
   },
   {
    "duration": 19,
    "start_time": "2023-02-15T09:03:02.286Z"
   },
   {
    "duration": 37,
    "start_time": "2023-02-15T09:03:02.306Z"
   },
   {
    "duration": 16,
    "start_time": "2023-02-15T09:03:02.345Z"
   },
   {
    "duration": 15,
    "start_time": "2023-02-15T09:03:02.363Z"
   },
   {
    "duration": 4,
    "start_time": "2023-02-15T09:03:02.380Z"
   },
   {
    "duration": 5,
    "start_time": "2023-02-15T09:03:02.386Z"
   },
   {
    "duration": 12,
    "start_time": "2023-02-15T09:03:02.393Z"
   },
   {
    "duration": 39,
    "start_time": "2023-02-15T09:03:02.407Z"
   },
   {
    "duration": 5,
    "start_time": "2023-02-15T09:03:02.449Z"
   },
   {
    "duration": 7,
    "start_time": "2023-02-15T09:03:02.456Z"
   },
   {
    "duration": 7,
    "start_time": "2023-02-15T09:03:02.465Z"
   },
   {
    "duration": 7,
    "start_time": "2023-02-15T09:03:02.474Z"
   },
   {
    "duration": 6,
    "start_time": "2023-02-15T09:03:02.482Z"
   },
   {
    "duration": 10,
    "start_time": "2023-02-15T09:03:02.490Z"
   },
   {
    "duration": 33,
    "start_time": "2023-02-15T09:03:02.502Z"
   },
   {
    "duration": 12,
    "start_time": "2023-02-15T09:03:02.537Z"
   },
   {
    "duration": 11,
    "start_time": "2023-02-15T09:03:02.551Z"
   },
   {
    "duration": 2,
    "start_time": "2023-02-15T09:03:02.564Z"
   },
   {
    "duration": 31,
    "start_time": "2023-02-15T09:03:02.568Z"
   },
   {
    "duration": 31,
    "start_time": "2023-02-15T09:03:02.600Z"
   },
   {
    "duration": 207,
    "start_time": "2023-02-15T09:03:02.633Z"
   },
   {
    "duration": 16131,
    "start_time": "2023-02-15T09:03:02.842Z"
   },
   {
    "duration": 4560,
    "start_time": "2023-02-15T09:03:18.976Z"
   },
   {
    "duration": 79,
    "start_time": "2023-02-15T09:03:23.538Z"
   },
   {
    "duration": 13,
    "start_time": "2023-02-15T09:03:23.630Z"
   },
   {
    "duration": 12032,
    "start_time": "2023-02-15T09:03:23.709Z"
   },
   {
    "duration": 11,
    "start_time": "2023-02-15T09:03:35.743Z"
   },
   {
    "duration": 4,
    "start_time": "2023-02-15T09:03:35.755Z"
   },
   {
    "duration": 30106,
    "start_time": "2023-02-15T09:03:35.761Z"
   },
   {
    "duration": 15,
    "start_time": "2023-02-15T09:04:05.870Z"
   },
   {
    "duration": 49228,
    "start_time": "2023-02-15T09:04:05.887Z"
   },
   {
    "duration": 4,
    "start_time": "2023-02-15T09:04:55.117Z"
   },
   {
    "duration": 47,
    "start_time": "2023-02-15T09:04:55.123Z"
   },
   {
    "duration": 767,
    "start_time": "2023-02-15T09:04:55.172Z"
   },
   {
    "duration": 28,
    "start_time": "2023-02-15T09:04:55.941Z"
   },
   {
    "duration": 3066,
    "start_time": "2023-02-15T09:05:43.899Z"
   },
   {
    "duration": 1108,
    "start_time": "2023-02-15T09:05:46.967Z"
   },
   {
    "duration": 61,
    "start_time": "2023-02-15T09:05:48.078Z"
   },
   {
    "duration": 26,
    "start_time": "2023-02-15T09:05:48.141Z"
   },
   {
    "duration": 16,
    "start_time": "2023-02-15T09:05:48.170Z"
   },
   {
    "duration": 16,
    "start_time": "2023-02-15T09:05:48.188Z"
   },
   {
    "duration": 29,
    "start_time": "2023-02-15T09:05:48.206Z"
   },
   {
    "duration": 20,
    "start_time": "2023-02-15T09:05:48.236Z"
   },
   {
    "duration": 4,
    "start_time": "2023-02-15T09:05:48.258Z"
   },
   {
    "duration": 6,
    "start_time": "2023-02-15T09:05:48.263Z"
   },
   {
    "duration": 13,
    "start_time": "2023-02-15T09:05:48.271Z"
   },
   {
    "duration": 4,
    "start_time": "2023-02-15T09:05:48.286Z"
   },
   {
    "duration": 12,
    "start_time": "2023-02-15T09:05:48.292Z"
   },
   {
    "duration": 31,
    "start_time": "2023-02-15T09:05:48.307Z"
   },
   {
    "duration": 5,
    "start_time": "2023-02-15T09:05:48.340Z"
   },
   {
    "duration": 6,
    "start_time": "2023-02-15T09:05:48.347Z"
   },
   {
    "duration": 13,
    "start_time": "2023-02-15T09:05:48.355Z"
   },
   {
    "duration": 16,
    "start_time": "2023-02-15T09:05:48.370Z"
   },
   {
    "duration": 20,
    "start_time": "2023-02-15T09:05:48.388Z"
   },
   {
    "duration": 44,
    "start_time": "2023-02-15T09:05:48.411Z"
   },
   {
    "duration": 4,
    "start_time": "2023-02-15T09:05:48.457Z"
   },
   {
    "duration": 4,
    "start_time": "2023-02-15T09:05:48.463Z"
   },
   {
    "duration": 18,
    "start_time": "2023-02-15T09:05:48.468Z"
   },
   {
    "duration": 204,
    "start_time": "2023-02-15T09:05:48.488Z"
   },
   {
    "duration": 26738,
    "start_time": "2023-02-15T09:05:48.693Z"
   },
   {
    "duration": 6109,
    "start_time": "2023-02-15T09:06:15.432Z"
   },
   {
    "duration": 14,
    "start_time": "2023-02-15T09:06:21.543Z"
   },
   {
    "duration": 38,
    "start_time": "2023-02-15T09:06:21.620Z"
   },
   {
    "duration": 12650,
    "start_time": "2023-02-15T09:06:21.660Z"
   },
   {
    "duration": 14,
    "start_time": "2023-02-15T09:06:34.312Z"
   },
   {
    "duration": 32,
    "start_time": "2023-02-15T09:06:34.328Z"
   },
   {
    "duration": 30541,
    "start_time": "2023-02-15T09:06:34.362Z"
   },
   {
    "duration": 25,
    "start_time": "2023-02-15T09:07:04.919Z"
   },
   {
    "duration": 50517,
    "start_time": "2023-02-15T09:07:04.950Z"
   },
   {
    "duration": 4,
    "start_time": "2023-02-15T09:07:55.468Z"
   },
   {
    "duration": 6,
    "start_time": "2023-02-15T09:07:55.474Z"
   },
   {
    "duration": 668,
    "start_time": "2023-02-15T09:07:55.482Z"
   },
   {
    "duration": 25,
    "start_time": "2023-02-15T09:07:56.152Z"
   },
   {
    "duration": 17,
    "start_time": "2023-02-15T09:08:58.134Z"
   },
   {
    "duration": 209,
    "start_time": "2023-02-15T09:10:24.254Z"
   },
   {
    "duration": 27809,
    "start_time": "2023-02-15T09:10:25.838Z"
   },
   {
    "duration": 7,
    "start_time": "2023-02-15T09:32:39.440Z"
   },
   {
    "duration": 56855,
    "start_time": "2023-02-15T09:48:49.551Z"
   },
   {
    "duration": 8,
    "start_time": "2023-02-15T11:17:20.545Z"
   },
   {
    "duration": 162,
    "start_time": "2023-02-15T11:17:36.587Z"
   },
   {
    "duration": 4,
    "start_time": "2023-02-15T11:17:47.093Z"
   },
   {
    "duration": 5,
    "start_time": "2023-02-15T11:18:00.960Z"
   },
   {
    "duration": 11,
    "start_time": "2023-02-15T11:19:20.064Z"
   },
   {
    "duration": 12,
    "start_time": "2023-02-15T11:20:07.640Z"
   },
   {
    "duration": 6,
    "start_time": "2023-02-15T11:20:13.494Z"
   },
   {
    "duration": 15,
    "start_time": "2023-02-15T11:21:30.935Z"
   },
   {
    "duration": 5,
    "start_time": "2023-02-15T11:21:35.084Z"
   },
   {
    "duration": 6,
    "start_time": "2023-02-15T11:29:56.653Z"
   },
   {
    "duration": 39,
    "start_time": "2023-02-15T11:44:56.735Z"
   },
   {
    "duration": 53,
    "start_time": "2023-02-15T11:46:23.194Z"
   },
   {
    "duration": 37,
    "start_time": "2023-02-15T11:52:53.207Z"
   },
   {
    "duration": 2899,
    "start_time": "2023-02-15T12:02:47.336Z"
   },
   {
    "duration": 1014,
    "start_time": "2023-02-15T12:02:50.253Z"
   },
   {
    "duration": 39,
    "start_time": "2023-02-15T12:02:51.268Z"
   },
   {
    "duration": 57,
    "start_time": "2023-02-15T12:02:51.309Z"
   },
   {
    "duration": 17,
    "start_time": "2023-02-15T12:02:51.369Z"
   },
   {
    "duration": 14,
    "start_time": "2023-02-15T12:02:51.388Z"
   },
   {
    "duration": 21,
    "start_time": "2023-02-15T12:02:51.404Z"
   },
   {
    "duration": 35,
    "start_time": "2023-02-15T12:02:51.427Z"
   },
   {
    "duration": 5,
    "start_time": "2023-02-15T12:02:51.464Z"
   },
   {
    "duration": 5,
    "start_time": "2023-02-15T12:02:51.471Z"
   },
   {
    "duration": 13,
    "start_time": "2023-02-15T12:02:51.477Z"
   },
   {
    "duration": 4,
    "start_time": "2023-02-15T12:02:51.492Z"
   },
   {
    "duration": 7,
    "start_time": "2023-02-15T12:02:51.497Z"
   },
   {
    "duration": 54,
    "start_time": "2023-02-15T12:02:51.507Z"
   },
   {
    "duration": 19,
    "start_time": "2023-02-15T12:02:51.562Z"
   },
   {
    "duration": 3,
    "start_time": "2023-02-15T12:02:51.582Z"
   },
   {
    "duration": 9,
    "start_time": "2023-02-15T12:02:51.587Z"
   },
   {
    "duration": 18,
    "start_time": "2023-02-15T12:02:51.597Z"
   },
   {
    "duration": 23,
    "start_time": "2023-02-15T12:02:51.616Z"
   },
   {
    "duration": 30,
    "start_time": "2023-02-15T12:02:51.644Z"
   },
   {
    "duration": 13,
    "start_time": "2023-02-15T12:02:51.676Z"
   },
   {
    "duration": 237,
    "start_time": "2023-02-15T12:02:51.690Z"
   },
   {
    "duration": 26791,
    "start_time": "2023-02-15T12:02:51.928Z"
   },
   {
    "duration": 6144,
    "start_time": "2023-02-15T12:03:18.720Z"
   },
   {
    "duration": 6,
    "start_time": "2023-02-15T12:03:24.866Z"
   },
   {
    "duration": 173,
    "start_time": "2023-02-15T12:03:24.874Z"
   },
   {
    "duration": 12585,
    "start_time": "2023-02-15T12:03:25.049Z"
   },
   {
    "duration": 14,
    "start_time": "2023-02-15T12:03:37.645Z"
   },
   {
    "duration": 5,
    "start_time": "2023-02-15T12:03:37.661Z"
   },
   {
    "duration": 30292,
    "start_time": "2023-02-15T12:03:37.667Z"
   },
   {
    "duration": 13,
    "start_time": "2023-02-15T12:04:07.961Z"
   },
   {
    "duration": 48616,
    "start_time": "2023-02-15T12:04:07.976Z"
   },
   {
    "duration": 4,
    "start_time": "2023-02-15T12:04:56.594Z"
   },
   {
    "duration": 71,
    "start_time": "2023-02-15T12:04:56.600Z"
   },
   {
    "duration": 29,
    "start_time": "2023-02-15T12:04:56.673Z"
   },
   {
    "duration": 3,
    "start_time": "2023-02-15T13:40:44.635Z"
   },
   {
    "duration": 120,
    "start_time": "2023-02-15T13:43:16.106Z"
   },
   {
    "duration": 2,
    "start_time": "2023-02-15T13:43:19.118Z"
   },
   {
    "duration": 8,
    "start_time": "2023-02-15T13:44:02.908Z"
   },
   {
    "duration": 24,
    "start_time": "2023-02-15T13:44:28.695Z"
   },
   {
    "duration": 16,
    "start_time": "2023-02-15T13:45:15.520Z"
   },
   {
    "duration": 35,
    "start_time": "2023-02-15T13:46:02.115Z"
   },
   {
    "duration": 17,
    "start_time": "2023-02-15T13:46:59.080Z"
   },
   {
    "duration": 15,
    "start_time": "2023-02-15T13:47:01.102Z"
   },
   {
    "duration": 12,
    "start_time": "2023-02-15T13:47:01.728Z"
   },
   {
    "duration": 21,
    "start_time": "2023-02-15T14:00:06.197Z"
   },
   {
    "duration": 452325,
    "start_time": "2023-02-15T14:00:45.309Z"
   },
   {
    "duration": 6908,
    "start_time": "2023-02-16T01:36:36.117Z"
   },
   {
    "duration": 1037,
    "start_time": "2023-02-16T01:36:43.028Z"
   },
   {
    "duration": 185,
    "start_time": "2023-02-16T01:36:44.067Z"
   },
   {
    "duration": 19,
    "start_time": "2023-02-16T01:36:44.254Z"
   },
   {
    "duration": 30,
    "start_time": "2023-02-16T01:36:44.275Z"
   },
   {
    "duration": 20,
    "start_time": "2023-02-16T01:36:44.307Z"
   },
   {
    "duration": 34,
    "start_time": "2023-02-16T01:36:44.329Z"
   },
   {
    "duration": 19,
    "start_time": "2023-02-16T01:36:44.365Z"
   },
   {
    "duration": 40,
    "start_time": "2023-02-16T01:36:44.386Z"
   },
   {
    "duration": 36,
    "start_time": "2023-02-16T01:36:44.429Z"
   },
   {
    "duration": 37,
    "start_time": "2023-02-16T01:36:44.467Z"
   },
   {
    "duration": 23,
    "start_time": "2023-02-16T01:36:44.505Z"
   },
   {
    "duration": 45,
    "start_time": "2023-02-16T01:36:44.530Z"
   },
   {
    "duration": 13,
    "start_time": "2023-02-16T01:36:44.577Z"
   },
   {
    "duration": 31,
    "start_time": "2023-02-16T01:36:44.592Z"
   },
   {
    "duration": 29,
    "start_time": "2023-02-16T01:36:44.625Z"
   },
   {
    "duration": 35,
    "start_time": "2023-02-16T01:36:44.656Z"
   },
   {
    "duration": 22,
    "start_time": "2023-02-16T01:36:44.693Z"
   },
   {
    "duration": 25,
    "start_time": "2023-02-16T01:36:44.717Z"
   },
   {
    "duration": 55,
    "start_time": "2023-02-16T01:36:44.744Z"
   },
   {
    "duration": 17,
    "start_time": "2023-02-16T01:36:44.801Z"
   },
   {
    "duration": 37,
    "start_time": "2023-02-16T01:36:44.820Z"
   },
   {
    "duration": 31,
    "start_time": "2023-02-16T01:36:44.859Z"
   },
   {
    "duration": 30,
    "start_time": "2023-02-16T01:36:44.893Z"
   },
   {
    "duration": 219,
    "start_time": "2023-02-16T01:36:44.925Z"
   },
   {
    "duration": 23932,
    "start_time": "2023-02-16T01:36:45.155Z"
   },
   {
    "duration": 474978,
    "start_time": "2023-02-16T01:37:09.088Z"
   },
   {
    "duration": 6479,
    "start_time": "2023-02-16T01:45:04.071Z"
   },
   {
    "duration": 7,
    "start_time": "2023-02-16T01:45:10.551Z"
   },
   {
    "duration": 110,
    "start_time": "2023-02-16T01:45:10.560Z"
   },
   {
    "duration": 10904,
    "start_time": "2023-02-16T01:45:10.672Z"
   },
   {
    "duration": 14,
    "start_time": "2023-02-16T01:45:21.579Z"
   },
   {
    "duration": 163,
    "start_time": "2023-02-16T01:45:21.595Z"
   },
   {
    "duration": 0,
    "start_time": "2023-02-16T01:45:21.759Z"
   },
   {
    "duration": 0,
    "start_time": "2023-02-16T01:45:21.761Z"
   },
   {
    "duration": 0,
    "start_time": "2023-02-16T01:45:21.762Z"
   },
   {
    "duration": 0,
    "start_time": "2023-02-16T01:45:21.763Z"
   },
   {
    "duration": 0,
    "start_time": "2023-02-16T02:45:49.513Z"
   },
   {
    "duration": 50618,
    "start_time": "2023-02-16T02:45:53.601Z"
   },
   {
    "duration": 51574,
    "start_time": "2023-02-16T03:04:42.476Z"
   },
   {
    "duration": 6800,
    "start_time": "2023-02-16T05:17:49.146Z"
   },
   {
    "duration": 960,
    "start_time": "2023-02-16T05:17:55.948Z"
   },
   {
    "duration": 165,
    "start_time": "2023-02-16T05:17:56.909Z"
   },
   {
    "duration": 21,
    "start_time": "2023-02-16T05:17:57.076Z"
   },
   {
    "duration": 12,
    "start_time": "2023-02-16T05:17:57.099Z"
   },
   {
    "duration": 12,
    "start_time": "2023-02-16T05:17:57.113Z"
   },
   {
    "duration": 14,
    "start_time": "2023-02-16T05:17:57.126Z"
   },
   {
    "duration": 4,
    "start_time": "2023-02-16T05:17:57.142Z"
   },
   {
    "duration": 8,
    "start_time": "2023-02-16T05:17:57.147Z"
   },
   {
    "duration": 7,
    "start_time": "2023-02-16T05:17:57.158Z"
   },
   {
    "duration": 21,
    "start_time": "2023-02-16T05:17:57.167Z"
   },
   {
    "duration": 11,
    "start_time": "2023-02-16T05:17:57.190Z"
   },
   {
    "duration": 10,
    "start_time": "2023-02-16T05:17:57.203Z"
   },
   {
    "duration": 15,
    "start_time": "2023-02-16T05:17:57.215Z"
   },
   {
    "duration": 12,
    "start_time": "2023-02-16T05:17:57.233Z"
   },
   {
    "duration": 12,
    "start_time": "2023-02-16T05:17:57.247Z"
   },
   {
    "duration": 11,
    "start_time": "2023-02-16T05:17:57.260Z"
   },
   {
    "duration": 18,
    "start_time": "2023-02-16T05:17:57.273Z"
   },
   {
    "duration": 10,
    "start_time": "2023-02-16T05:17:57.293Z"
   },
   {
    "duration": 16,
    "start_time": "2023-02-16T05:17:57.304Z"
   },
   {
    "duration": 24,
    "start_time": "2023-02-16T05:17:57.322Z"
   },
   {
    "duration": 14,
    "start_time": "2023-02-16T05:17:57.348Z"
   },
   {
    "duration": 40,
    "start_time": "2023-02-16T05:17:57.364Z"
   },
   {
    "duration": 14,
    "start_time": "2023-02-16T05:17:57.406Z"
   },
   {
    "duration": 195,
    "start_time": "2023-02-16T05:17:57.422Z"
   },
   {
    "duration": 14443,
    "start_time": "2023-02-16T05:17:57.619Z"
   },
   {
    "duration": 45081,
    "start_time": "2023-02-16T05:18:12.064Z"
   },
   {
    "duration": 5891,
    "start_time": "2023-02-16T05:18:57.148Z"
   },
   {
    "duration": 95,
    "start_time": "2023-02-16T05:19:03.042Z"
   },
   {
    "duration": 15,
    "start_time": "2023-02-16T05:19:03.139Z"
   },
   {
    "duration": 10453,
    "start_time": "2023-02-16T05:19:03.155Z"
   },
   {
    "duration": 11,
    "start_time": "2023-02-16T05:19:13.610Z"
   },
   {
    "duration": 132,
    "start_time": "2023-02-16T05:19:13.622Z"
   },
   {
    "duration": 0,
    "start_time": "2023-02-16T05:19:13.756Z"
   },
   {
    "duration": 0,
    "start_time": "2023-02-16T05:19:13.757Z"
   },
   {
    "duration": 0,
    "start_time": "2023-02-16T05:19:13.758Z"
   },
   {
    "duration": 0,
    "start_time": "2023-02-16T05:19:13.760Z"
   },
   {
    "duration": 15303,
    "start_time": "2023-02-16T05:19:36.821Z"
   },
   {
    "duration": 3323,
    "start_time": "2023-02-16T06:01:13.513Z"
   },
   {
    "duration": 15,
    "start_time": "2023-02-16T06:12:06.584Z"
   },
   {
    "duration": 57,
    "start_time": "2023-02-16T06:12:23.996Z"
   },
   {
    "duration": 15,
    "start_time": "2023-02-16T06:12:32.298Z"
   },
   {
    "duration": 37,
    "start_time": "2023-02-16T06:12:51.348Z"
   },
   {
    "duration": 23,
    "start_time": "2023-02-16T06:18:46.175Z"
   },
   {
    "duration": 298,
    "start_time": "2023-02-16T06:31:54.863Z"
   },
   {
    "duration": 2788,
    "start_time": "2023-02-16T06:34:43.135Z"
   },
   {
    "duration": 2414,
    "start_time": "2023-02-16T06:34:45.926Z"
   },
   {
    "duration": 1058,
    "start_time": "2023-02-16T06:34:48.342Z"
   },
   {
    "duration": 62,
    "start_time": "2023-02-16T06:34:49.402Z"
   },
   {
    "duration": 29,
    "start_time": "2023-02-16T06:34:49.466Z"
   },
   {
    "duration": 18,
    "start_time": "2023-02-16T06:34:49.496Z"
   },
   {
    "duration": 29,
    "start_time": "2023-02-16T06:34:49.516Z"
   },
   {
    "duration": 10,
    "start_time": "2023-02-16T06:34:49.547Z"
   },
   {
    "duration": 6,
    "start_time": "2023-02-16T06:34:49.559Z"
   },
   {
    "duration": 10,
    "start_time": "2023-02-16T06:34:49.568Z"
   },
   {
    "duration": 20,
    "start_time": "2023-02-16T06:34:49.580Z"
   },
   {
    "duration": 23,
    "start_time": "2023-02-16T06:34:49.603Z"
   },
   {
    "duration": 12,
    "start_time": "2023-02-16T06:34:49.628Z"
   },
   {
    "duration": 13,
    "start_time": "2023-02-16T06:34:49.642Z"
   },
   {
    "duration": 9,
    "start_time": "2023-02-16T06:34:49.658Z"
   },
   {
    "duration": 15,
    "start_time": "2023-02-16T06:34:49.669Z"
   },
   {
    "duration": 22,
    "start_time": "2023-02-16T06:34:49.686Z"
   },
   {
    "duration": 12,
    "start_time": "2023-02-16T06:34:49.710Z"
   },
   {
    "duration": 19,
    "start_time": "2023-02-16T06:34:49.723Z"
   },
   {
    "duration": 10,
    "start_time": "2023-02-16T06:34:49.744Z"
   },
   {
    "duration": 11,
    "start_time": "2023-02-16T06:34:49.756Z"
   },
   {
    "duration": 14,
    "start_time": "2023-02-16T06:34:49.768Z"
   },
   {
    "duration": 6,
    "start_time": "2023-02-16T06:34:49.784Z"
   },
   {
    "duration": 59,
    "start_time": "2023-02-16T06:34:49.792Z"
   },
   {
    "duration": 15,
    "start_time": "2023-02-16T06:34:49.852Z"
   },
   {
    "duration": 190,
    "start_time": "2023-02-16T06:34:49.870Z"
   },
   {
    "duration": 15547,
    "start_time": "2023-02-16T06:34:50.062Z"
   },
   {
    "duration": 5826,
    "start_time": "2023-02-16T06:35:05.613Z"
   },
   {
    "duration": 6,
    "start_time": "2023-02-16T06:35:11.440Z"
   },
   {
    "duration": 100,
    "start_time": "2023-02-16T06:35:11.448Z"
   },
   {
    "duration": 68,
    "start_time": "2023-02-16T06:35:11.550Z"
   },
   {
    "duration": 0,
    "start_time": "2023-02-16T06:35:11.620Z"
   },
   {
    "duration": 0,
    "start_time": "2023-02-16T06:35:11.621Z"
   },
   {
    "duration": 0,
    "start_time": "2023-02-16T06:35:11.623Z"
   },
   {
    "duration": 0,
    "start_time": "2023-02-16T06:35:11.624Z"
   },
   {
    "duration": 0,
    "start_time": "2023-02-16T06:35:11.625Z"
   },
   {
    "duration": 0,
    "start_time": "2023-02-16T06:35:11.626Z"
   },
   {
    "duration": 0,
    "start_time": "2023-02-16T06:35:11.627Z"
   },
   {
    "duration": 2766,
    "start_time": "2023-02-16T06:40:15.875Z"
   },
   {
    "duration": 2598,
    "start_time": "2023-02-16T06:40:18.643Z"
   },
   {
    "duration": 1027,
    "start_time": "2023-02-16T06:40:21.244Z"
   },
   {
    "duration": 41,
    "start_time": "2023-02-16T06:40:22.273Z"
   },
   {
    "duration": 22,
    "start_time": "2023-02-16T06:40:22.315Z"
   },
   {
    "duration": 15,
    "start_time": "2023-02-16T06:40:22.339Z"
   },
   {
    "duration": 13,
    "start_time": "2023-02-16T06:40:22.355Z"
   },
   {
    "duration": 16,
    "start_time": "2023-02-16T06:40:22.370Z"
   },
   {
    "duration": 11,
    "start_time": "2023-02-16T06:40:22.388Z"
   },
   {
    "duration": 11,
    "start_time": "2023-02-16T06:40:22.402Z"
   },
   {
    "duration": 21,
    "start_time": "2023-02-16T06:40:22.416Z"
   },
   {
    "duration": 23,
    "start_time": "2023-02-16T06:40:22.438Z"
   },
   {
    "duration": 8,
    "start_time": "2023-02-16T06:40:22.463Z"
   },
   {
    "duration": 18,
    "start_time": "2023-02-16T06:40:22.473Z"
   },
   {
    "duration": 15,
    "start_time": "2023-02-16T06:40:22.493Z"
   },
   {
    "duration": 14,
    "start_time": "2023-02-16T06:40:22.510Z"
   },
   {
    "duration": 8,
    "start_time": "2023-02-16T06:40:22.525Z"
   },
   {
    "duration": 24,
    "start_time": "2023-02-16T06:40:22.535Z"
   },
   {
    "duration": 29,
    "start_time": "2023-02-16T06:40:22.561Z"
   },
   {
    "duration": 17,
    "start_time": "2023-02-16T06:40:22.591Z"
   },
   {
    "duration": 24,
    "start_time": "2023-02-16T06:40:22.610Z"
   },
   {
    "duration": 38,
    "start_time": "2023-02-16T06:40:22.636Z"
   },
   {
    "duration": 17,
    "start_time": "2023-02-16T06:40:22.676Z"
   },
   {
    "duration": 49,
    "start_time": "2023-02-16T06:40:22.696Z"
   },
   {
    "duration": 18,
    "start_time": "2023-02-16T06:40:22.748Z"
   },
   {
    "duration": 215,
    "start_time": "2023-02-16T06:40:22.768Z"
   },
   {
    "duration": 15583,
    "start_time": "2023-02-16T06:40:22.985Z"
   },
   {
    "duration": 5380,
    "start_time": "2023-02-16T06:40:38.571Z"
   },
   {
    "duration": 6,
    "start_time": "2023-02-16T06:40:44.039Z"
   },
   {
    "duration": 92,
    "start_time": "2023-02-16T06:40:44.047Z"
   },
   {
    "duration": 19,
    "start_time": "2023-02-16T06:40:44.142Z"
   },
   {
    "duration": 57,
    "start_time": "2023-02-16T06:40:44.163Z"
   },
   {
    "duration": 308,
    "start_time": "2023-02-16T06:40:44.223Z"
   },
   {
    "duration": 7303,
    "start_time": "2023-02-16T06:40:44.537Z"
   },
   {
    "duration": 16642,
    "start_time": "2023-02-16T06:40:51.846Z"
   },
   {
    "duration": 0,
    "start_time": "2023-02-16T06:41:08.489Z"
   },
   {
    "duration": 0,
    "start_time": "2023-02-16T06:41:08.491Z"
   },
   {
    "duration": 0,
    "start_time": "2023-02-16T06:41:08.492Z"
   },
   {
    "duration": 2804,
    "start_time": "2023-02-16T06:43:52.659Z"
   },
   {
    "duration": 2345,
    "start_time": "2023-02-16T06:43:55.466Z"
   },
   {
    "duration": 1050,
    "start_time": "2023-02-16T06:43:57.813Z"
   },
   {
    "duration": 40,
    "start_time": "2023-02-16T06:43:58.865Z"
   },
   {
    "duration": 26,
    "start_time": "2023-02-16T06:43:58.907Z"
   },
   {
    "duration": 13,
    "start_time": "2023-02-16T06:43:58.934Z"
   },
   {
    "duration": 16,
    "start_time": "2023-02-16T06:43:58.949Z"
   },
   {
    "duration": 16,
    "start_time": "2023-02-16T06:43:58.967Z"
   },
   {
    "duration": 5,
    "start_time": "2023-02-16T06:43:58.985Z"
   },
   {
    "duration": 13,
    "start_time": "2023-02-16T06:43:58.993Z"
   },
   {
    "duration": 20,
    "start_time": "2023-02-16T06:43:59.007Z"
   },
   {
    "duration": 17,
    "start_time": "2023-02-16T06:43:59.029Z"
   },
   {
    "duration": 4,
    "start_time": "2023-02-16T06:43:59.048Z"
   },
   {
    "duration": 14,
    "start_time": "2023-02-16T06:43:59.053Z"
   },
   {
    "duration": 9,
    "start_time": "2023-02-16T06:43:59.068Z"
   },
   {
    "duration": 13,
    "start_time": "2023-02-16T06:43:59.078Z"
   },
   {
    "duration": 9,
    "start_time": "2023-02-16T06:43:59.092Z"
   },
   {
    "duration": 18,
    "start_time": "2023-02-16T06:43:59.102Z"
   },
   {
    "duration": 20,
    "start_time": "2023-02-16T06:43:59.122Z"
   },
   {
    "duration": 10,
    "start_time": "2023-02-16T06:43:59.143Z"
   },
   {
    "duration": 16,
    "start_time": "2023-02-16T06:43:59.155Z"
   },
   {
    "duration": 12,
    "start_time": "2023-02-16T06:43:59.172Z"
   },
   {
    "duration": 9,
    "start_time": "2023-02-16T06:43:59.186Z"
   },
   {
    "duration": 44,
    "start_time": "2023-02-16T06:43:59.197Z"
   },
   {
    "duration": 13,
    "start_time": "2023-02-16T06:43:59.242Z"
   },
   {
    "duration": 195,
    "start_time": "2023-02-16T06:43:59.256Z"
   },
   {
    "duration": 15367,
    "start_time": "2023-02-16T06:43:59.453Z"
   },
   {
    "duration": 6016,
    "start_time": "2023-02-16T06:44:14.823Z"
   },
   {
    "duration": 96,
    "start_time": "2023-02-16T06:44:20.842Z"
   },
   {
    "duration": 12,
    "start_time": "2023-02-16T06:44:20.941Z"
   },
   {
    "duration": 8,
    "start_time": "2023-02-16T06:44:20.956Z"
   },
   {
    "duration": 55,
    "start_time": "2023-02-16T06:44:20.967Z"
   },
   {
    "duration": 358,
    "start_time": "2023-02-16T06:44:21.024Z"
   },
   {
    "duration": 7083,
    "start_time": "2023-02-16T06:44:21.384Z"
   },
   {
    "duration": 39475,
    "start_time": "2023-02-16T06:44:28.539Z"
   },
   {
    "duration": 6,
    "start_time": "2023-02-16T06:45:08.015Z"
   },
   {
    "duration": 43,
    "start_time": "2023-02-16T06:45:08.022Z"
   },
   {
    "duration": 28,
    "start_time": "2023-02-16T06:45:08.067Z"
   },
   {
    "duration": 19592,
    "start_time": "2023-02-16T07:10:51.165Z"
   },
   {
    "duration": 2770,
    "start_time": "2023-02-16T07:11:28.463Z"
   },
   {
    "duration": 2519,
    "start_time": "2023-02-16T07:11:31.236Z"
   },
   {
    "duration": 1013,
    "start_time": "2023-02-16T07:11:33.758Z"
   },
   {
    "duration": 41,
    "start_time": "2023-02-16T07:11:34.774Z"
   },
   {
    "duration": 23,
    "start_time": "2023-02-16T07:11:34.817Z"
   },
   {
    "duration": 17,
    "start_time": "2023-02-16T07:11:34.841Z"
   },
   {
    "duration": 13,
    "start_time": "2023-02-16T07:11:34.860Z"
   },
   {
    "duration": 11,
    "start_time": "2023-02-16T07:11:34.875Z"
   },
   {
    "duration": 11,
    "start_time": "2023-02-16T07:11:34.888Z"
   },
   {
    "duration": 19,
    "start_time": "2023-02-16T07:11:34.902Z"
   },
   {
    "duration": 16,
    "start_time": "2023-02-16T07:11:34.923Z"
   },
   {
    "duration": 18,
    "start_time": "2023-02-16T07:11:34.941Z"
   },
   {
    "duration": 10,
    "start_time": "2023-02-16T07:11:34.961Z"
   },
   {
    "duration": 23,
    "start_time": "2023-02-16T07:11:34.973Z"
   },
   {
    "duration": 17,
    "start_time": "2023-02-16T07:11:34.997Z"
   },
   {
    "duration": 10,
    "start_time": "2023-02-16T07:11:35.016Z"
   },
   {
    "duration": 14,
    "start_time": "2023-02-16T07:11:35.028Z"
   },
   {
    "duration": 16,
    "start_time": "2023-02-16T07:11:35.044Z"
   },
   {
    "duration": 17,
    "start_time": "2023-02-16T07:11:35.063Z"
   },
   {
    "duration": 10,
    "start_time": "2023-02-16T07:11:35.082Z"
   },
   {
    "duration": 19,
    "start_time": "2023-02-16T07:11:35.093Z"
   },
   {
    "duration": 13,
    "start_time": "2023-02-16T07:11:35.114Z"
   },
   {
    "duration": 11,
    "start_time": "2023-02-16T07:11:35.129Z"
   },
   {
    "duration": 41,
    "start_time": "2023-02-16T07:11:35.141Z"
   },
   {
    "duration": 13,
    "start_time": "2023-02-16T07:11:35.184Z"
   },
   {
    "duration": 205,
    "start_time": "2023-02-16T07:11:35.199Z"
   },
   {
    "duration": 15306,
    "start_time": "2023-02-16T07:11:35.406Z"
   },
   {
    "duration": 5832,
    "start_time": "2023-02-16T07:11:50.715Z"
   },
   {
    "duration": 8,
    "start_time": "2023-02-16T07:11:56.639Z"
   },
   {
    "duration": 10,
    "start_time": "2023-02-16T07:11:56.738Z"
   },
   {
    "duration": 10,
    "start_time": "2023-02-16T07:11:56.750Z"
   },
   {
    "duration": 39,
    "start_time": "2023-02-16T07:11:56.762Z"
   },
   {
    "duration": 288,
    "start_time": "2023-02-16T07:11:56.803Z"
   },
   {
    "duration": 7152,
    "start_time": "2023-02-16T07:11:57.092Z"
   },
   {
    "duration": 307,
    "start_time": "2023-02-16T07:12:04.246Z"
   },
   {
    "duration": 0,
    "start_time": "2023-02-16T07:12:04.555Z"
   },
   {
    "duration": 0,
    "start_time": "2023-02-16T07:12:04.556Z"
   },
   {
    "duration": 231739,
    "start_time": "2023-02-16T07:12:22.152Z"
   },
   {
    "duration": 49935,
    "start_time": "2023-02-16T07:16:36.704Z"
   },
   {
    "duration": 285,
    "start_time": "2023-02-16T07:19:17.254Z"
   },
   {
    "duration": 3,
    "start_time": "2023-02-16T07:25:57.249Z"
   },
   {
    "duration": 14,
    "start_time": "2023-02-16T07:26:05.601Z"
   },
   {
    "duration": 476,
    "start_time": "2023-02-16T07:26:22.984Z"
   },
   {
    "duration": 456,
    "start_time": "2023-02-16T07:26:47.120Z"
   },
   {
    "duration": 12,
    "start_time": "2023-02-16T07:26:49.852Z"
   },
   {
    "duration": 409,
    "start_time": "2023-02-16T07:26:58.253Z"
   },
   {
    "duration": 11,
    "start_time": "2023-02-16T07:27:00.572Z"
   },
   {
    "duration": 364,
    "start_time": "2023-02-16T07:27:09.985Z"
   },
   {
    "duration": 25,
    "start_time": "2023-02-16T07:27:11.977Z"
   },
   {
    "duration": 378,
    "start_time": "2023-02-16T07:29:08.208Z"
   },
   {
    "duration": 25,
    "start_time": "2023-02-16T07:29:12.125Z"
   },
   {
    "duration": 371,
    "start_time": "2023-02-16T07:29:14.728Z"
   },
   {
    "duration": 23,
    "start_time": "2023-02-16T07:29:16.149Z"
   },
   {
    "duration": 391,
    "start_time": "2023-02-16T07:29:21.893Z"
   },
   {
    "duration": 24,
    "start_time": "2023-02-16T07:29:23.381Z"
   },
   {
    "duration": 78,
    "start_time": "2023-02-16T07:29:37.463Z"
   },
   {
    "duration": 50037,
    "start_time": "2023-02-16T07:29:41.061Z"
   },
   {
    "duration": 49900,
    "start_time": "2023-02-16T07:30:37.789Z"
   },
   {
    "duration": 33,
    "start_time": "2023-02-16T07:34:53.560Z"
   },
   {
    "duration": 4,
    "start_time": "2023-02-16T07:35:46.886Z"
   },
   {
    "duration": 7,
    "start_time": "2023-02-16T07:41:09.301Z"
   },
   {
    "duration": 8,
    "start_time": "2023-02-16T07:41:14.639Z"
   },
   {
    "duration": 8,
    "start_time": "2023-02-16T07:41:24.082Z"
   },
   {
    "duration": 8,
    "start_time": "2023-02-16T07:42:36.288Z"
   },
   {
    "duration": 7,
    "start_time": "2023-02-16T07:42:45.546Z"
   },
   {
    "duration": 9,
    "start_time": "2023-02-16T07:43:30.686Z"
   },
   {
    "duration": 8,
    "start_time": "2023-02-16T07:45:28.627Z"
   },
   {
    "duration": 8,
    "start_time": "2023-02-16T07:45:35.367Z"
   },
   {
    "duration": 8,
    "start_time": "2023-02-16T07:46:43.670Z"
   },
   {
    "duration": 4,
    "start_time": "2023-02-16T07:48:20.239Z"
   },
   {
    "duration": 9,
    "start_time": "2023-02-16T07:49:32.685Z"
   },
   {
    "duration": 25,
    "start_time": "2023-02-16T07:50:06.504Z"
   },
   {
    "duration": 7,
    "start_time": "2023-02-16T07:50:09.604Z"
   },
   {
    "duration": 26,
    "start_time": "2023-02-16T07:50:12.661Z"
   },
   {
    "duration": 6,
    "start_time": "2023-02-16T07:51:22.037Z"
   },
   {
    "duration": 6,
    "start_time": "2023-02-16T07:51:42.697Z"
   },
   {
    "duration": 22,
    "start_time": "2023-02-16T08:05:04.786Z"
   },
   {
    "duration": 3017,
    "start_time": "2023-02-16T08:33:31.851Z"
   },
   {
    "duration": 2526,
    "start_time": "2023-02-16T08:33:34.871Z"
   },
   {
    "duration": 1108,
    "start_time": "2023-02-16T08:33:37.399Z"
   },
   {
    "duration": 40,
    "start_time": "2023-02-16T08:33:38.509Z"
   },
   {
    "duration": 30,
    "start_time": "2023-02-16T08:33:38.551Z"
   },
   {
    "duration": 37,
    "start_time": "2023-02-16T08:33:38.583Z"
   },
   {
    "duration": 14,
    "start_time": "2023-02-16T08:33:38.622Z"
   },
   {
    "duration": 22,
    "start_time": "2023-02-16T08:33:38.638Z"
   },
   {
    "duration": 26,
    "start_time": "2023-02-16T08:33:38.662Z"
   },
   {
    "duration": 37,
    "start_time": "2023-02-16T08:33:38.692Z"
   },
   {
    "duration": 23,
    "start_time": "2023-02-16T08:33:38.731Z"
   },
   {
    "duration": 37,
    "start_time": "2023-02-16T08:33:38.756Z"
   },
   {
    "duration": 16,
    "start_time": "2023-02-16T08:33:38.795Z"
   },
   {
    "duration": 36,
    "start_time": "2023-02-16T08:33:38.813Z"
   },
   {
    "duration": 82,
    "start_time": "2023-02-16T08:33:38.851Z"
   },
   {
    "duration": 42,
    "start_time": "2023-02-16T08:33:38.935Z"
   },
   {
    "duration": 18,
    "start_time": "2023-02-16T08:33:38.979Z"
   },
   {
    "duration": 28,
    "start_time": "2023-02-16T08:33:38.999Z"
   },
   {
    "duration": 45,
    "start_time": "2023-02-16T08:33:39.028Z"
   },
   {
    "duration": 21,
    "start_time": "2023-02-16T08:33:39.075Z"
   },
   {
    "duration": 39,
    "start_time": "2023-02-16T08:33:39.097Z"
   },
   {
    "duration": 54,
    "start_time": "2023-02-16T08:33:39.137Z"
   },
   {
    "duration": 28,
    "start_time": "2023-02-16T08:33:39.192Z"
   },
   {
    "duration": 51,
    "start_time": "2023-02-16T08:33:39.222Z"
   },
   {
    "duration": 13,
    "start_time": "2023-02-16T08:33:39.275Z"
   },
   {
    "duration": 223,
    "start_time": "2023-02-16T08:33:39.290Z"
   },
   {
    "duration": 15858,
    "start_time": "2023-02-16T08:33:39.515Z"
   },
   {
    "duration": 5574,
    "start_time": "2023-02-16T08:33:55.377Z"
   },
   {
    "duration": 87,
    "start_time": "2023-02-16T08:34:00.953Z"
   },
   {
    "duration": 106,
    "start_time": "2023-02-16T08:34:01.043Z"
   },
   {
    "duration": 35,
    "start_time": "2023-02-16T08:34:01.151Z"
   },
   {
    "duration": 59,
    "start_time": "2023-02-16T08:34:01.188Z"
   },
   {
    "duration": 333,
    "start_time": "2023-02-16T08:34:01.249Z"
   },
   {
    "duration": 6872,
    "start_time": "2023-02-16T08:34:01.584Z"
   },
   {
    "duration": 34434,
    "start_time": "2023-02-16T10:45:17.800Z"
   },
   {
    "duration": 15011,
    "start_time": "2023-02-16T10:45:52.299Z"
   },
   {
    "duration": 3691,
    "start_time": "2023-02-16T10:46:07.311Z"
   },
   {
    "duration": 111,
    "start_time": "2023-02-16T10:46:11.013Z"
   },
   {
    "duration": 189,
    "start_time": "2023-02-16T10:46:11.132Z"
   },
   {
    "duration": 95,
    "start_time": "2023-02-16T10:46:11.326Z"
   },
   {
    "duration": 481,
    "start_time": "2023-02-16T10:46:11.435Z"
   },
   {
    "duration": 103,
    "start_time": "2023-02-16T10:46:11.928Z"
   },
   {
    "duration": 198,
    "start_time": "2023-02-16T10:46:12.103Z"
   },
   {
    "duration": 299,
    "start_time": "2023-02-16T10:46:12.308Z"
   },
   {
    "duration": 108,
    "start_time": "2023-02-16T10:46:12.608Z"
   },
   {
    "duration": 94,
    "start_time": "2023-02-16T10:46:12.718Z"
   },
   {
    "duration": 12,
    "start_time": "2023-02-16T10:46:12.813Z"
   },
   {
    "duration": 380,
    "start_time": "2023-02-16T10:46:12.827Z"
   },
   {
    "duration": 198,
    "start_time": "2023-02-16T10:46:13.209Z"
   },
   {
    "duration": 296,
    "start_time": "2023-02-16T10:46:13.409Z"
   },
   {
    "duration": 29,
    "start_time": "2023-02-16T10:46:13.706Z"
   },
   {
    "duration": 212,
    "start_time": "2023-02-16T10:46:13.799Z"
   },
   {
    "duration": 386,
    "start_time": "2023-02-16T10:46:14.013Z"
   },
   {
    "duration": 129,
    "start_time": "2023-02-16T10:46:14.401Z"
   },
   {
    "duration": 281,
    "start_time": "2023-02-16T10:46:14.532Z"
   },
   {
    "duration": 390,
    "start_time": "2023-02-16T10:46:14.815Z"
   },
   {
    "duration": 14,
    "start_time": "2023-02-16T10:46:15.207Z"
   },
   {
    "duration": 591,
    "start_time": "2023-02-16T10:46:15.231Z"
   },
   {
    "duration": 92,
    "start_time": "2023-02-16T10:46:15.827Z"
   },
   {
    "duration": 814,
    "start_time": "2023-02-16T10:46:15.999Z"
   },
   {
    "duration": 86277,
    "start_time": "2023-02-16T10:46:16.830Z"
   },
   {
    "duration": 9188,
    "start_time": "2023-02-16T10:47:43.115Z"
   },
   {
    "duration": 7,
    "start_time": "2023-02-16T10:47:52.305Z"
   },
   {
    "duration": 287,
    "start_time": "2023-02-16T10:47:52.314Z"
   },
   {
    "duration": 103,
    "start_time": "2023-02-16T10:47:52.602Z"
   },
   {
    "duration": 394,
    "start_time": "2023-02-16T10:47:52.720Z"
   },
   {
    "duration": 1205,
    "start_time": "2023-02-16T10:47:53.119Z"
   },
   {
    "duration": 10881,
    "start_time": "2023-02-16T10:47:54.332Z"
   },
   {
    "duration": 263632,
    "start_time": "2023-02-16T10:48:05.215Z"
   },
   {
    "duration": 1891,
    "start_time": "2023-02-16T10:52:28.912Z"
   },
   {
    "duration": 38,
    "start_time": "2023-02-16T10:52:30.809Z"
   },
   {
    "duration": 304,
    "start_time": "2023-02-16T10:52:30.904Z"
   },
   {
    "duration": 328,
    "start_time": "2023-02-16T10:52:31.213Z"
   },
   {
    "duration": 213,
    "start_time": "2023-02-16T10:52:31.601Z"
   }
  ],
  "kernelspec": {
   "display_name": "Python 3 (ipykernel)",
   "language": "python",
   "name": "python3"
  },
  "language_info": {
   "codemirror_mode": {
    "name": "ipython",
    "version": 3
   },
   "file_extension": ".py",
   "mimetype": "text/x-python",
   "name": "python",
   "nbconvert_exporter": "python",
   "pygments_lexer": "ipython3",
   "version": "3.9.12"
  },
  "toc": {
   "base_numbering": 1,
   "nav_menu": {},
   "number_sections": true,
   "sideBar": true,
   "skip_h1_title": true,
   "title_cell": "Содержание",
   "title_sidebar": "Contents",
   "toc_cell": true,
   "toc_position": {},
   "toc_section_display": true,
   "toc_window_display": false
  }
 },
 "nbformat": 4,
 "nbformat_minor": 2
}
